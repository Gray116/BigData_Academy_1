{
 "cells": [
  {
   "cell_type": "code",
   "execution_count": 14,
   "id": "e743cf22",
   "metadata": {},
   "outputs": [
    {
     "data": {
      "text/html": [
       "\n",
       "<style>\n",
       "div.Container {width:85% !important;}\n",
       "div.CodeMirror {font-family:Consolas; font-size:13pt;}\n",
       "div.output {font-size:13pt; font-weight : bold;}\n",
       "div.input {font-family:Consolas; font-size:13pt;}\n",
       "</style>\n"
      ],
      "text/plain": [
       "<IPython.core.display.HTML object>"
      ]
     },
     "metadata": {},
     "output_type": "display_data"
    }
   ],
   "source": [
    "from IPython.display import display, HTML\n",
    "display(HTML(\"\"\"\n",
    "<style>\n",
    "div.Container {width:85% !important;}\n",
    "div.CodeMirror {font-family:Consolas; font-size:13pt;}\n",
    "div.output {font-size:13pt; font-weight : bold;}\n",
    "div.input {font-family:Consolas; font-size:13pt;}\n",
    "</style>\n",
    "\"\"\"))"
   ]
  },
  {
   "cell_type": "code",
   "execution_count": 1,
   "id": "da07dd43",
   "metadata": {},
   "outputs": [],
   "source": [
    "import warnings\n",
    "warnings.filterwarnings(action = 'ignore')\n",
    "\n",
    "import numpy as np # 1. 데이터 셋\n",
    "import pandas as pd\n",
    "\n",
    "from sklearn.preprocessing import MinMaxScaler # 2. 데이터 전처리\n",
    "from sklearn.model_selection import train_test_split\n",
    "\n",
    "from tensorflow.keras.models import Sequential # 3. 모델 생성\n",
    "from tensorflow.keras.layers import Input, Dense, Dropout\n",
    "from tensorflow.keras import metrics\n",
    "from tensorflow.keras.callbacks import EarlyStopping\n",
    "\n",
    "from matplotlib import pyplot as plt # 4. 모델 학습 & 평가"
   ]
  },
  {
   "cell_type": "code",
   "execution_count": 2,
   "id": "3f3ee080",
   "metadata": {},
   "outputs": [
    {
     "name": "stdout",
     "output_type": "stream",
     "text": [
      "타겟변수가 될 와인 등급의 종류 : [5 6 7 4 8 3]\n"
     ]
    }
   ],
   "source": [
    "# ▶ 1. 데이터 셋 준비하기\n",
    "redWine = pd.read_csv('data/winequality-red.csv', sep = ';')\n",
    "\n",
    "redWine_x = redWine.iloc[:, :-1].to_numpy()\n",
    "redWine_y = redWine.iloc[:, -1]\n",
    "\n",
    "print('타겟변수가 될 와인 등급의 종류 :', redWine_y.unique())"
   ]
  },
  {
   "cell_type": "code",
   "execution_count": 3,
   "id": "bc1ffd86",
   "metadata": {},
   "outputs": [
    {
     "data": {
      "text/plain": [
       "array([[0, 0, 1, 0, 0, 0],\n",
       "       [0, 0, 1, 0, 0, 0],\n",
       "       [0, 0, 1, 0, 0, 0],\n",
       "       ...,\n",
       "       [0, 0, 0, 1, 0, 0],\n",
       "       [0, 0, 1, 0, 0, 0],\n",
       "       [0, 0, 0, 1, 0, 0]], dtype=uint8)"
      ]
     },
     "execution_count": 3,
     "metadata": {},
     "output_type": "execute_result"
    }
   ],
   "source": [
    "# ▶ 2. 데이터 전처리\n",
    "# 예측(입력)변수 scale 조정\n",
    "# from sklearn.preprocessing import StandardScaler\n",
    "scaler = MinMaxScaler()\n",
    "scaler.fit(redWine_x)\n",
    "redWine_x = scaler.transform(redWine_x)\n",
    "\n",
    "# 결과(타겟)변수 원-핫 인코딩(라벨링 전환) 후 numpy 배열로 변환\n",
    "redWine_y = pd.get_dummies(redWine_y).to_numpy()\n",
    "\n",
    "redWine_y"
   ]
  },
  {
   "cell_type": "code",
   "execution_count": 4,
   "id": "1cf32769",
   "metadata": {},
   "outputs": [
    {
     "name": "stdout",
     "output_type": "stream",
     "text": [
      "(1119, 11) (1119, 6) (480, 11) (480, 6)\n"
     ]
    }
   ],
   "source": [
    "# 훈련셋과 검증셋\n",
    "train_X, test_X, train_Y, test_Y = train_test_split(redWine_x, redWine_y, test_size = 0.3, \n",
    "                                                    random_state = 1)\n",
    "\n",
    "print(train_X.shape, train_Y.shape, test_X.shape, test_Y.shape)"
   ]
  },
  {
   "cell_type": "code",
   "execution_count": 5,
   "id": "41822f21",
   "metadata": {
    "scrolled": true
   },
   "outputs": [
    {
     "name": "stdout",
     "output_type": "stream",
     "text": [
      "WARNING:tensorflow:Please add `keras.layers.InputLayer` instead of `keras.Input` to Sequential model. `keras.Input` is intended to be used by Functional model.\n",
      "Epoch 1/50\n",
      "5/5 [==============================] - 0s 36ms/step - loss: 1.7746 - accuracy: 0.1430 - val_loss: 1.7080 - val_accuracy: 0.1741\n",
      "Epoch 2/50\n",
      "5/5 [==============================] - 0s 6ms/step - loss: 1.6732 - accuracy: 0.2771 - val_loss: 1.6091 - val_accuracy: 0.3705\n",
      "Epoch 3/50\n",
      "5/5 [==============================] - 0s 14ms/step - loss: 1.5717 - accuracy: 0.4000 - val_loss: 1.5136 - val_accuracy: 0.3661\n",
      "Epoch 4/50\n",
      "5/5 [==============================] - 0s 6ms/step - loss: 1.4740 - accuracy: 0.4034 - val_loss: 1.4164 - val_accuracy: 0.3750\n",
      "Epoch 5/50\n",
      "5/5 [==============================] - 0s 6ms/step - loss: 1.3783 - accuracy: 0.3966 - val_loss: 1.3333 - val_accuracy: 0.3795\n",
      "Epoch 6/50\n",
      "5/5 [==============================] - 0s 6ms/step - loss: 1.3003 - accuracy: 0.4313 - val_loss: 1.2733 - val_accuracy: 0.3482\n",
      "Epoch 7/50\n",
      "5/5 [==============================] - 0s 6ms/step - loss: 1.2361 - accuracy: 0.4078 - val_loss: 1.2427 - val_accuracy: 0.3884\n",
      "Epoch 8/50\n",
      "5/5 [==============================] - 0s 5ms/step - loss: 1.2082 - accuracy: 0.4380 - val_loss: 1.2335 - val_accuracy: 0.4062\n",
      "Epoch 9/50\n",
      "5/5 [==============================] - 0s 6ms/step - loss: 1.2013 - accuracy: 0.4380 - val_loss: 1.2327 - val_accuracy: 0.5000\n",
      "Epoch 10/50\n",
      "5/5 [==============================] - 0s 6ms/step - loss: 1.1992 - accuracy: 0.4380 - val_loss: 1.2320 - val_accuracy: 0.5089\n",
      "Epoch 11/50\n",
      "5/5 [==============================] - 0s 6ms/step - loss: 1.1949 - accuracy: 0.4313 - val_loss: 1.2250 - val_accuracy: 0.5268\n",
      "Epoch 12/50\n",
      "5/5 [==============================] - 0s 6ms/step - loss: 1.1973 - accuracy: 0.4458 - val_loss: 1.2175 - val_accuracy: 0.5268\n",
      "Epoch 13/50\n",
      "5/5 [==============================] - 0s 5ms/step - loss: 1.1822 - accuracy: 0.4536 - val_loss: 1.2126 - val_accuracy: 0.5446\n",
      "Epoch 14/50\n",
      "5/5 [==============================] - 0s 6ms/step - loss: 1.1812 - accuracy: 0.4983 - val_loss: 1.2075 - val_accuracy: 0.5491\n",
      "Epoch 15/50\n",
      "5/5 [==============================] - 0s 6ms/step - loss: 1.1750 - accuracy: 0.5162 - val_loss: 1.1979 - val_accuracy: 0.5759\n",
      "Epoch 16/50\n",
      "5/5 [==============================] - 0s 5ms/step - loss: 1.1664 - accuracy: 0.5229 - val_loss: 1.1869 - val_accuracy: 0.5446\n",
      "Epoch 17/50\n",
      "5/5 [==============================] - 0s 6ms/step - loss: 1.1592 - accuracy: 0.5196 - val_loss: 1.1772 - val_accuracy: 0.5491\n",
      "Epoch 18/50\n",
      "5/5 [==============================] - 0s 5ms/step - loss: 1.1515 - accuracy: 0.5039 - val_loss: 1.1618 - val_accuracy: 0.5312\n",
      "Epoch 19/50\n",
      "5/5 [==============================] - 0s 6ms/step - loss: 1.1333 - accuracy: 0.5229 - val_loss: 1.1459 - val_accuracy: 0.5625\n",
      "Epoch 20/50\n",
      "5/5 [==============================] - 0s 5ms/step - loss: 1.1260 - accuracy: 0.5274 - val_loss: 1.1327 - val_accuracy: 0.5536\n",
      "Epoch 21/50\n",
      "5/5 [==============================] - 0s 6ms/step - loss: 1.1046 - accuracy: 0.5419 - val_loss: 1.1159 - val_accuracy: 0.5580\n",
      "Epoch 22/50\n",
      "5/5 [==============================] - 0s 6ms/step - loss: 1.0912 - accuracy: 0.5374 - val_loss: 1.0990 - val_accuracy: 0.5670\n",
      "Epoch 23/50\n",
      "5/5 [==============================] - 0s 6ms/step - loss: 1.0827 - accuracy: 0.5363 - val_loss: 1.0832 - val_accuracy: 0.5580\n",
      "Epoch 24/50\n",
      "5/5 [==============================] - 0s 6ms/step - loss: 1.0580 - accuracy: 0.5285 - val_loss: 1.0725 - val_accuracy: 0.5580\n",
      "Epoch 25/50\n",
      "5/5 [==============================] - 0s 6ms/step - loss: 1.0506 - accuracy: 0.5408 - val_loss: 1.0563 - val_accuracy: 0.5714\n",
      "Epoch 26/50\n",
      "5/5 [==============================] - 0s 5ms/step - loss: 1.0430 - accuracy: 0.5274 - val_loss: 1.0465 - val_accuracy: 0.5670\n",
      "Epoch 27/50\n",
      "5/5 [==============================] - 0s 6ms/step - loss: 1.0260 - accuracy: 0.5520 - val_loss: 1.0428 - val_accuracy: 0.5625\n",
      "Epoch 28/50\n",
      "5/5 [==============================] - 0s 5ms/step - loss: 1.0220 - accuracy: 0.5453 - val_loss: 1.0250 - val_accuracy: 0.5759\n",
      "Epoch 29/50\n",
      "5/5 [==============================] - 0s 6ms/step - loss: 1.0118 - accuracy: 0.5508 - val_loss: 1.0171 - val_accuracy: 0.5759\n",
      "Epoch 30/50\n",
      "5/5 [==============================] - 0s 5ms/step - loss: 1.0083 - accuracy: 0.5531 - val_loss: 1.0128 - val_accuracy: 0.5759\n",
      "Epoch 31/50\n",
      "5/5 [==============================] - 0s 5ms/step - loss: 1.0059 - accuracy: 0.5687 - val_loss: 1.0101 - val_accuracy: 0.5759\n",
      "Epoch 32/50\n",
      "5/5 [==============================] - 0s 5ms/step - loss: 0.9946 - accuracy: 0.5765 - val_loss: 0.9984 - val_accuracy: 0.5670\n",
      "Epoch 33/50\n",
      "5/5 [==============================] - 0s 5ms/step - loss: 0.9874 - accuracy: 0.5575 - val_loss: 0.9999 - val_accuracy: 0.5804\n",
      "Epoch 34/50\n",
      "5/5 [==============================] - 0s 5ms/step - loss: 0.9966 - accuracy: 0.5788 - val_loss: 1.0002 - val_accuracy: 0.5759\n",
      "Epoch 35/50\n",
      "5/5 [==============================] - 0s 6ms/step - loss: 0.9836 - accuracy: 0.5709 - val_loss: 0.9894 - val_accuracy: 0.5759\n",
      "Epoch 36/50\n",
      "5/5 [==============================] - 0s 6ms/step - loss: 0.9802 - accuracy: 0.5799 - val_loss: 0.9956 - val_accuracy: 0.5848\n",
      "Epoch 37/50\n",
      "5/5 [==============================] - 0s 6ms/step - loss: 0.9781 - accuracy: 0.5810 - val_loss: 0.9819 - val_accuracy: 0.5938\n",
      "Epoch 38/50\n",
      "5/5 [==============================] - 0s 6ms/step - loss: 0.9785 - accuracy: 0.5788 - val_loss: 0.9789 - val_accuracy: 0.5848\n",
      "Epoch 39/50\n",
      "5/5 [==============================] - 0s 6ms/step - loss: 0.9721 - accuracy: 0.5844 - val_loss: 0.9872 - val_accuracy: 0.5982\n",
      "Epoch 40/50\n",
      "5/5 [==============================] - 0s 5ms/step - loss: 0.9767 - accuracy: 0.6011 - val_loss: 0.9821 - val_accuracy: 0.5982\n",
      "Epoch 41/50\n",
      "5/5 [==============================] - 0s 6ms/step - loss: 0.9659 - accuracy: 0.6000 - val_loss: 0.9746 - val_accuracy: 0.5938\n",
      "Epoch 42/50\n",
      "5/5 [==============================] - 0s 6ms/step - loss: 0.9674 - accuracy: 0.6056 - val_loss: 0.9770 - val_accuracy: 0.5982\n",
      "Epoch 43/50\n",
      "5/5 [==============================] - 0s 5ms/step - loss: 0.9703 - accuracy: 0.5911 - val_loss: 0.9727 - val_accuracy: 0.6027\n",
      "Epoch 44/50\n",
      "5/5 [==============================] - 0s 5ms/step - loss: 0.9710 - accuracy: 0.6000 - val_loss: 0.9694 - val_accuracy: 0.5982\n",
      "Epoch 45/50\n",
      "5/5 [==============================] - 0s 5ms/step - loss: 0.9556 - accuracy: 0.5944 - val_loss: 0.9668 - val_accuracy: 0.6071\n",
      "Epoch 46/50\n",
      "5/5 [==============================] - 0s 6ms/step - loss: 0.9537 - accuracy: 0.5899 - val_loss: 0.9660 - val_accuracy: 0.5982\n",
      "Epoch 47/50\n",
      "5/5 [==============================] - 0s 6ms/step - loss: 0.9587 - accuracy: 0.5966 - val_loss: 0.9659 - val_accuracy: 0.6027\n",
      "Epoch 48/50\n",
      "5/5 [==============================] - 0s 6ms/step - loss: 0.9667 - accuracy: 0.5832 - val_loss: 0.9635 - val_accuracy: 0.5938\n",
      "Epoch 49/50\n",
      "5/5 [==============================] - 0s 5ms/step - loss: 0.9609 - accuracy: 0.5832 - val_loss: 0.9653 - val_accuracy: 0.6116\n",
      "Epoch 50/50\n",
      "5/5 [==============================] - 0s 6ms/step - loss: 0.9602 - accuracy: 0.6078 - val_loss: 0.9607 - val_accuracy: 0.6027\n"
     ]
    },
    {
     "data": {
      "image/png": "[encoded data removed]",
      "text/plain": [
       "<Figure size 1152x648 with 2 Axes>"
      ]
     },
     "metadata": {
      "needs_background": "light"
     },
     "output_type": "display_data"
    }
   ],
   "source": [
    "# ▶ 3. 모델 구성\n",
    "model = Sequential()\n",
    "model.add(Input(11)) # input_dim만 지정되어 있는 레이어\n",
    "\n",
    "model.add(Dense(units = 50, activation = 'relu'))\n",
    "model.add(Dense(units = 50, activation = 'relu'))\n",
    "model.add(Dropout(0.1))\n",
    "\n",
    "model.add(Dense(units = 30, activation = 'relu'))\n",
    "model.add(Dense(units = 6, activation = 'softmax'))\n",
    "\n",
    "\n",
    "# ▶ 4. 모델 학습과정 설정\n",
    "model.compile(loss = 'categorical_crossentropy', \n",
    "              optimizer = 'adam', \n",
    "              metrics = ['accuracy'])\n",
    "\n",
    "\n",
    "# ▶ 5. 모델 학습\n",
    "earlyStopping = EarlyStopping(patience = 20, monitor = 'val_loss')\n",
    "hist = model.fit(train_X, train_Y, epochs = 50, batch_size = 200,\n",
    "                 verbose = 1, callbacks = [earlyStopping], validation_split = 0.2)\n",
    "\n",
    "\n",
    "# ▶ 6. 모델 학습과정 표시하기\n",
    "fig, loss_ax = plt.subplots(figsize = (16, 9))\n",
    "\n",
    "loss_ax.plot(hist.history['loss'], 'y', label = 'train loss')\n",
    "loss_ax.plot(hist.history['val_loss'], 'g', label = 'val_loss')\n",
    "\n",
    "loss_ax.set_xlabel('epochs')\n",
    "loss_ax.set_ylabel('loss')\n",
    "loss_ax.legend(loc = 'upper left')\n",
    "\n",
    "acc_ax = loss_ax.twinx()\n",
    "acc_ax.plot(hist.history['accuracy'], 'b', label = 'accuracy')\n",
    "acc_ax.plot(hist.history['val_accuracy'], 'r', label = 'val_accuracy')\n",
    "\n",
    "acc_ax.set_ylabel('accuracy')\n",
    "acc_ax.legend(loc = 'lower left')\n",
    "\n",
    "plt.show()"
   ]
  },
  {
   "cell_type": "code",
   "execution_count": 6,
   "id": "e1820658",
   "metadata": {},
   "outputs": [
    {
     "name": "stdout",
     "output_type": "stream",
     "text": [
      "15/15 [==============================] - 0s 2ms/step - loss: 0.9514 - accuracy: 0.5875\n",
      "Loss : 95.14 %\n",
      "Accuracy : 58.75 %\n"
     ]
    }
   ],
   "source": [
    "# ▶ 7. 모델 평가 및 성능지표\n",
    "loss_and_acc = model.evaluate(test_X, test_Y)\n",
    "\n",
    "print('Loss :', round(loss_and_acc[0]*100, 2), '%')\n",
    "print('Accuracy :', round(loss_and_acc[1]*100, 2), '%')"
   ]
  },
  {
   "cell_type": "code",
   "execution_count": 11,
   "id": "96de9aba",
   "metadata": {},
   "outputs": [
    {
     "data": {
      "text/html": [
       "<div>\n",
       "<style scoped>\n",
       "    .dataframe tbody tr th:only-of-type {\n",
       "        vertical-align: middle;\n",
       "    }\n",
       "\n",
       "    .dataframe tbody tr th {\n",
       "        vertical-align: top;\n",
       "    }\n",
       "\n",
       "    .dataframe thead th {\n",
       "        text-align: right;\n",
       "    }\n",
       "</style>\n",
       "<table border=\"1\" class=\"dataframe\">\n",
       "  <thead>\n",
       "    <tr style=\"text-align: right;\">\n",
       "      <th>predict</th>\n",
       "      <th>5</th>\n",
       "      <th>6</th>\n",
       "      <th>7</th>\n",
       "    </tr>\n",
       "    <tr>\n",
       "      <th>real</th>\n",
       "      <th></th>\n",
       "      <th></th>\n",
       "      <th></th>\n",
       "    </tr>\n",
       "  </thead>\n",
       "  <tbody>\n",
       "    <tr>\n",
       "      <th>3</th>\n",
       "      <td>2</td>\n",
       "      <td>0</td>\n",
       "      <td>0</td>\n",
       "    </tr>\n",
       "    <tr>\n",
       "      <th>4</th>\n",
       "      <td>12</td>\n",
       "      <td>8</td>\n",
       "      <td>1</td>\n",
       "    </tr>\n",
       "    <tr>\n",
       "      <th>5</th>\n",
       "      <td>160</td>\n",
       "      <td>46</td>\n",
       "      <td>1</td>\n",
       "    </tr>\n",
       "    <tr>\n",
       "      <th>6</th>\n",
       "      <td>68</td>\n",
       "      <td>106</td>\n",
       "      <td>21</td>\n",
       "    </tr>\n",
       "    <tr>\n",
       "      <th>7</th>\n",
       "      <td>4</td>\n",
       "      <td>32</td>\n",
       "      <td>16</td>\n",
       "    </tr>\n",
       "    <tr>\n",
       "      <th>8</th>\n",
       "      <td>0</td>\n",
       "      <td>1</td>\n",
       "      <td>2</td>\n",
       "    </tr>\n",
       "  </tbody>\n",
       "</table>\n",
       "</div>"
      ],
      "text/plain": [
       "predict    5    6   7\n",
       "real                 \n",
       "3          2    0   0\n",
       "4         12    8   1\n",
       "5        160   46   1\n",
       "6         68  106  21\n",
       "7          4   32  16\n",
       "8          0    1   2"
      ]
     },
     "execution_count": 11,
     "metadata": {},
     "output_type": "execute_result"
    }
   ],
   "source": [
    "# 성능 지표 (crosstab)\n",
    "pred = model.predict(test_X).argmax(axis = 1)+3\n",
    "# pred = np.argmax(model.predict(test_X), axis = 1)+3\n",
    "\n",
    "# real = test_Y.armax(axis = 1)+3\n",
    "real = np.argmax(test_Y, axis = 1)+3\n",
    "\n",
    "cross_tab = pd.crosstab(real, pred)\n",
    "cross_tab.index.name = 'real'\n",
    "cross_tab.columns.name = 'predict'\n",
    "\n",
    "cross_tab"
   ]
  },
  {
   "cell_type": "code",
   "execution_count": 12,
   "id": "85a13ae1",
   "metadata": {},
   "outputs": [
    {
     "data": {
      "text/plain": [
       "array([5], dtype=int64)"
      ]
     },
     "execution_count": 12,
     "metadata": {},
     "output_type": "execute_result"
    }
   ],
   "source": [
    "# 모델 사용하기\n",
    "input_data = np.array([7.4, 0.7, 0,\n",
    "                       1.0, 0.076, 11,\n",
    "                       34, 0.9978, 3.51,\n",
    "                       0.56, 9.4])\n",
    "\n",
    "scaled_data = scaler.transform(input_data.reshape(1, 11))\n",
    "np.argmax(model.predict(scaled_data), axis = 1) + 3"
   ]
  }
 ],
 "metadata": {
  "kernelspec": {
   "display_name": "Python 3",
   "language": "python",
   "name": "python3"
  },
  "language_info": {
   "codemirror_mode": {
    "name": "ipython",
    "version": 3
   },
   "file_extension": ".py",
   "mimetype": "text/x-python",
   "name": "python",
   "nbconvert_exporter": "python",
   "pygments_lexer": "ipython3",
   "version": "3.8.8"
  },
  "toc": {
   "base_numbering": 1,
   "nav_menu": {},
   "number_sections": false,
   "sideBar": true,
   "skip_h1_title": false,
   "title_cell": "Table of Contents",
   "title_sidebar": "Contents",
   "toc_cell": false,
   "toc_position": {
    "height": "calc(100% - 180px)",
    "left": "10px",
    "top": "150px",
    "width": "248px"
   },
   "toc_section_display": true,
   "toc_window_display": true
  },
  "varInspector": {
   "cols": {
    "lenName": 16,
    "lenType": 16,
    "lenVar": 40
   },
   "kernels_config": {
    "python": {
     "delete_cmd_postfix": "",
     "delete_cmd_prefix": "del ",
     "library": "var_list.py",
     "varRefreshCmd": "print(var_dic_list())"
    },
    "r": {
     "delete_cmd_postfix": ") ",
     "delete_cmd_prefix": "rm(",
     "library": "var_list.r",
     "varRefreshCmd": "cat(var_dic_list()) "
    }
   },
   "position": {
    "height": "442px",
    "left": "1550px",
    "right": "20px",
    "top": "120px",
    "width": "350px"
   },
   "types_to_exclude": [
    "module",
    "function",
    "builtin_function_or_method",
    "instance",
    "_Feature"
   ],
   "window_display": true
  }
 },
 "nbformat": 4,
 "nbformat_minor": 5
}
