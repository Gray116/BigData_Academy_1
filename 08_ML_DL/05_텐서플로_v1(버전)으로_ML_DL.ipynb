{
 "cells": [
  {
   "cell_type": "code",
   "execution_count": 3,
   "id": "779fc02b",
   "metadata": {},
   "outputs": [
    {
     "data": {
      "text/html": [
       "\n",
       "<style>\n",
       "div.Container {width:85% !important;}\n",
       "div.CodeMirror {font-family:NanumGothic; font-size:13pt; line-height : 150%;}\n",
       "div.output_area pre {font-family:NanumGothic; font-size:13pt; line-height : 150%;}\n",
       "div.output_wrapper pre {font-family:NanumGothic; font-size:13pt; line-height : 150%;}\n",
       "div.input {font-family:NanumGothic; font-size:13pt; line-height : 150%;}\n",
       "</style>\n"
      ],
      "text/plain": [
       "<IPython.core.display.HTML object>"
      ]
     },
     "metadata": {},
     "output_type": "display_data"
    }
   ],
   "source": [
    "from IPython.display import display, HTML\n",
    "display(HTML(\"\"\"\n",
    "<style>\n",
    "div.Container {width:85% !important;}\n",
    "div.CodeMirror {font-family:NanumGothic; font-size:13pt; line-height : 150%;}\n",
    "div.output_area pre {font-family:NanumGothic; font-size:13pt; line-height : 150%;}\n",
    "div.output_wrapper pre {font-family:NanumGothic; font-size:13pt; line-height : 150%;}\n",
    "div.input {font-family:NanumGothic; font-size:13pt; line-height : 150%;}\n",
    "</style>\n",
    "\"\"\"))"
   ]
  },
  {
   "cell_type": "markdown",
   "id": "9c082a3e",
   "metadata": {},
   "source": [
    "# 1절. 텐서플로우 v2.x에서 v1 사용하기"
   ]
  },
  {
   "cell_type": "code",
   "execution_count": 3,
   "id": "af1b78d6",
   "metadata": {},
   "outputs": [
    {
     "name": "stdout",
     "output_type": "stream",
     "text": [
      "WARNING:tensorflow:From C:\\Users\\tjoeun\\anaconda3\\lib\\site-packages\\tensorflow\\python\\compat\\v2_compat.py:96: disable_resource_variables (from tensorflow.python.ops.variable_scope) is deprecated and will be removed in a future version.\n",
      "Instructions for updating:\n",
      "non-resource variables are not supported in the long term\n"
     ]
    }
   ],
   "source": [
    "import tensorflow.compat.v1 as tf\n",
    "tf.disable_v2_behavior()\n",
    "# v1으로 사용하기"
   ]
  },
  {
   "cell_type": "code",
   "execution_count": 8,
   "id": "b3b46f59",
   "metadata": {},
   "outputs": [
    {
     "name": "stdout",
     "output_type": "stream",
     "text": [
      "b'Hello, Tensorflow'\n",
      "Hello, Tensorflow\n"
     ]
    }
   ],
   "source": [
    "# tensor = 데이터(상수 or 변수)와의 연산\n",
    "node1 = tf.constant('Hello, Tensorflow')\n",
    "sess = tf.Session()\n",
    "\n",
    "print(sess.run(node1))\n",
    "print(sess.run(node1).decode())"
   ]
  },
  {
   "cell_type": "code",
   "execution_count": 10,
   "id": "5e63eead",
   "metadata": {},
   "outputs": [
    {
     "name": "stdout",
     "output_type": "stream",
     "text": [
      "[10.0, 20.0, 200.0]\n"
     ]
    }
   ],
   "source": [
    "# 간단한 수학 연산을 수행하는 그래프\n",
    "# tensorflow(그래프) 정의\n",
    "node1 = tf.constant(10, dtype = tf.float32)\n",
    "node2 = tf.constant(20, dtype = tf.float32)\n",
    "node3 = tf.multiply(node1, node2)\n",
    "\n",
    "# 그래프(dataflow) 실행\n",
    "sess = tf.Session()\n",
    "print(sess.run([node1, node2, node3]))\n",
    "\n",
    "sess.close() # 세션을 종료하면 실행 안됌"
   ]
  },
  {
   "cell_type": "markdown",
   "id": "358cf052",
   "metadata": {},
   "source": [
    "## 1.1 Tensorflow\n",
    "- 그래프 정의\n",
    "- tf.Session()으로 그래프를 실행\n",
    "- tf.Session().run()을 통해 값을 확인할 수 있다."
   ]
  },
  {
   "cell_type": "code",
   "execution_count": 4,
   "id": "b2cea5d7",
   "metadata": {},
   "outputs": [
    {
     "name": "stdout",
     "output_type": "stream",
     "text": [
      "[array([1., 2., 3.], dtype=float32), array([1, 2, 3], dtype=int16)]\n"
     ]
    }
   ],
   "source": [
    "import numpy as np\n",
    "node1 = tf.constant(np.array([1, 2, 3]), dtype = tf.int16)\n",
    "node2 = tf.cast(node1, dtype = tf.float32)\n",
    "\n",
    "sess = tf.Session()\n",
    "print(sess.run([node2, node1]))"
   ]
  },
  {
   "cell_type": "code",
   "execution_count": 14,
   "id": "54a18f1b",
   "metadata": {},
   "outputs": [
    {
     "name": "stdout",
     "output_type": "stream",
     "text": [
      "2.5\n"
     ]
    }
   ],
   "source": [
    "data = np.array([1., 2., 3., 4.])\n",
    "m = tf.reduce_mean(data) # reduce_mean : 평균값을 계산\n",
    "\n",
    "sess = tf.Session()\n",
    "print(sess.run(m))"
   ]
  },
  {
   "cell_type": "code",
   "execution_count": 5,
   "id": "61278553",
   "metadata": {},
   "outputs": [
    {
     "data": {
      "image/png": "[encoded data removed]",
      "text/plain": [
       "<Figure size 1152x648 with 1 Axes>"
      ]
     },
     "metadata": {
      "needs_background": "light"
     },
     "output_type": "display_data"
    }
   ],
   "source": [
    "import matplotlib.pyplot as plt\n",
    "tensor = tf.random_normal([100]) # random_normal([n]) : 평균이 0이고 표준편차가 1인 난수 n개\n",
    "\n",
    "sess = tf.Session()\n",
    "plt.figure(figsize=(16, 9))\n",
    "plt.hist(sess.run(tensor), density=True)\n",
    "plt.show()"
   ]
  },
  {
   "cell_type": "code",
   "execution_count": 16,
   "id": "6314c3e6",
   "metadata": {},
   "outputs": [
    {
     "name": "stdout",
     "output_type": "stream",
     "text": [
      "[-1.0060248  -0.8494362   0.12582402  0.02392836  0.09966019  0.34531108\n",
      "  2.1020906  -1.6774117   0.71676975 -2.2179077  -0.8930714  -0.76224226\n",
      "  0.28509548  0.38672593 -0.22033471  0.81866324 -1.2979717   0.70301205\n",
      " -1.072252    0.7674525  -0.5393061  -0.6748825  -1.1213626   0.6872892\n",
      " -0.18835163 -0.5359765  -1.1514037  -0.35852823 -1.2067589  -0.06232808\n",
      "  1.0620517  -1.026557    1.7229863  -0.0837846  -0.7762997  -0.52146435\n",
      "  0.7918603   0.67891467 -0.61271054 -0.25714654 -2.0897944   0.8489527\n",
      "  1.2267942   1.6568959   0.9164015   1.1788082   0.4991103  -0.79172975\n",
      "  0.61763597  1.3481576   0.8019778   0.14130507  0.38504377  0.01596939\n",
      "  0.58109885 -0.92298764  0.5403347  -0.05086141  1.383156    0.4600732\n",
      "  1.821972   -0.7466049  -0.42010862 -0.05353698  0.09034897 -0.04064781\n",
      " -0.2251907   1.0361061   1.1729265   0.18645221  0.16155066 -0.82685834\n",
      " -0.49961248  1.2488016  -1.3360324   0.05711879  0.6774283  -2.0494506\n",
      " -0.64153785  1.2809995   0.2793782   0.01058828  0.54269433  0.34570247\n",
      "  1.6801258   0.642868    0.5367802  -0.82129127  1.5400304   0.27737355\n",
      "  0.64774114 -2.1165998  -0.05224308  0.11444682 -1.1687641  -0.7077755\n",
      "  1.2226069   0.9425257   0.09919549 -0.98449606]\n"
     ]
    }
   ],
   "source": [
    "print(sess.run(tensor))"
   ]
  },
  {
   "cell_type": "markdown",
   "id": "097cae5d",
   "metadata": {},
   "source": [
    "# 2절. Tensorflow v1을 이용한 Linear Regression을 구현"
   ]
  },
  {
   "cell_type": "markdown",
   "id": "808fbee5",
   "metadata": {},
   "source": [
    "## 2.1 예측(독립)변수 x가 한개일 때"
   ]
  },
  {
   "cell_type": "code",
   "execution_count": 24,
   "id": "6ee89efb",
   "metadata": {
    "scrolled": true
   },
   "outputs": [
    {
     "name": "stdout",
     "output_type": "stream",
     "text": [
      "300번째 cost : 0.014500155113637447\n",
      "W : [0.86047983]\n",
      "b : [0.31716207]\n",
      "600번째 cost : 0.0034214460756629705\n",
      "W : [0.9322272]\n",
      "b : [0.1540636]\n",
      "900번째 cost : 0.0008073213393799961\n",
      "W : [0.9670789]\n",
      "b : [0.07483736]\n",
      "1200번째 cost : 0.0001904949313029647\n",
      "W : [0.98400843]\n",
      "b : [0.03635266]\n",
      "1500번째 cost : 4.49491199105978e-05\n",
      "W : [0.99223197]\n",
      "b : [0.01765858]\n",
      "1800번째 cost : 1.0605911484162789e-05\n",
      "W : [0.9962267]\n",
      "b : [0.00857757]\n",
      "2100번째 cost : 2.50254811362538e-06\n",
      "W : [0.9981671]\n",
      "b : [0.0041666]\n",
      "2400번째 cost : 5.905947091378039e-07\n",
      "W : [0.9991095]\n",
      "b : [0.00202411]\n",
      "2700번째 cost : 1.3947912691492093e-07\n",
      "W : [0.9995672]\n",
      "b : [0.00098376]\n",
      "3000번째 cost : 3.300721473920021e-08\n",
      "W : [0.9997895]\n",
      "b : [0.00047852]\n",
      "3300번째 cost : 7.835746274054145e-09\n",
      "W : [0.99989724]\n",
      "b : [0.00023307]\n",
      "3600번째 cost : 1.8736407980668446e-09\n",
      "W : [0.99994963]\n",
      "b : [0.00011397]\n",
      "3900번째 cost : 4.566572953113024e-10\n",
      "W : [0.99997514]\n",
      "b : [5.6132376e-05]\n",
      "4200번째 cost : 1.0324865962196839e-10\n",
      "W : [0.9999882]\n",
      "b : [2.67902e-05]\n",
      "4500번째 cost : 2.7687007200793978e-11\n",
      "W : [0.9999938]\n",
      "b : [1.3807596e-05]\n",
      "4800번째 cost : 1.0066124149499256e-11\n",
      "W : [0.9999962]\n",
      "b : [8.22134e-06]\n",
      "5100번째 cost : 5.1824655677989995e-12\n",
      "W : [0.9999972]\n",
      "b : [5.8250725e-06]\n",
      "5400번째 cost : 3.793243063404672e-12\n",
      "W : [0.9999976]\n",
      "b : [4.827835e-06]\n",
      "5700번째 cost : 3.24325353899535e-12\n",
      "W : [0.99999774]\n",
      "b : [4.4946455e-06]\n",
      "6000번째 cost : 3.243232722313638e-12\n",
      "W : [0.99999774]\n",
      "b : [4.4902276e-06]\n"
     ]
    }
   ],
   "source": [
    "# tensor graph 정의\n",
    "# data set (x = 예측변수, y = 결과변수(실제값))\n",
    "x = np.array([1, 2, 3])\n",
    "y = np.array([1, 2, 3])\n",
    "\n",
    "# Weight(기울기)와 bias(절편)\n",
    "# bias(처음에는 랜덤 값 셋팅, 추후 학습과정에서 변경)\n",
    "W = tf.Variable(tf.random.normal([1]), name = 'weight')\n",
    "b = tf.Variable(tf.random.normal([1]), name = 'bias')\n",
    "\n",
    "# Hypothesis (예측치)\n",
    "H = (W*x) + b\n",
    "\n",
    "# cost function(최소 제곱법)\n",
    "cost = tf.reduce_mean(tf.square(H - y))\n",
    "\n",
    "# 목적 : cost가 최소가 되는 W와 b를 찾는 것\n",
    "'''\n",
    "cost함수는 제곱의 평균인 2차함수(곡선). 곡선 위 미분값이 줄어드는 방향으로 학습\n",
    "'''\n",
    "optimizer = tf.train.GradientDescentOptimizer(learning_rate = 0.01) # learning_rate : 얼만큼 줄일지\n",
    "train = optimizer.minimize(cost) # optimizer가 최소가 되도록 cost를 최소화해라\n",
    "\n",
    "# Session\n",
    "sess = tf.Session()\n",
    "\n",
    "# Variable 노드(W, b) 초기화\n",
    "sess.run(tf.global_variables_initializer())\n",
    "\n",
    "# # 6000번 학습\n",
    "# # v2에서는 fit함수\n",
    "# for step in range(1, 6001):\n",
    "#     sess.run(train)\n",
    "#     if step%300 == 0:\n",
    "#         print('{}번째 학습\\ncost : {}\\nW값 : {}\\nb값 : {}'.format(step, sess.run(cost), sess.run(W), sess.run(b)))\n",
    "        \n",
    "for step in range(1, 6001):\n",
    "    _, cost_val, W_val, b_val = sess.run([train, cost, W, b])\n",
    "    if step%300 == 0:\n",
    "        print('{}번째 cost : {}\\nW : {}\\nb : {}'.format(step, cost_val, W_val, b_val))"
   ]
  },
  {
   "cell_type": "code",
   "execution_count": 25,
   "id": "e2c617ca",
   "metadata": {},
   "outputs": [
    {
     "data": {
      "text/plain": [
       "[array([0.99999774], dtype=float32), array([4.4902276e-06], dtype=float32)]"
      ]
     },
     "execution_count": 25,
     "metadata": {},
     "output_type": "execute_result"
    }
   ],
   "source": [
    "sess.run([W, b])"
   ]
  },
  {
   "cell_type": "code",
   "execution_count": 26,
   "id": "48d8ca0c",
   "metadata": {},
   "outputs": [],
   "source": [
    "W_, b_ = sess.run([W, b])"
   ]
  },
  {
   "cell_type": "code",
   "execution_count": 27,
   "id": "64f329db",
   "metadata": {},
   "outputs": [
    {
     "name": "stdout",
     "output_type": "stream",
     "text": [
      "최종적으로 나온 회귀식\n",
      "H = (0.9999977350234985*x) + 4.490227638598299e-06\n"
     ]
    }
   ],
   "source": [
    "# 최종 회귀식\n",
    "print('최종적으로 나온 회귀식\\nH = ({}*x) + {}'.format(W_[0], b_[0]))"
   ]
  },
  {
   "cell_type": "code",
   "execution_count": 28,
   "id": "8d78ed51",
   "metadata": {},
   "outputs": [
    {
     "name": "stdout",
     "output_type": "stream",
     "text": [
      "1번째 cost : 45997.59375\n",
      "W : 100.0\n",
      "b : [0.6544556]\n",
      "101번째 cost : 114.50919342041016\n",
      "W : 13.4290771484375\n",
      "b : [-28.252445]\n",
      "201번째 cost : 70.75975799560547\n",
      "W : 10.769876480102539\n",
      "b : [-22.209227]\n",
      "301번째 cost : 43.725215911865234\n",
      "W : 8.680012702941895\n",
      "b : [-17.458473]\n",
      "401번째 cost : 27.01951026916504\n",
      "W : 7.037188529968262\n",
      "b : [-13.723948]\n",
      "501번째 cost : 16.696413040161133\n",
      "W : 5.745779991149902\n",
      "b : [-10.788273]\n",
      "601번째 cost : 10.317375183105469\n",
      "W : 4.730616092681885\n",
      "b : [-8.480567]\n",
      "701번째 cost : 6.375513553619385\n",
      "W : 3.932605266571045\n",
      "b : [-6.6665006]\n",
      "801번째 cost : 3.9396822452545166\n",
      "W : 3.30529522895813\n",
      "b : [-5.2404776]\n",
      "901번째 cost : 2.4344840049743652\n",
      "W : 2.8121719360351562\n",
      "b : [-4.119493]\n",
      "1001번째 cost : 1.5043634176254272\n",
      "W : 2.424532413482666\n",
      "b : [-3.238297]\n",
      "1101번째 cost : 0.9296047687530518\n",
      "W : 2.11981201171875\n",
      "b : [-2.545596]\n",
      "1201번째 cost : 0.5744389295578003\n",
      "W : 1.8802741765975952\n",
      "b : [-2.0010698]\n",
      "1301번째 cost : 0.354968398809433\n",
      "W : 1.6919755935668945\n",
      "b : [-1.5730232]\n",
      "1401번째 cost : 0.21934878826141357\n",
      "W : 1.543955683708191\n",
      "b : [-1.2365394]\n",
      "1501번째 cost : 0.13554424047470093\n",
      "W : 1.4275988340377808\n",
      "b : [-0.97203267]\n",
      "1601번째 cost : 0.0837581530213356\n",
      "W : 1.3361318111419678\n",
      "b : [-0.7641066]\n",
      "1701번째 cost : 0.051757410168647766\n",
      "W : 1.2642301321029663\n",
      "b : [-0.6006571]\n",
      "1801번째 cost : 0.03198292851448059\n",
      "W : 1.2077088356018066\n",
      "b : [-0.47217113]\n",
      "1901번째 cost : 0.01976347155869007\n",
      "W : 1.1632779836654663\n",
      "b : [-0.3711693]\n",
      "2001번째 cost : 0.01221263688057661\n",
      "W : 1.1283513307571411\n",
      "b : [-0.29177287]\n",
      "2101번째 cost : 0.00754667678847909\n",
      "W : 1.1008960008621216\n",
      "b : [-0.22936013]\n",
      "2201번째 cost : 0.00466339522972703\n",
      "W : 1.0793133974075317\n",
      "b : [-0.18029815]\n",
      "2301번째 cost : 0.0028816910926252604\n",
      "W : 1.0623477697372437\n",
      "b : [-0.14173076]\n",
      "2401번째 cost : 0.0017807147232815623\n",
      "W : 1.0490108728408813\n",
      "b : [-0.11141334]\n",
      "2501번째 cost : 0.0011003757826983929\n",
      "W : 1.038527011871338\n",
      "b : [-0.08758122]\n",
      "2601번째 cost : 0.0006799621623940766\n",
      "W : 1.0302857160568237\n",
      "b : [-0.06884675]\n",
      "2701번째 cost : 0.00042017505620606244\n",
      "W : 1.023807406425476\n",
      "b : [-0.05411979]\n",
      "2801번째 cost : 0.000259641237789765\n",
      "W : 1.0187146663665771\n",
      "b : [-0.04254292]\n",
      "2901번째 cost : 0.00016044169024098665\n",
      "W : 1.0147113800048828\n",
      "b : [-0.03344253]\n",
      "3001번째 cost : 9.91431952570565e-05\n",
      "W : 1.0115646123886108\n",
      "b : [-0.02628892]\n",
      "3101번째 cost : 6.126515654614195e-05\n",
      "W : 1.009090781211853\n",
      "b : [-0.02066567]\n",
      "3201번째 cost : 3.785881926887669e-05\n",
      "W : 1.0071463584899902\n",
      "b : [-0.01624512]\n",
      "3301번째 cost : 2.33949158428004e-05\n",
      "W : 1.005617618560791\n",
      "b : [-0.01277032]\n",
      "3401번째 cost : 1.4457492397923488e-05\n",
      "W : 1.0044162273406982\n",
      "b : [-0.01003888]\n",
      "3501번째 cost : 8.934161996876355e-06\n",
      "W : 1.0034716129302979\n",
      "b : [-0.00789161]\n",
      "3601번째 cost : 5.521146249520825e-06\n",
      "W : 1.002729058265686\n",
      "b : [-0.00620365]\n",
      "3701번째 cost : 3.411984607737395e-06\n",
      "W : 1.0021454095840454\n",
      "b : [-0.00487677]\n",
      "3801번째 cost : 2.1085334083181806e-06\n",
      "W : 1.0016865730285645\n",
      "b : [-0.00383378]\n",
      "3901번째 cost : 1.3031835806032177e-06\n",
      "W : 1.0013259649276733\n",
      "b : [-0.00301406]\n"
     ]
    }
   ],
   "source": [
    "# tensor graph 정의\n",
    "x = np.array([1, 2, 3])\n",
    "y = [1, 2, 3]\n",
    "\n",
    "# Weight와 bias\n",
    "W = tf.Variable(100.0, name = 'weight')\n",
    "b = tf.Variable(tf.random.normal([1]), name = 'bias')\n",
    "\n",
    "# Hypothesis\n",
    "H = (W * x) + b\n",
    "\n",
    "# cost (최소제곱법)\n",
    "cost = tf.reduce_mean(tf.square(H - y))\n",
    "train = tf.train.GradientDescentOptimizer(learning_rate = 0.01).minimize(cost)\n",
    "\n",
    "# session\n",
    "sess = tf.Session()\n",
    "\n",
    "# b노드 초기화\n",
    "sess.run(tf.global_variables_initializer())\n",
    "\n",
    "# 4000번 학습\n",
    "for step in range(1, 4001):\n",
    "    cost_val, W_val, b_val = sess.run([cost, W, b])\n",
    "    if step%100 == 1:\n",
    "        print(\"{}번째 cost : {}\\nW : {}\\nb : {}\".format(step, cost_val, W_val, b_val))\n",
    "    \n",
    "    sess.run(train)"
   ]
  },
  {
   "cell_type": "markdown",
   "id": "14323886",
   "metadata": {},
   "source": [
    "## 2.2 예측을 하기 위한 placeholder 이용"
   ]
  },
  {
   "cell_type": "code",
   "execution_count": 29,
   "id": "615db7ac",
   "metadata": {},
   "outputs": [
    {
     "data": {
      "text/plain": [
       "30.0"
      ]
     },
     "execution_count": 29,
     "metadata": {},
     "output_type": "execute_result"
    }
   ],
   "source": [
    "# placeholder 이용\n",
    "a = tf.placeholder(tf.float32)\n",
    "b = tf.placeholder(tf.float32)\n",
    "\n",
    "# ab = tf.add(a, b)\n",
    "ab = a + b\n",
    "sess = tf.Session()\n",
    "\n",
    "# placeholder는 그래프 실행단계에서 값을 설정해야한다.\n",
    "sess.run(ab, feed_dict = {a:10, b:20})"
   ]
  },
  {
   "cell_type": "code",
   "execution_count": 30,
   "id": "73dc4c10",
   "metadata": {},
   "outputs": [
    {
     "data": {
      "text/plain": [
       "array([1., 2., 3.], dtype=float32)"
      ]
     },
     "execution_count": 30,
     "metadata": {},
     "output_type": "execute_result"
    }
   ],
   "source": [
    "sess.run(a, feed_dict = {a:[1, 2, 3]})"
   ]
  },
  {
   "cell_type": "code",
   "execution_count": 31,
   "id": "56c7df23",
   "metadata": {},
   "outputs": [
    {
     "data": {
      "text/plain": [
       "array([11., 22., 33.], dtype=float32)"
      ]
     },
     "execution_count": 31,
     "metadata": {},
     "output_type": "execute_result"
    }
   ],
   "source": [
    "sess.run(ab, feed_dict={a : np.array([10, 20, 30]), \n",
    "                        b : np.array([1, 2, 3])})"
   ]
  },
  {
   "cell_type": "code",
   "execution_count": 33,
   "id": "a276fe48",
   "metadata": {},
   "outputs": [
    {
     "name": "stdout",
     "output_type": "stream",
     "text": [
      "1번째 cost : 28.563405990600586\n",
      "W : [1.452598]\n",
      "b : [-0.6612966]\n",
      "\n",
      "201번째 cost : 0.4520893096923828\n",
      "W : [2.7790456]\n",
      "b : [1.2290463]\n",
      "\n",
      "401번째 cost : 0.17263013124465942\n",
      "W : [2.481403]\n",
      "b : [1.9056579]\n",
      "\n",
      "601번째 cost : 0.06591879576444626\n",
      "W : [2.2974782]\n",
      "b : [2.3237622]\n",
      "\n",
      "801번째 cost : 0.02517084777355194\n",
      "W : [2.1838233]\n",
      "b : [2.5821269]\n",
      "\n",
      "1001번째 cost : 0.009611527435481548\n",
      "W : [2.1135917]\n",
      "b : [2.741779]\n",
      "\n",
      "1201번째 cost : 0.0036701911594718695\n",
      "W : [2.070193]\n",
      "b : [2.8404346]\n",
      "\n",
      "1401번째 cost : 0.0014014128828421235\n",
      "W : [2.0433745]\n",
      "b : [2.9013996]\n",
      "\n",
      "1601번째 cost : 0.0005351274739950895\n",
      "W : [2.0268025]\n",
      "b : [2.939071]\n",
      "\n",
      "1801번째 cost : 0.0002043433632934466\n",
      "W : [2.0165627]\n",
      "b : [2.962349]\n",
      "\n",
      "2001번째 cost : 7.802453910699114e-05\n",
      "W : [2.0102348]\n",
      "b : [2.9767342]\n",
      "\n",
      "2201번째 cost : 2.9794297006446868e-05\n",
      "W : [2.0063245]\n",
      "b : [2.9856226]\n",
      "\n",
      "2401번째 cost : 1.1379092029528692e-05\n",
      "W : [2.0039082]\n",
      "b : [2.9911156]\n",
      "\n",
      "2601번째 cost : 4.346763034845935e-06\n",
      "W : [2.0024157]\n",
      "b : [2.994509]\n",
      "\n",
      "2801번째 cost : 1.661839974076429e-06\n",
      "W : [2.0014942]\n",
      "b : [2.9966047]\n",
      "\n",
      "3001번째 cost : 6.359166491165524e-07\n",
      "W : [2.0009243]\n",
      "b : [2.9978993]\n",
      "\n",
      "3201번째 cost : 2.4443042434540985e-07\n",
      "W : [2.000573]\n",
      "b : [2.9986978]\n",
      "\n",
      "3401번째 cost : 9.365643194314544e-08\n",
      "W : [2.0003545]\n",
      "b : [2.999194]\n",
      "\n",
      "3601번째 cost : 3.641313739422003e-08\n",
      "W : [2.0002215]\n",
      "b : [2.9994974]\n",
      "\n",
      "3801번째 cost : 1.4187283348121582e-08\n",
      "W : [2.0001385]\n",
      "b : [2.999686]\n",
      "\n",
      "4001번째 cost : 5.755888654590535e-09\n",
      "W : [2.000087]\n",
      "b : [2.9998]\n",
      "\n",
      "4201번째 cost : 2.202796167694032e-09\n",
      "W : [2.0000544]\n",
      "b : [2.9998763]\n",
      "\n",
      "4401번째 cost : 8.298381426463664e-10\n",
      "W : [2.0000339]\n",
      "b : [2.999924]\n",
      "\n",
      "4601번째 cost : 4.848364487664014e-10\n",
      "W : [2.000026]\n",
      "b : [2.999942]\n",
      "\n",
      "4801번째 cost : 4.848364487664014e-10\n",
      "W : [2.000026]\n",
      "b : [2.999942]\n",
      "\n",
      "5001번째 cost : 4.848364487664014e-10\n",
      "W : [2.000026]\n",
      "b : [2.999942]\n",
      "\n",
      "5201번째 cost : 4.848364487664014e-10\n",
      "W : [2.000026]\n",
      "b : [2.999942]\n",
      "\n",
      "5401번째 cost : 4.848364487664014e-10\n",
      "W : [2.000026]\n",
      "b : [2.999942]\n",
      "\n",
      "5601번째 cost : 4.848364487664014e-10\n",
      "W : [2.000026]\n",
      "b : [2.999942]\n",
      "\n",
      "5801번째 cost : 4.848364487664014e-10\n",
      "W : [2.000026]\n",
      "b : [2.999942]\n",
      "\n"
     ]
    }
   ],
   "source": [
    "# data set (H = 2x + 3)\n",
    "x_data = np.array([1, 2, 3])\n",
    "y_data = [5, 7, 9]\n",
    "\n",
    "# placeholder 설정\n",
    "x = tf.placeholder(dtype = tf.float32)\n",
    "y = tf.placeholder(dtype = tf.float32)\n",
    "\n",
    "# Weight & bias\n",
    "W = tf.Variable(tf.random.normal([1]), name = 'weight')\n",
    "b = tf.Variable(tf.random.normal([1]), name = 'bias')\n",
    "\n",
    "# Hypothesis\n",
    "H = (W * x) + b # 여기서 x는 tensor\n",
    "\n",
    "# cost function\n",
    "cost = tf.reduce_mean(tf.square(H - y))\n",
    "\n",
    "# 경사하강법\n",
    "optimizer = tf.train.GradientDescentOptimizer(learning_rate = 0.01)\n",
    "train = optimizer.minimize(cost)\n",
    "\n",
    "# Session & Variable 초기화\n",
    "sess = tf.Session()\n",
    "sess.run(tf.global_variables_initializer())\n",
    "\n",
    "# 학습\n",
    "for step in range(1, 6001):\n",
    "    _, cost_val, W_val, b_val = sess.run([train, cost, W, b], # _만 있는건 필요없는 값\n",
    "                                         feed_dict = {x : x_data,\n",
    "                                                      y : y_data}) \n",
    "    \n",
    "    if (step % 200) == 1:\n",
    "        print('{}번째 cost : {}\\nW : {}\\nb : {}\\n'.format(step, cost_val, W_val, b_val))"
   ]
  },
  {
   "cell_type": "code",
   "execution_count": 35,
   "id": "2d7f289e",
   "metadata": {},
   "outputs": [
    {
     "data": {
      "text/plain": [
       "array([ 4.999968, 23.000202, 43.00046 ], dtype=float32)"
      ]
     },
     "execution_count": 35,
     "metadata": {},
     "output_type": "execute_result"
    }
   ],
   "source": [
    "# 학습된 모델로 부터 예측값 받아보기\n",
    "sess.run(H, feed_dict = {x : np.array([1, 10, 20])})"
   ]
  },
  {
   "cell_type": "markdown",
   "id": "f6f9e498",
   "metadata": {},
   "source": [
    "## 2.3 scale이 다른 데이터들의 Linear Regression을 구현"
   ]
  },
  {
   "cell_type": "code",
   "execution_count": 122,
   "id": "a8e0d39b",
   "metadata": {
    "scrolled": true
   },
   "outputs": [
    {
     "name": "stdout",
     "output_type": "stream",
     "text": [
      "1번째 cost : 0.5370861291885376\n",
      "W : [0.00717284]\n",
      "b : [-0.07213259]\n",
      "\n",
      "201번째 cost : 0.04171537607908249\n",
      "W : [0.55237395]\n",
      "b : [0.29540426]\n",
      "\n",
      "401번째 cost : 0.022330760955810547\n",
      "W : [0.7262805]\n",
      "b : [0.20775376]\n",
      "\n",
      "601번째 cost : 0.014711776748299599\n",
      "W : [0.8342817]\n",
      "b : [0.15073588]\n",
      "\n",
      "801번째 cost : 0.011714348569512367\n",
      "W : [0.9020162]\n",
      "b : [0.11495956]\n",
      "\n",
      "1001번째 cost : 0.010535121895372868\n",
      "W : [0.9445009]\n",
      "b : [0.09251956]\n",
      "\n",
      "1201번째 cost : 0.01007118634879589\n",
      "W : [0.971149]\n",
      "b : [0.0784445]\n",
      "\n",
      "1401번째 cost : 0.009888678789138794\n",
      "W : [0.987863]\n",
      "b : [0.06961631]\n",
      "\n",
      "1601번째 cost : 0.00981687568128109\n",
      "W : [0.99834657]\n",
      "b : [0.06407904]\n",
      "\n",
      "1801번째 cost : 0.009788624942302704\n",
      "W : [1.0049222]\n",
      "b : [0.06060589]\n",
      "\n",
      "2001번째 cost : 0.009777511470019817\n",
      "W : [1.0090464]\n",
      "b : [0.05842742]\n",
      "\n",
      "2201번째 cost : 0.009773136116564274\n",
      "W : [1.0116333]\n",
      "b : [0.05706111]\n",
      "\n",
      "2401번째 cost : 0.009771415963768959\n",
      "W : [1.0132561]\n",
      "b : [0.05620404]\n",
      "\n",
      "2601번째 cost : 0.009770744480192661\n",
      "W : [1.0142738]\n",
      "b : [0.05566654]\n",
      "\n",
      "2801번째 cost : 0.009770473465323448\n",
      "W : [1.0149118]\n",
      "b : [0.05532941]\n",
      "\n",
      "3001번째 cost : 0.009770371951162815\n",
      "W : [1.0153122]\n",
      "b : [0.05511791]\n",
      "\n",
      "3201번째 cost : 0.009770330972969532\n",
      "W : [1.0155631]\n",
      "b : [0.05498536]\n",
      "\n",
      "3401번째 cost : 0.009770311415195465\n",
      "W : [1.01572]\n",
      "b : [0.05490229]\n",
      "\n",
      "3601번째 cost : 0.009770308621227741\n",
      "W : [1.0158182]\n",
      "b : [0.05485029]\n",
      "\n",
      "3801번째 cost : 0.009770303964614868\n",
      "W : [1.0158787]\n",
      "b : [0.05481818]\n",
      "\n",
      "4001번째 cost : 0.009770305827260017\n",
      "W : [1.015917]\n",
      "b : [0.05479767]\n",
      "\n",
      "4201번째 cost : 0.009770305827260017\n",
      "W : [1.0159408]\n",
      "b : [0.05478602]\n",
      "\n",
      "4401번째 cost : 0.009770301170647144\n",
      "W : [1.0159605]\n",
      "b : [0.05477563]\n",
      "\n",
      "4601번째 cost : 0.009770303033292294\n",
      "W : [1.0159649]\n",
      "b : [0.05477227]\n",
      "\n",
      "4801번째 cost : 0.009770302101969719\n",
      "W : [1.0159657]\n",
      "b : [0.05477163]\n",
      "\n",
      "5001번째 cost : 0.009770302101969719\n",
      "W : [1.0159657]\n",
      "b : [0.05477163]\n",
      "\n",
      "5201번째 cost : 0.009770302101969719\n",
      "W : [1.0159657]\n",
      "b : [0.05477163]\n",
      "\n",
      "5401번째 cost : 0.009770302101969719\n",
      "W : [1.0159657]\n",
      "b : [0.05477163]\n",
      "\n",
      "5601번째 cost : 0.009770302101969719\n",
      "W : [1.0159657]\n",
      "b : [0.05477163]\n",
      "\n",
      "5801번째 cost : 0.009770302101969719\n",
      "W : [1.0159657]\n",
      "b : [0.05477163]\n",
      "\n"
     ]
    }
   ],
   "source": [
    "# ▶ scale이 다르면 cost값이 어느 일정한 값에서 더이상 줄지 않는다.\n",
    "x_data = np.array([1, 2, 5, 8, 10]).reshape(-1, 1)\n",
    "y_data = np.array([5, 15, 68, 80, 95]).reshape(-1, 1)\n",
    "\n",
    "from sklearn.preprocessing import MinMaxScaler\n",
    "scale_x = MinMaxScaler()\n",
    "scale_x.fit(x_data)\n",
    "x_data = scale_x.transform(x_data)\n",
    "\n",
    "scaler_y = MinMaxScaler()\n",
    "scaler_y.fit(y_data)\n",
    "y_data = scaler_y.transform(y_data)\n",
    "\n",
    "# placeholder 설정\n",
    "x = tf.placeholder(dtype = tf.float32)\n",
    "y = tf.placeholder(dtype = tf.float32)\n",
    "\n",
    "# Weight & bias\n",
    "W = tf.Variable(tf.random.normal([1]), name = 'weight')\n",
    "b = tf.Variable(tf.random.normal([1]), name = 'bias')\n",
    "\n",
    "# Hypothesis\n",
    "H = (W * x) + b # 여기서 x는 tensor\n",
    "\n",
    "# cost function\n",
    "cost = tf.reduce_mean(tf.square(H - y))\n",
    "\n",
    "# 경사하강법\n",
    "optimizer = tf.train.GradientDescentOptimizer(learning_rate = 0.01)\n",
    "train = optimizer.minimize(cost)\n",
    "\n",
    "# Session & Variable 초기화\n",
    "sess = tf.Session()\n",
    "sess.run(tf.global_variables_initializer())\n",
    "\n",
    "# 학습\n",
    "for step in range(1, 6001):\n",
    "    _, cost_val, W_val, b_val = sess.run([train, cost, W, b], # _만 있는건 필요없는 값\n",
    "                                         feed_dict = {x : x_data,\n",
    "                                                      y : y_data}) \n",
    "    \n",
    "    if (step % 200) == 1:\n",
    "        print('{}번째 cost : {}\\nW : {}\\nb : {}\\n'.format(step, cost_val, W_val, b_val))"
   ]
  },
  {
   "cell_type": "code",
   "execution_count": 124,
   "id": "6c018d4d",
   "metadata": {},
   "outputs": [
    {
     "data": {
      "text/plain": [
       "array([[20.089104]], dtype=float32)"
      ]
     },
     "execution_count": 124,
     "metadata": {},
     "output_type": "execute_result"
    }
   ],
   "source": [
    "scaled_input = scale_x.transform(np.array([[2]]))\n",
    "scaler_y.inverse_transform(sess.run(H, feed_dict = {x:scaled_input}))"
   ]
  },
  {
   "cell_type": "code",
   "execution_count": 8,
   "id": "50f87f89",
   "metadata": {},
   "outputs": [
    {
     "data": {
      "text/plain": [
       "array([50.568027], dtype=float32)"
      ]
     },
     "execution_count": 8,
     "metadata": {},
     "output_type": "execute_result"
    }
   ],
   "source": [
    "# ▶ 예측은 할 수 있으나, cost가 너무 큰 값이라 믿을 수가 없다.\n",
    "# 예측이 재대로 안되는 이유 : global 최소값이 있어도 local 최소값을 만나면 멈춘다.\n",
    "sess.run(H, feed_dict = {x:5})"
   ]
  },
  {
   "cell_type": "code",
   "execution_count": 17,
   "id": "d09e1226",
   "metadata": {},
   "outputs": [],
   "source": [
    "# ▶ 작업 할 때 불러와야 할 패키지들\n",
    "# import tensorflow.compat.v1 as tf\n",
    "# tf.disable_v2_behavior()\n",
    "\n",
    "# import numpy as np\n",
    "# import pandas as pd\n",
    "# import matplotlib.pyplot as plt\n",
    "# import seaborn as sns\n",
    "# import warnings\n",
    "# warnings.filterwarnings(action = 'ignore')"
   ]
  },
  {
   "cell_type": "markdown",
   "id": "f6ba9fc7",
   "metadata": {},
   "source": [
    "# 3절. 독립(예측)변수 x가 여러개인 Linear Regression"
   ]
  },
  {
   "cell_type": "code",
   "execution_count": 14,
   "id": "add47c69",
   "metadata": {
    "scrolled": false
   },
   "outputs": [
    {
     "name": "stdout",
     "output_type": "stream",
     "text": [
      "3000번째 cost : 0.4510837495326996\n",
      "6000번째 cost : 0.37971633672714233\n",
      "9000번째 cost : 0.3437015414237976\n",
      "12000번째 cost : 0.3176122307777405\n",
      "15000번째 cost : 0.29605668783187866\n",
      "18000번째 cost : 0.2776169180870056\n",
      "21000번째 cost : 0.2617050111293793\n",
      "24000번째 cost : 0.24795690178871155\n",
      "27000번째 cost : 0.23607149720191956\n",
      "30000번째 cost : 0.22578588128089905\n",
      "33000번째 cost : 0.2168969362974167\n",
      "36000번째 cost : 0.20920798182487488\n",
      "39000번째 cost : 0.20255336165428162\n",
      "42000번째 cost : 0.19680650532245636\n",
      "45000번째 cost : 0.1918279528617859\n",
      "48000번째 cost : 0.1875239610671997\n",
      "51000번째 cost : 0.18380126357078552\n",
      "54000번째 cost : 0.18057981133460999\n",
      "57000번째 cost : 0.17778989672660828\n",
      "60000번째 cost : 0.17537455260753632\n"
     ]
    }
   ],
   "source": [
    "# ▶ 1. 데이터 셋\n",
    "x_data = np.array([[73, 80, 75], [93, 88, 93],\n",
    "                  [89, 91, 90], [96, 98, 100],\n",
    "                  [73, 66, 70]])\n",
    "\n",
    "y_data = np.array([[152], [185], [180], [196], [142]])\n",
    "\n",
    "\n",
    "# ▶ 2. 텐서 그래프 정의\n",
    "# placeholder로 x와 y 값 입력을 가능하게 만듦\n",
    "# None : x_data도 받고, 예측할 때도 쓰기 위해 설정해준다.\n",
    "X = tf.placeholder(shape = [None, 3], dtype = tf.float32) # 몇 행이 들어올지는 모르지만, 3열\n",
    "Y = tf.placeholder(shape = [None, 1], dtype = tf.float32)\n",
    "\n",
    "# Weight & bias (weight 3개, bias 1개)\n",
    "W = tf.Variable(tf.random_normal([3, 1]), name = 'weight')\n",
    "b = tf.Variable(tf.random_normal([1]), name = 'bias')\n",
    "\n",
    "# 예측치(Hypothesis)\n",
    "# H = (X @ W) + b\n",
    "H = tf.matmul(X, W) + b\n",
    "\n",
    "# cost\n",
    "cost = tf.reduce_mean(tf.square(H - Y))\n",
    "\n",
    "# train (미분 값이 줄어드는 방향으로 cost가 이동)\n",
    "train = tf.train.GradientDescentOptimizer(learning_rate = 1e-5).minimize(cost)\n",
    "\n",
    "\n",
    "# ▶ 3. 텐서 그래프 활성화\n",
    "# Session & (Variable 초기화)\n",
    "sess = tf.Session()\n",
    "sess.run(tf.global_variables_initializer()) # W와 b값 초기화 후 랜덤 생성\n",
    "\n",
    "# 학습시키기\n",
    "for step in range(1, 60001):\n",
    "    _, cost_val = sess.run([train, cost], \n",
    "                           feed_dict = {X : x_data, \n",
    "                                        Y : y_data})\n",
    "    if (step % 3000) == 0:\n",
    "        print(\"{}번째 cost : {}\".format(step, cost_val))"
   ]
  },
  {
   "cell_type": "code",
   "execution_count": 15,
   "id": "1eaece9c",
   "metadata": {},
   "outputs": [
    {
     "data": {
      "text/plain": [
       "[array([[0.98215836],\n",
       "        [0.48942456],\n",
       "        [0.5378456 ]], dtype=float32),\n",
       " array([0.24147311], dtype=float32)]"
      ]
     },
     "execution_count": 15,
     "metadata": {},
     "output_type": "execute_result"
    }
   ],
   "source": [
    "sess.run([W, b])"
   ]
  },
  {
   "cell_type": "code",
   "execution_count": 16,
   "id": "1bb099f2",
   "metadata": {},
   "outputs": [
    {
     "data": {
      "text/plain": [
       "array([[149.81789]], dtype=float32)"
      ]
     },
     "execution_count": 16,
     "metadata": {},
     "output_type": "execute_result"
    }
   ],
   "source": [
    "# ▶ 4. 학습 후 최종적으로 산출된 W, b로 예측해보기\n",
    "sess.run(H, feed_dict = {X : np.array([[73, 80, 72]])})"
   ]
  },
  {
   "cell_type": "markdown",
   "id": "6e1c7845",
   "metadata": {},
   "source": [
    "# 4절. Ozone량 예측 예제(scale 조정 필요)\n",
    "* 독립변수 x가 3개 - Multi-variable Linear Regression(다변수 선형회귀)"
   ]
  },
  {
   "cell_type": "code",
   "execution_count": null,
   "id": "f0832eee",
   "metadata": {},
   "outputs": [],
   "source": [
    "# csv파일을 numpy배열로 불러오기(np.loadtext('파일명'))\n",
    "# csv파일을 데이터프레임으로 불러온 후 결측치 제거 -> 독립변수와 종속변수를 분리"
   ]
  },
  {
   "cell_type": "code",
   "execution_count": 21,
   "id": "4024d22e",
   "metadata": {},
   "outputs": [
    {
     "data": {
      "text/html": [
       "<div>\n",
       "<style scoped>\n",
       "    .dataframe tbody tr th:only-of-type {\n",
       "        vertical-align: middle;\n",
       "    }\n",
       "\n",
       "    .dataframe tbody tr th {\n",
       "        vertical-align: top;\n",
       "    }\n",
       "\n",
       "    .dataframe thead th {\n",
       "        text-align: right;\n",
       "    }\n",
       "</style>\n",
       "<table border=\"1\" class=\"dataframe\">\n",
       "  <thead>\n",
       "    <tr style=\"text-align: right;\">\n",
       "      <th></th>\n",
       "      <th>Ozone</th>\n",
       "      <th>Solar.R</th>\n",
       "      <th>Wind</th>\n",
       "      <th>Temp</th>\n",
       "      <th>Month</th>\n",
       "      <th>Day</th>\n",
       "    </tr>\n",
       "  </thead>\n",
       "  <tbody>\n",
       "    <tr>\n",
       "      <th>0</th>\n",
       "      <td>41.0</td>\n",
       "      <td>190.0</td>\n",
       "      <td>7.4</td>\n",
       "      <td>67</td>\n",
       "      <td>5</td>\n",
       "      <td>1</td>\n",
       "    </tr>\n",
       "    <tr>\n",
       "      <th>1</th>\n",
       "      <td>36.0</td>\n",
       "      <td>118.0</td>\n",
       "      <td>8.0</td>\n",
       "      <td>72</td>\n",
       "      <td>5</td>\n",
       "      <td>2</td>\n",
       "    </tr>\n",
       "    <tr>\n",
       "      <th>2</th>\n",
       "      <td>12.0</td>\n",
       "      <td>149.0</td>\n",
       "      <td>12.6</td>\n",
       "      <td>74</td>\n",
       "      <td>5</td>\n",
       "      <td>3</td>\n",
       "    </tr>\n",
       "    <tr>\n",
       "      <th>3</th>\n",
       "      <td>18.0</td>\n",
       "      <td>313.0</td>\n",
       "      <td>11.5</td>\n",
       "      <td>62</td>\n",
       "      <td>5</td>\n",
       "      <td>4</td>\n",
       "    </tr>\n",
       "    <tr>\n",
       "      <th>6</th>\n",
       "      <td>23.0</td>\n",
       "      <td>299.0</td>\n",
       "      <td>8.6</td>\n",
       "      <td>65</td>\n",
       "      <td>5</td>\n",
       "      <td>7</td>\n",
       "    </tr>\n",
       "    <tr>\n",
       "      <th>...</th>\n",
       "      <td>...</td>\n",
       "      <td>...</td>\n",
       "      <td>...</td>\n",
       "      <td>...</td>\n",
       "      <td>...</td>\n",
       "      <td>...</td>\n",
       "    </tr>\n",
       "    <tr>\n",
       "      <th>147</th>\n",
       "      <td>14.0</td>\n",
       "      <td>20.0</td>\n",
       "      <td>16.6</td>\n",
       "      <td>63</td>\n",
       "      <td>9</td>\n",
       "      <td>25</td>\n",
       "    </tr>\n",
       "    <tr>\n",
       "      <th>148</th>\n",
       "      <td>30.0</td>\n",
       "      <td>193.0</td>\n",
       "      <td>6.9</td>\n",
       "      <td>70</td>\n",
       "      <td>9</td>\n",
       "      <td>26</td>\n",
       "    </tr>\n",
       "    <tr>\n",
       "      <th>150</th>\n",
       "      <td>14.0</td>\n",
       "      <td>191.0</td>\n",
       "      <td>14.3</td>\n",
       "      <td>75</td>\n",
       "      <td>9</td>\n",
       "      <td>28</td>\n",
       "    </tr>\n",
       "    <tr>\n",
       "      <th>151</th>\n",
       "      <td>18.0</td>\n",
       "      <td>131.0</td>\n",
       "      <td>8.0</td>\n",
       "      <td>76</td>\n",
       "      <td>9</td>\n",
       "      <td>29</td>\n",
       "    </tr>\n",
       "    <tr>\n",
       "      <th>152</th>\n",
       "      <td>20.0</td>\n",
       "      <td>223.0</td>\n",
       "      <td>11.5</td>\n",
       "      <td>68</td>\n",
       "      <td>9</td>\n",
       "      <td>30</td>\n",
       "    </tr>\n",
       "  </tbody>\n",
       "</table>\n",
       "<p>111 rows × 6 columns</p>\n",
       "</div>"
      ],
      "text/plain": [
       "     Ozone  Solar.R  Wind  Temp  Month  Day\n",
       "0     41.0    190.0   7.4    67      5    1\n",
       "1     36.0    118.0   8.0    72      5    2\n",
       "2     12.0    149.0  12.6    74      5    3\n",
       "3     18.0    313.0  11.5    62      5    4\n",
       "6     23.0    299.0   8.6    65      5    7\n",
       "..     ...      ...   ...   ...    ...  ...\n",
       "147   14.0     20.0  16.6    63      9   25\n",
       "148   30.0    193.0   6.9    70      9   26\n",
       "150   14.0    191.0  14.3    75      9   28\n",
       "151   18.0    131.0   8.0    76      9   29\n",
       "152   20.0    223.0  11.5    68      9   30\n",
       "\n",
       "[111 rows x 6 columns]"
      ]
     },
     "execution_count": 21,
     "metadata": {},
     "output_type": "execute_result"
    }
   ],
   "source": [
    "# ▶ 1. 데이터 셋\n",
    "data = pd.read_csv('./data/ozone.csv', sep = ',')\n",
    "data.isna().sum()\n",
    "\n",
    "# ※ ML이나 DL에서는 결측치를 꼭 정제해야한다.\n",
    "# 결측치가 한 열이라도 있는 행 삭제\n",
    "data.dropna(inplace = True)"
   ]
  },
  {
   "cell_type": "code",
   "execution_count": 27,
   "id": "80bd3412",
   "metadata": {},
   "outputs": [],
   "source": [
    "# 독립(예측)변수 : Solar, R, Wind, Temp, 종속(결과)변수 : Ozone 추출\n",
    "data = data[['Ozone', 'Solar.R', 'Wind', 'Temp']] # 필요한 열만 추출\n",
    "\n",
    "# 독립(예측)변수, 종속(결과)변수 분리\n",
    "# x_data = np.array(data[['Solar.R', 'Wind', 'Temp']])\n",
    "x_data = data[['Solar.R', 'Wind', 'Temp']].values\n",
    "y_data = data[['Ozone']].values"
   ]
  },
  {
   "cell_type": "code",
   "execution_count": 28,
   "id": "102f1afd",
   "metadata": {},
   "outputs": [],
   "source": [
    "# 텐서플로 구현\n",
    "# 1. X, Y\n",
    "X = tf.placeholder(shape = [None, 3], dtype = tf.float32)\n",
    "Y = tf.placeholder(shape = [None, 1], dtype = tf.float32)\n",
    "\n",
    "# 2. W, b\n",
    "W = tf.Variable(tf.random_normal([3, 1]), name = 'weight') # 3 = 독립변수 개수, 1 = 종속변수 개수\n",
    "b = tf.Variable(tf.random_normal([1]), name = 'bias')\n",
    "\n",
    "# 3. H(가설) 세우기\n",
    "H = tf.matmul(X, W) + b\n",
    "\n",
    "# 4. cost\n",
    "cost = tf.reduce_mean(tf.square(H - Y))\n",
    "\n",
    "# 5. train\n",
    "train = tf.train.GradientDescentOptimizer(learning_rate = 1e-5).minimize(cost)\n",
    "\n",
    "# 6. Session & 변수 초기화\n",
    "sess = tf.Session()\n",
    "sess.run(tf.global_variables_initializer())"
   ]
  },
  {
   "cell_type": "code",
   "execution_count": 29,
   "id": "a9c359c1",
   "metadata": {
    "scrolled": true
   },
   "outputs": [
    {
     "name": "stdout",
     "output_type": "stream",
     "text": [
      "300번째 cost : 830.6956176757812\n",
      "600번째 cost : 759.7296752929688\n",
      "900번째 cost : 702.4736328125\n",
      "1200번째 cost : 656.2688598632812\n",
      "1500번째 cost : 618.9825439453125\n",
      "1800번째 cost : 588.8928833007812\n",
      "2100번째 cost : 564.6107788085938\n",
      "2400번째 cost : 545.01513671875\n",
      "2700번째 cost : 529.2015991210938\n",
      "3000번째 cost : 516.4398803710938\n",
      "3300번째 cost : 506.1409912109375\n",
      "3600번째 cost : 497.8295593261719\n",
      "3900번째 cost : 491.121826171875\n",
      "4200번째 cost : 485.7084045410156\n",
      "4500번째 cost : 481.3393859863281\n",
      "4800번째 cost : 477.8131408691406\n",
      "5100번째 cost : 474.96697998046875\n",
      "5400번째 cost : 472.6697082519531\n",
      "5700번째 cost : 470.8153381347656\n",
      "6000번째 cost : 469.3183898925781\n",
      "6300번째 cost : 468.1098327636719\n",
      "6600번째 cost : 467.1340026855469\n",
      "6900번째 cost : 466.3460693359375\n",
      "7200번째 cost : 465.7096252441406\n",
      "7500번째 cost : 465.1954040527344\n",
      "7800번째 cost : 464.780029296875\n",
      "8100번째 cost : 464.4443054199219\n",
      "8400번째 cost : 464.17279052734375\n",
      "8700번째 cost : 463.95318603515625\n",
      "9000번째 cost : 463.7754211425781\n",
      "9300번째 cost : 463.63140869140625\n",
      "9600번째 cost : 463.5146789550781\n",
      "9900번째 cost : 463.4198913574219\n",
      "10200번째 cost : 463.3429260253906\n",
      "10500번째 cost : 463.2802734375\n",
      "10800번째 cost : 463.22918701171875\n",
      "11100번째 cost : 463.1873474121094\n",
      "11400번째 cost : 463.153076171875\n",
      "11700번째 cost : 463.1249084472656\n",
      "12000번째 cost : 463.1016540527344\n"
     ]
    }
   ],
   "source": [
    "# 7. 학습시키기\n",
    "for step in range(1, 12001):\n",
    "    _, cost_val = sess.run([train, cost], feed_dict={X : x_data, \n",
    "                                                     Y : y_data})\n",
    "    if (step % 300) == 0:\n",
    "        print('{}번째 cost : {}'.format(step, cost_val))"
   ]
  },
  {
   "cell_type": "code",
   "execution_count": 30,
   "id": "85c55f98",
   "metadata": {},
   "outputs": [
    {
     "data": {
      "text/html": [
       "<div>\n",
       "<style scoped>\n",
       "    .dataframe tbody tr th:only-of-type {\n",
       "        vertical-align: middle;\n",
       "    }\n",
       "\n",
       "    .dataframe tbody tr th {\n",
       "        vertical-align: top;\n",
       "    }\n",
       "\n",
       "    .dataframe thead th {\n",
       "        text-align: right;\n",
       "    }\n",
       "</style>\n",
       "<table border=\"1\" class=\"dataframe\">\n",
       "  <thead>\n",
       "    <tr style=\"text-align: right;\">\n",
       "      <th></th>\n",
       "      <th>Ozone</th>\n",
       "      <th>Solar.R</th>\n",
       "      <th>Wind</th>\n",
       "      <th>Temp</th>\n",
       "    </tr>\n",
       "  </thead>\n",
       "  <tbody>\n",
       "    <tr>\n",
       "      <th>1</th>\n",
       "      <td>36.0</td>\n",
       "      <td>118.0</td>\n",
       "      <td>8.0</td>\n",
       "      <td>72</td>\n",
       "    </tr>\n",
       "  </tbody>\n",
       "</table>\n",
       "</div>"
      ],
      "text/plain": [
       "   Ozone  Solar.R  Wind  Temp\n",
       "1   36.0    118.0   8.0    72"
      ]
     },
     "execution_count": 30,
     "metadata": {},
     "output_type": "execute_result"
    }
   ],
   "source": [
    "data[1:2]"
   ]
  },
  {
   "cell_type": "code",
   "execution_count": 31,
   "id": "c5ac148c",
   "metadata": {},
   "outputs": [
    {
     "data": {
      "text/plain": [
       "array([[41.424614]], dtype=float32)"
      ]
     },
     "execution_count": 31,
     "metadata": {},
     "output_type": "execute_result"
    }
   ],
   "source": [
    "sess.run(H, feed_dict={X : np.array([[118, 8, 72]])})"
   ]
  },
  {
   "cell_type": "markdown",
   "id": "e2bfb609",
   "metadata": {},
   "source": [
    "## 4.1 scale 조정\n",
    "- normalization (정규화)\n",
    "- standardization (표준화)"
   ]
  },
  {
   "cell_type": "code",
   "execution_count": null,
   "id": "0992189a",
   "metadata": {},
   "outputs": [],
   "source": [
    "#                    X - Xmin\n",
    "# normalization = ㅡㅡㅡㅡㅡㅡㅡ (정규화 공식)\n",
    "#                  Xmax - Xmin\n",
    "# sklearn.preprocessing.MinMaxScaler 라이브러리를 통해 위의 식을 대신할 수 있다.\n",
    "\n",
    "#                       X - Xmean\n",
    "# standardization = ㅡㅡㅡㅡㅡㅡㅡㅡㅡ (표준화 공식)\n",
    "#                     Xstd(표준편차)\n",
    "# sklearn.preprocessing.StandardScaler 라이브러리를 통해 위의 식을 대신할 수 있다."
   ]
  },
  {
   "cell_type": "code",
   "execution_count": 34,
   "id": "3b5eb4a9",
   "metadata": {
    "scrolled": true
   },
   "outputs": [
    {
     "name": "stdout",
     "output_type": "stream",
     "text": [
      "300번째 cost : 2.4794576168060303\n",
      "600번째 cost : 1.0265825986862183\n",
      "900번째 cost : 0.5892513990402222\n",
      "1200번째 cost : 0.45369741320610046\n",
      "1500번째 cost : 0.4109177589416504\n",
      "1800번째 cost : 0.39723098278045654\n",
      "2100번째 cost : 0.3927921950817108\n",
      "2400번째 cost : 0.39132827520370483\n",
      "2700번째 cost : 0.3908342123031616\n",
      "3000번째 cost : 0.3906618654727936\n",
      "3300번째 cost : 0.39059892296791077\n",
      "3600번째 cost : 0.3905744254589081\n",
      "3900번째 cost : 0.3905642330646515\n",
      "4200번째 cost : 0.3905596435070038\n",
      "4500번째 cost : 0.3905574083328247\n",
      "4800번째 cost : 0.390556275844574\n",
      "5100번째 cost : 0.3905556797981262\n",
      "5400번째 cost : 0.3905552923679352\n",
      "5700번째 cost : 0.39055514335632324\n",
      "6000번째 cost : 0.3905550241470337\n",
      "6300번째 cost : 0.3905549645423889\n",
      "6600번째 cost : 0.3905549645423889\n",
      "6900번째 cost : 0.39055493474006653\n",
      "7200번째 cost : 0.39055490493774414\n",
      "7500번째 cost : 0.39055493474006653\n",
      "7800번째 cost : 0.39055490493774414\n",
      "8100번째 cost : 0.39055493474006653\n",
      "8400번째 cost : 0.39055493474006653\n",
      "8700번째 cost : 0.39055490493774414\n",
      "9000번째 cost : 0.39055490493774414\n",
      "9300번째 cost : 0.3905549645423889\n",
      "9600번째 cost : 0.3905549645423889\n",
      "9900번째 cost : 0.39055493474006653\n",
      "10200번째 cost : 0.39055493474006653\n",
      "10500번째 cost : 0.39055493474006653\n",
      "10800번째 cost : 0.39055493474006653\n",
      "11100번째 cost : 0.39055493474006653\n",
      "11400번째 cost : 0.39055493474006653\n",
      "11700번째 cost : 0.39055493474006653\n",
      "12000번째 cost : 0.39055493474006653\n"
     ]
    }
   ],
   "source": [
    "# ▶ 1. 데이터 셋\n",
    "data = pd.read_csv('./data/ozone.csv', sep = ',')\n",
    "data.isna().sum()\n",
    "\n",
    "# ※ ML이나 DL에서는 결측치를 꼭 정제해야한다.\n",
    "# 결측치가 한 열이라도 있는 행 삭제\n",
    "data.dropna(inplace = True)\n",
    "\n",
    "# 독립(예측)변수 : Solar, R, Wind, Temp, 종속(결과)변수 : Ozone 추출\n",
    "data = data[['Ozone', 'Solar.R', 'Wind', 'Temp']] # 필요한 열만 추출\n",
    "\n",
    "# 데이터 표준화\n",
    "data['Ozone'] = (data['Ozone'] - data['Ozone'].mean()) / data['Ozone'].std()\n",
    "data['Solar.R'] = (data['Solar.R'] - data['Solar.R'].mean()) / data['Solar.R'].std()\n",
    "data['Wind'] = (data['Wind'] - data['Wind'].mean()) / data['Wind'].std()\n",
    "data['Temp'] = (data['Temp'] - data['Temp'].mean()) / data['Temp'].std()\n",
    "\n",
    "# 독립(예측)변수, 종속(결과)변수 분리\n",
    "# x_data = np.array(data[['Solar.R', 'Wind', 'Temp']])\n",
    "x_data = data[['Solar.R', 'Wind', 'Temp']].values\n",
    "y_data = data[['Ozone']].values\n",
    "\n",
    "# 텐서플로 구현\n",
    "# 1. X, Y\n",
    "X = tf.placeholder(shape = [None, 3], dtype = tf.float32)\n",
    "Y = tf.placeholder(shape = [None, 1], dtype = tf.float32)\n",
    "\n",
    "# 2. W, b\n",
    "W = tf.Variable(tf.random_normal([3, 1]), name = 'weight') # 3 = 독립변수 개수, 1 = 종속변수 개수\n",
    "b = tf.Variable(tf.random_normal([1]), name = 'bias')\n",
    "\n",
    "# 3. H(가설) 세우기\n",
    "H = tf.matmul(X, W) + b\n",
    "\n",
    "# 4. cost\n",
    "cost = tf.reduce_mean(tf.square(H - Y))\n",
    "\n",
    "# 5. train\n",
    "train = tf.train.GradientDescentOptimizer(learning_rate = 1e-3).minimize(cost)\n",
    "\n",
    "# 6. Session & 변수 초기화\n",
    "sess = tf.Session()\n",
    "sess.run(tf.global_variables_initializer())\n",
    "\n",
    "# 7. 학습시키기\n",
    "for step in range(1, 12001):\n",
    "    _, cost_val = sess.run([train, cost], feed_dict={X : x_data, \n",
    "                                                     Y : y_data})\n",
    "    if (step % 300) == 0:\n",
    "        print('{}번째 cost : {}'.format(step, cost_val))"
   ]
  },
  {
   "cell_type": "code",
   "execution_count": 36,
   "id": "964c060e",
   "metadata": {},
   "outputs": [
    {
     "data": {
      "text/plain": [
       "[array([[ 0.16385868],\n",
       "        [-0.35639715],\n",
       "        [ 0.4731631 ]], dtype=float32),\n",
       " array([1.489557e-08], dtype=float32)]"
      ]
     },
     "execution_count": 36,
     "metadata": {},
     "output_type": "execute_result"
    }
   ],
   "source": [
    "sess.run([W, b])"
   ]
  },
  {
   "cell_type": "markdown",
   "id": "38f3e36e",
   "metadata": {},
   "source": [
    "### 4.1.1 Standardization(표준화)"
   ]
  },
  {
   "cell_type": "code",
   "execution_count": 41,
   "id": "592b53bf",
   "metadata": {},
   "outputs": [
    {
     "name": "stdout",
     "output_type": "stream",
     "text": [
      "(111, 3) (111, 1)\n",
      "조정 전\n",
      " [[190.    7.4  67.   41. ]\n",
      " [118.    8.   72.   36. ]]\n",
      "조정 후\n",
      " [[ 0.05728624 -0.71707784 -1.13764691 -0.03317961]\n",
      " [-0.73618283 -0.54766534 -0.61060682 -0.18411965]]\n"
     ]
    }
   ],
   "source": [
    "# ▶ 1. 데이터 셋\n",
    "data = pd.read_csv('./data/ozone.csv', sep = ',')\n",
    "data.isna().sum()\n",
    "\n",
    "# ※ ML이나 DL에서는 결측치를 꼭 정제해야한다.\n",
    "# 결측치가 한 열이라도 있는 행 삭제\n",
    "data.dropna(inplace = True)\n",
    "\n",
    "# 독립(예측)변수 : Solar, R, Wind, Temp, 종속(결과)변수 : Ozone 추출\n",
    "data = data[['Ozone', 'Solar.R', 'Wind', 'Temp']] # 필요한 열만 추출\n",
    "\n",
    "# -----------------------------------------------------------\n",
    "# ★★ 데이터 표준화 (API를 이용하여 한꺼번에) ★★\n",
    "# from sklearn.preprocessing import StandardScaler\n",
    "# scaler = StandardScaler()\n",
    "# scaler.fit(data)\n",
    "\n",
    "# data = scaler.transform(data)\n",
    "# data = pd.DataFrame(scaler.transform(data), \n",
    "#                     columns=['Ozone', 'Solar.R', 'Wind', 'Temp'])\n",
    "\n",
    "# display(data)\n",
    "# ------------------------------------------------------------\n",
    "\n",
    "# 독립(예측)변수, 종속(결과)변수 분리\n",
    "# x_data = np.array(data[['Solar.R', 'Wind', 'Temp']])\n",
    "x_data = data[['Solar.R', 'Wind', 'Temp']].values\n",
    "y_data = data[['Ozone']].values\n",
    "print(x_data.shape, y_data.shape)\n",
    "\n",
    "# ------------------------------------------------------------\n",
    "# ★★ scale 조정 ★★\n",
    "print('조정 전\\n', np.c_[x_data[:2], y_data[:2]])\n",
    "from sklearn.preprocessing import StandardScaler\n",
    "\n",
    "scaler_x = StandardScaler()\n",
    "# scaler_x.fit(x_data)\n",
    "# x_data = scaler_x.transform(x_data)\n",
    "x_data = scaler_x.fit_transform(x_data)\n",
    "\n",
    "scaler_y = StandardScaler()\n",
    "scaler_y.fit(y_data)\n",
    "y_data = scaler_y.transform(y_data)\n",
    "\n",
    "print('조정 후\\n', np.c_[x_data[:2], y_data[:2]])\n",
    "\n",
    "# 조정된 데이터를 다시 원 데이터로 해석\n",
    "# original_x = scaler_x.inverse_transform(x_data)\n",
    "# original_y = scaler_y.inverse_transform(y_data)\n",
    "\n",
    "# print('복구 후\\n', np.c_[original_x[:2], original_y[:2]])\n",
    "# ------------------------------------------------------------\n",
    "\n",
    "# 텐서플로 구현\n",
    "# 1. X, Y\n",
    "X = tf.placeholder(shape = [None, 3], dtype = tf.float32)\n",
    "Y = tf.placeholder(shape = [None, 1], dtype = tf.float32)\n",
    "\n",
    "# 2. W, b\n",
    "W = tf.Variable(tf.random_normal([3, 1]), name = 'weight') # 3 = 독립변수 개수, 1 = 종속변수 개수\n",
    "b = tf.Variable(tf.random_normal([1]), name = 'bias')\n",
    "\n",
    "# 3. H(가설) 세우기\n",
    "H = tf.matmul(X, W) + b\n",
    "\n",
    "# 4. cost\n",
    "cost = tf.reduce_mean(tf.square(H - Y))\n",
    "\n",
    "# 5. train\n",
    "train = tf.train.GradientDescentOptimizer(learning_rate = 1e-3).minimize(cost)\n",
    "\n",
    "# 6. Session & 변수 초기화\n",
    "sess = tf.Session()\n",
    "sess.run(tf.global_variables_initializer())"
   ]
  },
  {
   "cell_type": "code",
   "execution_count": 42,
   "id": "e909f52c",
   "metadata": {
    "scrolled": true
   },
   "outputs": [
    {
     "name": "stdout",
     "output_type": "stream",
     "text": [
      "300번째 cost : 2.2216033935546875\n",
      "600번째 cost : 1.0723305940628052\n",
      "900번째 cost : 0.6887829899787903\n",
      "1200번째 cost : 0.5366185903549194\n",
      "1500번째 cost : 0.4678725600242615\n",
      "1800번째 cost : 0.4338746964931488\n",
      "2100번째 cost : 0.41605278849601746\n",
      "2400번째 cost : 0.4063764214515686\n",
      "2700번째 cost : 0.4010155200958252\n",
      "3000번째 cost : 0.3980117440223694\n",
      "3300번째 cost : 0.3963182866573334\n",
      "3600번째 cost : 0.39536044001579285\n",
      "3900번째 cost : 0.394817590713501\n",
      "4200번째 cost : 0.3945097029209137\n",
      "4500번째 cost : 0.39433491230010986\n",
      "4800번째 cost : 0.3942357301712036\n",
      "5100번째 cost : 0.39417940378189087\n",
      "5400번째 cost : 0.39414748549461365\n",
      "5700번째 cost : 0.39412930607795715\n",
      "6000번째 cost : 0.3941189646720886\n",
      "6300번째 cost : 0.39411312341690063\n",
      "6600번째 cost : 0.3941097855567932\n",
      "6900번째 cost : 0.3941078782081604\n",
      "7200번째 cost : 0.39410677552223206\n",
      "7500번째 cost : 0.3941062092781067\n",
      "7800번째 cost : 0.39410585165023804\n",
      "8100번째 cost : 0.39410561323165894\n",
      "8400번째 cost : 0.39410558342933655\n",
      "8700번째 cost : 0.3941054940223694\n",
      "9000번째 cost : 0.3941054344177246\n",
      "9300번째 cost : 0.3941054344177246\n",
      "9600번째 cost : 0.3941054046154022\n",
      "9900번째 cost : 0.3941054046154022\n",
      "10200번째 cost : 0.3941054046154022\n",
      "10500번째 cost : 0.3941054046154022\n",
      "10800번째 cost : 0.3941054046154022\n",
      "11100번째 cost : 0.3941054046154022\n",
      "11400번째 cost : 0.39410537481307983\n",
      "11700번째 cost : 0.39410537481307983\n",
      "12000번째 cost : 0.3941054046154022\n"
     ]
    }
   ],
   "source": [
    "# 7. 학습시키기\n",
    "for step in range(1, 12001):\n",
    "    _, cost_val = sess.run([train, cost], feed_dict={X : x_data, \n",
    "                                                     Y : y_data})\n",
    "    if (step % 300) == 0:\n",
    "        print('{}번째 cost : {}'.format(step, cost_val))"
   ]
  },
  {
   "cell_type": "code",
   "execution_count": 43,
   "id": "55ef0b3e",
   "metadata": {},
   "outputs": [
    {
     "data": {
      "text/plain": [
       "array([[-0.73618283, -0.54766534, -0.61060682]])"
      ]
     },
     "execution_count": 43,
     "metadata": {},
     "output_type": "execute_result"
    }
   ],
   "source": [
    "input_data = np.array([[118, 8, 72]])\n",
    "\n",
    "scaled_input_data = scaler_x.transform(input_data)\n",
    "scaled_input_data"
   ]
  },
  {
   "cell_type": "code",
   "execution_count": 45,
   "id": "40f94313",
   "metadata": {},
   "outputs": [
    {
     "data": {
      "text/plain": [
       "array([[34.999157]], dtype=float32)"
      ]
     },
     "execution_count": 45,
     "metadata": {},
     "output_type": "execute_result"
    }
   ],
   "source": [
    "scaler_y.inverse_transform(sess.run(H, feed_dict={X : scaled_input_data}))"
   ]
  },
  {
   "cell_type": "markdown",
   "id": "4e2e019f",
   "metadata": {},
   "source": [
    "### 4.1.2 Normalization (정규화)"
   ]
  },
  {
   "cell_type": "code",
   "execution_count": 48,
   "id": "234ebe34",
   "metadata": {},
   "outputs": [
    {
     "name": "stdout",
     "output_type": "stream",
     "text": [
      "(111, 3) (111, 1)\n",
      "조정 전\n",
      " [[190.    7.4  67.   41. ]\n",
      " [118.    8.   72.   36. ]]\n",
      "조정 후\n",
      " [[0.55963303 0.27717391 0.25       0.23952096]\n",
      " [0.33944954 0.30978261 0.375      0.20958084]]\n"
     ]
    }
   ],
   "source": [
    "# ▶ 1. 데이터 셋\n",
    "data = pd.read_csv('./data/ozone.csv', sep = ',')\n",
    "data.isna().sum()\n",
    "\n",
    "# ※ ML이나 DL에서는 결측치를 꼭 정제해야한다.\n",
    "# 결측치가 한 열이라도 있는 행 삭제\n",
    "data.dropna(inplace = True)\n",
    "\n",
    "# 독립(예측)변수 : Solar, R, Wind, Temp, 종속(결과)변수 : Ozone 추출\n",
    "data = data[['Ozone', 'Solar.R', 'Wind', 'Temp']] # 필요한 열만 추출\n",
    "\n",
    "# 독립(예측)변수, 종속(결과)변수 분리\n",
    "# x_data = np.array(data[['Solar.R', 'Wind', 'Temp']])\n",
    "x_data = data[['Solar.R', 'Wind', 'Temp']].values\n",
    "y_data = data[['Ozone']].values\n",
    "print(x_data.shape, y_data.shape)\n",
    "\n",
    "########################################################\n",
    "# ★★ 정규화 ★★                                      #\n",
    "print('조정 전\\n', np.c_[x_data[:2], y_data[:2]])      # \n",
    "from sklearn.preprocessing import MinMaxScaler        #\n",
    "scale_x = MinMaxScaler()\n",
    "scale_x.fit(x_data)\n",
    "x_data = scale_x.transform(x_data)\n",
    "# x_data = scale_x.fit_transform(x_data)\n",
    "\n",
    "scaler_y = MinMaxScaler()\n",
    "scaler_y.fit(y_data)\n",
    "y_data = scaler_y.transform(y_data)\n",
    "                                                     # \n",
    "print('조정 후\\n', np.c_[x_data[:2], y_data[:2]])     #\n",
    "#######################################################\n",
    "\n",
    "# 텐서플로 구현\n",
    "# 1. X, Y\n",
    "X = tf.placeholder(shape = [None, 3], dtype = tf.float32)\n",
    "Y = tf.placeholder(shape = [None, 1], dtype = tf.float32)\n",
    "\n",
    "# 2. W, b\n",
    "W = tf.Variable(tf.random_normal([3, 1]), name = 'weight') # 3 = 독립변수 개수, 1 = 종속변수 개수\n",
    "b = tf.Variable(tf.random_normal([1]), name = 'bias')\n",
    "\n",
    "# 3. H(가설) 세우기\n",
    "H = tf.matmul(X, W) + b\n",
    "\n",
    "# 4. cost\n",
    "cost = tf.reduce_mean(tf.square(H - Y))\n",
    "\n",
    "# 5. train\n",
    "train = tf.train.GradientDescentOptimizer(learning_rate = 1e-3).minimize(cost)\n",
    "\n",
    "# 6. Session & 변수 초기화\n",
    "sess = tf.Session()\n",
    "sess.run(tf.global_variables_initializer())"
   ]
  },
  {
   "cell_type": "code",
   "execution_count": 49,
   "id": "e42caa71",
   "metadata": {
    "scrolled": true
   },
   "outputs": [
    {
     "name": "stdout",
     "output_type": "stream",
     "text": [
      "300번째 cost : 0.25455859303474426\n",
      "600번째 cost : 0.22390732169151306\n",
      "900번째 cost : 0.20430605113506317\n",
      "1200번째 cost : 0.18744806945323944\n",
      "1500번째 cost : 0.1722099334001541\n",
      "1800번째 cost : 0.1583412140607834\n",
      "2100번째 cost : 0.1457074135541916\n",
      "2400번째 cost : 0.13419686257839203\n",
      "2700번째 cost : 0.12370934337377548\n",
      "3000번째 cost : 0.11415360122919083\n",
      "3300번째 cost : 0.10544665157794952\n",
      "3600번째 cost : 0.0975128561258316\n",
      "3900번째 cost : 0.09028331935405731\n",
      "4200번째 cost : 0.08369529992341995\n",
      "4500번째 cost : 0.07769178599119186\n",
      "4800번째 cost : 0.07222063839435577\n",
      "5100번째 cost : 0.06723451614379883\n",
      "5400번째 cost : 0.06269025057554245\n",
      "5700번째 cost : 0.05854853615164757\n",
      "6000번째 cost : 0.05477356165647507\n",
      "6300번째 cost : 0.051332730799913406\n",
      "6600번째 cost : 0.048196326941251755\n",
      "6900번째 cost : 0.04533730819821358\n",
      "7200번째 cost : 0.04273099824786186\n",
      "7500번째 cost : 0.04035498946905136\n",
      "7800번째 cost : 0.03818879649043083\n",
      "8100번째 cost : 0.03621378540992737\n",
      "8400번째 cost : 0.034413013607263565\n",
      "8700번째 cost : 0.03277100622653961\n",
      "9000번째 cost : 0.031273677945137024\n",
      "9300번째 cost : 0.029908204451203346\n",
      "9600번째 cost : 0.02866290509700775\n",
      "9900번째 cost : 0.02752712555229664\n",
      "10200번째 cost : 0.02649117074906826\n",
      "10500번째 cost : 0.02554619126021862\n",
      "10800번째 cost : 0.024684133008122444\n",
      "11100번째 cost : 0.023897679522633553\n",
      "11400번째 cost : 0.023180119693279266\n",
      "11700번째 cost : 0.022525379434227943\n",
      "12000번째 cost : 0.021927904337644577\n"
     ]
    }
   ],
   "source": [
    "# 7. 학습시키기\n",
    "for step in range(1, 12001):\n",
    "    _, cost_val = sess.run([train, cost], feed_dict={X : x_data, \n",
    "                                                     Y : y_data})\n",
    "    if (step % 300) == 0:\n",
    "        print('{}번째 cost : {}'.format(step, cost_val))"
   ]
  },
  {
   "cell_type": "code",
   "execution_count": 50,
   "id": "02a184a6",
   "metadata": {},
   "outputs": [
    {
     "data": {
      "text/plain": [
       "array([[24.175076]], dtype=float32)"
      ]
     },
     "execution_count": 50,
     "metadata": {},
     "output_type": "execute_result"
    }
   ],
   "source": [
    "# 8.예측(모델 사용)\n",
    "input_data = np.array([[118, 8, 72]])\n",
    "predict_value = sess.run(H, feed_dict={X : scale_x.transform(input_data)})\n",
    "scaler_y.inverse_transform(predict_value)"
   ]
  },
  {
   "cell_type": "markdown",
   "id": "5edf32d6",
   "metadata": {},
   "source": [
    "# 5절. 로지스틱 회귀분석\n",
    "- Logistic Regression = Binary classification"
   ]
  },
  {
   "cell_type": "code",
   "execution_count": 58,
   "id": "9ff50441",
   "metadata": {},
   "outputs": [
    {
     "name": "stdout",
     "output_type": "stream",
     "text": [
      "W값 : 0.03500583430571762 \n",
      "b값 : 0.1732788798133022\n"
     ]
    },
    {
     "data": {
      "image/png": "[encoded data removed]",
      "text/plain": [
       "<Figure size 1152x648 with 1 Axes>"
      ]
     },
     "metadata": {
      "needs_background": "light"
     },
     "output_type": "display_data"
    }
   ],
   "source": [
    "from scipy import stats\n",
    "x = np.array([1, 2, 5, 8, 10, 30])\n",
    "y = np.array([0, 0, 0, 1, 1, 1])\n",
    "\n",
    "lm = stats.linregress(x, y)\n",
    "\n",
    "# pvalue가 0.05 아래면 신뢰도 95프로에 해당하여 채택\n",
    "print('W값 :', lm[0], '\\nb값 :',lm[1])\n",
    "\n",
    "plt.figure(figsize=(16, 9))\n",
    "plt.scatter(x, y)\n",
    "plt.plot(x, x*lm[0] + lm[1], 'r')\n",
    "plt.show()"
   ]
  },
  {
   "cell_type": "code",
   "execution_count": 70,
   "id": "e1ad34d9",
   "metadata": {},
   "outputs": [],
   "source": [
    "# 교안 pt 50페이지\n",
    "x_data = np.array([[10, 0], \n",
    "                   [8, 1], \n",
    "                   [3, 3], \n",
    "                   [2, 3], \n",
    "                   [5, 1], \n",
    "                   [2, 0], \n",
    "                   [1, 0]])\n",
    "\n",
    "y_data = np.array([[1], [1], [1], [1], [0], [0], [0]])\n",
    "\n",
    "# X, Y\n",
    "X = tf.placeholder(shape=[None, 2], dtype = tf.float32)\n",
    "Y = tf.placeholder(shape=[None, 1], dtype = tf.float32)\n",
    "\n",
    "# Weight, bias\n",
    "W = tf.Variable(tf.random_normal([2, 1]), name = 'weight')\n",
    "b = tf.Variable(tf.random_normal([1]), name = 'bias')\n",
    "\n",
    "# 가설 세우기(H)\n",
    "logits = tf.matmul(X, W) + b\n",
    "H = tf.nn.sigmoid(logits)\n",
    "\n",
    "# cost 함수\n",
    "# cost = tf.reduce_mean(tf.square(H - Y))\n",
    "cost = tf.reduce_mean(tf.nn.sigmoid_cross_entropy_with_logits(logits = logits,\n",
    "                                                              labels = Y))\n",
    "# train\n",
    "train = tf.train.GradientDescentOptimizer(learning_rate = 0.01).minimize(cost)\n",
    "\n",
    "# Session & 변수 초기화\n",
    "sess = tf.Session()\n",
    "sess.run(tf.global_variables_initializer())"
   ]
  },
  {
   "cell_type": "code",
   "execution_count": 71,
   "id": "1ee5b753",
   "metadata": {
    "scrolled": true
   },
   "outputs": [
    {
     "name": "stdout",
     "output_type": "stream",
     "text": [
      "300번째 cost : 0.6333847045898438\n",
      "600번째 cost : 0.5369505286216736\n",
      "900번째 cost : 0.47430914640426636\n",
      "1200번째 cost : 0.4279950261116028\n",
      "1500번째 cost : 0.3927278220653534\n",
      "1800번째 cost : 0.36528438329696655\n",
      "2100번째 cost : 0.3434687554836273\n",
      "2400번째 cost : 0.3257668614387512\n",
      "2700번째 cost : 0.3111262023448944\n",
      "3000번째 cost : 0.29880625009536743\n"
     ]
    }
   ],
   "source": [
    "# 학습시키기\n",
    "for step in range(1, 3001):\n",
    "    _, cost_val = sess.run([train, cost], feed_dict={X : x_data, \n",
    "                                                     Y : y_data})\n",
    "    if (step % 300) == 0:\n",
    "        print('{}번째 cost : {}'.format(step, cost_val))"
   ]
  },
  {
   "cell_type": "code",
   "execution_count": 72,
   "id": "37bb7f86",
   "metadata": {},
   "outputs": [
    {
     "name": "stdout",
     "output_type": "stream",
     "text": [
      "정확도 : 0.85714287\n"
     ]
    }
   ],
   "source": [
    "# 정확도\n",
    "predict = tf.cast(H>0.5, dtype=tf.float32)\n",
    "# sess.run(predict, feed_dict={X:x_data})\n",
    "\n",
    "# 비교하기\n",
    "correct = tf.equal(predict, Y)\n",
    "# sess.run(correct, feed_dict={X:x_data, \n",
    "#                              Y:y_data})\n",
    "\n",
    "accuracy = tf.reduce_mean(tf.cast(correct, dtype=tf.float32))\n",
    "print('정확도 :', sess.run(accuracy, feed_dict={X:x_data, Y:y_data}))"
   ]
  },
  {
   "cell_type": "code",
   "execution_count": 73,
   "id": "3fad5545",
   "metadata": {},
   "outputs": [
    {
     "name": "stdout",
     "output_type": "stream",
     "text": [
      "H결과  [[0.99127674]]\n",
      "predict 결과 : [[1.]]\n"
     ]
    }
   ],
   "source": [
    "# 예측하기\n",
    "print('H결과 ', sess.run(H, feed_dict={X:np.array([[10, 3]])}))\n",
    "print('predict 결과 :', sess.run(predict, feed_dict={X:np.array([[10, 3]])}))"
   ]
  },
  {
   "cell_type": "markdown",
   "id": "8f157205",
   "metadata": {},
   "source": [
    "# 6절. multinomial classfication\n",
    "- 교안 54페이지, 퀴즈1, 2, 3 성적과 출력에 따른 A, B, C등급 분류"
   ]
  },
  {
   "cell_type": "code",
   "execution_count": 101,
   "id": "cf855bd7",
   "metadata": {},
   "outputs": [
    {
     "name": "stderr",
     "output_type": "stream",
     "text": [
      "C:\\Users\\tjoeun\\anaconda3\\lib\\site-packages\\sklearn\\utils\\validation.py:63: DataConversionWarning: A column-vector y was passed when a 1d array was expected. Please change the shape of y to (n_samples, ), for example using ravel().\n",
      "  return f(*args, **kwargs)\n"
     ]
    },
    {
     "name": "stdout",
     "output_type": "stream",
     "text": [
      "600번째 cost : 1.4468300342559814\n",
      "1200번째 cost : 1.4512957334518433\n",
      "1800번째 cost : 1.4392529726028442\n",
      "2400번째 cost : 1.4332305192947388\n",
      "3000번째 cost : 1.429310917854309\n",
      "3600번째 cost : 1.4264495372772217\n",
      "4200번째 cost : 1.4242335557937622\n",
      "4800번째 cost : 1.4224603176116943\n",
      "5400번째 cost : 1.4210084676742554\n",
      "6000번째 cost : 1.4198017120361328\n",
      "6600번째 cost : 1.4187872409820557\n",
      "7200번째 cost : 1.4179260730743408\n",
      "7800번째 cost : 1.417190432548523\n",
      "8400번째 cost : 1.4165560007095337\n",
      "9000번째 cost : 1.416007399559021\n"
     ]
    }
   ],
   "source": [
    "# ▶ 1. 데이터 셋\n",
    "x_data = np.array([[10, 7, 8, 5], \n",
    "                   [8, 8, 9, 4], \n",
    "                   [7, 8, 2, 3],\n",
    "                   [6, 3, 9, 3],\n",
    "                   [7, 5, 7, 4],\n",
    "                   [3, 5, 6, 2],\n",
    "                   [2, 4, 3, 1]])\n",
    "\n",
    "y_data = np.array([['A'],\n",
    "                   ['A'],\n",
    "                   ['B'],\n",
    "                   ['B'],\n",
    "                   ['B'],\n",
    "                   ['C'], \n",
    "                   ['C']])\n",
    "\n",
    "# ▶ 2. 데이터 정제 (원-핫 인코딩)\n",
    "# ※ 종속(결과)변수가 다중분류면 원-핫 인코딩을 해야한다.\n",
    "# from tensorflow.keras.utils import to_categorical\n",
    "# to_categorical(y_data) 숫자 데이터가 아니라서 바로 인코딩 불가\n",
    "\n",
    "# 원-핫 인코딩 방법(1)\n",
    "from sklearn.preprocessing import LabelEncoder\n",
    "encoder = LabelEncoder()\n",
    "encoder.fit(y_data)\n",
    "\n",
    "y_data = encoder.fit_transform(y_data) # A = 0, B = 1, C = 2로 분류만 됨\n",
    "y_data = to_categorical(y_data)\n",
    "\n",
    "# # 원-핫 인코딩 방법(2)\n",
    "# encoder = LabelEncoder()\n",
    "# y_data = encoder.fit_transform(y_data)\n",
    "# y_data = pd.get_dummies(y_data).values\n",
    "\n",
    "# # 원-핫 인코딩 방법(3)\n",
    "# y_data = pd.DataFrame(y_data)\n",
    "# y_data = pd.get_dummies(y_data).values\n",
    "\n",
    "y_data = np.array([[1., 0., 0.],\n",
    "                   [1., 0., 0.],\n",
    "                   [0., 1., 0.],\n",
    "                   [0., 1., 0.],\n",
    "                   [0., 1., 0.],\n",
    "                   [0., 0., 1.],\n",
    "                   [0., 0., 1.]])\n",
    "\n",
    "# X, Y\n",
    "X = tf.placeholder(shape=[None, 4], dtype = tf.float32)\n",
    "Y = tf.placeholder(shape=[None, 3], dtype = tf.float32)\n",
    "\n",
    "# Weight, bias\n",
    "W = tf.Variable(tf.random_normal([4, 3]), name = 'weight')\n",
    "b = tf.Variable(tf.random_normal([1]), name = 'bias')\n",
    "\n",
    "# 가설 세우기(H)\n",
    "logits = tf.matmul(X, W) + b\n",
    "H = tf.nn.softmax(logits) # 3진이상은 softmax\n",
    "\n",
    "# cost 함수\n",
    "# cost = tf.reduce_mean(tf.square(H - Y))\n",
    "cost = tf.reduce_mean(tf.nn.softmax_cross_entropy_with_logits_v2(logits = logits,\n",
    "                                                              labels = Y))\n",
    "# train\n",
    "train = tf.train.GradientDescentOptimizer(learning_rate = 0.1).minimize(cost)\n",
    "\n",
    "# Session & 변수 초기화\n",
    "sess = tf.Session()\n",
    "sess.run(tf.global_variables_initializer())\n",
    "\n",
    "# 학습시키기\n",
    "for step in range(1, 9001):\n",
    "    _, cost_val = sess.run([train, cost], feed_dict={X : x_data, \n",
    "                                                     Y : y_data})\n",
    "    if (step % 600) == 0:\n",
    "        print('{}번째 cost : {}'.format(step, cost_val))"
   ]
  },
  {
   "cell_type": "code",
   "execution_count": 102,
   "id": "6a89bd19",
   "metadata": {},
   "outputs": [
    {
     "name": "stdout",
     "output_type": "stream",
     "text": [
      "[1]\n",
      "[[3.9360712e-05 9.9996066e-01 2.0821443e-13]]\n"
     ]
    }
   ],
   "source": [
    "# 예측하기\n",
    "y_hat = sess.run(H, feed_dict={X: [[10, 7, 8, 4]]})\n",
    "\n",
    "print(y_hat.argmax(axis = 1))\n",
    "print(y_hat)"
   ]
  },
  {
   "cell_type": "code",
   "execution_count": 103,
   "id": "94f18a14",
   "metadata": {},
   "outputs": [
    {
     "name": "stdout",
     "output_type": "stream",
     "text": [
      "71.42857313156128 %\n"
     ]
    }
   ],
   "source": [
    "# accuracy 측정\n",
    "# H -> 0.99 0.002 0.008 -> H.argmax -> 0\n",
    "# Y -> 1    0     0     -> Y.argmax -> 0\n",
    "predict = tf.argmax(H, axis=1)\n",
    "correct = tf.equal(predict, tf.argmax(Y, axis = 1))\n",
    "\n",
    "# sess.run(correct, feed_dict={X : x_data, \n",
    "#                              Y : y_data})\n",
    "\n",
    "accuracy = tf.reduce_mean(tf.cast(correct, dtype = tf.float32))\n",
    "\n",
    "print(sess.run(accuracy, feed_dict={X : x_data, Y : y_data})*100, '%')"
   ]
  },
  {
   "cell_type": "markdown",
   "id": "5b2cbeb0",
   "metadata": {},
   "source": [
    "# 7절. XOR(Exclusive OR)\n",
    "- 다르면 1, 같으면 0"
   ]
  },
  {
   "cell_type": "code",
   "execution_count": 112,
   "id": "c339ab05",
   "metadata": {},
   "outputs": [
    {
     "name": "stdout",
     "output_type": "stream",
     "text": [
      "300번째 cost : 0.7514736652374268\n",
      "600번째 cost : 0.7211343050003052\n",
      "900번째 cost : 0.7112942337989807\n",
      "1200번째 cost : 0.705630898475647\n",
      "1500번째 cost : 0.7017935514450073\n",
      "1800번째 cost : 0.6991320848464966\n",
      "2100번째 cost : 0.6972852945327759\n",
      "2400번째 cost : 0.6960062980651855\n",
      "2700번째 cost : 0.6951219439506531\n",
      "3000번째 cost : 0.6945110559463501\n",
      "3300번째 cost : 0.6940892934799194\n",
      "3600번째 cost : 0.6937981843948364\n",
      "3900번째 cost : 0.6935973167419434\n",
      "4200번째 cost : 0.6934585571289062\n",
      "4500번째 cost : 0.6933627724647522\n",
      "4800번째 cost : 0.6932966709136963\n",
      "5100번째 cost : 0.6932509541511536\n",
      "5400번째 cost : 0.6932193040847778\n",
      "5700번째 cost : 0.6931973099708557\n",
      "6000번째 cost : 0.693182110786438\n"
     ]
    }
   ],
   "source": [
    "# 1. 데이터 셋\n",
    "x_data = [[0, 0],\n",
    "          [0, 1],\n",
    "          [1, 0],\n",
    "          [1, 1]]\n",
    "y_data = np.array([[0],\n",
    "                   [1],\n",
    "                   [1],\n",
    "                   [0]])\n",
    "\n",
    "# X, Y\n",
    "X = tf.placeholder(shape = [None, 2], dtype = tf.float32)\n",
    "Y = tf.placeholder(shape = [None, 1], dtype = tf.float32)\n",
    "\n",
    "# Weight, bias\n",
    "W = tf.Variable(tf.random_normal([2, 1]), name = 'weight')\n",
    "b = tf.Variable(tf.random_normal([1]), name = 'bias')\n",
    "\n",
    "# 가설 세우기(H)\n",
    "logits = tf.matmul(X, W) + b\n",
    "H = tf.nn.sigmoid(logits) # 3진이상은 softmax\n",
    "\n",
    "# cost 함수\n",
    "# cost = tf.reduce_mean(tf.square(H - Y))\n",
    "cost = tf.reduce_mean(tf.nn.sigmoid_cross_entropy_with_logits(logits = logits,\n",
    "                                                              labels = Y))\n",
    "# train\n",
    "train = tf.train.GradientDescentOptimizer(learning_rate = 0.01).minimize(cost)\n",
    "\n",
    "# Session & 변수 초기화\n",
    "sess = tf.Session()\n",
    "sess.run(tf.global_variables_initializer())\n",
    "\n",
    "# 학습시키기\n",
    "for step in range(1, 6001):\n",
    "    _, cost_val = sess.run([train, cost], feed_dict={X : x_data, \n",
    "                                                     Y : y_data})\n",
    "    if (step % 300) == 0:\n",
    "        print('{}번째 cost : {}'.format(step, cost_val))"
   ]
  },
  {
   "cell_type": "code",
   "execution_count": 113,
   "id": "0fa628f3",
   "metadata": {},
   "outputs": [
    {
     "data": {
      "text/plain": [
       "array([[1.],\n",
       "       [0.],\n",
       "       [1.],\n",
       "       [0.]], dtype=float32)"
      ]
     },
     "execution_count": 113,
     "metadata": {},
     "output_type": "execute_result"
    }
   ],
   "source": [
    "# accuracy 측정\n",
    "predict = tf.cast(H > 0.5, dtype=tf.float32)\n",
    "correct = tf.equal(predict, Y)\n",
    "accuracy = tf.reduce_mean(tf.cast(correct, dtype=tf.float32))\n",
    "\n",
    "sess.run(predict, feed_dict={X:x_data, Y:y_data})"
   ]
  },
  {
   "cell_type": "markdown",
   "id": "539bbb81",
   "metadata": {},
   "source": [
    "# 8절 DL을 이용한 XOR 예제"
   ]
  },
  {
   "cell_type": "code",
   "execution_count": 114,
   "id": "638762ca",
   "metadata": {},
   "outputs": [],
   "source": [
    "# 1. 데이터 셋\n",
    "x_data = [[0, 0], [0, 1], [1, 0], [1, 1]]\n",
    "y_data = np.array([[0], [1], [1], [0]])\n",
    "\n",
    "# X, Y\n",
    "X = tf.placeholder(shape = [None, 2], dtype = tf.float32)\n",
    "Y = tf.placeholder(shape = [None, 1], dtype = tf.float32)\n",
    "\n",
    "# ▶▶ 레이어1의 W, b (입력 2개, 출력 4개)\n",
    "W1 = tf.Variable(tf.random_normal([2, 4]), name = 'weight1')\n",
    "b1 = tf.Variable(tf.random_normal([4]), name = 'bias1')\n",
    "\n",
    "layer1 = tf.sigmoid(tf.matmul(X, W1) + b1)\n",
    "\n",
    "# ▶▶ 레이어2의 W, b (입력 4개, 출력 1개)\n",
    "W2 = tf.Variable(tf.random_normal([4, 1]), name = 'weight2')\n",
    "b2 = tf.Variable(tf.random_normal([1]), name = 'bias2')\n",
    "\n",
    "# Hypothesis(가설 or 예측)\n",
    "logits = tf.matmul(layer1, W2) + b2\n",
    "H = tf.sigmoid(logits)\n",
    "\n",
    "# cost\n",
    "cost = tf.reduce_mean(tf.nn.sigmoid_cross_entropy_with_logits(logits = logits, \n",
    "                                                              labels = Y))\n",
    "\n",
    "# train\n",
    "train = tf.train.GradientDescentOptimizer(learning_rate=0.01).minimize(cost)\n",
    "                      \n",
    "# Session & 변수 초기화\n",
    "sess = tf.Session()\n",
    "sess.run(tf.global_variables_initializer())"
   ]
  },
  {
   "cell_type": "code",
   "execution_count": 117,
   "id": "a095d8bb",
   "metadata": {
    "scrolled": true
   },
   "outputs": [
    {
     "name": "stdout",
     "output_type": "stream",
     "text": [
      "300번째 cost : 0.602193295955658\n",
      "600번째 cost : 0.5988581776618958\n",
      "900번째 cost : 0.5955604314804077\n",
      "1200번째 cost : 0.5923012495040894\n",
      "1500번째 cost : 0.5890814661979675\n",
      "1800번째 cost : 0.5858997702598572\n",
      "2100번째 cost : 0.5827540159225464\n",
      "2400번째 cost : 0.5796406269073486\n",
      "2700번째 cost : 0.5765540599822998\n",
      "3000번째 cost : 0.573487401008606\n",
      "정확도 : 0.75\n"
     ]
    }
   ],
   "source": [
    "# 학습시키기\n",
    "for step in range(1, 3001):\n",
    "    _, cost_val = sess.run([train, cost], feed_dict={X : x_data, \n",
    "                                                     Y : y_data})\n",
    "    if (step % 300) == 0:\n",
    "        print('{}번째 cost : {}'.format(step, cost_val))\n",
    "        \n",
    "# accuracy 측정\n",
    "predict = tf.cast(H > 0.5, dtype = tf.float32)\n",
    "correct = tf.equal(predict, Y)\n",
    "accuracy = tf.reduce_mean(tf.cast(correct, dtype = tf.float32))\n",
    "\n",
    "print('정확도 :', sess.run(accuracy, feed_dict={X:x_data, Y:y_data}))"
   ]
  },
  {
   "cell_type": "code",
   "execution_count": null,
   "id": "d2bf14a4",
   "metadata": {},
   "outputs": [],
   "source": [
    "############################\n",
    "##### 레이어 좀 더 추가 #####\n",
    "############################"
   ]
  },
  {
   "cell_type": "code",
   "execution_count": 118,
   "id": "9c856b6a",
   "metadata": {},
   "outputs": [],
   "source": [
    "# 1. 데이터 셋\n",
    "x_data = [[0, 0], [0, 1], [1, 0], [1, 1]]\n",
    "y_data = np.array([[0], [1], [1], [0]])\n",
    "\n",
    "# X, Y\n",
    "X = tf.placeholder(shape = [None, 2], dtype = tf.float32)\n",
    "Y = tf.placeholder(shape = [None, 1], dtype = tf.float32)\n",
    "\n",
    "################################################################\n",
    "# ▶▶ 레이어1 ◀◀의 W, b (입력 2개, 출력 10개)                 ##\n",
    "W1 = tf.Variable(tf.random_normal([2, 10]), name = 'weight1')  ##\n",
    "b1 = tf.Variable(tf.random_normal([10]), name = 'bias1')       ##\n",
    "\n",
    "layer1 = tf.nn.relu(tf.matmul(X, W1) + b1)\n",
    "\n",
    "# ▶▶ 레이어2 ◀◀의 W, b (입력 10개, 출력 20개)\n",
    "W2 = tf.Variable(tf.random_normal([10, 20]), name = 'weight2')\n",
    "b2 = tf.Variable(tf.random_normal([20]), name = 'bias2')\n",
    "\n",
    "# 은닉층에는 relu를 주로 사용한다.\n",
    "layer2 = tf.nn.relu(tf.matmul(layer1, W2) + b2) \n",
    "\n",
    "# ▶▶ 레이어3 ◀◀의 W, b (입력 20개, 출력 10개)\n",
    "W3 = tf.Variable(tf.random_normal([20, 10]), name = 'weight3')\n",
    "b3 = tf.Variable(tf.random_normal([10]), name = 'bias3')\n",
    "\n",
    "layer3 = tf.nn.relu(tf.matmul(layer2, W3) + b3)\n",
    "\n",
    "# ▶▶ 레이어4 ◀◀의 W, b (입력 10개, 출력 1개)                 ##\n",
    "W4 = tf.Variable(tf.random_normal([10, 1]), name = 'weight4') ##\n",
    "b4 = tf.Variable(tf.random_normal([1]), name = 'bias4')       ##\n",
    "################################################################\n",
    "\n",
    "# Hypothesis(가설 or 예측)\n",
    "logits = tf.matmul(layer3, W4) + b4\n",
    "H = tf.sigmoid(logits)\n",
    "\n",
    "# cost\n",
    "cost = tf.reduce_mean(tf.nn.sigmoid_cross_entropy_with_logits(logits = logits, \n",
    "                                                              labels = Y))\n",
    "\n",
    "# train\n",
    "train = tf.train.GradientDescentOptimizer(learning_rate=0.01).minimize(cost)\n",
    "                      \n",
    "# Session & 변수 초기화\n",
    "sess = tf.Session()\n",
    "sess.run(tf.global_variables_initializer())"
   ]
  },
  {
   "cell_type": "code",
   "execution_count": 119,
   "id": "84ae552e",
   "metadata": {},
   "outputs": [
    {
     "name": "stdout",
     "output_type": "stream",
     "text": [
      "300번째 cost : 0.0345814973115921\n",
      "600번째 cost : 0.013820139691233635\n",
      "900번째 cost : 0.008213909342885017\n",
      "1200번째 cost : 0.0056641241535544395\n",
      "1500번째 cost : 0.004236298147588968\n",
      "1800번째 cost : 0.0033352915197610855\n",
      "2100번째 cost : 0.0027257385663688183\n",
      "2400번째 cost : 0.0022891773842275143\n",
      "2700번째 cost : 0.0019630994647741318\n",
      "3000번째 cost : 0.001711148303002119\n",
      "정확도 : 1.0\n"
     ]
    }
   ],
   "source": [
    "# 학습시키기\n",
    "for step in range(1, 3001):\n",
    "    _, cost_val = sess.run([train, cost], feed_dict={X : x_data, \n",
    "                                                     Y : y_data})\n",
    "    if (step % 300) == 0:\n",
    "        print('{}번째 cost : {}'.format(step, cost_val))\n",
    "        \n",
    "# accuracy 측정\n",
    "predict = tf.cast(H > 0.5, dtype = tf.float32)\n",
    "correct = tf.equal(predict, Y)\n",
    "accuracy = tf.reduce_mean(tf.cast(correct, dtype = tf.float32))\n",
    "\n",
    "print('정확도 :', sess.run(accuracy, feed_dict={X:x_data, Y:y_data}))"
   ]
  }
 ],
 "metadata": {
  "kernelspec": {
   "display_name": "Python 3",
   "language": "python",
   "name": "python3"
  },
  "language_info": {
   "codemirror_mode": {
    "name": "ipython",
    "version": 3
   },
   "file_extension": ".py",
   "mimetype": "text/x-python",
   "name": "python",
   "nbconvert_exporter": "python",
   "pygments_lexer": "ipython3",
   "version": "3.8.8"
  },
  "toc": {
   "base_numbering": 1,
   "nav_menu": {},
   "number_sections": false,
   "sideBar": true,
   "skip_h1_title": false,
   "title_cell": "Table of Contents",
   "title_sidebar": "Contents",
   "toc_cell": false,
   "toc_position": {
    "height": "calc(100% - 180px)",
    "left": "10px",
    "top": "150px",
    "width": "247px"
   },
   "toc_section_display": true,
   "toc_window_display": true
  },
  "varInspector": {
   "cols": {
    "lenName": 16,
    "lenType": 16,
    "lenVar": 40
   },
   "kernels_config": {
    "python": {
     "delete_cmd_postfix": "",
     "delete_cmd_prefix": "del ",
     "library": "var_list.py",
     "varRefreshCmd": "print(var_dic_list())"
    },
    "r": {
     "delete_cmd_postfix": ") ",
     "delete_cmd_prefix": "rm(",
     "library": "var_list.r",
     "varRefreshCmd": "cat(var_dic_list()) "
    }
   },
   "position": {
    "height": "454px",
    "left": "1550px",
    "right": "20px",
    "top": "120px",
    "width": "350px"
   },
   "types_to_exclude": [
    "module",
    "function",
    "builtin_function_or_method",
    "instance",
    "_Feature"
   ],
   "window_display": true
  }
 },
 "nbformat": 4,
 "nbformat_minor": 5
}
