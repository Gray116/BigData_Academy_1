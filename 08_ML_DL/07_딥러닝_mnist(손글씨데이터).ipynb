{
 "cells": [
  {
   "cell_type": "code",
   "execution_count": 1,
   "id": "32f8881c",
   "metadata": {},
   "outputs": [
    {
     "data": {
      "text/html": [
       "\n",
       "<style>\n",
       "div.Container {width:85% !important;}\n",
       "div.CodeMirror {font-family:NanumGothic; font-size:13pt; line-height : 150%;}\n",
       "div.output_area pre {font-family:NanumGothic; font-size:13pt; line-height : 150%;}\n",
       "div.output_wrapper pre {font-family:NanumGothic; font-size:13pt; line-height : 150%;}\n",
       "div.input {font-family:NanumGothic; font-size:13pt; line-height : 150%;}\n",
       "</style>\n"
      ],
      "text/plain": [
       "<IPython.core.display.HTML object>"
      ]
     },
     "metadata": {},
     "output_type": "display_data"
    }
   ],
   "source": [
    "from IPython.display import display, HTML\n",
    "display(HTML(\"\"\"\n",
    "<style>\n",
    "div.Container {width:85% !important;}\n",
    "div.CodeMirror {font-family:NanumGothic; font-size:13pt; line-height : 150%;}\n",
    "div.output_area pre {font-family:NanumGothic; font-size:13pt; line-height : 150%;}\n",
    "div.output_wrapper pre {font-family:NanumGothic; font-size:13pt; line-height : 150%;}\n",
    "div.input {font-family:NanumGothic; font-size:13pt; line-height : 150%;}\n",
    "</style>\n",
    "\"\"\"))"
   ]
  },
  {
   "cell_type": "code",
   "execution_count": 1,
   "id": "fb9a809c",
   "metadata": {},
   "outputs": [],
   "source": [
    "import warnings\n",
    "warnings.filterwarnings(action = 'ignore')"
   ]
  },
  {
   "cell_type": "markdown",
   "id": "3f7c0d61",
   "metadata": {},
   "source": [
    "# 1절. Mnist 데이터 딥러닝"
   ]
  },
  {
   "cell_type": "code",
   "execution_count": 2,
   "id": "e89f2f86",
   "metadata": {},
   "outputs": [],
   "source": [
    "from tensorflow.keras.datasets import mnist # 1. 데이터 셋\n",
    "\n",
    "import tensorflow.keras.utils as utils # 2. 원-핫 인코딩\n",
    "import pandas as pd\n",
    "\n",
    "from tensorflow.keras.models import Sequential # 3. 모델 생성\n",
    "from tensorflow.keras.layers import Dense\n",
    "\n",
    "from matplotlib import pyplot as plt # 4. 모델 학습 & 평가\n",
    "import numpy as np\n",
    "\n",
    "np.random.seed(3)"
   ]
  },
  {
   "cell_type": "code",
   "execution_count": 4,
   "id": "6d966f98",
   "metadata": {},
   "outputs": [
    {
     "data": {
      "text/plain": [
       "((60000, 28, 28), (60000,), (10000, 28, 28), (10000,))"
      ]
     },
     "execution_count": 4,
     "metadata": {},
     "output_type": "execute_result"
    }
   ],
   "source": [
    "# ▶ 1. 데이터 셋 준비\n",
    "#    train set,         test set       분리\n",
    "(X_train, Y_train), (X_test, Y_test) = mnist.load_data()\n",
    "\n",
    "X_train.shape, Y_train.shape, X_test.shape, Y_test.shape"
   ]
  },
  {
   "cell_type": "code",
   "execution_count": 6,
   "id": "c282e6dd",
   "metadata": {},
   "outputs": [
    {
     "name": "stdout",
     "output_type": "stream",
     "text": [
      "(28, 28)\n",
      "  0   0   0   0   0   0   0   0   0   0   0   0   0   0   0   0   0   0   0   0   0   0   0   0   0   0   0   0 \n",
      "  0   0   0   0   0   0   0   0   0   0   0   0   0   0   0   0   0   0   0   0   0   0   0   0   0   0   0   0 \n",
      "  0   0   0   0   0   0   0   0   0   0   0   0   0   0   0   0   0   0   0   0   0   0   0   0   0   0   0   0 \n",
      "  0   0   0   0   0   0   0   0   0   0   0   0   0   0   0   0   0   0   0   0   0   0   0   0   0   0   0   0 \n",
      "  0   0   0   0   0   0   0   0   0   0   0   0   0   0   0   0   0   0   0   0   0   0   0   0   0   0   0   0 \n",
      "  0   0   0   0   0   0   0   0   0   0   0   0   3  18  18  18 126 136 175  26 166 255 247 127   0   0   0   0 \n",
      "  0   0   0   0   0   0   0   0  30  36  94 154 170 253 253 253 253 253 225 172 253 242 195  64   0   0   0   0 \n",
      "  0   0   0   0   0   0   0  49 238 253 253 253 253 253 253 253 253 251  93  82  82  56  39   0   0   0   0   0 \n",
      "  0   0   0   0   0   0   0  18 219 253 253 253 253 253 198 182 247 241   0   0   0   0   0   0   0   0   0   0 \n",
      "  0   0   0   0   0   0   0   0  80 156 107 253 253 205  11   0  43 154   0   0   0   0   0   0   0   0   0   0 \n",
      "  0   0   0   0   0   0   0   0   0  14   1 154 253  90   0   0   0   0   0   0   0   0   0   0   0   0   0   0 \n",
      "  0   0   0   0   0   0   0   0   0   0   0 139 253 190   2   0   0   0   0   0   0   0   0   0   0   0   0   0 \n",
      "  0   0   0   0   0   0   0   0   0   0   0  11 190 253  70   0   0   0   0   0   0   0   0   0   0   0   0   0 \n",
      "  0   0   0   0   0   0   0   0   0   0   0   0  35 241 225 160 108   1   0   0   0   0   0   0   0   0   0   0 \n",
      "  0   0   0   0   0   0   0   0   0   0   0   0   0  81 240 253 253 119  25   0   0   0   0   0   0   0   0   0 \n",
      "  0   0   0   0   0   0   0   0   0   0   0   0   0   0  45 186 253 253 150  27   0   0   0   0   0   0   0   0 \n",
      "  0   0   0   0   0   0   0   0   0   0   0   0   0   0   0  16  93 252 253 187   0   0   0   0   0   0   0   0 \n",
      "  0   0   0   0   0   0   0   0   0   0   0   0   0   0   0   0   0 249 253 249  64   0   0   0   0   0   0   0 \n",
      "  0   0   0   0   0   0   0   0   0   0   0   0   0   0  46 130 183 253 253 207   2   0   0   0   0   0   0   0 \n",
      "  0   0   0   0   0   0   0   0   0   0   0   0  39 148 229 253 253 253 250 182   0   0   0   0   0   0   0   0 \n",
      "  0   0   0   0   0   0   0   0   0   0  24 114 221 253 253 253 253 201  78   0   0   0   0   0   0   0   0   0 \n",
      "  0   0   0   0   0   0   0   0  23  66 213 253 253 253 253 198  81   2   0   0   0   0   0   0   0   0   0   0 \n",
      "  0   0   0   0   0   0  18 171 219 253 253 253 253 195  80   9   0   0   0   0   0   0   0   0   0   0   0   0 \n",
      "  0   0   0   0  55 172 226 253 253 253 253 244 133  11   0   0   0   0   0   0   0   0   0   0   0   0   0   0 \n",
      "  0   0   0   0 136 253 253 253 212 135 132  16   0   0   0   0   0   0   0   0   0   0   0   0   0   0   0   0 \n",
      "  0   0   0   0   0   0   0   0   0   0   0   0   0   0   0   0   0   0   0   0   0   0   0   0   0   0   0   0 \n",
      "  0   0   0   0   0   0   0   0   0   0   0   0   0   0   0   0   0   0   0   0   0   0   0   0   0   0   0   0 \n",
      "  0   0   0   0   0   0   0   0   0   0   0   0   0   0   0   0   0   0   0   0   0   0   0   0   0   0   0   0 \n"
     ]
    }
   ],
   "source": [
    "print(X_train[0].shape)\n",
    "\n",
    "for row in X_train[0]:\n",
    "    for pixel in row:\n",
    "        print('{:3d} '.format(pixel), end = '')\n",
    "    print()"
   ]
  },
  {
   "cell_type": "code",
   "execution_count": 12,
   "id": "3a56ce68",
   "metadata": {},
   "outputs": [
    {
     "data": {
      "image/png": "[encoded data removed]",
      "text/plain": [
       "<Figure size 432x288 with 1 Axes>"
      ]
     },
     "metadata": {
      "needs_background": "light"
     },
     "output_type": "display_data"
    }
   ],
   "source": [
    "plt.imshow(X_train[1])\n",
    "plt.show()"
   ]
  },
  {
   "cell_type": "code",
   "execution_count": 13,
   "id": "45f0083d",
   "metadata": {},
   "outputs": [
    {
     "data": {
      "text/plain": [
       "0"
      ]
     },
     "execution_count": 13,
     "metadata": {},
     "output_type": "execute_result"
    }
   ],
   "source": [
    "Y_train[1]"
   ]
  },
  {
   "cell_type": "code",
   "execution_count": 14,
   "id": "71542fd9",
   "metadata": {},
   "outputs": [],
   "source": [
    "# ▶ 2. 데이터 전처리\n",
    "# 훈련셋(6만)에서 훈련셋(5만)과 검증셋(1만)을 분리\n",
    "\n",
    "# 검증 셋\n",
    "X_val = X_train[50000:]\n",
    "Y_val = Y_train[50000:]\n",
    "\n",
    "# 훈련 셋\n",
    "X_train = X_train[:50000]\n",
    "Y_train = Y_train[:50000]"
   ]
  },
  {
   "cell_type": "code",
   "execution_count": 23,
   "id": "fe538c9b",
   "metadata": {},
   "outputs": [
    {
     "name": "stdout",
     "output_type": "stream",
     "text": [
      "(50000, 28, 28) (50000,) \n",
      " (10000, 28, 28) (10000,)\n",
      "  (10000, 28, 28) (10000,)\n"
     ]
    }
   ],
   "source": [
    "# 학습할 때 사용할 훈련셋, 검증셋\n",
    "print(X_train.shape, Y_train.shape, '\\n', X_val.shape, Y_val.shape)\n",
    "# 평가할 때 사용할 훈련셋\n",
    "print(' ', X_test.shape, Y_test.shape)"
   ]
  },
  {
   "cell_type": "code",
   "execution_count": 24,
   "id": "aeb14c09",
   "metadata": {},
   "outputs": [],
   "source": [
    "# 정수 → 실수형 변환 → 정규화(normalize)\n",
    "X_train = X_train.reshape(50000, 784).astype('float32') / 255.0\n",
    "X_val = X_val.reshape(10000, 784).astype('float32') / 255.0\n",
    "X_test = X_test.reshape(10000, 784).astype('float32') / 255.0"
   ]
  },
  {
   "cell_type": "code",
   "execution_count": 25,
   "id": "42426968",
   "metadata": {},
   "outputs": [
    {
     "data": {
      "text/plain": [
       "((50000, 784), (10000, 784), (10000, 784))"
      ]
     },
     "execution_count": 25,
     "metadata": {},
     "output_type": "execute_result"
    }
   ],
   "source": [
    "X_train.shape, X_val.shape, X_test.shape"
   ]
  },
  {
   "cell_type": "code",
   "execution_count": 26,
   "id": "6213c42f",
   "metadata": {},
   "outputs": [],
   "source": [
    "# 훈련셋과 검증셋 → 700개, 300개씩 무작위로 가져오기\n",
    "train_rand_idxs = np.random.choice(50000, 700)\n",
    "val_rand_idxs   = np.random.choice(10000, 300)\n",
    "\n",
    "X_train = X_train[train_rand_idxs] # 700개\n",
    "Y_train = Y_train[train_rand_idxs]\n",
    "\n",
    "X_val = X_val[val_rand_idxs] # 300개\n",
    "Y_val = Y_val[val_rand_idxs]"
   ]
  },
  {
   "cell_type": "code",
   "execution_count": 27,
   "id": "9228c345",
   "metadata": {},
   "outputs": [
    {
     "data": {
      "text/plain": [
       "((700, 784), (700,), (300, 784), (300,))"
      ]
     },
     "execution_count": 27,
     "metadata": {},
     "output_type": "execute_result"
    }
   ],
   "source": [
    "X_train.shape, Y_train.shape, X_val.shape, Y_val.shape"
   ]
  },
  {
   "cell_type": "code",
   "execution_count": 28,
   "id": "393899a6",
   "metadata": {},
   "outputs": [
    {
     "data": {
      "image/png": "[encoded data removed]",
      "text/plain": [
       "<Figure size 432x288 with 1 Axes>"
      ]
     },
     "metadata": {
      "needs_background": "light"
     },
     "output_type": "display_data"
    }
   ],
   "source": [
    "plt.imshow(X_train[0].reshape(28, 28))\n",
    "plt.show()"
   ]
  },
  {
   "cell_type": "code",
   "execution_count": 29,
   "id": "9d15b6ad",
   "metadata": {},
   "outputs": [
    {
     "data": {
      "text/plain": [
       "1"
      ]
     },
     "execution_count": 29,
     "metadata": {},
     "output_type": "execute_result"
    }
   ],
   "source": [
    "Y_train[0]"
   ]
  },
  {
   "cell_type": "code",
   "execution_count": 30,
   "id": "4f3462c0",
   "metadata": {},
   "outputs": [
    {
     "data": {
      "text/plain": [
       "((700,), (300,), (10000,))"
      ]
     },
     "execution_count": 30,
     "metadata": {},
     "output_type": "execute_result"
    }
   ],
   "source": [
    "Y_train.shape, Y_val.shape, Y_test.shape"
   ]
  },
  {
   "cell_type": "code",
   "execution_count": 32,
   "id": "023bf5f4",
   "metadata": {},
   "outputs": [
    {
     "data": {
      "text/plain": [
       "<bound method DataFrame.to_numpy of    1  2  3\n",
       "0  1  0  0\n",
       "1  0  1  0\n",
       "2  0  0  1>"
      ]
     },
     "execution_count": 32,
     "metadata": {},
     "output_type": "execute_result"
    }
   ],
   "source": [
    "# 원-핫 인코딩 방법(1)\n",
    "sampledata = np.array([1, 2, 3])\n",
    "pd.get_dummies(sampledata).to_numpy # or .values"
   ]
  },
  {
   "cell_type": "code",
   "execution_count": 36,
   "id": "09e4bdf2",
   "metadata": {},
   "outputs": [
    {
     "data": {
      "text/plain": [
       "array([[0., 1., 0., 0.],\n",
       "       [0., 0., 1., 0.],\n",
       "       [0., 0., 0., 1.]], dtype=float32)"
      ]
     },
     "execution_count": 36,
     "metadata": {},
     "output_type": "execute_result"
    }
   ],
   "source": [
    "# 원-핫 인코딩 방법(2)\n",
    "utils.to_categorical(sampledata)"
   ]
  },
  {
   "cell_type": "code",
   "execution_count": 37,
   "id": "d33116e5",
   "metadata": {},
   "outputs": [],
   "source": [
    "# 원-핫 인코딩 = 라벨링 전환\n",
    "# 1 → 0 1 0 0 0 0 0 0 0 0\n",
    "# 9 → 0 0 0 0 0 0 0 0 0 1\n",
    "Y_train = utils.to_categorical(Y_train)\n",
    "Y_val   = utils.to_categorical(Y_val)\n",
    "Y_test  = utils.to_categorical(Y_test)"
   ]
  },
  {
   "cell_type": "code",
   "execution_count": 39,
   "id": "a44ac196",
   "metadata": {},
   "outputs": [
    {
     "data": {
      "text/plain": [
       "((700, 10), (300, 10), (10000, 10))"
      ]
     },
     "execution_count": 39,
     "metadata": {},
     "output_type": "execute_result"
    }
   ],
   "source": [
    "Y_train.shape, Y_val.shape, Y_test.shape"
   ]
  },
  {
   "cell_type": "code",
   "execution_count": 40,
   "id": "862c2842",
   "metadata": {},
   "outputs": [
    {
     "name": "stdout",
     "output_type": "stream",
     "text": [
      "[0. 1. 0. 0. 0. 0. 0. 0. 0. 0.]\n",
      "1\n"
     ]
    }
   ],
   "source": [
    "print(Y_train[0])\n",
    "print(Y_train[0].argmax())"
   ]
  },
  {
   "cell_type": "code",
   "execution_count": 42,
   "id": "9ab2a532",
   "metadata": {},
   "outputs": [],
   "source": [
    "# ▶ 3. 모델 생성\n",
    "# from tensorflow.keras.layers import Activation\n",
    "# relu = Activation('relu')\n",
    "model = Sequential()\n",
    "model.add(Dense(input_dim = 784, units = 2, activation = 'relu'))\n",
    "model.add(Dense(units = 10, activation = 'softmax'))\n",
    "\n",
    "# ▶ 4. 학습과정 설정\n",
    "model.compile(loss = 'categorical_crossentropy', \n",
    "              optimizer = 'sgd', \n",
    "              metrics = ['accuracy'])\n",
    "\n",
    "# # ▶ 5. 학습시키기\n",
    "# hist = model.fit(X_train, Y_train, \n",
    "#                  epochs          = 1000,\n",
    "#                  verbose         = 2, \n",
    "#                  batch_size      = 100, \n",
    "#                  validation_data = (X_val, Y_val))\n",
    "\n",
    "# 1000번째 학습시,\n",
    "# loss : 1.0848, accuracy : 0.6171, val_loss : 1.2649, val_accuracy : 0.5133"
   ]
  },
  {
   "cell_type": "code",
   "execution_count": null,
   "id": "b4623447",
   "metadata": {},
   "outputs": [],
   "source": [
    "############################################################################"
   ]
  },
  {
   "cell_type": "code",
   "execution_count": 4,
   "id": "acd65ebe",
   "metadata": {
    "scrolled": true
   },
   "outputs": [],
   "source": [
    "# ▶ 1. 데이터 셋 준비하기\n",
    "(X_train, Y_train), (X_test, Y_test) = mnist.load_data()\n",
    "\n",
    "\n",
    "# ▶ 2. 데이터 전처리\n",
    "# 검증 셋\n",
    "X_val = X_train[50000:]\n",
    "Y_val = Y_train[50000:]\n",
    "\n",
    "# 훈련 셋\n",
    "X_train = X_train[:50000]\n",
    "Y_train = Y_train[:50000]\n",
    "\n",
    "# 정수 → 실수형 변환 → 정규화(normalize)\n",
    "X_train = X_train.reshape(50000, 784).astype('float32') / 255.0\n",
    "X_val = X_val.reshape(10000, 784).astype('float32') / 255.0\n",
    "X_test = X_test.reshape(10000, 784).astype('float32') / 255.0\n",
    "\n",
    "# 훈련셋과 검증셋 → 700개, 300개씩 무작위로 가져오기\n",
    "train_rand_idxs = np.random.choice(50000, 700)\n",
    "val_rand_idxs   = np.random.choice(10000, 300)\n",
    "\n",
    "X_train = X_train[train_rand_idxs] # 700개\n",
    "Y_train = Y_train[train_rand_idxs]\n",
    "\n",
    "X_val = X_val[val_rand_idxs] # 300개\n",
    "Y_val = Y_val[val_rand_idxs]\n",
    "\n",
    "# 원-핫 인코딩 = 라벨링 전환\n",
    "# 1 → 0 1 0 0 0 0 0 0 0 0\n",
    "# 9 → 0 0 0 0 0 0 0 0 0 1\n",
    "Y_train = utils.to_categorical(Y_train)\n",
    "Y_val   = utils.to_categorical(Y_val)\n",
    "Y_test  = utils.to_categorical(Y_test)\n",
    "\n",
    "# ▶ 3. 모델 생성\n",
    "# from tensorflow.keras.layers import Activation\n",
    "# relu = Activation('relu')\n",
    "model = Sequential()\n",
    "model.add(Dense(input_dim = 784, units = 2, activation = 'relu'))\n",
    "model.add(Dense(units = 10, activation = 'softmax'))\n",
    "\n",
    "# ▶ 4. 학습과정 설정\n",
    "model.compile(loss = 'categorical_crossentropy', \n",
    "              optimizer = 'sgd', \n",
    "              metrics = ['accuracy'])\n",
    "\n",
    "# ▶ 5. 학습시키기\n",
    "# hist = model.fit(X_train, Y_train, \n",
    "#                  epochs          = 1000,\n",
    "#                  verbose         = 2, \n",
    "#                  batch_size      = 100, \n",
    "#                  validation_data = (X_val, Y_val))"
   ]
  },
  {
   "cell_type": "code",
   "execution_count": 7,
   "id": "10946556",
   "metadata": {},
   "outputs": [
    {
     "data": {
      "text/plain": [
       "dict_keys(['loss', 'accuracy', 'val_loss', 'val_accuracy'])"
      ]
     },
     "execution_count": 7,
     "metadata": {},
     "output_type": "execute_result"
    }
   ],
   "source": [
    "# ▶ 6. 학습과정 표시\n",
    "hist.history.keys()"
   ]
  },
  {
   "cell_type": "code",
   "execution_count": 8,
   "id": "431ce717",
   "metadata": {},
   "outputs": [
    {
     "data": {
      "image/png": "[encoded data removed]",
      "text/plain": [
       "<Figure size 1152x648 with 2 Axes>"
      ]
     },
     "metadata": {
      "needs_background": "light"
     },
     "output_type": "display_data"
    }
   ],
   "source": [
    "fig, loss_ax = plt.subplots(figsize = (16, 9))\n",
    "\n",
    "loss_ax.plot(hist.history['loss'], 'y', label = 'train loss')\n",
    "loss_ax.plot(hist.history['val_loss'], 'g', label = 'val_loss')\n",
    "\n",
    "loss_ax.set_xlabel('epochs')\n",
    "loss_ax.set_ylabel('label')\n",
    "loss_ax.legend(loc = 'upper left')\n",
    "\n",
    "acc_ax = loss_ax.twinx()\n",
    "acc_ax.plot(hist.history['accuracy'], 'b', label = 'accuracy')\n",
    "acc_ax.plot(hist.history['val_accuracy'], 'r', label = 'val_accuracy')\n",
    "\n",
    "acc_ax.set_ylabel('accuracy')\n",
    "acc_ax.legend(loc = 'lower left')\n",
    "\n",
    "plt.show()"
   ]
  },
  {
   "cell_type": "code",
   "execution_count": 9,
   "id": "bf5919f2",
   "metadata": {},
   "outputs": [
    {
     "name": "stdout",
     "output_type": "stream",
     "text": [
      "100/100 [==============================] - 0s 760us/step - loss: 1.9572 - accuracy: 0.2359\n"
     ]
    }
   ],
   "source": [
    "# ▶ 7. 모델 평가 및 저장\n",
    "loss_and_metrics = model.evaluate(X_test, Y_test, \n",
    "                                  batch_size = 100)"
   ]
  },
  {
   "cell_type": "code",
   "execution_count": 10,
   "id": "cd0e17c1",
   "metadata": {},
   "outputs": [
    {
     "name": "stdout",
     "output_type": "stream",
     "text": [
      "loss : 1.957249402999878\n",
      "accuracy : 23.59 %\n"
     ]
    }
   ],
   "source": [
    "print('loss :', loss_and_metrics[0])\n",
    "print('accuracy :', round(loss_and_metrics[1]*100, 2), '%')"
   ]
  },
  {
   "cell_type": "code",
   "execution_count": 11,
   "id": "dea1dea2",
   "metadata": {},
   "outputs": [],
   "source": [
    "# ▶ 8. 모델 불러오기 및 사용\n",
    "model.save('model/mnist.h5')"
   ]
  },
  {
   "cell_type": "code",
   "execution_count": 12,
   "id": "8591e88c",
   "metadata": {
    "scrolled": true
   },
   "outputs": [
    {
     "name": "stdout",
     "output_type": "stream",
     "text": [
      "Model: \"sequential\"\n",
      "_________________________________________________________________\n",
      "Layer (type)                 Output Shape              Param #   \n",
      "=================================================================\n",
      "dense (Dense)                (None, 2)                 1570      \n",
      "_________________________________________________________________\n",
      "dense_1 (Dense)              (None, 10)                30        \n",
      "=================================================================\n",
      "Total params: 1,600\n",
      "Trainable params: 1,600\n",
      "Non-trainable params: 0\n",
      "_________________________________________________________________\n"
     ]
    }
   ],
   "source": [
    "from tensorflow.keras.models import load_model\n",
    "model2 = load_model('model/mnist.h5')\n",
    "\n",
    "model2.summary()"
   ]
  },
  {
   "cell_type": "code",
   "execution_count": 13,
   "id": "0217198a",
   "metadata": {},
   "outputs": [
    {
     "data": {
      "text/plain": [
       "(784,)"
      ]
     },
     "execution_count": 13,
     "metadata": {},
     "output_type": "execute_result"
    }
   ],
   "source": [
    "# 모델 사용하기 (예측)\n",
    "X_test[0].shape"
   ]
  },
  {
   "cell_type": "code",
   "execution_count": 16,
   "id": "b641ad41",
   "metadata": {},
   "outputs": [
    {
     "name": "stdout",
     "output_type": "stream",
     "text": [
      "예측치 : 1\n",
      "실제값 : 7\n"
     ]
    }
   ],
   "source": [
    "result = model2.predict(X_test[0].reshape(1, 784))\n",
    "\n",
    "print('예측치 :',result.argmax())\n",
    "print('실제값 :', Y_test[0].argmax())\n",
    "\n",
    "# 정확도가 낮아 틀릴 수 있다."
   ]
  },
  {
   "cell_type": "code",
   "execution_count": 17,
   "id": "7248d972",
   "metadata": {},
   "outputs": [],
   "source": [
    "###################################################################"
   ]
  },
  {
   "cell_type": "markdown",
   "id": "005d13e9",
   "metadata": {},
   "source": [
    "## 1.1 Call back 함수"
   ]
  },
  {
   "cell_type": "code",
   "execution_count": 3,
   "id": "c70451e9",
   "metadata": {},
   "outputs": [
    {
     "name": "stdout",
     "output_type": "stream",
     "text": [
      "epoch : 50\n",
      "loss : 1.967698097229004, acc : 0.25857141613960266\n",
      "val_loss : 1.9691346883773804, val_acc : 0.24666666984558105\n",
      "epoch : 100\n",
      "loss : 1.7665311098098755, acc : 0.3100000023841858\n",
      "val_loss : 1.788184404373169, val_acc : 0.2966666519641876\n",
      "epoch : 150\n",
      "loss : 1.6309971809387207, acc : 0.40714284777641296\n",
      "val_loss : 1.6686006784439087, val_acc : 0.3700000047683716\n",
      "epoch : 200\n",
      "loss : 1.5358569622039795, acc : 0.427142858505249\n",
      "val_loss : 1.587153434753418, val_acc : 0.36666667461395264\n",
      "epoch : 250\n",
      "loss : 1.463808298110962, acc : 0.4642857015132904\n",
      "val_loss : 1.5275362730026245, val_acc : 0.4099999964237213\n",
      "epoch : 300\n",
      "loss : 1.405003309249878, acc : 0.5271428823471069\n",
      "val_loss : 1.4807065725326538, val_acc : 0.4266666769981384\n",
      "epoch : 350\n",
      "loss : 1.3555877208709717, acc : 0.5414285659790039\n",
      "val_loss : 1.4439611434936523, val_acc : 0.44333332777023315\n",
      "epoch : 400\n",
      "loss : 1.311378002166748, acc : 0.5600000023841858\n",
      "val_loss : 1.4132685661315918, val_acc : 0.4533333480358124\n",
      "epoch : 450\n",
      "loss : 1.2725839614868164, acc : 0.5799999833106995\n",
      "val_loss : 1.3892041444778442, val_acc : 0.46666666865348816\n",
      "epoch : 500\n",
      "loss : 1.238724708557129, acc : 0.5914285778999329\n",
      "val_loss : 1.3700758218765259, val_acc : 0.47999998927116394\n",
      "epoch : 550\n",
      "loss : 1.2085167169570923, acc : 0.604285717010498\n",
      "val_loss : 1.3538600206375122, val_acc : 0.47999998927116394\n",
      "epoch : 600\n",
      "loss : 1.1814223527908325, acc : 0.6257143020629883\n",
      "val_loss : 1.3418247699737549, val_acc : 0.47999998927116394\n",
      "epoch : 650\n",
      "loss : 1.156948208808899, acc : 0.6328571438789368\n",
      "val_loss : 1.3317643404006958, val_acc : 0.4833333194255829\n",
      "epoch : 700\n",
      "loss : 1.1350826025009155, acc : 0.6399999856948853\n",
      "val_loss : 1.3235015869140625, val_acc : 0.49000000953674316\n",
      "epoch : 750\n",
      "loss : 1.1156750917434692, acc : 0.6471428275108337\n",
      "val_loss : 1.3170630931854248, val_acc : 0.4933333396911621\n",
      "epoch : 800\n",
      "loss : 1.0969983339309692, acc : 0.6471428275108337\n",
      "val_loss : 1.3120448589324951, val_acc : 0.4833333194255829\n",
      "epoch : 850\n",
      "loss : 1.0803989171981812, acc : 0.6514285802841187\n",
      "val_loss : 1.3079869747161865, val_acc : 0.49000000953674316\n",
      "epoch : 900\n",
      "loss : 1.0644575357437134, acc : 0.6571428775787354\n",
      "val_loss : 1.3043376207351685, val_acc : 0.49666666984558105\n",
      "epoch : 950\n",
      "loss : 1.0486799478530884, acc : 0.6671428680419922\n",
      "val_loss : 1.3021228313446045, val_acc : 0.5133333206176758\n",
      "epoch : 1000\n",
      "loss : 1.0321948528289795, acc : 0.6742857098579407\n",
      "val_loss : 1.300387978553772, val_acc : 0.5166666507720947\n",
      "epoch : 1050\n",
      "loss : 1.0165146589279175, acc : 0.6814285516738892\n",
      "val_loss : 1.3001741170883179, val_acc : 0.5099999904632568\n",
      "epoch : 1100\n",
      "loss : 1.0027967691421509, acc : 0.6885714530944824\n",
      "val_loss : 1.3016952276229858, val_acc : 0.5066666603088379\n",
      "epoch : 1150\n",
      "loss : 0.989146888256073, acc : 0.6899999976158142\n",
      "val_loss : 1.3037244081497192, val_acc : 0.5066666603088379\n",
      "epoch : 1200\n",
      "loss : 0.9767265319824219, acc : 0.6942856907844543\n",
      "val_loss : 1.3060835599899292, val_acc : 0.5\n"
     ]
    }
   ],
   "source": [
    "import tensorflow as tf\n",
    "class CustomeHistory(tf.keras.callbacks.Callback): # on_epoch_end()\n",
    "    def __init__(self):\n",
    "        self.epoch = 0\n",
    "    def on_epoch_end(self, batch, logs={}):\n",
    "        self.epoch += 1\n",
    "        if self.epoch % 50 == 0:\n",
    "            print(\"epoch : {}\\nloss : {}, acc : {}\\nval_loss : {}, val_acc : {}\".\\\n",
    "                 format(self.epoch, logs.get('loss'),\n",
    "                       logs.get('accuracy'),\n",
    "                       logs.get('val_loss'),\n",
    "                       logs.get('val_accuracy') ) )\n",
    "\n",
    "# 1. 데이터 셋 준비하기\n",
    "(X_train, Y_train),(X_test, Y_test)=mnist.load_data()\n",
    "\n",
    "# 훈련셋(6만개)에서 훈련셋(5만개)과 검증셋(만개)을 분리\n",
    "X_val = X_train[50000:]\n",
    "Y_val = Y_train[50000:]\n",
    "\n",
    "X_train = X_train[:50000]\n",
    "Y_train = Y_train[:50000]\n",
    "\n",
    "# 정수 -> 실수형 변환 -> normalize하기(255.0으로 나눠)\n",
    "X_train = X_train.reshape(50000, 784).astype('float32') / 255.0\n",
    "X_val   = X_val.reshape(10000, 784).astype('float32') / 255.0\n",
    "X_test  = X_test.reshape(10000, 784).astype('float32') / 255.0\n",
    "\n",
    "# 훈련셋과 검증셋 -> 700개, 300개씩 가져옴(random하게)\n",
    "train_rand_idxs = np.random.choice(50000, 700)\n",
    "val_rand_idxs   = np.random.choice(10000, 300)\n",
    "\n",
    "X_train = X_train[train_rand_idxs]\n",
    "Y_train = Y_train[train_rand_idxs]\n",
    "\n",
    "X_val = X_val[val_rand_idxs]\n",
    "Y_val = Y_val[val_rand_idxs]\n",
    "\n",
    "# 원핫인코딩 = 라벨링전환\n",
    "Y_train = utils.to_categorical(Y_train, 10)\n",
    "Y_val   = utils.to_categorical(Y_val, 10)\n",
    "Y_test  = utils.to_categorical(Y_test, 10)\n",
    "\n",
    "\n",
    "# 2. 모델 구성하기\n",
    "# from tensorflow.keras.layers import Activation\n",
    "# relu = Activation('relu')\n",
    "model = Sequential()\n",
    "model.add(Dense(units=2, input_dim=784, activation='relu'))\n",
    "model.add(Dense(units=10, activation='softmax'))\n",
    "\n",
    "\n",
    "# 3. 학습과정 설정\n",
    "model.compile(loss=\"categorical_crossentropy\", optimizer=\"sgd\", metrics=['accuracy'])\n",
    "\n",
    "\n",
    "# 4. 모델 학습시키기\n",
    "customeHistory = CustomeHistory()\n",
    "hist = model.fit(X_train, Y_train, epochs=1200, batch_size=100,\n",
    "                validation_data=(X_val, Y_val), callbacks=[customeHistory], verbose=0)"
   ]
  },
  {
   "cell_type": "code",
   "execution_count": 5,
   "id": "e2b4038c",
   "metadata": {},
   "outputs": [],
   "source": [
    "####################################################################################"
   ]
  },
  {
   "cell_type": "markdown",
   "id": "b639caab",
   "metadata": {},
   "source": [
    "## 1.2 Call back 함수2 - Early Stopping\n",
    "    * val_loss 값이 늘어나면 지정한 epoch를 다 수행하지 않고 조기 종료."
   ]
  },
  {
   "cell_type": "code",
   "execution_count": 3,
   "id": "4fce929f",
   "metadata": {},
   "outputs": [],
   "source": [
    "# ▶ 1. 데이터 셋 준비하기\n",
    "(X_train, Y_train), (X_test, Y_test) = mnist.load_data()\n",
    "\n",
    "\n",
    "# ▶ 2. 데이터 전처리\n",
    "# 검증 셋\n",
    "X_val = X_train[50000:]\n",
    "Y_val = Y_train[50000:]\n",
    "\n",
    "# 훈련 셋\n",
    "X_train = X_train[:50000]\n",
    "Y_train = Y_train[:50000]\n",
    "\n",
    "# 정수 → 실수형 변환 → 정규화(normalize)\n",
    "X_train = X_train.reshape(50000, 784).astype('float32') / 255.0\n",
    "X_val = X_val.reshape(10000, 784).astype('float32') / 255.0\n",
    "X_test = X_test.reshape(10000, 784).astype('float32') / 255.0\n",
    "\n",
    "# 훈련셋과 검증셋 → 700개, 300개씩 무작위로 가져오기\n",
    "train_rand_idxs = np.random.choice(50000, 700)\n",
    "val_rand_idxs   = np.random.choice(10000, 300)\n",
    "\n",
    "X_train = X_train[train_rand_idxs] # 700개\n",
    "Y_train = Y_train[train_rand_idxs]\n",
    "\n",
    "X_val = X_val[val_rand_idxs] # 300개\n",
    "Y_val = Y_val[val_rand_idxs]\n",
    "\n",
    "# 원-핫 인코딩 = 라벨링 전환\n",
    "# 1 → 0 1 0 0 0 0 0 0 0 0\n",
    "# 9 → 0 0 0 0 0 0 0 0 0 1\n",
    "Y_train = utils.to_categorical(Y_train)\n",
    "Y_val   = utils.to_categorical(Y_val)\n",
    "Y_test  = utils.to_categorical(Y_test)\n",
    "\n",
    "\n",
    "# ▶ 3. 모델 생성\n",
    "# from tensorflow.keras.layers import Activation\n",
    "# relu = Activation('relu')\n",
    "model = Sequential()\n",
    "model.add(Dense(input_dim = 784, units = 2, activation = 'relu'))\n",
    "model.add(Dense(units = 10, activation = 'softmax'))\n",
    "\n",
    "\n",
    "# ▶ 4. 학습과정 설정\n",
    "model.compile(loss = 'categorical_crossentropy', \n",
    "              optimizer = 'sgd', \n",
    "              metrics = ['accuracy'])\n",
    "\n",
    "\n",
    "# # ▶ 5. 학습시키기\n",
    "# from tensorflow.keras.callbacks import EarlyStopping\n",
    "# customeHistory = CustomeHistory()\n",
    "# earlyStopping = EarlyStopping(patience = 30) # 성급한 조기종료\n",
    "\n",
    "# hist = model.fit(X_train, Y_train, \n",
    "#                  epochs = 3000, verbose = 1, batch_size = 100, \n",
    "#                  validation_data = (X_val, Y_val), callbacks = [earlyStopping])"
   ]
  },
  {
   "cell_type": "markdown",
   "id": "efbdae3b",
   "metadata": {},
   "source": [
    "## 1.3 위의 모델(DNN)의 정확도 늘리기\n",
    "<ul>\n",
    "    <li> 데이터 확보 </li>\n",
    "    <li> 레이어 </li>\n",
    "    <li> 활성화 함수 : 은닉층에는 주로 relu, elu.\n",
    "        output layer에는 sigmoid(이진분류), softmax(다중분류) </li>\n",
    "    <li> optimizer, epoch 등을 조정 </li>"
   ]
  },
  {
   "cell_type": "code",
   "execution_count": null,
   "id": "ff6f437d",
   "metadata": {},
   "outputs": [],
   "source": [
    "# ▶ 1. 데이터 셋 준비하기\n",
    "(X_train, Y_train), (X_test, Y_test) = mnist.load_data()\n",
    "\n",
    "\n",
    "# ▶ 2. 데이터 전처리\n",
    "# 검증 셋\n",
    "X_val = X_train[50000:]\n",
    "Y_val = Y_train[50000:]\n",
    "\n",
    "# 훈련 셋\n",
    "X_train = X_train[:50000]\n",
    "Y_train = Y_train[:50000]\n",
    "\n",
    "# 정수 → 실수형 변환 → 정규화(normalize)\n",
    "X_train = X_train.reshape(50000, 784).astype('float32') / 255.0\n",
    "X_val = X_val.reshape(10000, 784).astype('float32') / 255.0\n",
    "X_test = X_test.reshape(10000, 784).astype('float32') / 255.0\n",
    "\n",
    "# 훈련셋과 검증셋 → 700개, 300개씩 무작위로 가져오기\n",
    "train_rand_idxs = np.random.choice(50000, 700)\n",
    "val_rand_idxs   = np.random.choice(10000, 300)\n",
    "\n",
    "X_train = X_train[train_rand_idxs] # 700개\n",
    "Y_train = Y_train[train_rand_idxs]\n",
    "\n",
    "X_val = X_val[val_rand_idxs] # 300개\n",
    "Y_val = Y_val[val_rand_idxs]\n",
    "\n",
    "# 원-핫 인코딩 = 라벨링 전환\n",
    "# 1 → 0 1 0 0 0 0 0 0 0 0\n",
    "# 9 → 0 0 0 0 0 0 0 0 0 1\n",
    "Y_train = utils.to_categorical(Y_train)\n",
    "Y_val   = utils.to_categorical(Y_val)\n",
    "Y_test  = utils.to_categorical(Y_test)\n",
    "\n",
    "\n",
    "# ▶ 3. 모델 생성\n",
    "# from tensorflow.keras.layers import Activation\n",
    "# relu = Activation('relu')\n",
    "model = Sequential()\n",
    "model.add(Dense(input_dim = 784, units = 512, activation = 'relu'))\n",
    "model.add(Dense(input_dim = 1024, activation = 'relu'))\n",
    "model.add(Dense(input_dim = 256, activation = 'relu'))\n",
    "model.add(Dense(units = 10, activation = 'softmax'))\n",
    "\n",
    "\n",
    "# ▶ 4. 학습과정 설정\n",
    "model.compile(loss = 'categorical_crossentropy', \n",
    "              optimizer = 'sgd', \n",
    "              metrics = ['accuracy'])\n",
    "\n",
    "\n",
    "# ▶ 5. 학습시키기\n",
    "from tensorflow.keras.callbacks import EarlyStopping\n",
    "earlyStopping = EarlyStopping(patience = 30) # 성급한 조기종료\n",
    "\n",
    "hist = model.fit(X_train, Y_train, \n",
    "                 epochs = 3000, verbose = 1, batch_size = 100, \n",
    "                 validation_data = (X_val, Y_val), callbacks = [earlyStopping])"
   ]
  }
 ],
 "metadata": {
  "kernelspec": {
   "display_name": "Python 3",
   "language": "python",
   "name": "python3"
  },
  "language_info": {
   "codemirror_mode": {
    "name": "ipython",
    "version": 3
   },
   "file_extension": ".py",
   "mimetype": "text/x-python",
   "name": "python",
   "nbconvert_exporter": "python",
   "pygments_lexer": "ipython3",
   "version": "3.8.8"
  },
  "toc": {
   "base_numbering": 1,
   "nav_menu": {},
   "number_sections": false,
   "sideBar": true,
   "skip_h1_title": false,
   "title_cell": "Table of Contents",
   "title_sidebar": "Contents",
   "toc_cell": false,
   "toc_position": {
    "height": "calc(100% - 180px)",
    "left": "10px",
    "top": "150px",
    "width": "246px"
   },
   "toc_section_display": true,
   "toc_window_display": true
  },
  "varInspector": {
   "cols": {
    "lenName": 16,
    "lenType": 16,
    "lenVar": 40
   },
   "kernels_config": {
    "python": {
     "delete_cmd_postfix": "",
     "delete_cmd_prefix": "del ",
     "library": "var_list.py",
     "varRefreshCmd": "print(var_dic_list())"
    },
    "r": {
     "delete_cmd_postfix": ") ",
     "delete_cmd_prefix": "rm(",
     "library": "var_list.r",
     "varRefreshCmd": "cat(var_dic_list()) "
    }
   },
   "position": {
    "height": "429px",
    "left": "1550px",
    "right": "20px",
    "top": "120px",
    "width": "350px"
   },
   "types_to_exclude": [
    "module",
    "function",
    "builtin_function_or_method",
    "instance",
    "_Feature"
   ],
   "window_display": true
  }
 },
 "nbformat": 4,
 "nbformat_minor": 5
}
