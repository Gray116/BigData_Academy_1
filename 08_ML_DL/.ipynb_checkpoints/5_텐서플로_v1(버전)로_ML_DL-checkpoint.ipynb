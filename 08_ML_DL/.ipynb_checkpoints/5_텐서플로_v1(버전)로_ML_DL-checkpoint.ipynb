{
 "cells": [
  {
   "cell_type": "code",
   "execution_count": 2,
   "id": "c457ea69",
   "metadata": {},
   "outputs": [
    {
     "data": {
      "text/html": [
       "\n",
       "<style>\n",
       "div.CodeMirror {font-family:Consolas; font-size:13pt;}\n",
       "div.output {font-size:13pt; font-weight : bold;}\n",
       "div.input {font-family:Consolas; font-size:13pt;}\n",
       "</style>\n"
      ],
      "text/plain": [
       "<IPython.core.display.HTML object>"
      ]
     },
     "metadata": {},
     "output_type": "display_data"
    }
   ],
   "source": [
    "from IPython.display import display, HTML\n",
    "display(HTML(\"\"\"\n",
    "<style>\n",
    "div.CodeMirror {font-family:Consolas; font-size:13pt;}\n",
    "div.output {font-size:13pt; font-weight : bold;}\n",
    "div.input {font-family:Consolas; font-size:13pt;}\n",
    "</style>\n",
    "\"\"\"))"
   ]
  },
  {
   "cell_type": "markdown",
   "id": "a2ddcb32",
   "metadata": {},
   "source": [
    "# 1절. 텐서플로우 v2.x에서 v1 사용하기"
   ]
  },
  {
   "cell_type": "code",
   "execution_count": 3,
   "id": "058812ac",
   "metadata": {},
   "outputs": [
    {
     "name": "stdout",
     "output_type": "stream",
     "text": [
      "WARNING:tensorflow:From C:\\Users\\tjoeun\\anaconda3\\lib\\site-packages\\tensorflow\\python\\compat\\v2_compat.py:96: disable_resource_variables (from tensorflow.python.ops.variable_scope) is deprecated and will be removed in a future version.\n",
      "Instructions for updating:\n",
      "non-resource variables are not supported in the long term\n"
     ]
    }
   ],
   "source": [
    "import tensorflow.compat.v1 as tf\n",
    "tf.disable_v2_behavior()\n",
    "# v1으로 사용하기"
   ]
  },
  {
   "cell_type": "code",
   "execution_count": 8,
   "id": "5bc19ea2",
   "metadata": {},
   "outputs": [
    {
     "name": "stdout",
     "output_type": "stream",
     "text": [
      "b'Hello, Tensorflow'\n",
      "Hello, Tensorflow\n"
     ]
    }
   ],
   "source": [
    "# tensor = 데이터(상수 or 변수)와의 연산\n",
    "node1 = tf.constant('Hello, Tensorflow')\n",
    "sess = tf.Session()\n",
    "\n",
    "print(sess.run(node1))\n",
    "print(sess.run(node1).decode())"
   ]
  },
  {
   "cell_type": "code",
   "execution_count": 10,
   "id": "ba8490ed",
   "metadata": {},
   "outputs": [
    {
     "name": "stdout",
     "output_type": "stream",
     "text": [
      "[10.0, 20.0, 200.0]\n"
     ]
    }
   ],
   "source": [
    "# 간단한 수학 연산을 수행하는 그래프\n",
    "# tensorflow(그래프) 정의\n",
    "node1 = tf.constant(10, dtype = tf.float32)\n",
    "node2 = tf.constant(20, dtype = tf.float32)\n",
    "node3 = tf.multiply(node1, node2)\n",
    "\n",
    "# 그래프(dataflow) 실행\n",
    "sess = tf.Session()\n",
    "print(sess.run([node1, node2, node3]))\n",
    "\n",
    "sess.close() # 세션을 종료하면 실행 안됌"
   ]
  },
  {
   "cell_type": "markdown",
   "id": "3249d53f",
   "metadata": {},
   "source": [
    "## 1.1 Tensorflow\n",
    "- 그래프 정의\n",
    "- tf.Session()으로 그래프를 실행\n",
    "- tf.Session().run()을 통해 값을 확인할 수 있다."
   ]
  },
  {
   "cell_type": "code",
   "execution_count": 11,
   "id": "528a1940",
   "metadata": {},
   "outputs": [
    {
     "name": "stdout",
     "output_type": "stream",
     "text": [
      "[array([1., 2., 3.], dtype=float32), array([1, 2, 3], dtype=int16)]\n"
     ]
    }
   ],
   "source": [
    "import numpy as np\n",
    "node1 = tf.constant(np.array([1, 2, 3]), dtype = tf.int16)\n",
    "node2 = tf.cast(node1, dtype = tf.float32)\n",
    "\n",
    "sess = tf.Session()\n",
    "print(sess.run([node2, node1]))"
   ]
  },
  {
   "cell_type": "code",
   "execution_count": 14,
   "id": "49b22674",
   "metadata": {},
   "outputs": [
    {
     "name": "stdout",
     "output_type": "stream",
     "text": [
      "2.5\n"
     ]
    }
   ],
   "source": [
    "data = np.array([1., 2., 3., 4.])\n",
    "m = tf.reduce_mean(data) # reduce_mean : 평균값을 계산\n",
    "\n",
    "sess = tf.Session()\n",
    "print(sess.run(m))"
   ]
  },
  {
   "cell_type": "code",
   "execution_count": 17,
   "id": "21a4e4e5",
   "metadata": {},
   "outputs": [
    {
     "data": {
      "image/png": "[encoded data removed]",
      "text/plain": [
       "<Figure size 1152x648 with 1 Axes>"
      ]
     },
     "metadata": {
      "needs_background": "light"
     },
     "output_type": "display_data"
    }
   ],
   "source": [
    "import matplotlib.pyplot as plt\n",
    "tensor = tf.random_normal([100]) # random_normal([n]) : 평균이 0이고 표준편차가 1인 난수 n개\n",
    "\n",
    "sess = tf.Session()\n",
    "plt.figure(figsize=(16, 9))\n",
    "plt.hist(sess.run(tensor), density=True)\n",
    "plt.show()"
   ]
  },
  {
   "cell_type": "code",
   "execution_count": 16,
   "id": "eca79fb2",
   "metadata": {},
   "outputs": [
    {
     "name": "stdout",
     "output_type": "stream",
     "text": [
      "[-1.0060248  -0.8494362   0.12582402  0.02392836  0.09966019  0.34531108\n",
      "  2.1020906  -1.6774117   0.71676975 -2.2179077  -0.8930714  -0.76224226\n",
      "  0.28509548  0.38672593 -0.22033471  0.81866324 -1.2979717   0.70301205\n",
      " -1.072252    0.7674525  -0.5393061  -0.6748825  -1.1213626   0.6872892\n",
      " -0.18835163 -0.5359765  -1.1514037  -0.35852823 -1.2067589  -0.06232808\n",
      "  1.0620517  -1.026557    1.7229863  -0.0837846  -0.7762997  -0.52146435\n",
      "  0.7918603   0.67891467 -0.61271054 -0.25714654 -2.0897944   0.8489527\n",
      "  1.2267942   1.6568959   0.9164015   1.1788082   0.4991103  -0.79172975\n",
      "  0.61763597  1.3481576   0.8019778   0.14130507  0.38504377  0.01596939\n",
      "  0.58109885 -0.92298764  0.5403347  -0.05086141  1.383156    0.4600732\n",
      "  1.821972   -0.7466049  -0.42010862 -0.05353698  0.09034897 -0.04064781\n",
      " -0.2251907   1.0361061   1.1729265   0.18645221  0.16155066 -0.82685834\n",
      " -0.49961248  1.2488016  -1.3360324   0.05711879  0.6774283  -2.0494506\n",
      " -0.64153785  1.2809995   0.2793782   0.01058828  0.54269433  0.34570247\n",
      "  1.6801258   0.642868    0.5367802  -0.82129127  1.5400304   0.27737355\n",
      "  0.64774114 -2.1165998  -0.05224308  0.11444682 -1.1687641  -0.7077755\n",
      "  1.2226069   0.9425257   0.09919549 -0.98449606]\n"
     ]
    }
   ],
   "source": [
    "print(sess.run(tensor))"
   ]
  },
  {
   "cell_type": "markdown",
   "id": "8079fbf4",
   "metadata": {},
   "source": [
    "# 2절. Tensorflow v1을 이용한 Linear Regression을 구현"
   ]
  },
  {
   "cell_type": "markdown",
   "id": "30382382",
   "metadata": {},
   "source": [
    "## 2.1 예측(독립)변수 x가 한개일 때"
   ]
  },
  {
   "cell_type": "code",
   "execution_count": 24,
   "id": "59eb86d8",
   "metadata": {
    "scrolled": true
   },
   "outputs": [
    {
     "name": "stdout",
     "output_type": "stream",
     "text": [
      "300번째 cost : 0.014500155113637447\n",
      "W : [0.86047983]\n",
      "b : [0.31716207]\n",
      "600번째 cost : 0.0034214460756629705\n",
      "W : [0.9322272]\n",
      "b : [0.1540636]\n",
      "900번째 cost : 0.0008073213393799961\n",
      "W : [0.9670789]\n",
      "b : [0.07483736]\n",
      "1200번째 cost : 0.0001904949313029647\n",
      "W : [0.98400843]\n",
      "b : [0.03635266]\n",
      "1500번째 cost : 4.49491199105978e-05\n",
      "W : [0.99223197]\n",
      "b : [0.01765858]\n",
      "1800번째 cost : 1.0605911484162789e-05\n",
      "W : [0.9962267]\n",
      "b : [0.00857757]\n",
      "2100번째 cost : 2.50254811362538e-06\n",
      "W : [0.9981671]\n",
      "b : [0.0041666]\n",
      "2400번째 cost : 5.905947091378039e-07\n",
      "W : [0.9991095]\n",
      "b : [0.00202411]\n",
      "2700번째 cost : 1.3947912691492093e-07\n",
      "W : [0.9995672]\n",
      "b : [0.00098376]\n",
      "3000번째 cost : 3.300721473920021e-08\n",
      "W : [0.9997895]\n",
      "b : [0.00047852]\n",
      "3300번째 cost : 7.835746274054145e-09\n",
      "W : [0.99989724]\n",
      "b : [0.00023307]\n",
      "3600번째 cost : 1.8736407980668446e-09\n",
      "W : [0.99994963]\n",
      "b : [0.00011397]\n",
      "3900번째 cost : 4.566572953113024e-10\n",
      "W : [0.99997514]\n",
      "b : [5.6132376e-05]\n",
      "4200번째 cost : 1.0324865962196839e-10\n",
      "W : [0.9999882]\n",
      "b : [2.67902e-05]\n",
      "4500번째 cost : 2.7687007200793978e-11\n",
      "W : [0.9999938]\n",
      "b : [1.3807596e-05]\n",
      "4800번째 cost : 1.0066124149499256e-11\n",
      "W : [0.9999962]\n",
      "b : [8.22134e-06]\n",
      "5100번째 cost : 5.1824655677989995e-12\n",
      "W : [0.9999972]\n",
      "b : [5.8250725e-06]\n",
      "5400번째 cost : 3.793243063404672e-12\n",
      "W : [0.9999976]\n",
      "b : [4.827835e-06]\n",
      "5700번째 cost : 3.24325353899535e-12\n",
      "W : [0.99999774]\n",
      "b : [4.4946455e-06]\n",
      "6000번째 cost : 3.243232722313638e-12\n",
      "W : [0.99999774]\n",
      "b : [4.4902276e-06]\n"
     ]
    }
   ],
   "source": [
    "# tensor graph 정의\n",
    "# data set (x = 예측변수, y = 결과변수(실제값))\n",
    "x = np.array([1, 2, 3])\n",
    "y = np.array([1, 2, 3])\n",
    "\n",
    "# Weight(기울기)와 bias(절편)\n",
    "# bias(처음에는 랜덤 값 셋팅, 추후 학습과정에서 변경)\n",
    "W = tf.Variable(tf.random.normal([1]), name = 'weight')\n",
    "b = tf.Variable(tf.random.normal([1]), name = 'bias')\n",
    "\n",
    "# Hypothesis (예측치)\n",
    "H = (W*x) + b\n",
    "\n",
    "# cost function(최소 제곱법)\n",
    "cost = tf.reduce_mean(tf.square(H - y))\n",
    "\n",
    "# 목적 : cost가 최소가 되는 W와 b를 찾는 것\n",
    "'''\n",
    "cost함수는 제곱의 평균인 2차함수(곡선). 곡선 위 미분값이 줄어드는 방향으로 학습\n",
    "'''\n",
    "optimizer = tf.train.GradientDescentOptimizer(learning_rate = 0.01) # learning_rate : 얼만큼 줄일지\n",
    "train = optimizer.minimize(cost) # optimizer가 최소가 되도록 cost를 최소화해라\n",
    "\n",
    "# Session\n",
    "sess = tf.Session()\n",
    "\n",
    "# Variable 노드(W, b) 초기화\n",
    "sess.run(tf.global_variables_initializer())\n",
    "\n",
    "# # 6000번 학습\n",
    "# # v2에서는 fit함수\n",
    "# for step in range(1, 6001):\n",
    "#     sess.run(train)\n",
    "#     if step%300 == 0:\n",
    "#         print('{}번째 학습\\ncost : {}\\nW값 : {}\\nb값 : {}'.format(step, sess.run(cost), sess.run(W), sess.run(b)))\n",
    "        \n",
    "for step in range(1, 6001):\n",
    "    _, cost_val, W_val, b_val = sess.run([train, cost, W, b])\n",
    "    if step%300 == 0:\n",
    "        print('{}번째 cost : {}\\nW : {}\\nb : {}'.format(step, cost_val, W_val, b_val))"
   ]
  },
  {
   "cell_type": "code",
   "execution_count": 25,
   "id": "92f93115",
   "metadata": {},
   "outputs": [
    {
     "data": {
      "text/plain": [
       "[array([0.99999774], dtype=float32), array([4.4902276e-06], dtype=float32)]"
      ]
     },
     "execution_count": 25,
     "metadata": {},
     "output_type": "execute_result"
    }
   ],
   "source": [
    "sess.run([W, b])"
   ]
  },
  {
   "cell_type": "code",
   "execution_count": 26,
   "id": "db56f5f5",
   "metadata": {},
   "outputs": [],
   "source": [
    "W_, b_ = sess.run([W, b])"
   ]
  },
  {
   "cell_type": "code",
   "execution_count": 27,
   "id": "80949051",
   "metadata": {},
   "outputs": [
    {
     "name": "stdout",
     "output_type": "stream",
     "text": [
      "최종적으로 나온 회귀식\n",
      "H = (0.9999977350234985*x) + 4.490227638598299e-06\n"
     ]
    }
   ],
   "source": [
    "# 최종 회귀식\n",
    "print('최종적으로 나온 회귀식\\nH = ({}*x) + {}'.format(W_[0], b_[0]))"
   ]
  },
  {
   "cell_type": "code",
   "execution_count": 28,
   "id": "6e07d6a3",
   "metadata": {},
   "outputs": [
    {
     "name": "stdout",
     "output_type": "stream",
     "text": [
      "1번째 cost : 45997.59375\n",
      "W : 100.0\n",
      "b : [0.6544556]\n",
      "101번째 cost : 114.50919342041016\n",
      "W : 13.4290771484375\n",
      "b : [-28.252445]\n",
      "201번째 cost : 70.75975799560547\n",
      "W : 10.769876480102539\n",
      "b : [-22.209227]\n",
      "301번째 cost : 43.725215911865234\n",
      "W : 8.680012702941895\n",
      "b : [-17.458473]\n",
      "401번째 cost : 27.01951026916504\n",
      "W : 7.037188529968262\n",
      "b : [-13.723948]\n",
      "501번째 cost : 16.696413040161133\n",
      "W : 5.745779991149902\n",
      "b : [-10.788273]\n",
      "601번째 cost : 10.317375183105469\n",
      "W : 4.730616092681885\n",
      "b : [-8.480567]\n",
      "701번째 cost : 6.375513553619385\n",
      "W : 3.932605266571045\n",
      "b : [-6.6665006]\n",
      "801번째 cost : 3.9396822452545166\n",
      "W : 3.30529522895813\n",
      "b : [-5.2404776]\n",
      "901번째 cost : 2.4344840049743652\n",
      "W : 2.8121719360351562\n",
      "b : [-4.119493]\n",
      "1001번째 cost : 1.5043634176254272\n",
      "W : 2.424532413482666\n",
      "b : [-3.238297]\n",
      "1101번째 cost : 0.9296047687530518\n",
      "W : 2.11981201171875\n",
      "b : [-2.545596]\n",
      "1201번째 cost : 0.5744389295578003\n",
      "W : 1.8802741765975952\n",
      "b : [-2.0010698]\n",
      "1301번째 cost : 0.354968398809433\n",
      "W : 1.6919755935668945\n",
      "b : [-1.5730232]\n",
      "1401번째 cost : 0.21934878826141357\n",
      "W : 1.543955683708191\n",
      "b : [-1.2365394]\n",
      "1501번째 cost : 0.13554424047470093\n",
      "W : 1.4275988340377808\n",
      "b : [-0.97203267]\n",
      "1601번째 cost : 0.0837581530213356\n",
      "W : 1.3361318111419678\n",
      "b : [-0.7641066]\n",
      "1701번째 cost : 0.051757410168647766\n",
      "W : 1.2642301321029663\n",
      "b : [-0.6006571]\n",
      "1801번째 cost : 0.03198292851448059\n",
      "W : 1.2077088356018066\n",
      "b : [-0.47217113]\n",
      "1901번째 cost : 0.01976347155869007\n",
      "W : 1.1632779836654663\n",
      "b : [-0.3711693]\n",
      "2001번째 cost : 0.01221263688057661\n",
      "W : 1.1283513307571411\n",
      "b : [-0.29177287]\n",
      "2101번째 cost : 0.00754667678847909\n",
      "W : 1.1008960008621216\n",
      "b : [-0.22936013]\n",
      "2201번째 cost : 0.00466339522972703\n",
      "W : 1.0793133974075317\n",
      "b : [-0.18029815]\n",
      "2301번째 cost : 0.0028816910926252604\n",
      "W : 1.0623477697372437\n",
      "b : [-0.14173076]\n",
      "2401번째 cost : 0.0017807147232815623\n",
      "W : 1.0490108728408813\n",
      "b : [-0.11141334]\n",
      "2501번째 cost : 0.0011003757826983929\n",
      "W : 1.038527011871338\n",
      "b : [-0.08758122]\n",
      "2601번째 cost : 0.0006799621623940766\n",
      "W : 1.0302857160568237\n",
      "b : [-0.06884675]\n",
      "2701번째 cost : 0.00042017505620606244\n",
      "W : 1.023807406425476\n",
      "b : [-0.05411979]\n",
      "2801번째 cost : 0.000259641237789765\n",
      "W : 1.0187146663665771\n",
      "b : [-0.04254292]\n",
      "2901번째 cost : 0.00016044169024098665\n",
      "W : 1.0147113800048828\n",
      "b : [-0.03344253]\n",
      "3001번째 cost : 9.91431952570565e-05\n",
      "W : 1.0115646123886108\n",
      "b : [-0.02628892]\n",
      "3101번째 cost : 6.126515654614195e-05\n",
      "W : 1.009090781211853\n",
      "b : [-0.02066567]\n",
      "3201번째 cost : 3.785881926887669e-05\n",
      "W : 1.0071463584899902\n",
      "b : [-0.01624512]\n",
      "3301번째 cost : 2.33949158428004e-05\n",
      "W : 1.005617618560791\n",
      "b : [-0.01277032]\n",
      "3401번째 cost : 1.4457492397923488e-05\n",
      "W : 1.0044162273406982\n",
      "b : [-0.01003888]\n",
      "3501번째 cost : 8.934161996876355e-06\n",
      "W : 1.0034716129302979\n",
      "b : [-0.00789161]\n",
      "3601번째 cost : 5.521146249520825e-06\n",
      "W : 1.002729058265686\n",
      "b : [-0.00620365]\n",
      "3701번째 cost : 3.411984607737395e-06\n",
      "W : 1.0021454095840454\n",
      "b : [-0.00487677]\n",
      "3801번째 cost : 2.1085334083181806e-06\n",
      "W : 1.0016865730285645\n",
      "b : [-0.00383378]\n",
      "3901번째 cost : 1.3031835806032177e-06\n",
      "W : 1.0013259649276733\n",
      "b : [-0.00301406]\n"
     ]
    }
   ],
   "source": [
    "# tensor graph 정의\n",
    "x = np.array([1, 2, 3])\n",
    "y = [1, 2, 3]\n",
    "\n",
    "# Weight와 bias\n",
    "W = tf.Variable(100.0, name = 'weight')\n",
    "b = tf.Variable(tf.random.normal([1]), name = 'bias')\n",
    "\n",
    "# Hypothesis\n",
    "H = (W * x) + b\n",
    "\n",
    "# cost (최소제곱법)\n",
    "cost = tf.reduce_mean(tf.square(H - y))\n",
    "train = tf.train.GradientDescentOptimizer(learning_rate = 0.01).minimize(cost)\n",
    "\n",
    "# session\n",
    "sess = tf.Session()\n",
    "\n",
    "# b노드 초기화\n",
    "sess.run(tf.global_variables_initializer())\n",
    "\n",
    "# 4000번 학습\n",
    "for step in range(1, 4001):\n",
    "    cost_val, W_val, b_val = sess.run([cost, W, b])\n",
    "    if step%100 == 1:\n",
    "        print(\"{}번째 cost : {}\\nW : {}\\nb : {}\".format(step, cost_val, W_val, b_val))\n",
    "    \n",
    "    sess.run(train)"
   ]
  },
  {
   "cell_type": "markdown",
   "id": "2d533904",
   "metadata": {},
   "source": [
    "## 2.2 예측을 하기 위한 placeholder 이용"
   ]
  },
  {
   "cell_type": "code",
   "execution_count": 29,
   "id": "d651ae57",
   "metadata": {},
   "outputs": [
    {
     "data": {
      "text/plain": [
       "30.0"
      ]
     },
     "execution_count": 29,
     "metadata": {},
     "output_type": "execute_result"
    }
   ],
   "source": [
    "# placeholder 이용\n",
    "a = tf.placeholder(tf.float32)\n",
    "b = tf.placeholder(tf.float32)\n",
    "\n",
    "# ab = tf.add(a, b)\n",
    "ab = a + b\n",
    "sess = tf.Session()\n",
    "\n",
    "# placeholder는 그래프 실행단계에서 값을 설정해야한다.\n",
    "sess.run(ab, feed_dict = {a:10, b:20})"
   ]
  },
  {
   "cell_type": "code",
   "execution_count": 30,
   "id": "15935152",
   "metadata": {},
   "outputs": [
    {
     "data": {
      "text/plain": [
       "array([1., 2., 3.], dtype=float32)"
      ]
     },
     "execution_count": 30,
     "metadata": {},
     "output_type": "execute_result"
    }
   ],
   "source": [
    "sess.run(a, feed_dict = {a:[1, 2, 3]})"
   ]
  },
  {
   "cell_type": "code",
   "execution_count": 31,
   "id": "4d7ffd78",
   "metadata": {},
   "outputs": [
    {
     "data": {
      "text/plain": [
       "array([11., 22., 33.], dtype=float32)"
      ]
     },
     "execution_count": 31,
     "metadata": {},
     "output_type": "execute_result"
    }
   ],
   "source": [
    "sess.run(ab, feed_dict={a : np.array([10, 20, 30]), \n",
    "                        b : np.array([1, 2, 3])})"
   ]
  },
  {
   "cell_type": "code",
   "execution_count": 33,
   "id": "aef1c5e3",
   "metadata": {},
   "outputs": [
    {
     "name": "stdout",
     "output_type": "stream",
     "text": [
      "1번째 cost : 28.563405990600586\n",
      "W : [1.452598]\n",
      "b : [-0.6612966]\n",
      "\n",
      "201번째 cost : 0.4520893096923828\n",
      "W : [2.7790456]\n",
      "b : [1.2290463]\n",
      "\n",
      "401번째 cost : 0.17263013124465942\n",
      "W : [2.481403]\n",
      "b : [1.9056579]\n",
      "\n",
      "601번째 cost : 0.06591879576444626\n",
      "W : [2.2974782]\n",
      "b : [2.3237622]\n",
      "\n",
      "801번째 cost : 0.02517084777355194\n",
      "W : [2.1838233]\n",
      "b : [2.5821269]\n",
      "\n",
      "1001번째 cost : 0.009611527435481548\n",
      "W : [2.1135917]\n",
      "b : [2.741779]\n",
      "\n",
      "1201번째 cost : 0.0036701911594718695\n",
      "W : [2.070193]\n",
      "b : [2.8404346]\n",
      "\n",
      "1401번째 cost : 0.0014014128828421235\n",
      "W : [2.0433745]\n",
      "b : [2.9013996]\n",
      "\n",
      "1601번째 cost : 0.0005351274739950895\n",
      "W : [2.0268025]\n",
      "b : [2.939071]\n",
      "\n",
      "1801번째 cost : 0.0002043433632934466\n",
      "W : [2.0165627]\n",
      "b : [2.962349]\n",
      "\n",
      "2001번째 cost : 7.802453910699114e-05\n",
      "W : [2.0102348]\n",
      "b : [2.9767342]\n",
      "\n",
      "2201번째 cost : 2.9794297006446868e-05\n",
      "W : [2.0063245]\n",
      "b : [2.9856226]\n",
      "\n",
      "2401번째 cost : 1.1379092029528692e-05\n",
      "W : [2.0039082]\n",
      "b : [2.9911156]\n",
      "\n",
      "2601번째 cost : 4.346763034845935e-06\n",
      "W : [2.0024157]\n",
      "b : [2.994509]\n",
      "\n",
      "2801번째 cost : 1.661839974076429e-06\n",
      "W : [2.0014942]\n",
      "b : [2.9966047]\n",
      "\n",
      "3001번째 cost : 6.359166491165524e-07\n",
      "W : [2.0009243]\n",
      "b : [2.9978993]\n",
      "\n",
      "3201번째 cost : 2.4443042434540985e-07\n",
      "W : [2.000573]\n",
      "b : [2.9986978]\n",
      "\n",
      "3401번째 cost : 9.365643194314544e-08\n",
      "W : [2.0003545]\n",
      "b : [2.999194]\n",
      "\n",
      "3601번째 cost : 3.641313739422003e-08\n",
      "W : [2.0002215]\n",
      "b : [2.9994974]\n",
      "\n",
      "3801번째 cost : 1.4187283348121582e-08\n",
      "W : [2.0001385]\n",
      "b : [2.999686]\n",
      "\n",
      "4001번째 cost : 5.755888654590535e-09\n",
      "W : [2.000087]\n",
      "b : [2.9998]\n",
      "\n",
      "4201번째 cost : 2.202796167694032e-09\n",
      "W : [2.0000544]\n",
      "b : [2.9998763]\n",
      "\n",
      "4401번째 cost : 8.298381426463664e-10\n",
      "W : [2.0000339]\n",
      "b : [2.999924]\n",
      "\n",
      "4601번째 cost : 4.848364487664014e-10\n",
      "W : [2.000026]\n",
      "b : [2.999942]\n",
      "\n",
      "4801번째 cost : 4.848364487664014e-10\n",
      "W : [2.000026]\n",
      "b : [2.999942]\n",
      "\n",
      "5001번째 cost : 4.848364487664014e-10\n",
      "W : [2.000026]\n",
      "b : [2.999942]\n",
      "\n",
      "5201번째 cost : 4.848364487664014e-10\n",
      "W : [2.000026]\n",
      "b : [2.999942]\n",
      "\n",
      "5401번째 cost : 4.848364487664014e-10\n",
      "W : [2.000026]\n",
      "b : [2.999942]\n",
      "\n",
      "5601번째 cost : 4.848364487664014e-10\n",
      "W : [2.000026]\n",
      "b : [2.999942]\n",
      "\n",
      "5801번째 cost : 4.848364487664014e-10\n",
      "W : [2.000026]\n",
      "b : [2.999942]\n",
      "\n"
     ]
    }
   ],
   "source": [
    "# data set (H = 2x + 3)\n",
    "x_data = np.array([1, 2, 3])\n",
    "y_data = [5, 7, 9]\n",
    "\n",
    "# placeholder 설정\n",
    "x = tf.placeholder(dtype = tf.float32)\n",
    "y = tf.placeholder(dtype = tf.float32)\n",
    "\n",
    "# Weight & bias\n",
    "W = tf.Variable(tf.random.normal([1]), name = 'weight')\n",
    "b = tf.Variable(tf.random.normal([1]), name = 'bias')\n",
    "\n",
    "# Hypothesis\n",
    "H = (W * x) + b # 여기서 x는 tensor\n",
    "\n",
    "# cost function\n",
    "cost = tf.reduce_mean(tf.square(H - y))\n",
    "\n",
    "# 경사하강법\n",
    "optimizer = tf.train.GradientDescentOptimizer(learning_rate = 0.01)\n",
    "train = optimizer.minimize(cost)\n",
    "\n",
    "# Session & Variable 초기화\n",
    "sess = tf.Session()\n",
    "sess.run(tf.global_variables_initializer())\n",
    "\n",
    "# 학습\n",
    "for step in range(1, 6001):\n",
    "    _, cost_val, W_val, b_val = sess.run([train, cost, W, b], # _만 있는건 필요없는 값\n",
    "                                         feed_dict = {x : x_data,\n",
    "                                                      y : y_data}) \n",
    "    \n",
    "    if (step % 200) == 1:\n",
    "        print('{}번째 cost : {}\\nW : {}\\nb : {}\\n'.format(step, cost_val, W_val, b_val))"
   ]
  },
  {
   "cell_type": "code",
   "execution_count": 35,
   "id": "e5fee292",
   "metadata": {},
   "outputs": [
    {
     "data": {
      "text/plain": [
       "array([ 4.999968, 23.000202, 43.00046 ], dtype=float32)"
      ]
     },
     "execution_count": 35,
     "metadata": {},
     "output_type": "execute_result"
    }
   ],
   "source": [
    "# 학습된 모델로 부터 예측값 받아보기\n",
    "sess.run(H, feed_dict = {x : np.array([1, 10, 20])})"
   ]
  },
  {
   "cell_type": "markdown",
   "id": "812fcd13",
   "metadata": {},
   "source": [
    "## 2.3 scale이 다른 데이터들의 Linear Regression을 구현"
   ]
  },
  {
   "cell_type": "code",
   "execution_count": null,
   "id": "c1dbf549",
   "metadata": {},
   "outputs": [],
   "source": [
    "# ▶ scale이 다르면 cost값이 어느 일정한 값에서 더이상 줄지 않는다.\n",
    "x_data = [1, 2, 5, 8, 10]\n",
    "y_data = [5, 15, 68, 80 ,95]\n",
    "\n",
    "# placeholder 설정\n",
    "x = tf.placeholder(dtype = tf.float32)\n",
    "y = tf.placeholder(dtype = tf.float32)\n",
    "\n",
    "# Weight & bias\n",
    "W = tf.Variable(tf.random.normal([1]), name = 'weight')\n",
    "b = tf.Variable(tf.random.normal([1]), name = 'bias')\n",
    "\n",
    "# Hypothesis\n",
    "H = (W * x) + b # 여기서 x는 tensor\n",
    "\n",
    "# cost function\n",
    "cost = tf.reduce_mean(tf.square(H - y))\n",
    "\n",
    "# 경사하강법\n",
    "optimizer = tf.train.GradientDescentOptimizer(learning_rate = 0.01)\n",
    "train = optimizer.minimize(cost)\n",
    "\n",
    "# Session & Variable 초기화\n",
    "sess = tf.Session()\n",
    "sess.run(tf.global_variables_initializer())\n",
    "\n",
    "# 학습\n",
    "for step in range(1, 6001):\n",
    "    _, cost_val, W_val, b_val = sess.run([train, cost, W, b], # _만 있는건 필요없는 값\n",
    "                                         feed_dict = {x : x_data,\n",
    "                                                      y : y_data}) \n",
    "    \n",
    "    if (step % 200) == 1:\n",
    "        print('{}번째 cost : {}\\nW : {}\\nb : {}\\n'.format(step, cost_val, W_val, b_val))"
   ]
  },
  {
   "cell_type": "code",
   "execution_count": null,
   "id": "3092f1f8",
   "metadata": {},
   "outputs": [],
   "source": []
  },
  {
   "cell_type": "code",
   "execution_count": null,
   "id": "12388cd2",
   "metadata": {},
   "outputs": [],
   "source": []
  },
  {
   "cell_type": "code",
   "execution_count": null,
   "id": "5dd27a4b",
   "metadata": {},
   "outputs": [],
   "source": []
  },
  {
   "cell_type": "code",
   "execution_count": null,
   "id": "82ec2482",
   "metadata": {},
   "outputs": [],
   "source": []
  },
  {
   "cell_type": "code",
   "execution_count": null,
   "id": "4f924911",
   "metadata": {},
   "outputs": [],
   "source": []
  },
  {
   "cell_type": "code",
   "execution_count": null,
   "id": "9d755acd",
   "metadata": {},
   "outputs": [],
   "source": []
  },
  {
   "cell_type": "code",
   "execution_count": null,
   "id": "7d19c82f",
   "metadata": {},
   "outputs": [],
   "source": []
  },
  {
   "cell_type": "code",
   "execution_count": null,
   "id": "d70f7843",
   "metadata": {},
   "outputs": [],
   "source": []
  },
  {
   "cell_type": "code",
   "execution_count": null,
   "id": "50ca5b84",
   "metadata": {},
   "outputs": [],
   "source": []
  },
  {
   "cell_type": "code",
   "execution_count": null,
   "id": "3b6b325a",
   "metadata": {},
   "outputs": [],
   "source": []
  },
  {
   "cell_type": "code",
   "execution_count": null,
   "id": "57ca070b",
   "metadata": {},
   "outputs": [],
   "source": []
  },
  {
   "cell_type": "code",
   "execution_count": null,
   "id": "721233b7",
   "metadata": {},
   "outputs": [],
   "source": []
  },
  {
   "cell_type": "code",
   "execution_count": null,
   "id": "2bdafc7b",
   "metadata": {},
   "outputs": [],
   "source": []
  },
  {
   "cell_type": "code",
   "execution_count": null,
   "id": "b57cc70a",
   "metadata": {},
   "outputs": [],
   "source": []
  }
 ],
 "metadata": {
  "kernelspec": {
   "display_name": "Python 3",
   "language": "python",
   "name": "python3"
  },
  "language_info": {
   "codemirror_mode": {
    "name": "ipython",
    "version": 3
   },
   "file_extension": ".py",
   "mimetype": "text/x-python",
   "name": "python",
   "nbconvert_exporter": "python",
   "pygments_lexer": "ipython3",
   "version": "3.8.8"
  },
  "toc": {
   "base_numbering": 1,
   "nav_menu": {},
   "number_sections": false,
   "sideBar": true,
   "skip_h1_title": false,
   "title_cell": "Table of Contents",
   "title_sidebar": "Contents",
   "toc_cell": false,
   "toc_position": {
    "height": "calc(100% - 180px)",
    "left": "10px",
    "top": "150px",
    "width": "247px"
   },
   "toc_section_display": true,
   "toc_window_display": true
  },
  "varInspector": {
   "cols": {
    "lenName": 16,
    "lenType": 16,
    "lenVar": 40
   },
   "kernels_config": {
    "python": {
     "delete_cmd_postfix": "",
     "delete_cmd_prefix": "del ",
     "library": "var_list.py",
     "varRefreshCmd": "print(var_dic_list())"
    },
    "r": {
     "delete_cmd_postfix": ") ",
     "delete_cmd_prefix": "rm(",
     "library": "var_list.r",
     "varRefreshCmd": "cat(var_dic_list()) "
    }
   },
   "position": {
    "height": "454px",
    "left": "1550px",
    "right": "20px",
    "top": "120px",
    "width": "350px"
   },
   "types_to_exclude": [
    "module",
    "function",
    "builtin_function_or_method",
    "instance",
    "_Feature"
   ],
   "window_display": true
  }
 },
 "nbformat": 4,
 "nbformat_minor": 5
}
