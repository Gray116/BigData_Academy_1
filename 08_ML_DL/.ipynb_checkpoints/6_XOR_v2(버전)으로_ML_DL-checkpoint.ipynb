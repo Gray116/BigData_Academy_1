{
 "cells": [
  {
   "cell_type": "code",
   "execution_count": 1,
   "id": "58f0fd5d",
   "metadata": {},
   "outputs": [
    {
     "data": {
      "text/html": [
       "\n",
       "<style>\n",
       "div.CodeMirror {font-family:Consolas; font-size:13pt;}\n",
       "div.output {font-size:13pt; font-weight : bold;}\n",
       "div.input {font-family:Consolas; font-size:13pt;}\n",
       "</style>\n"
      ],
      "text/plain": [
       "<IPython.core.display.HTML object>"
      ]
     },
     "metadata": {},
     "output_type": "display_data"
    }
   ],
   "source": [
    "from IPython.display import display, HTML\n",
    "display(HTML(\"\"\"\n",
    "<style>\n",
    "div.CodeMirror {font-family:Consolas; font-size:13pt;}\n",
    "div.output {font-size:13pt; font-weight : bold;}\n",
    "div.input {font-family:Consolas; font-size:13pt;}\n",
    "</style>\n",
    "\"\"\"))"
   ]
  },
  {
   "cell_type": "markdown",
   "id": "693ea731",
   "metadata": {},
   "source": [
    "# 1절. XOR"
   ]
  },
  {
   "cell_type": "code",
   "execution_count": 2,
   "id": "04b5d34a",
   "metadata": {},
   "outputs": [],
   "source": [
    "import numpy as np\n",
    "from tensorflow.keras.models import Sequential # 모델 객체를 생성하기 위해\n",
    "from tensorflow.keras.layers import Dense # 생성된 모델 레이어를 쌓기 위해\n",
    "import matplotlib.pyplot as plt"
   ]
  },
  {
   "cell_type": "code",
   "execution_count": 3,
   "id": "a9693d68",
   "metadata": {},
   "outputs": [
    {
     "name": "stdout",
     "output_type": "stream",
     "text": [
      "Model: \"sequential\"\n",
      "_________________________________________________________________\n",
      "Layer (type)                 Output Shape              Param #   \n",
      "=================================================================\n",
      "dense (Dense)                (None, 10)                30        \n",
      "_________________________________________________________________\n",
      "dense_1 (Dense)              (None, 20)                220       \n",
      "_________________________________________________________________\n",
      "dense_2 (Dense)              (None, 10)                210       \n",
      "_________________________________________________________________\n",
      "dense_3 (Dense)              (None, 1)                 11        \n",
      "=================================================================\n",
      "Total params: 471\n",
      "Trainable params: 471\n",
      "Non-trainable params: 0\n",
      "_________________________________________________________________\n",
      "None\n"
     ]
    }
   ],
   "source": [
    "# 1. 데이터 셋\n",
    "x_data = np.array([[0, 0], [0, 1], [1, 0], [1, 1]])\n",
    "y_data = np.array([[0], [1], [1], [0]])\n",
    "\n",
    "# 2. 모델 구성\n",
    "model = Sequential()\n",
    "model.add(Dense(units = 10, input_dim = 2, activation = 'relu'))\n",
    "model.add(Dense(units = 20, activation = 'relu')) # 은닉층은 input_dim을 쓰지 않는다.\n",
    "model.add(Dense(units = 10, activation = 'relu'))\n",
    "model.add(Dense(units = 1, activation = 'sigmoid'))\n",
    "\n",
    "print(model.summary())\n",
    "\n",
    "# 3. 모델 학습과정 설정\n",
    "# model.compile(loss = 'mse') mse = mean square error\n",
    "model.compile(loss      = 'binary_crossentropy', # 다중분류일 경우 : categorical_crossentropy\n",
    "              optimizer = 'adam', \n",
    "              metrics   = ['binary_accuracy'])\n",
    "\n",
    "# 4. 학습시키기\n",
    "hist = model.fit(x_data, y_data, epochs = 100, verbose = 2)"
   ]
  },
  {
   "cell_type": "code",
   "execution_count": 4,
   "id": "e34909d2",
   "metadata": {
    "scrolled": false
   },
   "outputs": [
    {
     "data": {
      "text/plain": [
       "dict_keys(['loss', 'binary_accuracy'])"
      ]
     },
     "execution_count": 4,
     "metadata": {},
     "output_type": "execute_result"
    }
   ],
   "source": [
    "# 5. 모델 평가하기\n",
    "hist.history.keys()"
   ]
  },
  {
   "cell_type": "code",
   "execution_count": 5,
   "id": "43584e27",
   "metadata": {},
   "outputs": [
    {
     "data": {
      "image/png": "[encoded data removed]",
      "text/plain": [
       "<Figure size 1152x648 with 2 Axes>"
      ]
     },
     "metadata": {
      "needs_background": "light"
     },
     "output_type": "display_data"
    }
   ],
   "source": [
    "fig, loss_ax = plt.subplots(figsize = (16, 9))\n",
    "loss_ax.plot(hist.history['loss'], \n",
    "             'r',\n",
    "             label = 'loss')\n",
    "\n",
    "acc_ax = loss_ax.twinx()\n",
    "acc_ax.plot(hist.history['binary_accuracy'], \n",
    "            'b', \n",
    "            label = 'accuracy')\n",
    "\n",
    "loss_ax.set_xlabel('epoch')\n",
    "loss_ax.set_ylabel('loss')\n",
    "acc_ax.set_ylabel('accuracy')\n",
    "\n",
    "loss_ax.legend(loc = 'upper left')\n",
    "acc_ax.legend(loc = 'lower left')\n",
    "\n",
    "plt.show()"
   ]
  },
  {
   "cell_type": "code",
   "execution_count": 8,
   "id": "bf75e247",
   "metadata": {},
   "outputs": [
    {
     "name": "stdout",
     "output_type": "stream",
     "text": [
      "space로 분리해서 0이나 1을 2개 입력(종료:9) :0 1\n",
      "입력값 : [[0 1]]\n",
      "예측값 : 1\n",
      "space로 분리해서 0이나 1을 2개 입력(종료:9) :1 1\n",
      "입력값 : [[1 1]]\n",
      "예측값 : 0\n",
      "space로 분리해서 0이나 1을 2개 입력(종료:9) :1 0\n",
      "입력값 : [[1 0]]\n",
      "예측값 : 1\n",
      "space로 분리해서 0이나 1을 2개 입력(종료:9) :9\n"
     ]
    }
   ],
   "source": [
    "# 입력 값을 받아 출력 ( 0 0 / 0 1 / 1 0 / 1 1)\n",
    "while True:\n",
    "    input_list = input('space로 분리해서 0이나 1을 2개 입력(종료:9) :').strip().split()    \n",
    "    input_data = list(map(int, input_list))\n",
    "    \n",
    "    if input_data[0] == 9:\n",
    "        break;\n",
    "        \n",
    "    input_data = np.array(input_data).reshape(-1, 2)    \n",
    "\n",
    "    print('입력값 :', input_data)\n",
    "    print('예측값 :', int(model.predict(input_data).round()) )"
   ]
  },
  {
   "cell_type": "markdown",
   "id": "8468c9d3",
   "metadata": {},
   "source": [
    "# 2절. OR"
   ]
  },
  {
   "cell_type": "code",
   "execution_count": 9,
   "id": "8141fd73",
   "metadata": {},
   "outputs": [
    {
     "name": "stdout",
     "output_type": "stream",
     "text": [
      "Model: \"sequential_3\"\n",
      "_________________________________________________________________\n",
      "Layer (type)                 Output Shape              Param #   \n",
      "=================================================================\n",
      "dense_10 (Dense)             (None, 10)                30        \n",
      "_________________________________________________________________\n",
      "dense_11 (Dense)             (None, 15)                165       \n",
      "_________________________________________________________________\n",
      "dense_12 (Dense)             (None, 1)                 16        \n",
      "=================================================================\n",
      "Total params: 211\n",
      "Trainable params: 211\n",
      "Non-trainable params: 0\n",
      "_________________________________________________________________\n",
      "None\n"
     ]
    }
   ],
   "source": [
    "# 1. 데이터 셋\n",
    "x_data = np.array([[0, 0], [0, 1], [1, 0], [1, 1]])\n",
    "y_data = np.array([[1], [0], [0], [1]])\n",
    "\n",
    "# 2. 모델 구성\n",
    "model = Sequential()\n",
    "\n",
    "model.add(Dense(units = 10, input_dim = 2, activation = 'relu'))\n",
    "model.add(Dense(units = 15, activation = 'relu'))\n",
    "model.add(Dense(units = 1, activation = 'sigmoid'))\n",
    "\n",
    "print(model.summary())\n",
    "# 3. 모델 학습과정 binary crossentropy\n",
    "model.compile(loss      = 'binary_crossentropy', \n",
    "              metrics   = ['binary_accuracy'], \n",
    "              optimizer = 'adam')\n",
    "\n",
    "# # 4. 학습시키기\n",
    "# hist = model.fit(x_data, y_data, \n",
    "#                  epochs  = 100, \n",
    "#                  verbose = 2)"
   ]
  },
  {
   "cell_type": "code",
   "execution_count": 7,
   "id": "e543cab8",
   "metadata": {},
   "outputs": [
    {
     "data": {
      "text/plain": [
       "dict_keys(['loss', 'binary_accuracy'])"
      ]
     },
     "execution_count": 7,
     "metadata": {},
     "output_type": "execute_result"
    }
   ],
   "source": [
    "# 5. 학습과정 살펴보고 평가(evaluate)해보기\n",
    "hist.history.keys()"
   ]
  },
  {
   "cell_type": "code",
   "execution_count": 8,
   "id": "d962a55e",
   "metadata": {},
   "outputs": [
    {
     "data": {
      "image/png": "[encoded data removed]",
      "text/plain": [
       "<Figure size 1152x648 with 2 Axes>"
      ]
     },
     "metadata": {
      "needs_background": "light"
     },
     "output_type": "display_data"
    }
   ],
   "source": [
    "fig, loss_ax = plt.subplots(figsize = (16, 9))\n",
    "loss_ax.plot(hist.history['loss'], \n",
    "             'r',\n",
    "             label = 'loss')\n",
    "\n",
    "acc_ax = loss_ax.twinx()\n",
    "acc_ax.plot(hist.history['binary_accuracy'], \n",
    "            'b', \n",
    "            label = 'accuracy')\n",
    "\n",
    "loss_ax.set_xlabel('epoch')\n",
    "loss_ax.set_ylabel('loss')\n",
    "acc_ax.set_ylabel('accuracy')\n",
    "\n",
    "loss_ax.legend(loc = 'upper left')\n",
    "acc_ax.legend(loc = 'lower left')\n",
    "\n",
    "plt.show()"
   ]
  }
 ],
 "metadata": {
  "kernelspec": {
   "display_name": "Python 3",
   "language": "python",
   "name": "python3"
  },
  "language_info": {
   "codemirror_mode": {
    "name": "ipython",
    "version": 3
   },
   "file_extension": ".py",
   "mimetype": "text/x-python",
   "name": "python",
   "nbconvert_exporter": "python",
   "pygments_lexer": "ipython3",
   "version": "3.8.8"
  },
  "toc": {
   "base_numbering": 1,
   "nav_menu": {},
   "number_sections": false,
   "sideBar": true,
   "skip_h1_title": false,
   "title_cell": "Table of Contents",
   "title_sidebar": "Contents",
   "toc_cell": false,
   "toc_position": {
    "height": "calc(100% - 180px)",
    "left": "10px",
    "top": "150px",
    "width": "246px"
   },
   "toc_section_display": true,
   "toc_window_display": true
  },
  "varInspector": {
   "cols": {
    "lenName": 16,
    "lenType": 16,
    "lenVar": 40
   },
   "kernels_config": {
    "python": {
     "delete_cmd_postfix": "",
     "delete_cmd_prefix": "del ",
     "library": "var_list.py",
     "varRefreshCmd": "print(var_dic_list())"
    },
    "r": {
     "delete_cmd_postfix": ") ",
     "delete_cmd_prefix": "rm(",
     "library": "var_list.r",
     "varRefreshCmd": "cat(var_dic_list()) "
    }
   },
   "position": {
    "height": "419px",
    "left": "1550px",
    "right": "20px",
    "top": "120px",
    "width": "350px"
   },
   "types_to_exclude": [
    "module",
    "function",
    "builtin_function_or_method",
    "instance",
    "_Feature"
   ],
   "window_display": true
  }
 },
 "nbformat": 4,
 "nbformat_minor": 5
}
