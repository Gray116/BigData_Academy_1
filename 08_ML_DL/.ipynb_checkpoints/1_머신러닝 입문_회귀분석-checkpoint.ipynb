{
 "cells": [
  {
   "cell_type": "code",
   "execution_count": 1,
   "id": "554ee51a",
   "metadata": {},
   "outputs": [
    {
     "data": {
      "text/html": [
       "\n",
       "<style>\n",
       "div.CodeMirror {font-family:Consolas; font-size:13pt;}\n",
       "div.output {font-size:13pt; font-weight : bold;}\n",
       "div.input {font-family:Consolas; font-size:13pt;}\n",
       "</style>\n"
      ],
      "text/plain": [
       "<IPython.core.display.HTML object>"
      ]
     },
     "metadata": {},
     "output_type": "display_data"
    }
   ],
   "source": [
    "from IPython.display import display, HTML\n",
    "display(HTML(\"\"\"\n",
    "<style>\n",
    "div.CodeMirror {font-family:Consolas; font-size:13pt;}\n",
    "div.output {font-size:13pt; font-weight : bold;}\n",
    "div.input {font-family:Consolas; font-size:13pt;}\n",
    "</style>\n",
    "\"\"\"))"
   ]
  },
  {
   "cell_type": "markdown",
   "id": "04e9e9ae",
   "metadata": {},
   "source": [
    "# 1절. 기존 프로그램 방식"
   ]
  },
  {
   "cell_type": "code",
   "execution_count": 2,
   "id": "3d78b717",
   "metadata": {},
   "outputs": [],
   "source": [
    "import numpy as np\n",
    "import matplotlib.pyplot as plt"
   ]
  },
  {
   "cell_type": "code",
   "execution_count": 9,
   "id": "b1fc2841",
   "metadata": {},
   "outputs": [],
   "source": [
    "# ▶ 섭씨온도(input data)를 받아 화씨온도로 출력\n",
    "def celsisu_to_faherenheit(c):\n",
    "    return (c * 1.8) + 32"
   ]
  },
  {
   "cell_type": "code",
   "execution_count": 10,
   "id": "4fa9bfd2",
   "metadata": {},
   "outputs": [
    {
     "name": "stdout",
     "output_type": "stream",
     "text": [
      "섭씨온도 : 35\n",
      "화씨온도 : 95.0\n"
     ]
    }
   ],
   "source": [
    "input_c = int(input('섭씨온도 : '))\n",
    "print('화씨온도 :', round(celsisu_to_faherenheit(input_c), 2))"
   ]
  },
  {
   "cell_type": "markdown",
   "id": "673a1357",
   "metadata": {},
   "source": [
    "# 2절. 머신러닝 프로그램 방식\n",
    "- 1. 데이터 확보 및 생성\n",
    "- 2. 데이터 전처리 : 훈련데이터셋(학습데이터셋), 검증데이터셋, 시험데이터셋, ...\n",
    "- 3. 모델 구성\n",
    "- 4. 모델 학습과정 설정\n",
    "- 5. 모델 학습시키기\n",
    "- 6. 모델 평가(by 시험데이터셋)\n",
    "- 7. 모델 사용(입력값이 주어지면 예측값을 받기)"
   ]
  },
  {
   "cell_type": "markdown",
   "id": "02e58ec1",
   "metadata": {},
   "source": [
    "## 2.1 노이즈가 없는 데이터"
   ]
  },
  {
   "cell_type": "code",
   "execution_count": 11,
   "id": "46212fc5",
   "metadata": {},
   "outputs": [
    {
     "data": {
      "text/plain": [
       "array([ 0,  1,  2,  3,  4,  5,  6,  7,  8,  9, 10, 11, 12, 13, 14, 15, 16,\n",
       "       17, 18, 19, 20, 21, 22, 23, 24, 25, 26, 27, 28, 29, 30, 31, 32, 33,\n",
       "       34, 35, 36, 37, 38, 39, 40, 41, 42, 43, 44, 45, 46, 47, 48, 49, 50,\n",
       "       51, 52, 53, 54, 55, 56, 57, 58, 59, 60, 61, 62, 63, 64, 65, 66, 67,\n",
       "       68, 69, 70, 71, 72, 73, 74, 75, 76, 77, 78, 79, 80, 81, 82, 83, 84,\n",
       "       85, 86, 87, 88, 89, 90, 91, 92, 93, 94, 95, 96, 97, 98, 99])"
      ]
     },
     "execution_count": 11,
     "metadata": {},
     "output_type": "execute_result"
    }
   ],
   "source": [
    "# ▶ 1. 데이터 생성 및 확보\n",
    "dataC = np.array(range(100)) # = np.arange(100)\n",
    "\n",
    "dataC # 예측변수"
   ]
  },
  {
   "cell_type": "code",
   "execution_count": 12,
   "id": "4b2e9d18",
   "metadata": {},
   "outputs": [
    {
     "data": {
      "text/plain": [
       "array([ 32. ,  33.8,  35.6,  37.4,  39.2,  41. ,  42.8,  44.6,  46.4,\n",
       "        48.2,  50. ,  51.8,  53.6,  55.4,  57.2,  59. ,  60.8,  62.6,\n",
       "        64.4,  66.2,  68. ,  69.8,  71.6,  73.4,  75.2,  77. ,  78.8,\n",
       "        80.6,  82.4,  84.2,  86. ,  87.8,  89.6,  91.4,  93.2,  95. ,\n",
       "        96.8,  98.6, 100.4, 102.2, 104. , 105.8, 107.6, 109.4, 111.2,\n",
       "       113. , 114.8, 116.6, 118.4, 120.2, 122. , 123.8, 125.6, 127.4,\n",
       "       129.2, 131. , 132.8, 134.6, 136.4, 138.2, 140. , 141.8, 143.6,\n",
       "       145.4, 147.2, 149. , 150.8, 152.6, 154.4, 156.2, 158. , 159.8,\n",
       "       161.6, 163.4, 165.2, 167. , 168.8, 170.6, 172.4, 174.2, 176. ,\n",
       "       177.8, 179.6, 181.4, 183.2, 185. , 186.8, 188.6, 190.4, 192.2,\n",
       "       194. , 195.8, 197.6, 199.4, 201.2, 203. , 204.8, 206.6, 208.4,\n",
       "       210.2])"
      ]
     },
     "execution_count": 12,
     "metadata": {},
     "output_type": "execute_result"
    }
   ],
   "source": [
    "dataF = celsisu_to_faherenheit(dataC)\n",
    "\n",
    "dataF # 결과변수"
   ]
  },
  {
   "cell_type": "code",
   "execution_count": 13,
   "id": "4dfc0407",
   "metadata": {},
   "outputs": [],
   "source": [
    "# ▶ 3. 모델 구성\n",
    "from tensorflow.keras.models import Sequential # 모델 생성\n",
    "from tensorflow.keras.layers import Dense      # 입력값과 출력값\n",
    "\n",
    "model = Sequential()\n",
    "model.add(Dense(1, input_dim = 1)) # input_dim = n : 독립변수가 n개"
   ]
  },
  {
   "cell_type": "code",
   "execution_count": 14,
   "id": "ddd0966e",
   "metadata": {},
   "outputs": [
    {
     "name": "stdout",
     "output_type": "stream",
     "text": [
      "Model: \"sequential\"\n",
      "_________________________________________________________________\n",
      "Layer (type)                 Output Shape              Param #   \n",
      "=================================================================\n",
      "dense (Dense)                (None, 1)                 2         \n",
      "=================================================================\n",
      "Total params: 2\n",
      "Trainable params: 2\n",
      "Non-trainable params: 0\n",
      "_________________________________________________________________\n",
      "None\n"
     ]
    }
   ],
   "source": [
    "# ▶ 4. 모델 학습과정 설정\n",
    "model.compile(loss = \"mse\",\n",
    "              optimizer = 'rmsprop', \n",
    "              metrics = ['mae'])\n",
    "\n",
    "print(model.summary())"
   ]
  },
  {
   "cell_type": "code",
   "execution_count": 15,
   "id": "d731f5eb",
   "metadata": {},
   "outputs": [],
   "source": [
    "# ※ 학습전 예측\n",
    "model.predict(np.array([[0]]))\n",
    "model.save('model/before_learning.h5')"
   ]
  },
  {
   "cell_type": "code",
   "execution_count": 16,
   "id": "6851fe66",
   "metadata": {},
   "outputs": [
    {
     "name": "stdout",
     "output_type": "stream",
     "text": [
      "예측(독립)변수는  [0.   0.01 0.02 0.03 0.04 0.05 0.06 0.07 0.08 0.09 0.1  0.11 0.12 0.13\n",
      " 0.14 0.15 0.16 0.17 0.18 0.19 0.2  0.21 0.22 0.23 0.24 0.25 0.26 0.27\n",
      " 0.28 0.29 0.3  0.31 0.32 0.33 0.34 0.35 0.36 0.37 0.38 0.39 0.4  0.41\n",
      " 0.42 0.43 0.44 0.45 0.46 0.47 0.48 0.49 0.5  0.51 0.52 0.53 0.54 0.55\n",
      " 0.56 0.57 0.58 0.59 0.6  0.61 0.62 0.63 0.64 0.65 0.66 0.67 0.68 0.69\n",
      " 0.7  0.71 0.72 0.73 0.74 0.75 0.76 0.77 0.78 0.79 0.8  0.81 0.82 0.83\n",
      " 0.84 0.85 0.86 0.87 0.88 0.89 0.9  0.91 0.92 0.93 0.94 0.95 0.96 0.97\n",
      " 0.98 0.99]\n",
      "결과(종속)변수는  [0.32  0.338 0.356 0.374 0.392 0.41  0.428 0.446 0.464 0.482 0.5   0.518\n",
      " 0.536 0.554 0.572 0.59  0.608 0.626 0.644 0.662 0.68  0.698 0.716 0.734\n",
      " 0.752 0.77  0.788 0.806 0.824 0.842 0.86  0.878 0.896 0.914 0.932 0.95\n",
      " 0.968 0.986 1.004 1.022 1.04  1.058 1.076 1.094 1.112 1.13  1.148 1.166\n",
      " 1.184 1.202 1.22  1.238 1.256 1.274 1.292 1.31  1.328 1.346 1.364 1.382\n",
      " 1.4   1.418 1.436 1.454 1.472 1.49  1.508 1.526 1.544 1.562 1.58  1.598\n",
      " 1.616 1.634 1.652 1.67  1.688 1.706 1.724 1.742 1.76  1.778 1.796 1.814\n",
      " 1.832 1.85  1.868 1.886 1.904 1.922 1.94  1.958 1.976 1.994 2.012 2.03\n",
      " 2.048 2.066 2.084 2.102]\n"
     ]
    }
   ],
   "source": [
    "# ▶ 2. 데이터 전처리\n",
    "# 컴퓨터에게 학습시키기 위해 정상화(전체의 편차를 비슷하게 만듦)한다.\n",
    "# 이상적인 편차 : (0 ~ 1) or (-1 ~ 1)\n",
    "scaled_dataC = dataC / 100.0\n",
    "scaled_dataF = dataF / 100.0\n",
    "\n",
    "print('예측(독립)변수는 ', scaled_dataC)\n",
    "print('결과(종속)변수는 ', scaled_dataF)"
   ]
  },
  {
   "cell_type": "code",
   "execution_count": null,
   "id": "7bce4257",
   "metadata": {
    "scrolled": true
   },
   "outputs": [],
   "source": [
    "# ▶ 5. 모델 학습시키기 (한번만 실행)\n",
    "hist = model.fit(scaled_dataC, scaled_dataF, # fit(예측변수, 결과변수)\n",
    "                 epochs = 1000, verbose = 2) # epochs = 학습횟수, verbose = 학습 후 출력여부\n",
    "\n",
    "# 테스트 값 출력"
   ]
  },
  {
   "cell_type": "code",
   "execution_count": null,
   "id": "308dbb1c",
   "metadata": {},
   "outputs": [],
   "source": [
    "hist.history\n",
    "\n",
    "# loss 값에 대한 배열 출력"
   ]
  },
  {
   "cell_type": "code",
   "execution_count": 28,
   "id": "3915460d",
   "metadata": {
    "scrolled": true
   },
   "outputs": [
    {
     "data": {
      "image/png": "[encoded data removed]",
      "text/plain": [
       "<Figure size 1152x648 with 1 Axes>"
      ]
     },
     "metadata": {
      "needs_background": "light"
     },
     "output_type": "display_data"
    }
   ],
   "source": [
    "# ▶ 7. 모델 사용\n",
    "plt.figure(figsize=(16, 9))\n",
    "plt.plot(hist.history['loss'])\n",
    "\n",
    "plt.show()"
   ]
  },
  {
   "cell_type": "code",
   "execution_count": 29,
   "id": "7af54731",
   "metadata": {},
   "outputs": [
    {
     "data": {
      "text/plain": [
       "array([[0.31930104]], dtype=float32)"
      ]
     },
     "execution_count": 29,
     "metadata": {},
     "output_type": "execute_result"
    }
   ],
   "source": [
    "model.predict(np.array([0]))\n",
    "model.predict([0])"
   ]
  },
  {
   "cell_type": "code",
   "execution_count": 30,
   "id": "c0606de7",
   "metadata": {},
   "outputs": [
    {
     "data": {
      "text/plain": [
       "array([[0.33729637]], dtype=float32)"
      ]
     },
     "execution_count": 30,
     "metadata": {},
     "output_type": "execute_result"
    }
   ],
   "source": [
    "model.predict(np.array([0.01]))"
   ]
  },
  {
   "cell_type": "code",
   "execution_count": 31,
   "id": "40b6a967",
   "metadata": {},
   "outputs": [],
   "source": [
    "model.save('model/after_learning.h5')"
   ]
  },
  {
   "cell_type": "code",
   "execution_count": 17,
   "id": "adf5d23c",
   "metadata": {},
   "outputs": [
    {
     "data": {
      "image/png": "[encoded data removed]",
      "text/plain": [
       "<Figure size 1152x648 with 1 Axes>"
      ]
     },
     "metadata": {
      "needs_background": "light"
     },
     "output_type": "display_data"
    }
   ],
   "source": [
    "plt.figure(figsize = (16, 9))\n",
    "plt.scatter(x = scaled_dataC, y = scaled_dataF)\n",
    "\n",
    "plt.show()"
   ]
  },
  {
   "cell_type": "markdown",
   "id": "8d34d20c",
   "metadata": {},
   "source": [
    "## 2.2 노이즈가 있는 데이터"
   ]
  },
  {
   "cell_type": "code",
   "execution_count": 34,
   "id": "83a91d6a",
   "metadata": {},
   "outputs": [],
   "source": [
    "# ▶ 1. 평균이 0, 표준편차가 0.1인 데이터 100개\n",
    "np.random.seed(707)\n",
    "noise = np.array(np.random.normal(0, 0.1, 100))\n",
    "\n",
    "noised_scaled_dataF = noise + scaled_dataF"
   ]
  },
  {
   "cell_type": "code",
   "execution_count": 35,
   "id": "c806896b",
   "metadata": {},
   "outputs": [
    {
     "data": {
      "image/png": "[encoded data removed]",
      "text/plain": [
       "<Figure size 1152x648 with 1 Axes>"
      ]
     },
     "metadata": {
      "needs_background": "light"
     },
     "output_type": "display_data"
    }
   ],
   "source": [
    "plt.figure(figsize=(16, 9))\n",
    "plt.scatter(x = scaled_dataC, y = noised_scaled_dataF)\n",
    "\n",
    "plt.show()"
   ]
  },
  {
   "cell_type": "code",
   "execution_count": 36,
   "id": "e9d435d5",
   "metadata": {},
   "outputs": [
    {
     "name": "stdout",
     "output_type": "stream",
     "text": [
      "Model: \"sequential_2\"\n",
      "_________________________________________________________________\n",
      "Layer (type)                 Output Shape              Param #   \n",
      "=================================================================\n",
      "dense_2 (Dense)              (None, 1)                 2         \n",
      "=================================================================\n",
      "Total params: 2\n",
      "Trainable params: 2\n",
      "Non-trainable params: 0\n",
      "_________________________________________________________________\n",
      "None\n"
     ]
    }
   ],
   "source": [
    "# ▶ 3. 모델 구성\n",
    "model2 = Sequential()\n",
    "model2.add(Dense(1, input_dim = 1))\n",
    "\n",
    "# ▶ 4. 학습과정 설정\n",
    "model2.compile(loss = 'mse', optimizer = 'rmsprop', metrics=['mae']) # mae = (실측값-예측값)의 절대값\n",
    "               # 손실함수     # 옵티마이저           # 평가지표\n",
    "print(model2.summary())"
   ]
  },
  {
   "cell_type": "code",
   "execution_count": null,
   "id": "4df10bc7",
   "metadata": {},
   "outputs": [],
   "source": [
    "# ▶ 5. 학습시키기\n",
    "hist2 = model2.fit(scaled_dataC, noised_scaled_dataF, \n",
    "                   epochs=1000, verbose=2)\n",
    "\n",
    "# 테스트 값 출력"
   ]
  },
  {
   "cell_type": "code",
   "execution_count": 40,
   "id": "2e9520ab",
   "metadata": {},
   "outputs": [
    {
     "data": {
      "image/png": "[encoded data removed]",
      "text/plain": [
       "<Figure size 432x288 with 1 Axes>"
      ]
     },
     "metadata": {
      "needs_background": "light"
     },
     "output_type": "display_data"
    }
   ],
   "source": [
    "plt.plot(hist2.history['loss'])\n",
    "\n",
    "plt.show()"
   ]
  },
  {
   "cell_type": "code",
   "execution_count": 41,
   "id": "d4cb627e",
   "metadata": {},
   "outputs": [],
   "source": [
    "model2.save('model/noise_after_learning.h5')"
   ]
  }
 ],
 "metadata": {
  "kernelspec": {
   "display_name": "Python 3",
   "language": "python",
   "name": "python3"
  },
  "language_info": {
   "codemirror_mode": {
    "name": "ipython",
    "version": 3
   },
   "file_extension": ".py",
   "mimetype": "text/x-python",
   "name": "python",
   "nbconvert_exporter": "python",
   "pygments_lexer": "ipython3",
   "version": "3.8.8"
  },
  "toc": {
   "base_numbering": 1,
   "nav_menu": {},
   "number_sections": false,
   "sideBar": true,
   "skip_h1_title": false,
   "title_cell": "Table of Contents",
   "title_sidebar": "Contents",
   "toc_cell": false,
   "toc_position": {
    "height": "calc(100% - 180px)",
    "left": "10px",
    "top": "150px",
    "width": "247px"
   },
   "toc_section_display": true,
   "toc_window_display": true
  },
  "varInspector": {
   "cols": {
    "lenName": 16,
    "lenType": 16,
    "lenVar": 40
   },
   "kernels_config": {
    "python": {
     "delete_cmd_postfix": "",
     "delete_cmd_prefix": "del ",
     "library": "var_list.py",
     "varRefreshCmd": "print(var_dic_list())"
    },
    "r": {
     "delete_cmd_postfix": ") ",
     "delete_cmd_prefix": "rm(",
     "library": "var_list.r",
     "varRefreshCmd": "cat(var_dic_list()) "
    }
   },
   "position": {
    "height": "418px",
    "left": "1550px",
    "right": "20px",
    "top": "120px",
    "width": "350px"
   },
   "types_to_exclude": [
    "module",
    "function",
    "builtin_function_or_method",
    "instance",
    "_Feature"
   ],
   "window_display": true
  }
 },
 "nbformat": 4,
 "nbformat_minor": 5
}
