{
 "cells": [
  {
   "cell_type": "code",
   "execution_count": 1,
   "id": "5f168528",
   "metadata": {},
   "outputs": [
    {
     "data": {
      "text/html": [
       "\n",
       "<style>\n",
       "div.Container {width:85% !important;}\n",
       "div.CodeMirror {font-family:NanumGothic; font-size:13pt; line-height : 150%;}\n",
       "div.output_area pre {font-family:NanumGothic; font-size:13pt; line-height : 150%;}\n",
       "div.output_wrapper pre {font-family:NanumGothic; font-size:13pt; line-height : 150%;}\n",
       "div.input {font-family:NanumGothic; font-size:13pt; line-height : 150%;}\n",
       "</style>\n"
      ],
      "text/plain": [
       "<IPython.core.display.HTML object>"
      ]
     },
     "metadata": {},
     "output_type": "display_data"
    }
   ],
   "source": [
    "from IPython.display import display, HTML\n",
    "display(HTML(\"\"\"\n",
    "<style>\n",
    "div.Container {width:85% !important;}\n",
    "div.CodeMirror {font-family:NanumGothic; font-size:13pt; line-height : 150%;}\n",
    "div.output_area pre {font-family:NanumGothic; font-size:13pt; line-height : 150%;}\n",
    "div.output_wrapper pre {font-family:NanumGothic; font-size:13pt; line-height : 150%;}\n",
    "div.input {font-family:NanumGothic; font-size:13pt; line-height : 150%;}\n",
    "</style>\n",
    "\"\"\"))"
   ]
  },
  {
   "cell_type": "code",
   "execution_count": 1,
   "id": "16066f12",
   "metadata": {},
   "outputs": [
    {
     "data": {
      "text/plain": [
       "(28, 28, 4)"
      ]
     },
     "execution_count": 1,
     "metadata": {},
     "output_type": "execute_result"
    }
   ],
   "source": [
    "import matplotlib.pyplot as plt\n",
    "c0 = plt.imread('test/0/1.png')\n",
    "\n",
    "c0.shape # 4 : RGBA (RGB와 투명도)"
   ]
  },
  {
   "cell_type": "code",
   "execution_count": 2,
   "id": "a87234ec",
   "metadata": {},
   "outputs": [
    {
     "data": {
      "image/png": "[encoded data removed]",
      "text/plain": [
       "<PIL.PngImagePlugin.PngImageFile image mode=RGBA size=28x28 at 0x1437D43B760>"
      ]
     },
     "metadata": {},
     "output_type": "display_data"
    },
    {
     "data": {
      "text/plain": [
       "(28, 28, 4)"
      ]
     },
     "execution_count": 2,
     "metadata": {},
     "output_type": "execute_result"
    }
   ],
   "source": [
    "from PIL import Image\n",
    "c0 = Image.open('test/0/1.png')\n",
    "display(c0)\n",
    "\n",
    "c0 = np.array(c0)\n",
    "c0.shape"
   ]
  },
  {
   "cell_type": "markdown",
   "id": "b330f0d5",
   "metadata": {},
   "source": [
    "# CNN\n",
    "- 이미지 분류에서만 쓰인다"
   ]
  },
  {
   "cell_type": "code",
   "execution_count": 3,
   "id": "06c4573b",
   "metadata": {},
   "outputs": [],
   "source": [
    "import numpy as np\n",
    "\n",
    "from tensorflow.keras.models import Sequential\n",
    "from tensorflow.keras.layers import Dense, Dropout\n",
    "\n",
    "from tensorflow.keras.preprocessing.image import ImageDataGenerator\n",
    "from tensorflow.keras.layers import Conv2D # 필터링(특징 추출) 작업에 필요\n",
    "from tensorflow.keras.layers import MaxPooling2D # 풀링\n",
    "from tensorflow.keras.layers import Flatten # 2차원데이터를 1차원으로 변환\n",
    "\n",
    "np.random.seed(3)"
   ]
  },
  {
   "cell_type": "code",
   "execution_count": 5,
   "id": "b75dcf1f",
   "metadata": {},
   "outputs": [
    {
     "data": {
      "text/plain": [
       "(24, 24, 4)"
      ]
     },
     "execution_count": 5,
     "metadata": {},
     "output_type": "execute_result"
    }
   ],
   "source": [
    "temp = Image.open('data/handwriting/handwriting_shape/train/circle/circle001.png')\n",
    "np.array(temp).shape"
   ]
  },
  {
   "cell_type": "code",
   "execution_count": 6,
   "id": "fcda39a0",
   "metadata": {},
   "outputs": [
    {
     "name": "stdout",
     "output_type": "stream",
     "text": [
      "Found 45 images belonging to 3 classes.\n",
      "Found 15 images belonging to 3 classes.\n"
     ]
    }
   ],
   "source": [
    "# ▶ 1. 모델에 사용할 데이터 생성하기\n",
    "train_data_generator = ImageDataGenerator(rescale = 1. / 255)\n",
    "train_data = train_data_generator.flow_from_directory('data/handwriting/handwriting_shape/train/', \n",
    "                                                      target_size = (24, 24), class_mode = 'categorical', \n",
    "                                                      batch_size = 3)\n",
    "\n",
    "test_data_generator = ImageDataGenerator(rescale = 1. / 255)\n",
    "test_data = test_data_generator.flow_from_directory('data/handwriting/handwriting_shape/test/', \n",
    "                                                    target_size = (24, 24), class_mode = 'categorical', \n",
    "                                                    batch_size = 3)"
   ]
  },
  {
   "cell_type": "code",
   "execution_count": 7,
   "id": "bab2d1ac",
   "metadata": {},
   "outputs": [],
   "source": [
    "# ▶ 2. 모델 - 객체 생성하기\n",
    "model = Sequential()\n",
    "\n",
    "# Conv2D(필터 개수, 필터 사이즈, activation func, 이미지 사이즈)\n",
    "model.add(Conv2D(32, kernel_size = (3, 3), activation = 'relu', input_shape = (24, 24, 3)))\n",
    "model.add(Conv2D(64, kernel_size = (3, 3), activation = 'relu'))\n",
    "\n",
    "# 2x2에서 제일 큰 값만 뽑아 이미지 축소\n",
    "model.add(MaxPooling2D(pool_size = (2, 2))) \n",
    "\n",
    "# 2차원 데이터를 1차원으로\n",
    "model.add(Flatten())\n",
    "\n",
    "model.add(Dense(units = 128, activation = 'relu'))\n",
    "model.add(Dense(3, activation = 'softmax')) # 분류의 종류 3개"
   ]
  },
  {
   "cell_type": "code",
   "execution_count": 8,
   "id": "aa8fc5d9",
   "metadata": {},
   "outputs": [
    {
     "name": "stderr",
     "output_type": "stream",
     "text": [
      "C:\\Users\\tjoeun\\anaconda3\\lib\\site-packages\\tensorflow\\python\\keras\\engine\\training.py:1940: UserWarning: `Model.fit_generator` is deprecated and will be removed in a future version. Please use `Model.fit`, which supports generators.\n",
      "  warnings.warn('`Model.fit_generator` is deprecated and '\n"
     ]
    },
    {
     "name": "stdout",
     "output_type": "stream",
     "text": [
      "Epoch 1/50\n",
      "15/15 [==============================] - 1s 23ms/step - loss: 0.9585 - accuracy: 0.5778 - val_loss: 0.6028 - val_accuracy: 0.8000\n",
      "Epoch 2/50\n",
      "15/15 [==============================] - 0s 8ms/step - loss: 0.2130 - accuracy: 0.9556 - val_loss: 0.0899 - val_accuracy: 1.0000\n",
      "Epoch 3/50\n",
      "15/15 [==============================] - 0s 9ms/step - loss: 0.0518 - accuracy: 1.0000 - val_loss: 0.0318 - val_accuracy: 1.0000\n",
      "Epoch 4/50\n",
      "15/15 [==============================] - 0s 9ms/step - loss: 0.0030 - accuracy: 1.0000 - val_loss: 0.0316 - val_accuracy: 1.0000\n",
      "Epoch 5/50\n",
      "15/15 [==============================] - 0s 9ms/step - loss: 0.0011 - accuracy: 1.0000 - val_loss: 0.0215 - val_accuracy: 1.0000\n",
      "Epoch 6/50\n",
      "15/15 [==============================] - 0s 9ms/step - loss: 2.8598e-04 - accuracy: 1.0000 - val_loss: 0.0162 - val_accuracy: 1.0000\n",
      "Epoch 7/50\n",
      "15/15 [==============================] - 0s 9ms/step - loss: 1.5139e-04 - accuracy: 1.0000 - val_loss: 0.0141 - val_accuracy: 1.0000\n",
      "Epoch 8/50\n",
      "15/15 [==============================] - 0s 9ms/step - loss: 1.1950e-04 - accuracy: 1.0000 - val_loss: 0.0145 - val_accuracy: 1.0000\n",
      "Epoch 9/50\n",
      "15/15 [==============================] - 0s 8ms/step - loss: 9.9351e-05 - accuracy: 1.0000 - val_loss: 0.0145 - val_accuracy: 1.0000\n",
      "Epoch 10/50\n",
      "15/15 [==============================] - 0s 9ms/step - loss: 8.3967e-05 - accuracy: 1.0000 - val_loss: 0.0146 - val_accuracy: 1.0000\n",
      "Epoch 11/50\n",
      "15/15 [==============================] - 0s 9ms/step - loss: 7.3137e-05 - accuracy: 1.0000 - val_loss: 0.0151 - val_accuracy: 1.0000\n",
      "Epoch 12/50\n",
      "15/15 [==============================] - 0s 9ms/step - loss: 6.3478e-05 - accuracy: 1.0000 - val_loss: 0.0154 - val_accuracy: 1.0000\n",
      "Epoch 13/50\n",
      "15/15 [==============================] - 0s 9ms/step - loss: 5.5668e-05 - accuracy: 1.0000 - val_loss: 0.0148 - val_accuracy: 1.0000\n",
      "Epoch 14/50\n",
      "15/15 [==============================] - 0s 9ms/step - loss: 4.8731e-05 - accuracy: 1.0000 - val_loss: 0.0145 - val_accuracy: 1.0000\n",
      "Epoch 15/50\n",
      "15/15 [==============================] - 0s 8ms/step - loss: 4.3102e-05 - accuracy: 1.0000 - val_loss: 0.0142 - val_accuracy: 1.0000\n",
      "Epoch 16/50\n",
      "15/15 [==============================] - 0s 9ms/step - loss: 3.8033e-05 - accuracy: 1.0000 - val_loss: 0.0136 - val_accuracy: 1.0000\n",
      "Epoch 17/50\n",
      "15/15 [==============================] - 0s 9ms/step - loss: 3.4063e-05 - accuracy: 1.0000 - val_loss: 0.0128 - val_accuracy: 1.0000\n",
      "Epoch 18/50\n",
      "15/15 [==============================] - 0s 9ms/step - loss: 2.9809e-05 - accuracy: 1.0000 - val_loss: 0.0129 - val_accuracy: 1.0000\n",
      "Epoch 19/50\n",
      "15/15 [==============================] - 0s 9ms/step - loss: 2.7761e-05 - accuracy: 1.0000 - val_loss: 0.0131 - val_accuracy: 1.0000\n",
      "Epoch 20/50\n",
      "15/15 [==============================] - 0s 9ms/step - loss: 2.4710e-05 - accuracy: 1.0000 - val_loss: 0.0117 - val_accuracy: 1.0000\n",
      "Epoch 21/50\n",
      "15/15 [==============================] - 0s 9ms/step - loss: 2.1608e-05 - accuracy: 1.0000 - val_loss: 0.0113 - val_accuracy: 1.0000\n",
      "Epoch 22/50\n",
      "15/15 [==============================] - 0s 8ms/step - loss: 1.9820e-05 - accuracy: 1.0000 - val_loss: 0.0107 - val_accuracy: 1.0000\n",
      "Epoch 23/50\n",
      "15/15 [==============================] - 0s 9ms/step - loss: 1.8029e-05 - accuracy: 1.0000 - val_loss: 0.0098 - val_accuracy: 1.0000\n",
      "Epoch 24/50\n",
      "15/15 [==============================] - 0s 9ms/step - loss: 1.6347e-05 - accuracy: 1.0000 - val_loss: 0.0103 - val_accuracy: 1.0000\n",
      "Epoch 25/50\n",
      "15/15 [==============================] - 0s 8ms/step - loss: 1.5285e-05 - accuracy: 1.0000 - val_loss: 0.0089 - val_accuracy: 1.0000\n",
      "Epoch 26/50\n",
      "15/15 [==============================] - 0s 8ms/step - loss: 1.3404e-05 - accuracy: 1.0000 - val_loss: 0.0089 - val_accuracy: 1.0000\n",
      "Epoch 27/50\n",
      "15/15 [==============================] - 0s 9ms/step - loss: 1.2252e-05 - accuracy: 1.0000 - val_loss: 0.0083 - val_accuracy: 1.0000\n",
      "Epoch 28/50\n",
      "15/15 [==============================] - 0s 10ms/step - loss: 1.1280e-05 - accuracy: 1.0000 - val_loss: 0.0081 - val_accuracy: 1.0000\n",
      "Epoch 29/50\n",
      "15/15 [==============================] - 0s 10ms/step - loss: 1.0554e-05 - accuracy: 1.0000 - val_loss: 0.0073 - val_accuracy: 1.0000\n",
      "Epoch 30/50\n",
      "15/15 [==============================] - 0s 10ms/step - loss: 9.5525e-06 - accuracy: 1.0000 - val_loss: 0.0072 - val_accuracy: 1.0000\n",
      "Epoch 31/50\n",
      "15/15 [==============================] - 0s 9ms/step - loss: 8.9035e-06 - accuracy: 1.0000 - val_loss: 0.0072 - val_accuracy: 1.0000\n",
      "Epoch 32/50\n",
      "15/15 [==============================] - 0s 9ms/step - loss: 8.3445e-06 - accuracy: 1.0000 - val_loss: 0.0065 - val_accuracy: 1.0000\n",
      "Epoch 33/50\n",
      "15/15 [==============================] - 0s 10ms/step - loss: 7.5074e-06 - accuracy: 1.0000 - val_loss: 0.0064 - val_accuracy: 1.0000\n",
      "Epoch 34/50\n",
      "15/15 [==============================] - 0s 9ms/step - loss: 7.1445e-06 - accuracy: 1.0000 - val_loss: 0.0060 - val_accuracy: 1.0000\n",
      "Epoch 35/50\n",
      "15/15 [==============================] - 0s 9ms/step - loss: 6.5008e-06 - accuracy: 1.0000 - val_loss: 0.0061 - val_accuracy: 1.0000\n",
      "Epoch 36/50\n",
      "15/15 [==============================] - 0s 10ms/step - loss: 6.1644e-06 - accuracy: 1.0000 - val_loss: 0.0059 - val_accuracy: 1.0000\n",
      "Epoch 37/50\n",
      "15/15 [==============================] - 0s 11ms/step - loss: 5.7246e-06 - accuracy: 1.0000 - val_loss: 0.0057 - val_accuracy: 1.0000\n",
      "Epoch 38/50\n",
      "15/15 [==============================] - 0s 10ms/step - loss: 5.3061e-06 - accuracy: 1.0000 - val_loss: 0.0054 - val_accuracy: 1.0000\n",
      "Epoch 39/50\n",
      "15/15 [==============================] - 0s 10ms/step - loss: 5.0094e-06 - accuracy: 1.0000 - val_loss: 0.0050 - val_accuracy: 1.0000\n",
      "Epoch 40/50\n",
      "15/15 [==============================] - 0s 10ms/step - loss: 4.6889e-06 - accuracy: 1.0000 - val_loss: 0.0050 - val_accuracy: 1.0000\n",
      "Epoch 41/50\n",
      "15/15 [==============================] - 0s 10ms/step - loss: 4.4240e-06 - accuracy: 1.0000 - val_loss: 0.0047 - val_accuracy: 1.0000\n",
      "Epoch 42/50\n",
      "15/15 [==============================] - 0s 10ms/step - loss: 4.1167e-06 - accuracy: 1.0000 - val_loss: 0.0047 - val_accuracy: 1.0000\n",
      "Epoch 43/50\n",
      "15/15 [==============================] - 0s 9ms/step - loss: 3.8756e-06 - accuracy: 1.0000 - val_loss: 0.0046 - val_accuracy: 1.0000\n",
      "Epoch 44/50\n",
      "15/15 [==============================] - 0s 9ms/step - loss: 3.6849e-06 - accuracy: 1.0000 - val_loss: 0.0045 - val_accuracy: 1.0000\n",
      "Epoch 45/50\n",
      "15/15 [==============================] - 0s 9ms/step - loss: 3.4650e-06 - accuracy: 1.0000 - val_loss: 0.0043 - val_accuracy: 1.0000\n",
      "Epoch 46/50\n",
      "15/15 [==============================] - 0s 9ms/step - loss: 3.2690e-06 - accuracy: 1.0000 - val_loss: 0.0042 - val_accuracy: 1.0000\n",
      "Epoch 47/50\n",
      "15/15 [==============================] - 0s 9ms/step - loss: 3.0888e-06 - accuracy: 1.0000 - val_loss: 0.0042 - val_accuracy: 1.0000\n",
      "Epoch 48/50\n",
      "15/15 [==============================] - 0s 9ms/step - loss: 2.9458e-06 - accuracy: 1.0000 - val_loss: 0.0040 - val_accuracy: 1.0000\n",
      "Epoch 49/50\n",
      "15/15 [==============================] - 0s 9ms/step - loss: 2.7656e-06 - accuracy: 1.0000 - val_loss: 0.0039 - val_accuracy: 1.0000\n",
      "Epoch 50/50\n",
      "15/15 [==============================] - 0s 8ms/step - loss: 2.6199e-06 - accuracy: 1.0000 - val_loss: 0.0038 - val_accuracy: 1.0000\n"
     ]
    },
    {
     "data": {
      "text/plain": [
       "<tensorflow.python.keras.callbacks.History at 0x1430ed6ad90>"
      ]
     },
     "execution_count": 8,
     "metadata": {},
     "output_type": "execute_result"
    }
   ],
   "source": [
    "# ▶ 3. 모델 - 학습과정 설정\n",
    "model.compile(loss = 'categorical_crossentropy', optimizer = 'adam', metrics = ['accuracy'])\n",
    "\n",
    "\n",
    "# ▶ 4. 모델 - 컴퓨터 학습시키기\n",
    "model.fit_generator(train_data, steps_per_epoch = 15, epochs = 50, \n",
    "                    validation_data = test_data, validation_steps = 5) # batch_size 대신 validation_steps"
   ]
  },
  {
   "cell_type": "code",
   "execution_count": 14,
   "id": "22de2bed",
   "metadata": {},
   "outputs": [
    {
     "name": "stdout",
     "output_type": "stream",
     "text": [
      "Loss : 0.38 %\n",
      "Accuracy : 100.0 %\n"
     ]
    }
   ],
   "source": [
    "# ▶ 5. 모델 평가\n",
    "# test_data 자체에 이미 x, y가 다 있기 때문에 generator 사용\n",
    "score = model.evaluate_generator(test_data, steps = 5)\n",
    "\n",
    "print('Loss :', round(score[0]*100, 2), '%')\n",
    "print('Accuracy :', round(score[1]*100, 2), '%')"
   ]
  },
  {
   "cell_type": "code",
   "execution_count": 17,
   "id": "01ffa491",
   "metadata": {},
   "outputs": [
    {
     "name": "stdout",
     "output_type": "stream",
     "text": [
      "{'circle': 0, 'rectangle': 1, 'triangle': 2}\n",
      "[[1.00 0.00 0.00]\n",
      " [1.00 0.00 0.00]\n",
      " [0.00 1.00 0.00]\n",
      " [0.00 0.00 1.00]\n",
      " [0.00 0.00 1.00]\n",
      " [1.00 0.00 0.00]\n",
      " [1.00 0.00 0.00]\n",
      " [0.00 1.00 0.00]\n",
      " [0.00 0.00 1.00]\n",
      " [0.00 1.00 0.00]\n",
      " [0.01 0.95 0.03]\n",
      " [0.00 0.00 1.00]\n",
      " [0.00 0.00 1.00]\n",
      " [0.00 1.00 0.00]\n",
      " [1.00 0.00 0.00]]\n"
     ]
    },
    {
     "name": "stderr",
     "output_type": "stream",
     "text": [
      "C:\\Users\\tjoeun\\anaconda3\\lib\\site-packages\\tensorflow\\python\\keras\\engine\\training.py:2001: UserWarning: `Model.predict_generator` is deprecated and will be removed in a future version. Please use `Model.predict`, which supports generators.\n",
      "  warnings.warn('`Model.predict_generator` is deprecated and '\n"
     ]
    }
   ],
   "source": [
    "# ▶ 6. 모델을 기반으로 예측해보기\n",
    "pred = model.predict_generator(test_data)\n",
    "print(test_data.class_indices)\n",
    "\n",
    "np.set_printoptions(formatter = {'float' : lambda x : '{:0.2f}'.format(x)} )\n",
    "print(pred)"
   ]
  },
  {
   "cell_type": "markdown",
   "id": "f3a06b8d",
   "metadata": {},
   "source": [
    "# accuracy 늘리기\n",
    "    * 데이터 확보, 데이터 부풀리기 (ImageDataGenerator)\n",
    "    * 레이어 층(Conv, Dense)"
   ]
  },
  {
   "cell_type": "code",
   "execution_count": 18,
   "id": "01ef725a",
   "metadata": {},
   "outputs": [
    {
     "name": "stdout",
     "output_type": "stream",
     "text": [
      "Found 45 images belonging to 3 classes.\n",
      "Found 15 images belonging to 3 classes.\n"
     ]
    }
   ],
   "source": [
    "# ▶ 1. 모델에 사용할 데이터 생성하기 (부풀리기)\n",
    "##########################################################################\n",
    "train_data_generator = ImageDataGenerator(rescale = 1. / 255, rotation_range = 10, \n",
    "                                          width_shift_range = 0.2, height_shift_range = 0.2, \n",
    "                                          shear_range = 0.7, # 0.7 라이안 밀림\n",
    "                                          zoom_range = [0.9, 2.1], horizontal_flip = True, # 수평방향 뒤집기 \n",
    "                                          vertical_flip = True, fill_mode = 'nearest')\n",
    "##########################################################################\n",
    "train_data = train_data_generator.flow_from_directory('data/handwriting/handwriting_shape/train/', \n",
    "                                                      target_size = (24, 24), class_mode = 'categorical', \n",
    "                                                      batch_size = 3)\n",
    "\n",
    "test_data_generator = ImageDataGenerator(rescale = 1. / 255)\n",
    "test_data = test_data_generator.flow_from_directory('data/handwriting/handwriting_shape/test/', \n",
    "                                                    target_size = (24, 24), class_mode = 'categorical', \n",
    "                                                    batch_size = 3)"
   ]
  },
  {
   "cell_type": "code",
   "execution_count": 19,
   "id": "997aefd6",
   "metadata": {},
   "outputs": [],
   "source": [
    "# ▶ 2. 모델 - 객체 생성하기\n",
    "model = Sequential()\n",
    "\n",
    "# Conv2D(필터 개수, 필터 사이즈, activation func, 이미지 사이즈)\n",
    "model.add(Conv2D(32, kernel_size = (3, 3), activation = 'relu', input_shape = (24, 24, 3)))\n",
    "model.add(Conv2D(32, kernel_size = (3, 3), activation = 'relu'))\n",
    "# 2x2에서 제일 큰 값만 뽑아 이미지 축소\n",
    "model.add(MaxPooling2D(pool_size = (2, 2)))\n",
    "model.add(Dropout(0.1)) # 과적합 방지용\n",
    "\n",
    "model.add(Conv2D(64, kernel_size = (3, 3), activation = 'relu'))\n",
    "model.add(Conv2D(64, kernel_size = (3, 3), activation = 'relu'))\n",
    "model.add(MaxPooling2D(pool_size = (2, 2)))\n",
    "model.add(Dropout(0.1)) # 과적합 방지용\n",
    "\n",
    "# 2차원 데이터를 1차원으로\n",
    "model.add(Flatten())\n",
    "\n",
    "model.add(Dense(units = 128, activation = 'relu'))\n",
    "model.add(Dense(3, activation = 'softmax')) # 분류의 종류 3개"
   ]
  },
  {
   "cell_type": "code",
   "execution_count": 20,
   "id": "88e3d0ed",
   "metadata": {},
   "outputs": [
    {
     "name": "stderr",
     "output_type": "stream",
     "text": [
      "C:\\Users\\tjoeun\\anaconda3\\lib\\site-packages\\tensorflow\\python\\keras\\engine\\training.py:1940: UserWarning: `Model.fit_generator` is deprecated and will be removed in a future version. Please use `Model.fit`, which supports generators.\n",
      "  warnings.warn('`Model.fit_generator` is deprecated and '\n"
     ]
    },
    {
     "name": "stdout",
     "output_type": "stream",
     "text": [
      "Epoch 1/50\n",
      "15/15 [==============================] - 1s 16ms/step - loss: 1.1373 - accuracy: 0.2667 - val_loss: 1.1096 - val_accuracy: 0.3333\n",
      "Epoch 2/50\n",
      "15/15 [==============================] - 0s 7ms/step - loss: 1.1191 - accuracy: 0.2667 - val_loss: 1.1014 - val_accuracy: 0.3333\n",
      "Epoch 3/50\n",
      "15/15 [==============================] - 0s 8ms/step - loss: 1.0987 - accuracy: 0.3556 - val_loss: 1.0946 - val_accuracy: 0.6000\n",
      "Epoch 4/50\n",
      "15/15 [==============================] - 0s 8ms/step - loss: 1.0981 - accuracy: 0.3111 - val_loss: 1.0957 - val_accuracy: 0.5333\n",
      "Epoch 5/50\n",
      "15/15 [==============================] - 0s 8ms/step - loss: 1.0975 - accuracy: 0.3333 - val_loss: 1.0961 - val_accuracy: 0.3333\n",
      "Epoch 6/50\n",
      "15/15 [==============================] - 0s 8ms/step - loss: 1.0965 - accuracy: 0.3333 - val_loss: 1.0984 - val_accuracy: 0.4000\n",
      "Epoch 7/50\n",
      "15/15 [==============================] - 0s 8ms/step - loss: 1.0776 - accuracy: 0.4222 - val_loss: 1.0966 - val_accuracy: 0.3333\n",
      "Epoch 8/50\n",
      "15/15 [==============================] - 0s 7ms/step - loss: 1.0241 - accuracy: 0.5333 - val_loss: 1.1044 - val_accuracy: 0.3333\n",
      "Epoch 9/50\n",
      "15/15 [==============================] - 0s 7ms/step - loss: 0.9006 - accuracy: 0.6222 - val_loss: 1.1109 - val_accuracy: 0.4000\n",
      "Epoch 10/50\n",
      "15/15 [==============================] - 0s 7ms/step - loss: 1.1685 - accuracy: 0.4444 - val_loss: 1.1842 - val_accuracy: 0.3333\n",
      "Epoch 11/50\n",
      "15/15 [==============================] - 0s 8ms/step - loss: 1.0218 - accuracy: 0.5778 - val_loss: 1.2968 - val_accuracy: 0.3333\n",
      "Epoch 12/50\n",
      "15/15 [==============================] - 0s 8ms/step - loss: 0.9196 - accuracy: 0.4889 - val_loss: 1.3869 - val_accuracy: 0.4000\n",
      "Epoch 13/50\n",
      "15/15 [==============================] - 0s 7ms/step - loss: 0.8021 - accuracy: 0.6444 - val_loss: 1.6009 - val_accuracy: 0.4000\n",
      "Epoch 14/50\n",
      "15/15 [==============================] - 0s 7ms/step - loss: 0.8027 - accuracy: 0.5556 - val_loss: 1.8343 - val_accuracy: 0.4000\n",
      "Epoch 15/50\n",
      "15/15 [==============================] - 0s 7ms/step - loss: 0.9410 - accuracy: 0.5333 - val_loss: 1.3909 - val_accuracy: 0.7333\n",
      "Epoch 16/50\n",
      "15/15 [==============================] - 0s 7ms/step - loss: 0.7005 - accuracy: 0.6889 - val_loss: 1.7850 - val_accuracy: 0.4667\n",
      "Epoch 17/50\n",
      "15/15 [==============================] - 0s 8ms/step - loss: 0.6091 - accuracy: 0.8444 - val_loss: 1.9899 - val_accuracy: 0.5333\n",
      "Epoch 18/50\n",
      "15/15 [==============================] - 0s 7ms/step - loss: 0.5945 - accuracy: 0.7556 - val_loss: 0.8403 - val_accuracy: 0.6667\n",
      "Epoch 19/50\n",
      "15/15 [==============================] - 0s 7ms/step - loss: 0.5901 - accuracy: 0.7333 - val_loss: 0.8448 - val_accuracy: 0.6667\n",
      "Epoch 20/50\n",
      "15/15 [==============================] - 0s 7ms/step - loss: 0.3608 - accuracy: 0.8222 - val_loss: 0.6709 - val_accuracy: 0.6000\n",
      "Epoch 21/50\n",
      "15/15 [==============================] - 0s 8ms/step - loss: 0.4146 - accuracy: 0.8667 - val_loss: 1.1096 - val_accuracy: 0.5333\n",
      "Epoch 22/50\n",
      "15/15 [==============================] - 0s 7ms/step - loss: 0.4140 - accuracy: 0.8444 - val_loss: 0.7899 - val_accuracy: 0.6000\n",
      "Epoch 23/50\n",
      "15/15 [==============================] - 0s 7ms/step - loss: 0.4555 - accuracy: 0.8889 - val_loss: 0.2718 - val_accuracy: 0.8000\n",
      "Epoch 24/50\n",
      "15/15 [==============================] - 0s 7ms/step - loss: 0.3871 - accuracy: 0.9333 - val_loss: 2.5786 - val_accuracy: 0.4000\n",
      "Epoch 25/50\n",
      "15/15 [==============================] - 0s 7ms/step - loss: 0.3979 - accuracy: 0.7778 - val_loss: 2.3220 - val_accuracy: 0.4667\n",
      "Epoch 26/50\n",
      "15/15 [==============================] - 0s 8ms/step - loss: 0.6423 - accuracy: 0.7333 - val_loss: 0.3252 - val_accuracy: 0.8667\n",
      "Epoch 27/50\n",
      "15/15 [==============================] - 0s 7ms/step - loss: 0.3688 - accuracy: 0.8444 - val_loss: 0.8544 - val_accuracy: 0.6667\n",
      "Epoch 28/50\n",
      "15/15 [==============================] - 0s 7ms/step - loss: 0.3200 - accuracy: 0.8889 - val_loss: 0.3912 - val_accuracy: 0.8000\n",
      "Epoch 29/50\n",
      "15/15 [==============================] - 0s 7ms/step - loss: 0.2314 - accuracy: 0.9556 - val_loss: 0.7188 - val_accuracy: 0.6667\n",
      "Epoch 30/50\n",
      "15/15 [==============================] - 0s 7ms/step - loss: 0.0999 - accuracy: 0.9778 - val_loss: 1.0496 - val_accuracy: 0.5333\n",
      "Epoch 31/50\n",
      "15/15 [==============================] - 0s 7ms/step - loss: 0.3027 - accuracy: 0.9111 - val_loss: 0.8572 - val_accuracy: 0.6667\n",
      "Epoch 32/50\n",
      "15/15 [==============================] - 0s 8ms/step - loss: 0.4507 - accuracy: 0.8222 - val_loss: 0.3372 - val_accuracy: 0.8667\n",
      "Epoch 33/50\n",
      "15/15 [==============================] - 0s 7ms/step - loss: 0.1920 - accuracy: 0.9333 - val_loss: 0.4390 - val_accuracy: 0.8000\n",
      "Epoch 34/50\n",
      "15/15 [==============================] - 0s 7ms/step - loss: 0.3378 - accuracy: 0.8444 - val_loss: 0.3134 - val_accuracy: 0.9333\n",
      "Epoch 35/50\n",
      "15/15 [==============================] - 0s 7ms/step - loss: 0.1449 - accuracy: 0.9778 - val_loss: 0.2851 - val_accuracy: 0.8667\n",
      "Epoch 36/50\n",
      "15/15 [==============================] - 0s 7ms/step - loss: 0.1589 - accuracy: 0.9556 - val_loss: 0.0316 - val_accuracy: 1.0000\n",
      "Epoch 37/50\n",
      "15/15 [==============================] - 0s 7ms/step - loss: 0.2279 - accuracy: 0.9111 - val_loss: 0.1423 - val_accuracy: 0.9333\n",
      "Epoch 38/50\n",
      "15/15 [==============================] - 0s 7ms/step - loss: 0.2380 - accuracy: 0.9556 - val_loss: 0.0554 - val_accuracy: 1.0000\n",
      "Epoch 39/50\n",
      "15/15 [==============================] - 0s 8ms/step - loss: 0.2223 - accuracy: 0.9111 - val_loss: 0.7065 - val_accuracy: 0.7333\n",
      "Epoch 40/50\n",
      "15/15 [==============================] - 0s 7ms/step - loss: 0.3182 - accuracy: 0.8222 - val_loss: 0.0281 - val_accuracy: 1.0000\n",
      "Epoch 41/50\n",
      "15/15 [==============================] - 0s 7ms/step - loss: 0.4051 - accuracy: 0.8444 - val_loss: 0.1719 - val_accuracy: 0.9333\n",
      "Epoch 42/50\n",
      "15/15 [==============================] - 0s 7ms/step - loss: 0.1800 - accuracy: 0.9556 - val_loss: 0.3644 - val_accuracy: 0.8667\n",
      "Epoch 43/50\n",
      "15/15 [==============================] - 0s 7ms/step - loss: 0.1675 - accuracy: 0.9778 - val_loss: 0.4843 - val_accuracy: 0.8000\n",
      "Epoch 44/50\n",
      "15/15 [==============================] - 0s 7ms/step - loss: 0.0616 - accuracy: 1.0000 - val_loss: 0.2795 - val_accuracy: 0.9333\n",
      "Epoch 45/50\n",
      "15/15 [==============================] - 0s 7ms/step - loss: 0.0487 - accuracy: 1.0000 - val_loss: 0.6773 - val_accuracy: 0.6667\n",
      "Epoch 46/50\n",
      "15/15 [==============================] - 0s 7ms/step - loss: 0.1875 - accuracy: 0.9111 - val_loss: 0.0066 - val_accuracy: 1.0000\n",
      "Epoch 47/50\n",
      "15/15 [==============================] - 0s 7ms/step - loss: 0.1503 - accuracy: 0.9778 - val_loss: 0.0539 - val_accuracy: 1.0000\n",
      "Epoch 48/50\n",
      "15/15 [==============================] - 0s 7ms/step - loss: 0.1366 - accuracy: 0.9333 - val_loss: 0.4134 - val_accuracy: 0.8000\n",
      "Epoch 49/50\n",
      "15/15 [==============================] - 0s 7ms/step - loss: 0.2725 - accuracy: 0.8889 - val_loss: 0.6610 - val_accuracy: 0.6667\n",
      "Epoch 50/50\n",
      "15/15 [==============================] - 0s 7ms/step - loss: 0.0881 - accuracy: 0.9778 - val_loss: 0.4607 - val_accuracy: 0.7333\n"
     ]
    },
    {
     "data": {
      "text/plain": [
       "<tensorflow.python.keras.callbacks.History at 0x14316268c40>"
      ]
     },
     "execution_count": 20,
     "metadata": {},
     "output_type": "execute_result"
    }
   ],
   "source": [
    "# ▶ 3. 모델 - 학습과정 설정\n",
    "model.compile(loss = 'categorical_crossentropy', optimizer = 'adam', metrics = ['accuracy'])\n",
    "\n",
    "\n",
    "# ▶ 4. 모델 - 컴퓨터 학습시키기\n",
    "model.fit_generator(train_data, steps_per_epoch = 15, epochs = 50, \n",
    "                    validation_data = test_data, validation_steps = 5) # batch_size 대신 validation_steps"
   ]
  },
  {
   "cell_type": "code",
   "execution_count": 21,
   "id": "6bd4ffb0",
   "metadata": {},
   "outputs": [
    {
     "name": "stdout",
     "output_type": "stream",
     "text": [
      "Loss : 46.07 %\n",
      "Accuracy : 73.33 %\n"
     ]
    },
    {
     "name": "stderr",
     "output_type": "stream",
     "text": [
      "C:\\Users\\tjoeun\\anaconda3\\lib\\site-packages\\tensorflow\\python\\keras\\engine\\training.py:1973: UserWarning: `Model.evaluate_generator` is deprecated and will be removed in a future version. Please use `Model.evaluate`, which supports generators.\n",
      "  warnings.warn('`Model.evaluate_generator` is deprecated and '\n"
     ]
    }
   ],
   "source": [
    "# ▶ 5. 모델 평가\n",
    "# test_data 자체에 이미 x, y가 다 있기 때문에 generator 사용\n",
    "score = model.evaluate_generator(test_data, steps = 5)\n",
    "\n",
    "print('Loss :', round(score[0]*100, 2), '%')\n",
    "print('Accuracy :', round(score[1]*100, 2), '%')"
   ]
  }
 ],
 "metadata": {
  "kernelspec": {
   "display_name": "Python 3",
   "language": "python",
   "name": "python3"
  },
  "language_info": {
   "codemirror_mode": {
    "name": "ipython",
    "version": 3
   },
   "file_extension": ".py",
   "mimetype": "text/x-python",
   "name": "python",
   "nbconvert_exporter": "python",
   "pygments_lexer": "ipython3",
   "version": "3.8.8"
  },
  "toc": {
   "base_numbering": 1,
   "nav_menu": {},
   "number_sections": false,
   "sideBar": true,
   "skip_h1_title": false,
   "title_cell": "Table of Contents",
   "title_sidebar": "Contents",
   "toc_cell": false,
   "toc_position": {
    "height": "calc(100% - 180px)",
    "left": "10px",
    "top": "150px",
    "width": "248px"
   },
   "toc_section_display": true,
   "toc_window_display": true
  },
  "varInspector": {
   "cols": {
    "lenName": 16,
    "lenType": 16,
    "lenVar": 40
   },
   "kernels_config": {
    "python": {
     "delete_cmd_postfix": "",
     "delete_cmd_prefix": "del ",
     "library": "var_list.py",
     "varRefreshCmd": "print(var_dic_list())"
    },
    "r": {
     "delete_cmd_postfix": ") ",
     "delete_cmd_prefix": "rm(",
     "library": "var_list.r",
     "varRefreshCmd": "cat(var_dic_list()) "
    }
   },
   "position": {
    "height": "426px",
    "left": "1550px",
    "right": "20px",
    "top": "120px",
    "width": "350px"
   },
   "types_to_exclude": [
    "module",
    "function",
    "builtin_function_or_method",
    "instance",
    "_Feature"
   ],
   "window_display": true
  }
 },
 "nbformat": 4,
 "nbformat_minor": 5
}
