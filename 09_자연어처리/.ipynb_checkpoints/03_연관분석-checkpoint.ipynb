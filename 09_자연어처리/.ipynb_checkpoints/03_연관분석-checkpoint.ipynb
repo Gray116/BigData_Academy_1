{
 "cells": [
  {
   "cell_type": "code",
   "execution_count": 1,
   "id": "608a2d68",
   "metadata": {},
   "outputs": [
    {
     "data": {
      "text/html": [
       "\n",
       "<style>\n",
       "div.Container {width:85% !important;}\n",
       "div.CodeMirror {font-family:NanumGothic; font-size:13pt; line-height : 150%;}\n",
       "div.output_area pre {font-family:NanumGothic; font-size:13pt; line-height : 150%;}\n",
       "div.output_wrapper pre {font-family:NanumGothic; font-size:13pt; line-height : 150%;}\n",
       "div.input {font-family:NanumGothic; font-size:13pt; line-height : 150%;}\n",
       "</style>\n"
      ],
      "text/plain": [
       "<IPython.core.display.HTML object>"
      ]
     },
     "metadata": {},
     "output_type": "display_data"
    }
   ],
   "source": [
    "from IPython.display import display, HTML\n",
    "display(HTML(\"\"\"\n",
    "<style>\n",
    "div.Container {width:85% !important;}\n",
    "div.CodeMirror {font-family:NanumGothic; font-size:13pt; line-height : 150%;}\n",
    "div.output_area pre {font-family:NanumGothic; font-size:13pt; line-height : 150%;}\n",
    "div.output_wrapper pre {font-family:NanumGothic; font-size:13pt; line-height : 150%;}\n",
    "div.input {font-family:NanumGothic; font-size:13pt; line-height : 150%;}\n",
    "</style>\n",
    "\"\"\"))"
   ]
  },
  {
   "cell_type": "markdown",
   "id": "f89eca25",
   "metadata": {},
   "source": [
    "<b><font color = \"red\" size = \"6\">ch03. 연관분석</font></b>"
   ]
  },
  {
   "cell_type": "markdown",
   "id": "4668eeaa",
   "metadata": {},
   "source": [
    "# 1절. 연관분석 개요\n",
    "- 데이터들 사이에서 자주 발생하는 속성을 찾고, 연관성이 있는지를 분석하는 방법\n",
    "- 활용 분야 : 상품진열, 사기보험 적발, 카탈로그 디자인, 신상품 카테고리\n",
    "```\n",
    "    ▶ {조건} → {결과}\n",
    "        ex) {소주, 콜라} → {와인} : 소주와 콜라를 사면 와인을 산다.\n",
    "        ex) {와인} → {소주, 콜라} : 와인을 사면 소주와 콜라를 산다.\n",
    "    \n",
    "     위의 예시는 연관분석에서는 서로 다른 의미를 가진다. 이렇게 도출된 연관성 규칙들은 지지도, 향상도, 신뢰도를 통해\n",
    "    얼마나 의미있는 규칙인지 평가한다.\n",
    "    \n",
    "    ▶ 연관분석 관련지표\n",
    "        ① 지지도(support) - 조건결과항목 수 / 전체 수\n",
    "            - 전체 거래 중 연관성 규칙을 구성하는 항목들이 포함된 거래의 비율\n",
    "        ② 신뢰도 (confidence) - 조건결과항목 수 / 조건항목 수\n",
    "            - 조건이 발생했을 때, 결과가 동시에 일어날 확률\n",
    "        ③ 향상도 (lift) - 조건결과지지도 / ( (조건지지도) * (결과지지도) )\n",
    "            - 우연히 발생한 규칙인지 아닌지 여부\n",
    "            1 : 조건과 결과는 우연한 관게일 뿐 연관성 전혀 없음\n",
    "            >1 (양의 상관관계) : 의미있는 연관성을 가진 규칙으로 해석\n",
    "            <1 (음의 상관관계)\n",
    "        \n",
    "    ▶ ex) {조건} → {결과}     지지도     신뢰도         향상도                               추론\n",
    "           {주스} → {콜라}     2 / 5      2 / 2     0.4 / ( 0.4 * 1 ) = 1            연관성이 있다고 보지 않는다.\n",
    "           {소주} → {맥주}     1 / 5      1 / 3     0.2 / ( 0.6 * 0.4 ) = 0.8333     약간의 연관성이 있다고 본다.\n",
    "```"
   ]
  },
  {
   "cell_type": "code",
   "execution_count": 2,
   "id": "47504ca2",
   "metadata": {},
   "outputs": [
    {
     "data": {
      "text/plain": [
       "'D:\\\\Gray_Bigdata\\\\src\\\\09_자연어처리'"
      ]
     },
     "execution_count": 2,
     "metadata": {},
     "output_type": "execute_result"
    }
   ],
   "source": [
    "import os\n",
    "os.getcwd()"
   ]
  },
  {
   "cell_type": "code",
   "execution_count": 3,
   "id": "2bdc58af",
   "metadata": {},
   "outputs": [
    {
     "name": "stdout",
     "output_type": "stream",
     "text": [
      " D 드라이브의 볼륨: 학생방\n",
      " 볼륨 일련 번호: CA5B-F897\n",
      "\n",
      " D:\\Gray_Bigdata\\src\\09_자연어처리 디렉터리\n",
      "\n",
      "2021-08-19  오후 05:50               115 cf_basket.csv\n",
      "               1개 파일                 115 바이트\n",
      "               0개 디렉터리  197,241,745,408 바이트 남음\n"
     ]
    }
   ],
   "source": [
    "%ls cf_basket.csv"
   ]
  },
  {
   "cell_type": "code",
   "execution_count": 4,
   "id": "e8601c57",
   "metadata": {},
   "outputs": [
    {
     "data": {
      "text/plain": [
       "[['소주', '콜라', '와인'],\n",
       " ['소주', '오렌지주스', '콜라'],\n",
       " ['콜라', '맥주', '와인'],\n",
       " ['소주', '콜라', '맥주'],\n",
       " ['오렌지주스', '와인']]"
      ]
     },
     "execution_count": 4,
     "metadata": {},
     "output_type": "execute_result"
    }
   ],
   "source": [
    "# 트랜잭션 데이터 가져오기\n",
    "import csv\n",
    "transaction = []\n",
    "with open('cf_basket.csv', 'r', encoding = 'UTF8') as f:\n",
    "    csvData = csv.reader(f)\n",
    "    transaction = list(csvData)\n",
    "#      = transaction.append(row)\n",
    "transaction"
   ]
  },
  {
   "cell_type": "markdown",
   "id": "8d4c20c5",
   "metadata": {},
   "source": [
    "# 2. 연관분석\n",
    "- pip install apyori"
   ]
  },
  {
   "cell_type": "markdown",
   "id": "dfdb6090",
   "metadata": {},
   "source": [
    "## 2.1 연관성 규칙 생성"
   ]
  },
  {
   "cell_type": "code",
   "execution_count": 5,
   "id": "bded1fec",
   "metadata": {},
   "outputs": [
    {
     "data": {
      "text/plain": [
       "18"
      ]
     },
     "execution_count": 5,
     "metadata": {},
     "output_type": "execute_result"
    }
   ],
   "source": [
    "from apyori import apriori\n",
    "rules = apriori(transaction, \n",
    "                min_support = 0.2,\n",
    "                min_confidence = 0.1)\n",
    "rules = list(rules)\n",
    "\n",
    "len(rules) # 규칙의 개수"
   ]
  },
  {
   "cell_type": "code",
   "execution_count": 6,
   "id": "f253b0e1",
   "metadata": {},
   "outputs": [
    {
     "data": {
      "text/plain": [
       "[frozenset({'오렌지주스'}),\n",
       " 0.4,\n",
       " [OrderedStatistic(items_base=frozenset(), items_add=frozenset({'오렌지주스'}), confidence=0.4, lift=1.0)]]"
      ]
     },
     "execution_count": 6,
     "metadata": {},
     "output_type": "execute_result"
    }
   ],
   "source": [
    "list(rules[2])"
   ]
  },
  {
   "cell_type": "code",
   "execution_count": 7,
   "id": "faeec37c",
   "metadata": {},
   "outputs": [
    {
     "name": "stdout",
     "output_type": "stream",
     "text": [
      "조건 → 결과\t지지  신뢰  향상\n",
      "맥주 → 콜라\t0.4\t1.0\t1.2\n",
      "콜라 → 맥주\t0.4\t0.5\t1.2\n",
      "소주 → 콜라\t0.6\t1.0\t1.2\n",
      "콜라 → 소주\t0.6\t0.7\t1.2\n",
      "콜라 → 맥주,소주\t0.2\t0.2\t1.2\n",
      "맥주,소주 → 콜라\t0.2\t1.0\t1.2\n",
      "맥주 → 콜라,와인\t0.2\t0.5\t1.2\n",
      "콜라 → 맥주,와인\t0.2\t0.2\t1.2\n",
      "맥주,와인 → 콜라\t0.2\t1.0\t1.2\n",
      "콜라,와인 → 맥주\t0.2\t0.5\t1.2\n",
      "소주 → 콜라,오렌지주스\t0.2\t0.3\t1.7\n",
      "콜라 → 소주,오렌지주스\t0.2\t0.2\t1.2\n",
      "소주,오렌지주스 → 콜라\t0.2\t1.0\t1.2\n",
      "콜라,오렌지주스 → 소주\t0.2\t1.0\t1.7\n",
      "콜라 → 와인,소주\t0.2\t0.2\t1.2\n",
      "와인,소주 → 콜라\t0.2\t1.0\t1.2\n"
     ]
    }
   ],
   "source": [
    "print('조건 → 결과\\t지지  신뢰  향상')\n",
    "for row in rules:\n",
    "    support = row[1]\n",
    "    orderedSt = row[2]\n",
    "    for item in orderedSt:\n",
    "        lhs = [ x for x in item[0] ]\n",
    "        lhs = ','.join([ x for x in item[0] ])\n",
    "        \n",
    "        rhs = [ x for x in item[1] ]\n",
    "        rhs = ','.join([ x for x in item[1] ])\n",
    "        \n",
    "        confidence = item[2]\n",
    "        lift               = item[3]\n",
    "        \n",
    "        if lift > 1:\n",
    "            print(\"{} → {}\\t{}\\t{}\\t{}\".format(lhs, rhs, round(support, 1), round(confidence, 1), round(lift, 1)))"
   ]
  },
  {
   "cell_type": "code",
   "execution_count": 8,
   "id": "f809291e",
   "metadata": {},
   "outputs": [
    {
     "data": {
      "text/html": [
       "<div>\n",
       "<style scoped>\n",
       "    .dataframe tbody tr th:only-of-type {\n",
       "        vertical-align: middle;\n",
       "    }\n",
       "\n",
       "    .dataframe tbody tr th {\n",
       "        vertical-align: top;\n",
       "    }\n",
       "\n",
       "    .dataframe thead th {\n",
       "        text-align: right;\n",
       "    }\n",
       "</style>\n",
       "<table border=\"1\" class=\"dataframe\">\n",
       "  <thead>\n",
       "    <tr style=\"text-align: right;\">\n",
       "      <th></th>\n",
       "      <th>lhs</th>\n",
       "      <th>rhs</th>\n",
       "      <th>support</th>\n",
       "      <th>confidence</th>\n",
       "      <th>lift</th>\n",
       "    </tr>\n",
       "  </thead>\n",
       "  <tbody>\n",
       "    <tr>\n",
       "      <th>4</th>\n",
       "      <td>콜라</td>\n",
       "      <td>맥주,소주</td>\n",
       "      <td>0.2</td>\n",
       "      <td>0.25</td>\n",
       "      <td>1.25</td>\n",
       "    </tr>\n",
       "    <tr>\n",
       "      <th>7</th>\n",
       "      <td>콜라</td>\n",
       "      <td>맥주,와인</td>\n",
       "      <td>0.2</td>\n",
       "      <td>0.25</td>\n",
       "      <td>1.25</td>\n",
       "    </tr>\n",
       "    <tr>\n",
       "      <th>11</th>\n",
       "      <td>콜라</td>\n",
       "      <td>소주,오렌지주스</td>\n",
       "      <td>0.2</td>\n",
       "      <td>0.25</td>\n",
       "      <td>1.25</td>\n",
       "    </tr>\n",
       "    <tr>\n",
       "      <th>14</th>\n",
       "      <td>콜라</td>\n",
       "      <td>와인,소주</td>\n",
       "      <td>0.2</td>\n",
       "      <td>0.25</td>\n",
       "      <td>1.25</td>\n",
       "    </tr>\n",
       "    <tr>\n",
       "      <th>10</th>\n",
       "      <td>소주</td>\n",
       "      <td>콜라,오렌지주스</td>\n",
       "      <td>0.2</td>\n",
       "      <td>0.33</td>\n",
       "      <td>1.67</td>\n",
       "    </tr>\n",
       "    <tr>\n",
       "      <th>1</th>\n",
       "      <td>콜라</td>\n",
       "      <td>맥주</td>\n",
       "      <td>0.4</td>\n",
       "      <td>0.50</td>\n",
       "      <td>1.25</td>\n",
       "    </tr>\n",
       "    <tr>\n",
       "      <th>6</th>\n",
       "      <td>맥주</td>\n",
       "      <td>콜라,와인</td>\n",
       "      <td>0.2</td>\n",
       "      <td>0.50</td>\n",
       "      <td>1.25</td>\n",
       "    </tr>\n",
       "    <tr>\n",
       "      <th>9</th>\n",
       "      <td>콜라,와인</td>\n",
       "      <td>맥주</td>\n",
       "      <td>0.2</td>\n",
       "      <td>0.50</td>\n",
       "      <td>1.25</td>\n",
       "    </tr>\n",
       "    <tr>\n",
       "      <th>3</th>\n",
       "      <td>콜라</td>\n",
       "      <td>소주</td>\n",
       "      <td>0.6</td>\n",
       "      <td>0.75</td>\n",
       "      <td>1.25</td>\n",
       "    </tr>\n",
       "    <tr>\n",
       "      <th>0</th>\n",
       "      <td>맥주</td>\n",
       "      <td>콜라</td>\n",
       "      <td>0.4</td>\n",
       "      <td>1.00</td>\n",
       "      <td>1.25</td>\n",
       "    </tr>\n",
       "    <tr>\n",
       "      <th>2</th>\n",
       "      <td>소주</td>\n",
       "      <td>콜라</td>\n",
       "      <td>0.6</td>\n",
       "      <td>1.00</td>\n",
       "      <td>1.25</td>\n",
       "    </tr>\n",
       "    <tr>\n",
       "      <th>5</th>\n",
       "      <td>맥주,소주</td>\n",
       "      <td>콜라</td>\n",
       "      <td>0.2</td>\n",
       "      <td>1.00</td>\n",
       "      <td>1.25</td>\n",
       "    </tr>\n",
       "    <tr>\n",
       "      <th>8</th>\n",
       "      <td>맥주,와인</td>\n",
       "      <td>콜라</td>\n",
       "      <td>0.2</td>\n",
       "      <td>1.00</td>\n",
       "      <td>1.25</td>\n",
       "    </tr>\n",
       "    <tr>\n",
       "      <th>12</th>\n",
       "      <td>소주,오렌지주스</td>\n",
       "      <td>콜라</td>\n",
       "      <td>0.2</td>\n",
       "      <td>1.00</td>\n",
       "      <td>1.25</td>\n",
       "    </tr>\n",
       "    <tr>\n",
       "      <th>13</th>\n",
       "      <td>콜라,오렌지주스</td>\n",
       "      <td>소주</td>\n",
       "      <td>0.2</td>\n",
       "      <td>1.00</td>\n",
       "      <td>1.67</td>\n",
       "    </tr>\n",
       "    <tr>\n",
       "      <th>15</th>\n",
       "      <td>와인,소주</td>\n",
       "      <td>콜라</td>\n",
       "      <td>0.2</td>\n",
       "      <td>1.00</td>\n",
       "      <td>1.25</td>\n",
       "    </tr>\n",
       "  </tbody>\n",
       "</table>\n",
       "</div>"
      ],
      "text/plain": [
       "         lhs       rhs  support  confidence  lift\n",
       "4         콜라     맥주,소주      0.2        0.25  1.25\n",
       "7         콜라     맥주,와인      0.2        0.25  1.25\n",
       "11        콜라  소주,오렌지주스      0.2        0.25  1.25\n",
       "14        콜라     와인,소주      0.2        0.25  1.25\n",
       "10        소주  콜라,오렌지주스      0.2        0.33  1.67\n",
       "1         콜라        맥주      0.4        0.50  1.25\n",
       "6         맥주     콜라,와인      0.2        0.50  1.25\n",
       "9      콜라,와인        맥주      0.2        0.50  1.25\n",
       "3         콜라        소주      0.6        0.75  1.25\n",
       "0         맥주        콜라      0.4        1.00  1.25\n",
       "2         소주        콜라      0.6        1.00  1.25\n",
       "5      맥주,소주        콜라      0.2        1.00  1.25\n",
       "8      맥주,와인        콜라      0.2        1.00  1.25\n",
       "12  소주,오렌지주스        콜라      0.2        1.00  1.25\n",
       "13  콜라,오렌지주스        소주      0.2        1.00  1.67\n",
       "15     와인,소주        콜라      0.2        1.00  1.25"
      ]
     },
     "execution_count": 8,
     "metadata": {},
     "output_type": "execute_result"
    }
   ],
   "source": [
    "# 데이터 프레임으로 바꾸기\n",
    "import pandas as pd\n",
    "result_df = pd.DataFrame(None, columns = ['lhs', 'rhs', 'support', 'confidence', 'lift'])\n",
    "index = 0\n",
    "\n",
    "for row in rules:\n",
    "    support = row[1]\n",
    "    orderedSt = row[2]\n",
    "    for item in orderedSt:\n",
    "        lhs               = ','.join([ x for x in item[0] ])\n",
    "        rhs              =  ','.join([ x for x in item[1] ])\n",
    "        confidence = item[2]\n",
    "        lift               = item[3]\n",
    "        if lift > 1:\n",
    "            result_df.loc[index] = [lhs, rhs, support, round(confidence, 2), round(lift, 2)]\n",
    "            index += 1\n",
    "            \n",
    "result_df.sort_values(by = 'confidence')"
   ]
  },
  {
   "cell_type": "markdown",
   "id": "af786187",
   "metadata": {},
   "source": [
    "# 3절. 뉴스기사 연관분석"
   ]
  },
  {
   "cell_type": "markdown",
   "id": "ac0ad443",
   "metadata": {},
   "source": [
    "## 3.1 뉴스 RSS를 이용해서 기사 검색 후 연관분석"
   ]
  },
  {
   "cell_type": "code",
   "execution_count": 9,
   "id": "3aa2f8be",
   "metadata": {},
   "outputs": [],
   "source": [
    "import requests\n",
    "from urllib.request import urlopen\n",
    "from bs4 import BeautifulSoup"
   ]
  },
  {
   "cell_type": "code",
   "execution_count": 12,
   "id": "46619e95",
   "metadata": {},
   "outputs": [
    {
     "data": {
      "text/plain": [
       "[<link>https://news.joins.com/article/24132068?cloc=rss-news-economy</link>,\n",
       " <link>https://news.joins.com/article/24132026?cloc=rss-news-economy</link>]"
      ]
     },
     "execution_count": 12,
     "metadata": {},
     "output_type": "execute_result"
    }
   ],
   "source": [
    "# url로부터 링크만 가져오기\n",
    "rss_url = 'https://rss.joins.com/joins_money_list.xml'\n",
    "money_response = urlopen(rss_url)\n",
    "\n",
    "money_soup = BeautifulSoup(money_response, 'xml')\n",
    "link_list = money_soup.select(' item > link ')\n",
    "\n",
    "# link_list = [ link.text for link in link_list ]\n",
    "link_list[ : 2]"
   ]
  },
  {
   "cell_type": "code",
   "execution_count": 20,
   "id": "e9e0d5e3",
   "metadata": {},
   "outputs": [
    {
     "name": "stdout",
     "output_type": "stream",
     "text": [
      "0 번 째 완료\t1 번 째 완료\t2 번 째 완료\t3 번 째 완료\t4 번 째 완료\t5 번 째 완료\t6 번 째 완료\t7 번 째 완료\t8 번 째 완료\t9 번 째 완료\t10 번 째 완료\t11 번 째 완료\t12 번 째 완료\t13 번 째 완료\t14 번 째 완료\t15 번 째 완료\t16 번 째 완료\t17 번 째 완료\t18 번 째 완료\t19 번 째 완료\t20 번 째 완료\t21 번 째 완료\t22 번 째 완료\t23 번 째 완료\t24 번 째 완료\t25 번 째 완료\t26 번 째 완료\t27 번 째 완료\t28 번 째 완료\t29 번 째 완료\t"
     ]
    }
   ],
   "source": [
    "# link로 기사검색 후 명사만 추출해서 리스트에 담기\n",
    "from konlpy.tag import Kkma\n",
    "kkma = Kkma()\n",
    "news = []\n",
    "idx = 0\n",
    "\n",
    "for link in link_list:\n",
    "    news_response = requests.get(link.text)\n",
    "    news_soup = BeautifulSoup(news_response.content, 'html.parser')\n",
    "    elementTitle = news_soup.select_one(' h1.headline.mg ')\n",
    "    \n",
    "    if elementTitle:\n",
    "        news_title = elementTitle.text\n",
    "    else:\n",
    "        news_title = ''\n",
    "    \n",
    "    news_article = news_soup.select_one(' div#article_body ').text\n",
    "    news_content = news_title + news_article\n",
    "    \n",
    "    noun_list = list( filter( lambda word : len(word) > 1 & (word != '기자'), kkma.nouns(news_content) ) )\n",
    "    news.append(noun_list)\n",
    "    print(idx, '번 째 완료', end = '\\t')\n",
    "    idx += 1"
   ]
  },
  {
   "cell_type": "code",
   "execution_count": 21,
   "id": "651878f2",
   "metadata": {},
   "outputs": [
    {
     "name": "stdout",
     "output_type": "stream",
     "text": [
      "[92, 155, 271, 196, 191, 263, 252, 173, 247, 341, 224, 369, 128, 226, 262, 54, 161, 164, 39, 35, 216, 33, 38, 37, 45, 247, 159, 152, 237, 197]\n"
     ]
    }
   ],
   "source": [
    "print( [ len(n) for n in news ] )"
   ]
  },
  {
   "cell_type": "code",
   "execution_count": null,
   "id": "a92347a1",
   "metadata": {},
   "outputs": [],
   "source": [
    "# 얻어진 list로 연관분석"
   ]
  },
  {
   "cell_type": "code",
   "execution_count": null,
   "id": "5bd4262a",
   "metadata": {},
   "outputs": [],
   "source": []
  },
  {
   "cell_type": "code",
   "execution_count": null,
   "id": "3ef8b499",
   "metadata": {},
   "outputs": [],
   "source": []
  },
  {
   "cell_type": "code",
   "execution_count": null,
   "id": "5a093d0e",
   "metadata": {},
   "outputs": [],
   "source": []
  },
  {
   "cell_type": "code",
   "execution_count": null,
   "id": "27d99917",
   "metadata": {},
   "outputs": [],
   "source": []
  },
  {
   "cell_type": "code",
   "execution_count": null,
   "id": "183e44cf",
   "metadata": {},
   "outputs": [],
   "source": []
  },
  {
   "cell_type": "code",
   "execution_count": null,
   "id": "d01628bd",
   "metadata": {},
   "outputs": [],
   "source": []
  },
  {
   "cell_type": "code",
   "execution_count": null,
   "id": "9ced19b6",
   "metadata": {},
   "outputs": [],
   "source": []
  },
  {
   "cell_type": "code",
   "execution_count": null,
   "id": "550d5512",
   "metadata": {},
   "outputs": [],
   "source": []
  },
  {
   "cell_type": "code",
   "execution_count": null,
   "id": "b3511f15",
   "metadata": {},
   "outputs": [],
   "source": []
  },
  {
   "cell_type": "code",
   "execution_count": null,
   "id": "d5f9d167",
   "metadata": {},
   "outputs": [],
   "source": []
  },
  {
   "cell_type": "code",
   "execution_count": null,
   "id": "867cda53",
   "metadata": {},
   "outputs": [],
   "source": []
  },
  {
   "cell_type": "code",
   "execution_count": null,
   "id": "627c73ab",
   "metadata": {},
   "outputs": [],
   "source": []
  },
  {
   "cell_type": "code",
   "execution_count": null,
   "id": "c4981a05",
   "metadata": {},
   "outputs": [],
   "source": []
  },
  {
   "cell_type": "code",
   "execution_count": null,
   "id": "095be8e7",
   "metadata": {},
   "outputs": [],
   "source": []
  },
  {
   "cell_type": "code",
   "execution_count": null,
   "id": "236ee167",
   "metadata": {},
   "outputs": [],
   "source": []
  },
  {
   "cell_type": "code",
   "execution_count": null,
   "id": "bf8798ab",
   "metadata": {},
   "outputs": [],
   "source": []
  },
  {
   "cell_type": "code",
   "execution_count": null,
   "id": "80c53393",
   "metadata": {},
   "outputs": [],
   "source": []
  }
 ],
 "metadata": {
  "kernelspec": {
   "display_name": "Python 3",
   "language": "python",
   "name": "python3"
  },
  "language_info": {
   "codemirror_mode": {
    "name": "ipython",
    "version": 3
   },
   "file_extension": ".py",
   "mimetype": "text/x-python",
   "name": "python",
   "nbconvert_exporter": "python",
   "pygments_lexer": "ipython3",
   "version": "3.8.8"
  },
  "toc": {
   "base_numbering": 1,
   "nav_menu": {},
   "number_sections": false,
   "sideBar": true,
   "skip_h1_title": false,
   "title_cell": "Table of Contents",
   "title_sidebar": "Contents",
   "toc_cell": false,
   "toc_position": {
    "height": "calc(100% - 180px)",
    "left": "10px",
    "top": "150px",
    "width": "245px"
   },
   "toc_section_display": true,
   "toc_window_display": true
  },
  "varInspector": {
   "cols": {
    "lenName": 16,
    "lenType": 16,
    "lenVar": 40
   },
   "kernels_config": {
    "python": {
     "delete_cmd_postfix": "",
     "delete_cmd_prefix": "del ",
     "library": "var_list.py",
     "varRefreshCmd": "print(var_dic_list())"
    },
    "r": {
     "delete_cmd_postfix": ") ",
     "delete_cmd_prefix": "rm(",
     "library": "var_list.r",
     "varRefreshCmd": "cat(var_dic_list()) "
    }
   },
   "position": {
    "height": "362px",
    "left": "1550px",
    "right": "20px",
    "top": "120px",
    "width": "350px"
   },
   "types_to_exclude": [
    "module",
    "function",
    "builtin_function_or_method",
    "instance",
    "_Feature"
   ],
   "window_display": true
  }
 },
 "nbformat": 4,
 "nbformat_minor": 5
}
