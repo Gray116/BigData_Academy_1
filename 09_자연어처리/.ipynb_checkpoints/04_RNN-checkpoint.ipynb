{
 "cells": [
  {
   "cell_type": "code",
   "execution_count": 1,
   "id": "608a2d68",
   "metadata": {},
   "outputs": [
    {
     "data": {
      "text/html": [
       "\n",
       "<style>\n",
       "div.Container {width:85% !important;}\n",
       "div.CodeMirror {font-family:NanumGothic; font-size:13pt; line-height : 150%;}\n",
       "div.output_area pre {font-family:NanumGothic; font-size:13pt; line-height : 150%;}\n",
       "div.output_wrapper pre {font-family:NanumGothic; font-size:13pt; line-height : 150%;}\n",
       "div.input {font-family:NanumGothic; font-size:13pt; line-height : 150%;}\n",
       "</style>\n"
      ],
      "text/plain": [
       "<IPython.core.display.HTML object>"
      ]
     },
     "metadata": {},
     "output_type": "display_data"
    }
   ],
   "source": [
    "from IPython.display import display, HTML\n",
    "display(HTML(\"\"\"\n",
    "<style>\n",
    "div.Container {width:85% !important;}\n",
    "div.CodeMirror {font-family:NanumGothic; font-size:13pt; line-height : 150%;}\n",
    "div.output_area pre {font-family:NanumGothic; font-size:13pt; line-height : 150%;}\n",
    "div.output_wrapper pre {font-family:NanumGothic; font-size:13pt; line-height : 150%;}\n",
    "div.input {font-family:NanumGothic; font-size:13pt; line-height : 150%;}\n",
    "</style>\n",
    "\"\"\"))"
   ]
  },
  {
   "cell_type": "markdown",
   "id": "f89eca25",
   "metadata": {},
   "source": [
    "<b><font color = \"red\" size = \"6\">ch04. RNN(순환신경망)</font></b><br>\n",
    "<font size = \"3\">Recurrent Neural Network</font>"
   ]
  },
  {
   "cell_type": "markdown",
   "id": "9acb3deb",
   "metadata": {},
   "source": [
    "# 1절. 문맥을 이용하여 모델만들기"
   ]
  },
  {
   "cell_type": "code",
   "execution_count": 2,
   "id": "37ff6682",
   "metadata": {},
   "outputs": [],
   "source": [
    "text = '''경마장에 있는 말이 뛰고 있다\n",
    "그의 말이 법이다\n",
    "가는 말이 고와야 오는 말이 곱다\n",
    "'''"
   ]
  },
  {
   "cell_type": "code",
   "execution_count": 27,
   "id": "7dc3dec3",
   "metadata": {},
   "outputs": [
    {
     "name": "stdout",
     "output_type": "stream",
     "text": [
      "[2, 3, 1, 4, 5, 6, 1, 7, 8, 1, 9, 10, 1, 11]\n",
      "{'말이': 1, '경마장에': 2, '있는': 3, '뛰고': 4, '있다': 5, '그의': 6, '법이다': 7, '가는': 8, '고와야': 9, '오는': 10, '곱다': 11}\n"
     ]
    }
   ],
   "source": [
    "from keras_preprocessing.text import Tokenizer\n",
    "t = Tokenizer()\n",
    "t.fit_on_texts([text])\n",
    "encoded = t.texts_to_sequences([text])[0]\n",
    "\n",
    "print(encoded)\n",
    "print(t.word_index)"
   ]
  },
  {
   "cell_type": "code",
   "execution_count": 4,
   "id": "9c57c090",
   "metadata": {
    "scrolled": true
   },
   "outputs": [
    {
     "data": {
      "text/plain": [
       "[2, 1, 5]"
      ]
     },
     "execution_count": 4,
     "metadata": {},
     "output_type": "execute_result"
    }
   ],
   "source": [
    "t.texts_to_sequences(['경마장에 말이 있다'])[0]"
   ]
  },
  {
   "cell_type": "code",
   "execution_count": 5,
   "id": "13dd3ae1",
   "metadata": {},
   "outputs": [],
   "source": [
    "text = '''경마장에 있는 말이 뛰고 있다\n",
    "그의 말이 법이다\n",
    "가는 말이 고와야 오는 말이 곱다'''"
   ]
  },
  {
   "cell_type": "code",
   "execution_count": 6,
   "id": "efd0e459",
   "metadata": {},
   "outputs": [
    {
     "name": "stdout",
     "output_type": "stream",
     "text": [
      "원래 문장 : 경마장에 있는 말이 뛰고 있다\n",
      "인코딩된 문장 : [2, 3, 1, 4, 5]\n",
      "\n",
      "원래 문장 : 그의 말이 법이다\n",
      "인코딩된 문장 : [6, 1, 7]\n",
      "\n",
      "원래 문장 : 가는 말이 고와야 오는 말이 곱다\n",
      "인코딩된 문장 : [8, 1, 9, 10, 1, 11]\n",
      "\n",
      "시퀀스와 해석\n",
      "[2 : 경마장에 3 : 있는 ]\n",
      "[2 : 경마장에 3 : 있는 1 : 말이 ]\n",
      "[2 : 경마장에 3 : 있는 1 : 말이 4 : 뛰고 ]\n",
      "[2 : 경마장에 3 : 있는 1 : 말이 4 : 뛰고 5 : 있다 ]\n",
      "[3 : 있는 1 : 말이 ]\n",
      "[3 : 있는 1 : 말이 4 : 뛰고 ]\n",
      "[3 : 있는 1 : 말이 4 : 뛰고 5 : 있다 ]\n",
      "[1 : 말이 4 : 뛰고 ]\n",
      "[1 : 말이 4 : 뛰고 5 : 있다 ]\n",
      "[4 : 뛰고 5 : 있다 ]\n",
      "[6 : 그의 1 : 말이 ]\n",
      "[6 : 그의 1 : 말이 7 : 법이다 ]\n",
      "[1 : 말이 7 : 법이다 ]\n",
      "[8 : 가는 1 : 말이 ]\n",
      "[8 : 가는 1 : 말이 9 : 고와야 ]\n",
      "[8 : 가는 1 : 말이 9 : 고와야 10 : 오는 ]\n",
      "[8 : 가는 1 : 말이 9 : 고와야 10 : 오는 1 : 말이 ]\n",
      "[8 : 가는 1 : 말이 9 : 고와야 10 : 오는 1 : 말이 11 : 곱다 ]\n",
      "[1 : 말이 9 : 고와야 ]\n",
      "[1 : 말이 9 : 고와야 10 : 오는 ]\n",
      "[1 : 말이 9 : 고와야 10 : 오는 1 : 말이 ]\n",
      "[1 : 말이 9 : 고와야 10 : 오는 1 : 말이 11 : 곱다 ]\n",
      "[9 : 고와야 10 : 오는 ]\n",
      "[9 : 고와야 10 : 오는 1 : 말이 ]\n",
      "[9 : 고와야 10 : 오는 1 : 말이 11 : 곱다 ]\n",
      "[10 : 오는 1 : 말이 ]\n",
      "[10 : 오는 1 : 말이 11 : 곱다 ]\n",
      "[1 : 말이 11 : 곱다 ]\n"
     ]
    }
   ],
   "source": [
    "# text를 학습시키기 ex) ['경마장에 있는', '경마장에 있는 말이', ... ]\n",
    "sequences = []\n",
    "for line in text.split('\\n'):\n",
    "    encoded = t.texts_to_sequences([line])[0]\n",
    "    print('원래 문장 :', line)\n",
    "    print('인코딩된 문장 :', encoded)\n",
    "    print()\n",
    "    \n",
    "    for i in range(0, len(encoded)-1): # 시작 index\n",
    "        for j in range(i+2, len(encoded)+1): # 끝 index\n",
    "            sequences.append(encoded[ i : j ])\n",
    "\n",
    "print('시퀀스와 해석')\n",
    "for sequence in sequences:\n",
    "    print('[', end = '')\n",
    "    for word_seq in sequence:\n",
    "        for key, value in t.word_index.items():\n",
    "            if word_seq == value:\n",
    "                print('{} : {}'.format(word_seq, key), end = ' ')\n",
    "    print(']')"
   ]
  },
  {
   "cell_type": "code",
   "execution_count": 7,
   "id": "0c4b8184",
   "metadata": {},
   "outputs": [
    {
     "name": "stdout",
     "output_type": "stream",
     "text": [
      "[2, 3, 4, 5, 2, 3, 4, 2, 3, 2, 2, 3, 2, 2, 3, 4, 5, 6, 2, 3, 4, 5, 2, 3, 4, 2, 3, 2]\n"
     ]
    }
   ],
   "source": [
    "print( [ len(s) for s in sequences ] )"
   ]
  },
  {
   "cell_type": "code",
   "execution_count": 8,
   "id": "c8786e4f",
   "metadata": {},
   "outputs": [
    {
     "data": {
      "text/plain": [
       "6"
      ]
     },
     "execution_count": 8,
     "metadata": {},
     "output_type": "execute_result"
    }
   ],
   "source": [
    "maxLen = max( [ len(s) for s in sequences ] ) # 모든 시퀀스를 다 6개로 조정\n",
    "\n",
    "maxLen"
   ]
  },
  {
   "cell_type": "code",
   "execution_count": 9,
   "id": "37146a34",
   "metadata": {
    "scrolled": true
   },
   "outputs": [
    {
     "data": {
      "text/plain": [
       "(numpy.ndarray,\n",
       " (28, 6),\n",
       " array([[ 0,  0,  0,  0,  2,  3],\n",
       "        [ 0,  0,  0,  2,  3,  1],\n",
       "        [ 0,  0,  2,  3,  1,  4],\n",
       "        [ 0,  2,  3,  1,  4,  5],\n",
       "        [ 0,  0,  0,  0,  3,  1],\n",
       "        [ 0,  0,  0,  3,  1,  4],\n",
       "        [ 0,  0,  3,  1,  4,  5],\n",
       "        [ 0,  0,  0,  0,  1,  4],\n",
       "        [ 0,  0,  0,  1,  4,  5],\n",
       "        [ 0,  0,  0,  0,  4,  5],\n",
       "        [ 0,  0,  0,  0,  6,  1],\n",
       "        [ 0,  0,  0,  6,  1,  7],\n",
       "        [ 0,  0,  0,  0,  1,  7],\n",
       "        [ 0,  0,  0,  0,  8,  1],\n",
       "        [ 0,  0,  0,  8,  1,  9],\n",
       "        [ 0,  0,  8,  1,  9, 10],\n",
       "        [ 0,  8,  1,  9, 10,  1],\n",
       "        [ 8,  1,  9, 10,  1, 11],\n",
       "        [ 0,  0,  0,  0,  1,  9],\n",
       "        [ 0,  0,  0,  1,  9, 10],\n",
       "        [ 0,  0,  1,  9, 10,  1],\n",
       "        [ 0,  1,  9, 10,  1, 11],\n",
       "        [ 0,  0,  0,  0,  9, 10],\n",
       "        [ 0,  0,  0,  9, 10,  1],\n",
       "        [ 0,  0,  9, 10,  1, 11],\n",
       "        [ 0,  0,  0,  0, 10,  1],\n",
       "        [ 0,  0,  0, 10,  1, 11],\n",
       "        [ 0,  0,  0,  0,  1, 11]]))"
      ]
     },
     "execution_count": 9,
     "metadata": {},
     "output_type": "execute_result"
    }
   ],
   "source": [
    "# 시퀀스들을 학습이 가능하도록 6열로 조정\n",
    "from tensorflow.keras.preprocessing.sequence import pad_sequences\n",
    "sequences = pad_sequences(sequences = sequences, \n",
    "                          maxlen= maxLen, padding = 'pre')\n",
    "\n",
    "type(sequences), sequences.shape, sequences"
   ]
  },
  {
   "cell_type": "code",
   "execution_count": 10,
   "id": "09eb2788",
   "metadata": {},
   "outputs": [
    {
     "data": {
      "text/plain": [
       "array([ 3,  1,  4,  5,  1,  4,  5,  4,  5,  5,  1,  7,  7,  1,  9, 10,  1,\n",
       "       11,  9, 10,  1, 11, 10,  1, 11,  1, 11, 11])"
      ]
     },
     "execution_count": 10,
     "metadata": {},
     "output_type": "execute_result"
    }
   ],
   "source": [
    "# 예측(독립)변수(x), 결과(타겟)변수(y)로 분리\n",
    "X = sequences[:, :-1]\n",
    "Y = sequences[:, -1]\n",
    "\n",
    "Y"
   ]
  },
  {
   "cell_type": "code",
   "execution_count": 11,
   "id": "c0bfa379",
   "metadata": {},
   "outputs": [
    {
     "data": {
      "text/plain": [
       "11"
      ]
     },
     "execution_count": 11,
     "metadata": {},
     "output_type": "execute_result"
    }
   ],
   "source": [
    "len(t.word_index) # 단어의 수"
   ]
  },
  {
   "cell_type": "code",
   "execution_count": 12,
   "id": "856fee1a",
   "metadata": {
    "scrolled": true
   },
   "outputs": [
    {
     "data": {
      "text/plain": [
       "array([[0., 0., 0., 1., 0., 0., 0., 0., 0., 0., 0., 0.],\n",
       "       [0., 1., 0., 0., 0., 0., 0., 0., 0., 0., 0., 0.],\n",
       "       [0., 0., 0., 0., 1., 0., 0., 0., 0., 0., 0., 0.],\n",
       "       [0., 0., 0., 0., 0., 1., 0., 0., 0., 0., 0., 0.],\n",
       "       [0., 1., 0., 0., 0., 0., 0., 0., 0., 0., 0., 0.],\n",
       "       [0., 0., 0., 0., 1., 0., 0., 0., 0., 0., 0., 0.],\n",
       "       [0., 0., 0., 0., 0., 1., 0., 0., 0., 0., 0., 0.],\n",
       "       [0., 0., 0., 0., 1., 0., 0., 0., 0., 0., 0., 0.],\n",
       "       [0., 0., 0., 0., 0., 1., 0., 0., 0., 0., 0., 0.],\n",
       "       [0., 0., 0., 0., 0., 1., 0., 0., 0., 0., 0., 0.],\n",
       "       [0., 1., 0., 0., 0., 0., 0., 0., 0., 0., 0., 0.],\n",
       "       [0., 0., 0., 0., 0., 0., 0., 1., 0., 0., 0., 0.],\n",
       "       [0., 0., 0., 0., 0., 0., 0., 1., 0., 0., 0., 0.],\n",
       "       [0., 1., 0., 0., 0., 0., 0., 0., 0., 0., 0., 0.],\n",
       "       [0., 0., 0., 0., 0., 0., 0., 0., 0., 1., 0., 0.],\n",
       "       [0., 0., 0., 0., 0., 0., 0., 0., 0., 0., 1., 0.],\n",
       "       [0., 1., 0., 0., 0., 0., 0., 0., 0., 0., 0., 0.],\n",
       "       [0., 0., 0., 0., 0., 0., 0., 0., 0., 0., 0., 1.],\n",
       "       [0., 0., 0., 0., 0., 0., 0., 0., 0., 1., 0., 0.],\n",
       "       [0., 0., 0., 0., 0., 0., 0., 0., 0., 0., 1., 0.],\n",
       "       [0., 1., 0., 0., 0., 0., 0., 0., 0., 0., 0., 0.],\n",
       "       [0., 0., 0., 0., 0., 0., 0., 0., 0., 0., 0., 1.],\n",
       "       [0., 0., 0., 0., 0., 0., 0., 0., 0., 0., 1., 0.],\n",
       "       [0., 1., 0., 0., 0., 0., 0., 0., 0., 0., 0., 0.],\n",
       "       [0., 0., 0., 0., 0., 0., 0., 0., 0., 0., 0., 1.],\n",
       "       [0., 1., 0., 0., 0., 0., 0., 0., 0., 0., 0., 0.],\n",
       "       [0., 0., 0., 0., 0., 0., 0., 0., 0., 0., 0., 1.],\n",
       "       [0., 0., 0., 0., 0., 0., 0., 0., 0., 0., 0., 1.]], dtype=float32)"
      ]
     },
     "execution_count": 12,
     "metadata": {},
     "output_type": "execute_result"
    }
   ],
   "source": [
    "# 원-핫 인코딩\n",
    "from tensorflow.keras.utils import to_categorical\n",
    "Y = to_categorical(Y, len(t.word_index)+1)\n",
    "\n",
    "Y"
   ]
  },
  {
   "cell_type": "code",
   "execution_count": 13,
   "id": "dcee6465",
   "metadata": {},
   "outputs": [
    {
     "data": {
      "text/plain": [
       "((28, 5), (28, 12), 11)"
      ]
     },
     "execution_count": 13,
     "metadata": {},
     "output_type": "execute_result"
    }
   ],
   "source": [
    "X.shape, Y.shape, len(t.word_index)"
   ]
  },
  {
   "cell_type": "code",
   "execution_count": 14,
   "id": "b9282ac6",
   "metadata": {},
   "outputs": [
    {
     "data": {
      "text/plain": [
       "11"
      ]
     },
     "execution_count": 14,
     "metadata": {},
     "output_type": "execute_result"
    }
   ],
   "source": [
    "vocab_size = len(t.word_index)\n",
    "\n",
    "vocab_size"
   ]
  },
  {
   "cell_type": "code",
   "execution_count": 23,
   "id": "6326b0ee",
   "metadata": {},
   "outputs": [],
   "source": [
    "from tensorflow.keras.models import Sequential\n",
    "from tensorflow.keras.layers import Dense\n",
    "from tensorflow.keras.layers import Embedding, SimpleRNN # 희소행렬변환, RNN"
   ]
  },
  {
   "cell_type": "code",
   "execution_count": null,
   "id": "f6e87903",
   "metadata": {},
   "outputs": [],
   "source": [
    "# ▶ 2. 모델 생성하기\n",
    "model = Sequential()\n",
    "# 희소행렬로 변환 ( vocab_size-1은 어간 거리 벡터, input_length : 독립변수의 수 )\n",
    "model.add(Embedding(vocab_size+1, vocab_size-1, input_length=X.shape[1]))\n",
    "model.add(SimpleRNN(32))\n",
    "model.add(Dense(12, activation = 'softmax'))\n",
    "\n",
    "\n",
    "# ▶ 3. 모델 학습과정 설정\n",
    "model.compile(loss = 'categorical_crossentropy', \n",
    "              optimizer = 'adam', metrics = ['accuracy'])\n",
    "\n",
    "\n",
    "# ▶ 4. 모델 학습시키기\n",
    "# hist = model.fit(X, Y, epochs = 300, verbose = 2)"
   ]
  },
  {
   "cell_type": "code",
   "execution_count": 17,
   "id": "9cc0df2c",
   "metadata": {},
   "outputs": [
    {
     "name": "stdout",
     "output_type": "stream",
     "text": [
      "1/1 [==============================] - 0s 174ms/step - loss: 0.2731 - accuracy: 0.8929\n"
     ]
    },
    {
     "data": {
      "text/plain": [
       "[0.273135244846344, 0.8928571343421936]"
      ]
     },
     "execution_count": 17,
     "metadata": {},
     "output_type": "execute_result"
    }
   ],
   "source": [
    "# ▶ 5. 평가하기\n",
    "model.evaluate(X, Y)"
   ]
  },
  {
   "cell_type": "code",
   "execution_count": 18,
   "id": "fb0b1826",
   "metadata": {},
   "outputs": [
    {
     "data": {
      "image/png": "[encoded data removed]",
      "text/plain": [
       "<Figure size 1152x648 with 2 Axes>"
      ]
     },
     "metadata": {
      "needs_background": "light"
     },
     "output_type": "display_data"
    }
   ],
   "source": [
    "import matplotlib.pyplot as plt\n",
    "fig, loss_ax = plt.subplots(figsize=(16, 9))\n",
    "loss_ax.plot(hist.history['loss'], 'y', label = 'train loss')\n",
    "# 축 공유\n",
    "acc_ax = loss_ax.twinx() # loss_ax와 x축을 공유\n",
    "acc_ax.plot(hist.history['accuracy'], 'g', label = 'train accuracy')\n",
    "\n",
    "loss_ax.set_xlabel('epoch')\n",
    "loss_ax.set_ylabel('loss')\n",
    "acc_ax.set_ylabel('accuracy')\n",
    "\n",
    "loss_ax.legend(loc = 'upper left')\n",
    "acc_ax.legend(loc = 'lower left')\n",
    "\n",
    "plt.show()"
   ]
  },
  {
   "cell_type": "code",
   "execution_count": 32,
   "id": "d136d1e2",
   "metadata": {
    "scrolled": true
   },
   "outputs": [
    {
     "name": "stdout",
     "output_type": "stream",
     "text": [
      "입력 단어 :내가\n",
      "모델 예측 결과 :  1\n",
      "예측된 단어 : 말이\n"
     ]
    }
   ],
   "source": [
    "# 모델 사용하기 (경마장에 → 있는)\n",
    "word = input('입력 단어 :')\n",
    "encoded = t.texts_to_sequences([word])[0]\n",
    "input_data = pad_sequences([encoded], maxlen=5, padding='pre')\n",
    "result = model.predict(input_data).argmax()\n",
    "print('모델 예측 결과 : ',result)\n",
    "for key, value in t.word_index.items():\n",
    "    if value==result:\n",
    "        print('예측된 단어 :', key)\n",
    "        break"
   ]
  },
  {
   "cell_type": "markdown",
   "id": "c152182f",
   "metadata": {},
   "source": [
    "# 2절. 다음 문맥 예측해보기"
   ]
  },
  {
   "cell_type": "code",
   "execution_count": 33,
   "id": "5c8317c5",
   "metadata": {},
   "outputs": [],
   "source": [
    "# '경마장에'를 입력하면 이후에 올 단어 4개 예측해보기 → '경마장에 있는 말이 뛰고'\n",
    "def sentence_generation(model, t, current_word, n):\n",
    "    init_word = current_word\n",
    "    print('입력된 단어 :', init_word)\n",
    "    \n",
    "    for i in range(1, n+1):\n",
    "        encoded = t.texts_to_sequences([current_word])[0]\n",
    "        input_data = pad_sequences([encoded], maxlen=5, padding='pre')\n",
    "        result = np.argmax(model.predict(input_data))\n",
    "        \n",
    "        for word, value in t.word_index.items():\n",
    "            if result == value:\n",
    "                print(\"{}번째 {}:{}\".format(i, word, result))\n",
    "                current_word = current_word + ' ' + word\n",
    "                break\n",
    "    return current_word"
   ]
  },
  {
   "cell_type": "code",
   "execution_count": 36,
   "id": "e9c635f6",
   "metadata": {
    "scrolled": true
   },
   "outputs": [
    {
     "name": "stdout",
     "output_type": "stream",
     "text": [
      "입력된 단어 : 가는\n",
      "1번째 말이:1\n",
      "2번째 고와야:9\n",
      "3번째 오는:10\n",
      "4번째 말이:1\n",
      "5번째 곱다:11\n"
     ]
    },
    {
     "data": {
      "text/plain": [
       "'가는 말이 고와야 오는 말이 곱다'"
      ]
     },
     "execution_count": 36,
     "metadata": {},
     "output_type": "execute_result"
    }
   ],
   "source": [
    "sentence_generation(model, t, '가는', 5)"
   ]
  }
 ],
 "metadata": {
  "kernelspec": {
   "display_name": "Python 3",
   "language": "python",
   "name": "python3"
  },
  "language_info": {
   "codemirror_mode": {
    "name": "ipython",
    "version": 3
   },
   "file_extension": ".py",
   "mimetype": "text/x-python",
   "name": "python",
   "nbconvert_exporter": "python",
   "pygments_lexer": "ipython3",
   "version": "3.8.8"
  },
  "toc": {
   "base_numbering": 1,
   "nav_menu": {},
   "number_sections": false,
   "sideBar": true,
   "skip_h1_title": false,
   "title_cell": "Table of Contents",
   "title_sidebar": "Contents",
   "toc_cell": false,
   "toc_position": {
    "height": "calc(100% - 180px)",
    "left": "10px",
    "top": "150px",
    "width": "247px"
   },
   "toc_section_display": true,
   "toc_window_display": true
  },
  "varInspector": {
   "cols": {
    "lenName": 16,
    "lenType": 16,
    "lenVar": 40
   },
   "kernels_config": {
    "python": {
     "delete_cmd_postfix": "",
     "delete_cmd_prefix": "del ",
     "library": "var_list.py",
     "varRefreshCmd": "print(var_dic_list())"
    },
    "r": {
     "delete_cmd_postfix": ") ",
     "delete_cmd_prefix": "rm(",
     "library": "var_list.r",
     "varRefreshCmd": "cat(var_dic_list()) "
    }
   },
   "position": {
    "height": "437px",
    "left": "1550px",
    "right": "20px",
    "top": "120px",
    "width": "350px"
   },
   "types_to_exclude": [
    "module",
    "function",
    "builtin_function_or_method",
    "instance",
    "_Feature"
   ],
   "window_display": true
  }
 },
 "nbformat": 4,
 "nbformat_minor": 5
}
