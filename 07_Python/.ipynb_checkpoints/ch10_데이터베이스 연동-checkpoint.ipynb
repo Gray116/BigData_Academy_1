{
 "cells": [
  {
   "cell_type": "code",
   "execution_count": 1,
   "id": "f14420e7",
   "metadata": {},
   "outputs": [
    {
     "data": {
      "text/html": [
       "\n",
       "<style>\n",
       "div.CodeMirror {font-family:Consolas; font-size:12pt;}\n",
       "div.output {font-size:12pt; font-weight : bold;}\n",
       "div.input {font-family:Consolas; font-size:12pt;}\n",
       "</style>\n"
      ],
      "text/plain": [
       "<IPython.core.display.HTML object>"
      ]
     },
     "metadata": {},
     "output_type": "display_data"
    }
   ],
   "source": [
    "from IPython.display import display, HTML\n",
    "display(HTML(\"\"\"\n",
    "<style>\n",
    "div.CodeMirror {font-family:Consolas; font-size:12pt;}\n",
    "div.output {font-size:12pt; font-weight : bold;}\n",
    "div.input {font-family:Consolas; font-size:12pt;}\n",
    "</style>\n",
    "\"\"\"))"
   ]
  },
  {
   "cell_type": "markdown",
   "id": "20cae52a",
   "metadata": {},
   "source": [
    "<b><font color = \"red\" size = \"6\">ch10. 데이터베이스 연동</font></b>"
   ]
  },
  {
   "cell_type": "markdown",
   "id": "877ef227",
   "metadata": {},
   "source": [
    "# 1절. SQLite 데이터베이스 연결\n",
    "- SQLite 데이터베이스는 별도의 DBMS 없이 SQL을 이용하여 DB에 엑세스할 수 있도록 만든 간단한 **디스크\n",
    "기반의 데이터베이스를 제공**하는 C 라이브러리다\n",
    "- SQLite는 프로토타입(시제품 나오기전까지의 테스트 제품)을 만들때 사용한다. 정식 제품은 오라클이나\n",
    "다른 DBMS를 인식한다.\n",
    "- [DB browser for SQLite](https://sqlitebrowser.org/dl)"
   ]
  },
  {
   "cell_type": "markdown",
   "id": "e974dc2a",
   "metadata": {},
   "source": [
    "## 1.1 SQLite browser 설치 및 패키지 load"
   ]
  },
  {
   "cell_type": "code",
   "execution_count": 2,
   "id": "f8c99b05",
   "metadata": {},
   "outputs": [
    {
     "data": {
      "text/plain": [
       "'3.35.4'"
      ]
     },
     "execution_count": 2,
     "metadata": {},
     "output_type": "execute_result"
    }
   ],
   "source": [
    "import sqlite3\n",
    "\n",
    "# sqlite 버전 확인\n",
    "sqlite3.sqlite_version"
   ]
  },
  {
   "cell_type": "code",
   "execution_count": 4,
   "id": "1f5fd0ca",
   "metadata": {},
   "outputs": [
    {
     "data": {
      "text/plain": [
       "'1.2.4'"
      ]
     },
     "execution_count": 4,
     "metadata": {},
     "output_type": "execute_result"
    }
   ],
   "source": [
    "import pandas as pd\n",
    "\n",
    "# pandas 버전 확인\n",
    "pd.__version__"
   ]
  },
  {
   "cell_type": "markdown",
   "id": "a0da4a86",
   "metadata": {},
   "source": [
    "## 1.2 데이터베이스 연결"
   ]
  },
  {
   "cell_type": "code",
   "execution_count": 5,
   "id": "4554089f",
   "metadata": {},
   "outputs": [
    {
     "data": {
      "text/plain": [
       "<sqlite3.Connection at 0x25c28ce83f0>"
      ]
     },
     "execution_count": 5,
     "metadata": {},
     "output_type": "execute_result"
    }
   ],
   "source": [
    "# ▶ DB 연결 생성시, 파일이 있으면 연결, 파일이 없으면 빈 파일을 생성한다 ◀\n",
    "conn = sqlite3.connect('Data/ch10_example.db')\n",
    "conn"
   ]
  },
  {
   "cell_type": "code",
   "execution_count": 6,
   "id": "9a61d9d8",
   "metadata": {},
   "outputs": [
    {
     "data": {
      "text/plain": [
       "<sqlite3.Cursor at 0x25c28cb97a0>"
      ]
     },
     "execution_count": 6,
     "metadata": {},
     "output_type": "execute_result"
    }
   ],
   "source": [
    "# ▶ 커서 객체반환. 커서는 SQL문을 실행시키고 결과데이터(SELECT)를 조회하는데 사용된다 ◀\n",
    "cursor = conn.cursor()\n",
    "cursor"
   ]
  },
  {
   "cell_type": "code",
   "execution_count": 7,
   "id": "bcb0b36b",
   "metadata": {},
   "outputs": [
    {
     "data": {
      "text/plain": [
       "<sqlite3.Cursor at 0x25c28cb97a0>"
      ]
     },
     "execution_count": 7,
     "metadata": {},
     "output_type": "execute_result"
    }
   ],
   "source": [
    "# ▶ 테이블 생성하기 ◀\n",
    "cursor.execute(\"\"\"\n",
    "    CREATE TABLE MEMBER(\n",
    "        NAME TEXT,\n",
    "        AGE INT,\n",
    "        EMAIL TEXT\n",
    "    )\n",
    "\"\"\")"
   ]
  },
  {
   "cell_type": "code",
   "execution_count": 8,
   "id": "129ab005",
   "metadata": {},
   "outputs": [
    {
     "data": {
      "text/plain": [
       "<sqlite3.Cursor at 0x25c28cb97a0>"
      ]
     },
     "execution_count": 8,
     "metadata": {},
     "output_type": "execute_result"
    }
   ],
   "source": [
    "cursor.execute(\"DROP TABLE MEMBER\")"
   ]
  },
  {
   "cell_type": "code",
   "execution_count": 9,
   "id": "27a03c45",
   "metadata": {},
   "outputs": [
    {
     "data": {
      "text/plain": [
       "<sqlite3.Cursor at 0x25c28cb97a0>"
      ]
     },
     "execution_count": 9,
     "metadata": {},
     "output_type": "execute_result"
    }
   ],
   "source": [
    "cursor.execute(\"\"\"\n",
    "    CREATE TABLE MEMBER(\n",
    "        NAME TEXT,\n",
    "        AGE INT,\n",
    "        EMAIL TEXT\n",
    "    )\n",
    "\"\"\")"
   ]
  },
  {
   "cell_type": "code",
   "execution_count": 10,
   "id": "ac33c6e0",
   "metadata": {},
   "outputs": [
    {
     "data": {
      "text/plain": [
       "<sqlite3.Cursor at 0x25c28cb97a0>"
      ]
     },
     "execution_count": 10,
     "metadata": {},
     "output_type": "execute_result"
    }
   ],
   "source": [
    "# ▶ 테이블에 데이터 입력하기 ◀\n",
    "cursor.execute(\"INSERT INTO MEMBER VALUES('마초', 20, 'hong@naver.com')\")\n",
    "cursor.execute(\"INSERT INTO MEMBER VALUES('서서', 22, 'seo@naver.com')\")\n",
    "cursor.execute(\"INSERT INTO MEMBER VALUES('주창', 24, 'joo@naver.com')\")"
   ]
  },
  {
   "cell_type": "code",
   "execution_count": 11,
   "id": "85bafeea",
   "metadata": {},
   "outputs": [],
   "source": [
    "# ▶ DML문장은 COMMIT이 필요하다, 반대 : conn.rollback() ◀\n",
    "conn.commit()"
   ]
  },
  {
   "cell_type": "code",
   "execution_count": 12,
   "id": "0c2d254a",
   "metadata": {},
   "outputs": [
    {
     "data": {
      "text/plain": [
       "<sqlite3.Cursor at 0x25c28cb97a0>"
      ]
     },
     "execution_count": 12,
     "metadata": {},
     "output_type": "execute_result"
    }
   ],
   "source": [
    "# ▶ SELECT 실행결과는 cursor가 가리킨다 ◀\n",
    "cursor.execute(\"SELECT * FROM MEMBER\")"
   ]
  },
  {
   "cell_type": "code",
   "execution_count": 13,
   "id": "727f24cf",
   "metadata": {},
   "outputs": [
    {
     "name": "stdout",
     "output_type": "stream",
     "text": [
      "[('마초', 20, 'hong@naver.com'), ('서서', 22, 'seo@naver.com'), ('주창', 24, 'joo@naver.com')]\n"
     ]
    }
   ],
   "source": [
    "# ▶ SELECT 실행결과를 받는 함수 리스트 ◀\n",
    "# 1. fetchall() - 결과를 모두 받을 때( 데이터는 튜플, 출력은 List형태 )\n",
    "# 2. fetchone() - 결과를 한 행씩 받을 때 ( 튜플 )\n",
    "# 3. fetchmany(n) - 결과를 n행 받을 때\n",
    "print(cursor.fetchall())"
   ]
  },
  {
   "cell_type": "code",
   "execution_count": null,
   "id": "afdf96fc",
   "metadata": {},
   "outputs": [],
   "source": [
    "# ▶ 한번 소요된 커서 객체는 다시 fetch할 수 없다 ◀\n",
    "print(cursor.fetchall())"
   ]
  },
  {
   "cell_type": "code",
   "execution_count": 14,
   "id": "bb4f7c02",
   "metadata": {},
   "outputs": [
    {
     "data": {
      "text/plain": [
       "[('마초', 20, 'hong@naver.com'),\n",
       " ('서서', 22, 'seo@naver.com'),\n",
       " ('주창', 24, 'joo@naver.com')]"
      ]
     },
     "execution_count": 14,
     "metadata": {},
     "output_type": "execute_result"
    }
   ],
   "source": [
    "cursor.execute(\"SELECT * FROM MEMBER\")\n",
    "members = cursor.fetchall()\n",
    "\n",
    "members"
   ]
  },
  {
   "cell_type": "code",
   "execution_count": 15,
   "id": "39f6eca3",
   "metadata": {},
   "outputs": [
    {
     "name": "stdout",
     "output_type": "stream",
     "text": [
      "('마초', 20, 'hong@naver.com')\n",
      "('서서', 22, 'seo@naver.com')\n",
      "('주창', 24, 'joo@naver.com')\n"
     ]
    }
   ],
   "source": [
    "for member in members:\n",
    "    print(member)"
   ]
  },
  {
   "cell_type": "code",
   "execution_count": 21,
   "id": "c819a2e2",
   "metadata": {},
   "outputs": [
    {
     "name": "stdout",
     "output_type": "stream",
     "text": [
      "이름 : 마초 \t나이 : 20 \t메일 : hong@naver.com\n",
      "이름 : 서서 \t나이 : 22 \t메일 : seo@naver.com\n",
      "이름 : 주창 \t나이 : 24 \t메일 : joo@naver.com\n"
     ]
    }
   ],
   "source": [
    "cursor.execute(\"SELECT * FROM MEMBER\")\n",
    "member_list = []\n",
    "while True:\n",
    "    member = cursor.fetchone()\n",
    "    if member is None:\n",
    "        break\n",
    "    member_list.append({'name':member[0], 'age':member[1], 'email':member[2]})\n",
    "    print(\"이름 :\", member[0], \"\\t나이 :\", member[1], \"\\t메일 :\", member[2])"
   ]
  },
  {
   "cell_type": "code",
   "execution_count": 22,
   "id": "f62e7e58",
   "metadata": {},
   "outputs": [
    {
     "name": "stdout",
     "output_type": "stream",
     "text": [
      "[{'name': '마초', 'age': 20, 'email': 'hong@naver.com'}, {'name': '서서', 'age': 22, 'email': 'seo@naver.com'}, {'name': '주창', 'age': 24, 'email': 'joo@naver.com'}]\n"
     ]
    }
   ],
   "source": [
    "print(member_list)"
   ]
  },
  {
   "cell_type": "code",
   "execution_count": 23,
   "id": "4a9f6fbb",
   "metadata": {},
   "outputs": [
    {
     "name": "stdout",
     "output_type": "stream",
     "text": [
      "주창 24 joo@naver.com\n",
      "서서 22 seo@naver.com\n"
     ]
    }
   ],
   "source": [
    "cursor.execute(\"SELECT * FROM MEMBER ORDER BY AGE DESC\")\n",
    "for member in cursor.fetchmany(2): # 나이가 많은 사람 두명이 출력\n",
    "    print(member[0], member[1], member[2])"
   ]
  },
  {
   "cell_type": "code",
   "execution_count": 24,
   "id": "c3dd65a1",
   "metadata": {},
   "outputs": [],
   "source": [
    "cursor.close() # 생략 가능\n",
    "conn.close() # 꼭 닫아야함"
   ]
  },
  {
   "cell_type": "markdown",
   "id": "17fe71bf",
   "metadata": {},
   "source": [
    "## 1.3 SQL 구문에 파라미터 사용하기\n",
    "- 방법1.qmark\n",
    "- 방법2.named(추천)"
   ]
  },
  {
   "cell_type": "code",
   "execution_count": 26,
   "id": "44cd06b2",
   "metadata": {},
   "outputs": [
    {
     "data": {
      "text/plain": [
       "[('마초', 20, 'hong@naver.com'), ('서서', 22, 'seo@naver.com')]"
      ]
     },
     "execution_count": 26,
     "metadata": {},
     "output_type": "execute_result"
    }
   ],
   "source": [
    "conn = sqlite3.connect('Data/ch10_example.db')\n",
    "cursor = conn.cursor()\n",
    "\n",
    "cursor.execute(\"SELECT * FROM MEMBER WHERE NAME IN('마초', '서서')\")\n",
    "cursor.fetchall()"
   ]
  },
  {
   "cell_type": "code",
   "execution_count": 29,
   "id": "4e98a5e7",
   "metadata": {},
   "outputs": [
    {
     "name": "stdout",
     "output_type": "stream",
     "text": [
      "검색할 이름1 :마초\n",
      "검색할 이름2 :장비\n"
     ]
    },
    {
     "data": {
      "text/plain": [
       "[('마초', 20, 'hong@naver.com')]"
      ]
     },
     "execution_count": 29,
     "metadata": {},
     "output_type": "execute_result"
    }
   ],
   "source": [
    "# ▶ 파라미터 사용하기 ( q(question?)mark ) ◀\n",
    "name1 = input('검색할 이름1 :')\n",
    "name2 = input('검색할 이름2 :')\n",
    "# cursor.execute(\"SELECT * FROM MEMBER WHERE NAME IN(?, ?)\", ('마초', '장비'))\n",
    "cursor.execute(\"SELECT * FROM MEMBER WHERE NAME IN(?, ?)\", (name1, name2))\n",
    "cursor.fetchall()"
   ]
  },
  {
   "cell_type": "code",
   "execution_count": 31,
   "id": "ab3a5055",
   "metadata": {},
   "outputs": [
    {
     "name": "stdout",
     "output_type": "stream",
     "text": [
      "검색할 이름1 :마초\n",
      "검색할 이름2 :장비\n"
     ]
    },
    {
     "data": {
      "text/plain": [
       "[('마초', 20, 'hong@naver.com')]"
      ]
     },
     "execution_count": 31,
     "metadata": {},
     "output_type": "execute_result"
    }
   ],
   "source": [
    "name1 = input('검색할 이름1 :')\n",
    "name2 = input('검색할 이름2 :')\n",
    "names = [name1, name2]\n",
    "\n",
    "cursor.execute(\"SELECT * FROM MEMBER WHERE NAME IN(?, ?)\", names)\n",
    "cursor.fetchall()"
   ]
  },
  {
   "cell_type": "code",
   "execution_count": 34,
   "id": "f748bced",
   "metadata": {},
   "outputs": [
    {
     "name": "stdout",
     "output_type": "stream",
     "text": [
      "검색할 이름 :장비\n",
      "해당 이름의 데이터가 없습니다.\n"
     ]
    }
   ],
   "source": [
    "# ▶ 파라미터 사용하기 ( named ) ◀\n",
    "name1 = input('검색할 이름 :')\n",
    "cursor.execute(\"SELECT * FROM MEMBER WHERE NAME = :name\", {'name':name1})\n",
    "members = cursor.fetchall()\n",
    "\n",
    "if len(members) == 0:\n",
    "    print('해당 이름의 데이터가 없습니다.')\n",
    "else:\n",
    "    print(members)\n",
    "    print(cursor.fetchall()) # 한 행도 출력 안된다."
   ]
  },
  {
   "cell_type": "code",
   "execution_count": 39,
   "id": "41ff2b44",
   "metadata": {},
   "outputs": [
    {
     "name": "stdout",
     "output_type": "stream",
     "text": [
      "이름 입력 :가후\n",
      "나이 입력 :28\n",
      "메일 입력 :hu@daum.net\n",
      "종료(Y/N) :Y\n"
     ]
    }
   ],
   "source": [
    "# ▶ MEMBER 테이블에 입력 ◀\n",
    "# 사용자로부터 이름, 나이, 메일을 입력받아 DB에 INSERT하는 프로그램\n",
    "while True:\n",
    "    try:\n",
    "        name = input(\"이름 입력 :\")\n",
    "        age = int(input(\"나이 입력 :\"))\n",
    "        mail = input(\"메일 입력 :\")\n",
    "    except ValueError as e:\n",
    "        print('숫자를 0이상 입력하세요.')\n",
    "        age = 18\n",
    "        mail = input(\"메일 입력 :\")\n",
    "\n",
    "    cursor.execute(\"INSERT INTO MEMBER VALUES(:name, :age, :mail)\",{'name':name, 'age':age,\n",
    "                                                                    'mail':mail})\n",
    "    try:\n",
    "        exit = input('종료(Y/N) :')\n",
    "        if exit == 'Y':\n",
    "            break\n",
    "        elif exit == 'N':\n",
    "            continue\n",
    "    except ValueError as e1:\n",
    "        print('잘못된 문자를 입력')\n",
    "conn.commit()"
   ]
  },
  {
   "cell_type": "code",
   "execution_count": 41,
   "id": "29355b8f",
   "metadata": {},
   "outputs": [
    {
     "data": {
      "text/plain": [
       "[('마초', 20, 'hong@naver.com'),\n",
       " ('서서', 22, 'seo@naver.com'),\n",
       " ('주창', 24, 'joo@naver.com'),\n",
       " ('장비', 25, 'jang@naver.com'),\n",
       " ('조조', 26, 'jojo@naver.com'),\n",
       " ('마등', 20, 'deung@naver.com'),\n",
       " ('유비', 21, 'bi@naver.com'),\n",
       " ('가후', 28, 'hu@daum.net')]"
      ]
     },
     "execution_count": 41,
     "metadata": {},
     "output_type": "execute_result"
    }
   ],
   "source": [
    "cursor.execute(\"SELECT * FROM MEMBER\")\n",
    "cursor.fetchall()"
   ]
  },
  {
   "cell_type": "code",
   "execution_count": 42,
   "id": "26e9c634",
   "metadata": {},
   "outputs": [
    {
     "name": "stdout",
     "output_type": "stream",
     "text": [
      "이름 입력 :장합\n",
      "나이 입력 :25\n",
      "메일 입력 :hab@naver.com\n"
     ]
    }
   ],
   "source": [
    "class User:\n",
    "    def __init__(self, name, age, mail):\n",
    "        self.name = name\n",
    "        self.age = age\n",
    "        self.mail = mail\n",
    "        \n",
    "    def __str__(self):\n",
    "        return '이름:{:4}\\t나이:{:3}\\t메일:{}'.format(self.name, self.age, self.mail)\n",
    "    \n",
    "    # 객체[]를 딕셔너리{:}로 바꾸는 함수 \n",
    "    def as_dict(self):\n",
    "        return {'name':self.name, 'age':self.age, 'mail':self.mail}\n",
    "\n",
    "try:\n",
    "    name = input(\"이름 입력 : \")\n",
    "    age = int(input(\"나이 입력 : \"))\n",
    "    mail = input(\"메일 입력 : \")\n",
    "except ValueError as e:\n",
    "    print('숫자를 0이상 입력하세요.')\n",
    "    age = 18\n",
    "    mail = input(\"메일 입력 :\")\n",
    "\n",
    "user = User(name, age, mail)\n",
    "    \n",
    "cursor.execute(\"INSERT INTO MEMBER VALUES(:name, :age, :mail)\", user.as_dict())\n",
    "conn.commit()"
   ]
  },
  {
   "cell_type": "code",
   "execution_count": 43,
   "id": "496d0460",
   "metadata": {},
   "outputs": [],
   "source": [
    "cursor.close()\n",
    "conn.close()"
   ]
  },
  {
   "cell_type": "markdown",
   "id": "1de66b7a",
   "metadata": {},
   "source": [
    "# 2절. 오라클 데이터베이스 연결"
   ]
  },
  {
   "cell_type": "code",
   "execution_count": 44,
   "id": "8d311986",
   "metadata": {},
   "outputs": [
    {
     "data": {
      "text/plain": [
       "'(DESCRIPTION=(ADDRESS=(PROTOCOL=TCP)(HOST=localhost)(PORT=1521))(CONNECT_DATA=(SID=xe)))'"
      ]
     },
     "execution_count": 44,
     "metadata": {},
     "output_type": "execute_result"
    }
   ],
   "source": [
    "# ▶ 모듈 불러오기 및 dsn 설정 ◀\n",
    "import cx_Oracle\n",
    "oracle_dsn = cx_Oracle.makedsn(host = 'localhost', port = 1521, sid = 'xe')\n",
    "oracle_dsn"
   ]
  },
  {
   "cell_type": "code",
   "execution_count": 45,
   "id": "82972cfb",
   "metadata": {},
   "outputs": [
    {
     "data": {
      "text/plain": [
       "<cx_Oracle.Connection to scott@(DESCRIPTION=(ADDRESS=(PROTOCOL=TCP)(HOST=localhost)(PORT=1521))(CONNECT_DATA=(SID=xe)))>"
      ]
     },
     "execution_count": 45,
     "metadata": {},
     "output_type": "execute_result"
    }
   ],
   "source": [
    "# ▶ conn 설정 방법 1 ◀\n",
    "# 에러 발생 시, VC_redist.x64.exe를 설치해야 한다.\n",
    "conn = cx_Oracle.connect(\"scott\", \"tiger\", dsn = oracle_dsn)\n",
    "conn"
   ]
  },
  {
   "cell_type": "code",
   "execution_count": 46,
   "id": "114cc03f",
   "metadata": {},
   "outputs": [],
   "source": [
    "conn.close()"
   ]
  },
  {
   "cell_type": "code",
   "execution_count": 47,
   "id": "3f7edd9f",
   "metadata": {},
   "outputs": [
    {
     "data": {
      "text/plain": [
       "<cx_Oracle.Connection to scott@localhost:1521/xe>"
      ]
     },
     "execution_count": 47,
     "metadata": {},
     "output_type": "execute_result"
    }
   ],
   "source": [
    "# ▶ conn 설정 방법 2 ◀\n",
    "conn = cx_Oracle.connect(\"scott\", \"tiger\", \"localhost:1521/xe\")\n",
    "conn"
   ]
  },
  {
   "cell_type": "code",
   "execution_count": 48,
   "id": "b8b4501f",
   "metadata": {},
   "outputs": [],
   "source": [
    "cursor = conn.cursor()"
   ]
  },
  {
   "cell_type": "code",
   "execution_count": 49,
   "id": "a6028321",
   "metadata": {},
   "outputs": [],
   "source": [
    "sql = \"SELECT * FROM EMP\"\n",
    "cursor.execute(sql)\n",
    "\n",
    "emp = cursor.fetchall()"
   ]
  },
  {
   "cell_type": "code",
   "execution_count": 50,
   "id": "20f37860",
   "metadata": {},
   "outputs": [
    {
     "name": "stdout",
     "output_type": "stream",
     "text": [
      "(7369, 'SMITH', 'CLERK', 7902, datetime.datetime(1980, 12, 17, 0, 0), 800.0, None, 20)\n",
      "(7499, 'ALLEN', 'SALESMAN', 7698, datetime.datetime(1981, 2, 20, 0, 0), 1600.0, 300.0, 30)\n",
      "(7521, 'WARD', 'SALESMAN', 7698, datetime.datetime(1981, 2, 22, 0, 0), 1250.0, 500.0, 30)\n",
      "(7566, 'JONES', 'MANAGER', 7839, datetime.datetime(1981, 4, 2, 0, 0), 2975.0, None, 20)\n",
      "(7654, 'MARTIN', 'SALESMAN', 7698, datetime.datetime(1981, 9, 28, 0, 0), 1250.0, 1400.0, 30)\n",
      "(7698, 'BLAKE', 'MANAGER', 7839, datetime.datetime(1981, 5, 1, 0, 0), 2850.0, None, 30)\n",
      "(7782, 'CLARK', 'MANAGER', 7839, datetime.datetime(1981, 6, 9, 0, 0), 2450.0, None, 10)\n",
      "(7788, 'SCOTT', 'ANALYST', 7566, datetime.datetime(1982, 12, 9, 0, 0), 3000.0, None, 20)\n",
      "(7839, 'KING', 'PRESIDENT', None, datetime.datetime(1981, 11, 17, 0, 0), 5000.0, None, 10)\n",
      "(7844, 'TURNER', 'SALESMAN', 7698, datetime.datetime(1981, 9, 8, 0, 0), 1500.0, 0.0, 30)\n",
      "(7876, 'ADAMS', 'CLERK', 7788, datetime.datetime(1983, 1, 12, 0, 0), 1100.0, None, 20)\n",
      "(7900, 'JAMES', 'CLERK', 7698, datetime.datetime(1981, 12, 3, 0, 0), 950.0, None, 30)\n",
      "(7902, 'FORD', 'ANALYST', 7566, datetime.datetime(1981, 12, 3, 0, 0), 3000.0, None, 20)\n",
      "(7934, 'MILLER', 'CLERK', 7782, datetime.datetime(1982, 1, 23, 0, 0), 1300.0, None, 10)\n"
     ]
    }
   ],
   "source": [
    "for e in emp:\n",
    "    print(e)"
   ]
  },
  {
   "cell_type": "code",
   "execution_count": 53,
   "id": "286e8d07",
   "metadata": {},
   "outputs": [
    {
     "name": "stdout",
     "output_type": "stream",
     "text": [
      "(7369, 'SMITH', 'CLERK', 7902, datetime.datetime(1980, 12, 17, 0, 0), 800.0, None, 20)\n",
      "(7499, 'ALLEN', 'SALESMAN', 7698, datetime.datetime(1981, 2, 20, 0, 0), 1600.0, 300.0, 30)\n",
      "(7521, 'WARD', 'SALESMAN', 7698, datetime.datetime(1981, 2, 22, 0, 0), 1250.0, 500.0, 30)\n",
      "(7566, 'JONES', 'MANAGER', 7839, datetime.datetime(1981, 4, 2, 0, 0), 2975.0, None, 20)\n",
      "(7654, 'MARTIN', 'SALESMAN', 7698, datetime.datetime(1981, 9, 28, 0, 0), 1250.0, 1400.0, 30)\n",
      "(7698, 'BLAKE', 'MANAGER', 7839, datetime.datetime(1981, 5, 1, 0, 0), 2850.0, None, 30)\n",
      "(7782, 'CLARK', 'MANAGER', 7839, datetime.datetime(1981, 6, 9, 0, 0), 2450.0, None, 10)\n",
      "(7788, 'SCOTT', 'ANALYST', 7566, datetime.datetime(1982, 12, 9, 0, 0), 3000.0, None, 20)\n",
      "(7839, 'KING', 'PRESIDENT', None, datetime.datetime(1981, 11, 17, 0, 0), 5000.0, None, 10)\n",
      "(7844, 'TURNER', 'SALESMAN', 7698, datetime.datetime(1981, 9, 8, 0, 0), 1500.0, 0.0, 30)\n",
      "(7876, 'ADAMS', 'CLERK', 7788, datetime.datetime(1983, 1, 12, 0, 0), 1100.0, None, 20)\n",
      "(7900, 'JAMES', 'CLERK', 7698, datetime.datetime(1981, 12, 3, 0, 0), 950.0, None, 30)\n",
      "(7902, 'FORD', 'ANALYST', 7566, datetime.datetime(1981, 12, 3, 0, 0), 3000.0, None, 20)\n",
      "(7934, 'MILLER', 'CLERK', 7782, datetime.datetime(1982, 1, 23, 0, 0), 1300.0, None, 10)\n"
     ]
    }
   ],
   "source": [
    "cursor.execute(sql)\n",
    "for e in cursor:\n",
    "    print(e)"
   ]
  },
  {
   "cell_type": "code",
   "execution_count": 54,
   "id": "c52fc1dc",
   "metadata": {},
   "outputs": [
    {
     "name": "stdout",
     "output_type": "stream",
     "text": [
      "검색할 이름 :SMITH\n",
      "(7369, 'SMITH', 'CLERK', 7902, datetime.datetime(1980, 12, 17, 0, 0), 800.0, None, 20)\n"
     ]
    }
   ],
   "source": [
    "sql = \"SELECT * FROM EMP WHERE ENAME = :ename\"\n",
    "ename = input(\"검색할 이름 :\")\n",
    "\n",
    "cursor.execute(sql, {'ename':ename})\n",
    "emp = cursor.fetchall()\n",
    "\n",
    "if len(emp) == 0:\n",
    "    print('입력하신 이름의 데이터는 없습니다')\n",
    "else:\n",
    "    for e in emp:\n",
    "        print(e)"
   ]
  },
  {
   "cell_type": "code",
   "execution_count": 61,
   "id": "d2678bcd",
   "metadata": {},
   "outputs": [
    {
     "data": {
      "text/html": [
       "<div>\n",
       "<style scoped>\n",
       "    .dataframe tbody tr th:only-of-type {\n",
       "        vertical-align: middle;\n",
       "    }\n",
       "\n",
       "    .dataframe tbody tr th {\n",
       "        vertical-align: top;\n",
       "    }\n",
       "\n",
       "    .dataframe thead th {\n",
       "        text-align: right;\n",
       "    }\n",
       "</style>\n",
       "<table border=\"1\" class=\"dataframe\">\n",
       "  <thead>\n",
       "    <tr style=\"text-align: right;\">\n",
       "      <th></th>\n",
       "      <th>0</th>\n",
       "      <th>1</th>\n",
       "      <th>2</th>\n",
       "      <th>3</th>\n",
       "      <th>4</th>\n",
       "      <th>5</th>\n",
       "      <th>6</th>\n",
       "      <th>7</th>\n",
       "    </tr>\n",
       "  </thead>\n",
       "  <tbody>\n",
       "    <tr>\n",
       "      <th>0</th>\n",
       "      <td>7369</td>\n",
       "      <td>SMITH</td>\n",
       "      <td>CLERK</td>\n",
       "      <td>7902.0</td>\n",
       "      <td>1980-12-17</td>\n",
       "      <td>800.0</td>\n",
       "      <td>NaN</td>\n",
       "      <td>20</td>\n",
       "    </tr>\n",
       "    <tr>\n",
       "      <th>1</th>\n",
       "      <td>7499</td>\n",
       "      <td>ALLEN</td>\n",
       "      <td>SALESMAN</td>\n",
       "      <td>7698.0</td>\n",
       "      <td>1981-02-20</td>\n",
       "      <td>1600.0</td>\n",
       "      <td>300.0</td>\n",
       "      <td>30</td>\n",
       "    </tr>\n",
       "    <tr>\n",
       "      <th>2</th>\n",
       "      <td>7521</td>\n",
       "      <td>WARD</td>\n",
       "      <td>SALESMAN</td>\n",
       "      <td>7698.0</td>\n",
       "      <td>1981-02-22</td>\n",
       "      <td>1250.0</td>\n",
       "      <td>500.0</td>\n",
       "      <td>30</td>\n",
       "    </tr>\n",
       "    <tr>\n",
       "      <th>3</th>\n",
       "      <td>7566</td>\n",
       "      <td>JONES</td>\n",
       "      <td>MANAGER</td>\n",
       "      <td>7839.0</td>\n",
       "      <td>1981-04-02</td>\n",
       "      <td>2975.0</td>\n",
       "      <td>NaN</td>\n",
       "      <td>20</td>\n",
       "    </tr>\n",
       "    <tr>\n",
       "      <th>4</th>\n",
       "      <td>7654</td>\n",
       "      <td>MARTIN</td>\n",
       "      <td>SALESMAN</td>\n",
       "      <td>7698.0</td>\n",
       "      <td>1981-09-28</td>\n",
       "      <td>1250.0</td>\n",
       "      <td>1400.0</td>\n",
       "      <td>30</td>\n",
       "    </tr>\n",
       "    <tr>\n",
       "      <th>5</th>\n",
       "      <td>7698</td>\n",
       "      <td>BLAKE</td>\n",
       "      <td>MANAGER</td>\n",
       "      <td>7839.0</td>\n",
       "      <td>1981-05-01</td>\n",
       "      <td>2850.0</td>\n",
       "      <td>NaN</td>\n",
       "      <td>30</td>\n",
       "    </tr>\n",
       "    <tr>\n",
       "      <th>6</th>\n",
       "      <td>7782</td>\n",
       "      <td>CLARK</td>\n",
       "      <td>MANAGER</td>\n",
       "      <td>7839.0</td>\n",
       "      <td>1981-06-09</td>\n",
       "      <td>2450.0</td>\n",
       "      <td>NaN</td>\n",
       "      <td>10</td>\n",
       "    </tr>\n",
       "    <tr>\n",
       "      <th>7</th>\n",
       "      <td>7788</td>\n",
       "      <td>SCOTT</td>\n",
       "      <td>ANALYST</td>\n",
       "      <td>7566.0</td>\n",
       "      <td>1982-12-09</td>\n",
       "      <td>3000.0</td>\n",
       "      <td>NaN</td>\n",
       "      <td>20</td>\n",
       "    </tr>\n",
       "    <tr>\n",
       "      <th>8</th>\n",
       "      <td>7839</td>\n",
       "      <td>KING</td>\n",
       "      <td>PRESIDENT</td>\n",
       "      <td>NaN</td>\n",
       "      <td>1981-11-17</td>\n",
       "      <td>5000.0</td>\n",
       "      <td>NaN</td>\n",
       "      <td>10</td>\n",
       "    </tr>\n",
       "    <tr>\n",
       "      <th>9</th>\n",
       "      <td>7844</td>\n",
       "      <td>TURNER</td>\n",
       "      <td>SALESMAN</td>\n",
       "      <td>7698.0</td>\n",
       "      <td>1981-09-08</td>\n",
       "      <td>1500.0</td>\n",
       "      <td>0.0</td>\n",
       "      <td>30</td>\n",
       "    </tr>\n",
       "    <tr>\n",
       "      <th>10</th>\n",
       "      <td>7876</td>\n",
       "      <td>ADAMS</td>\n",
       "      <td>CLERK</td>\n",
       "      <td>7788.0</td>\n",
       "      <td>1983-01-12</td>\n",
       "      <td>1100.0</td>\n",
       "      <td>NaN</td>\n",
       "      <td>20</td>\n",
       "    </tr>\n",
       "    <tr>\n",
       "      <th>11</th>\n",
       "      <td>7900</td>\n",
       "      <td>JAMES</td>\n",
       "      <td>CLERK</td>\n",
       "      <td>7698.0</td>\n",
       "      <td>1981-12-03</td>\n",
       "      <td>950.0</td>\n",
       "      <td>NaN</td>\n",
       "      <td>30</td>\n",
       "    </tr>\n",
       "    <tr>\n",
       "      <th>12</th>\n",
       "      <td>7902</td>\n",
       "      <td>FORD</td>\n",
       "      <td>ANALYST</td>\n",
       "      <td>7566.0</td>\n",
       "      <td>1981-12-03</td>\n",
       "      <td>3000.0</td>\n",
       "      <td>NaN</td>\n",
       "      <td>20</td>\n",
       "    </tr>\n",
       "    <tr>\n",
       "      <th>13</th>\n",
       "      <td>7934</td>\n",
       "      <td>MILLER</td>\n",
       "      <td>CLERK</td>\n",
       "      <td>7782.0</td>\n",
       "      <td>1982-01-23</td>\n",
       "      <td>1300.0</td>\n",
       "      <td>NaN</td>\n",
       "      <td>10</td>\n",
       "    </tr>\n",
       "  </tbody>\n",
       "</table>\n",
       "</div>"
      ],
      "text/plain": [
       "       0       1          2       3          4       5       6   7\n",
       "0   7369   SMITH      CLERK  7902.0 1980-12-17   800.0     NaN  20\n",
       "1   7499   ALLEN   SALESMAN  7698.0 1981-02-20  1600.0   300.0  30\n",
       "2   7521    WARD   SALESMAN  7698.0 1981-02-22  1250.0   500.0  30\n",
       "3   7566   JONES    MANAGER  7839.0 1981-04-02  2975.0     NaN  20\n",
       "4   7654  MARTIN   SALESMAN  7698.0 1981-09-28  1250.0  1400.0  30\n",
       "5   7698   BLAKE    MANAGER  7839.0 1981-05-01  2850.0     NaN  30\n",
       "6   7782   CLARK    MANAGER  7839.0 1981-06-09  2450.0     NaN  10\n",
       "7   7788   SCOTT    ANALYST  7566.0 1982-12-09  3000.0     NaN  20\n",
       "8   7839    KING  PRESIDENT     NaN 1981-11-17  5000.0     NaN  10\n",
       "9   7844  TURNER   SALESMAN  7698.0 1981-09-08  1500.0     0.0  30\n",
       "10  7876   ADAMS      CLERK  7788.0 1983-01-12  1100.0     NaN  20\n",
       "11  7900   JAMES      CLERK  7698.0 1981-12-03   950.0     NaN  30\n",
       "12  7902    FORD    ANALYST  7566.0 1981-12-03  3000.0     NaN  20\n",
       "13  7934  MILLER      CLERK  7782.0 1982-01-23  1300.0     NaN  10"
      ]
     },
     "execution_count": 61,
     "metadata": {},
     "output_type": "execute_result"
    }
   ],
   "source": [
    "# ▶ 데이터베이스 검색결과를 DataFrame으로 ◀\n",
    "import pandas as pd\n",
    "\n",
    "cursor.execute(\"SELECT * FROM EMP\")\n",
    "data = cursor.fetchall() # 튜플형식의 리스트로 출력\n",
    "data_df = pd.DataFrame(data) # 데이터프레임\n",
    "\n",
    "data_df"
   ]
  },
  {
   "cell_type": "code",
   "execution_count": 57,
   "id": "8410a5a3",
   "metadata": {},
   "outputs": [
    {
     "data": {
      "text/plain": [
       "[('EMPNO', <cx_Oracle.DbType DB_TYPE_NUMBER>, 5, None, 4, 0, 0),\n",
       " ('ENAME', <cx_Oracle.DbType DB_TYPE_VARCHAR>, 10, 10, None, None, 1),\n",
       " ('JOB', <cx_Oracle.DbType DB_TYPE_VARCHAR>, 9, 9, None, None, 1),\n",
       " ('MGR', <cx_Oracle.DbType DB_TYPE_NUMBER>, 5, None, 4, 0, 1),\n",
       " ('HIREDATE', <cx_Oracle.DbType DB_TYPE_DATE>, 23, None, None, None, 1),\n",
       " ('SAL', <cx_Oracle.DbType DB_TYPE_NUMBER>, 11, None, 7, 2, 1),\n",
       " ('COMM', <cx_Oracle.DbType DB_TYPE_NUMBER>, 11, None, 7, 2, 1),\n",
       " ('DEPTNO', <cx_Oracle.DbType DB_TYPE_NUMBER>, 3, None, 2, 0, 1)]"
      ]
     },
     "execution_count": 57,
     "metadata": {},
     "output_type": "execute_result"
    }
   ],
   "source": [
    "# ▶ 각 필드의 정보 (필드명, 타입, display_size, 정확도, scale, ...etc) ◀\n",
    "cursor.description"
   ]
  },
  {
   "cell_type": "code",
   "execution_count": 58,
   "id": "aaba4037",
   "metadata": {},
   "outputs": [
    {
     "data": {
      "text/plain": [
       "['EMPNO', 'ENAME', 'JOB', 'MGR', 'HIREDATE', 'SAL', 'COMM', 'DEPTNO']"
      ]
     },
     "execution_count": 58,
     "metadata": {},
     "output_type": "execute_result"
    }
   ],
   "source": [
    "[row[0] for row in cursor.description]"
   ]
  },
  {
   "cell_type": "code",
   "execution_count": 59,
   "id": "06d69840",
   "metadata": {},
   "outputs": [
    {
     "data": {
      "text/plain": [
       "RangeIndex(start=0, stop=8, step=1)"
      ]
     },
     "execution_count": 59,
     "metadata": {},
     "output_type": "execute_result"
    }
   ],
   "source": [
    "data_df.columns"
   ]
  },
  {
   "cell_type": "code",
   "execution_count": 62,
   "id": "cdc402d8",
   "metadata": {},
   "outputs": [
    {
     "data": {
      "text/html": [
       "<div>\n",
       "<style scoped>\n",
       "    .dataframe tbody tr th:only-of-type {\n",
       "        vertical-align: middle;\n",
       "    }\n",
       "\n",
       "    .dataframe tbody tr th {\n",
       "        vertical-align: top;\n",
       "    }\n",
       "\n",
       "    .dataframe thead th {\n",
       "        text-align: right;\n",
       "    }\n",
       "</style>\n",
       "<table border=\"1\" class=\"dataframe\">\n",
       "  <thead>\n",
       "    <tr style=\"text-align: right;\">\n",
       "      <th></th>\n",
       "      <th>EMPNO</th>\n",
       "      <th>ENAME</th>\n",
       "      <th>JOB</th>\n",
       "      <th>MGR</th>\n",
       "      <th>HIREDATE</th>\n",
       "      <th>SAL</th>\n",
       "      <th>COMM</th>\n",
       "      <th>DEPTNO</th>\n",
       "    </tr>\n",
       "  </thead>\n",
       "  <tbody>\n",
       "    <tr>\n",
       "      <th>0</th>\n",
       "      <td>7369</td>\n",
       "      <td>SMITH</td>\n",
       "      <td>CLERK</td>\n",
       "      <td>7902.0</td>\n",
       "      <td>1980-12-17</td>\n",
       "      <td>800.0</td>\n",
       "      <td>NaN</td>\n",
       "      <td>20</td>\n",
       "    </tr>\n",
       "    <tr>\n",
       "      <th>1</th>\n",
       "      <td>7499</td>\n",
       "      <td>ALLEN</td>\n",
       "      <td>SALESMAN</td>\n",
       "      <td>7698.0</td>\n",
       "      <td>1981-02-20</td>\n",
       "      <td>1600.0</td>\n",
       "      <td>300.0</td>\n",
       "      <td>30</td>\n",
       "    </tr>\n",
       "    <tr>\n",
       "      <th>2</th>\n",
       "      <td>7521</td>\n",
       "      <td>WARD</td>\n",
       "      <td>SALESMAN</td>\n",
       "      <td>7698.0</td>\n",
       "      <td>1981-02-22</td>\n",
       "      <td>1250.0</td>\n",
       "      <td>500.0</td>\n",
       "      <td>30</td>\n",
       "    </tr>\n",
       "    <tr>\n",
       "      <th>3</th>\n",
       "      <td>7566</td>\n",
       "      <td>JONES</td>\n",
       "      <td>MANAGER</td>\n",
       "      <td>7839.0</td>\n",
       "      <td>1981-04-02</td>\n",
       "      <td>2975.0</td>\n",
       "      <td>NaN</td>\n",
       "      <td>20</td>\n",
       "    </tr>\n",
       "    <tr>\n",
       "      <th>4</th>\n",
       "      <td>7654</td>\n",
       "      <td>MARTIN</td>\n",
       "      <td>SALESMAN</td>\n",
       "      <td>7698.0</td>\n",
       "      <td>1981-09-28</td>\n",
       "      <td>1250.0</td>\n",
       "      <td>1400.0</td>\n",
       "      <td>30</td>\n",
       "    </tr>\n",
       "    <tr>\n",
       "      <th>5</th>\n",
       "      <td>7698</td>\n",
       "      <td>BLAKE</td>\n",
       "      <td>MANAGER</td>\n",
       "      <td>7839.0</td>\n",
       "      <td>1981-05-01</td>\n",
       "      <td>2850.0</td>\n",
       "      <td>NaN</td>\n",
       "      <td>30</td>\n",
       "    </tr>\n",
       "    <tr>\n",
       "      <th>6</th>\n",
       "      <td>7782</td>\n",
       "      <td>CLARK</td>\n",
       "      <td>MANAGER</td>\n",
       "      <td>7839.0</td>\n",
       "      <td>1981-06-09</td>\n",
       "      <td>2450.0</td>\n",
       "      <td>NaN</td>\n",
       "      <td>10</td>\n",
       "    </tr>\n",
       "    <tr>\n",
       "      <th>7</th>\n",
       "      <td>7788</td>\n",
       "      <td>SCOTT</td>\n",
       "      <td>ANALYST</td>\n",
       "      <td>7566.0</td>\n",
       "      <td>1982-12-09</td>\n",
       "      <td>3000.0</td>\n",
       "      <td>NaN</td>\n",
       "      <td>20</td>\n",
       "    </tr>\n",
       "    <tr>\n",
       "      <th>8</th>\n",
       "      <td>7839</td>\n",
       "      <td>KING</td>\n",
       "      <td>PRESIDENT</td>\n",
       "      <td>NaN</td>\n",
       "      <td>1981-11-17</td>\n",
       "      <td>5000.0</td>\n",
       "      <td>NaN</td>\n",
       "      <td>10</td>\n",
       "    </tr>\n",
       "    <tr>\n",
       "      <th>9</th>\n",
       "      <td>7844</td>\n",
       "      <td>TURNER</td>\n",
       "      <td>SALESMAN</td>\n",
       "      <td>7698.0</td>\n",
       "      <td>1981-09-08</td>\n",
       "      <td>1500.0</td>\n",
       "      <td>0.0</td>\n",
       "      <td>30</td>\n",
       "    </tr>\n",
       "    <tr>\n",
       "      <th>10</th>\n",
       "      <td>7876</td>\n",
       "      <td>ADAMS</td>\n",
       "      <td>CLERK</td>\n",
       "      <td>7788.0</td>\n",
       "      <td>1983-01-12</td>\n",
       "      <td>1100.0</td>\n",
       "      <td>NaN</td>\n",
       "      <td>20</td>\n",
       "    </tr>\n",
       "    <tr>\n",
       "      <th>11</th>\n",
       "      <td>7900</td>\n",
       "      <td>JAMES</td>\n",
       "      <td>CLERK</td>\n",
       "      <td>7698.0</td>\n",
       "      <td>1981-12-03</td>\n",
       "      <td>950.0</td>\n",
       "      <td>NaN</td>\n",
       "      <td>30</td>\n",
       "    </tr>\n",
       "    <tr>\n",
       "      <th>12</th>\n",
       "      <td>7902</td>\n",
       "      <td>FORD</td>\n",
       "      <td>ANALYST</td>\n",
       "      <td>7566.0</td>\n",
       "      <td>1981-12-03</td>\n",
       "      <td>3000.0</td>\n",
       "      <td>NaN</td>\n",
       "      <td>20</td>\n",
       "    </tr>\n",
       "    <tr>\n",
       "      <th>13</th>\n",
       "      <td>7934</td>\n",
       "      <td>MILLER</td>\n",
       "      <td>CLERK</td>\n",
       "      <td>7782.0</td>\n",
       "      <td>1982-01-23</td>\n",
       "      <td>1300.0</td>\n",
       "      <td>NaN</td>\n",
       "      <td>10</td>\n",
       "    </tr>\n",
       "  </tbody>\n",
       "</table>\n",
       "</div>"
      ],
      "text/plain": [
       "    EMPNO   ENAME        JOB     MGR   HIREDATE     SAL    COMM  DEPTNO\n",
       "0    7369   SMITH      CLERK  7902.0 1980-12-17   800.0     NaN      20\n",
       "1    7499   ALLEN   SALESMAN  7698.0 1981-02-20  1600.0   300.0      30\n",
       "2    7521    WARD   SALESMAN  7698.0 1981-02-22  1250.0   500.0      30\n",
       "3    7566   JONES    MANAGER  7839.0 1981-04-02  2975.0     NaN      20\n",
       "4    7654  MARTIN   SALESMAN  7698.0 1981-09-28  1250.0  1400.0      30\n",
       "5    7698   BLAKE    MANAGER  7839.0 1981-05-01  2850.0     NaN      30\n",
       "6    7782   CLARK    MANAGER  7839.0 1981-06-09  2450.0     NaN      10\n",
       "7    7788   SCOTT    ANALYST  7566.0 1982-12-09  3000.0     NaN      20\n",
       "8    7839    KING  PRESIDENT     NaN 1981-11-17  5000.0     NaN      10\n",
       "9    7844  TURNER   SALESMAN  7698.0 1981-09-08  1500.0     0.0      30\n",
       "10   7876   ADAMS      CLERK  7788.0 1983-01-12  1100.0     NaN      20\n",
       "11   7900   JAMES      CLERK  7698.0 1981-12-03   950.0     NaN      30\n",
       "12   7902    FORD    ANALYST  7566.0 1981-12-03  3000.0     NaN      20\n",
       "13   7934  MILLER      CLERK  7782.0 1982-01-23  1300.0     NaN      10"
      ]
     },
     "execution_count": 62,
     "metadata": {},
     "output_type": "execute_result"
    }
   ],
   "source": [
    "data_df.columns = [row[0] for row in cursor.description]\n",
    "data_df"
   ]
  },
  {
   "cell_type": "code",
   "execution_count": 63,
   "id": "b5b9c03f",
   "metadata": {},
   "outputs": [
    {
     "data": {
      "text/html": [
       "<div>\n",
       "<style scoped>\n",
       "    .dataframe tbody tr th:only-of-type {\n",
       "        vertical-align: middle;\n",
       "    }\n",
       "\n",
       "    .dataframe tbody tr th {\n",
       "        vertical-align: top;\n",
       "    }\n",
       "\n",
       "    .dataframe thead th {\n",
       "        text-align: right;\n",
       "    }\n",
       "</style>\n",
       "<table border=\"1\" class=\"dataframe\">\n",
       "  <thead>\n",
       "    <tr style=\"text-align: right;\">\n",
       "      <th></th>\n",
       "      <th>EMPNO</th>\n",
       "      <th>ENAME</th>\n",
       "      <th>JOB</th>\n",
       "      <th>MGR</th>\n",
       "      <th>HIREDATE</th>\n",
       "      <th>SAL</th>\n",
       "      <th>COMM</th>\n",
       "      <th>DEPTNO</th>\n",
       "    </tr>\n",
       "  </thead>\n",
       "  <tbody>\n",
       "    <tr>\n",
       "      <th>0</th>\n",
       "      <td>7369</td>\n",
       "      <td>SMITH</td>\n",
       "      <td>CLERK</td>\n",
       "      <td>7902.0</td>\n",
       "      <td>1980-12-17</td>\n",
       "      <td>800.0</td>\n",
       "      <td>NaN</td>\n",
       "      <td>20</td>\n",
       "    </tr>\n",
       "    <tr>\n",
       "      <th>1</th>\n",
       "      <td>7499</td>\n",
       "      <td>ALLEN</td>\n",
       "      <td>SALESMAN</td>\n",
       "      <td>7698.0</td>\n",
       "      <td>1981-02-20</td>\n",
       "      <td>1600.0</td>\n",
       "      <td>300.0</td>\n",
       "      <td>30</td>\n",
       "    </tr>\n",
       "    <tr>\n",
       "      <th>2</th>\n",
       "      <td>7521</td>\n",
       "      <td>WARD</td>\n",
       "      <td>SALESMAN</td>\n",
       "      <td>7698.0</td>\n",
       "      <td>1981-02-22</td>\n",
       "      <td>1250.0</td>\n",
       "      <td>500.0</td>\n",
       "      <td>30</td>\n",
       "    </tr>\n",
       "    <tr>\n",
       "      <th>3</th>\n",
       "      <td>7566</td>\n",
       "      <td>JONES</td>\n",
       "      <td>MANAGER</td>\n",
       "      <td>7839.0</td>\n",
       "      <td>1981-04-02</td>\n",
       "      <td>2975.0</td>\n",
       "      <td>NaN</td>\n",
       "      <td>20</td>\n",
       "    </tr>\n",
       "    <tr>\n",
       "      <th>4</th>\n",
       "      <td>7654</td>\n",
       "      <td>MARTIN</td>\n",
       "      <td>SALESMAN</td>\n",
       "      <td>7698.0</td>\n",
       "      <td>1981-09-28</td>\n",
       "      <td>1250.0</td>\n",
       "      <td>1400.0</td>\n",
       "      <td>30</td>\n",
       "    </tr>\n",
       "  </tbody>\n",
       "</table>\n",
       "</div>"
      ],
      "text/plain": [
       "   EMPNO   ENAME       JOB     MGR   HIREDATE     SAL    COMM  DEPTNO\n",
       "0   7369   SMITH     CLERK  7902.0 1980-12-17   800.0     NaN      20\n",
       "1   7499   ALLEN  SALESMAN  7698.0 1981-02-20  1600.0   300.0      30\n",
       "2   7521    WARD  SALESMAN  7698.0 1981-02-22  1250.0   500.0      30\n",
       "3   7566   JONES   MANAGER  7839.0 1981-04-02  2975.0     NaN      20\n",
       "4   7654  MARTIN  SALESMAN  7698.0 1981-09-28  1250.0  1400.0      30"
      ]
     },
     "execution_count": 63,
     "metadata": {},
     "output_type": "execute_result"
    }
   ],
   "source": [
    "data_df.head()"
   ]
  },
  {
   "cell_type": "code",
   "execution_count": 64,
   "id": "0f51f615",
   "metadata": {},
   "outputs": [],
   "source": [
    "cursor.close()\n",
    "conn.close()"
   ]
  },
  {
   "cell_type": "markdown",
   "id": "ff4f2c51",
   "metadata": {},
   "source": [
    "# 연습문제"
   ]
  },
  {
   "cell_type": "code",
   "execution_count": null,
   "id": "2789af17",
   "metadata": {},
   "outputs": [],
   "source": [
    "# 문제풀이형 1. (4)\n",
    "# 문제풀이형 2. (2)"
   ]
  }
 ],
 "metadata": {
  "kernelspec": {
   "display_name": "Python 3",
   "language": "python",
   "name": "python3"
  },
  "language_info": {
   "codemirror_mode": {
    "name": "ipython",
    "version": 3
   },
   "file_extension": ".py",
   "mimetype": "text/x-python",
   "name": "python",
   "nbconvert_exporter": "python",
   "pygments_lexer": "ipython3",
   "version": "3.8.8"
  },
  "toc": {
   "base_numbering": 1,
   "nav_menu": {},
   "number_sections": false,
   "sideBar": true,
   "skip_h1_title": false,
   "title_cell": "Table of Contents",
   "title_sidebar": "Contents",
   "toc_cell": false,
   "toc_position": {
    "height": "calc(100% - 180px)",
    "left": "10px",
    "top": "150px",
    "width": "248px"
   },
   "toc_section_display": true,
   "toc_window_display": true
  },
  "varInspector": {
   "cols": {
    "lenName": 16,
    "lenType": 16,
    "lenVar": 40
   },
   "kernels_config": {
    "python": {
     "delete_cmd_postfix": "",
     "delete_cmd_prefix": "del ",
     "library": "var_list.py",
     "varRefreshCmd": "print(var_dic_list())"
    },
    "r": {
     "delete_cmd_postfix": ") ",
     "delete_cmd_prefix": "rm(",
     "library": "var_list.r",
     "varRefreshCmd": "cat(var_dic_list()) "
    }
   },
   "types_to_exclude": [
    "module",
    "function",
    "builtin_function_or_method",
    "instance",
    "_Feature"
   ],
   "window_display": false
  }
 },
 "nbformat": 4,
 "nbformat_minor": 5
}
