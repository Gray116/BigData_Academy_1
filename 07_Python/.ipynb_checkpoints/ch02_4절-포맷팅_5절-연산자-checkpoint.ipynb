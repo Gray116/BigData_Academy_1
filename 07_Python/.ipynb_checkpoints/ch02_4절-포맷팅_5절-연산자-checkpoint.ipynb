{
 "cells": [
  {
   "cell_type": "markdown",
   "id": "d4c570a8",
   "metadata": {
    "ExecuteTime": {
     "end_time": "2021-07-19T03:43:28.270812Z",
     "start_time": "2021-07-19T03:43:28.261818Z"
    }
   },
   "source": [
    "<b><font color = \"red\" size = \"6\">ch02. 자료형과 연산자</font></b>"
   ]
  },
  {
   "cell_type": "markdown",
   "id": "279dde7d",
   "metadata": {},
   "source": [
    "# 4절. 포맷팅\n",
    "* 포맷팅이란, 출력할 문자, 숫자, 날짜 데이터의 형식을 지정하는 것.\n",
    "* 변수와 인덱스를 결합해서 보기 좋은 형식의 새로운 텍스트를 만들때 사용한다."
   ]
  },
  {
   "cell_type": "markdown",
   "id": "46ae86b8",
   "metadata": {},
   "source": [
    "## 4.1 문자열에 형식 지정"
   ]
  },
  {
   "cell_type": "code",
   "execution_count": 3,
   "id": "9d2b5b3c",
   "metadata": {},
   "outputs": [
    {
     "name": "stdout",
     "output_type": "stream",
     "text": [
      "홍길동 님의 나이는 30 살입니다.\n"
     ]
    }
   ],
   "source": [
    "name = '홍길동'\n",
    "age = 30\n",
    "print(name, '님의 나이는', age, '살입니다.')\n",
    "# 변수와 텍스트를 번갈아 사용하여 가독성이 떨어진다.\n",
    "# 포맷팅 필요"
   ]
  },
  {
   "cell_type": "code",
   "execution_count": 7,
   "id": "ddeb67ba",
   "metadata": {},
   "outputs": [
    {
     "data": {
      "text/plain": [
       "'홍길동님의 나이는 30살입니다.'"
      ]
     },
     "execution_count": 7,
     "metadata": {},
     "output_type": "execute_result"
    }
   ],
   "source": [
    "# 이전 스타일\n",
    "# %s문자, %d:숫자(10진수 정수), %f:실수\n",
    "\"%s님의 나이는 %d살입니다.\"%(name, age)"
   ]
  },
  {
   "cell_type": "code",
   "execution_count": 6,
   "id": "3233ab6f",
   "metadata": {},
   "outputs": [
    {
     "data": {
      "text/plain": [
       "'홍길동님의 나이는 30살입니다.'"
      ]
     },
     "execution_count": 6,
     "metadata": {},
     "output_type": "execute_result"
    }
   ],
   "source": [
    "# 새로운 스타일\n",
    "\"{}님의 나이는 {}살입니다.\".format(name, age)"
   ]
  },
  {
   "cell_type": "code",
   "execution_count": 8,
   "id": "5261e6ca",
   "metadata": {},
   "outputs": [
    {
     "data": {
      "text/plain": [
       "'홍길동님의 나이는 30살입니다.'"
      ]
     },
     "execution_count": 8,
     "metadata": {},
     "output_type": "execute_result"
    }
   ],
   "source": [
    "\"{1}님의 나이는 {0}살입니다.\".format(age, name)"
   ]
  },
  {
   "cell_type": "markdown",
   "id": "e3412d30",
   "metadata": {},
   "source": [
    "## 4.2 format()함수 문법"
   ]
  },
  {
   "cell_type": "code",
   "execution_count": 10,
   "id": "12f6f7fa",
   "metadata": {},
   "outputs": [],
   "source": [
    "# \"{[인덱스]:[공백][정렬방법][자릿수][타입]}\".format(변수명, ...)                 "
   ]
  },
  {
   "cell_type": "code",
   "execution_count": null,
   "id": "9d42144f",
   "metadata": {},
   "outputs": [],
   "source": [
    "# 인덱스 : format함수안의 출력할 인수의 순서\n",
    "# 정렬방법 : '<' 기호 - 왼쪽 정렬, '<' 기호 - 오른쪽 정렬, '^' 기호 : 가운데 정렬\n",
    "# 자릿수 : 출력할 자릿수 지정. 변수보다 적은 자릿수가 지정되면 자릿수 무시\n",
    "# 타입 : d(10진수), o(8진수), x(16진수), b(3진수), f(실수), s(문자)"
   ]
  },
  {
   "cell_type": "code",
   "execution_count": 12,
   "id": "2ea9f25e",
   "metadata": {},
   "outputs": [
    {
     "name": "stdout",
     "output_type": "stream",
     "text": [
      "이름 입력 : 홍길동\n",
      "나이 입력 : 22\n",
      "22살 홍길동님은 22살이 참 좋은 나이라는 걸 알려나\n"
     ]
    }
   ],
   "source": [
    "name = input(\"이름 입력 : \")\n",
    "age = int(input(\"나이 입력 : \"))\n",
    "\n",
    "print(\"{1}살 {0}님은 {1}살이 참 좋은 나이라는 걸 알려나\".format(name, age)) # 인덱스를 입력안하면 자동으로 0,1,2 순으로 입력된다."
   ]
  },
  {
   "cell_type": "code",
   "execution_count": 16,
   "id": "88595a8d",
   "metadata": {},
   "outputs": [
    {
     "name": "stdout",
     "output_type": "stream",
     "text": [
      "출력 : [12345], [     12345], [12345]\n",
      "출력 : [Hello], [Hello     ], [Hello]\n"
     ]
    }
   ],
   "source": [
    "# 숫자의 경우 출력할 변수보다 큰 자릿수를 지정하면 기본적으로 오른쪽 정렬\n",
    "# 문자의 경우 출력할 변수보다 큰 자릿수를 지정하면 기본적으로 왼쪽 정렬\n",
    "# 변수보다 작은 자릿수를 지정하면 자릿수 지정이 무시되고 전부 출력된다.\n",
    "a = 12345\n",
    "s = 'Hello'\n",
    "\n",
    "print(\"출력 : [{0}], [{0: 10}], [{0:3}]\".format(a))\n",
    "print(\"출력 : [{0}], [{0:10}], [{0:3}]\".format(s))"
   ]
  },
  {
   "cell_type": "code",
   "execution_count": 20,
   "id": "92b333d7",
   "metadata": {},
   "outputs": [
    {
     "name": "stdout",
     "output_type": "stream",
     "text": [
      "출력 : [a     ], [    20], [  3   ]\n"
     ]
    }
   ],
   "source": [
    "# 정렬방법 : >, <, ^\n",
    "a, b, c = 10, 20, 3\n",
    "\n",
    "print(\"출력 : [{: <6x}], [{:>6d}], [{:^6d}]\".format(a, b, c))"
   ]
  },
  {
   "cell_type": "code",
   "execution_count": 24,
   "id": "2ebec8e1",
   "metadata": {},
   "outputs": [
    {
     "name": "stdout",
     "output_type": "stream",
     "text": [
      "출력 : [$$$$$$$$10], [Hello***************, [Hel_______]]\n"
     ]
    }
   ],
   "source": [
    "# \"인덱스 : 공백대체문자 정렬방법 자릿수 타입\".format()\n",
    "a = 10\n",
    "s = 'Hello'\n",
    "\n",
    "print(\"출력 : [{0:$>10}], [{1:*<20}, [{1:_<10.3}]]\".format(a, s))\n",
    "                                      # 10.3 전체 10자리 확보 변수 중 3자리만 출력"
   ]
  },
  {
   "cell_type": "code",
   "execution_count": 26,
   "id": "81b60d8d",
   "metadata": {},
   "outputs": [
    {
     "name": "stdout",
     "output_type": "stream",
     "text": [
      "$$$$10$$$$ / ***************Hello\n"
     ]
    }
   ],
   "source": [
    "# 공백대체문자를 지정할 때는 반드시 정렬방법을 표현해야 한다.\n",
    "# print(\"{:$10} / {:*20}\".format(a, s)) - 에러 발생\n",
    "print(\"{:$^10} / {:*>20}\".format(a, s))"
   ]
  },
  {
   "cell_type": "code",
   "execution_count": 34,
   "id": "ccbf89e1",
   "metadata": {},
   "outputs": [
    {
     "name": "stdout",
     "output_type": "stream",
     "text": [
      "출력 : [      -123], [      +123], [       123]\n",
      "출력 : [-      123], [       123], [       123]\n",
      "출력 : [-      123], [+      123], [       123]\n",
      "출력 : [-$$$$$$123], [+______123], [+★★★★★★123]\n"
     ]
    }
   ],
   "source": [
    "# 자릿수 앞에 '+'를 붙이면 부호를 붙여준다.\n",
    "# 자릿수 앞에 '='를 붙이면 부호가 자릿수의 맨 앞에 온다.\n",
    "# 자릿수 앞에 '=+'를 붙이면 부호가 자릿수 맨앞에 표시된다.\n",
    "# 자릿수 앞에 0을 채우면 빈자리에 0을 채운다.\n",
    "# 공백 대체문자는 '='앞에 입력한다.\n",
    "# 공백 대체문자와 자릿수 앞의 0을 중복해서 쓰면 자릿수 앞의 0은 무시된다.\n",
    "a, b = 123, -123\n",
    "\n",
    "print(\"출력 : [{:+10}], [{:+10}], [{:10}]\".format(b, a, a))\n",
    "print(\"출력 : [{:=10}], [{:=10}], [{:10}]\".format(b, a, a))\n",
    "print(\"출력 : [{:=10}], [{:=+10}], [{:10}]\".format(b, a, a))\n",
    "print(\"출력 : [{:$=10}], [{:_=+10}], [{:★=+010}]\".format(b, a, a))"
   ]
  },
  {
   "cell_type": "code",
   "execution_count": 1,
   "id": "e55368b3",
   "metadata": {},
   "outputs": [
    {
     "name": "stdout",
     "output_type": "stream",
     "text": [
      "a = [       2.8]\n"
     ]
    }
   ],
   "source": [
    "# 전체자리수.표현될자리수\n",
    "# ex. 10.2 - 열자리 확보 후 두자리만 표현\n",
    "a = 2.758\n",
    "s = \"Hello\"\n",
    "\n",
    "print(\"a = [{:>10.2}]\".format(a))"
   ]
  },
  {
   "cell_type": "code",
   "execution_count": 2,
   "id": "28274200",
   "metadata": {},
   "outputs": [
    {
     "name": "stdout",
     "output_type": "stream",
     "text": [
      "a = [      2.76]\n"
     ]
    }
   ],
   "source": [
    "# 전체자리수.표현될자리수f\n",
    "# ex. 10.2f - 열자리를 확보 후 소수점 두자리 출력\n",
    "print(\"a = [{:>10.2f}]\".format(a))"
   ]
  },
  {
   "cell_type": "code",
   "execution_count": 10,
   "id": "87e38f9a",
   "metadata": {},
   "outputs": [
    {
     "name": "stdout",
     "output_type": "stream",
     "text": [
      "          [01234567]\n",
      "10진수 :  [      15]\n",
      "8진수  :  [      17]\n",
      "2진수  :  [    1111]\n",
      "16진수 :  [       f]\n"
     ]
    }
   ],
   "source": [
    "a = 15\n",
    "print(\"          [01234567]\") # 8자리 확인\n",
    "print(\"10진수 :  [{:8d}]\".format(a))\n",
    "print(\"8진수  :  [{:8o}]\".format(a))\n",
    "print(\"2진수  :  [{:8b}]\".format(a))\n",
    "print(\"16진수 :  [{:8x}]\".format(a))"
   ]
  },
  {
   "cell_type": "code",
   "execution_count": 15,
   "id": "42afa28e",
   "metadata": {},
   "outputs": [
    {
     "name": "stdout",
     "output_type": "stream",
     "text": [
      "출력 : [     +2.79]\n",
      "출력 : [     +2.79]\n",
      "출력 : [     +2.79]\n"
     ]
    }
   ],
   "source": [
    "a = 2.785\n",
    "print(\"출력 : [{:>+10.3}]\".format(a)) # 소수점 세번째 자리 밑에서 반올림하여 나타낸다.\n",
    "print(\"출력 : [{:{}{}{}.{}}]\".format(a, '>', '+', 10, 3))\n",
    "print(\"출력 : [{:{dir}{sign}{width}.{precision}}]\".format(a,\n",
    "                                                       dir = '>',\n",
    "                                                       sign = '+',\n",
    "                                                       width = 10,\n",
    "                                                       precision = 3))"
   ]
  },
  {
   "cell_type": "markdown",
   "id": "e039a476",
   "metadata": {},
   "source": [
    "## 4.3 날짜 출력"
   ]
  },
  {
   "cell_type": "code",
   "execution_count": 21,
   "id": "7dc8fb12",
   "metadata": {},
   "outputs": [
    {
     "data": {
      "text/plain": [
       "datetime.datetime(2021, 7, 20, 13, 4)"
      ]
     },
     "execution_count": 21,
     "metadata": {},
     "output_type": "execute_result"
    }
   ],
   "source": [
    "# format 함수 이용\n",
    "# datetime이라는 모듈안에 있는 datetime이라는 함수 적용\n",
    "from datetime import datetime\n",
    "\n",
    "thatday = datetime(2021, 7, 20, 13, 4)\n",
    "thatday"
   ]
  },
  {
   "cell_type": "code",
   "execution_count": 22,
   "id": "beed80b7",
   "metadata": {},
   "outputs": [
    {
     "name": "stdout",
     "output_type": "stream",
     "text": [
      "2021년 07월 20일 13시 04분 00초\n",
      "2021년 07월 20일 PM 01시 04분 00초\n"
     ]
    }
   ],
   "source": [
    "print(\"{:%Y년 %m월 %d일 %H시 %M분 %S초}\".format(thatday))\n",
    "print(\"{:%Y년 %m월 %d일 %p %I시 %M분 %S초}\".format(thatday))"
   ]
  },
  {
   "cell_type": "code",
   "execution_count": 24,
   "id": "1261c285",
   "metadata": {},
   "outputs": [
    {
     "data": {
      "text/plain": [
       "'2021년 07월 20일 10시 11분 45초'"
      ]
     },
     "execution_count": 24,
     "metadata": {},
     "output_type": "execute_result"
    }
   ],
   "source": [
    "# 날짜를 문자열로 출력하기 위해 format 함수보다는 strftiem() 함수를 이용한다.\n",
    "# time 모듈안의 strftime 함수 적용\n",
    "from time import strftime\n",
    "\n",
    "strftime(\"%Y년 %m월 %d일 %H시 %M분 %S초\".format(thatday))"
   ]
  },
  {
   "cell_type": "code",
   "execution_count": 26,
   "id": "a7beb236",
   "metadata": {},
   "outputs": [
    {
     "data": {
      "text/plain": [
       "time.struct_time(tm_year=2021, tm_mon=7, tm_mday=20, tm_hour=10, tm_min=17, tm_sec=31, tm_wday=1, tm_yday=201, tm_isdst=0)"
      ]
     },
     "execution_count": 26,
     "metadata": {},
     "output_type": "execute_result"
    }
   ],
   "source": [
    "from time import localtime\n",
    "\n",
    "now = localtime()\n",
    "now"
   ]
  },
  {
   "cell_type": "code",
   "execution_count": 27,
   "id": "4bd37f21",
   "metadata": {},
   "outputs": [
    {
     "data": {
      "text/plain": [
       "'2021년 07월 20일 10시 18분 56초'"
      ]
     },
     "execution_count": 27,
     "metadata": {},
     "output_type": "execute_result"
    }
   ],
   "source": [
    "# print(\"%Y년 %m월 %d일 %H시 %M분 %S초\".format(now)) - 에러 발생\n",
    "\n",
    "strftime(\"%Y년 %m월 %d일 %H시 %M분 %S초\".format(now))"
   ]
  },
  {
   "cell_type": "code",
   "execution_count": 1,
   "id": "5d62ea51",
   "metadata": {},
   "outputs": [
    {
     "name": "stdout",
     "output_type": "stream",
     "text": [
      "Hello, $$$$$$$$$$$$$$$$$홍길동. You are 30 years old.\n",
      "Hello, 홍길동, You are 30 years old.\n",
      "Hello, 홍길동. You are 30 years old.\n"
     ]
    }
   ],
   "source": [
    "name = '홍길동'\n",
    "age = 30\n",
    "\n",
    "print(\"Hello, {:$>20s}. You are {} years old.\".format(name, age)) # 85% 정도로 많이 쓰인다.\n",
    "print(\"Hello, %s, You are %d years old.\"% (name, age)) # 10%정도로 쓰인다.\n",
    "print(f'Hello, {name}. You are {age} years old.') # 정말 안쓰임"
   ]
  },
  {
   "cell_type": "markdown",
   "id": "8902e141",
   "metadata": {},
   "source": [
    "# 5절. 연산자"
   ]
  },
  {
   "cell_type": "markdown",
   "id": "bad83704",
   "metadata": {},
   "source": [
    "## 5.1 산술연산자\n",
    "* '+', '-', '*', '/', '//(몫)', '**(제곱)'"
   ]
  },
  {
   "cell_type": "markdown",
   "id": "d6d3139e",
   "metadata": {},
   "source": [
    "## 5.2 할당연산자\n",
    "* '=', '+=', '-=', '//=', ..."
   ]
  },
  {
   "cell_type": "code",
   "execution_count": 2,
   "id": "84875d2d",
   "metadata": {},
   "outputs": [
    {
     "data": {
      "text/plain": [
       "5"
      ]
     },
     "execution_count": 2,
     "metadata": {},
     "output_type": "execute_result"
    }
   ],
   "source": [
    "a = 10\n",
    "a //= 2 # a = a//2\n",
    "a"
   ]
  },
  {
   "cell_type": "markdown",
   "id": "9c7c5977",
   "metadata": {},
   "source": [
    "## 5.3 논리연산자\n",
    "* '&', '|', 'and', 'or', 'not'"
   ]
  },
  {
   "cell_type": "code",
   "execution_count": 5,
   "id": "952ad6e5",
   "metadata": {},
   "outputs": [
    {
     "name": "stdout",
     "output_type": "stream",
     "text": [
      "True\n",
      "0\n",
      "True\n"
     ]
    }
   ],
   "source": [
    "print((10 > 3) & (10 > 5))\n",
    "print(12 & 1) # 비트연산자 12 = 1100(2진수)\n",
    "              # 비트연산자 1  = 0001(2진수)\n",
    "print(5 < 8 < 10 < 1000) # 논리연산자는 다수의 항 가능"
   ]
  },
  {
   "cell_type": "code",
   "execution_count": 6,
   "id": "60fb10be",
   "metadata": {},
   "outputs": [
    {
     "name": "stdout",
     "output_type": "stream",
     "text": [
      "10\n",
      "0\n"
     ]
    }
   ],
   "source": [
    "# and 연산자 : 거짓으로 판별되는 첫번째 항의 결과 반환\n",
    "#            : 모든 항이 참이면 마지막 항의 결과 반환\n",
    "print(True and 3 and 10) # True = 1\n",
    "print(True & 3 & 10) # 1) True & 3 = 1\n",
    "                      # 2) 1 & 10 = 0001 & 1010 = 0"
   ]
  },
  {
   "cell_type": "code",
   "execution_count": 7,
   "id": "d2d9cabf",
   "metadata": {},
   "outputs": [
    {
     "name": "stdout",
     "output_type": "stream",
     "text": [
      "0.0\n"
     ]
    }
   ],
   "source": [
    "# or 연산자 : 참으로 판별되는 첫번째 항의 결과 반환\n",
    "#             모든 항이 거짓이면 마지막 항의 결과 반환\n",
    "result = False or 0 or \"\" or 0.0\n",
    "\n",
    "print(result)"
   ]
  },
  {
   "cell_type": "code",
   "execution_count": 10,
   "id": "459a9996",
   "metadata": {},
   "outputs": [
    {
     "name": "stdout",
     "output_type": "stream",
     "text": [
      "3\n",
      "11\n"
     ]
    }
   ],
   "source": [
    "result = False or 3 or 10\n",
    "print(result)\n",
    "\n",
    "result = False | 3 | 10 # 1) False | 3 = 3\n",
    "                         # 2) 3 | 10 = 0011 | 1010 = 1011\n",
    "print(result)"
   ]
  },
  {
   "cell_type": "code",
   "execution_count": 11,
   "id": "94e008f1",
   "metadata": {},
   "outputs": [
    {
     "name": "stdout",
     "output_type": "stream",
     "text": [
      "False\n"
     ]
    }
   ],
   "source": [
    "print((10>3) & (10>5))\n",
    "print(10>3 & 10>5) # 비교연산자보다 논리연산자가 우선순위가 높다.\n",
    "                    # 0011 & 1010 = 0010\n",
    "                    # print(10 > 2 > 5)"
   ]
  },
  {
   "cell_type": "code",
   "execution_count": 12,
   "id": "43ee3993",
   "metadata": {},
   "outputs": [
    {
     "name": "stdout",
     "output_type": "stream",
     "text": [
      "빈 스트링은 False\n"
     ]
    }
   ],
   "source": [
    "if '':\n",
    "    print('빈 스트링은 True')\n",
    "else:\n",
    "    print('빈 스트링은 False')"
   ]
  },
  {
   "cell_type": "code",
   "execution_count": 13,
   "id": "cf631512",
   "metadata": {},
   "outputs": [
    {
     "ename": "TypeError",
     "evalue": "unsupported operand type(s) for |: 'bool' and 'str'",
     "output_type": "error",
     "traceback": [
      "\u001b[1;31m---------------------------------------------------------------------------\u001b[0m",
      "\u001b[1;31mTypeError\u001b[0m                                 Traceback (most recent call last)",
      "\u001b[1;32m<ipython-input-13-720a0f9399ef>\u001b[0m in \u001b[0;36m<module>\u001b[1;34m\u001b[0m\n\u001b[0;32m      1\u001b[0m \u001b[1;31m# 논리연산자에 문자열이 오면 에러\u001b[0m\u001b[1;33m\u001b[0m\u001b[1;33m\u001b[0m\u001b[1;33m\u001b[0m\u001b[0m\n\u001b[1;32m----> 2\u001b[1;33m \u001b[1;32mTrue\u001b[0m \u001b[1;33m|\u001b[0m \u001b[1;34m''\u001b[0m\u001b[1;33m\u001b[0m\u001b[1;33m\u001b[0m\u001b[0m\n\u001b[0m",
      "\u001b[1;31mTypeError\u001b[0m: unsupported operand type(s) for |: 'bool' and 'str'"
     ]
    }
   ],
   "source": [
    "# 논리연산자에 문자열이 오면 에러 발생\n",
    "True | ''"
   ]
  },
  {
   "cell_type": "code",
   "execution_count": 14,
   "id": "43379297",
   "metadata": {},
   "outputs": [
    {
     "data": {
      "text/plain": [
       "True"
      ]
     },
     "execution_count": 14,
     "metadata": {},
     "output_type": "execute_result"
    }
   ],
   "source": [
    "True | bool('')"
   ]
  },
  {
   "cell_type": "code",
   "execution_count": 18,
   "id": "06e93ca7",
   "metadata": {},
   "outputs": [
    {
     "data": {
      "text/plain": [
       "False"
      ]
     },
     "execution_count": 18,
     "metadata": {},
     "output_type": "execute_result"
    }
   ],
   "source": [
    "# 논리 반전은 !가 아니고 not이다\n",
    "not True"
   ]
  },
  {
   "cell_type": "code",
   "execution_count": 17,
   "id": "3fce49a2",
   "metadata": {},
   "outputs": [
    {
     "data": {
      "text/plain": [
       "True"
      ]
     },
     "execution_count": 17,
     "metadata": {},
     "output_type": "execute_result"
    }
   ],
   "source": [
    "not False"
   ]
  },
  {
   "cell_type": "code",
   "execution_count": 19,
   "id": "f141529f",
   "metadata": {
    "scrolled": true
   },
   "outputs": [
    {
     "name": "stdout",
     "output_type": "stream",
     "text": [
      "a와 b는 다르다\n"
     ]
    }
   ],
   "source": [
    "a, b = 15, 16\n",
    "if a!=b:\n",
    "    print('a와 b는 다르다')"
   ]
  },
  {
   "cell_type": "markdown",
   "id": "f0a3f947",
   "metadata": {},
   "source": [
    "## 5.4 비교연산자"
   ]
  },
  {
   "cell_type": "code",
   "execution_count": 20,
   "id": "c8b6a385",
   "metadata": {},
   "outputs": [
    {
     "data": {
      "text/plain": [
       "True"
      ]
     },
     "execution_count": 20,
     "metadata": {},
     "output_type": "execute_result"
    }
   ],
   "source": [
    "# 문자는 ASCII코드 순으로 비교\n",
    "# 특수문자 < 숫자,문자 < 대문자 < 소문자\n",
    "'아' < '하'"
   ]
  },
  {
   "cell_type": "code",
   "execution_count": 21,
   "id": "0288dc10",
   "metadata": {},
   "outputs": [
    {
     "data": {
      "text/plain": [
       "True"
      ]
     },
     "execution_count": 21,
     "metadata": {},
     "output_type": "execute_result"
    }
   ],
   "source": [
    "'*' < '1' < 'A' < 'a'"
   ]
  },
  {
   "cell_type": "markdown",
   "id": "23f5697a",
   "metadata": {},
   "source": [
    "## 5.5 비트연산자"
   ]
  },
  {
   "cell_type": "code",
   "execution_count": null,
   "id": "4e593a14",
   "metadata": {},
   "outputs": [],
   "source": [
    "a = '''\n",
    "x y x&y x|y x^y(xor)\n",
    "0 0  1   0   0\n",
    "0 1  0   1   1\n",
    "1 0  0   1   1\n",
    "1 1  1   0   0\n",
    "'''"
   ]
  },
  {
   "cell_type": "code",
   "execution_count": 27,
   "id": "94f52d1a",
   "metadata": {},
   "outputs": [
    {
     "name": "stdout",
     "output_type": "stream",
     "text": [
      "00001111, 15\n",
      "00000010, 2\n",
      "00001111, 15\n",
      "00000010, 2\n",
      "00001101, 13\n"
     ]
    }
   ],
   "source": [
    "a = 15\n",
    "b = 2\n",
    "\n",
    "print(\"{0:08b}, {0}\".format(a)) # 0000 1111, 15\n",
    "print(\"{0:08b}, {0}\".format(b)) # 0000 0010, 2\n",
    "\n",
    "print(\"{0:08b}, {0}\".format(a|b)) # 0000 1111, 15\n",
    "print(\"{0:08b}, {0}\".format(a&b)) # 0000 0010, 2\n",
    "print(\"{0:08b}, {0}\".format(a^b)) # 0000 1101, 13"
   ]
  },
  {
   "cell_type": "code",
   "execution_count": 28,
   "id": "cb310b84",
   "metadata": {},
   "outputs": [
    {
     "name": "stdout",
     "output_type": "stream",
     "text": [
      "-16\n"
     ]
    }
   ],
   "source": [
    "# not의 비트 연산자 : ~\n",
    "a = 15 # 00000000 00001111\n",
    "print(~a) # 11111111 11110000"
   ]
  },
  {
   "cell_type": "markdown",
   "id": "b34a1e46",
   "metadata": {},
   "source": [
    "## 5.6 isinstance"
   ]
  },
  {
   "cell_type": "code",
   "execution_count": 29,
   "id": "44fff0e4",
   "metadata": {},
   "outputs": [
    {
     "data": {
      "text/plain": [
       "False"
      ]
     },
     "execution_count": 29,
     "metadata": {},
     "output_type": "execute_result"
    }
   ],
   "source": [
    "isinstance(a, float) # a 변수가 float형인지 확인"
   ]
  }
 ],
 "metadata": {
  "kernelspec": {
   "display_name": "Python 3",
   "language": "python",
   "name": "python3"
  },
  "language_info": {
   "codemirror_mode": {
    "name": "ipython",
    "version": 3
   },
   "file_extension": ".py",
   "mimetype": "text/x-python",
   "name": "python",
   "nbconvert_exporter": "python",
   "pygments_lexer": "ipython3",
   "version": "3.8.8"
  },
  "toc": {
   "base_numbering": 1,
   "nav_menu": {},
   "number_sections": false,
   "sideBar": true,
   "skip_h1_title": false,
   "title_cell": "Table of Contents",
   "title_sidebar": "Contents",
   "toc_cell": false,
   "toc_position": {
    "height": "calc(100% - 180px)",
    "left": "10px",
    "top": "150px",
    "width": "247px"
   },
   "toc_section_display": true,
   "toc_window_display": true
  },
  "varInspector": {
   "cols": {
    "lenName": 16,
    "lenType": 16,
    "lenVar": 40
   },
   "kernels_config": {
    "python": {
     "delete_cmd_postfix": "",
     "delete_cmd_prefix": "del ",
     "library": "var_list.py",
     "varRefreshCmd": "print(var_dic_list())"
    },
    "r": {
     "delete_cmd_postfix": ") ",
     "delete_cmd_prefix": "rm(",
     "library": "var_list.r",
     "varRefreshCmd": "cat(var_dic_list()) "
    }
   },
   "position": {
    "height": "804px",
    "left": "1545px",
    "right": "20px",
    "top": "119px",
    "width": "350px"
   },
   "types_to_exclude": [
    "module",
    "function",
    "builtin_function_or_method",
    "instance",
    "_Feature"
   ],
   "window_display": true
  }
 },
 "nbformat": 4,
 "nbformat_minor": 5
}
