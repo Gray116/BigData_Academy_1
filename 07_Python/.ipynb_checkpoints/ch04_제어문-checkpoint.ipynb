{
 "cells": [
  {
   "cell_type": "markdown",
   "id": "20cae52a",
   "metadata": {},
   "source": [
    "<b><font color = \"red\" size = \"6\">ch04. 제어문</font></b>\n",
    "- if문\n",
    "- for-in문\n",
    "- while문\n",
    "- 중첩가능\n",
    "- 중첩루프 탈출"
   ]
  },
  {
   "cell_type": "markdown",
   "id": "8a3ce2b5",
   "metadata": {},
   "source": [
    "# 1절. 조건문(if)"
   ]
  },
  {
   "cell_type": "code",
   "execution_count": 4,
   "id": "479117b4",
   "metadata": {},
   "outputs": [
    {
     "name": "stdout",
     "output_type": "stream",
     "text": [
      "Enter your score > 90\n",
      "참 잘했어요\n",
      "다음에도 기대할께요\n",
      "점수를 입력받아 잘한 사람에게 메세지 출력하기\n"
     ]
    }
   ],
   "source": [
    "# 점수를 입력받아 기준에 따라 문장 출력\n",
    "score = int(input('Enter your score > '))\n",
    "\n",
    "if score >= 90:\n",
    "    print('참 잘했어요')\n",
    "    print('다음에도 기대할께요')\n",
    "else:\n",
    "    print('분발하세요')\n",
    "    \n",
    "print('점수를 입력받아 잘한 사람에게 메세지 출력하기')"
   ]
  },
  {
   "cell_type": "code",
   "execution_count": 6,
   "id": "f69c388b",
   "metadata": {},
   "outputs": [
    {
     "name": "stdout",
     "output_type": "stream",
     "text": [
      "Enter your score > 85\n",
      "입력하신 점수는 85점이고, B등급입니다.\n"
     ]
    }
   ],
   "source": [
    "# 점수를 입력받아 기준에 따라 학점 출력 (A~F or 유효하지 않는 점수)\n",
    "score = int(input('Enter your score > '))\n",
    "\n",
    "if 90 <= score <= 100:\n",
    "    grade = 'A'\n",
    "elif 80 <= score < 90:\n",
    "    grade = 'B'\n",
    "elif 70 <= score < 80:\n",
    "    grade = 'C'\n",
    "elif 60 <= score < 70:\n",
    "    grade = 'C'\n",
    "elif 50 <= score < 60:\n",
    "    grade = 'C'\n",
    "else:\n",
    "    grade = '유효하지 않는 점수'\n",
    "    \n",
    "print(\"입력하신 점수는 {}점이고, {}등급입니다.\".format(score, grade))"
   ]
  },
  {
   "cell_type": "markdown",
   "id": "22bcedfe",
   "metadata": {},
   "source": [
    "# 2절. 반복문"
   ]
  },
  {
   "cell_type": "markdown",
   "id": "41aee423",
   "metadata": {},
   "source": [
    "## 2.1 for-in문\n",
    "```\n",
    "for 변수 in 나열가능한자료:\n",
    "    반복할 문장1\n",
    "    반복할 문장2\n",
    "else(선택사항):\n",
    "    변수에 값이 할당되지 않은 경우, 한번 실행할 문장\n",
    "```"
   ]
  },
  {
   "cell_type": "code",
   "execution_count": 2,
   "id": "6e5e2566",
   "metadata": {},
   "outputs": [
    {
     "name": "stdout",
     "output_type": "stream",
     "text": [
      "1\t3\t5\t7\t9\t\n",
      "DONE\n",
      "END\n"
     ]
    }
   ],
   "source": [
    "for i in range(1, 10, 2):\n",
    "    print(i, end = '\\t')\n",
    "else:\n",
    "    print('\\nDONE')\n",
    "print(\"END\")"
   ]
  },
  {
   "cell_type": "markdown",
   "id": "f3647e56",
   "metadata": {},
   "source": [
    "## 2.2 while문\n",
    "```\n",
    "while 조건:\n",
    "    반복할 문장1\n",
    "    반복할 문장2\n",
    "else(선택사항):\n",
    "    조건이 거짓일 경우 한번 실행할 문장\n",
    "```"
   ]
  },
  {
   "cell_type": "code",
   "execution_count": 3,
   "id": "3b196efb",
   "metadata": {},
   "outputs": [
    {
     "name": "stdout",
     "output_type": "stream",
     "text": [
      "1~100까지 짝수의 합은 2550\n"
     ]
    }
   ],
   "source": [
    "# 1~100까지 짝수의 합을 계산하고 출력하기\n",
    "i = 1\n",
    "sum = 0\n",
    "\n",
    "while i <= 100:\n",
    "    if(i%2 == 0):\n",
    "        sum += i\n",
    "    i += 1\n",
    "else:\n",
    "    pass # 아무것도 하지말고 넘어가!\n",
    "#     print('1~100까지 짝수의 합은', sum)\n",
    "\n",
    "\n",
    "print('1~100까지 짝수의 합은', sum)"
   ]
  },
  {
   "cell_type": "markdown",
   "id": "b7f2f701",
   "metadata": {},
   "source": [
    "## 2.3 break, continue"
   ]
  },
  {
   "cell_type": "code",
   "execution_count": 7,
   "id": "e85a1c03",
   "metadata": {},
   "outputs": [
    {
     "data": {
      "text/plain": [
       "66"
      ]
     },
     "execution_count": 7,
     "metadata": {},
     "output_type": "execute_result"
    }
   ],
   "source": [
    "# 숫자 찾기 게임\n",
    "'''\n",
    "1~100 사이의 정수를 맞추는 프로그램을 구현하시오.\n",
    "(프로그램 안에서 임의의 숫자가 만들어지고, 그 숫자를 맞추도록 합니다.)\n",
    "\n",
    "방법1. 숫자가 틀리면, UP, DOWN을 알려주고, 숫자를 맞추면 프로그램 종료\n",
    "\n",
    "방법2. 숫자가 틀리면, min값 ~ max값 사이의 수라고 알려주고, 숫자를 맞추면 프로그램 종료\n",
    "'''\n",
    "import random\n",
    "# random.seed(21)\n",
    "random.randint(1, 100)"
   ]
  },
  {
   "cell_type": "code",
   "execution_count": 8,
   "id": "05c08f15",
   "metadata": {},
   "outputs": [
    {
     "name": "stdout",
     "output_type": "stream",
     "text": [
      "1~100사이의 수를 맞춰보세요55\n",
      "입력된 수보다 DOWN\n",
      "1~100사이의 수를 맞춰보세요37\n",
      "입력된 수보다 UP\n",
      "1~100사이의 수를 맞춰보세요41\n",
      "입력된 수보다 UP\n",
      "1~100사이의 수를 맞춰보세요48\n",
      "입력된 수보다 DOWN\n",
      "1~100사이의 수를 맞춰보세요44\n",
      "입력된 수보다 UP\n",
      "1~100사이의 수를 맞춰보세요46\n",
      "입력된 수보다 UP\n",
      "1~100사이의 수를 맞춰보세요45\n",
      "입력된 수보다 UP\n",
      "1~100사이의 수를 맞춰보세요47\n",
      "맞춘 숫자 : 47\n"
     ]
    }
   ],
   "source": [
    "# 방법1\n",
    "import random\n",
    "randomNum = random.randint(1, 100)\n",
    "inputNum = 0\n",
    "\n",
    "while (randomNum != inputNum):\n",
    "    inputNum = int(input('1~100사이의 수를 맞춰보세요'))\n",
    "    if randomNum < inputNum:\n",
    "        print('입력된 수보다 DOWN')\n",
    "    elif randomNum > inputNum:\n",
    "        print('입력된 수보다 UP')\n",
    "    else:\n",
    "        print()\n",
    "        print('맞춘 숫자 : {}'.format(randomNum))"
   ]
  },
  {
   "cell_type": "code",
   "execution_count": 3,
   "id": "0134208f",
   "metadata": {},
   "outputs": [
    {
     "name": "stdout",
     "output_type": "stream",
     "text": [
      "1 ~ 100사이의 수를 맞춰봐 : 55\n",
      "1 ~ 54사이의 수를 맞춰봐 : 25\n",
      "1 ~ 24사이의 수를 맞춰봐 : 4\n",
      "5 ~ 24사이의 수를 맞춰봐 : 15\n",
      "정답\n"
     ]
    }
   ],
   "source": [
    "# 방법2\n",
    "import random\n",
    "randomNum = random.randint(1, 100)\n",
    "inputNum = 0\n",
    "min = 1\n",
    "max = 100\n",
    "\n",
    "while True :\n",
    "    print(\"{} ~ {}사이의 수를 맞춰봐\".format(min, max), end=' : ')\n",
    "    inputNum = int(input())\n",
    "    if randomNum < inputNum:\n",
    "        max = inputNum - 1\n",
    "    elif randomNum > inputNum:\n",
    "        min = inputNum + 1\n",
    "    else:\n",
    "        break\n",
    "\n",
    "print(\"\\n정답\")"
   ]
  },
  {
   "cell_type": "markdown",
   "id": "3f0897d6",
   "metadata": {},
   "source": [
    "# 3절. 중첩루프\n",
    "- 반복문 안의 반복문"
   ]
  },
  {
   "cell_type": "markdown",
   "id": "0eb029b8",
   "metadata": {},
   "source": [
    "# 4절. 중첩루프 탈출"
   ]
  },
  {
   "cell_type": "code",
   "execution_count": 4,
   "id": "8bc9fa91",
   "metadata": {},
   "outputs": [
    {
     "name": "stdout",
     "output_type": "stream",
     "text": [
      "0 1\n",
      "0 2\n",
      "2 1\n"
     ]
    }
   ],
   "source": [
    "# 안쪽 반복문을 빠져나오는 break\n",
    "for a in range(0,3): # a는 0부터 2까지\n",
    "    for b in range(1,3): # b는 1부터 2까지\n",
    "        if a == b:\n",
    "            break;\n",
    "        print(a, b)"
   ]
  },
  {
   "cell_type": "code",
   "execution_count": 5,
   "id": "4ff28b37",
   "metadata": {},
   "outputs": [
    {
     "name": "stdout",
     "output_type": "stream",
     "text": [
      "0 1\n",
      "0 2\n"
     ]
    }
   ],
   "source": [
    "# break를 만나면 바깥쪽 반복문을 탈출하고 싶을 때\n",
    "# 방법1. 플래그 변수 이용\n",
    "break_out_flag = False\n",
    "\n",
    "for a in range(3): # a = 0, 1, 2\n",
    "    for b in range(1,3): # b = 1, 2\n",
    "        if a == b:\n",
    "            break_out_flag = True\n",
    "            break\n",
    "        print(a, b)\n",
    "    if break_out_flag:\n",
    "        break"
   ]
  },
  {
   "cell_type": "code",
   "execution_count": 6,
   "id": "52dcdf45",
   "metadata": {},
   "outputs": [],
   "source": [
    "# 방법2. 예외 처리(Exception) 이용\n",
    "class BreakOutLoop(Exception):\n",
    "    pass # 아무것도 추가하지 않겠다"
   ]
  },
  {
   "cell_type": "code",
   "execution_count": 8,
   "id": "e534c015",
   "metadata": {},
   "outputs": [
    {
     "name": "stdout",
     "output_type": "stream",
     "text": [
      "0 1\n",
      "0 2\n",
      "a와 b가 같아지면 예외가 발생하고 예외 메세지가 출력되고 끝\n"
     ]
    }
   ],
   "source": [
    "try:\n",
    "    for a in range(3): # a = 0, 1, 2\n",
    "        for b in range(1, 3): # b = 1, 2\n",
    "            if a == b:\n",
    "                raise BreakOutLoop\n",
    "            print(a, b)\n",
    "except BreakOutLoop:\n",
    "    print('a와 b가 같아지면 예외가 발생하고 예외 메세지가 출력되고 끝')"
   ]
  },
  {
   "cell_type": "markdown",
   "id": "4e2c0911",
   "metadata": {},
   "source": [
    "# 연습문제"
   ]
  },
  {
   "cell_type": "code",
   "execution_count": 9,
   "id": "445cf7bc",
   "metadata": {},
   "outputs": [
    {
     "name": "stdout",
     "output_type": "stream",
     "text": [
      "165\n"
     ]
    }
   ],
   "source": [
    "# 1. 다음 코드는 1부터 30까지(30포함) 자연수 중에서 3의 배수의 총 합을 출력하는 프로그램입니다.\n",
    "# 빈칸의 코드를 완성하시오.\n",
    "sum = 0\n",
    "\n",
    "for i in range(1, 31):\n",
    "    if (i%3 == 0):\n",
    "        sum += i\n",
    "    else:\n",
    "        pass\n",
    "print(sum)"
   ]
  },
  {
   "cell_type": "code",
   "execution_count": 10,
   "id": "7ab66b67",
   "metadata": {},
   "outputs": [
    {
     "name": "stdout",
     "output_type": "stream",
     "text": [
      "1 3 5 7 9 "
     ]
    }
   ],
   "source": [
    "# 2. 다음 코드의 실행결과가 “1 3 5 7 9”가 되도록 빈칸을 완성하시오\n",
    "num = 0\n",
    "\n",
    "while num <= 10:\n",
    "    if num%2 == 1:\n",
    "        print(num, end = ' ')\n",
    "    num += 1"
   ]
  },
  {
   "cell_type": "code",
   "execution_count": 23,
   "id": "7afd8c5f",
   "metadata": {},
   "outputs": [
    {
     "name": "stdout",
     "output_type": "stream",
     "text": [
      "1 2 3 \n",
      "4 5 6 7 \n",
      "8 9 \n"
     ]
    }
   ],
   "source": [
    "# 3. 다음 2차원 리스트의 모든 값을 출력하는 코드입니다. 빈칸을 완성하시오.\n",
    "list2d = [[1,2,3], [4,5,6,7], [8,9]]\n",
    "\n",
    "for row in list2d:\n",
    "    for data in row:\n",
    "        print(data, end = ' ')\n",
    "    print()"
   ]
  },
  {
   "cell_type": "code",
   "execution_count": 26,
   "id": "d9fd1e2b",
   "metadata": {},
   "outputs": [
    {
     "name": "stdout",
     "output_type": "stream",
     "text": [
      "0 apple\n",
      "1 banana\n"
     ]
    }
   ],
   "source": [
    "# 4. 다음 빈칸에 들어갈 함수 이름은?\n",
    "colors = {\"red\":'apple', \"yellow\":'banana'}\n",
    "\n",
    "for i, v in enumerate(colors.values()):\n",
    "    print(i, v)\n",
    "\n",
    "# for i, v in enumerate(colors.items()):\n",
    "#     print(i, v[1])"
   ]
  },
  {
   "cell_type": "code",
   "execution_count": 16,
   "id": "6cbc870c",
   "metadata": {},
   "outputs": [
    {
     "name": "stdout",
     "output_type": "stream",
     "text": [
      "1 0\n"
     ]
    }
   ],
   "source": [
    "# 5. 다음 코드의 실행결과는?\n",
    "for i in range(0, 2): # a = 0, 1\n",
    "    for j in range(0, 2): # b = 0, 1\n",
    "        if i==j:\n",
    "            break\n",
    "        print(i, j)"
   ]
  },
  {
   "cell_type": "code",
   "execution_count": 18,
   "id": "01688fc3",
   "metadata": {},
   "outputs": [
    {
     "name": "stdout",
     "output_type": "stream",
     "text": [
      "0 0\n",
      "1 0\n",
      "1 1\n"
     ]
    }
   ],
   "source": [
    "# 6. 다음 코드의 실행 결과로 출력될 수 없는 것은? (1,1)\n",
    "for i in range(0, 2):\n",
    "    for j in range(0, 2):\n",
    "        print(i, j)\n",
    "        if i==j:\n",
    "            break"
   ]
  },
  {
   "cell_type": "code",
   "execution_count": 19,
   "id": "4f0b47e0",
   "metadata": {},
   "outputs": [
    {
     "name": "stdout",
     "output_type": "stream",
     "text": [
      "3 5 7 9 "
     ]
    }
   ],
   "source": [
    "# 7. 다음 코드의 실행결과는?\n",
    "L = [3, 4, 5, 6, 7, 8, 9, 10]\n",
    "\n",
    "for i, data in enumerate(L):\n",
    "    if (i%2 == 0):\n",
    "        print(data, end = ' ')"
   ]
  },
  {
   "cell_type": "code",
   "execution_count": 27,
   "id": "bf918b62",
   "metadata": {},
   "outputs": [
    {
     "data": {
      "text/plain": [
       "[3, 5, 7, 9]"
      ]
     },
     "execution_count": 27,
     "metadata": {},
     "output_type": "execute_result"
    }
   ],
   "source": [
    "# 리스트 L의 짝수번째 인덱스 값 출력\n",
    "L[::2]"
   ]
  },
  {
   "cell_type": "code",
   "execution_count": 29,
   "id": "dd11cc31",
   "metadata": {},
   "outputs": [
    {
     "data": {
      "text/plain": [
       "[4, 6, 8, 10]"
      ]
     },
     "execution_count": 29,
     "metadata": {},
     "output_type": "execute_result"
    }
   ],
   "source": [
    "# 리스트 L에서 짝수번째 데이터만 출력(리스트 컴프리헨션)\n",
    "[x for x in L if x%2 == 0]"
   ]
  }
 ],
 "metadata": {
  "kernelspec": {
   "display_name": "Python 3",
   "language": "python",
   "name": "python3"
  },
  "language_info": {
   "codemirror_mode": {
    "name": "ipython",
    "version": 3
   },
   "file_extension": ".py",
   "mimetype": "text/x-python",
   "name": "python",
   "nbconvert_exporter": "python",
   "pygments_lexer": "ipython3",
   "version": "3.8.8"
  },
  "toc": {
   "base_numbering": 1,
   "nav_menu": {},
   "number_sections": false,
   "sideBar": true,
   "skip_h1_title": false,
   "title_cell": "Table of Contents",
   "title_sidebar": "Contents",
   "toc_cell": false,
   "toc_position": {
    "height": "calc(100% - 180px)",
    "left": "10px",
    "top": "150px",
    "width": "246px"
   },
   "toc_section_display": true,
   "toc_window_display": true
  },
  "varInspector": {
   "cols": {
    "lenName": 16,
    "lenType": 16,
    "lenVar": 40
   },
   "kernels_config": {
    "python": {
     "delete_cmd_postfix": "",
     "delete_cmd_prefix": "del ",
     "library": "var_list.py",
     "varRefreshCmd": "print(var_dic_list())"
    },
    "r": {
     "delete_cmd_postfix": ") ",
     "delete_cmd_prefix": "rm(",
     "library": "var_list.r",
     "varRefreshCmd": "cat(var_dic_list()) "
    }
   },
   "position": {
    "height": "424px",
    "left": "1550px",
    "right": "20px",
    "top": "121px",
    "width": "350px"
   },
   "types_to_exclude": [
    "module",
    "function",
    "builtin_function_or_method",
    "instance",
    "_Feature"
   ],
   "window_display": true
  }
 },
 "nbformat": 4,
 "nbformat_minor": 5
}
