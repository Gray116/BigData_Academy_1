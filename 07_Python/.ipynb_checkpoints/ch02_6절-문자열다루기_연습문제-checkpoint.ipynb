{
 "cells": [
  {
   "cell_type": "markdown",
   "id": "d4c570a8",
   "metadata": {
    "ExecuteTime": {
     "end_time": "2021-07-19T03:43:28.270812Z",
     "start_time": "2021-07-19T03:43:28.261818Z"
    }
   },
   "source": [
    "<b><font color = \"red\" size = \"6\">ch02. 6절 문자열 다루기</font></b>"
   ]
  },
  {
   "cell_type": "markdown",
   "id": "279dde7d",
   "metadata": {},
   "source": [
    "# 6절. 문자열 다루기\n",
    "* 문자열 슬라이싱 문자변수[from:to:by]\n",
    "* len(문자열)\n",
    "* upper() - 전부 대문자로 바꿈\n",
    "* lower() - 전부 소문자로 바꿈\n",
    "* title() - 각 단어의 앞글자만 대문자\n",
    "* capitalize() - 문장에서의 첫문자만 대문자로, 그 외에는 소문자\n",
    "* count('찾을 문자열') - '찾을 문자열'이 몇개 들어있는지 갯수 반환\n",
    "* find('찾을 문자열') - '찾을 문자열'이 왼쪽부터 시작하여 몇번째 인덱스에 있는지 인덱스 반환\n",
    "* rfind('찾을 문자열') -                오른쪽부터 시작하여 인덱스 반환 (없으면 -1 반환)\n",
    "* startswith('특정 문자열') - '특정 문자열'로 시작하는지 여부 반환\n",
    "* endswith('특정 문자열') - '특정 문자열'로 끝나는지 여부 반환\n",
    "* strip() - 좌우 공백 제거(= trim)\n",
    "* rstrip() - 오른쪽 공백 제거\n",
    "* lstrip() - 왼쪽 공백 제거\n",
    "* split() - 문자열을 공백이나 다른 문자 기준으로 나누어 리스트로 반환\n",
    "* isdigit() - 문자열이 숫자, 문자열인지 반환\n",
    "* islower() - 문자열이 소문자인지 여부 반환\n",
    "* isupper() - 문자열이 대문자인지 여부 반환\n",
    "* replace(oldStr, newStr) - oldStr을 newStr로 바꾼다."
   ]
  },
  {
   "cell_type": "code",
   "execution_count": 1,
   "id": "ebe4c5f5",
   "metadata": {},
   "outputs": [
    {
     "data": {
      "text/plain": [
       "('Python is easy. Python is smart. python', 39)"
      ]
     },
     "execution_count": 1,
     "metadata": {},
     "output_type": "execute_result"
    }
   ],
   "source": [
    "temp = 'Python is easy. Python is smart. python'\n",
    "#       123456789012345678901234567890123456789\n",
    "\n",
    "temp, len(temp)"
   ]
  },
  {
   "cell_type": "code",
   "execution_count": 30,
   "id": "b9c49ac5",
   "metadata": {},
   "outputs": [
    {
     "name": "stdout",
     "output_type": "stream",
     "text": [
      "대문자로 : PYTHON IS EASY. PYTHON IS SMART. PYTHON\n",
      "소문자로 : python is easy. python is smart. python\n",
      "title() : Python Is Easy. Python Is Smart. Python\n",
      "capitalize : Python is easy. python is smart. python\n",
      "python 횟수 : 1\n",
      "대소문자 구분없이 python 횟수 : 3\n",
      "Python의 첫 인덱스 위치 : 0\n",
      "Python의 마지막 인덱스 위치 : 16\n",
      "Python으로 시작하는 문자열 : True\n",
      "Python으로 끝나는 문자열 : False\n",
      "Python 대신 R로 변경 : R is easy. R is smart. python\n"
     ]
    }
   ],
   "source": [
    "temp = 'Python is easy. Python is smart. python'\n",
    "#       012345678901234567890123456789012345678\n",
    "\n",
    "print(\"대문자로 :\", temp.upper())\n",
    "print(\"소문자로 :\", temp.lower())\n",
    "print(\"title() :\", temp.title())\n",
    "print(\"capitalize :\", temp.capitalize())\n",
    "print(\"python 횟수 :\", temp.count('python'))\n",
    "print(\"대소문자 구분없이 python 횟수 :\", temp.lower().count('python'))\n",
    "print(\"Python의 첫 인덱스 위치 :\", temp.find('Python'))\n",
    "print(\"Python의 마지막 인덱스 위치 :\", temp.rfind('Python'))\n",
    "print(\"Python으로 시작하는 문자열 :\", temp.startswith('Python'))\n",
    "print(\"Python으로 끝나는 문자열 :\", temp.endswith('Python'))\n",
    "print(\"Python 대신 R로 변경 :\", temp.replace('Python', 'R'))"
   ]
  },
  {
   "cell_type": "code",
   "execution_count": 19,
   "id": "67311178",
   "metadata": {},
   "outputs": [
    {
     "name": "stdout",
     "output_type": "stream",
     "text": [
      "strip() : [Python is easy]\n",
      "strip() : [Python is easy            ]\n",
      "strip() : [            Python is easy]\n"
     ]
    }
   ],
   "source": [
    "temp = '            Python is easy            '\n",
    "\n",
    "print(\"strip() : [{}]\".format(temp.strip()))\n",
    "print(\"strip() : [{}]\".format(temp.lstrip()))\n",
    "print(\"strip() : [{}]\".format(temp.rstrip()))"
   ]
  },
  {
   "cell_type": "code",
   "execution_count": 20,
   "id": "8c9abe16",
   "metadata": {},
   "outputs": [
    {
     "name": "stdout",
     "output_type": "stream",
     "text": [
      "space 단위로 temp를 분리(list로 반환) :  ['Python', 'is', 'easy']\n"
     ]
    }
   ],
   "source": [
    "print('space 단위로 temp를 분리(list로 반환) :', temp.split())"
   ]
  },
  {
   "cell_type": "code",
   "execution_count": 23,
   "id": "f4a1c0c4",
   "metadata": {},
   "outputs": [
    {
     "name": "stdout",
     "output_type": "stream",
     "text": [
      "'-' 단위로 date를 분리 :  ['2021', '07', '20']\n"
     ]
    }
   ],
   "source": [
    "date = '2021-07-20'\n",
    "\n",
    "print(\"'-' 단위로 date를 분리 :\", date.split('-'))"
   ]
  },
  {
   "cell_type": "code",
   "execution_count": 27,
   "id": "024f8a0b",
   "metadata": {},
   "outputs": [
    {
     "name": "stdout",
     "output_type": "stream",
     "text": [
      "분리된 temp :  ['Python', 'Java', 'R', 'C']\n",
      "결합된 temp :  Python/Java/R/C\n"
     ]
    }
   ],
   "source": [
    "temp = \"Python - Java - R - C\"\n",
    "splited_temp = temp.split(' - ')\n",
    "\n",
    "print('분리된 temp :', splited_temp)\n",
    "\n",
    "join_temp = '/'.join(splited_temp)\n",
    "\n",
    "print('결합된 temp :', join_temp)"
   ]
  },
  {
   "cell_type": "code",
   "execution_count": 32,
   "id": "5921a7b5",
   "metadata": {},
   "outputs": [
    {
     "name": "stdout",
     "output_type": "stream",
     "text": [
      "num이 숫자인지 문자인지 : True\n",
      "temp가 대문자? : True\n",
      "temp가 소문자? : False\n"
     ]
    }
   ],
   "source": [
    "num = '100'\n",
    "\n",
    "print('num이 숫자인지 문자인지 :', num.isdigit())\n",
    "\n",
    "temp = 'PYTHON'\n",
    "\n",
    "print('temp가 대문자? :', temp.isupper())\n",
    "print('temp가 소문자? :', temp.islower())"
   ]
  },
  {
   "cell_type": "code",
   "execution_count": 33,
   "id": "2fad0e8a",
   "metadata": {},
   "outputs": [
    {
     "name": "stdout",
     "output_type": "stream",
     "text": [
      "-1\n"
     ]
    }
   ],
   "source": [
    "print('ABCD'.find('Z'))"
   ]
  },
  {
   "cell_type": "code",
   "execution_count": 41,
   "id": "1f2b13cc",
   "metadata": {},
   "outputs": [
    {
     "name": "stdout",
     "output_type": "stream",
     "text": [
      "A\n",
      "B\n",
      "C\n"
     ]
    }
   ],
   "source": [
    "str_ = 'ABC'\n",
    "\n",
    "for s in str_:\n",
    "    print(s)"
   ]
  },
  {
   "cell_type": "code",
   "execution_count": 39,
   "id": "4892f0c4",
   "metadata": {},
   "outputs": [],
   "source": [
    "str_list = ['A', 'B', 'C']"
   ]
  },
  {
   "cell_type": "code",
   "execution_count": 40,
   "id": "cd76501b",
   "metadata": {},
   "outputs": [
    {
     "name": "stdout",
     "output_type": "stream",
     "text": [
      "A\n",
      "B\n",
      "C\n"
     ]
    }
   ],
   "source": [
    "for s in str_list:\n",
    "    print(s)"
   ]
  },
  {
   "cell_type": "code",
   "execution_count": 42,
   "id": "1e81a901",
   "metadata": {
    "scrolled": true
   },
   "outputs": [
    {
     "data": {
      "text/plain": [
       "['__add__',\n",
       " '__class__',\n",
       " '__contains__',\n",
       " '__delattr__',\n",
       " '__dir__',\n",
       " '__doc__',\n",
       " '__eq__',\n",
       " '__format__',\n",
       " '__ge__',\n",
       " '__getattribute__',\n",
       " '__getitem__',\n",
       " '__getnewargs__',\n",
       " '__gt__',\n",
       " '__hash__',\n",
       " '__init__',\n",
       " '__init_subclass__',\n",
       " '__iter__',\n",
       " '__le__',\n",
       " '__len__',\n",
       " '__lt__',\n",
       " '__mod__',\n",
       " '__mul__',\n",
       " '__ne__',\n",
       " '__new__',\n",
       " '__reduce__',\n",
       " '__reduce_ex__',\n",
       " '__repr__',\n",
       " '__rmod__',\n",
       " '__rmul__',\n",
       " '__setattr__',\n",
       " '__sizeof__',\n",
       " '__str__',\n",
       " '__subclasshook__',\n",
       " 'capitalize',\n",
       " 'casefold',\n",
       " 'center',\n",
       " 'count',\n",
       " 'encode',\n",
       " 'endswith',\n",
       " 'expandtabs',\n",
       " 'find',\n",
       " 'format',\n",
       " 'format_map',\n",
       " 'index',\n",
       " 'isalnum',\n",
       " 'isalpha',\n",
       " 'isascii',\n",
       " 'isdecimal',\n",
       " 'isdigit',\n",
       " 'isidentifier',\n",
       " 'islower',\n",
       " 'isnumeric',\n",
       " 'isprintable',\n",
       " 'isspace',\n",
       " 'istitle',\n",
       " 'isupper',\n",
       " 'join',\n",
       " 'ljust',\n",
       " 'lower',\n",
       " 'lstrip',\n",
       " 'maketrans',\n",
       " 'partition',\n",
       " 'replace',\n",
       " 'rfind',\n",
       " 'rindex',\n",
       " 'rjust',\n",
       " 'rpartition',\n",
       " 'rsplit',\n",
       " 'rstrip',\n",
       " 'split',\n",
       " 'splitlines',\n",
       " 'startswith',\n",
       " 'strip',\n",
       " 'swapcase',\n",
       " 'title',\n",
       " 'translate',\n",
       " 'upper',\n",
       " 'zfill']"
      ]
     },
     "execution_count": 42,
     "metadata": {},
     "output_type": "execute_result"
    }
   ],
   "source": [
    "# 문자열을 다룰 수 잇는 함수들의 목록\n",
    "dir(str)"
   ]
  },
  {
   "cell_type": "markdown",
   "id": "4692467b",
   "metadata": {},
   "source": [
    "# 7절. 날짜 다루기"
   ]
  },
  {
   "cell_type": "markdown",
   "id": "567e546b",
   "metadata": {},
   "source": [
    "## 7.1 날짜"
   ]
  },
  {
   "cell_type": "code",
   "execution_count": 44,
   "id": "4a4a9918",
   "metadata": {},
   "outputs": [
    {
     "data": {
      "text/plain": [
       "datetime.date(2021, 7, 20)"
      ]
     },
     "execution_count": 44,
     "metadata": {},
     "output_type": "execute_result"
    }
   ],
   "source": [
    "from datetime import date\n",
    "someday = date(2021, 7, 20)\n",
    "\n",
    "someday"
   ]
  },
  {
   "cell_type": "code",
   "execution_count": 45,
   "id": "baf3c0e9",
   "metadata": {},
   "outputs": [
    {
     "name": "stdout",
     "output_type": "stream",
     "text": [
      "2021년 07월 20일 00시 00분\n"
     ]
    }
   ],
   "source": [
    "print(\"{:%Y년 %m월 %d일 %H시 %M분}\".format(someday))"
   ]
  },
  {
   "cell_type": "code",
   "execution_count": 47,
   "id": "e650b4cf",
   "metadata": {},
   "outputs": [
    {
     "data": {
      "text/plain": [
       "datetime.date(2021, 7, 20)"
      ]
     },
     "execution_count": 47,
     "metadata": {},
     "output_type": "execute_result"
    }
   ],
   "source": [
    "today = date.today()\n",
    "\n",
    "today"
   ]
  },
  {
   "cell_type": "markdown",
   "id": "cf2a7c42",
   "metadata": {},
   "source": [
    "## 7.2 시간"
   ]
  },
  {
   "cell_type": "code",
   "execution_count": 50,
   "id": "31a86cbb",
   "metadata": {
    "scrolled": true
   },
   "outputs": [
    {
     "name": "stdout",
     "output_type": "stream",
     "text": [
      "13:00:00\n",
      "1900년 01월 01일 13:01:00\n"
     ]
    }
   ],
   "source": [
    "from datetime import time\n",
    "\n",
    "t = time(13) # 시간만 지정할 수 있음.\n",
    "\n",
    "print(t)\n",
    "print(\"{:%Y년 %m월 %d일 %H:%m:%S}\".format(t))"
   ]
  },
  {
   "cell_type": "code",
   "execution_count": 52,
   "id": "7d3a4e02",
   "metadata": {},
   "outputs": [
    {
     "data": {
      "text/plain": [
       "datetime.time(13, 20, 5)"
      ]
     },
     "execution_count": 52,
     "metadata": {},
     "output_type": "execute_result"
    }
   ],
   "source": [
    "t2 = time(13, 20, 5)\n",
    "t2"
   ]
  },
  {
   "cell_type": "code",
   "execution_count": 53,
   "id": "80f548fd",
   "metadata": {},
   "outputs": [
    {
     "name": "stdout",
     "output_type": "stream",
     "text": [
      "18:20:01.000100\n"
     ]
    }
   ],
   "source": [
    "t3 = time(18, 20, 1, 100)\n",
    "print(t3)"
   ]
  },
  {
   "cell_type": "markdown",
   "id": "92213cfa",
   "metadata": {},
   "source": [
    "# 연습문제"
   ]
  },
  {
   "cell_type": "code",
   "execution_count": 39,
   "id": "2e5d3b26",
   "metadata": {},
   "outputs": [
    {
     "name": "stdout",
     "output_type": "stream",
     "text": [
      "홍길동님의 나이는 23살입니다.\n",
      "홍길동님의 나이는 23살입니다\n",
      "홍길동님의 나이는 23살입니다\n"
     ]
    }
   ],
   "source": [
    "# 1. 이름과 나이 변수를 다음 형식으로 출력하도록 format() 함수를 이용해 형식화하세요\n",
    "# [출력형식 : 홍길동님의 나이는 23살입니다]\n",
    "name = '홍길동'\n",
    "age = 23\n",
    "\n",
    "print(\"{}님의 나이는 {}살입니다.\".format(name, age))\n",
    "print('%s님의 나이는 %d살입니다'% (name, age))\n",
    "print(f'{name}님의 나이는 {age}살입니다')"
   ]
  },
  {
   "cell_type": "code",
   "execution_count": 26,
   "id": "2cf58b88",
   "metadata": {},
   "outputs": [
    {
     "name": "stdout",
     "output_type": "stream",
     "text": [
      "첫번째 수 입력: 1\n",
      "두번째 수 입력: 2\n",
      "두 수의 덧셈: 3\n",
      "두 수의 뺄셈: -1\n",
      "두 수의 곱셈: 2\n",
      "두 수의 나눗셈: 0.5\n",
      "두 수의 몫: 0\n",
      "두 수의 나머지: 1\n"
     ]
    }
   ],
   "source": [
    "# 2. 두 정수를 입력받아 두 수의 덧셈, 뺄셈, 곱셈, 나눗셈, 몫, 나머지를 출력하세요\n",
    "a = int(input('첫번째 수 입력: '))\n",
    "b = int(input('두번째 수 입력: '))\n",
    "\n",
    "print('두 수의 덧셈:', (a+b))\n",
    "print('두 수의 뺄셈:', (a-b))\n",
    "print('두 수의 곱셈:', (a*b))\n",
    "\n",
    "try:\n",
    "    print('두 수의 나눗셈:', (a/b))\n",
    "    print('두 수의 몫:', (a//b))\n",
    "    print('두 수의 나머지:', (a%b))\n",
    "except Exception:\n",
    "    print(\"두번째 수에 0을 입력하면 나누기 불가\")"
   ]
  },
  {
   "cell_type": "code",
   "execution_count": 32,
   "id": "c918a5d8",
   "metadata": {},
   "outputs": [
    {
     "name": "stdout",
     "output_type": "stream",
     "text": [
      "World Hello\n"
     ]
    }
   ],
   "source": [
    "# 3. 문자열의 분리하기와 합치기 기능을 이용하여 ‘Hello World’를 ‘World Hello’로 출력하\n",
    "# 세요\n",
    "temp = 'Hello World'\n",
    "split_temp = temp.split()\n",
    "split_temp[::-1]\n",
    "\n",
    "''.join(split_temp[::-1])\n",
    "\n",
    "split_temp\n",
    "\n",
    "print(temp[-5:], temp[:5])"
   ]
  },
  {
   "cell_type": "code",
   "execution_count": 33,
   "id": "2db0cb50",
   "metadata": {},
   "outputs": [
    {
     "name": "stdout",
     "output_type": "stream",
     "text": [
      "bcdefa\n"
     ]
    }
   ],
   "source": [
    "# 4. x = 'abcdef＇를 이용하여 ‘bcdefa’로 출력하세요(문자 슬라이싱이용).\n",
    "x = 'abcdef'\n",
    "\n",
    "print(x[1:] + x[0])"
   ]
  },
  {
   "cell_type": "code",
   "execution_count": 38,
   "id": "1790ccc3",
   "metadata": {},
   "outputs": [
    {
     "name": "stdout",
     "output_type": "stream",
     "text": [
      "fedcba\n"
     ]
    }
   ],
   "source": [
    "# 5. x = ‘abcdef’를 이용하여 ‘fedcba’로 출력하세요\n",
    "x = 'abcdef'\n",
    "\n",
    "print(x[::-1])"
   ]
  },
  {
   "cell_type": "code",
   "execution_count": 34,
   "id": "62fde8bf",
   "metadata": {},
   "outputs": [
    {
     "name": "stdout",
     "output_type": "stream",
     "text": [
      "섭씨 온도 입력: 20\n",
      "섭씨 20도는 화씨 온도로 68도 입니다.\n"
     ]
    }
   ],
   "source": [
    "# 6. 오늘의 온도를 섭씨온도로 입력받아 화씨 온도로 변환하는 프로그램을 작성하세요. 화\n",
    "# 씨 온도는 소수점 두번째 자리까지 출려되어야 합니다(다음은 섭씨와 화씨의 변환 공\n",
    "# 식입니다. C는 섭씨, F는 화씨)\n",
    "# C = (F-32) / 1.8\n",
    "# F = (C*1.8) + 32\n",
    "c = int(input('섭씨 온도 입력: '))\n",
    "f = (c * 1.8) + 32\n",
    "\n",
    "if f == round(f):\n",
    "    print('섭씨 {}도는 화씨 온도로 {:.0f}도 입니다.'.format(c, f))\n",
    "else:\n",
    "    print('섭씨 {}도는 화씨 온도로 {:.2f}도 입니다.'.format(c, f))"
   ]
  },
  {
   "cell_type": "code",
   "execution_count": 35,
   "id": "ff78614a",
   "metadata": {},
   "outputs": [
    {
     "name": "stdout",
     "output_type": "stream",
     "text": [
      "SeounSeoul\n",
      "Seou n Seoul\n"
     ]
    }
   ],
   "source": [
    "# 8. text = “Seoul A001 – programming with python\n",
    "# Print(text[:4]+text[-1] +text.split()[0])\n",
    "text = \"Seoul A001 - programming with python\"\n",
    "\n",
    "print(text[:4]+text[-1]+text.split()[0])\n",
    "print(text[:4], text[-1], text.split()[0])"
   ]
  }
 ],
 "metadata": {
  "kernelspec": {
   "display_name": "Python 3",
   "language": "python",
   "name": "python3"
  },
  "language_info": {
   "codemirror_mode": {
    "name": "ipython",
    "version": 3
   },
   "file_extension": ".py",
   "mimetype": "text/x-python",
   "name": "python",
   "nbconvert_exporter": "python",
   "pygments_lexer": "ipython3",
   "version": "3.8.8"
  },
  "toc": {
   "base_numbering": 1,
   "nav_menu": {
    "height": "100px",
    "width": "160px"
   },
   "number_sections": false,
   "sideBar": true,
   "skip_h1_title": false,
   "title_cell": "Table of Contents",
   "title_sidebar": "Contents",
   "toc_cell": false,
   "toc_position": {
    "height": "calc(100% - 180px)",
    "left": "10px",
    "top": "150px",
    "width": "214px"
   },
   "toc_section_display": true,
   "toc_window_display": true
  },
  "varInspector": {
   "cols": {
    "lenName": 16,
    "lenType": 16,
    "lenVar": 40
   },
   "kernels_config": {
    "python": {
     "delete_cmd_postfix": "",
     "delete_cmd_prefix": "del ",
     "library": "var_list.py",
     "varRefreshCmd": "print(var_dic_list())"
    },
    "r": {
     "delete_cmd_postfix": ") ",
     "delete_cmd_prefix": "rm(",
     "library": "var_list.r",
     "varRefreshCmd": "cat(var_dic_list()) "
    }
   },
   "position": {
    "height": "808px",
    "left": "1550px",
    "right": "20px",
    "top": "120px",
    "width": "350px"
   },
   "types_to_exclude": [
    "module",
    "function",
    "builtin_function_or_method",
    "instance",
    "_Feature"
   ],
   "window_display": true
  }
 },
 "nbformat": 4,
 "nbformat_minor": 5
}
