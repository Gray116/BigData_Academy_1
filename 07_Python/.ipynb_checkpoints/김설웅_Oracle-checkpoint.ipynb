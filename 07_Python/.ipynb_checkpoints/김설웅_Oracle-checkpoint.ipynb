{
 "cells": [
  {
   "cell_type": "code",
   "execution_count": 22,
   "id": "d9bd8ad9",
   "metadata": {},
   "outputs": [
    {
     "data": {
      "text/html": [
       "\n",
       "<style>\n",
       "div.CodeMirror {font-family:Consolas; font-size:12pt;}\n",
       "div.output {font-size:12pt; font-weight : bold;}\n",
       "div.input {font-family:Consolas; font-size:12pt;}\n",
       "</style>\n"
      ],
      "text/plain": [
       "<IPython.core.display.HTML object>"
      ]
     },
     "metadata": {},
     "output_type": "display_data"
    }
   ],
   "source": [
    "from IPython.display import display, HTML\n",
    "display(HTML(\"\"\"\n",
    "<style>\n",
    "div.CodeMirror {font-family:Consolas; font-size:12pt;}\n",
    "div.output {font-size:12pt; font-weight : bold;}\n",
    "div.input {font-family:Consolas; font-size:12pt;}\n",
    "</style>\n",
    "\"\"\"))"
   ]
  },
  {
   "cell_type": "code",
   "execution_count": 4,
   "id": "86ef66a9",
   "metadata": {},
   "outputs": [],
   "source": [
    "class User:\n",
    "    def __init__(self, name, tel, age, grade, mail, etc):\n",
    "        self.name = name\n",
    "        self.tel = tel\n",
    "        self.age = age\n",
    "        self.grade = grade\n",
    "        self.mail = mail\n",
    "        self.etc = etc\n",
    "    \n",
    "    def as_dict(self):\n",
    "        return {'name':self.name, 'tel':self.tel, 'age':self.age,\n",
    "                'grade':self.grade, 'mail':self.mail, 'etc':self.etc}\n",
    "    \n",
    "    def __str__(self):\n",
    "        return \"{:3}\\t{:13}\\t{:3}\\t{:>5}\\t{:15}\\t{}\".format(self.name, self.tel, self.age,\n",
    "                                                            self.grade, self.mail, self.etc)"
   ]
  },
  {
   "cell_type": "code",
   "execution_count": 19,
   "id": "0ed27714",
   "metadata": {},
   "outputs": [],
   "source": [
    "# 1. 입력\n",
    "# 사용자로부터 '이름,전화번호,나이,등급,메일,기타' 를 입력 받아 db에 추가\n",
    "def insert_member():\n",
    "    global conn\n",
    "    conn = cx_Oracle.connect(\"scott\", \"tiger\", dsn = oracle_dsn)\n",
    "    cursor = conn.cursor()\n",
    "    mname = input(\"이름 입력 :\")\n",
    "    tel = input(\"전화번호 입력 :\")\n",
    "    try:\n",
    "        age = int(input(\"나이 입력 :\"))\n",
    "        if age > 150:\n",
    "            print('입력을 기준을 초과하여 100살로 임의 설정')\n",
    "            age = 100\n",
    "        elif age <= 0:\n",
    "            print('0이하로 입력하여 1살로 임의 설정')\n",
    "            age = 1\n",
    "    except ValueError as v:\n",
    "        print('잘못된 입력이므로 30살로 임의 설정합니다.')\n",
    "        age = 30\n",
    "    try:\n",
    "        grade = int(input(\"등급(1~5) 입력 :\"))\n",
    "        if grade > 5:\n",
    "            grade = 5\n",
    "            print('5이상을 입력하여 5등급으로 임의 설정.')\n",
    "        elif grade < 1:\n",
    "            grade = 1\n",
    "            print('1미만을 입력하여 1등급으로 임의 설정.')\n",
    "    except ValueError:\n",
    "        grade = int(input(\"등급(1~5) 입력 :\"))\n",
    "        print('잘못된 입력이므로 3등급으로 설정합니다.')\n",
    "        grade = 3\n",
    "    mail = input(\"메일 입력 :\")\n",
    "    etc = input('특징 입력 :')\n",
    "    \n",
    "    data = {'mname':mname, 'tel':tel, 'age':age, 'grade':grade, 'mail':mail, 'etc':etc}\n",
    "    cursor.execute(\"INSERT INTO MEMBER VALUES(:mname, :tel, :age, :grade, :mail, :etc)\", data)"
   ]
  },
  {
   "cell_type": "code",
   "execution_count": 23,
   "id": "bd589323",
   "metadata": {},
   "outputs": [],
   "source": [
    "# 2 전체출력\n",
    "# select * from member 의 결과를 출력, 데이터프레임 혹은 리스트 형태로 출력해도 됨\n",
    "def select_all():\n",
    "    global conn\n",
    "    conn = cx_Oracle.connect(\"scott\", \"tiger\", dsn = oracle_dsn)\n",
    "    cursor = conn.cursor()\n",
    "    \n",
    "    sql = \"SELECT * FROM MEMBER\"\n",
    "    cursor.execute(sql)\n",
    "    data = cursor.fetchall()\n",
    "    \n",
    "    if len(data) == 0:\n",
    "        print('출력할 데이터가 없습니다.')\n",
    "    else:\n",
    "        for e in data:\n",
    "            print(e)"
   ]
  },
  {
   "cell_type": "code",
   "execution_count": 7,
   "id": "feabb6b2",
   "metadata": {},
   "outputs": [],
   "source": [
    "# 3 이름 검색\n",
    "# 사용자로부터 검색하고자하는 이름을 받아 결과 출력\n",
    "def select_name():\n",
    "    global conn\n",
    "    conn = cx_Oracle.connect(\"scott\", \"tiger\", dsn = oracle_dsn)\n",
    "    cursor = conn.cursor()\n",
    "    select_user = input('검색 할 이름 입력 :')\n",
    "    sql = \"SELECT * FROM MEMBER WHERE NAME = :name\"\n",
    "    \n",
    "    cursor.execute(sql, {'name':select_user})\n",
    "    emp = cursor.fetchall()\n",
    "                   \n",
    "    if len(emp) == 0:\n",
    "        print('입력하신 이름의 데이터는 없습니다')\n",
    "    else:\n",
    "        for e in emp:\n",
    "            print(e)"
   ]
  },
  {
   "cell_type": "code",
   "execution_count": 8,
   "id": "9a872101",
   "metadata": {},
   "outputs": [],
   "source": [
    "# 4 메일 삭제\n",
    "# 사용자로부터 삭제할 이메일을 입력받아 해당 이메일이 있는지 확인, 있으면 삭제 및 메세지 출력\n",
    "# 없으면 없다는 메세지 출력\n",
    "def delete_mail():\n",
    "    global conn\n",
    "    conn = cx_Oracle.connect(\"scott\", \"tiger\", dsn = oracle_dsn)\n",
    "    cursor = conn.cursor()\n",
    "    del_mail = input('삭제 할 메일 입력 :')\n",
    "\n",
    "    cursor.execute(\"SELECT MAIL FROM MEMBER\")\n",
    "    emp = cursor.fetchall()\n",
    "\n",
    "    for i in emp:\n",
    "        if i == del_mail:\n",
    "            print('해당 메일이 존재합니다. 삭제를 진행합니다')\n",
    "            cursor.execute(\"DELETE MAIL FROM MEMBER WHERE MAIL = :mail\", del_mail)\n",
    "        else:\n",
    "            print('해당 메일이 없습니다.')"
   ]
  },
  {
   "cell_type": "code",
   "execution_count": 17,
   "id": "b494637b",
   "metadata": {},
   "outputs": [],
   "source": [
    "# 5 csv 내보내기\n",
    "# select * from member의 결과를 csv로 내보내기 (헤더 포함)\n",
    "def save_csv():\n",
    "    import csv\n",
    "    global conn\n",
    "    conn = cx_Oracle.connect(\"scott\", \"tiger\", dsn = oracle_dsn)\n",
    "    cursor = conn.cursor()\n",
    "    customer_dict_list = []\n",
    "    result = cursor.execute(\"SELECT * FROM MEMBER\")\n",
    "    \n",
    "    fieldnames = [\"mname\",\"tel\",\"age\",\"grade\",\"mail\",\"etc\"] # csv의 header\n",
    "    filename = input('저장할 파일명 입력 :')\n",
    "    \n",
    "    try:\n",
    "        with open('Data/'+filename+'.csv', 'w', encoding = 'UTF8', newline = '') as f:\n",
    "            writer = csv.writer(f)\n",
    "            writer.writerow([row[0] for row in cursor.description]) # write headers\n",
    "            writer.writerows(cursor)\n",
    "    except FileNotFoundError as e:\n",
    "        print(e)"
   ]
  },
  {
   "cell_type": "code",
   "execution_count": 10,
   "id": "c72de709",
   "metadata": {},
   "outputs": [],
   "source": [
    "# 0 종료\n",
    "def close_sql():\n",
    "    global conn\n",
    "    cursor = conn.cursor()\n",
    "    conn.commit()\n",
    "    print('종료합니다.')\n",
    "    conn.close()"
   ]
  },
  {
   "cell_type": "code",
   "execution_count": 14,
   "id": "2aa47e6e",
   "metadata": {},
   "outputs": [],
   "source": [
    "# MAIN 함수\n",
    "def main():\n",
    "    while True:\n",
    "        print('1 : 입력 | 2 : 전체출력 | 3 : 이름 검색\\n4 : 메일 삭제 | 5 : 내보내기(csv) | 0 : 종료')\n",
    "        menu = int(input('메뉴 선택 :'))\n",
    "        # 입력받은 번호로 customer 객체를 반환\n",
    "        if menu == 1:\n",
    "            insert_member()\n",
    "        elif menu == 2:\n",
    "            select_all()\n",
    "        elif menu == 3:\n",
    "            select_name()\n",
    "        elif menu == 4:\n",
    "            delete_mail()\n",
    "        elif menu == 5:\n",
    "            save_csv()\n",
    "        elif menu == 0:\n",
    "            close_sql()\n",
    "            break"
   ]
  },
  {
   "cell_type": "code",
   "execution_count": 24,
   "id": "6ea5a87c",
   "metadata": {
    "scrolled": true
   },
   "outputs": [
    {
     "name": "stdout",
     "output_type": "stream",
     "text": [
      "1 : 입력 | 2 : 전체출력 | 3 : 이름 검색\n",
      "4 : 메일 삭제 | 5 : 내보내기(csv) | 0 : 종료\n",
      "메뉴 선택 :2\n"
     ]
    },
    {
     "ename": "NameError",
     "evalue": "name 'cursor' is not defined",
     "output_type": "error",
     "traceback": [
      "\u001b[1;31m---------------------------------------------------------------------------\u001b[0m",
      "\u001b[1;31mNameError\u001b[0m                                 Traceback (most recent call last)",
      "\u001b[1;32m<ipython-input-24-6c3ca8062830>\u001b[0m in \u001b[0;36m<module>\u001b[1;34m\u001b[0m\n\u001b[0;32m      5\u001b[0m     \u001b[1;32mglobal\u001b[0m \u001b[0mconn\u001b[0m\u001b[1;33m\u001b[0m\u001b[1;33m\u001b[0m\u001b[0m\n\u001b[0;32m      6\u001b[0m \u001b[1;33m\u001b[0m\u001b[0m\n\u001b[1;32m----> 7\u001b[1;33m     \u001b[0mmain\u001b[0m\u001b[1;33m(\u001b[0m\u001b[1;33m)\u001b[0m\u001b[1;33m\u001b[0m\u001b[1;33m\u001b[0m\u001b[0m\n\u001b[0m",
      "\u001b[1;32m<ipython-input-14-ebc35f6d801b>\u001b[0m in \u001b[0;36mmain\u001b[1;34m()\u001b[0m\n\u001b[0;32m      8\u001b[0m             \u001b[0minsert_member\u001b[0m\u001b[1;33m(\u001b[0m\u001b[1;33m)\u001b[0m\u001b[1;33m\u001b[0m\u001b[1;33m\u001b[0m\u001b[0m\n\u001b[0;32m      9\u001b[0m         \u001b[1;32melif\u001b[0m \u001b[0mmenu\u001b[0m \u001b[1;33m==\u001b[0m \u001b[1;36m2\u001b[0m\u001b[1;33m:\u001b[0m\u001b[1;33m\u001b[0m\u001b[1;33m\u001b[0m\u001b[0m\n\u001b[1;32m---> 10\u001b[1;33m             \u001b[0mselect_all\u001b[0m\u001b[1;33m(\u001b[0m\u001b[1;33m)\u001b[0m\u001b[1;33m\u001b[0m\u001b[1;33m\u001b[0m\u001b[0m\n\u001b[0m\u001b[0;32m     11\u001b[0m         \u001b[1;32melif\u001b[0m \u001b[0mmenu\u001b[0m \u001b[1;33m==\u001b[0m \u001b[1;36m3\u001b[0m\u001b[1;33m:\u001b[0m\u001b[1;33m\u001b[0m\u001b[1;33m\u001b[0m\u001b[0m\n\u001b[0;32m     12\u001b[0m             \u001b[0mselect_name\u001b[0m\u001b[1;33m(\u001b[0m\u001b[1;33m)\u001b[0m\u001b[1;33m\u001b[0m\u001b[1;33m\u001b[0m\u001b[0m\n",
      "\u001b[1;32m<ipython-input-23-bbf188ca6692>\u001b[0m in \u001b[0;36mselect_all\u001b[1;34m()\u001b[0m\n\u001b[0;32m      6\u001b[0m \u001b[1;33m\u001b[0m\u001b[0m\n\u001b[0;32m      7\u001b[0m     \u001b[0msql\u001b[0m \u001b[1;33m=\u001b[0m \u001b[1;34m\"SELECT * FROM MEMBER\"\u001b[0m\u001b[1;33m\u001b[0m\u001b[1;33m\u001b[0m\u001b[0m\n\u001b[1;32m----> 8\u001b[1;33m     \u001b[0mcursor\u001b[0m\u001b[1;33m.\u001b[0m\u001b[0mexecute\u001b[0m\u001b[1;33m(\u001b[0m\u001b[0msql\u001b[0m\u001b[1;33m)\u001b[0m\u001b[1;33m\u001b[0m\u001b[1;33m\u001b[0m\u001b[0m\n\u001b[0m\u001b[0;32m      9\u001b[0m     \u001b[0mdata\u001b[0m \u001b[1;33m=\u001b[0m \u001b[0mcursor\u001b[0m\u001b[1;33m.\u001b[0m\u001b[0mfetchall\u001b[0m\u001b[1;33m(\u001b[0m\u001b[1;33m)\u001b[0m\u001b[1;33m\u001b[0m\u001b[1;33m\u001b[0m\u001b[0m\n\u001b[0;32m     10\u001b[0m \u001b[1;33m\u001b[0m\u001b[0m\n",
      "\u001b[1;31mNameError\u001b[0m: name 'cursor' is not defined"
     ]
    }
   ],
   "source": [
    "if __name__ == '__main__':\n",
    "    import cx_Oracle\n",
    "    oracle_dsn = cx_Oracle.makedsn(host = 'localhost', port = 1521, sid = 'xe')    \n",
    "    \n",
    "    global conn\n",
    "    \n",
    "    main()"
   ]
  }
 ],
 "metadata": {
  "kernelspec": {
   "display_name": "Python 3",
   "language": "python",
   "name": "python3"
  },
  "language_info": {
   "codemirror_mode": {
    "name": "ipython",
    "version": 3
   },
   "file_extension": ".py",
   "mimetype": "text/x-python",
   "name": "python",
   "nbconvert_exporter": "python",
   "pygments_lexer": "ipython3",
   "version": "3.8.8"
  },
  "toc": {
   "base_numbering": 1,
   "nav_menu": {},
   "number_sections": true,
   "sideBar": true,
   "skip_h1_title": false,
   "title_cell": "Table of Contents",
   "title_sidebar": "Contents",
   "toc_cell": false,
   "toc_position": {},
   "toc_section_display": true,
   "toc_window_display": false
  },
  "varInspector": {
   "cols": {
    "lenName": 16,
    "lenType": 16,
    "lenVar": 40
   },
   "kernels_config": {
    "python": {
     "delete_cmd_postfix": "",
     "delete_cmd_prefix": "del ",
     "library": "var_list.py",
     "varRefreshCmd": "print(var_dic_list())"
    },
    "r": {
     "delete_cmd_postfix": ") ",
     "delete_cmd_prefix": "rm(",
     "library": "var_list.r",
     "varRefreshCmd": "cat(var_dic_list()) "
    }
   },
   "types_to_exclude": [
    "module",
    "function",
    "builtin_function_or_method",
    "instance",
    "_Feature"
   ],
   "window_display": false
  }
 },
 "nbformat": 4,
 "nbformat_minor": 5
}
