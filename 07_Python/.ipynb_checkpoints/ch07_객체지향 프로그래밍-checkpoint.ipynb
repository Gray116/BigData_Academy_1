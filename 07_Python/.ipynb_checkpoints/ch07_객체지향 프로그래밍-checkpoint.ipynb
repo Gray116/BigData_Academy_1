{
 "cells": [
  {
   "cell_type": "markdown",
   "id": "20cae52a",
   "metadata": {},
   "source": [
    "<b><font color = \"red\" size = \"6\">ch07. 객체지향 프로그래밍</font></b>"
   ]
  },
  {
   "cell_type": "markdown",
   "id": "877ef227",
   "metadata": {},
   "source": [
    "# 1절. 객체와 클래스\n",
    "```\n",
    "class 클래스명(상속받을 클래스명):\n",
    "    변수나 함수들을 선언\n",
    "```"
   ]
  },
  {
   "cell_type": "code",
   "execution_count": 1,
   "id": "e1e941b2",
   "metadata": {},
   "outputs": [],
   "source": [
    "class Person:\n",
    "    '''\n",
    "    Person 클래스는 ...\n",
    "    여러줄 설명하는 docstring\n",
    "    '''\n",
    "    pass\n",
    "\n",
    "'''\n",
    "class Person{\n",
    "\n",
    "}\n",
    "'''\n",
    "# Person p1 = new Person() 자바에서..\n",
    "p1 = Person() # 객체 생성"
   ]
  },
  {
   "cell_type": "code",
   "execution_count": 2,
   "id": "fdb52f17",
   "metadata": {},
   "outputs": [
    {
     "data": {
      "text/plain": [
       "__main__.Person"
      ]
     },
     "execution_count": 2,
     "metadata": {},
     "output_type": "execute_result"
    }
   ],
   "source": [
    "type(p1)"
   ]
  },
  {
   "cell_type": "code",
   "execution_count": 3,
   "id": "c99af48e",
   "metadata": {},
   "outputs": [
    {
     "name": "stdout",
     "output_type": "stream",
     "text": [
      "<__main__.Person object at 0x000001D276A745E0>\n"
     ]
    }
   ],
   "source": [
    "print(p1)"
   ]
  },
  {
   "cell_type": "code",
   "execution_count": 4,
   "id": "bfcc6ffb",
   "metadata": {},
   "outputs": [
    {
     "data": {
      "text/plain": [
       "True"
      ]
     },
     "execution_count": 4,
     "metadata": {},
     "output_type": "execute_result"
    }
   ],
   "source": [
    "isinstance(p1, Person)"
   ]
  },
  {
   "cell_type": "code",
   "execution_count": 5,
   "id": "cbec9bc8",
   "metadata": {},
   "outputs": [
    {
     "name": "stdout",
     "output_type": "stream",
     "text": [
      "\n",
      "    Person 클래스는 ...\n",
      "    여러줄 설명하는 docstring\n",
      "    \n"
     ]
    }
   ],
   "source": [
    "print(p1.__doc__) # 독스트링"
   ]
  },
  {
   "cell_type": "markdown",
   "id": "4c8bead5",
   "metadata": {},
   "source": [
    "# 2절. 변수와 메소드"
   ]
  },
  {
   "cell_type": "code",
   "execution_count": 7,
   "id": "a37410e7",
   "metadata": {},
   "outputs": [
    {
     "name": "stdout",
     "output_type": "stream",
     "text": [
      "홍길동 남자\n"
     ]
    }
   ],
   "source": [
    "# 변수 추가\n",
    "class Person: # 무조건 public\n",
    "    name    = '홍길동'\n",
    "    gender  = '남자'\n",
    "    \n",
    "p1 = Person()\n",
    "\n",
    "print(p1.name, p1.gender)"
   ]
  },
  {
   "cell_type": "code",
   "execution_count": 12,
   "id": "6eed518c",
   "metadata": {},
   "outputs": [
    {
     "name": "stdout",
     "output_type": "stream",
     "text": [
      "클래스 영역변수 : 홍길동 남자\n",
      "p1 객체의 변수 : 홍길동 남자\n",
      "p2 객체의 변수 : 이순신 남자\n"
     ]
    }
   ],
   "source": [
    "p2 = Person()\n",
    "p2.name = '이순신'\n",
    "\n",
    "print(\"클래스 영역변수 :\", Person.name, Person.gender)\n",
    "print(\"p1 객체의 변수 :\", p1.name, p1.gender)\n",
    "print(\"p2 객체의 변수 :\", p2.name, p2.gender)"
   ]
  },
  {
   "cell_type": "code",
   "execution_count": 13,
   "id": "ad1ef7a0",
   "metadata": {},
   "outputs": [
    {
     "name": "stdout",
     "output_type": "stream",
     "text": [
      "클래스 영역변수 : 리사 여자\n",
      "p1 객체의 변수 : 리사 여자\n",
      "p2 객체의 변수 : 이순신 여자\n"
     ]
    }
   ],
   "source": [
    "Person.name = '리사'\n",
    "Person.gender = '여자'\n",
    "\n",
    "print(\"클래스 영역변수 :\", Person.name, Person.gender)\n",
    "print(\"p1 객체의 변수 :\", p1.name, p1.gender)\n",
    "print(\"p2 객체의 변수 :\", p2.name, p2.gender)"
   ]
  },
  {
   "cell_type": "code",
   "execution_count": 14,
   "id": "6f1f7d56",
   "metadata": {},
   "outputs": [],
   "source": [
    "# 메소드 추가\n",
    "class Person:\n",
    "    name   = '홍길동'\n",
    "    gender = '남자'\n",
    "    def print_info():\n",
    "        print(\"Person 메소드\")\n",
    "        print(\"{}은 {}입니다.\".format(Person.name, Person.gender))"
   ]
  },
  {
   "cell_type": "code",
   "execution_count": 15,
   "id": "eb1e8bc3",
   "metadata": {},
   "outputs": [
    {
     "name": "stdout",
     "output_type": "stream",
     "text": [
      "홍길동 남자\n",
      "Person 메소드\n",
      "홍길동은 남자입니다.\n"
     ]
    }
   ],
   "source": [
    "print(Person.name, Person.gender)\n",
    "Person.print_info()"
   ]
  },
  {
   "cell_type": "code",
   "execution_count": 16,
   "id": "d3bb12b4",
   "metadata": {},
   "outputs": [
    {
     "name": "stdout",
     "output_type": "stream",
     "text": [
      "유관순 여자\n"
     ]
    }
   ],
   "source": [
    "p1 = Person()\n",
    "p1.name = '유관순'\n",
    "p1.gender = '여자'\n",
    "\n",
    "print(p1.name, p1.gender)\n"
   ]
  },
  {
   "cell_type": "code",
   "execution_count": 19,
   "id": "3e4afab7",
   "metadata": {},
   "outputs": [
    {
     "name": "stdout",
     "output_type": "stream",
     "text": [
      "손책 남자 30\n",
      "대교는 30살이고 남자입니다.\n"
     ]
    }
   ],
   "source": [
    "# 인스턴스 메소드(객체가 호출할 수 있는 함수)\n",
    "class Person:\n",
    "    name = '손책'\n",
    "    gender = '남자'\n",
    "    age = 30\n",
    "    # 인스턴스 메소드는 첫번째 인자에 self or 무언가를 꼭 써야한다.\n",
    "    # 실제 호출시에는 매개변수x self : 인스턴스 메소드임을 표시\n",
    "    def print_info(self): # self = 자바에서의 this\n",
    "        print(\"{}는 {}살이고 {}입니다.\".format(self.name, self.age, self.gender))\n",
    "\n",
    "print(Person.name, Person.gender, Person.age)\n",
    "\n",
    "p1 = Person()\n",
    "p1.name = '대교'\n",
    "\n",
    "p1.print_info()"
   ]
  },
  {
   "cell_type": "code",
   "execution_count": 18,
   "id": "d9aa1a00",
   "metadata": {},
   "outputs": [
    {
     "ename": "TypeError",
     "evalue": "print_info() missing 1 required positional argument: 'self'",
     "output_type": "error",
     "traceback": [
      "\u001b[1;31m---------------------------------------------------------------------------\u001b[0m",
      "\u001b[1;31mTypeError\u001b[0m                                 Traceback (most recent call last)",
      "\u001b[1;32m<ipython-input-18-5d08db0c8414>\u001b[0m in \u001b[0;36m<module>\u001b[1;34m\u001b[0m\n\u001b[1;32m----> 1\u001b[1;33m \u001b[0mPerson\u001b[0m\u001b[1;33m.\u001b[0m\u001b[0mprint_info\u001b[0m\u001b[1;33m(\u001b[0m\u001b[1;33m)\u001b[0m\u001b[1;33m\u001b[0m\u001b[1;33m\u001b[0m\u001b[0m\n\u001b[0m",
      "\u001b[1;31mTypeError\u001b[0m: print_info() missing 1 required positional argument: 'self'"
     ]
    }
   ],
   "source": [
    "Person.print_info()"
   ]
  },
  {
   "cell_type": "code",
   "execution_count": 21,
   "id": "6c40a475",
   "metadata": {},
   "outputs": [],
   "source": [
    "p1.address = '서울시'\n",
    "p1.nickname = '강동이교'"
   ]
  },
  {
   "cell_type": "code",
   "execution_count": 23,
   "id": "b31138e9",
   "metadata": {},
   "outputs": [
    {
     "name": "stdout",
     "output_type": "stream",
     "text": [
      "대교 강동이교 서울시\n"
     ]
    }
   ],
   "source": [
    "print(p1.name, p1.nickname, p1.address)"
   ]
  },
  {
   "cell_type": "markdown",
   "id": "74c9e564",
   "metadata": {},
   "source": [
    "### 인스턴스 메소드 & 클래스 메소드 & static 메소드\n",
    "1. 인스턴스 메소드 : 첫번째 인자에 self를 삽입. 객체를 통해서만 호출할 메소드\n",
    "2. 클래스 메소드 : @classmethod를 통해 선언한 메소드. 첫번째 인자에 cls(or cla or clazz)를 삽입\n",
    "3. static 메소드 : @staticmethod를 통해 선언한 메소드. 인자를 쓰지않는게 일반적이다."
   ]
  },
  {
   "cell_type": "code",
   "execution_count": 32,
   "id": "310d3a01",
   "metadata": {},
   "outputs": [],
   "source": [
    "class Person:\n",
    "    name = '가후'\n",
    "    gender = '남자'\n",
    "    def print_info(self):\n",
    "        print(\"일반(인스턴스 = 객체)메소드 - {}은(는) {}입니다.\".format(self.name, self.gender))\n",
    "    \n",
    "    @classmethod\n",
    "    def do_(cls):\n",
    "        cls.name = '장합'\n",
    "        cls.gender = '남자'\n",
    "        print(\"클래스 메소드 - {}은(는) {}입니다.\".format(cls.name, cls.gender))\n",
    "    \n",
    "    @staticmethod\n",
    "    def that_():\n",
    "        print(\"static 메소드 - {}은(는) {}입니다\".format(Person.name, Person.gender))"
   ]
  },
  {
   "cell_type": "code",
   "execution_count": 33,
   "id": "3079ad4f",
   "metadata": {},
   "outputs": [
    {
     "name": "stdout",
     "output_type": "stream",
     "text": [
      "일반(인스턴스 = 객체)메소드 - 하후연는 남자입니다.\n",
      "static 메소드 - 가후은(는) 남자입니다\n",
      "클래스 메소드 - 장합은(는) 남자입니다.\n"
     ]
    }
   ],
   "source": [
    "p1.name = '하후연'\n",
    "p1.print_info()\n",
    "\n",
    "Person.that_()\n",
    "Person.do_()"
   ]
  },
  {
   "cell_type": "code",
   "execution_count": 34,
   "id": "a1aad6ca",
   "metadata": {},
   "outputs": [
    {
     "name": "stdout",
     "output_type": "stream",
     "text": [
      "일반(인스턴스 = 객체)메소드 - 장합은(는) 남자입니다.\n"
     ]
    }
   ],
   "source": [
    "p2 = Person()\n",
    "p2.print_info()"
   ]
  },
  {
   "cell_type": "code",
   "execution_count": 35,
   "id": "32457061",
   "metadata": {},
   "outputs": [],
   "source": [
    "p2.age = 30"
   ]
  },
  {
   "cell_type": "code",
   "execution_count": 36,
   "id": "0a73e391",
   "metadata": {},
   "outputs": [
    {
     "data": {
      "text/plain": [
       "30"
      ]
     },
     "execution_count": 36,
     "metadata": {},
     "output_type": "execute_result"
    }
   ],
   "source": [
    "p2.age"
   ]
  },
  {
   "cell_type": "markdown",
   "id": "6fefd6e4",
   "metadata": {},
   "source": [
    "# 3절. 생성자(__init__())와 소멸자(__del__())\n",
    "- 생성자 : __init__(self, 매개변수, ...) 객체가 생성될 때 자동 실행\n",
    "           생성시 필요한 코드(객체 변수 초기화)를 포함\n",
    "           \n",
    "- 소멸자 : __del__(self) 객체가 소멸될 때 자동 실행\n",
    "           소멸시 필요한 코드를 포함\n",
    "           인스턴스 객체의 레퍼런스 카운트가 0이 될 때 실행"
   ]
  },
  {
   "cell_type": "code",
   "execution_count": 52,
   "id": "f5fd58cd",
   "metadata": {},
   "outputs": [],
   "source": [
    "class Person:\n",
    "    def __init__(self, name, gender):\n",
    "        self.name = name\n",
    "        self.gender = gender\n",
    "        print(\"Person 객체를 생성합니다.\")\n",
    "    \n",
    "    def __del__(self):\n",
    "        print(\"Person 객체를 소멸시킵니다.\")\n",
    "        \n",
    "    def print_info(self):\n",
    "        print(\"{}은(는) {}입니다.\".format(self.name, self.gender))\n",
    "    \n",
    "    def __str__(self):\n",
    "        return \"{}은(는) {}입니다.\".format(self.name, self.gender)"
   ]
  },
  {
   "cell_type": "code",
   "execution_count": 59,
   "id": "840da9b6",
   "metadata": {},
   "outputs": [
    {
     "name": "stdout",
     "output_type": "stream",
     "text": [
      "Person 객체를 소멸시킵니다.\n"
     ]
    },
    {
     "ename": "TypeError",
     "evalue": "__init__() missing 1 required positional argument: 'gender'",
     "output_type": "error",
     "traceback": [
      "\u001b[1;31m---------------------------------------------------------------------------\u001b[0m",
      "\u001b[1;31mTypeError\u001b[0m                                 Traceback (most recent call last)",
      "\u001b[1;32m<ipython-input-59-30b380b1be32>\u001b[0m in \u001b[0;36m<module>\u001b[1;34m\u001b[0m\n\u001b[1;32m----> 1\u001b[1;33m \u001b[0mp4\u001b[0m \u001b[1;33m=\u001b[0m \u001b[0mPerson\u001b[0m\u001b[1;33m(\u001b[0m\u001b[1;34m\"홍길동\"\u001b[0m\u001b[1;33m)\u001b[0m\u001b[1;33m\u001b[0m\u001b[1;33m\u001b[0m\u001b[0m\n\u001b[0m",
      "\u001b[1;31mTypeError\u001b[0m: __init__() missing 1 required positional argument: 'gender'"
     ]
    }
   ],
   "source": [
    "p4 = Person(\"홍길동\") # gender를 넣지 않아서"
   ]
  },
  {
   "cell_type": "code",
   "execution_count": 53,
   "id": "5774f31c",
   "metadata": {},
   "outputs": [
    {
     "name": "stdout",
     "output_type": "stream",
     "text": [
      "Person 객체를 생성합니다.\n",
      "Person 객체를 생성합니다.\n",
      "Person 객체를 소멸시킵니다.\n",
      "조조은(는) 남자입니다.\n",
      "사마의은(는) 남자입니다.\n"
     ]
    }
   ],
   "source": [
    "p1 = Person(\"조조\", \"남자\")\n",
    "p2 = Person(\"사마의\", \"남자\")\n",
    "\n",
    "p1.print_info()\n",
    "print(p2)"
   ]
  },
  {
   "cell_type": "code",
   "execution_count": 54,
   "id": "81fce1fa",
   "metadata": {},
   "outputs": [
    {
     "data": {
      "text/plain": [
       "(__main__.Person, True)"
      ]
     },
     "execution_count": 54,
     "metadata": {},
     "output_type": "execute_result"
    }
   ],
   "source": [
    "type(p1), isinstance(p1, Person)"
   ]
  },
  {
   "cell_type": "code",
   "execution_count": 55,
   "id": "712317b4",
   "metadata": {},
   "outputs": [
    {
     "name": "stdout",
     "output_type": "stream",
     "text": [
      "Person 객체를 소멸시킵니다.\n"
     ]
    }
   ],
   "source": [
    "del p1"
   ]
  },
  {
   "cell_type": "code",
   "execution_count": 56,
   "id": "caf6b304",
   "metadata": {},
   "outputs": [],
   "source": [
    "p3 = p2"
   ]
  },
  {
   "cell_type": "code",
   "execution_count": 57,
   "id": "f99cdc91",
   "metadata": {},
   "outputs": [],
   "source": [
    "del p2 # 레퍼런스 카운트가 0이 될 때, 생성자 자동 실행"
   ]
  },
  {
   "cell_type": "code",
   "execution_count": 58,
   "id": "a99b230f",
   "metadata": {},
   "outputs": [
    {
     "name": "stdout",
     "output_type": "stream",
     "text": [
      "Person 객체를 소멸시킵니다.\n"
     ]
    }
   ],
   "source": [
    "del p3"
   ]
  },
  {
   "cell_type": "markdown",
   "id": "5de6c73d",
   "metadata": {},
   "source": [
    "**★ 생성자를 통한 멤버변수의 초기화 ★**<br>\n",
    "**★ 파이썬은 함수를 중복정의(오버로딩) 불가 ★**<br>\n",
    "**★ 생성자 함수도 중복정의(오버로딩) 불가 ★**"
   ]
  },
  {
   "cell_type": "code",
   "execution_count": 1,
   "id": "99a912f9",
   "metadata": {},
   "outputs": [],
   "source": [
    "class Person:\n",
    "#     def __init__(self): # 매개변수 없이 호출 될 생성자\n",
    "#         self.name = '조운'\n",
    "#         self.gender = '남자'\n",
    "        \n",
    "#      def __init__(self, name): # 매개변수 1개 호출 될 생성자\n",
    "#          self.name = name\n",
    "#          self.gender = '남자'\n",
    "    \n",
    "    def __init__(self, name = '유비', gender = '남자'): # 매개변수 2개 호출 될 생성자\n",
    "        self.name = name\n",
    "        self.gender = gender\n",
    "        print('Person 객체를 생성합니다.')\n",
    "        \n",
    "    def __del__(self):\n",
    "        print(\"Person 객체를 소멸시킵니다.\")\n",
    "        \n",
    "    def __str__(self):\n",
    "        return \"%s은(는) %s입니다.\" % (self.name, self.gender)"
   ]
  },
  {
   "cell_type": "code",
   "execution_count": 2,
   "id": "7feeaf54",
   "metadata": {},
   "outputs": [
    {
     "name": "stdout",
     "output_type": "stream",
     "text": [
      "Person 객체를 생성합니다.\n",
      "Person 객체를 생성합니다.\n",
      "Person 객체를 생성합니다.\n"
     ]
    }
   ],
   "source": [
    "p1 = Person(\"조운\", \"남자\")\n",
    "p2 = Person(\"하후연\")\n",
    "p3 = Person()"
   ]
  },
  {
   "cell_type": "code",
   "execution_count": 3,
   "id": "478097f0",
   "metadata": {},
   "outputs": [
    {
     "name": "stdout",
     "output_type": "stream",
     "text": [
      "p1 = 조운은(는) 남자입니다.\n",
      "p2 = 하후연은(는) 남자입니다.\n",
      "p3 = 유비은(는) 남자입니다.\n"
     ]
    }
   ],
   "source": [
    "print(\"p1 =\", p1)\n",
    "print(\"p2 =\", p2)\n",
    "print(\"p3 =\", p3)"
   ]
  },
  {
   "cell_type": "markdown",
   "id": "7e622274",
   "metadata": {},
   "source": [
    "# 4절. 상속과 재정의"
   ]
  },
  {
   "cell_type": "code",
   "execution_count": 5,
   "id": "dd19d5b7",
   "metadata": {},
   "outputs": [],
   "source": [
    "class Person:\n",
    "    ' Person은 이름과 성별 멤버변수가 있고 ...'\n",
    "    def __init__(self, name, gender):\n",
    "        print(\"Person 객체를 생성합니다.\")\n",
    "        self.name = name\n",
    "        self.gender = gender\n",
    "    \n",
    "    def __del__(self):\n",
    "        print(\"Person 객체를 소멸시킵니다.\")\n",
    "    \n",
    "    def print_info(self):\n",
    "        ' 객체의 이름과 성별을 출력합니다 '\n",
    "        print(\"{}님은 {}\".format(self.name, self.gender))\n",
    "        \n",
    "    def __str__(self):\n",
    "        return \"{}님은 {}\".format(self.name, self.gender)"
   ]
  },
  {
   "cell_type": "code",
   "execution_count": 8,
   "id": "c0132670",
   "metadata": {},
   "outputs": [],
   "source": [
    "class Student(Person):\n",
    "    ' name과 gender에 major 변수를 갖는 Student 타입 '\n",
    "    def __init__(self, name, gender, major):\n",
    "        self.name = name\n",
    "        self.gender = gender\n",
    "        self.major = major\n",
    "        \n",
    "    def __del__(self):\n",
    "        pass\n",
    "    \n",
    "    def print_info(self):\n",
    "        print(\"{}님의 전공 : {}, {}입니다.\".format(self.name, self.major, self.gender))\n",
    "        \n",
    "    def __str__(self):\n",
    "        return \"{}님의 전공 : {}, {}입니다.\".format(self.name, self.major, self.gender)"
   ]
  },
  {
   "cell_type": "code",
   "execution_count": 6,
   "id": "5213b38e",
   "metadata": {},
   "outputs": [
    {
     "name": "stdout",
     "output_type": "stream",
     "text": [
      "Person 객체를 생성합니다.\n",
      "홍길동님은 남자\n"
     ]
    },
    {
     "data": {
      "text/plain": [
       "True"
      ]
     },
     "execution_count": 6,
     "metadata": {},
     "output_type": "execute_result"
    }
   ],
   "source": [
    "p1 = Person(\"홍길동\", \"남자\")\n",
    "print(p1)\n",
    "isinstance(p1, Person)"
   ]
  },
  {
   "cell_type": "code",
   "execution_count": 9,
   "id": "adca9570",
   "metadata": {},
   "outputs": [
    {
     "name": "stdout",
     "output_type": "stream",
     "text": [
      "홍길순님의 전공 : 빅데이터, 여자입니다.\n"
     ]
    }
   ],
   "source": [
    "s1 = Student(\"홍길순\", \"여자\", \"빅데이터\")\n",
    "print(s1)"
   ]
  },
  {
   "cell_type": "code",
   "execution_count": 10,
   "id": "04af2483",
   "metadata": {},
   "outputs": [
    {
     "data": {
      "text/plain": [
       "True"
      ]
     },
     "execution_count": 10,
     "metadata": {},
     "output_type": "execute_result"
    }
   ],
   "source": [
    "issubclass(Student, Person)"
   ]
  },
  {
   "cell_type": "code",
   "execution_count": 11,
   "id": "64dcc704",
   "metadata": {},
   "outputs": [
    {
     "data": {
      "text/plain": [
       "True"
      ]
     },
     "execution_count": 11,
     "metadata": {},
     "output_type": "execute_result"
    }
   ],
   "source": [
    "isinstance(s1, Student)"
   ]
  },
  {
   "cell_type": "code",
   "execution_count": 12,
   "id": "3b7c6a43",
   "metadata": {},
   "outputs": [
    {
     "data": {
      "text/plain": [
       "True"
      ]
     },
     "execution_count": 12,
     "metadata": {},
     "output_type": "execute_result"
    }
   ],
   "source": [
    "isinstance(s1, Person)"
   ]
  },
  {
   "cell_type": "code",
   "execution_count": null,
   "id": "bd104607",
   "metadata": {},
   "outputs": [],
   "source": [
    "class Person:\n",
    "    ' Person은 이름과 성별 멤버변수가 있고 ...'\n",
    "    def __init__(self, name, gender):\n",
    "        print(\"Person 객체를 생성합니다.\")\n",
    "        self.name = name\n",
    "        self.gender = gender\n",
    "    \n",
    "    def __del__(self):\n",
    "        print(\"Person 객체를 소멸시킵니다.\")\n",
    "    \n",
    "    def print_info(self):\n",
    "        ' 객체의 이름과 성별을 출력합니다 '\n",
    "        print(\"{}님은 {}\".format(self.name, self.gender))\n",
    "        \n",
    "    def __str__(self):\n",
    "        return \"{}님은 {}\".format(self.name, self.gender)\n",
    "    \n",
    "\n",
    "class Student(Person):\n",
    "    ' name과 gender에 major 변수를 갖는 Student 타입 '\n",
    "    def __init__(self, name, gender, major):\n",
    "        # 부모클래스의 생성자를 호출하여 name, gender를 초기화하기\n",
    "        super().__init__(name, gender) # Person(super class)class에 있는~\n",
    "        # Person.__init__(self, name, gender)\n",
    "        self.major = major\n",
    "        \n",
    "    def __del__(self):\n",
    "        pass\n",
    "    \n",
    "    def print_info(self):\n",
    "        super().print_info()\n",
    "        print(\"전공은 {}입니다.\".format(self.major))\n",
    "        \n",
    "    def __str__(self):\n",
    "        return Person.__str__(self) + \"그리고 전공은 {}입니다.\".format(self.major)"
   ]
  },
  {
   "cell_type": "code",
   "execution_count": null,
   "id": "48eca02c",
   "metadata": {},
   "outputs": [],
   "source": []
  },
  {
   "cell_type": "code",
   "execution_count": null,
   "id": "f9fc0d9b",
   "metadata": {},
   "outputs": [],
   "source": []
  },
  {
   "cell_type": "code",
   "execution_count": null,
   "id": "b45e29a0",
   "metadata": {},
   "outputs": [],
   "source": []
  },
  {
   "cell_type": "code",
   "execution_count": null,
   "id": "1cb7465a",
   "metadata": {},
   "outputs": [],
   "source": []
  },
  {
   "cell_type": "code",
   "execution_count": null,
   "id": "d9fc8421",
   "metadata": {},
   "outputs": [],
   "source": []
  },
  {
   "cell_type": "code",
   "execution_count": null,
   "id": "50d74033",
   "metadata": {},
   "outputs": [],
   "source": []
  },
  {
   "cell_type": "code",
   "execution_count": null,
   "id": "eafaadf3",
   "metadata": {},
   "outputs": [],
   "source": []
  },
  {
   "cell_type": "code",
   "execution_count": null,
   "id": "0d65a5fe",
   "metadata": {},
   "outputs": [],
   "source": []
  },
  {
   "cell_type": "code",
   "execution_count": null,
   "id": "55fdf347",
   "metadata": {},
   "outputs": [],
   "source": []
  },
  {
   "cell_type": "code",
   "execution_count": null,
   "id": "50e02f82",
   "metadata": {},
   "outputs": [],
   "source": []
  },
  {
   "cell_type": "code",
   "execution_count": null,
   "id": "b23400d7",
   "metadata": {},
   "outputs": [],
   "source": []
  },
  {
   "cell_type": "code",
   "execution_count": null,
   "id": "f8dfb58f",
   "metadata": {},
   "outputs": [],
   "source": []
  },
  {
   "cell_type": "code",
   "execution_count": null,
   "id": "1cc0d84d",
   "metadata": {},
   "outputs": [],
   "source": []
  },
  {
   "cell_type": "code",
   "execution_count": null,
   "id": "0f4f9227",
   "metadata": {},
   "outputs": [],
   "source": []
  }
 ],
 "metadata": {
  "kernelspec": {
   "display_name": "Python 3",
   "language": "python",
   "name": "python3"
  },
  "language_info": {
   "codemirror_mode": {
    "name": "ipython",
    "version": 3
   },
   "file_extension": ".py",
   "mimetype": "text/x-python",
   "name": "python",
   "nbconvert_exporter": "python",
   "pygments_lexer": "ipython3",
   "version": "3.8.8"
  },
  "toc": {
   "base_numbering": 1,
   "nav_menu": {},
   "number_sections": false,
   "sideBar": true,
   "skip_h1_title": false,
   "title_cell": "Table of Contents",
   "title_sidebar": "Contents",
   "toc_cell": false,
   "toc_position": {
    "height": "calc(100% - 180px)",
    "left": "10px",
    "top": "150px",
    "width": "248px"
   },
   "toc_section_display": true,
   "toc_window_display": true
  },
  "varInspector": {
   "cols": {
    "lenName": 16,
    "lenType": 16,
    "lenVar": 40
   },
   "kernels_config": {
    "python": {
     "delete_cmd_postfix": "",
     "delete_cmd_prefix": "del ",
     "library": "var_list.py",
     "varRefreshCmd": "print(var_dic_list())"
    },
    "r": {
     "delete_cmd_postfix": ") ",
     "delete_cmd_prefix": "rm(",
     "library": "var_list.r",
     "varRefreshCmd": "cat(var_dic_list()) "
    }
   },
   "position": {
    "height": "422px",
    "left": "1550px",
    "right": "20px",
    "top": "120px",
    "width": "350px"
   },
   "types_to_exclude": [
    "module",
    "function",
    "builtin_function_or_method",
    "instance",
    "_Feature"
   ],
   "window_display": true
  }
 },
 "nbformat": 4,
 "nbformat_minor": 5
}
