{
 "cells": [
  {
   "cell_type": "markdown",
   "id": "20cae52a",
   "metadata": {},
   "source": [
    "<b><font color = \"red\" size = \"6\">ch07. 객체지향 프로그래밍</font></b>"
   ]
  },
  {
   "cell_type": "markdown",
   "id": "877ef227",
   "metadata": {},
   "source": [
    "# 1절. 객체와 클래스\n",
    "```\n",
    "class 클래스명(상속받을 클래스명):\n",
    "    변수나 함수들을 선언\n",
    "```"
   ]
  },
  {
   "cell_type": "code",
   "execution_count": 1,
   "id": "62f2a58b",
   "metadata": {},
   "outputs": [],
   "source": [
    "class Person:\n",
    "    '''\n",
    "    Person 클래스는 ...\n",
    "    여러줄 설명하는 docstring\n",
    "    '''\n",
    "    pass\n",
    "\n",
    "'''\n",
    "class Person{\n",
    "\n",
    "}\n",
    "'''\n",
    "# Person p1 = new Person() 자바에서..\n",
    "p1 = Person() # 객체 생성"
   ]
  },
  {
   "cell_type": "code",
   "execution_count": 2,
   "id": "5c770f54",
   "metadata": {},
   "outputs": [
    {
     "data": {
      "text/plain": [
       "__main__.Person"
      ]
     },
     "execution_count": 2,
     "metadata": {},
     "output_type": "execute_result"
    }
   ],
   "source": [
    "type(p1)"
   ]
  },
  {
   "cell_type": "code",
   "execution_count": 3,
   "id": "21196b25",
   "metadata": {},
   "outputs": [
    {
     "name": "stdout",
     "output_type": "stream",
     "text": [
      "<__main__.Person object at 0x000001D276A745E0>\n"
     ]
    }
   ],
   "source": [
    "print(p1)"
   ]
  },
  {
   "cell_type": "code",
   "execution_count": 4,
   "id": "3072ec3e",
   "metadata": {},
   "outputs": [
    {
     "data": {
      "text/plain": [
       "True"
      ]
     },
     "execution_count": 4,
     "metadata": {},
     "output_type": "execute_result"
    }
   ],
   "source": [
    "isinstance(p1, Person)"
   ]
  },
  {
   "cell_type": "code",
   "execution_count": 5,
   "id": "8f8590f7",
   "metadata": {},
   "outputs": [
    {
     "name": "stdout",
     "output_type": "stream",
     "text": [
      "\n",
      "    Person 클래스는 ...\n",
      "    여러줄 설명하는 docstring\n",
      "    \n"
     ]
    }
   ],
   "source": [
    "print(p1.__doc__) # 독스트링"
   ]
  },
  {
   "cell_type": "markdown",
   "id": "9e06455d",
   "metadata": {},
   "source": [
    "# 2절. 변수와 메소드"
   ]
  },
  {
   "cell_type": "code",
   "execution_count": 7,
   "id": "8f108eea",
   "metadata": {},
   "outputs": [
    {
     "name": "stdout",
     "output_type": "stream",
     "text": [
      "홍길동 남자\n"
     ]
    }
   ],
   "source": [
    "# 변수 추가\n",
    "class Person: # 무조건 public\n",
    "    name    = '홍길동'\n",
    "    gender  = '남자'\n",
    "    \n",
    "p1 = Person()\n",
    "\n",
    "print(p1.name, p1.gender)"
   ]
  },
  {
   "cell_type": "code",
   "execution_count": 12,
   "id": "28d78407",
   "metadata": {},
   "outputs": [
    {
     "name": "stdout",
     "output_type": "stream",
     "text": [
      "클래스 영역변수 : 홍길동 남자\n",
      "p1 객체의 변수 : 홍길동 남자\n",
      "p2 객체의 변수 : 이순신 남자\n"
     ]
    }
   ],
   "source": [
    "p2 = Person()\n",
    "p2.name = '이순신'\n",
    "\n",
    "print(\"클래스 영역변수 :\", Person.name, Person.gender)\n",
    "print(\"p1 객체의 변수 :\", p1.name, p1.gender)\n",
    "print(\"p2 객체의 변수 :\", p2.name, p2.gender)"
   ]
  },
  {
   "cell_type": "code",
   "execution_count": 13,
   "id": "4949f1ab",
   "metadata": {},
   "outputs": [
    {
     "name": "stdout",
     "output_type": "stream",
     "text": [
      "클래스 영역변수 : 리사 여자\n",
      "p1 객체의 변수 : 리사 여자\n",
      "p2 객체의 변수 : 이순신 여자\n"
     ]
    }
   ],
   "source": [
    "Person.name = '리사'\n",
    "Person.gender = '여자'\n",
    "\n",
    "print(\"클래스 영역변수 :\", Person.name, Person.gender)\n",
    "print(\"p1 객체의 변수 :\", p1.name, p1.gender)\n",
    "print(\"p2 객체의 변수 :\", p2.name, p2.gender)"
   ]
  },
  {
   "cell_type": "code",
   "execution_count": 14,
   "id": "38f8ab39",
   "metadata": {},
   "outputs": [],
   "source": [
    "# 메소드 추가\n",
    "class Person:\n",
    "    name   = '홍길동'\n",
    "    gender = '남자'\n",
    "    def print_info():\n",
    "        print(\"Person 메소드\")\n",
    "        print(\"{}은 {}입니다.\".format(Person.name, Person.gender))"
   ]
  },
  {
   "cell_type": "code",
   "execution_count": 15,
   "id": "c7ac975c",
   "metadata": {},
   "outputs": [
    {
     "name": "stdout",
     "output_type": "stream",
     "text": [
      "홍길동 남자\n",
      "Person 메소드\n",
      "홍길동은 남자입니다.\n"
     ]
    }
   ],
   "source": [
    "print(Person.name, Person.gender)\n",
    "Person.print_info()"
   ]
  },
  {
   "cell_type": "code",
   "execution_count": 16,
   "id": "ce2df74a",
   "metadata": {},
   "outputs": [
    {
     "name": "stdout",
     "output_type": "stream",
     "text": [
      "유관순 여자\n"
     ]
    }
   ],
   "source": [
    "p1 = Person()\n",
    "p1.name = '유관순'\n",
    "p1.gender = '여자'\n",
    "\n",
    "print(p1.name, p1.gender)\n"
   ]
  },
  {
   "cell_type": "code",
   "execution_count": 19,
   "id": "f7a8e546",
   "metadata": {},
   "outputs": [
    {
     "name": "stdout",
     "output_type": "stream",
     "text": [
      "손책 남자 30\n",
      "대교는 30살이고 남자입니다.\n"
     ]
    }
   ],
   "source": [
    "# 인스턴스 메소드(객체가 호출할 수 있는 함수)\n",
    "class Person:\n",
    "    name = '손책'\n",
    "    gender = '남자'\n",
    "    age = 30\n",
    "    # 인스턴스 메소드는 첫번째 인자에 self or 무언가를 꼭 써야한다.\n",
    "    # 실제 호출시에는 매개변수x self : 인스턴스 메소드임을 표시\n",
    "    def print_info(self): # self = 자바에서의 this\n",
    "        print(\"{}는 {}살이고 {}입니다.\".format(self.name, self.age, self.gender))\n",
    "\n",
    "print(Person.name, Person.gender, Person.age)\n",
    "\n",
    "p1 = Person()\n",
    "p1.name = '대교'\n",
    "\n",
    "p1.print_info()"
   ]
  },
  {
   "cell_type": "code",
   "execution_count": 18,
   "id": "032b2c30",
   "metadata": {},
   "outputs": [
    {
     "ename": "TypeError",
     "evalue": "print_info() missing 1 required positional argument: 'self'",
     "output_type": "error",
     "traceback": [
      "\u001b[1;31m---------------------------------------------------------------------------\u001b[0m",
      "\u001b[1;31mTypeError\u001b[0m                                 Traceback (most recent call last)",
      "\u001b[1;32m<ipython-input-18-5d08db0c8414>\u001b[0m in \u001b[0;36m<module>\u001b[1;34m\u001b[0m\n\u001b[1;32m----> 1\u001b[1;33m \u001b[0mPerson\u001b[0m\u001b[1;33m.\u001b[0m\u001b[0mprint_info\u001b[0m\u001b[1;33m(\u001b[0m\u001b[1;33m)\u001b[0m\u001b[1;33m\u001b[0m\u001b[1;33m\u001b[0m\u001b[0m\n\u001b[0m",
      "\u001b[1;31mTypeError\u001b[0m: print_info() missing 1 required positional argument: 'self'"
     ]
    }
   ],
   "source": [
    "Person.print_info()"
   ]
  },
  {
   "cell_type": "code",
   "execution_count": 21,
   "id": "6c111279",
   "metadata": {},
   "outputs": [],
   "source": [
    "p1.address = '서울시'\n",
    "p1.nickname = '강동이교'"
   ]
  },
  {
   "cell_type": "code",
   "execution_count": 23,
   "id": "29a4434e",
   "metadata": {},
   "outputs": [
    {
     "name": "stdout",
     "output_type": "stream",
     "text": [
      "대교 강동이교 서울시\n"
     ]
    }
   ],
   "source": [
    "print(p1.name, p1.nickname, p1.address)"
   ]
  },
  {
   "cell_type": "markdown",
   "id": "932f4ddc",
   "metadata": {},
   "source": [
    "### 인스턴스 메소드 & 클래스 메소드 & static 메소드\n",
    "1. 인스턴스 메소드 : 첫번째 인자에 self를 삽입. 객체를 통해서만 호출할 메소드\n",
    "2. 클래스 메소드 : @classmethod를 통해 선언한 메소드. 첫번째 인자에 cls(or cla or clazz)를 삽입\n",
    "3. static 메소드 : @staticmethod를 통해 선언한 메소드. 인자를 쓰지않는게 일반적이다."
   ]
  },
  {
   "cell_type": "code",
   "execution_count": 32,
   "id": "f8aca7cc",
   "metadata": {},
   "outputs": [],
   "source": [
    "class Person:\n",
    "    name = '가후'\n",
    "    gender = '남자'\n",
    "    def print_info(self):\n",
    "        print(\"일반(인스턴스 = 객체)메소드 - {}은(는) {}입니다.\".format(self.name, self.gender))\n",
    "    \n",
    "    @classmethod\n",
    "    def do_(cls):\n",
    "        cls.name = '장합'\n",
    "        cls.gender = '남자'\n",
    "        print(\"클래스 메소드 - {}은(는) {}입니다.\".format(cls.name, cls.gender))\n",
    "    \n",
    "    @staticmethod\n",
    "    def that_():\n",
    "        print(\"static 메소드 - {}은(는) {}입니다\".format(Person.name, Person.gender))"
   ]
  },
  {
   "cell_type": "code",
   "execution_count": 33,
   "id": "2e8bc416",
   "metadata": {},
   "outputs": [
    {
     "name": "stdout",
     "output_type": "stream",
     "text": [
      "일반(인스턴스 = 객체)메소드 - 하후연는 남자입니다.\n",
      "static 메소드 - 가후은(는) 남자입니다\n",
      "클래스 메소드 - 장합은(는) 남자입니다.\n"
     ]
    }
   ],
   "source": [
    "p1.name = '하후연'\n",
    "p1.print_info()\n",
    "\n",
    "Person.that_()\n",
    "Person.do_()"
   ]
  },
  {
   "cell_type": "code",
   "execution_count": 34,
   "id": "a5eedf20",
   "metadata": {},
   "outputs": [
    {
     "name": "stdout",
     "output_type": "stream",
     "text": [
      "일반(인스턴스 = 객체)메소드 - 장합은(는) 남자입니다.\n"
     ]
    }
   ],
   "source": [
    "p2 = Person()\n",
    "p2.print_info()"
   ]
  },
  {
   "cell_type": "code",
   "execution_count": 35,
   "id": "bdeac100",
   "metadata": {},
   "outputs": [],
   "source": [
    "p2.age = 30"
   ]
  },
  {
   "cell_type": "code",
   "execution_count": 36,
   "id": "c1e4d977",
   "metadata": {},
   "outputs": [
    {
     "data": {
      "text/plain": [
       "30"
      ]
     },
     "execution_count": 36,
     "metadata": {},
     "output_type": "execute_result"
    }
   ],
   "source": [
    "p2.age"
   ]
  },
  {
   "cell_type": "markdown",
   "id": "4e4d93e5",
   "metadata": {},
   "source": [
    "# 3절. 생성자(__init__())와 소멸자(__del__())\n",
    "- 생성자 : __init__(self, 매개변수, ...) 객체가 생성될 때 자동 실행\n",
    "           생성시 필요한 코드(객체 변수 초기화)를 포함\n",
    "           \n",
    "- 소멸자 : __del__(self) 객체가 소멸될 때 자동 실행\n",
    "           소멸시 필요한 코드를 포함\n",
    "           인스턴스 객체의 레퍼런스 카운트가 0이 될 때 실행"
   ]
  },
  {
   "cell_type": "code",
   "execution_count": 52,
   "id": "42063eb6",
   "metadata": {},
   "outputs": [],
   "source": [
    "class Person:\n",
    "    def __init__(self, name, gender):\n",
    "        self.name = name\n",
    "        self.gender = gender\n",
    "        print(\"Person 객체를 생성합니다.\")\n",
    "    \n",
    "    def __del__(self):\n",
    "        print(\"Person 객체를 소멸시킵니다.\")\n",
    "        \n",
    "    def print_info(self):\n",
    "        print(\"{}은(는) {}입니다.\".format(self.name, self.gender))\n",
    "    \n",
    "    def __str__(self):\n",
    "        return \"{}은(는) {}입니다.\".format(self.name, self.gender)"
   ]
  },
  {
   "cell_type": "code",
   "execution_count": 59,
   "id": "03945403",
   "metadata": {},
   "outputs": [
    {
     "name": "stdout",
     "output_type": "stream",
     "text": [
      "Person 객체를 소멸시킵니다.\n"
     ]
    },
    {
     "ename": "TypeError",
     "evalue": "__init__() missing 1 required positional argument: 'gender'",
     "output_type": "error",
     "traceback": [
      "\u001b[1;31m---------------------------------------------------------------------------\u001b[0m",
      "\u001b[1;31mTypeError\u001b[0m                                 Traceback (most recent call last)",
      "\u001b[1;32m<ipython-input-59-30b380b1be32>\u001b[0m in \u001b[0;36m<module>\u001b[1;34m\u001b[0m\n\u001b[1;32m----> 1\u001b[1;33m \u001b[0mp4\u001b[0m \u001b[1;33m=\u001b[0m \u001b[0mPerson\u001b[0m\u001b[1;33m(\u001b[0m\u001b[1;34m\"홍길동\"\u001b[0m\u001b[1;33m)\u001b[0m\u001b[1;33m\u001b[0m\u001b[1;33m\u001b[0m\u001b[0m\n\u001b[0m",
      "\u001b[1;31mTypeError\u001b[0m: __init__() missing 1 required positional argument: 'gender'"
     ]
    }
   ],
   "source": [
    "p4 = Person(\"홍길동\") # gender를 넣지 않아서"
   ]
  },
  {
   "cell_type": "code",
   "execution_count": 53,
   "id": "975a285b",
   "metadata": {},
   "outputs": [
    {
     "name": "stdout",
     "output_type": "stream",
     "text": [
      "Person 객체를 생성합니다.\n",
      "Person 객체를 생성합니다.\n",
      "Person 객체를 소멸시킵니다.\n",
      "조조은(는) 남자입니다.\n",
      "사마의은(는) 남자입니다.\n"
     ]
    }
   ],
   "source": [
    "p1 = Person(\"조조\", \"남자\")\n",
    "p2 = Person(\"사마의\", \"남자\")\n",
    "\n",
    "p1.print_info()\n",
    "print(p2)"
   ]
  },
  {
   "cell_type": "code",
   "execution_count": 54,
   "id": "0d063e7d",
   "metadata": {},
   "outputs": [
    {
     "data": {
      "text/plain": [
       "(__main__.Person, True)"
      ]
     },
     "execution_count": 54,
     "metadata": {},
     "output_type": "execute_result"
    }
   ],
   "source": [
    "type(p1), isinstance(p1, Person)"
   ]
  },
  {
   "cell_type": "code",
   "execution_count": 55,
   "id": "3fdff909",
   "metadata": {},
   "outputs": [
    {
     "name": "stdout",
     "output_type": "stream",
     "text": [
      "Person 객체를 소멸시킵니다.\n"
     ]
    }
   ],
   "source": [
    "del p1"
   ]
  },
  {
   "cell_type": "code",
   "execution_count": 56,
   "id": "f00eba90",
   "metadata": {},
   "outputs": [],
   "source": [
    "p3 = p2"
   ]
  },
  {
   "cell_type": "code",
   "execution_count": 57,
   "id": "6e639693",
   "metadata": {},
   "outputs": [],
   "source": [
    "del p2 # 레퍼런스 카운트가 0이 될 때, 생성자 자동 실행"
   ]
  },
  {
   "cell_type": "code",
   "execution_count": 58,
   "id": "da1856fc",
   "metadata": {},
   "outputs": [
    {
     "name": "stdout",
     "output_type": "stream",
     "text": [
      "Person 객체를 소멸시킵니다.\n"
     ]
    }
   ],
   "source": [
    "del p3"
   ]
  },
  {
   "cell_type": "markdown",
   "id": "c882cde7",
   "metadata": {},
   "source": [
    "**★ 생성자를 통한 멤버변수의 초기화 ★**<br>\n",
    "**★ 파이썬은 함수를 중복정의(오버로딩) 불가 ★**<br>\n",
    "**★ 생성자 함수도 중복정의(오버로딩) 불가 ★**"
   ]
  },
  {
   "cell_type": "code",
   "execution_count": 1,
   "id": "6ae4951b",
   "metadata": {},
   "outputs": [],
   "source": [
    "class Person:\n",
    "#     def __init__(self): # 매개변수 없이 호출 될 생성자\n",
    "#         self.name = '조운'\n",
    "#         self.gender = '남자'\n",
    "        \n",
    "#      def __init__(self, name): # 매개변수 1개 호출 될 생성자\n",
    "#          self.name = name\n",
    "#          self.gender = '남자'\n",
    "    \n",
    "    def __init__(self, name = '유비', gender = '남자'): # 매개변수 2개 호출 될 생성자\n",
    "        self.name = name\n",
    "        self.gender = gender\n",
    "        print('Person 객체를 생성합니다.')\n",
    "        \n",
    "    def __del__(self):\n",
    "        print(\"Person 객체를 소멸시킵니다.\")\n",
    "        \n",
    "    def __str__(self):\n",
    "        return \"%s은(는) %s입니다.\" % (self.name, self.gender)"
   ]
  },
  {
   "cell_type": "code",
   "execution_count": 2,
   "id": "ebf78566",
   "metadata": {},
   "outputs": [
    {
     "name": "stdout",
     "output_type": "stream",
     "text": [
      "Person 객체를 생성합니다.\n",
      "Person 객체를 생성합니다.\n",
      "Person 객체를 생성합니다.\n"
     ]
    }
   ],
   "source": [
    "p1 = Person(\"조운\", \"남자\")\n",
    "p2 = Person(\"하후연\")\n",
    "p3 = Person()"
   ]
  },
  {
   "cell_type": "code",
   "execution_count": 3,
   "id": "7e90242b",
   "metadata": {},
   "outputs": [
    {
     "name": "stdout",
     "output_type": "stream",
     "text": [
      "p1 = 조운은(는) 남자입니다.\n",
      "p2 = 하후연은(는) 남자입니다.\n",
      "p3 = 유비은(는) 남자입니다.\n"
     ]
    }
   ],
   "source": [
    "print(\"p1 =\", p1)\n",
    "print(\"p2 =\", p2)\n",
    "print(\"p3 =\", p3)"
   ]
  },
  {
   "cell_type": "markdown",
   "id": "0d59fb25",
   "metadata": {},
   "source": [
    "# 4절. 상속과 재정의"
   ]
  },
  {
   "cell_type": "code",
   "execution_count": 5,
   "id": "40bdf275",
   "metadata": {},
   "outputs": [],
   "source": [
    "class Person:\n",
    "    ' Person은 이름과 성별 멤버변수가 있고 ...'\n",
    "    def __init__(self, name, gender):\n",
    "        print(\"Person 객체를 생성합니다.\")\n",
    "        self.name = name\n",
    "        self.gender = gender\n",
    "    \n",
    "    def __del__(self):\n",
    "        print(\"Person 객체를 소멸시킵니다.\")\n",
    "    \n",
    "    def print_info(self):\n",
    "        ' 객체의 이름과 성별을 출력합니다 '\n",
    "        print(\"{}님은 {}\".format(self.name, self.gender))\n",
    "        \n",
    "    def __str__(self):\n",
    "        return \"{}님은 {}\".format(self.name, self.gender)"
   ]
  },
  {
   "cell_type": "code",
   "execution_count": 8,
   "id": "fe88b6cd",
   "metadata": {},
   "outputs": [],
   "source": [
    "class Student(Person):\n",
    "    ' name과 gender에 major 변수를 갖는 Student 타입 '\n",
    "    def __init__(self, name, gender, major):\n",
    "        self.name = name\n",
    "        self.gender = gender\n",
    "        self.major = major\n",
    "        \n",
    "    def __del__(self):\n",
    "        pass\n",
    "    \n",
    "    def print_info(self):\n",
    "        print(\"{}님의 전공 : {}, {}입니다.\".format(self.name, self.major, self.gender))\n",
    "        \n",
    "    def __str__(self):\n",
    "        return \"{}님의 전공 : {}, {}입니다.\".format(self.name, self.major, self.gender)"
   ]
  },
  {
   "cell_type": "code",
   "execution_count": 6,
   "id": "f72bb9ce",
   "metadata": {},
   "outputs": [
    {
     "name": "stdout",
     "output_type": "stream",
     "text": [
      "Person 객체를 생성합니다.\n",
      "홍길동님은 남자\n"
     ]
    },
    {
     "data": {
      "text/plain": [
       "True"
      ]
     },
     "execution_count": 6,
     "metadata": {},
     "output_type": "execute_result"
    }
   ],
   "source": [
    "p1 = Person(\"홍길동\", \"남자\")\n",
    "print(p1)\n",
    "isinstance(p1, Person)"
   ]
  },
  {
   "cell_type": "code",
   "execution_count": 9,
   "id": "ef30424c",
   "metadata": {},
   "outputs": [
    {
     "name": "stdout",
     "output_type": "stream",
     "text": [
      "홍길순님의 전공 : 빅데이터, 여자입니다.\n"
     ]
    }
   ],
   "source": [
    "s1 = Student(\"홍길순\", \"여자\", \"빅데이터\")\n",
    "print(s1)"
   ]
  },
  {
   "cell_type": "code",
   "execution_count": 10,
   "id": "c0f579f0",
   "metadata": {},
   "outputs": [
    {
     "data": {
      "text/plain": [
       "True"
      ]
     },
     "execution_count": 10,
     "metadata": {},
     "output_type": "execute_result"
    }
   ],
   "source": [
    "issubclass(Student, Person)"
   ]
  },
  {
   "cell_type": "code",
   "execution_count": 11,
   "id": "2aea70ed",
   "metadata": {},
   "outputs": [
    {
     "data": {
      "text/plain": [
       "True"
      ]
     },
     "execution_count": 11,
     "metadata": {},
     "output_type": "execute_result"
    }
   ],
   "source": [
    "isinstance(s1, Student)"
   ]
  },
  {
   "cell_type": "code",
   "execution_count": 12,
   "id": "aa832d2e",
   "metadata": {},
   "outputs": [
    {
     "data": {
      "text/plain": [
       "True"
      ]
     },
     "execution_count": 12,
     "metadata": {},
     "output_type": "execute_result"
    }
   ],
   "source": [
    "isinstance(s1, Person)"
   ]
  },
  {
   "cell_type": "code",
   "execution_count": 3,
   "id": "4e486386",
   "metadata": {},
   "outputs": [],
   "source": [
    "class Person:\n",
    "    ' Person은 이름과 성별 멤버변수가 있고 ...'\n",
    "    def __init__(self, name, gender):\n",
    "        print(\"Person 객체를 생성합니다.\")\n",
    "        self.name = name\n",
    "        self.gender = gender\n",
    "    \n",
    "    def __del__(self):\n",
    "        print(\"Person 객체를 소멸시킵니다.\")\n",
    "    \n",
    "    def print_info(self):\n",
    "        ' 객체의 이름과 성별을 출력합니다 '\n",
    "        print(\"{}님은 {}\".format(self.name, self.gender))\n",
    "        \n",
    "    def __str__(self):\n",
    "        return \"{}님은 {}\".format(self.name, self.gender)\n",
    "    \n",
    "\n",
    "class Student(Person):\n",
    "    ' name과 gender에 major 변수를 갖는 Student 타입 '\n",
    "    def __init__(self, name, gender, major):\n",
    "        # 부모클래스의 생성자를 호출하여 name, gender를 초기화하기\n",
    "        super().__init__(name, gender) # Person(super class)class에 있는~\n",
    "        # Person.__init__(self, name, gender)\n",
    "        self.major = major\n",
    "        \n",
    "    def __del__(self):\n",
    "        pass\n",
    "    \n",
    "    def print_info(self):\n",
    "        super().print_info()\n",
    "        print(\"전공은 {}입니다.\".format(self.major))\n",
    "        \n",
    "    def __str__(self):\n",
    "        return Person.__str__(self) + \", 그리고 전공은 {}입니다.\".format(self.major)"
   ]
  },
  {
   "cell_type": "code",
   "execution_count": 4,
   "id": "69f8500d",
   "metadata": {},
   "outputs": [
    {
     "name": "stdout",
     "output_type": "stream",
     "text": [
      "Person 객체를 생성합니다.\n",
      "김철수님은 남자, 그리고 전공은 빅데이터입니다.\n"
     ]
    }
   ],
   "source": [
    "s1 = Student(\"김철수\", \"남자\", \"빅데이터\")\n",
    "print(s1)"
   ]
  },
  {
   "cell_type": "markdown",
   "id": "fb2afaeb",
   "metadata": {},
   "source": [
    "### 4.1 static 변수 (정적변수)\n",
    "* under score(__) 2개를 붙이면, 클래스명. _ 클래스명 _ _ static변수명으로 참조"
   ]
  },
  {
   "cell_type": "code",
   "execution_count": 7,
   "id": "c83fc68a",
   "metadata": {},
   "outputs": [],
   "source": [
    "class Person:\n",
    "    ' Person은 이름과 성별 멤버변수가 있고 ...'\n",
    "    def __init__(self, name, gender):\n",
    "        print(\"Person 객체를 생성합니다.\")\n",
    "        self.name = name\n",
    "        self.gender = gender\n",
    "    \n",
    "    def __del__(self):\n",
    "        print(\"Person 객체를 소멸시킵니다.\")\n",
    "    \n",
    "    def print_info(self):\n",
    "        ' 객체의 이름과 성별을 출력합니다 '\n",
    "        print(\"{}님은 {}\".format(self.name, self.gender))\n",
    "        \n",
    "    def __str__(self):\n",
    "        return \"{}님은 {}\".format(self.name, self.gender)\n",
    "    \n",
    "class Student(Person):\n",
    "    ' name과 gender에 major 변수를 갖는 Student 타입 '\n",
    "    __count = 0 # static 변수\n",
    "    def __init__(self, name, gender, major):\n",
    "#         Person.__init__(self, name, gender), self는 자바에서의 this와 같다.\n",
    "        super().__init__(name, gender)\n",
    "        self.major = major # 자바에서 this.major = major\n",
    "        Student._Student__count += 1 # 객체가 생성될 때 마다 __count 증가\n",
    "    \n",
    "    def __del__(self):\n",
    "        Student._Student__count -= 1 # 객체가 제거될 때 마다 __count 감소\n",
    "    \n",
    "    def __str__(self):\n",
    "#         return super().__str__() + \", 전공은 {}입니다.\".format(self.major)\n",
    "        return Person.__str__(self) + \", 전공은 {}입니다.\".format(self.major)\n",
    "    \n",
    "    @classmethod\n",
    "    def get_count(cls):\n",
    "        return Student._Student__count\n",
    "#         return cls._Student__count"
   ]
  },
  {
   "cell_type": "code",
   "execution_count": 18,
   "id": "3e6e7f27",
   "metadata": {},
   "outputs": [
    {
     "name": "stdout",
     "output_type": "stream",
     "text": [
      "Person 객체를 생성합니다.\n",
      "홍길동님은 남자, 전공은 빅데이터입니다.\n",
      "객체의 개수 : 2\n",
      "객체의 개수 : 2\n"
     ]
    }
   ],
   "source": [
    "s1 = Student(\"홍길동\", \"남자\", \"빅데이터\")\n",
    "\n",
    "print(s1)\n",
    "print('객체의 개수 :', Student.get_count())\n",
    "print('객체의 개수 :', s1.get_count()) # classmethod는 대부분 class명으로 호출"
   ]
  },
  {
   "cell_type": "code",
   "execution_count": 19,
   "id": "0a739d9d",
   "metadata": {},
   "outputs": [
    {
     "name": "stdout",
     "output_type": "stream",
     "text": [
      "Person 객체를 생성합니다.\n",
      "홍길동님은 남자, 전공은 빅데이터입니다.\n",
      "홍길순님은 여자, 전공은 소프트웨어입니다.\n",
      "객체의 개수 : 3\n"
     ]
    }
   ],
   "source": [
    "s2 = Student(\"홍길순\", \"여자\", \"소프트웨어\")\n",
    "\n",
    "print(s1)\n",
    "print(s2)\n",
    "print('객체의 개수 :', Student.get_count())"
   ]
  },
  {
   "cell_type": "code",
   "execution_count": 20,
   "id": "0a95b3c7",
   "metadata": {},
   "outputs": [
    {
     "name": "stdout",
     "output_type": "stream",
     "text": [
      "Person 객체를 생성합니다.\n",
      "홍길동님은 남자, 전공은 빅데이터입니다.\n",
      "홍길순님은 여자, 전공은 소프트웨어입니다.\n",
      "신길순님은 여자, 전공은 통계입니다.\n",
      "객체의 개수 : 3\n"
     ]
    }
   ],
   "source": [
    "s3 = Student(\"신길순\", \"여자\", \"통계\")\n",
    "\n",
    "print(s1)\n",
    "print(s2)\n",
    "print(s3)\n",
    "print('객체의 개수 :', Student.get_count())"
   ]
  },
  {
   "cell_type": "code",
   "execution_count": 21,
   "id": "666c4405",
   "metadata": {
    "scrolled": true
   },
   "outputs": [
    {
     "name": "stdout",
     "output_type": "stream",
     "text": [
      "객체의 개수 : 1\n"
     ]
    }
   ],
   "source": [
    "del s1, s2\n",
    "\n",
    "print(\"객체의 개수 :\", Student.get_count())"
   ]
  },
  {
   "cell_type": "code",
   "execution_count": 22,
   "id": "db45fdc8",
   "metadata": {},
   "outputs": [
    {
     "data": {
      "text/plain": [
       "{'name': '신길순', 'gender': '여자', 'major': '통계'}"
      ]
     },
     "execution_count": 22,
     "metadata": {},
     "output_type": "execute_result"
    }
   ],
   "source": [
    "s3.__dict__ # 클래스의 멤버변수들을 딕셔너리 형태로 출력"
   ]
  },
  {
   "cell_type": "markdown",
   "id": "72f7cd56",
   "metadata": {},
   "source": [
    "# 연습문제"
   ]
  },
  {
   "cell_type": "markdown",
   "id": "06f1a66e",
   "metadata": {},
   "source": [
    "### 실습형 연습문제"
   ]
  },
  {
   "cell_type": "code",
   "execution_count": 118,
   "id": "54221d9e",
   "metadata": {},
   "outputs": [],
   "source": [
    "# 1.\n",
    "class Shape:\n",
    "    def __init__(self, x = 0, y = 0):\n",
    "        print('Shape 객체를 생성합니다.')\n",
    "        self.x = x\n",
    "        self.y = y\n",
    "    \n",
    "    def move(self, x, y):\n",
    "        self.x += x\n",
    "        self.y += y\n",
    "    \n",
    "    def calc_area(self):\n",
    "        raise Exception(\"이 메소드는 반드시 구현되어야 합니다\")\n",
    "        # 예외 발생시\n",
    "    \n",
    "    def __str__(self):\n",
    "        return \"x좌표 : {}, y좌표 : {}\".format(self.x, self.y)\n",
    "    \n",
    "    @staticmethod\n",
    "    def staticmethod_():\n",
    "        print(\"도형 클래스 staticmethod 호출\")\n",
    "    \n",
    "class Triangle(Shape):\n",
    "    __count = 0\n",
    "    def __init__(self, width, height, x = 0, y = 0):\n",
    "        Triangle._Triangle__count += 1\n",
    "        Shape.__init__(self, x, y)\n",
    "        self.width = width\n",
    "        self.height = height\n",
    "        \n",
    "    def calc_area(self):\n",
    "        return (self.width * self.height) / 2\n",
    "    \n",
    "    def __del__(self):\n",
    "        Triangle._Triangle__count -= 1\n",
    "    \n",
    "    def __str__(self):\n",
    "        return super().__str__() + \", 넓이는 {}\".format(self.calc_area())\n",
    "    \n",
    "    @classmethod\n",
    "    def get_count(cls):\n",
    "        return cls.__count"
   ]
  },
  {
   "cell_type": "markdown",
   "id": "57406e03",
   "metadata": {},
   "source": [
    "### 서술형 연습문제"
   ]
  },
  {
   "cell_type": "code",
   "execution_count": 23,
   "id": "a7a0da5e",
   "metadata": {},
   "outputs": [],
   "source": [
    "# 1. (1)\n",
    "# 2. (2)\n",
    "# 3. (4)\n",
    "# 4. (1)\n",
    "# 5. (2)\n",
    "# 6. (3)\n",
    "# 7. (2)\n",
    "# 8. (3)\n",
    "# 9. (2)"
   ]
  }
 ],
 "metadata": {
  "kernelspec": {
   "display_name": "Python 3",
   "language": "python",
   "name": "python3"
  },
  "language_info": {
   "codemirror_mode": {
    "name": "ipython",
    "version": 3
   },
   "file_extension": ".py",
   "mimetype": "text/x-python",
   "name": "python",
   "nbconvert_exporter": "python",
   "pygments_lexer": "ipython3",
   "version": "3.8.8"
  },
  "toc": {
   "base_numbering": 1,
   "nav_menu": {},
   "number_sections": false,
   "sideBar": true,
   "skip_h1_title": false,
   "title_cell": "Table of Contents",
   "title_sidebar": "Contents",
   "toc_cell": false,
   "toc_position": {
    "height": "calc(100% - 180px)",
    "left": "10px",
    "top": "150px",
    "width": "248px"
   },
   "toc_section_display": true,
   "toc_window_display": true
  },
  "varInspector": {
   "cols": {
    "lenName": 16,
    "lenType": 16,
    "lenVar": 40
   },
   "kernels_config": {
    "python": {
     "delete_cmd_postfix": "",
     "delete_cmd_prefix": "del ",
     "library": "var_list.py",
     "varRefreshCmd": "print(var_dic_list())"
    },
    "r": {
     "delete_cmd_postfix": ") ",
     "delete_cmd_prefix": "rm(",
     "library": "var_list.r",
     "varRefreshCmd": "cat(var_dic_list()) "
    }
   },
   "position": {
    "height": "422px",
    "left": "1550px",
    "right": "20px",
    "top": "120px",
    "width": "350px"
   },
   "types_to_exclude": [
    "module",
    "function",
    "builtin_function_or_method",
    "instance",
    "_Feature"
   ],
   "window_display": true
  }
 },
 "nbformat": 4,
 "nbformat_minor": 5
}
