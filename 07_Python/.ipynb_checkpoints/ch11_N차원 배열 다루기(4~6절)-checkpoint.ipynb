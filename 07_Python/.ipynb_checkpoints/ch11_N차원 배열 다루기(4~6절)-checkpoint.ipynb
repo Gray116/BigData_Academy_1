{
 "cells": [
  {
   "cell_type": "code",
   "execution_count": 1,
   "id": "f14420e7",
   "metadata": {},
   "outputs": [
    {
     "data": {
      "text/html": [
       "\n",
       "<style>\n",
       "div.CodeMirror {font-family:Consolas; font-size:12pt;}\n",
       "div.output {font-size:12pt; font-weight : bold;}\n",
       "div.input {font-family:Consolas; font-size:12pt;}\n",
       "</style>\n"
      ],
      "text/plain": [
       "<IPython.core.display.HTML object>"
      ]
     },
     "metadata": {},
     "output_type": "display_data"
    }
   ],
   "source": [
    "from IPython.display import display, HTML\n",
    "display(HTML(\"\"\"\n",
    "<style>\n",
    "div.CodeMirror {font-family:Consolas; font-size:12pt;}\n",
    "div.output {font-size:12pt; font-weight : bold;}\n",
    "div.input {font-family:Consolas; font-size:12pt;}\n",
    "</style>\n",
    "\"\"\"))"
   ]
  },
  {
   "cell_type": "markdown",
   "id": "20cae52a",
   "metadata": {},
   "source": [
    "<b><font color = \"red\" size = \"6\">ch11. ch11_N차원 배열 다루기(4~6절)</font></b>\n",
    "- N차원 배열 객체\n",
    "- 2차원 배열은 행렬개념으로 이해\n",
    "- NumPy 패키지 이용 (C언어로 구현된 고성능 수치계산 패키지)\n",
    "- C/C++, 포트란 코드의 통합도구"
   ]
  },
  {
   "cell_type": "markdown",
   "id": "877ef227",
   "metadata": {},
   "source": [
    "# 4절. 복사와 뷰"
   ]
  },
  {
   "cell_type": "markdown",
   "id": "08414bd5",
   "metadata": {},
   "source": [
    "## 4.1 할당시 복사 안함(스칼라 변수만 제외)"
   ]
  },
  {
   "cell_type": "code",
   "execution_count": 5,
   "id": "b5f0aef9",
   "metadata": {},
   "outputs": [],
   "source": [
    "# 스칼라 변수( 변수 하나에 값 하나)\n",
    "a = 10\n",
    "b = 'Hello'\n",
    "c = 1.2"
   ]
  },
  {
   "cell_type": "code",
   "execution_count": 6,
   "id": "e1b84218",
   "metadata": {},
   "outputs": [
    {
     "name": "stdout",
     "output_type": "stream",
     "text": [
      "a = 10 a1 = 10\n",
      "140728941094992 140728941094992\n",
      "-----수정 후-----\n",
      "a = 90 a1 = 10\n",
      "140728941097552 140728941094992\n"
     ]
    }
   ],
   "source": [
    "a1 = a\n",
    "\n",
    "print('a =', a, 'a1 =', a1)\n",
    "print(id(a), id(a1))\n",
    "\n",
    "a = 90\n",
    "\n",
    "print('-----수정 후-----')\n",
    "print('a =', a, 'a1 =', a1)\n",
    "print(id(a), id(a1))"
   ]
  },
  {
   "cell_type": "code",
   "execution_count": 7,
   "id": "682a2b3a",
   "metadata": {},
   "outputs": [
    {
     "data": {
      "text/plain": [
       "array([ 0,  1,  2,  3,  4,  5,  6,  7,  8,  9, 10, 11])"
      ]
     },
     "execution_count": 7,
     "metadata": {},
     "output_type": "execute_result"
    }
   ],
   "source": [
    "# 배열\n",
    "a = np.arange(12)\n",
    "\n",
    "a"
   ]
  },
  {
   "cell_type": "code",
   "execution_count": 8,
   "id": "e4f47b81",
   "metadata": {},
   "outputs": [
    {
     "data": {
      "text/plain": [
       "((12,), numpy.ndarray, 1)"
      ]
     },
     "execution_count": 8,
     "metadata": {},
     "output_type": "execute_result"
    }
   ],
   "source": [
    "a.shape, type(a), a.ndim"
   ]
  },
  {
   "cell_type": "code",
   "execution_count": 10,
   "id": "a144afc1",
   "metadata": {},
   "outputs": [],
   "source": [
    "# a의 주소가 b에게 할당된다\n",
    "b = a"
   ]
  },
  {
   "cell_type": "code",
   "execution_count": 11,
   "id": "a7cebe84",
   "metadata": {},
   "outputs": [
    {
     "data": {
      "text/plain": [
       "True"
      ]
     },
     "execution_count": 11,
     "metadata": {},
     "output_type": "execute_result"
    }
   ],
   "source": [
    "# b변수가 a변수야?\n",
    "b is a"
   ]
  },
  {
   "cell_type": "code",
   "execution_count": 13,
   "id": "95571425",
   "metadata": {},
   "outputs": [
    {
     "data": {
      "text/plain": [
       "array([ True,  True,  True,  True,  True,  True,  True,  True,  True,\n",
       "        True,  True,  True])"
      ]
     },
     "execution_count": 13,
     "metadata": {},
     "output_type": "execute_result"
    }
   ],
   "source": [
    "# b의 각각의 요소 값이 a랑 같아?\n",
    "b == a "
   ]
  },
  {
   "cell_type": "code",
   "execution_count": 14,
   "id": "f2960a01",
   "metadata": {},
   "outputs": [
    {
     "data": {
      "text/plain": [
       "((12,), 1)"
      ]
     },
     "execution_count": 14,
     "metadata": {},
     "output_type": "execute_result"
    }
   ],
   "source": [
    "b.shape, b.ndim"
   ]
  },
  {
   "cell_type": "code",
   "execution_count": 18,
   "id": "2ce73ded",
   "metadata": {},
   "outputs": [
    {
     "data": {
      "text/plain": [
       "((3, 4), 2)"
      ]
     },
     "execution_count": 18,
     "metadata": {},
     "output_type": "execute_result"
    }
   ],
   "source": [
    "b.shape = (3, 4)\n",
    "\n",
    "b.shape, b.ndim"
   ]
  },
  {
   "cell_type": "code",
   "execution_count": 19,
   "id": "75da1180",
   "metadata": {},
   "outputs": [
    {
     "data": {
      "text/plain": [
       "array([[ 0,  1,  2,  3],\n",
       "       [ 4,  5,  6,  7],\n",
       "       [ 8,  9, 10, 11]])"
      ]
     },
     "execution_count": 19,
     "metadata": {},
     "output_type": "execute_result"
    }
   ],
   "source": [
    "b"
   ]
  },
  {
   "cell_type": "code",
   "execution_count": 20,
   "id": "a6de86e0",
   "metadata": {},
   "outputs": [
    {
     "data": {
      "text/plain": [
       "array([[ 0,  1,  2,  3],\n",
       "       [ 4,  5,  6,  7],\n",
       "       [ 8,  9, 10, 11]])"
      ]
     },
     "execution_count": 20,
     "metadata": {},
     "output_type": "execute_result"
    }
   ],
   "source": [
    "a"
   ]
  },
  {
   "cell_type": "code",
   "execution_count": 21,
   "id": "6105d771",
   "metadata": {},
   "outputs": [
    {
     "data": {
      "text/plain": [
       "(2344193515664, 2344193515664)"
      ]
     },
     "execution_count": 21,
     "metadata": {},
     "output_type": "execute_result"
    }
   ],
   "source": [
    "id(a), id(b)"
   ]
  },
  {
   "cell_type": "markdown",
   "id": "6d85a7c9",
   "metadata": {},
   "source": [
    "## 4.2 얕은 복사\n",
    "- '뷰(view)를 만든다'라고 한다."
   ]
  },
  {
   "cell_type": "code",
   "execution_count": 27,
   "id": "28c73b55",
   "metadata": {},
   "outputs": [
    {
     "data": {
      "text/plain": [
       "array([[ 0,  1,  2,  3],\n",
       "       [ 4,  5,  6,  7],\n",
       "       [ 8,  9, 10, 11]])"
      ]
     },
     "execution_count": 27,
     "metadata": {},
     "output_type": "execute_result"
    }
   ],
   "source": [
    "a"
   ]
  },
  {
   "cell_type": "code",
   "execution_count": 22,
   "id": "2c665b08",
   "metadata": {},
   "outputs": [
    {
     "data": {
      "text/plain": [
       "False"
      ]
     },
     "execution_count": 22,
     "metadata": {},
     "output_type": "execute_result"
    }
   ],
   "source": [
    "# 얕은 복사\n",
    "c = a.view()\n",
    "\n",
    "c is a"
   ]
  },
  {
   "cell_type": "code",
   "execution_count": 26,
   "id": "e17284f4",
   "metadata": {},
   "outputs": [
    {
     "data": {
      "text/plain": [
       "array([[ True,  True,  True,  True],\n",
       "       [ True,  True,  True,  True],\n",
       "       [ True,  True,  True,  True]])"
      ]
     },
     "execution_count": 26,
     "metadata": {},
     "output_type": "execute_result"
    }
   ],
   "source": [
    "c == a.view()"
   ]
  },
  {
   "cell_type": "code",
   "execution_count": 24,
   "id": "8485dd37",
   "metadata": {},
   "outputs": [
    {
     "data": {
      "text/plain": [
       "True"
      ]
     },
     "execution_count": 24,
     "metadata": {},
     "output_type": "execute_result"
    }
   ],
   "source": [
    "np.all(c == a)"
   ]
  },
  {
   "cell_type": "code",
   "execution_count": 25,
   "id": "8b328900",
   "metadata": {},
   "outputs": [
    {
     "data": {
      "text/plain": [
       "False"
      ]
     },
     "execution_count": 25,
     "metadata": {},
     "output_type": "execute_result"
    }
   ],
   "source": [
    "# c는 메모리를 직접 소유하지 않는다.\n",
    "c.flags.owndata"
   ]
  },
  {
   "cell_type": "code",
   "execution_count": 30,
   "id": "ea156509",
   "metadata": {},
   "outputs": [
    {
     "data": {
      "text/plain": [
       "True"
      ]
     },
     "execution_count": 30,
     "metadata": {},
     "output_type": "execute_result"
    }
   ],
   "source": [
    "a.flags.owndata"
   ]
  },
  {
   "cell_type": "code",
   "execution_count": 31,
   "id": "86987ca9",
   "metadata": {},
   "outputs": [
    {
     "data": {
      "text/plain": [
       "((3, 4), 2)"
      ]
     },
     "execution_count": 31,
     "metadata": {},
     "output_type": "execute_result"
    }
   ],
   "source": [
    "c.shape, c.ndim"
   ]
  },
  {
   "cell_type": "code",
   "execution_count": 32,
   "id": "871e63a9",
   "metadata": {},
   "outputs": [
    {
     "data": {
      "text/plain": [
       "((3, 4), 2)"
      ]
     },
     "execution_count": 32,
     "metadata": {},
     "output_type": "execute_result"
    }
   ],
   "source": [
    "a.shape, a.ndim"
   ]
  },
  {
   "cell_type": "code",
   "execution_count": 33,
   "id": "cc469179",
   "metadata": {},
   "outputs": [
    {
     "data": {
      "text/plain": [
       "array([[ 0,  1,  2,  3,  4,  5],\n",
       "       [ 6,  7,  8,  9, 10, 11]])"
      ]
     },
     "execution_count": 33,
     "metadata": {},
     "output_type": "execute_result"
    }
   ],
   "source": [
    "c.shape = (2, 6)\n",
    "\n",
    "c"
   ]
  },
  {
   "cell_type": "code",
   "execution_count": 34,
   "id": "df4a7faf",
   "metadata": {},
   "outputs": [
    {
     "data": {
      "text/plain": [
       "array([[ 0,  1,  2,  3],\n",
       "       [ 4,  5,  6,  7],\n",
       "       [ 8,  9, 10, 11]])"
      ]
     },
     "execution_count": 34,
     "metadata": {},
     "output_type": "execute_result"
    }
   ],
   "source": [
    "a"
   ]
  },
  {
   "cell_type": "code",
   "execution_count": 35,
   "id": "e8eef874",
   "metadata": {},
   "outputs": [
    {
     "data": {
      "text/plain": [
       "array([[  0,   1, 999,   3,   4,   5],\n",
       "       [  6,   7, 999,   9,  10,  11]])"
      ]
     },
     "execution_count": 35,
     "metadata": {},
     "output_type": "execute_result"
    }
   ],
   "source": [
    "c[:, 2] = 999\n",
    "\n",
    "c"
   ]
  },
  {
   "cell_type": "code",
   "execution_count": 36,
   "id": "74a34b77",
   "metadata": {},
   "outputs": [
    {
     "data": {
      "text/plain": [
       "array([[  0,   1, 999,   3],\n",
       "       [  4,   5,   6,   7],\n",
       "       [999,   9,  10,  11]])"
      ]
     },
     "execution_count": 36,
     "metadata": {},
     "output_type": "execute_result"
    }
   ],
   "source": [
    "a # a도 메모리를 독자적으로 소유하지는 않는다."
   ]
  },
  {
   "cell_type": "code",
   "execution_count": 38,
   "id": "b0b1187b",
   "metadata": {},
   "outputs": [
    {
     "name": "stdout",
     "output_type": "stream",
     "text": [
      "[[ 2  1  9 50]\n",
      " [ 7  5  7 80]\n",
      " [17  6  7 90]]\n",
      "[[ 2  1  9]\n",
      " [ 7  5  7]\n",
      " [17  6  7]]\n"
     ]
    }
   ],
   "source": [
    "# ▶ 슬라이싱이 될 때, 뷰가 반환된다.\n",
    "a = np.array([[2, 1, 9, 50], \n",
    "              [7, 5, 7, 80], \n",
    "              [17, 6, 7, 90]])\n",
    "\n",
    "# 독립변수 x, 슬라이싱될 때 뷰가 반환\n",
    "x = a[:, :-1] # 이런식으로 분할을 하면 안된다. 깊은 복사로!\n",
    "print(a)\n",
    "print(x)\n",
    "\n",
    "# 종속변수 y"
   ]
  },
  {
   "cell_type": "code",
   "execution_count": 39,
   "id": "686e7f56",
   "metadata": {},
   "outputs": [
    {
     "data": {
      "text/plain": [
       "array([[99,  1,  9, 50],\n",
       "       [99,  5,  7, 80],\n",
       "       [99,  6,  7, 90]])"
      ]
     },
     "execution_count": 39,
     "metadata": {},
     "output_type": "execute_result"
    }
   ],
   "source": [
    "x[:, 0] = 99\n",
    "\n",
    "a"
   ]
  },
  {
   "cell_type": "code",
   "execution_count": null,
   "id": "3be5125d",
   "metadata": {},
   "outputs": [],
   "source": []
  },
  {
   "cell_type": "code",
   "execution_count": null,
   "id": "181f1ae6",
   "metadata": {},
   "outputs": [],
   "source": []
  },
  {
   "cell_type": "code",
   "execution_count": null,
   "id": "142abf00",
   "metadata": {},
   "outputs": [],
   "source": []
  },
  {
   "cell_type": "code",
   "execution_count": null,
   "id": "d367762c",
   "metadata": {},
   "outputs": [],
   "source": []
  },
  {
   "cell_type": "code",
   "execution_count": null,
   "id": "e2983665",
   "metadata": {},
   "outputs": [],
   "source": []
  }
 ],
 "metadata": {
  "kernelspec": {
   "display_name": "Python 3",
   "language": "python",
   "name": "python3"
  },
  "language_info": {
   "codemirror_mode": {
    "name": "ipython",
    "version": 3
   },
   "file_extension": ".py",
   "mimetype": "text/x-python",
   "name": "python",
   "nbconvert_exporter": "python",
   "pygments_lexer": "ipython3",
   "version": "3.8.8"
  },
  "toc": {
   "base_numbering": 1,
   "nav_menu": {},
   "number_sections": false,
   "sideBar": true,
   "skip_h1_title": false,
   "title_cell": "Table of Contents",
   "title_sidebar": "Contents",
   "toc_cell": false,
   "toc_position": {
    "height": "calc(100% - 180px)",
    "left": "10px",
    "top": "150px",
    "width": "247px"
   },
   "toc_section_display": true,
   "toc_window_display": true
  },
  "varInspector": {
   "cols": {
    "lenName": 16,
    "lenType": 16,
    "lenVar": 40
   },
   "kernels_config": {
    "python": {
     "delete_cmd_postfix": "",
     "delete_cmd_prefix": "del ",
     "library": "var_list.py",
     "varRefreshCmd": "print(var_dic_list())"
    },
    "r": {
     "delete_cmd_postfix": ") ",
     "delete_cmd_prefix": "rm(",
     "library": "var_list.r",
     "varRefreshCmd": "cat(var_dic_list()) "
    }
   },
   "position": {
    "height": "472px",
    "left": "1550px",
    "right": "20px",
    "top": "120px",
    "width": "350px"
   },
   "types_to_exclude": [
    "module",
    "function",
    "builtin_function_or_method",
    "instance",
    "_Feature"
   ],
   "window_display": true
  }
 },
 "nbformat": 4,
 "nbformat_minor": 5
}
