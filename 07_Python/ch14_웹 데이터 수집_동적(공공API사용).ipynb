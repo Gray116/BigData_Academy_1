{
 "cells": [
  {
   "cell_type": "code",
   "execution_count": 1,
   "id": "f14420e7",
   "metadata": {},
   "outputs": [
    {
     "data": {
      "text/html": [
       "\n",
       "<style>\n",
       "div.Container {width:85% !important;}\n",
       "div.CodeMirror {font-family:NanumGothic; font-size:13pt; line-height : 150%;}\n",
       "div.output_area pre {font-family:NanumGothic; font-size:13pt; line-height : 150%;}\n",
       "div.output_wrapper pre {font-family:NanumGothic; font-size:13pt; line-height : 150%;}\n",
       "div.input {font-family:NanumGothic; font-size:13pt; line-height : 150%;}\n",
       "</style>\n"
      ],
      "text/plain": [
       "<IPython.core.display.HTML object>"
      ]
     },
     "metadata": {},
     "output_type": "display_data"
    }
   ],
   "source": [
    "from IPython.display import display, HTML\n",
    "display(HTML(\"\"\"\n",
    "<style>\n",
    "div.Container {width:85% !important;}\n",
    "div.CodeMirror {font-family:NanumGothic; font-size:13pt; line-height : 150%;}\n",
    "div.output_area pre {font-family:NanumGothic; font-size:13pt; line-height : 150%;}\n",
    "div.output_wrapper pre {font-family:NanumGothic; font-size:13pt; line-height : 150%;}\n",
    "div.input {font-family:NanumGothic; font-size:13pt; line-height : 150%;}\n",
    "</style>\n",
    "\"\"\"))"
   ]
  },
  {
   "cell_type": "markdown",
   "id": "20cae52a",
   "metadata": {},
   "source": [
    "<b><font color = \"red\" size = \"6\">ch14. 웹 데이터 수집</font></b>"
   ]
  },
  {
   "cell_type": "markdown",
   "id": "877ef227",
   "metadata": {},
   "source": [
    "# 3절. Selenium을 이용한 웹 데이터 수집\n",
    "* [셀레니움 공식 페이지](https://selenium-python.readthedocs.io/index.html)<br>\n",
    "`pip install selenium`"
   ]
  },
  {
   "cell_type": "code",
   "execution_count": 3,
   "id": "bcf1986c",
   "metadata": {},
   "outputs": [],
   "source": [
    "from selenium import webdriver\n",
    "dv = webdriver.Chrome('D:/Gray_Bigdata/src/07_Python/chromedriver.exe')\n",
    "# dv = webdriver.Chrome()"
   ]
  },
  {
   "cell_type": "code",
   "execution_count": 4,
   "id": "b243134f",
   "metadata": {},
   "outputs": [],
   "source": [
    "dv.get('http://python.org')"
   ]
  },
  {
   "cell_type": "code",
   "execution_count": 6,
   "id": "065de930",
   "metadata": {},
   "outputs": [],
   "source": [
    "elem = dv.find_element_by_name('q')\n",
    "elem.clear()\n",
    "elem.send_keys('pycon')"
   ]
  },
  {
   "cell_type": "code",
   "execution_count": 7,
   "id": "aa79c312",
   "metadata": {},
   "outputs": [],
   "source": [
    "from selenium.webdriver.common.keys import Keys\n",
    "elem.send_keys(Keys.RETURN) # ENTER키를 누른 것과 같다."
   ]
  },
  {
   "cell_type": "code",
   "execution_count": 10,
   "id": "d67961b9",
   "metadata": {
    "scrolled": true
   },
   "outputs": [
    {
     "name": "stdout",
     "output_type": "stream",
     "text": [
      "PSF PyCon Trademark Usage Policy - https://www.python.org/psf/trademarks/pycon\n",
      "Conferences and Workshops - https://www.python.org/community/workshops\n",
      "PyCon Italia 2016 (PyCon Sette) - https://www.python.org/events/python-events/378/\n",
      "2008-04-14 PSF Board Meeting Minutes - https://www.python.org/psf/records/board/minutes/2008-04-14\n",
      "2012-07-16 PSF Board Meeting Minutes - https://www.python.org/psf/records/board/minutes/2012-07-16\n",
      "PyCon Home at python.org - https://www.python.org/community/pycon\n",
      "2013-02-06 PSF Board Meeting Minutes - https://www.python.org/psf/records/board/minutes/2013-02-06\n",
      "PyCon Australia 2013 - https://www.python.org/events/python-events/57/\n",
      "PyCon AU 2019 - https://www.python.org/events/python-events/776/\n",
      "PyCon Australia 2014 - https://www.python.org/events/python-events/10/\n",
      "PyCon Ireland 2012 - https://www.python.org/events/python-events/76/\n",
      "PyCon Ireland 2016 - https://www.python.org/events/python-events/429/\n",
      "PyCon AU 2018 - https://www.python.org/events/python-events/696/\n",
      "PyCon Ireland 2015 - https://www.python.org/events/python-events/333/\n",
      "PyCon AU 2015 - https://www.python.org/events/python-events/273/\n",
      "PyCon PL 2014 - https://www.python.org/events/python-events/191/\n",
      "PyCon MY 2015 - https://www.python.org/events/python-events/313/\n",
      "PyCon Australia 2016 - https://www.python.org/events/python-events/357/\n",
      "PyCon MY 2014 - https://www.python.org/events/python-events/151/\n",
      "PyCon Ireland 2014 - https://www.python.org/events/python-events/149/\n"
     ]
    }
   ],
   "source": [
    "result_list = dv.find_elements_by_css_selector('li > h3 > a')\n",
    "\n",
    "for result in result_list:\n",
    "    print('%s - %s' %(result.text, result.get_attribute('href')))"
   ]
  },
  {
   "cell_type": "code",
   "execution_count": 14,
   "id": "2d4f3496",
   "metadata": {
    "scrolled": false
   },
   "outputs": [
    {
     "name": "stdout",
     "output_type": "stream",
     "text": [
      "PSF PyCon Trademark Usage Policy - http://python.org/psf/trademarks/pycon\n",
      "Conferences and Workshops - http://python.org/community/workshops\n",
      "PyCon Italia 2016 (PyCon Sette) - http://python.org/events/python-events/378/\n",
      "2008-04-14 PSF Board Meeting Minutes - http://python.org/psf/records/board/minutes/2008-04-14\n",
      "2012-07-16 PSF Board Meeting Minutes - http://python.org/psf/records/board/minutes/2012-07-16\n",
      "PyCon Home at python.org - http://python.org/community/pycon\n",
      "2013-02-06 PSF Board Meeting Minutes - http://python.org/psf/records/board/minutes/2013-02-06\n",
      "PyCon Australia 2013 - http://python.org/events/python-events/57/\n",
      "PyCon AU 2019 - http://python.org/events/python-events/776/\n",
      "PyCon Australia 2014 - http://python.org/events/python-events/10/\n",
      "PyCon Ireland 2012 - http://python.org/events/python-events/76/\n",
      "PyCon Ireland 2016 - http://python.org/events/python-events/429/\n",
      "PyCon AU 2018 - http://python.org/events/python-events/696/\n",
      "PyCon Ireland 2015 - http://python.org/events/python-events/333/\n",
      "PyCon AU 2015 - http://python.org/events/python-events/273/\n",
      "PyCon PL 2014 - http://python.org/events/python-events/191/\n",
      "PyCon MY 2015 - http://python.org/events/python-events/313/\n",
      "PyCon Australia 2016 - http://python.org/events/python-events/357/\n",
      "PyCon MY 2014 - http://python.org/events/python-events/151/\n",
      "PyCon Ireland 2014 - http://python.org/events/python-events/149/\n"
     ]
    }
   ],
   "source": [
    "from bs4 import BeautifulSoup as bs\n",
    "soup = bs(dv.page_source, \"html.parser\")\n",
    "result_list = soup.select('li > h3 > a')\n",
    "\n",
    "for result in result_list:\n",
    "    print('%s - %s'%(result.text, 'http://python.org'+result.attrs['href']))"
   ]
  },
  {
   "cell_type": "code",
   "execution_count": null,
   "id": "3c789801",
   "metadata": {},
   "outputs": [],
   "source": [
    "# 브라우저 종료\n",
    "dv.close()"
   ]
  },
  {
   "cell_type": "markdown",
   "id": "af66c696",
   "metadata": {},
   "source": [
    "## 3.1 네이버 맞춤법 검사기"
   ]
  },
  {
   "cell_type": "code",
   "execution_count": 18,
   "id": "4887bfa1",
   "metadata": {},
   "outputs": [],
   "source": [
    "# ▶ 1. 크롬 웹 드라이버로부터 브라우저 및 주소 불러오기\n",
    "from selenium import webdriver\n",
    "from selenium.webdriver.common.keys import Keys\n",
    "from bs4 import BeautifulSoup\n",
    "import time\n",
    "dv = webdriver.Chrome('D:/Gray_Bigdata/src/07_Python/chromedriver.exe')\n",
    "# dv = webdriver.Chrome()\n",
    "\n",
    "dv.get('http://www.naver.com')"
   ]
  },
  {
   "cell_type": "code",
   "execution_count": 19,
   "id": "20ecd934",
   "metadata": {},
   "outputs": [],
   "source": [
    "# ▶ 2. 네이버 검색 창의 요소(element)를 찾고, 키 기능 추가\n",
    "elem = dv.find_element_by_name('query')\n",
    "elem.clear()\n",
    "elem.send_keys('네이버 맞춤법 검사기')\n",
    "elem.send_keys(Keys.RETURN) # ENTER키를 누른 것과 같다."
   ]
  },
  {
   "cell_type": "code",
   "execution_count": 25,
   "id": "22006c59",
   "metadata": {},
   "outputs": [],
   "source": [
    "# ▶ 3. 검사기에 문장을 입력하기\n",
    "textarea = dv.find_element_by_class_name('txt_gray')\n",
    "textarea.send_keys(\"안녕효셔요. 반감습니다\")"
   ]
  },
  {
   "cell_type": "code",
   "execution_count": 26,
   "id": "30b5187f",
   "metadata": {},
   "outputs": [],
   "source": [
    "# ▶ 4. 검사하기 버튼 클릭하기\n",
    "button = dv.find_element_by_class_name('btn_check')\n",
    "button.click()"
   ]
  },
  {
   "cell_type": "code",
   "execution_count": 27,
   "id": "88e3a731",
   "metadata": {},
   "outputs": [
    {
     "data": {
      "text/plain": [
       "'안녕 효시요. 반갑습니다'"
      ]
     },
     "execution_count": 27,
     "metadata": {},
     "output_type": "execute_result"
    }
   ],
   "source": [
    "# ▶ 5. 검사 후 나온 문장 출력하기\n",
    "soup = BeautifulSoup(dv.page_source, 'html.parser')\n",
    "result = soup.select_one('p._result_text.stand_txt').text\n",
    "\n",
    "result"
   ]
  },
  {
   "cell_type": "code",
   "execution_count": 34,
   "id": "f6a937fc",
   "metadata": {},
   "outputs": [],
   "source": [
    "# ▶ 6. 브라우저 종료\n",
    "dv.close()"
   ]
  },
  {
   "cell_type": "code",
   "execution_count": 33,
   "id": "4578485c",
   "metadata": {},
   "outputs": [
    {
     "name": "stdout",
     "output_type": "stream",
     "text": [
      "안녕 효시요. 반갑습니다\n"
     ]
    }
   ],
   "source": [
    "# ▶ 완성본\n",
    "from selenium import webdriver\n",
    "from selenium.webdriver.common.keys import Keys\n",
    "from bs4 import BeautifulSoup\n",
    "import time\n",
    "dv = webdriver.Chrome('D:/Gray_Bigdata/src/07_Python/chromedriver.exe')\n",
    "# dv = webdriver.Chrome()\n",
    "\n",
    "dv.get('http://www.naver.com')\n",
    "\n",
    "elem = dv.find_element_by_name('query')\n",
    "elem.clear()\n",
    "elem.send_keys('네이버 맞춤법 검사기')\n",
    "elem.send_keys(Keys.RETURN) # ENTER키를 누른 것과 같다.\n",
    "\n",
    "time.sleep(2)\n",
    "\n",
    "textarea = dv.find_element_by_class_name('txt_gray')\n",
    "textarea.send_keys(\"안녕효셔요. 반감습니다\")\n",
    "\n",
    "button = dv.find_element_by_class_name('btn_check')\n",
    "button.click()\n",
    "\n",
    "time.sleep(2)\n",
    "\n",
    "soup = BeautifulSoup(dv.page_source, 'html.parser')\n",
    "result = soup.select_one('p._result_text.stand_txt').text\n",
    "\n",
    "print(result)"
   ]
  },
  {
   "cell_type": "code",
   "execution_count": 42,
   "id": "07091a3a",
   "metadata": {},
   "outputs": [],
   "source": [
    "dv.close()"
   ]
  },
  {
   "cell_type": "markdown",
   "id": "c75070c7",
   "metadata": {},
   "source": [
    "### 3.1.1 맞춤법 검사가 안된 text파일을 맞춤법 검사가 완료된 text파일로 출력"
   ]
  },
  {
   "cell_type": "code",
   "execution_count": 2,
   "id": "d7660cd4",
   "metadata": {
    "scrolled": true
   },
   "outputs": [],
   "source": [
    "from selenium import webdriver\n",
    "from selenium.webdriver.common.keys import Keys\n",
    "from bs4 import BeautifulSoup\n",
    "import time\n",
    "\n",
    "# ▶ text 파일 불러오기\n",
    "with open('Data/ch14.txt', 'r', encoding='UTF8') as f:\n",
    "    text = f.read()\n",
    "\n",
    "# ▶ 맞춤법 검사를 할 빈 배열 생성\n",
    "ready_list = []\n",
    "\n",
    "# ▶ 글자 수 제한에 따른 처리과정\n",
    "while len(text) > 500:\n",
    "    temp_str = text[:500]\n",
    "    last_space_idx = temp_str.rfind(' ') # 500자가 되는 오른쪽 부분의 공백\n",
    "    ready_list.append(text[:last_space_idx])\n",
    "    \n",
    "    text = text[last_space_idx: ] # ready_list에 추가된 앞부분을 날림\n",
    "    \n",
    "ready_list.append(text)\n",
    "\n",
    "# [len(ready) for ready in ready_list]\n",
    "    \n",
    "dv = webdriver.Chrome('D:/Gray_Bigdata/src/07_Python/chromedriver.exe')\n",
    "# dv = webdriver.Chrome()\n",
    "\n",
    "dv.get('http://www.naver.com')\n",
    "\n",
    "elem = dv.find_element_by_name('query')\n",
    "elem.clear()\n",
    "elem.send_keys('네이버 맞춤법 검사기')\n",
    "elem.send_keys(Keys.RETURN) # ENTER키를 누른 것과 같다.\n",
    "\n",
    "time.sleep(1)\n",
    "\n",
    "textarea = dv.find_element_by_class_name('txt_gray')\n",
    "\n",
    "results = ''\n",
    "for ready in ready_list:\n",
    "    textarea.send_keys(Keys.CONTROL, 'a') # 전체 선택을 한 상태로 입력\n",
    "    textarea.send_keys(ready)\n",
    "\n",
    "    button = dv.find_element_by_class_name('btn_check')\n",
    "    button.click()\n",
    "\n",
    "    time.sleep(1)\n",
    "\n",
    "    soup = BeautifulSoup(dv.page_source, 'html.parser')\n",
    "    result = soup.select_one('p._result_text.stand_txt').text\n",
    "    results += result + '\\n\\n'\n",
    "\n",
    "with open('Data/ch14_checked.txt', 'w', encoding='UTF8') as f:\n",
    "    f.write(results)\n",
    "\n",
    "dv.close()"
   ]
  },
  {
   "cell_type": "markdown",
   "id": "b65b7b62",
   "metadata": {},
   "source": [
    "# 4절. Open API\n",
    "- 특정 프로그램을 만들기 위해 제공되는 모듈"
   ]
  },
  {
   "cell_type": "markdown",
   "id": "2e33344a",
   "metadata": {},
   "source": [
    "## 4.1 공공 DB수집\n",
    "- 1) 서울시 버스 정보와 버스 위치 정보를 공공데이터 포털 사이트에서 받아온다.\n",
    "- 2) 활용신청 -> 인증키 발급받기 -> 사용법 문서 다운로드 -> 문서에서 xml 받아오기"
   ]
  },
  {
   "cell_type": "code",
   "execution_count": 30,
   "id": "0e255301",
   "metadata": {},
   "outputs": [
    {
     "name": "stdout",
     "output_type": "stream",
     "text": [
      "100100596\n"
     ]
    }
   ],
   "source": [
    "from bs4 import BeautifulSoup as bs\n",
    "import urllib.request as req\n",
    "\n",
    "# ▶ 버스 번호\n",
    "busNum = '400'\n",
    "\n",
    "# ▶ 인증키\n",
    "key = '9jPSAQMDWr7tU52kY9SAZKieBldWonFtWmpaNjPL9s3M%2F%2BczFOnqAfkR4rpZ%2F47JE5mYiQwv2dizUHvexn15HQ%3D%3D'\n",
    "\n",
    "# ▶ url + key + 버스번호\n",
    "url1 = 'http://ws.bus.go.kr/api/rest/busRouteInfo/getBusRouteList?serviceKey='+key+'&strSrch='+busNum\n",
    "# print(url1)\n",
    "# ▶ xml 저장하기\n",
    "saveFileName = 'D:/Gray_Bigdata/src/1_busInfo.xml'\n",
    "req.urlretrieve(url1, saveFileName)\n",
    "\n",
    "# ▶ xml 불러오기\n",
    "xml = open(saveFileName, 'r', encoding='UTF8').read()\n",
    "\n",
    "soup = bs(xml, 'xml')\n",
    "\n",
    "busRouteId = None\n",
    "for itemList in soup.find_all('itemList'):\n",
    "    busRouteNm = itemList.find('busRouteNm').text\n",
    "    if busRouteNm == busNum: # 내가 검색한 버스 번호와 같으면\n",
    "        busRouteId = itemList.find('busRouteId').text\n",
    "        break;\n",
    "        \n",
    "print(busRouteId)"
   ]
  },
  {
   "cell_type": "code",
   "execution_count": 39,
   "id": "658af845",
   "metadata": {
    "scrolled": true
   },
   "outputs": [
    {
     "name": "stdout",
     "output_type": "stream",
     "text": [
      "400번 버스 정류소 및 위치\n",
      "104 개 정류소\n",
      "\n",
      "정류소\t위도\t경도\n",
      "염곡동구룡사 37.468475 127.047211\n",
      "구룡사입구 37.4719206884 127.0507511248\n",
      "언남고포이성당앞 37.4720326359 127.0458263366\n",
      "소방서앞 37.4699309709 127.0417267679\n",
      "양재2동주민센터.양재꽃시장 37.4695857229 127.0394643327\n",
      "언남고교 37.4732795382 127.0389281035\n",
      "교육개발원입구 37.477818 127.038758\n",
      "양재역.서초문화예술회관 37.481927 127.036827\n",
      "뱅뱅사거리 37.486653 127.033097\n",
      "래미안아파트.파이낸셜뉴스 37.491087 127.030987\n",
      "신분당선강남역 37.494993 127.029112\n",
      "지하철2호선강남역 37.500785 127.02637\n",
      "논현역 37.506367 127.023728\n",
      "신사역 37.512972 127.020607\n",
      "한남대교전망카페 37.5244775345 127.0160048712\n",
      "한남5거리 37.5328656324 127.0083381045\n",
      "순천향대학병원 37.5364422432 127.0057302453\n",
      "한강진역.블루스퀘어 37.5407264564 127.001669577\n",
      "한남동새마을금고 37.5368442711 127.0003213662\n",
      "이태원119안전센터 37.5347500738 126.9966370647\n",
      "이태원역.보광동입구 37.5336208994 126.9941047683\n",
      "한국폴리텍1대학 37.5303662302 126.9965252457\n",
      "기업은행보광동지점 37.5281820141 126.9988968458\n",
      "보광동주민센터 37.5264591178 127.0005046107\n",
      "보광신동아아파트삼성리버빌아파트 37.5247380028 127.0020297105\n",
      "동빙고동 37.5211822412 126.9968594154\n",
      "서빙고동주민센터 37.5203261231 126.9947800822\n",
      "서빙고역교차로 37.5204258449 126.9900918723\n",
      "국립중앙박물관용산가족공원 37.5208282256 126.9797989863\n",
      "이촌역 37.5226689183 126.9739086458\n",
      "용산세무서 37.5236213922 126.970154424\n",
      "용산철도고등학교 37.5252432638 126.9673665226\n",
      "용산푸르지오써밋 37.527330606 126.9646779694\n",
      "용산역광장앞 37.5283424787 126.9653975717\n",
      "신용산.지하차도 37.5327703191 126.9639636846\n",
      "용산전자상가입구 37.5345701678 126.9622225151\n",
      "남정초등학교 37.5363187485 126.9636632444\n",
      "용산꿈나무종합타운.보건분소 37.5384268178 126.9649997667\n",
      "효창공원앞역.이봉창역사울림관 37.5392080537 126.9620345918\n",
      "국민은행효창동지점 37.5416239572 126.9622336676\n",
      "숙명여대정문 37.5449594985 126.9641094647\n",
      "숙명여대도서관앞 37.5448412411 126.9664464653\n",
      "숙대입구역 37.5444252003 126.9708398554\n",
      "남영우체국 37.5451241168 126.973235384\n",
      "남영동주민센터 37.5453624049 126.9750573355\n",
      "용산중고 37.54679039 126.978350169\n",
      "후암시장 37.5497467332 126.9775446282\n",
      "후암삼거리 37.5533418143 126.9760823693\n",
      "남대문경찰서 37.5540144353 126.9737449241\n",
      "숭례문 37.5584195299 126.9740436876\n",
      "남대문시장앞.이회영활동터 37.5609394169 126.978580386\n",
      "롯데영프라자 37.562885 126.982008\n",
      "을지로입구.시청입구 37.5661382638 126.9811712097\n",
      "시청앞 37.562764205 126.976148714\n",
      "숭례문.한국일보 37.5587713091 126.9737375955\n",
      "서울역 37.5535629948 126.973780169\n",
      "후암3거리 37.5525408404 126.9765772255\n",
      "후암시장 37.5506891863 126.9770644706\n",
      "용산중고 37.5469110901 126.9780966281\n",
      "남영동주민센터 37.5457484198 126.976752502\n",
      "남영우체국 37.5453224193 126.9735080526\n",
      "숙명여대입구 37.5448844577 126.9696434774\n",
      "숙명여대도서관앞 37.5448468654 126.9672216718\n",
      "숙명여대정문 37.5451307674 126.9643096929\n",
      "숙명여대후문.이봉창활동터 37.5459093844 126.9632082782\n",
      "효창공원후문 37.5467620916 126.9625026885\n",
      "한겨레신문사입구 37.5458806239 126.9591928852\n",
      "대한노인회 37.5435687851 126.9576924158\n",
      "효창운동장.효창동주민센터 37.5422095196 126.9617671315\n",
      "서울금양초등학교.국민은행효창동지점 37.5412679213 126.9619135936\n",
      "효창공원앞역.이봉창역사울림관 37.5388068257 126.9624982594\n",
      "용산꿈나무종합타운.보건분소 37.538295 126.964648\n",
      "원효로2가 37.536237441 126.9629911361\n",
      "용산전자상가입구 37.5344763909 126.9620268068\n",
      "신용산.지하차도 37.5325504129 126.9638381932\n",
      "용산역 37.5287491072 126.9654698469\n",
      "용산푸르지오써밋 37.527252133 126.9644200412\n",
      "용산철도고등학교 37.5255972846 126.9660149714\n",
      "용산세무서 37.5236283885 126.969325126\n",
      "이촌역 37.5223012804 126.9739562906\n",
      "국립중앙박물관용산가족공원 37.5209306979 126.978370088\n",
      "서빙고역1번출구 37.5200094838 126.9894776223\n",
      "서빙고동 37.5198043185 126.9934202794\n",
      "동빙고동 37.5207461002 126.9965437932\n",
      "보광동신동아아파트 37.5256237907 127.0015149467\n",
      "기업은행보광동지점 37.5278738421 126.9994127849\n",
      "한국폴리텍1대학 37.5305599639 126.9964449019\n",
      "이태원역.보광동입구 37.5336290179 126.9942801537\n",
      "이태원119안전센터 37.5345410337 126.9971949215\n",
      "한남동주민센터 37.5367073033 127.0006042579\n",
      "한강진역.블루스퀘어 37.5408748585 127.0021070988\n",
      "서울시중부기술교육원.블루스퀘어 37.5411748997 127.0031776354\n",
      "순천향대학병원.한남오거리 37.5354906847 127.0057290409\n",
      "신사역.푸른저축은행 37.5144890979 127.0199389362\n",
      "논현역 37.5072264964 127.0230319441\n",
      "지하철2호선강남역 37.501817 127.025438\n",
      "신분당선강남역 37.4960417459 127.0284005454\n",
      "래미안아파트.파이낸셜뉴스 37.491895 127.030405\n",
      "뱅뱅사거리 37.487667 127.032432\n",
      "양재역 37.4832966004 127.0348614229\n",
      "일동제약사거리 37.4788621279 127.0382039618\n",
      "시민의숲 37.473135 127.038353\n",
      "AT센터.양재꽃시장 37.468707 127.039655\n",
      "도로교통공단서울지부.코트라 37.4662408667 127.0443893195\n"
     ]
    }
   ],
   "source": [
    "# ▶ 버스 ID로 노선목록 출력 (busRouteID, key 필요)\n",
    "url2 = 'http://ws.bus.go.kr/api/rest/busRouteInfo/getStaionByRoute?serviceKey='+key+'&busRouteId='+busRouteId\n",
    "\n",
    "# ▶ xml 저장하기\n",
    "saveFileName = 'D:/Gray_Bigdata/src/2_station.xml'\n",
    "req.urlretrieve(url2, saveFileName)\n",
    "\n",
    "# ▶ xml 불러오기\n",
    "xml = open(saveFileName, 'r', encoding='UTF8').read()\n",
    "soup = bs(xml, 'xml')\n",
    "\n",
    "busStation = []\n",
    "for itemList in soup.find_all('itemList'):\n",
    "    stationNm = itemList.find('stationNm').text\n",
    "    gpsX = itemList.find('gpsX').text\n",
    "    gpsY = itemList.find('gpsY').text\n",
    "\n",
    "    busStation.append((stationNm, gpsX, gpsY)) # 튜플로 저장\n",
    "\n",
    "print(busNum + '번 버스 정류소 및 위치')\n",
    "print(len(busStation), '개 정류소')\n",
    "print()\n",
    "print('정류소\\t위도\\t경도')\n",
    "for stationNm, gpsX, gpsY in busStation:\n",
    "    print(stationNm, gpsY, gpsX)"
   ]
  },
  {
   "cell_type": "code",
   "execution_count": 45,
   "id": "a50b5e9a",
   "metadata": {
    "scrolled": true
   },
   "outputs": [
    {
     "name": "stdout",
     "output_type": "stream",
     "text": [
      "400 번 버스의 운행중인 위치( 18 대 운행중)\n",
      "차량번호\t위도\t경도\t만차여부\n",
      "('서울74사5750', '37.468475', '127.047211', '0')\n",
      "('서울75사2633', '37.470237', '127.038884', '0')\n",
      "('서울74사3139', '37.491235', '127.030923', '0')\n",
      "('서울74사3158', '37.530993', '127.009627', '0')\n",
      "('서울74사3194', '37.534626', '126.995246', '0')\n",
      "('서울74사5755', '37.520246', '126.991303', '0')\n",
      "('서울74사2046', '37.532609', '126.964134', '0')\n",
      "('서울74사3195', '37.543837', '126.963101', '0')\n",
      "('서울70사5707', '37.549598', '126.977501', '0')\n",
      "('서울74사3165', '37.566083', '126.982493', '0')\n",
      "('서울74사3149', '37.544978', '126.966657', '0')\n",
      "('서울74사3161', '37.538386', '126.964707', '0')\n",
      "('서울74사4428', '37.523628', '126.969325', '0')\n",
      "('서울75사2636', '37.534609', '126.996878', '0')\n",
      "('서울75사2631', '37.517722', '127.019005', '0')\n",
      "('서울74사4400', '37.493385', '127.029623', '0')\n",
      "('서울74사3102', '37.478881', '127.038253', '0')\n",
      "('서울74사3193', '37.466475', '127.041743', '0')\n"
     ]
    }
   ],
   "source": [
    "# ▶ 버스 위치 정보 조회 서비스 (key, 버스id)\n",
    "key = '9jPSAQMDWr7tU52kY9SAZKieBldWonFtWmpaNjPL9s3M%2F%2BczFOnqAfkR4rpZ%2F47JE5mYiQwv2dizUHvexn15HQ%3D%3D'\n",
    "url3 = 'http://ws.bus.go.kr/api/rest/buspos/getBusPosByRtid?serviceKey='+key+'&busRouteId='+busRouteId\n",
    "\n",
    "saveFileName = 'D:/Gray_Bigdata/src/3_busPosition.xml'\n",
    "req.urlretrieve(url3, saveName)\n",
    "\n",
    "xml = open(saveFileName, 'r', encoding='UTF8')\n",
    "soup = bs(xml, 'xml')\n",
    "\n",
    "busPos = []\n",
    "for itemList in soup.find_all('itemList'):\n",
    "    plainNo = itemList.find('plainNo').text\n",
    "    gpsX = itemList.find('gpsX').text\n",
    "    gpsY = itemList.find('gpsY').text\n",
    "    isFullFlag = itemList.find('isFullFlag').text\n",
    "    \n",
    "    busPos.append((plainNo, gpsY, gpsX, isFullFlag))\n",
    "\n",
    "print(busNum, '번 버스의 운행중인 위치(', len(busPos), '대 운행중)')\n",
    "\n",
    "if len(busPos) != 0:\n",
    "    print('차량번호\\t위도\\t경도\\t만차여부')\n",
    "    for bus in busPos:\n",
    "        print(bus)"
   ]
  }
 ],
 "metadata": {
  "kernelspec": {
   "display_name": "Python 3",
   "language": "python",
   "name": "python3"
  },
  "language_info": {
   "codemirror_mode": {
    "name": "ipython",
    "version": 3
   },
   "file_extension": ".py",
   "mimetype": "text/x-python",
   "name": "python",
   "nbconvert_exporter": "python",
   "pygments_lexer": "ipython3",
   "version": "3.8.8"
  },
  "toc": {
   "base_numbering": 1,
   "nav_menu": {},
   "number_sections": false,
   "sideBar": true,
   "skip_h1_title": false,
   "title_cell": "Table of Contents",
   "title_sidebar": "Contents",
   "toc_cell": false,
   "toc_position": {
    "height": "calc(100% - 180px)",
    "left": "10px",
    "top": "150px",
    "width": "247px"
   },
   "toc_section_display": true,
   "toc_window_display": true
  },
  "varInspector": {
   "cols": {
    "lenName": 16,
    "lenType": 16,
    "lenVar": 40
   },
   "kernels_config": {
    "python": {
     "delete_cmd_postfix": "",
     "delete_cmd_prefix": "del ",
     "library": "var_list.py",
     "varRefreshCmd": "print(var_dic_list())"
    },
    "r": {
     "delete_cmd_postfix": ") ",
     "delete_cmd_prefix": "rm(",
     "library": "var_list.r",
     "varRefreshCmd": "cat(var_dic_list()) "
    }
   },
   "position": {
    "height": "413px",
    "left": "1550px",
    "right": "20px",
    "top": "120px",
    "width": "350px"
   },
   "types_to_exclude": [
    "module",
    "function",
    "builtin_function_or_method",
    "instance",
    "_Feature"
   ],
   "window_display": true
  }
 },
 "nbformat": 4,
 "nbformat_minor": 5
}
