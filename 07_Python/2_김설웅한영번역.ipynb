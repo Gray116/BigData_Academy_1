{
 "cells": [
  {
   "cell_type": "code",
   "execution_count": 1,
   "id": "2c9fbaf7",
   "metadata": {},
   "outputs": [
    {
     "data": {
      "text/html": [
       "\n",
       "<style>\n",
       "div.CodeMirror {font-family:Consolas; font-size:13pt;}\n",
       "div.output {font-size:13pt; font-weight : bold;}\n",
       "div.input {font-family:Consolas; font-size:13pt;}\n",
       "</style>\n"
      ],
      "text/plain": [
       "<IPython.core.display.HTML object>"
      ]
     },
     "metadata": {},
     "output_type": "display_data"
    }
   ],
   "source": [
    "from IPython.display import display, HTML\n",
    "display(HTML(\"\"\"\n",
    "<style>\n",
    "div.CodeMirror {font-family:Consolas; font-size:13pt;}\n",
    "div.output {font-size:13pt; font-weight : bold;}\n",
    "div.input {font-family:Consolas; font-size:13pt;}\n",
    "</style>\n",
    "\"\"\"))"
   ]
  },
  {
   "cell_type": "code",
   "execution_count": 85,
   "id": "02321caf",
   "metadata": {},
   "outputs": [],
   "source": [
    "from selenium import webdriver\n",
    "from selenium.webdriver.common.keys import Keys\n",
    "from bs4 import BeautifulSoup\n",
    "import time\n",
    "\n",
    "### 한글원본 맞춤법 검사 ###\n",
    "with open('Data/2_한글원본.txt', 'r', encoding='UTF8') as f:\n",
    "    text = f.read()\n",
    "\n",
    "ready_list = []\n",
    "\n",
    "while len(text) > 500:\n",
    "    temp_text = text[:500]\n",
    "    last_space_idx = temp_text.rfind(' ')\n",
    "    ready_list.append(text[:last_space_idx])\n",
    "    \n",
    "    text = text[last_space_idx: ]\n",
    "    \n",
    "ready_list.append(text)\n",
    "\n",
    "dv = webdriver.Chrome('D:/Gray_Bigdata/src/07_Python/chromedriver.exe')\n",
    "dv.get('http://www.naver.com')\n",
    "\n",
    "elem = dv.find_element_by_name('query')\n",
    "elem.clear()\n",
    "elem.send_keys('네이버 맞춤법 검사기')\n",
    "elem.send_keys(Keys.RETURN)\n",
    "\n",
    "time.sleep(1)\n",
    "\n",
    "textarea = dv.find_element_by_class_name('txt_gray')\n",
    "results = ''\n",
    "for ready in ready_list:\n",
    "    textarea.send_keys(Keys.CONTROL, 'a')\n",
    "    textarea.send_keys(ready)\n",
    "\n",
    "    button = dv.find_element_by_class_name('btn_check')\n",
    "    button.click()\n",
    "\n",
    "    time.sleep(1)\n",
    "\n",
    "    soup = BeautifulSoup(dv.page_source, 'html.parser')\n",
    "    result = soup.select_one('p._result_text.stand_txt').text\n",
    "    results += result + '\\n\\n'\n",
    "\n",
    "time.sleep(2)\n",
    "### 수정된 텍스트를 번역기 사이트를 통해 영어로 번역 ###\n",
    "ready_list_eng = []\n",
    "\n",
    "while len(results) > 300:\n",
    "    temp_text = results[:300]\n",
    "    last_space_idx = temp_text.rfind(' ')\n",
    "    ready_list_eng.append(results[:last_space_idx])\n",
    "    \n",
    "    results = results[last_space_idx: ]\n",
    "\n",
    "ready_list_eng.append(results)\n",
    "\n",
    "dv.get('http://www.google.com')\n",
    "elem = dv.find_element_by_name('q')\n",
    "elem.clear()\n",
    "elem.send_keys('구글 번역')\n",
    "elem.send_keys(Keys.RETURN)\n",
    "\n",
    "transBtn = dv.find_element_by_css_selector('span.tw-menu-btn-image')\n",
    "transBtn.click()\n",
    "\n",
    "time.sleep(1)\n",
    "\n",
    "textarea_eng = dv.find_element_by_class_name('goog-textarea')\n",
    "\n",
    "time.sleep(1)\n",
    "\n",
    "results_eng = ''\n",
    "for ready in ready_list_eng:    \n",
    "    textarea_eng.send_keys(Keys.CONTROL, 'a')\n",
    "    textarea_eng.send_keys(ready)\n",
    "    \n",
    "    time.sleep(1)\n",
    "    \n",
    "    soup = BeautifulSoup(dv.page_source, 'html.parser')\n",
    "    result_eng= soup.select_one('div#tw-target-text-container pre#tw-target-text > span.Y2IQFc').text\n",
    "    results_eng += result_eng + '\\n'\n",
    "\n",
    "with open('Data/2_자동화영어번역본.txt', 'w', encoding='UTF8') as f:\n",
    "    f.write(results_eng)\n",
    "\n",
    "time.sleep(1)\n",
    "dv.close()"
   ]
  }
 ],
 "metadata": {
  "kernelspec": {
   "display_name": "Python 3",
   "language": "python",
   "name": "python3"
  },
  "language_info": {
   "codemirror_mode": {
    "name": "ipython",
    "version": 3
   },
   "file_extension": ".py",
   "mimetype": "text/x-python",
   "name": "python",
   "nbconvert_exporter": "python",
   "pygments_lexer": "ipython3",
   "version": "3.8.8"
  },
  "toc": {
   "base_numbering": 1,
   "nav_menu": {},
   "number_sections": true,
   "sideBar": true,
   "skip_h1_title": false,
   "title_cell": "Table of Contents",
   "title_sidebar": "Contents",
   "toc_cell": false,
   "toc_position": {},
   "toc_section_display": true,
   "toc_window_display": false
  },
  "varInspector": {
   "cols": {
    "lenName": 16,
    "lenType": 16,
    "lenVar": 40
   },
   "kernels_config": {
    "python": {
     "delete_cmd_postfix": "",
     "delete_cmd_prefix": "del ",
     "library": "var_list.py",
     "varRefreshCmd": "print(var_dic_list())"
    },
    "r": {
     "delete_cmd_postfix": ") ",
     "delete_cmd_prefix": "rm(",
     "library": "var_list.r",
     "varRefreshCmd": "cat(var_dic_list()) "
    }
   },
   "types_to_exclude": [
    "module",
    "function",
    "builtin_function_or_method",
    "instance",
    "_Feature"
   ],
   "window_display": false
  }
 },
 "nbformat": 4,
 "nbformat_minor": 5
}
