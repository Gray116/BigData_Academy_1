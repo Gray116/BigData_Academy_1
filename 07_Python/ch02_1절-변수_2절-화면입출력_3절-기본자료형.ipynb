{
 "cells": [
  {
   "cell_type": "markdown",
   "id": "d4c570a8",
   "metadata": {
    "ExecuteTime": {
     "end_time": "2021-07-19T03:43:28.270812Z",
     "start_time": "2021-07-19T03:43:28.261818Z"
    }
   },
   "source": [
    "<b><font color = \"red\" size = \"6\">ch02. 자료형과 연산자</font></b>"
   ]
  },
  {
   "cell_type": "markdown",
   "id": "279dde7d",
   "metadata": {},
   "source": [
    "# 1절. 변수"
   ]
  },
  {
   "cell_type": "markdown",
   "id": "8ac4e2bc",
   "metadata": {},
   "source": [
    "## 1.1 변수선언\n",
    "* 값을 저장할 수 있는 변수를 만드는 것.\n",
    "* 파이썬은 변수 선언을 위한 타입이 없고 별도의 선언 과정이 없다."
   ]
  },
  {
   "cell_type": "markdown",
   "id": "8149040e",
   "metadata": {},
   "source": [
    "## 1.2 변수 할당\n",
    "* 어떤 값이 이름을 갖도록 하는 과정\n",
    "* 할당연산자(=)를 이용한다."
   ]
  },
  {
   "cell_type": "code",
   "execution_count": 5,
   "id": "8a6b29e7",
   "metadata": {
    "ExecuteTime": {
     "end_time": "2021-07-19T04:09:08.176495Z",
     "start_time": "2021-07-19T04:09:08.171528Z"
    }
   },
   "outputs": [
    {
     "name": "stdout",
     "output_type": "stream",
     "text": [
      "계산된 넓이는 78.5\n"
     ]
    }
   ],
   "source": [
    "r = 5\n",
    "area = 3.14 * r * r\n",
    "\n",
    "print(\"계산된 넓이는\", area)"
   ]
  },
  {
   "cell_type": "code",
   "execution_count": 6,
   "id": "c330ad2d",
   "metadata": {},
   "outputs": [
    {
     "name": "stdout",
     "output_type": "stream",
     "text": [
      "78.53981633974483\n"
     ]
    }
   ],
   "source": [
    "import numpy as np # numpy라는 패키지를 np라는 이름으로 사용한다.\n",
    "\n",
    "r = 5\n",
    "area = np.pi * r * r\n",
    "\n",
    "print(area)"
   ]
  },
  {
   "cell_type": "code",
   "execution_count": 8,
   "id": "0410ceb0",
   "metadata": {},
   "outputs": [],
   "source": [
    "a = 10"
   ]
  },
  {
   "cell_type": "code",
   "execution_count": 10,
   "id": "b77704a8",
   "metadata": {},
   "outputs": [
    {
     "name": "stdout",
     "output_type": "stream",
     "text": [
      "140710665070672\n",
      "<class 'int'>\n"
     ]
    }
   ],
   "source": [
    "print(id(a)) # a 변수의 주소\n",
    "print(type(a)) # a 변수의 타입"
   ]
  },
  {
   "cell_type": "code",
   "execution_count": 11,
   "id": "780d9286",
   "metadata": {},
   "outputs": [
    {
     "name": "stdout",
     "output_type": "stream",
     "text": [
      "2783749638256\n",
      "<class 'str'>\n"
     ]
    }
   ],
   "source": [
    "a = '파이썬' # 기존의 객체는 사라진다.\n",
    "\n",
    "print(id(a))\n",
    "print(type(a))"
   ]
  },
  {
   "cell_type": "markdown",
   "id": "89ad190c",
   "metadata": {},
   "source": [
    "## 1.3 변수 이름 규칙\n",
    "- 문자로 시작한다.\n",
    "- 문자, 숫자, _로 변수명을 작성한다.\n",
    "- 파이썬에서 제공되는 기본 함수명은 피하는게 좋다.\n",
    "- 파이썬 예약어는 변수명 불가"
   ]
  },
  {
   "cell_type": "code",
   "execution_count": 14,
   "id": "1e14b3ab",
   "metadata": {},
   "outputs": [
    {
     "data": {
      "text/plain": [
       "'북한'"
      ]
     },
     "execution_count": 14,
     "metadata": {},
     "output_type": "execute_result"
    }
   ],
   "source": [
    "불용어 = '북한'\n",
    "불용어"
   ]
  },
  {
   "cell_type": "code",
   "execution_count": 15,
   "id": "f97196cc",
   "metadata": {},
   "outputs": [],
   "source": [
    "print = 5"
   ]
  },
  {
   "cell_type": "code",
   "execution_count": 16,
   "id": "bcda737a",
   "metadata": {},
   "outputs": [],
   "source": [
    "del print # print 변수 삭제"
   ]
  },
  {
   "cell_type": "code",
   "execution_count": 17,
   "id": "2db78da4",
   "metadata": {},
   "outputs": [
    {
     "name": "stdout",
     "output_type": "stream",
     "text": [
      "Hello, World\n"
     ]
    }
   ],
   "source": [
    "print(\"Hello, World\")"
   ]
  },
  {
   "cell_type": "code",
   "execution_count": 18,
   "id": "280eed49",
   "metadata": {},
   "outputs": [
    {
     "data": {
      "text/plain": [
       "complex"
      ]
     },
     "execution_count": 18,
     "metadata": {},
     "output_type": "execute_result"
    }
   ],
   "source": [
    "i = 3 + 5j\n",
    "type(i)"
   ]
  },
  {
   "cell_type": "code",
   "execution_count": 19,
   "id": "9846ee16",
   "metadata": {},
   "outputs": [
    {
     "name": "stdout",
     "output_type": "stream",
     "text": [
      "(-16+30j)\n"
     ]
    }
   ],
   "source": [
    "print(i * i)"
   ]
  },
  {
   "cell_type": "code",
   "execution_count": 20,
   "id": "28575ac5",
   "metadata": {},
   "outputs": [
    {
     "data": {
      "text/plain": [
       "True"
      ]
     },
     "execution_count": 20,
     "metadata": {},
     "output_type": "execute_result"
    }
   ],
   "source": [
    "# 자동완성 (tab키)\n",
    "isinstance(i, complex) # i 변수가 complex타입인지 여부 반환"
   ]
  },
  {
   "cell_type": "code",
   "execution_count": 21,
   "id": "4e09be2c",
   "metadata": {},
   "outputs": [],
   "source": [
    "a, b = 10, 20 # 다중변수 선언"
   ]
  },
  {
   "cell_type": "code",
   "execution_count": 22,
   "id": "09ad9be0",
   "metadata": {},
   "outputs": [],
   "source": [
    "a, b = b, a+b # 다중변수 할당시 순차적 할당이 아닌 일괄적 할당이 발생한다."
   ]
  },
  {
   "cell_type": "code",
   "execution_count": 23,
   "id": "fbdfbd1c",
   "metadata": {},
   "outputs": [
    {
     "data": {
      "text/plain": [
       "(20, 30)"
      ]
     },
     "execution_count": 23,
     "metadata": {},
     "output_type": "execute_result"
    }
   ],
   "source": [
    "a, b"
   ]
  },
  {
   "cell_type": "markdown",
   "id": "e0dd8c39",
   "metadata": {},
   "source": [
    "## 1.4 도움말"
   ]
  },
  {
   "cell_type": "code",
   "execution_count": 24,
   "id": "70cee740",
   "metadata": {},
   "outputs": [
    {
     "name": "stdout",
     "output_type": "stream",
     "text": [
      "Help on built-in function print in module builtins:\n",
      "\n",
      "print(...)\n",
      "    print(value, ..., sep=' ', end='\\n', file=sys.stdout, flush=False)\n",
      "    \n",
      "    Prints the values to a stream, or to sys.stdout by default.\n",
      "    Optional keyword arguments:\n",
      "    file:  a file-like object (stream); defaults to the current sys.stdout.\n",
      "    sep:   string inserted between values, default a space.\n",
      "    end:   string appended after the last value, default a newline.\n",
      "    flush: whether to forcibly flush the stream.\n",
      "\n"
     ]
    }
   ],
   "source": [
    "help(print)"
   ]
  },
  {
   "cell_type": "code",
   "execution_count": null,
   "id": "5920c87d",
   "metadata": {},
   "outputs": [],
   "source": [
    "# 도움말 기능 : shift + tab키\n",
    "print()"
   ]
  },
  {
   "cell_type": "code",
   "execution_count": 28,
   "id": "6d56ae80",
   "metadata": {},
   "outputs": [],
   "source": [
    "def add(x, y = 0):\n",
    "    return 10*x + y"
   ]
  },
  {
   "cell_type": "code",
   "execution_count": 30,
   "id": "46ea90f7",
   "metadata": {},
   "outputs": [
    {
     "data": {
      "text/plain": [
       "53"
      ]
     },
     "execution_count": 30,
     "metadata": {},
     "output_type": "execute_result"
    }
   ],
   "source": [
    "add(5, 3)"
   ]
  },
  {
   "cell_type": "code",
   "execution_count": 31,
   "id": "72f4c5f0",
   "metadata": {},
   "outputs": [],
   "source": [
    "a = 10\n",
    "b = 20\n",
    "c = a + b"
   ]
  },
  {
   "cell_type": "code",
   "execution_count": 32,
   "id": "a63ec3df",
   "metadata": {},
   "outputs": [],
   "source": [
    "del b"
   ]
  },
  {
   "cell_type": "code",
   "execution_count": 33,
   "id": "4c226b5e",
   "metadata": {},
   "outputs": [],
   "source": [
    "del(c)"
   ]
  },
  {
   "cell_type": "code",
   "execution_count": 34,
   "id": "76aff9f4",
   "metadata": {},
   "outputs": [
    {
     "name": "stdout",
     "output_type": "stream",
     "text": [
      "Variable          Type                          Data/Info\n",
      "---------------------------------------------------------\n",
      "NamespaceMagics   MetaHasTraits                 <class 'IPython.core.magi<...>mespace.NamespaceMagics'>\n",
      "a                 int                           10\n",
      "add               function                      <function add at 0x00000288249C9550>\n",
      "area              float                         78.53981633974483\n",
      "autopep8          module                        <module 'autopep8' from '<...>e-packages\\\\autopep8.py'>\n",
      "get_ipython       function                      <function get_ipython at 0x000002881EA34430>\n",
      "getsizeof         builtin_function_or_method    <built-in function getsizeof>\n",
      "i                 complex                       (3+5j)\n",
      "json              module                        <module 'json' from 'C:\\\\<...>\\lib\\\\json\\\\__init__.py'>\n",
      "np                module                        <module 'numpy' from 'C:\\<...>ges\\\\numpy\\\\__init__.py'>\n",
      "print_            int                           5\n",
      "r                 int                           5\n",
      "var_dic_list      function                      <function var_dic_list at 0x0000028822799310>\n",
      "yapf_reformat     function                      <function yapf_reformat at 0x00000288226D43A0>\n",
      "불용어               str                           북한\n"
     ]
    }
   ],
   "source": [
    "whos"
   ]
  },
  {
   "cell_type": "markdown",
   "id": "6a95996b",
   "metadata": {},
   "source": [
    "# 2절. 화면 I/O"
   ]
  },
  {
   "cell_type": "code",
   "execution_count": 35,
   "id": "fc6c6e24",
   "metadata": {},
   "outputs": [
    {
     "name": "stdout",
     "output_type": "stream",
     "text": [
      "첫번째 숫자는? 10\n",
      "두번째 숫자는? 10\n"
     ]
    }
   ],
   "source": [
    "first = input(\"첫번째 숫자는? \") # string으로 변수의 포멧이 설정된다.\n",
    "second = input(\"두번째 숫자는? \") # 대안 : int(input('수를 입력하세요'))"
   ]
  },
  {
   "cell_type": "code",
   "execution_count": 36,
   "id": "51ea4dc8",
   "metadata": {},
   "outputs": [
    {
     "name": "stdout",
     "output_type": "stream",
     "text": [
      "두수의 합은?  1010\n"
     ]
    }
   ],
   "source": [
    "print('두수의 합은? ', first + second)"
   ]
  },
  {
   "cell_type": "code",
   "execution_count": 37,
   "id": "31297148",
   "metadata": {},
   "outputs": [
    {
     "name": "stdout",
     "output_type": "stream",
     "text": [
      "두수의 합은?  20\n"
     ]
    }
   ],
   "source": [
    "print('두수의 합은? ', int(first) + int(second))"
   ]
  },
  {
   "cell_type": "code",
   "execution_count": 39,
   "id": "69ee9f7f",
   "metadata": {},
   "outputs": [
    {
     "name": "stdout",
     "output_type": "stream",
     "text": [
      "Hello ~ World\tHello / Hadoop\n"
     ]
    }
   ],
   "source": [
    "print('Hello', 'World', sep = ' ~ ', end = '\\t')\n",
    "print('Hello', 'Hadoop', sep = ' / ', end = '\\n')"
   ]
  },
  {
   "cell_type": "markdown",
   "id": "e93b85b4",
   "metadata": {},
   "source": [
    "# 3절. 기본 자료형\n",
    "- 숫자(정수, 실수, 복소수)\n",
    "- 문자\n",
    "- 논리형(True, False)"
   ]
  },
  {
   "cell_type": "markdown",
   "id": "9f57c0e0",
   "metadata": {},
   "source": [
    "## 3.1 숫자형"
   ]
  },
  {
   "cell_type": "code",
   "execution_count": 40,
   "id": "1d0e6610",
   "metadata": {},
   "outputs": [
    {
     "name": "stdout",
     "output_type": "stream",
     "text": [
      "9223372036854775807\n"
     ]
    }
   ],
   "source": [
    "import sys\n",
    "print(sys.maxsize) # 정수의 최대수 2^63 - 1"
   ]
  },
  {
   "cell_type": "code",
   "execution_count": 41,
   "id": "55c6f5c3",
   "metadata": {},
   "outputs": [
    {
     "name": "stdout",
     "output_type": "stream",
     "text": [
      "<class 'type'>\n"
     ]
    }
   ],
   "source": [
    "i = 9223372036854775807 + 1000\n",
    "print(type)\n",
    "print(i) # 소수점이 없는 모든 수는 int(정수)"
   ]
  },
  {
   "cell_type": "code",
   "execution_count": 42,
   "id": "5cc9cd3f",
   "metadata": {},
   "outputs": [
    {
     "data": {
      "text/plain": [
       "float"
      ]
     },
     "execution_count": 42,
     "metadata": {},
     "output_type": "execute_result"
    }
   ],
   "source": [
    "f = 3.0\n",
    "type(f)"
   ]
  },
  {
   "cell_type": "code",
   "execution_count": 44,
   "id": "a955c0ba",
   "metadata": {},
   "outputs": [
    {
     "data": {
      "text/plain": [
       "float"
      ]
     },
     "execution_count": 44,
     "metadata": {},
     "output_type": "execute_result"
    }
   ],
   "source": [
    "f = 3 / 2\n",
    "type(f) # 정수/정수는 무조건 실수"
   ]
  },
  {
   "cell_type": "code",
   "execution_count": 45,
   "id": "07b0bd92",
   "metadata": {},
   "outputs": [
    {
     "name": "stdout",
     "output_type": "stream",
     "text": [
      "1.0\n"
     ]
    }
   ],
   "source": [
    "f = 2/2\n",
    "print(f)"
   ]
  },
  {
   "cell_type": "code",
   "execution_count": 46,
   "id": "cd091cb0",
   "metadata": {},
   "outputs": [
    {
     "name": "stdout",
     "output_type": "stream",
     "text": [
      "1\n",
      "1\n"
     ]
    }
   ],
   "source": [
    "# 자바처럼 하고 싶으면 (정수/정수를 정수로)\n",
    "f = int(3/2)\n",
    "print(f)\n",
    "f = 3//2 # 몫 연산자\n",
    "print(f)"
   ]
  },
  {
   "cell_type": "code",
   "execution_count": 48,
   "id": "ddc2cb4f",
   "metadata": {},
   "outputs": [
    {
     "name": "stdout",
     "output_type": "stream",
     "text": [
      "(-1+0j)\n"
     ]
    }
   ],
   "source": [
    "b = 0 + 1j\n",
    "print(b**2) # b의 제곱"
   ]
  },
  {
   "cell_type": "code",
   "execution_count": 60,
   "id": "56b5e72b",
   "metadata": {},
   "outputs": [
    {
     "name": "stdout",
     "output_type": "stream",
     "text": [
      "1.12e-12\n",
      "1.12e+20\n"
     ]
    }
   ],
   "source": [
    "f = 1.12e-12 # 1.12 * 10의 -12승\n",
    "print(f)\n",
    "f = 1.12e20\n",
    "print(f)"
   ]
  },
  {
   "cell_type": "markdown",
   "id": "6a751f3a",
   "metadata": {},
   "source": [
    "## 3.2 문자형"
   ]
  },
  {
   "cell_type": "code",
   "execution_count": 56,
   "id": "e2171c07",
   "metadata": {},
   "outputs": [
    {
     "name": "stdout",
     "output_type": "stream",
     "text": [
      "홍길동 서울시 마포구 노고산동\n"
     ]
    }
   ],
   "source": [
    "name = '홍길동'\n",
    "address = \"서울시 마포구 노고산동\"\n",
    "print(name, address)"
   ]
  },
  {
   "cell_type": "code",
   "execution_count": 59,
   "id": "2e0945c5",
   "metadata": {},
   "outputs": [
    {
     "data": {
      "text/plain": [
       "'\\n여러 줄 주석\\n2021. 7. 19 마지막 오프라인 수업일\\n'"
      ]
     },
     "execution_count": 59,
     "metadata": {},
     "output_type": "execute_result"
    }
   ],
   "source": [
    "'''\n",
    "여러 줄 주석\n",
    "2021. 7. 19 마지막 오프라인 수업일\n",
    "'''"
   ]
  },
  {
   "cell_type": "code",
   "execution_count": 62,
   "id": "e0a07d3d",
   "metadata": {},
   "outputs": [
    {
     "name": "stdout",
     "output_type": "stream",
     "text": [
      "Hello\n",
      "World\n"
     ]
    }
   ],
   "source": [
    "# raw 데이터 처리\n",
    "print(\"Hello\\nWorld\")"
   ]
  },
  {
   "cell_type": "code",
   "execution_count": 63,
   "id": "5fae0d8c",
   "metadata": {},
   "outputs": [
    {
     "name": "stdout",
     "output_type": "stream",
     "text": [
      "Hello\\nWorld\n"
     ]
    }
   ],
   "source": [
    "print(r\"Hello\\nWorld\")"
   ]
  },
  {
   "cell_type": "code",
   "execution_count": 66,
   "id": "b9fa26ea",
   "metadata": {},
   "outputs": [
    {
     "name": "stdout",
     "output_type": "stream",
     "text": [
      "이름 : 홍길동, 주소 : 서울시 마포구, 전화 : 02-716-1006, 특징 : 동에 번쩍 서에 번쩍, 혈액형 : B\n"
     ]
    }
   ],
   "source": [
    "# raw 데이터 이용할 때\n",
    "# ex. 정규표현식 이용\n",
    "import re\n",
    "\n",
    "data = '이름 : 홍길동, 주소 : 서울시 마포구, 전화 : 02-716-1006, 특징 : 동에 번쩍 서에 번쩍, 혈액형 : B'\n",
    "\n",
    "print(data)"
   ]
  },
  {
   "cell_type": "code",
   "execution_count": 65,
   "id": "b30a6b13",
   "metadata": {},
   "outputs": [
    {
     "name": "stdout",
     "output_type": "stream",
     "text": [
      "['02-716-1006']\n"
     ]
    }
   ],
   "source": [
    "phone_pattern = r'[\\d]{2,3}-[\\d]{3,4}-[\\d]{4}'\n",
    "# phone_pattern = '[\\\\d]{2,3}-[\\\\d]{3,4}-[\\\\d]{4}'\n",
    "phone = re.findall(phone_pattern, data)\n",
    "print(phone)"
   ]
  },
  {
   "cell_type": "code",
   "execution_count": null,
   "id": "e83fb9a1",
   "metadata": {},
   "outputs": [],
   "source": [
    "file = r'D:\\Gray_Bigdata\\src\\07_Python'"
   ]
  },
  {
   "cell_type": "code",
   "execution_count": 69,
   "id": "d62bafe6",
   "metadata": {},
   "outputs": [
    {
     "data": {
      "text/plain": [
       "<re.Match object; span=(29, 40), match='02-716-1006'>"
      ]
     },
     "execution_count": 69,
     "metadata": {},
     "output_type": "execute_result"
    }
   ],
   "source": [
    "pattern = r'[\\d]{2,3}-[\\d]{3,4}-[\\d]{4}'\n",
    "phone = re.search(pattern, data)\n",
    "phone"
   ]
  },
  {
   "cell_type": "code",
   "execution_count": 71,
   "id": "8f5fc144",
   "metadata": {},
   "outputs": [
    {
     "data": {
      "text/plain": [
       "'02-716-1006'"
      ]
     },
     "execution_count": 71,
     "metadata": {},
     "output_type": "execute_result"
    }
   ],
   "source": [
    "data[29:40] # 문자열 슬라이싱"
   ]
  },
  {
   "cell_type": "code",
   "execution_count": 72,
   "id": "4159c800",
   "metadata": {},
   "outputs": [
    {
     "data": {
      "text/plain": [
       "'02-716-1006'"
      ]
     },
     "execution_count": 72,
     "metadata": {},
     "output_type": "execute_result"
    }
   ],
   "source": [
    "phone.group(0)"
   ]
  },
  {
   "cell_type": "code",
   "execution_count": null,
   "id": "be0172e5",
   "metadata": {},
   "outputs": [],
   "source": [
    "# 문자열 슬라이싱"
   ]
  },
  {
   "cell_type": "code",
   "execution_count": 74,
   "id": "1fdc03d8",
   "metadata": {},
   "outputs": [
    {
     "data": {
      "text/plain": [
       "'0123456789'"
      ]
     },
     "execution_count": 74,
     "metadata": {},
     "output_type": "execute_result"
    }
   ],
   "source": [
    "str_ = \"0123456789\"\n",
    "str_"
   ]
  },
  {
   "cell_type": "code",
   "execution_count": 75,
   "id": "714ab9ef",
   "metadata": {},
   "outputs": [
    {
     "data": {
      "text/plain": [
       "'012'"
      ]
     },
     "execution_count": 75,
     "metadata": {},
     "output_type": "execute_result"
    }
   ],
   "source": [
    "str_[0:3] # 0번째부터 (3-1)번째까지"
   ]
  },
  {
   "cell_type": "code",
   "execution_count": 76,
   "id": "21cb1b17",
   "metadata": {},
   "outputs": [
    {
     "data": {
      "text/plain": [
       "'8'"
      ]
     },
     "execution_count": 76,
     "metadata": {},
     "output_type": "execute_result"
    }
   ],
   "source": [
    "str_[-2] # 음수인덱스는 뒤에서부터 검색한다."
   ]
  },
  {
   "cell_type": "code",
   "execution_count": 77,
   "id": "e414cca8",
   "metadata": {},
   "outputs": [
    {
     "data": {
      "text/plain": [
       "'5678'"
      ]
     },
     "execution_count": 77,
     "metadata": {},
     "output_type": "execute_result"
    }
   ],
   "source": [
    "str_[-5 : -1] # 뒤에서 다섯번째 인덱스부터 뒤에서 두번째 인덱스까지"
   ]
  },
  {
   "cell_type": "code",
   "execution_count": 78,
   "id": "26d26d76",
   "metadata": {},
   "outputs": [
    {
     "data": {
      "text/plain": [
       "'56789'"
      ]
     },
     "execution_count": 78,
     "metadata": {},
     "output_type": "execute_result"
    }
   ],
   "source": [
    "str_[5 : ] # 다섯번째 인덱스부터 끝까지 출력"
   ]
  },
  {
   "cell_type": "code",
   "execution_count": 79,
   "id": "e5ef62bf",
   "metadata": {},
   "outputs": [
    {
     "data": {
      "text/plain": [
       "'01234'"
      ]
     },
     "execution_count": 79,
     "metadata": {},
     "output_type": "execute_result"
    }
   ],
   "source": [
    "str_[ : -5] # 처음 인덱스부터 뒤에서부터 다섯번째 앞까지"
   ]
  },
  {
   "cell_type": "code",
   "execution_count": 80,
   "id": "0b5e50ba",
   "metadata": {},
   "outputs": [
    {
     "data": {
      "text/plain": [
       "'0123456789'"
      ]
     },
     "execution_count": 80,
     "metadata": {},
     "output_type": "execute_result"
    }
   ],
   "source": [
    "str_[ : ] # 전체 인덱스 출력"
   ]
  },
  {
   "cell_type": "code",
   "execution_count": 82,
   "id": "7e03d11e",
   "metadata": {},
   "outputs": [
    {
     "data": {
      "text/plain": [
       "'56789'"
      ]
     },
     "execution_count": 82,
     "metadata": {},
     "output_type": "execute_result"
    }
   ],
   "source": [
    "# str_[19] - 없는 인덱스는 에러 발생\n",
    "str_[ 5 : 19 ] # 슬라이싱에서 인덱스를 벗어나면 끝까지 출력"
   ]
  },
  {
   "cell_type": "code",
   "execution_count": 83,
   "id": "e9667bd7",
   "metadata": {},
   "outputs": [
    {
     "name": "stdout",
     "output_type": "stream",
     "text": [
      "02468\n",
      "02468\n"
     ]
    }
   ],
   "source": [
    "# str_[from:to:by]\n",
    "print(str_[0:9:2]) # 0번째부터 2씩 증가하여 9번째 인덱스 앞까지 (0,2,4,6,8)번째 인덱스\n",
    "print(str_[::2]) # 처음부터 끝까지 2씩 인덱스가 증가한다."
   ]
  },
  {
   "cell_type": "code",
   "execution_count": 89,
   "id": "600691ed",
   "metadata": {},
   "outputs": [
    {
     "name": "stdout",
     "output_type": "stream",
     "text": [
      "987654321\n",
      "9876543210\n",
      "987654321\n",
      "9876543210\n"
     ]
    }
   ],
   "source": [
    "# 끝부터 처음까지 (거꾸로)\n",
    "print(str_[9:0:-1]) # 0번째 인덱스전까지 거꾸로 출력\n",
    "print(str_[9::-1]) # 9번 인덱스부터 첫 인덱스까지 전부 출력\n",
    "print(str_[:0:-1]) # 9번 인덱스부터 0번 인덱스전까지 -1씩 감소하며 출력\n",
    "print(str_[::-1]) # 끝 인덱스부터 처음까지 -1씩 감소한 후 출력"
   ]
  },
  {
   "cell_type": "markdown",
   "id": "d0d5d15b",
   "metadata": {},
   "source": [
    "## 3.3 논리형(True or False)"
   ]
  },
  {
   "cell_type": "code",
   "execution_count": 92,
   "id": "114406b1",
   "metadata": {},
   "outputs": [
    {
     "name": "stdout",
     "output_type": "stream",
     "text": [
      "True\n",
      "<class 'bool'>\n",
      "True\n"
     ]
    }
   ],
   "source": [
    "a = True\n",
    "\n",
    "print(a)\n",
    "print(type(a))\n",
    "print(isinstance(a, bool))"
   ]
  },
  {
   "cell_type": "code",
   "execution_count": null,
   "id": "52833914",
   "metadata": {},
   "outputs": [],
   "source": [
    "# False로 간주되는 것\n",
    "# 0, None, '빈 스트링', [빈 리스트], (빈 튜플), {}\n",
    "\n",
    "# True\n",
    "# ' ', '\\0'(널 문자)"
   ]
  },
  {
   "cell_type": "code",
   "execution_count": 94,
   "id": "719ebab5",
   "metadata": {},
   "outputs": [
    {
     "name": "stdout",
     "output_type": "stream",
     "text": [
      "False\n"
     ]
    }
   ],
   "source": [
    "if \"\":\n",
    "    print('True')\n",
    "else:\n",
    "    print('False')"
   ]
  },
  {
   "cell_type": "code",
   "execution_count": 96,
   "id": "e4843afe",
   "metadata": {},
   "outputs": [
    {
     "name": "stdout",
     "output_type": "stream",
     "text": [
      "False\n"
     ]
    }
   ],
   "source": [
    "if 0 + 0j:\n",
    "    print('True')\n",
    "else:\n",
    "    print('False')"
   ]
  },
  {
   "cell_type": "markdown",
   "id": "7275b6ce",
   "metadata": {},
   "source": [
    "## 3.4 자료형 확인 및 변환\n",
    "- type() : 자료형 확인\n",
    "- int() : 정수형 변환\n",
    "- float() : 실수형 변환\n",
    "- str() : 문자형 변환\n",
    "- bool() : 논리형 변환"
   ]
  },
  {
   "cell_type": "code",
   "execution_count": 99,
   "id": "6a736237",
   "metadata": {},
   "outputs": [
    {
     "ename": "ValueError",
     "evalue": "invalid literal for int() with base 10: '123.45'",
     "output_type": "error",
     "traceback": [
      "\u001b[1;31m---------------------------------------------------------------------------\u001b[0m",
      "\u001b[1;31mValueError\u001b[0m                                Traceback (most recent call last)",
      "\u001b[1;32m<ipython-input-99-a5492000cb89>\u001b[0m in \u001b[0;36m<module>\u001b[1;34m\u001b[0m\n\u001b[1;32m----> 1\u001b[1;33m \u001b[0mint\u001b[0m\u001b[1;33m(\u001b[0m\u001b[1;34m'123.45'\u001b[0m\u001b[1;33m)\u001b[0m\u001b[1;33m\u001b[0m\u001b[1;33m\u001b[0m\u001b[0m\n\u001b[0m",
      "\u001b[1;31mValueError\u001b[0m: invalid literal for int() with base 10: '123.45'"
     ]
    }
   ],
   "source": [
    "int('123.45') # 에러 발생"
   ]
  },
  {
   "cell_type": "code",
   "execution_count": 100,
   "id": "a93c416a",
   "metadata": {},
   "outputs": [
    {
     "data": {
      "text/plain": [
       "1"
      ]
     },
     "execution_count": 100,
     "metadata": {},
     "output_type": "execute_result"
    }
   ],
   "source": [
    "int(True)"
   ]
  },
  {
   "cell_type": "code",
   "execution_count": 101,
   "id": "973b18fa",
   "metadata": {},
   "outputs": [
    {
     "data": {
      "text/plain": [
       "'12300.0'"
      ]
     },
     "execution_count": 101,
     "metadata": {},
     "output_type": "execute_result"
    }
   ],
   "source": [
    "str(1.23e4) # 1.23 * 10의 4승"
   ]
  },
  {
   "cell_type": "markdown",
   "id": "e2c9e94f",
   "metadata": {},
   "source": [
    "파이썬 기본 자료형\n",
    "<ol>\n",
    "    <li>숫자 - int, float, complex</li>\n",
    "    <li>문자 - str</li>\n",
    "    <li>논리 - bool</li>\n",
    "</ol>\n",
    "* 파이썬은 변수 할당시 타입이 자동으로 정해진다.<br>\n",
    "* 이스케이프 문자(\\n, \\t, \\r)<br>\n",
    "* raw 문자열 r'[\\d]{2,3}'<br>\n",
    "* 논리형의 경우 False 판별"
   ]
  }
 ],
 "metadata": {
  "kernelspec": {
   "display_name": "Python 3",
   "language": "python",
   "name": "python3"
  },
  "language_info": {
   "codemirror_mode": {
    "name": "ipython",
    "version": 3
   },
   "file_extension": ".py",
   "mimetype": "text/x-python",
   "name": "python",
   "nbconvert_exporter": "python",
   "pygments_lexer": "ipython3",
   "version": "3.8.8"
  },
  "toc": {
   "base_numbering": 1,
   "nav_menu": {},
   "number_sections": false,
   "sideBar": true,
   "skip_h1_title": false,
   "title_cell": "Table of Contents",
   "title_sidebar": "Contents",
   "toc_cell": false,
   "toc_position": {
    "height": "calc(100% - 180px)",
    "left": "10px",
    "top": "150px",
    "width": "247px"
   },
   "toc_section_display": true,
   "toc_window_display": true
  },
  "varInspector": {
   "cols": {
    "lenName": 16,
    "lenType": 16,
    "lenVar": 40
   },
   "kernels_config": {
    "python": {
     "delete_cmd_postfix": "",
     "delete_cmd_prefix": "del ",
     "library": "var_list.py",
     "varRefreshCmd": "print(var_dic_list())"
    },
    "r": {
     "delete_cmd_postfix": ") ",
     "delete_cmd_prefix": "rm(",
     "library": "var_list.r",
     "varRefreshCmd": "cat(var_dic_list()) "
    }
   },
   "position": {
    "height": "803px",
    "left": "1544px",
    "right": "20px",
    "top": "121px",
    "width": "350px"
   },
   "types_to_exclude": [
    "module",
    "function",
    "builtin_function_or_method",
    "instance",
    "_Feature"
   ],
   "window_display": true
  }
 },
 "nbformat": 4,
 "nbformat_minor": 5
}
