{
 "cells": [
  {
   "cell_type": "markdown",
   "id": "20cae52a",
   "metadata": {},
   "source": [
    "<b><font color = \"red\" size = \"6\">ch08. 예외처리</font></b>"
   ]
  },
  {
   "cell_type": "markdown",
   "id": "877ef227",
   "metadata": {},
   "source": [
    "# 1절. 예외처리\n",
    "- 예외가 날 가능성이 있는 부분에 대해 미리 예상하고 그에 대한 처리를 프로그래밍하는 것.\n",
    "- 조금 더 코드가 안정적으로 실행될 수 있도록 한다.\n",
    "```\n",
    "ex1. 파일을 다룰 때, 파일이 없거나 쓰기 금지로 인한 오류\n",
    "ex2. 데이터베이스 프로그래밍 시 제약조건 등에 의한 데이터베이스 서버 오류\n",
    "ex3. 네트워크 프로그래밍 시 네트워크 연결 실패로 인한 오류\n",
    "ex4. 리스트 또는 튜플의 인덱스를 벗어난 참조로 인한 오류\n",
    "```"
   ]
  },
  {
   "cell_type": "code",
   "execution_count": 5,
   "id": "dc224fc6",
   "metadata": {},
   "outputs": [
    {
     "name": "stdout",
     "output_type": "stream",
     "text": [
      "파일명 :c.txt\n"
     ]
    },
    {
     "ename": "FileNotFoundError",
     "evalue": "[Errno 2] No such file or directory: 'data/c.txt'",
     "output_type": "error",
     "traceback": [
      "\u001b[1;31m---------------------------------------------------------------------------\u001b[0m",
      "\u001b[1;31mFileNotFoundError\u001b[0m                         Traceback (most recent call last)",
      "\u001b[1;32m<ipython-input-5-35b91cbca78c>\u001b[0m in \u001b[0;36m<module>\u001b[1;34m\u001b[0m\n\u001b[0;32m      1\u001b[0m \u001b[0mfilename\u001b[0m \u001b[1;33m=\u001b[0m \u001b[0minput\u001b[0m\u001b[1;33m(\u001b[0m\u001b[1;34m'파일명 :'\u001b[0m\u001b[1;33m)\u001b[0m\u001b[1;33m\u001b[0m\u001b[1;33m\u001b[0m\u001b[0m\n\u001b[1;32m----> 2\u001b[1;33m \u001b[0mf\u001b[0m \u001b[1;33m=\u001b[0m \u001b[0mopen\u001b[0m\u001b[1;33m(\u001b[0m\u001b[1;34m'data/'\u001b[0m \u001b[1;33m+\u001b[0m \u001b[0mfilename\u001b[0m\u001b[1;33m,\u001b[0m \u001b[1;34m'r'\u001b[0m\u001b[1;33m)\u001b[0m\u001b[1;33m\u001b[0m\u001b[1;33m\u001b[0m\u001b[0m\n\u001b[0m\u001b[0;32m      3\u001b[0m \u001b[1;33m\u001b[0m\u001b[0m\n\u001b[0;32m      4\u001b[0m \u001b[1;31m# 사용자가 파일명을 잘못입력 시 예외처리\u001b[0m\u001b[1;33m\u001b[0m\u001b[1;33m\u001b[0m\u001b[1;33m\u001b[0m\u001b[0m\n",
      "\u001b[1;31mFileNotFoundError\u001b[0m: [Errno 2] No such file or directory: 'data/c.txt'"
     ]
    }
   ],
   "source": [
    "filename = input('파일명 :')\n",
    "f = open('data/' + filename, 'r')\n",
    "\n",
    "# 사용자가 파일명을 잘못입력 시 예외처리"
   ]
  },
  {
   "cell_type": "code",
   "execution_count": 6,
   "id": "00cc5f93",
   "metadata": {},
   "outputs": [
    {
     "ename": "ZeroDivisionError",
     "evalue": "division by zero",
     "output_type": "error",
     "traceback": [
      "\u001b[1;31m---------------------------------------------------------------------------\u001b[0m",
      "\u001b[1;31mZeroDivisionError\u001b[0m                         Traceback (most recent call last)",
      "\u001b[1;32m<ipython-input-6-66894406180e>\u001b[0m in \u001b[0;36m<module>\u001b[1;34m\u001b[0m\n\u001b[1;32m----> 1\u001b[1;33m \u001b[1;36m4\u001b[0m\u001b[1;33m/\u001b[0m \u001b[1;36m0\u001b[0m\u001b[1;33m\u001b[0m\u001b[1;33m\u001b[0m\u001b[0m\n\u001b[0m",
      "\u001b[1;31mZeroDivisionError\u001b[0m: division by zero"
     ]
    }
   ],
   "source": [
    "4 / 0"
   ]
  },
  {
   "cell_type": "code",
   "execution_count": 7,
   "id": "7951dff1",
   "metadata": {},
   "outputs": [
    {
     "ename": "IndexError",
     "evalue": "list index out of range",
     "output_type": "error",
     "traceback": [
      "\u001b[1;31m---------------------------------------------------------------------------\u001b[0m",
      "\u001b[1;31mIndexError\u001b[0m                                Traceback (most recent call last)",
      "\u001b[1;32m<ipython-input-7-51e0eb12385a>\u001b[0m in \u001b[0;36m<module>\u001b[1;34m\u001b[0m\n\u001b[0;32m      1\u001b[0m \u001b[0ma\u001b[0m \u001b[1;33m=\u001b[0m \u001b[1;33m[\u001b[0m\u001b[1;36m1\u001b[0m\u001b[1;33m,\u001b[0m \u001b[1;36m2\u001b[0m\u001b[1;33m,\u001b[0m \u001b[1;36m3\u001b[0m\u001b[1;33m]\u001b[0m\u001b[1;33m\u001b[0m\u001b[1;33m\u001b[0m\u001b[0m\n\u001b[0;32m      2\u001b[0m \u001b[1;33m\u001b[0m\u001b[0m\n\u001b[1;32m----> 3\u001b[1;33m \u001b[0ma\u001b[0m\u001b[1;33m[\u001b[0m\u001b[1;36m3\u001b[0m\u001b[1;33m]\u001b[0m\u001b[1;33m\u001b[0m\u001b[1;33m\u001b[0m\u001b[0m\n\u001b[0m",
      "\u001b[1;31mIndexError\u001b[0m: list index out of range"
     ]
    }
   ],
   "source": [
    "a = [1, 2, 3]\n",
    "\n",
    "a[3]"
   ]
  },
  {
   "cell_type": "markdown",
   "id": "a1713a32",
   "metadata": {},
   "source": [
    "# 2절. try ~ except"
   ]
  },
  {
   "cell_type": "markdown",
   "id": "43797a84",
   "metadata": {},
   "source": [
    "## 2.1 try ~ except\n",
    "```\n",
    "try:\n",
    "    예외가 발생할 수 있는 문장\n",
    "    명령어...\n",
    "except:\n",
    "    예외가 발생했을 때 실행할 문장\n",
    "```"
   ]
  },
  {
   "cell_type": "code",
   "execution_count": 9,
   "id": "86f4aadc",
   "metadata": {},
   "outputs": [
    {
     "name": "stdout",
     "output_type": "stream",
     "text": [
      "정수를 입력하세요 :\n"
     ]
    },
    {
     "ename": "ValueError",
     "evalue": "invalid literal for int() with base 10: ''",
     "output_type": "error",
     "traceback": [
      "\u001b[1;31m---------------------------------------------------------------------------\u001b[0m",
      "\u001b[1;31mValueError\u001b[0m                                Traceback (most recent call last)",
      "\u001b[1;32m<ipython-input-9-3c7efd58894e>\u001b[0m in \u001b[0;36m<module>\u001b[1;34m\u001b[0m\n\u001b[0;32m      1\u001b[0m \u001b[1;31m# ex. 100을 입력받은 정수 값으로 나눠 출력하기\u001b[0m\u001b[1;33m\u001b[0m\u001b[1;33m\u001b[0m\u001b[1;33m\u001b[0m\u001b[0m\n\u001b[1;32m----> 2\u001b[1;33m \u001b[0mx\u001b[0m \u001b[1;33m=\u001b[0m \u001b[0mint\u001b[0m\u001b[1;33m(\u001b[0m\u001b[0minput\u001b[0m\u001b[1;33m(\u001b[0m\u001b[1;34m'정수를 입력하세요 :'\u001b[0m\u001b[1;33m)\u001b[0m\u001b[1;33m)\u001b[0m\u001b[1;33m\u001b[0m\u001b[1;33m\u001b[0m\u001b[0m\n\u001b[0m\u001b[0;32m      3\u001b[0m \u001b[1;33m\u001b[0m\u001b[0m\n\u001b[0;32m      4\u001b[0m \u001b[0mprint\u001b[0m\u001b[1;33m(\u001b[0m\u001b[1;34m'입력한 정수는 {}'\u001b[0m\u001b[1;33m.\u001b[0m\u001b[0mformat\u001b[0m\u001b[1;33m(\u001b[0m\u001b[0mx\u001b[0m\u001b[1;33m)\u001b[0m\u001b[1;33m)\u001b[0m\u001b[1;33m\u001b[0m\u001b[1;33m\u001b[0m\u001b[0m\n\u001b[0;32m      5\u001b[0m \u001b[0mprint\u001b[0m\u001b[1;33m(\u001b[0m\u001b[1;34m'입력된 정수로 100을 나누면 {:.2f}입니다.'\u001b[0m\u001b[1;33m.\u001b[0m\u001b[0mformat\u001b[0m\u001b[1;33m(\u001b[0m\u001b[1;36m100\u001b[0m \u001b[1;33m/\u001b[0m \u001b[0mx\u001b[0m\u001b[1;33m)\u001b[0m\u001b[1;33m)\u001b[0m\u001b[1;33m\u001b[0m\u001b[1;33m\u001b[0m\u001b[0m\n",
      "\u001b[1;31mValueError\u001b[0m: invalid literal for int() with base 10: ''"
     ]
    }
   ],
   "source": [
    "# ex. 100을 입력받은 정수 값으로 나눠 출력하기 (예외처리 x)\n",
    "x = int(input('정수를 입력하세요 :'))\n",
    "\n",
    "print('입력한 정수는 {}'.format(x))\n",
    "print('입력된 정수로 100을 나누면 {:.2f}입니다.'.format(100 / x))\n",
    "\n",
    "# ZeroDivisionError : 0을 입력했을 경우 예외 발생\n",
    "# ValueError : 입력하지 않을 경우 예외 발생"
   ]
  },
  {
   "cell_type": "code",
   "execution_count": 1,
   "id": "aff3fbf3",
   "metadata": {},
   "outputs": [
    {
     "name": "stdout",
     "output_type": "stream",
     "text": [
      "정수를 입력하세요 :0\n",
      "입력한 정수는 0\n",
      "유효한 입력이 아닙니다.\n"
     ]
    }
   ],
   "source": [
    "# ex. 100을 입력받은 정수 값으로 나눠 출력하기 (예외처리 o)\n",
    "try:\n",
    "    x = int(input('정수를 입력하세요 :'))\n",
    "    \n",
    "    print('입력한 정수는 {}'.format(x))\n",
    "    print('입력된 정수로 100을 나누면 {:.2f}입니다.'.format(100 / x))\n",
    "except:\n",
    "    print('유효한 입력이 아닙니다.')"
   ]
  },
  {
   "cell_type": "code",
   "execution_count": 4,
   "id": "423ae3b2",
   "metadata": {},
   "outputs": [
    {
     "name": "stdout",
     "output_type": "stream",
     "text": [
      "정수를 입력하세요 :ㅁ\n",
      "유효한 입력이 아닙니다. 다시 입력하세요\n",
      "정수를 입력하세요 :ㅁ\n",
      "유효한 입력이 아닙니다. 다시 입력하세요\n",
      "정수를 입력하세요 :ㅁ\n",
      "유효한 입력이 아닙니다. 다시 입력하세요\n",
      "정수를 입력하세요 :ㅁ\n",
      "유효한 입력이 아닙니다. 다시 입력하세요\n",
      "정수를 입력하세요 :0\n",
      "입력한 정수는 0\n",
      "유효한 입력이 아닙니다. 다시 입력하세요\n",
      "정수를 입력하세요 :50\n",
      "입력한 정수는 50\n",
      "입력된 정수로 100을 나누면 2.00입니다.\n"
     ]
    }
   ],
   "source": [
    "# ex. 유효한 입력이 발생할때까지 정수를 입력받고 100을 그 정수로 나누기\n",
    "while True:\n",
    "    try:\n",
    "        x = int(input('정수를 입력하세요 :'))\n",
    "            \n",
    "        print('입력한 정수는 {}'.format(x))\n",
    "        print('입력된 정수로 100을 나누면 {:.2f}입니다.'.format(100 / x))\n",
    "        break\n",
    "    except:\n",
    "        print('유효한 입력이 아닙니다. 다시 입력하세요')"
   ]
  },
  {
   "cell_type": "markdown",
   "id": "2fdc4a49",
   "metadata": {},
   "source": [
    "## 2.2 예외를 지정한 처리\n",
    "```\n",
    "try:\n",
    "    예외가 발생할 수 있는 문장\n",
    "except Exception1:\n",
    "    해당 예외가 발생할 경우 실행할 문장\n",
    "except Exception2:\n",
    "    해당 예외가 발생할 경우 실행할 문장\n",
    "```\n",
    "**예외별로 명시할 경우 상위클래스의 예외는 하위의 예외클래스보다 아래에 나와야 한다**"
   ]
  },
  {
   "cell_type": "code",
   "execution_count": 7,
   "id": "59c5e591",
   "metadata": {},
   "outputs": [
    {
     "name": "stdout",
     "output_type": "stream",
     "text": [
      "정수를 입력하세요 :0\n",
      "입력한 정수는 0\n",
      "0으로 나눌 수 없거나 유효한 입력이 아닙니다. 다시 입력해주세요\n",
      "\n",
      "정수를 입력하세요 :a\n",
      "0으로 나눌 수 없거나 유효한 입력이 아닙니다. 다시 입력해주세요\n",
      "\n",
      "정수를 입력하세요 :30\n",
      "입력한 정수는 30\n",
      "입력된 정수로 100을 나누면 3.33입니다.\n"
     ]
    }
   ],
   "source": [
    "while True:\n",
    "    try:\n",
    "        x = int(input('정수를 입력하세요 :'))\n",
    "        print()\n",
    "            \n",
    "        print('입력한 정수는 {}'.format(x))\n",
    "        print('입력된 정수로 100을 나누면 {:.2f}입니다.'.format(100 / x))\n",
    "        break\n",
    "    except (ZeroDivisionError, ValueError):\n",
    "        print('0으로 나눌 수 없거나 유효한 입력이 아닙니다. 다시 입력해주세요\\n')\n",
    "    except Exception:\n",
    "        print('기타 다른 예외일 경우 출력됩니다')"
   ]
  },
  {
   "cell_type": "markdown",
   "id": "67b5b19f",
   "metadata": {},
   "source": [
    "## 2.3 예외 인수(e)\n",
    "```\n",
    "Java ver.\n",
    "try{\n",
    "    예외가 발생할 수 있는 문장\n",
    "} catch(예외타입 e){\n",
    "    sysout.(e.getmessage())\n",
    "}\n",
    "\n",
    "Python ver.\n",
    "try:\n",
    "    예외가 발생할 수 있는 문장\n",
    "except 예외타입 as e:\n",
    "    예외 발생 시 실행 할 문장\n",
    "```"
   ]
  },
  {
   "cell_type": "code",
   "execution_count": 2,
   "id": "f67c7125",
   "metadata": {},
   "outputs": [
    {
     "name": "stdout",
     "output_type": "stream",
     "text": [
      "정수를 입력하세요 :0\n",
      "\n",
      "입력한 정수는 0\n",
      "예외 유형 : <class 'ZeroDivisionError'>\n",
      "에외 메세지 : division by zero\n",
      "예외 메세지 : ('division by zero',)\n",
      "예외 메세지 : division by zero\n",
      "e의 타입이 Exception 타입이기도 한가? : True\n",
      "\n",
      "정수를 입력하세요 :a\n",
      "예외 유형 : <class 'ValueError'>\n",
      "에외 메세지 : invalid literal for int() with base 10: 'a'\n",
      "예외 메세지 : (\"invalid literal for int() with base 10: 'a'\",)\n",
      "예외 메세지 : invalid literal for int() with base 10: 'a'\n",
      "e의 타입이 Exception 타입이기도 한가? : True\n",
      "\n",
      "정수를 입력하세요 :50\n",
      "\n",
      "입력한 정수는 50\n",
      "입력된 정수로 100을 나누면 2.00입니다.\n"
     ]
    }
   ],
   "source": [
    "while True:\n",
    "    try:\n",
    "        x = int(input('정수를 입력하세요 :'))\n",
    "        print()\n",
    "            \n",
    "        print('입력한 정수는 {}'.format(x))\n",
    "        print('입력된 정수로 100을 나누면 {:.2f}입니다.'.format(100 / x))\n",
    "        break\n",
    "    except (ZeroDivisionError, ValueError) as e:\n",
    "        print('예외 유형 :', type(e))\n",
    "        print('에외 메세지 :', e)\n",
    "        print('예외 메세지 :', e.args) # 에러메세지를 return해준다\n",
    "        print('예외 메세지 :', e.args[0])\n",
    "        print('e의 타입이 Exception 타입이기도 한가? :', isinstance(e, Exception)) # True가 나오면 상속을 받았다는 증거\n",
    "        print()"
   ]
  },
  {
   "cell_type": "code",
   "execution_count": 3,
   "id": "272480ee",
   "metadata": {},
   "outputs": [
    {
     "name": "stdout",
     "output_type": "stream",
     "text": [
      "list index out of range\n"
     ]
    }
   ],
   "source": [
    "try:\n",
    "    a = [1, 2, 3]\n",
    "    a[3]\n",
    "except IndexError as e:\n",
    "    print(e)"
   ]
  },
  {
   "cell_type": "code",
   "execution_count": 4,
   "id": "2d9f528d",
   "metadata": {},
   "outputs": [],
   "source": [
    "# try ~ except ~ (else) finally\n",
    "# try 블럭을 수행하다가 예외가 발생되면 except 블록을 실행한다.\n",
    "# finally 블럭은 예외가 발생하든 안하든 반드시 실행된다."
   ]
  },
  {
   "cell_type": "code",
   "execution_count": 6,
   "id": "93471e61",
   "metadata": {},
   "outputs": [
    {
     "name": "stdout",
     "output_type": "stream",
     "text": [
      "해당 파일이 없습니다.\n"
     ]
    }
   ],
   "source": [
    "try:\n",
    "    f = open('Data/ch08_abd.txt', 'r')\n",
    "except FileNotFoundError:\n",
    "    print('해당 파일이 없습니다.')\n",
    "else:\n",
    "    data = f.read()\n",
    "    print(data)\n",
    "finally:\n",
    "    f.close()"
   ]
  },
  {
   "cell_type": "code",
   "execution_count": null,
   "id": "09b2b945",
   "metadata": {
    "code_folding": []
   },
   "outputs": [],
   "source": [
    "try:\n",
    "    f = open('Data/ch08_abd.txt', 'r')\n",
    "except FileNotFoundError:\n",
    "    print('해당 파일이 없습니다.')\n",
    "else:\n",
    "    data = f.read()\n",
    "    print(data)\n",
    "finally:\n",
    "    f.close()"
   ]
  },
  {
   "cell_type": "markdown",
   "id": "ddc30b2b",
   "metadata": {},
   "source": [
    "# 3절. raise"
   ]
  },
  {
   "cell_type": "code",
   "execution_count": 7,
   "id": "16b3ef70",
   "metadata": {},
   "outputs": [
    {
     "ename": "NameError",
     "evalue": "예외 발생",
     "output_type": "error",
     "traceback": [
      "\u001b[1;31m---------------------------------------------------------------------------\u001b[0m",
      "\u001b[1;31mNameError\u001b[0m                                 Traceback (most recent call last)",
      "\u001b[1;32m<ipython-input-7-6f02f14a2fac>\u001b[0m in \u001b[0;36m<module>\u001b[1;34m\u001b[0m\n\u001b[1;32m----> 1\u001b[1;33m \u001b[1;32mraise\u001b[0m \u001b[0mNameError\u001b[0m\u001b[1;33m(\u001b[0m\u001b[1;34m\"예외 발생\"\u001b[0m\u001b[1;33m)\u001b[0m\u001b[1;33m\u001b[0m\u001b[1;33m\u001b[0m\u001b[0m\n\u001b[0m",
      "\u001b[1;31mNameError\u001b[0m: 예외 발생"
     ]
    }
   ],
   "source": [
    "raise NameError(\"예외 발생\")"
   ]
  },
  {
   "cell_type": "code",
   "execution_count": 8,
   "id": "c00dea17",
   "metadata": {},
   "outputs": [],
   "source": [
    "class LengthZeroError(Exception):\n",
    "    '길이가 0일때 발생하는 예외'\n",
    "    pass"
   ]
  },
  {
   "cell_type": "code",
   "execution_count": 11,
   "id": "86418399",
   "metadata": {},
   "outputs": [],
   "source": [
    "def insert(data):\n",
    "    if len(data) == 0:\n",
    "        raise LengthZeroError('매개변수의 길이가 0')\n",
    "    for item in data:\n",
    "        print(item, end = ' ')\n",
    "    print('등을 입력하였습니다.')"
   ]
  },
  {
   "cell_type": "code",
   "execution_count": 12,
   "id": "45ff4ff4",
   "metadata": {},
   "outputs": [
    {
     "name": "stdout",
     "output_type": "stream",
     "text": [
      "매개변수의 길이가 0\n",
      "무조건 실행 - DONE\n"
     ]
    }
   ],
   "source": [
    "data = []\n",
    "try:\n",
    "    insert(data)\n",
    "except LengthZeroError as e:\n",
    "    print(e)\n",
    "else:\n",
    "    print('정상 실행')\n",
    "finally:\n",
    "    print('무조건 실행 - DONE')"
   ]
  },
  {
   "cell_type": "markdown",
   "id": "24073380",
   "metadata": {},
   "source": [
    "# 4절. 추상클래스\n",
    "- python은 추상클래스를 생성할 수 없으나 raise를 이용하여 추상클래스를 흉내낸다."
   ]
  },
  {
   "cell_type": "code",
   "execution_count": 16,
   "id": "dbddbd18",
   "metadata": {},
   "outputs": [],
   "source": [
    "class Shape:\n",
    "    def __init__(self):\n",
    "        raise NotImplementedError('추상클래스 역할')\n",
    "    def calc_area(self):\n",
    "        raise NotImplementedError"
   ]
  },
  {
   "cell_type": "code",
   "execution_count": 18,
   "id": "6a4e172a",
   "metadata": {},
   "outputs": [],
   "source": [
    "import numpy as np\n",
    "\n",
    "class Circle(Shape):\n",
    "    def __init__(self, radius):\n",
    "        self.radius = radius\n",
    "    def calc_area(self):\n",
    "        return self.radius * self.radius * np.pi"
   ]
  },
  {
   "cell_type": "code",
   "execution_count": 19,
   "id": "45bb2952",
   "metadata": {},
   "outputs": [
    {
     "data": {
      "text/plain": [
       "78.53981633974483"
      ]
     },
     "execution_count": 19,
     "metadata": {},
     "output_type": "execute_result"
    }
   ],
   "source": [
    "myCircle = Circle(5)\n",
    "myCircle.calc_area()"
   ]
  },
  {
   "cell_type": "markdown",
   "id": "5f44d179",
   "metadata": {},
   "source": [
    "# 5절. 파일 정리 작업(with 절 이용)"
   ]
  },
  {
   "cell_type": "code",
   "execution_count": 21,
   "id": "faee1656",
   "metadata": {},
   "outputs": [
    {
     "name": "stdout",
     "output_type": "stream",
     "text": [
      "['Hello\\n', 'World']\n"
     ]
    }
   ],
   "source": [
    "try:\n",
    "    f = open('Data/ch08_abc.txt', 'r') # r은 읽기모드\n",
    "    lines = f.readlines() # txt 파일을 한줄씩 모든 줄을 한꺼번에 읽어 list로 담는다.\n",
    "    \n",
    "    print(lines)\n",
    "except FileNotFoundError as e:\n",
    "    print(e)\n",
    "finally:\n",
    "    f.close() # 파일 닫기 중요!"
   ]
  },
  {
   "cell_type": "code",
   "execution_count": 22,
   "id": "dbc46451",
   "metadata": {},
   "outputs": [
    {
     "name": "stdout",
     "output_type": "stream",
     "text": [
      "['Hello\\n', 'World']\n",
      "DONE\n"
     ]
    }
   ],
   "source": [
    "# with 절 이후에는 자동적으로 파일이 close() 실행\n",
    "with open('Data/ch08_abc.txt') as f:\n",
    "    lines = f.readlines()\n",
    "    print(lines)\n",
    "\n",
    "print('DONE')"
   ]
  },
  {
   "cell_type": "code",
   "execution_count": 24,
   "id": "e0a4e2a6",
   "metadata": {},
   "outputs": [
    {
     "name": "stdout",
     "output_type": "stream",
     "text": [
      "['Hello\\n', 'World']\n"
     ]
    }
   ],
   "source": [
    "try:\n",
    "    with open('Data/ch08_abc.txt', 'r') as f:\n",
    "        lines = f.readlines()\n",
    "    print(lines)\n",
    "except FileNotFoundError:\n",
    "    print(e)"
   ]
  }
 ],
 "metadata": {
  "kernelspec": {
   "display_name": "Python 3",
   "language": "python",
   "name": "python3"
  },
  "language_info": {
   "codemirror_mode": {
    "name": "ipython",
    "version": 3
   },
   "file_extension": ".py",
   "mimetype": "text/x-python",
   "name": "python",
   "nbconvert_exporter": "python",
   "pygments_lexer": "ipython3",
   "version": "3.8.8"
  },
  "toc": {
   "base_numbering": 1,
   "nav_menu": {},
   "number_sections": false,
   "sideBar": true,
   "skip_h1_title": false,
   "title_cell": "Table of Contents",
   "title_sidebar": "Contents",
   "toc_cell": false,
   "toc_position": {
    "height": "calc(100% - 180px)",
    "left": "10px",
    "top": "150px",
    "width": "246px"
   },
   "toc_section_display": true,
   "toc_window_display": true
  },
  "varInspector": {
   "cols": {
    "lenName": 16,
    "lenType": 16,
    "lenVar": 40
   },
   "kernels_config": {
    "python": {
     "delete_cmd_postfix": "",
     "delete_cmd_prefix": "del ",
     "library": "var_list.py",
     "varRefreshCmd": "print(var_dic_list())"
    },
    "r": {
     "delete_cmd_postfix": ") ",
     "delete_cmd_prefix": "rm(",
     "library": "var_list.r",
     "varRefreshCmd": "cat(var_dic_list()) "
    }
   },
   "types_to_exclude": [
    "module",
    "function",
    "builtin_function_or_method",
    "instance",
    "_Feature"
   ],
   "window_display": false
  }
 },
 "nbformat": 4,
 "nbformat_minor": 5
}
