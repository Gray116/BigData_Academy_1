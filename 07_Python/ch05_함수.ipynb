{
 "cells": [
  {
   "cell_type": "markdown",
   "id": "20cae52a",
   "metadata": {},
   "source": [
    "<b><font color = \"red\" size = \"6\">ch05. 함수</font></b>\n",
    "- 반복해서 사용할 코드를 묶어 놓고 그것에 이름을 붙인 것.\n",
    "- 자바와 달리 오버로딩(똑같은 이름의 함수가 2개이상 존재)이 불가하다\n",
    "- 반복해서 사용할 코드는 함수를 이용하면 훨씬 구조적이고 간결한 코드를 작성할 수 있다.\n",
    "- 함수의 정의\n",
    "```\n",
    "def 함수명([매개변수1, 매개변수2, ...]):\n",
    "    명령어1\n",
    "    명령어2\n",
    "```"
   ]
  },
  {
   "cell_type": "markdown",
   "id": "c06b986d",
   "metadata": {},
   "source": [
    "# 1절. 함수의 정의 및 사용"
   ]
  },
  {
   "cell_type": "code",
   "execution_count": 2,
   "id": "ae1ec663",
   "metadata": {},
   "outputs": [],
   "source": [
    "def my_hello(x): # 기존에 있던 함수는 없어진다.\n",
    "    for i in range(x):\n",
    "        print(i, 'Hello, Python')"
   ]
  },
  {
   "cell_type": "code",
   "execution_count": 3,
   "id": "2323bde2",
   "metadata": {},
   "outputs": [
    {
     "name": "stdout",
     "output_type": "stream",
     "text": [
      "0 Hello, Python\n",
      "1 Hello, Python\n",
      "2 Hello, Python\n",
      "3 Hello, Python\n",
      "4 Hello, Python\n"
     ]
    }
   ],
   "source": [
    "my_hello(5)"
   ]
  },
  {
   "cell_type": "code",
   "execution_count": 4,
   "id": "0b779c60",
   "metadata": {},
   "outputs": [
    {
     "name": "stdout",
     "output_type": "stream",
     "text": [
      "Hello, World\n",
      "Hello, Python\n"
     ]
    }
   ],
   "source": [
    "def my_hello():\n",
    "    print('Hello, World')\n",
    "    print('Hello, Python')\n",
    "\n",
    "my_hello()"
   ]
  },
  {
   "cell_type": "code",
   "execution_count": 5,
   "id": "70a97c9c",
   "metadata": {},
   "outputs": [
    {
     "data": {
      "text/plain": [
       "<function __main__.my_hello()>"
      ]
     },
     "execution_count": 5,
     "metadata": {},
     "output_type": "execute_result"
    }
   ],
   "source": [
    "my_hello"
   ]
  },
  {
   "cell_type": "code",
   "execution_count": 6,
   "id": "2339ca2a",
   "metadata": {},
   "outputs": [
    {
     "data": {
      "text/plain": [
       "function"
      ]
     },
     "execution_count": 6,
     "metadata": {},
     "output_type": "execute_result"
    }
   ],
   "source": [
    "type(my_hello)"
   ]
  },
  {
   "cell_type": "code",
   "execution_count": 7,
   "id": "47f6ab48",
   "metadata": {},
   "outputs": [
    {
     "data": {
      "text/plain": [
       "'__main__'"
      ]
     },
     "execution_count": 7,
     "metadata": {},
     "output_type": "execute_result"
    }
   ],
   "source": [
    "__name__"
   ]
  },
  {
   "cell_type": "code",
   "execution_count": 8,
   "id": "5db6b451",
   "metadata": {},
   "outputs": [
    {
     "name": "stdout",
     "output_type": "stream",
     "text": [
      "Hello, World\n",
      "Hello, Python\n"
     ]
    }
   ],
   "source": [
    "if __name__ == '__main__':\n",
    "    my_hello()"
   ]
  },
  {
   "cell_type": "code",
   "execution_count": 1,
   "id": "f5d4bcbb",
   "metadata": {},
   "outputs": [],
   "source": [
    "# a.py가 해석되어 메모리에 로드된다.\n",
    "import a"
   ]
  },
  {
   "cell_type": "code",
   "execution_count": 2,
   "id": "b434a800",
   "metadata": {},
   "outputs": [
    {
     "name": "stdout",
     "output_type": "stream",
     "text": [
      "Hello, World\n",
      "더운날 건강조심하세요\n"
     ]
    }
   ],
   "source": [
    "a.test()"
   ]
  },
  {
   "cell_type": "code",
   "execution_count": 4,
   "id": "10151211",
   "metadata": {},
   "outputs": [
    {
     "name": "stdout",
     "output_type": "stream",
     "text": [
      "90\n",
      "50\n"
     ]
    }
   ],
   "source": [
    "def my_add(num1, num2, num3 = 0): # 기본값을 가지는 매개변수(키워드 인수)는 맨 마지막에\n",
    "    return num1 + num2 + num3\n",
    "\n",
    "print(my_add(20, 30, 40))\n",
    "print(my_add(20, 30))"
   ]
  },
  {
   "cell_type": "markdown",
   "id": "5c72dbd8",
   "metadata": {},
   "source": [
    "## 1.1 docstring"
   ]
  },
  {
   "cell_type": "code",
   "execution_count": 6,
   "id": "e6e6dfe1",
   "metadata": {},
   "outputs": [],
   "source": [
    "def my_function():\n",
    "    '''\n",
    "    함수의 첫 라인에 docstring을 포함할 수 있다.\n",
    "    docstring - 함수의 설명서를 달아주는 역할\n",
    "                주석보다 많은 기능을 한다.\n",
    "    '''\n",
    "    pass"
   ]
  },
  {
   "cell_type": "code",
   "execution_count": 7,
   "id": "bc9272ad",
   "metadata": {},
   "outputs": [
    {
     "name": "stdout",
     "output_type": "stream",
     "text": [
      "\n",
      "    함수의 첫 라인에 docstring을 포함할 수 있다.\n",
      "    docstring - 함수의 설명서를 달아주는 역할\n",
      "                주석보다 많은 기능을 한다.\n",
      "    \n"
     ]
    }
   ],
   "source": [
    "print(my_function.__doc__)"
   ]
  },
  {
   "cell_type": "code",
   "execution_count": null,
   "id": "ed03a7eb",
   "metadata": {},
   "outputs": [],
   "source": [
    "my_function()"
   ]
  },
  {
   "cell_type": "code",
   "execution_count": 10,
   "id": "0372f801",
   "metadata": {},
   "outputs": [],
   "source": [
    "def fibonacci(n): # 출력만 하는 함수\n",
    "    '''\n",
    "    매개변수로 들어온 n값 미만의 피보나치 수열을 출력한다.\n",
    "    ex. if n = 10, [ 0. 1. 1. 2. 3. 5. 8 ]\n",
    "        if n = 5, [ 0. 1. 1. 2. 3]\n",
    "    '''\n",
    "    a, b = 0, 1\n",
    "    \n",
    "    while a < n:\n",
    "        print(a, end = '. ')\n",
    "        a, b = b, (a+b)\n",
    "    print() # 개행"
   ]
  },
  {
   "cell_type": "code",
   "execution_count": 12,
   "id": "529197da",
   "metadata": {},
   "outputs": [
    {
     "name": "stdout",
     "output_type": "stream",
     "text": [
      "0. 1. 1. 2. 3. \n",
      "TEST\n"
     ]
    }
   ],
   "source": [
    "if __name__ == '__main__':\n",
    "    fibonacci(5)\n",
    "    print(\"TEST\")"
   ]
  },
  {
   "cell_type": "markdown",
   "id": "51dea043",
   "metadata": {},
   "source": [
    "## 1.2 지역변수와 전역변수\n",
    "- 지역변수(local var)\n",
    "- 전역변수(global var)"
   ]
  },
  {
   "cell_type": "code",
   "execution_count": 16,
   "id": "182d5b8b",
   "metadata": {},
   "outputs": [
    {
     "name": "stdout",
     "output_type": "stream",
     "text": [
      "100\n",
      "100\n"
     ]
    }
   ],
   "source": [
    "global_var = 100 # 전역변수\n",
    "\n",
    "def func1():\n",
    "    print(global_var)\n",
    "\n",
    "func1()\n",
    "print(global_var)"
   ]
  },
  {
   "cell_type": "code",
   "execution_count": 17,
   "id": "b8f7a43b",
   "metadata": {},
   "outputs": [
    {
     "name": "stdout",
     "output_type": "stream",
     "text": [
      "200\n"
     ]
    },
    {
     "ename": "NameError",
     "evalue": "name 'local_var' is not defined",
     "output_type": "error",
     "traceback": [
      "\u001b[1;31m---------------------------------------------------------------------------\u001b[0m",
      "\u001b[1;31mNameError\u001b[0m                                 Traceback (most recent call last)",
      "\u001b[1;32m<ipython-input-17-8db87c42d302>\u001b[0m in \u001b[0;36m<module>\u001b[1;34m\u001b[0m\n\u001b[0;32m      4\u001b[0m \u001b[1;33m\u001b[0m\u001b[0m\n\u001b[0;32m      5\u001b[0m \u001b[0mfunc2\u001b[0m\u001b[1;33m(\u001b[0m\u001b[1;33m)\u001b[0m\u001b[1;33m\u001b[0m\u001b[1;33m\u001b[0m\u001b[0m\n\u001b[1;32m----> 6\u001b[1;33m \u001b[0mprint\u001b[0m\u001b[1;33m(\u001b[0m\u001b[0mlocal_var\u001b[0m\u001b[1;33m)\u001b[0m\u001b[1;33m\u001b[0m\u001b[1;33m\u001b[0m\u001b[0m\n\u001b[0m",
      "\u001b[1;31mNameError\u001b[0m: name 'local_var' is not defined"
     ]
    }
   ],
   "source": [
    "def func2():\n",
    "    local_var = 200 # 지역변수\n",
    "    print(local_var)\n",
    "\n",
    "func2()\n",
    "print(local_var) # 함수를 빠져나오면 사용할 수 없다"
   ]
  },
  {
   "cell_type": "code",
   "execution_count": 18,
   "id": "7f5fa71c",
   "metadata": {},
   "outputs": [
    {
     "name": "stdout",
     "output_type": "stream",
     "text": [
      "200\n",
      "100\n"
     ]
    }
   ],
   "source": [
    "g_var = 100 # 전역변수\n",
    "\n",
    "def func3():\n",
    "    g_var = 200 # 전역변수와 똑같은 이름의 지역변수\n",
    "    print(g_var)\n",
    "\n",
    "func3()\n",
    "print(g_var)"
   ]
  },
  {
   "cell_type": "code",
   "execution_count": 20,
   "id": "01c2cf9a",
   "metadata": {},
   "outputs": [
    {
     "ename": "UnboundLocalError",
     "evalue": "local variable 'g_var' referenced before assignment",
     "output_type": "error",
     "traceback": [
      "\u001b[1;31m---------------------------------------------------------------------------\u001b[0m",
      "\u001b[1;31mUnboundLocalError\u001b[0m                         Traceback (most recent call last)",
      "\u001b[1;32m<ipython-input-20-9a931bce3f14>\u001b[0m in \u001b[0;36m<module>\u001b[1;34m\u001b[0m\n\u001b[0;32m      6\u001b[0m     \u001b[0mprint\u001b[0m\u001b[1;33m(\u001b[0m\u001b[1;34m'after :'\u001b[0m\u001b[1;33m,\u001b[0m \u001b[0mg_var\u001b[0m\u001b[1;33m)\u001b[0m\u001b[1;33m\u001b[0m\u001b[1;33m\u001b[0m\u001b[0m\n\u001b[0;32m      7\u001b[0m \u001b[1;33m\u001b[0m\u001b[0m\n\u001b[1;32m----> 8\u001b[1;33m \u001b[0mfunc3\u001b[0m\u001b[1;33m(\u001b[0m\u001b[1;33m)\u001b[0m\u001b[1;33m\u001b[0m\u001b[1;33m\u001b[0m\u001b[0m\n\u001b[0m",
      "\u001b[1;32m<ipython-input-20-9a931bce3f14>\u001b[0m in \u001b[0;36mfunc3\u001b[1;34m()\u001b[0m\n\u001b[0;32m      2\u001b[0m \u001b[1;33m\u001b[0m\u001b[0m\n\u001b[0;32m      3\u001b[0m \u001b[1;32mdef\u001b[0m \u001b[0mfunc3\u001b[0m\u001b[1;33m(\u001b[0m\u001b[1;33m)\u001b[0m\u001b[1;33m:\u001b[0m\u001b[1;33m\u001b[0m\u001b[1;33m\u001b[0m\u001b[0m\n\u001b[1;32m----> 4\u001b[1;33m     \u001b[0mprint\u001b[0m\u001b[1;33m(\u001b[0m\u001b[1;34m'before :'\u001b[0m\u001b[1;33m,\u001b[0m \u001b[0mg_var\u001b[0m\u001b[1;33m)\u001b[0m\u001b[1;33m\u001b[0m\u001b[1;33m\u001b[0m\u001b[0m\n\u001b[0m\u001b[0;32m      5\u001b[0m     \u001b[0mg_var\u001b[0m \u001b[1;33m=\u001b[0m \u001b[1;36m200\u001b[0m\u001b[1;33m\u001b[0m\u001b[1;33m\u001b[0m\u001b[0m\n\u001b[0;32m      6\u001b[0m     \u001b[0mprint\u001b[0m\u001b[1;33m(\u001b[0m\u001b[1;34m'after :'\u001b[0m\u001b[1;33m,\u001b[0m \u001b[0mg_var\u001b[0m\u001b[1;33m)\u001b[0m\u001b[1;33m\u001b[0m\u001b[1;33m\u001b[0m\u001b[0m\n",
      "\u001b[1;31mUnboundLocalError\u001b[0m: local variable 'g_var' referenced before assignment"
     ]
    }
   ],
   "source": [
    "# 렉시컬 특성\n",
    "g_var = 100 # 전역변수\n",
    "\n",
    "def func3():\n",
    "    print('before :', g_var)\n",
    "    g_var = 200 # 지역변수\n",
    "    print('after :', g_var)\n",
    "\n",
    "func3()"
   ]
  },
  {
   "cell_type": "code",
   "execution_count": 21,
   "id": "f89c736b",
   "metadata": {},
   "outputs": [
    {
     "name": "stdout",
     "output_type": "stream",
     "text": [
      "before : 100\n",
      "after : 200\n",
      "200\n"
     ]
    }
   ],
   "source": [
    "g_var = 100 # 전역변수\n",
    "\n",
    "def func3():\n",
    "    global g_var # func3함수 내의 g_var는 전역변수로 설정된다.\n",
    "    print('before :', g_var)\n",
    "    g_var = 200\n",
    "    print('after :', g_var)\n",
    "\n",
    "func3()\n",
    "print(g_var)"
   ]
  },
  {
   "cell_type": "markdown",
   "id": "3473ffbe",
   "metadata": {},
   "source": [
    "## 1.3 값에 의한 호출\n",
    "- 함수에 매개변수(인수)로 전달되는 변수가 스칼라 변수(숫자,문자,논리)일 경우"
   ]
  },
  {
   "cell_type": "code",
   "execution_count": 22,
   "id": "983fc79e",
   "metadata": {},
   "outputs": [
    {
     "data": {
      "text/plain": [
       "2452464025520"
      ]
     },
     "execution_count": 22,
     "metadata": {},
     "output_type": "execute_result"
    }
   ],
   "source": [
    "foo = 'a' # 전역변수\n",
    "id(foo)"
   ]
  },
  {
   "cell_type": "code",
   "execution_count": 27,
   "id": "b39e73ac",
   "metadata": {},
   "outputs": [
    {
     "name": "stdout",
     "output_type": "stream",
     "text": [
      "before : a 의 주소는 2452464025520\n",
      "after : aaa 의 주소는 2452558353904\n"
     ]
    }
   ],
   "source": [
    "def func1(f): # 매개변수는 지역변수\n",
    "    print('before :', f, '의 주소는', id(f))\n",
    "    f = f * 3\n",
    "    print('after :', f, '의 주소는', id(f))\n",
    "\n",
    "func1(foo)"
   ]
  },
  {
   "cell_type": "code",
   "execution_count": 28,
   "id": "59b667ed",
   "metadata": {},
   "outputs": [
    {
     "name": "stdout",
     "output_type": "stream",
     "text": [
      "a\n",
      "2452464025520\n"
     ]
    }
   ],
   "source": [
    "print(foo) # 전역변수는 그대로 \n",
    "print(id(foo))"
   ]
  },
  {
   "cell_type": "markdown",
   "id": "0c1679f5",
   "metadata": {},
   "source": [
    "## 1.4 참조에 의한 호출\n",
    "- 함수에 인수로 전달되는 변수가 리스트, 딕셔너리, 셋, ... 일 경우"
   ]
  },
  {
   "cell_type": "code",
   "execution_count": 29,
   "id": "0f09e8fc",
   "metadata": {},
   "outputs": [
    {
     "data": {
      "text/plain": [
       "2452557665856"
      ]
     },
     "execution_count": 29,
     "metadata": {},
     "output_type": "execute_result"
    }
   ],
   "source": [
    "L = [1, 2, 3, 4, 5]\n",
    "\n",
    "id(L)"
   ]
  },
  {
   "cell_type": "code",
   "execution_count": 30,
   "id": "98c87d13",
   "metadata": {},
   "outputs": [
    {
     "name": "stdout",
     "output_type": "stream",
     "text": [
      "before : [1, 2, 3, 4, 5] 의 주소는 2452557665856\n",
      "after : [1, 2, 3, 4, 5, 6] 의 주소는 2452557665856\n",
      "[1, 2, 3, 4, 5, 6]\n"
     ]
    }
   ],
   "source": [
    "def func2(f): # 매개변수는 무조건 지역변수\n",
    "    print('before :', f, '의 주소는', id(f))\n",
    "    f.append(6)\n",
    "    print('after :', f, '의 주소는', id(f))\n",
    "\n",
    "func2(L)\n",
    "print(L)"
   ]
  },
  {
   "cell_type": "markdown",
   "id": "9157153f",
   "metadata": {},
   "source": [
    "## 1.5 함수의 이름 변경\n",
    "- Python은 함수형 언어, 객체지향 언어"
   ]
  },
  {
   "cell_type": "code",
   "execution_count": 31,
   "id": "24ee61c5",
   "metadata": {},
   "outputs": [],
   "source": [
    "def fibonacci(n): # 출력만 하는 함수\n",
    "    '''\n",
    "    매개변수로 들어온 n값 미만의 피보나치 수열을 출력한다.\n",
    "    ex. if n = 10, [ 0. 1. 1. 2. 3. 5. 8 ]\n",
    "        if n = 5, [ 0. 1. 1. 2. 3]\n",
    "    '''\n",
    "    a, b = 0, 1\n",
    "    \n",
    "    while a < n:\n",
    "        print(a, end = '. ')\n",
    "        a, b = b, (a+b)\n",
    "    print() # 개행"
   ]
  },
  {
   "cell_type": "code",
   "execution_count": 32,
   "id": "41dd8a0b",
   "metadata": {},
   "outputs": [
    {
     "data": {
      "text/plain": [
       "function"
      ]
     },
     "execution_count": 32,
     "metadata": {},
     "output_type": "execute_result"
    }
   ],
   "source": [
    "type(fibonacci)"
   ]
  },
  {
   "cell_type": "code",
   "execution_count": 33,
   "id": "b6d57a20",
   "metadata": {},
   "outputs": [],
   "source": [
    "fibo = fibonacci # 함수이름이 fibo로도 사용가능"
   ]
  },
  {
   "cell_type": "code",
   "execution_count": 34,
   "id": "171c327e",
   "metadata": {},
   "outputs": [
    {
     "name": "stdout",
     "output_type": "stream",
     "text": [
      "0. 1. 1. 2. 3. 5. 8. \n"
     ]
    }
   ],
   "source": [
    "fibo(10)"
   ]
  },
  {
   "cell_type": "markdown",
   "id": "7409c72b",
   "metadata": {},
   "source": [
    "# 2절. return\n",
    "- 함수의 실행결과를 반환한다."
   ]
  },
  {
   "cell_type": "code",
   "execution_count": 37,
   "id": "a8017e87",
   "metadata": {},
   "outputs": [],
   "source": [
    "def fibonacci_print(n):\n",
    "    '''\n",
    "    매개변수 n값 미만의 피보나치 수열을 출력\n",
    "    '''\n",
    "    a, b = 0, 1\n",
    "    while a < n:\n",
    "        print(a, end = ' ')\n",
    "        a, b = b, (a+b)\n",
    "    print()\n",
    "\n",
    "def fibonacci(n):\n",
    "    '''\n",
    "    n값 미만의 피보나치 수열(list)을 return\n",
    "    '''\n",
    "    result = []\n",
    "    a, b = 0, 1\n",
    "    \n",
    "    while a < n:\n",
    "        result.append(a)\n",
    "        a, b = b, (a+b)\n",
    "    return result"
   ]
  },
  {
   "cell_type": "code",
   "execution_count": 41,
   "id": "ec4ccfa6",
   "metadata": {},
   "outputs": [
    {
     "name": "stdout",
     "output_type": "stream",
     "text": [
      "0 1 1 2 3 5 8 \n",
      "None\n",
      "<class 'NoneType'>\n"
     ]
    }
   ],
   "source": [
    "x = fibonacci_print(10)\n",
    "\n",
    "print(x)\n",
    "print(type(x))"
   ]
  },
  {
   "cell_type": "code",
   "execution_count": 42,
   "id": "1e964e58",
   "metadata": {},
   "outputs": [
    {
     "name": "stdout",
     "output_type": "stream",
     "text": [
      "[0, 1, 1, 2, 3, 5, 8]\n",
      "<class 'list'>\n"
     ]
    }
   ],
   "source": [
    "x = fibonacci(10)\n",
    "\n",
    "print(x)\n",
    "print(type(x))"
   ]
  },
  {
   "cell_type": "markdown",
   "id": "f899e8fe",
   "metadata": {},
   "source": [
    "## 2.1 여러개 값 반환"
   ]
  },
  {
   "cell_type": "code",
   "execution_count": 43,
   "id": "47e71376",
   "metadata": {},
   "outputs": [],
   "source": [
    "def swap(a, b):\n",
    "    return b, a"
   ]
  },
  {
   "cell_type": "code",
   "execution_count": 47,
   "id": "25e26278",
   "metadata": {},
   "outputs": [
    {
     "name": "stdout",
     "output_type": "stream",
     "text": [
      "함수 실행 전 5 10\n",
      "함수 실행 후 10 5\n"
     ]
    }
   ],
   "source": [
    "x, y = 5, 10\n",
    "print('함수 실행 전', x, y)\n",
    "\n",
    "x, y = swap(x, y)\n",
    "print('함수 실행 후', x, y)"
   ]
  },
  {
   "cell_type": "code",
   "execution_count": 48,
   "id": "941b278c",
   "metadata": {},
   "outputs": [
    {
     "name": "stdout",
     "output_type": "stream",
     "text": [
      "<class 'tuple'>\n",
      "(5, 10)\n"
     ]
    }
   ],
   "source": [
    "a = swap(x, y)\n",
    "\n",
    "print(type(a))\n",
    "print(a)"
   ]
  },
  {
   "cell_type": "markdown",
   "id": "9a1c5c54",
   "metadata": {},
   "source": [
    "# ★ 3절. 함수 매개변수"
   ]
  },
  {
   "cell_type": "markdown",
   "id": "6507a5f2",
   "metadata": {},
   "source": [
    "## 3.1 기본값을 갖는 매개변수"
   ]
  },
  {
   "cell_type": "code",
   "execution_count": 49,
   "id": "54f20535",
   "metadata": {},
   "outputs": [],
   "source": [
    "def make_url(ip, port = 80):\n",
    "    return \"http://{} : {}\".format(ip, port)"
   ]
  },
  {
   "cell_type": "code",
   "execution_count": 52,
   "id": "1fdc9ebe",
   "metadata": {},
   "outputs": [
    {
     "name": "stdout",
     "output_type": "stream",
     "text": [
      "http://localhost : 9090\n",
      "http://www.naver.com : 9090\n",
      "http://localhost : 80\n"
     ]
    }
   ],
   "source": [
    "print(make_url('localhost', 9090))\n",
    "print(make_url(port = 9090, ip = 'www.naver.com'))\n",
    "print(make_url('localhost'))"
   ]
  },
  {
   "cell_type": "markdown",
   "id": "3c196610",
   "metadata": {},
   "source": [
    "## 3.2 기본변수를 갖는 매개변수"
   ]
  },
  {
   "cell_type": "code",
   "execution_count": 55,
   "id": "c0fbcc10",
   "metadata": {},
   "outputs": [],
   "source": [
    "# 기본 변수가 스칼라 변수(문자, 숫자, 논리)일 때\n",
    "# arg의 기본 값은 함수가 정의되는 시점의 값이 사용된다.\n",
    "i = 5\n",
    "\n",
    "def func2(arg = i):\n",
    "    print('arg =', arg)"
   ]
  },
  {
   "cell_type": "code",
   "execution_count": 58,
   "id": "2ca087b3",
   "metadata": {},
   "outputs": [
    {
     "name": "stdout",
     "output_type": "stream",
     "text": [
      "arg = 5\n"
     ]
    }
   ],
   "source": [
    "i = 6\n",
    "\n",
    "func2()"
   ]
  },
  {
   "cell_type": "code",
   "execution_count": 59,
   "id": "e0147c3f",
   "metadata": {},
   "outputs": [
    {
     "name": "stdout",
     "output_type": "stream",
     "text": [
      "[1]\n",
      "[1]\n"
     ]
    }
   ],
   "source": [
    "# 기본 변수가 리스트, 셋, 딕셔너리, 객체일 때\n",
    "# 함수를 호출 후 기본값은 실행하는 시점의 값이 사용된다.\n",
    "list_ = []\n",
    "\n",
    "def func3(a, L = list_):\n",
    "    L.append(a)\n",
    "    return L\n",
    "\n",
    "print(func3(1))\n",
    "print(list_)"
   ]
  },
  {
   "cell_type": "code",
   "execution_count": 60,
   "id": "fccb444a",
   "metadata": {},
   "outputs": [
    {
     "name": "stdout",
     "output_type": "stream",
     "text": [
      "[1, 100]\n",
      "[1, 100]\n"
     ]
    }
   ],
   "source": [
    "print(func3(100))\n",
    "print(list_)"
   ]
  },
  {
   "cell_type": "code",
   "execution_count": 61,
   "id": "8ae62610",
   "metadata": {},
   "outputs": [
    {
     "name": "stdout",
     "output_type": "stream",
     "text": [
      "[1]\n"
     ]
    }
   ],
   "source": [
    "def func4(a, L = []):\n",
    "    L.append(a)\n",
    "    return L\n",
    "\n",
    "result = func4(1)\n",
    "print(result)"
   ]
  },
  {
   "cell_type": "code",
   "execution_count": 62,
   "id": "0f93b2d0",
   "metadata": {},
   "outputs": [
    {
     "name": "stdout",
     "output_type": "stream",
     "text": [
      "[1, 2]\n"
     ]
    }
   ],
   "source": [
    "result = func4(2)\n",
    "print(result)"
   ]
  },
  {
   "cell_type": "code",
   "execution_count": null,
   "id": "097b0f79",
   "metadata": {},
   "outputs": [],
   "source": []
  },
  {
   "cell_type": "code",
   "execution_count": null,
   "id": "c06a9ec9",
   "metadata": {},
   "outputs": [],
   "source": []
  },
  {
   "cell_type": "markdown",
   "id": "9bb70001",
   "metadata": {},
   "source": [
    "# ★ 4절. 람다식"
   ]
  },
  {
   "cell_type": "code",
   "execution_count": null,
   "id": "d6f6f4d1",
   "metadata": {},
   "outputs": [],
   "source": []
  },
  {
   "cell_type": "code",
   "execution_count": null,
   "id": "519b8fdb",
   "metadata": {},
   "outputs": [],
   "source": []
  },
  {
   "cell_type": "code",
   "execution_count": null,
   "id": "40312a91",
   "metadata": {},
   "outputs": [],
   "source": []
  },
  {
   "cell_type": "code",
   "execution_count": null,
   "id": "1e851268",
   "metadata": {},
   "outputs": [],
   "source": []
  },
  {
   "cell_type": "code",
   "execution_count": null,
   "id": "0523085d",
   "metadata": {},
   "outputs": [],
   "source": []
  },
  {
   "cell_type": "code",
   "execution_count": null,
   "id": "05e70fc3",
   "metadata": {},
   "outputs": [],
   "source": []
  },
  {
   "cell_type": "code",
   "execution_count": null,
   "id": "3339f92b",
   "metadata": {},
   "outputs": [],
   "source": []
  },
  {
   "cell_type": "markdown",
   "id": "5c665ff7",
   "metadata": {},
   "source": [
    "# 5절. 파이썬 내장함수"
   ]
  },
  {
   "cell_type": "code",
   "execution_count": null,
   "id": "95beb67f",
   "metadata": {},
   "outputs": [],
   "source": []
  }
 ],
 "metadata": {
  "kernelspec": {
   "display_name": "Python 3",
   "language": "python",
   "name": "python3"
  },
  "language_info": {
   "codemirror_mode": {
    "name": "ipython",
    "version": 3
   },
   "file_extension": ".py",
   "mimetype": "text/x-python",
   "name": "python",
   "nbconvert_exporter": "python",
   "pygments_lexer": "ipython3",
   "version": "3.8.8"
  },
  "toc": {
   "base_numbering": 1,
   "nav_menu": {},
   "number_sections": false,
   "sideBar": true,
   "skip_h1_title": false,
   "title_cell": "Table of Contents",
   "title_sidebar": "Contents",
   "toc_cell": false,
   "toc_position": {
    "height": "calc(100% - 180px)",
    "left": "10px",
    "top": "150px",
    "width": "248px"
   },
   "toc_section_display": true,
   "toc_window_display": true
  },
  "varInspector": {
   "cols": {
    "lenName": 16,
    "lenType": 16,
    "lenVar": 40
   },
   "kernels_config": {
    "python": {
     "delete_cmd_postfix": "",
     "delete_cmd_prefix": "del ",
     "library": "var_list.py",
     "varRefreshCmd": "print(var_dic_list())"
    },
    "r": {
     "delete_cmd_postfix": ") ",
     "delete_cmd_prefix": "rm(",
     "library": "var_list.r",
     "varRefreshCmd": "cat(var_dic_list()) "
    }
   },
   "position": {
    "height": "381px",
    "left": "1562px",
    "right": "20px",
    "top": "120px",
    "width": "350px"
   },
   "types_to_exclude": [
    "module",
    "function",
    "builtin_function_or_method",
    "instance",
    "_Feature"
   ],
   "window_display": false
  }
 },
 "nbformat": 4,
 "nbformat_minor": 5
}
