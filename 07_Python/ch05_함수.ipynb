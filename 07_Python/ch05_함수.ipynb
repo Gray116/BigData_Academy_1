{
 "cells": [
  {
   "cell_type": "markdown",
   "id": "20cae52a",
   "metadata": {},
   "source": [
    "<b><font color = \"red\" size = \"6\">ch05. 함수</font></b>\n",
    "- 반복해서 사용할 코드를 묶어 놓고 그것에 이름을 붙인 것.\n",
    "- 자바와 달리 오버로딩(똑같은 이름의 함수가 2개이상 존재)이 불가하다\n",
    "- 반복해서 사용할 코드는 함수를 이용하면 훨씬 구조적이고 간결한 코드를 작성할 수 있다.\n",
    "- 함수의 정의\n",
    "```\n",
    "def 함수명([매개변수1, 매개변수2, ...]):\n",
    "    명령어1\n",
    "    명령어2\n",
    "```"
   ]
  },
  {
   "cell_type": "markdown",
   "id": "877ef227",
   "metadata": {},
   "source": [
    "# 1절. 함수의 정의 및 사용"
   ]
  },
  {
   "cell_type": "code",
   "execution_count": 2,
   "id": "d59ce0aa",
   "metadata": {},
   "outputs": [],
   "source": [
    "def my_hello(x): # 기존에 있던 함수는 없어진다.\n",
    "    for i in range(x):\n",
    "        print(i, 'Hello, Python')"
   ]
  },
  {
   "cell_type": "code",
   "execution_count": 3,
   "id": "b599dfa8",
   "metadata": {},
   "outputs": [
    {
     "name": "stdout",
     "output_type": "stream",
     "text": [
      "0 Hello, Python\n",
      "1 Hello, Python\n",
      "2 Hello, Python\n",
      "3 Hello, Python\n",
      "4 Hello, Python\n"
     ]
    }
   ],
   "source": [
    "my_hello(5)"
   ]
  },
  {
   "cell_type": "code",
   "execution_count": 4,
   "id": "37ae0038",
   "metadata": {},
   "outputs": [
    {
     "name": "stdout",
     "output_type": "stream",
     "text": [
      "Hello, World\n",
      "Hello, Python\n"
     ]
    }
   ],
   "source": [
    "def my_hello():\n",
    "    print('Hello, World')\n",
    "    print('Hello, Python')\n",
    "\n",
    "my_hello()"
   ]
  },
  {
   "cell_type": "code",
   "execution_count": 5,
   "id": "aa8f120e",
   "metadata": {},
   "outputs": [
    {
     "data": {
      "text/plain": [
       "<function __main__.my_hello()>"
      ]
     },
     "execution_count": 5,
     "metadata": {},
     "output_type": "execute_result"
    }
   ],
   "source": [
    "my_hello"
   ]
  },
  {
   "cell_type": "code",
   "execution_count": 6,
   "id": "b68d3748",
   "metadata": {},
   "outputs": [
    {
     "data": {
      "text/plain": [
       "function"
      ]
     },
     "execution_count": 6,
     "metadata": {},
     "output_type": "execute_result"
    }
   ],
   "source": [
    "type(my_hello)"
   ]
  },
  {
   "cell_type": "code",
   "execution_count": 7,
   "id": "0120c7c7",
   "metadata": {},
   "outputs": [
    {
     "data": {
      "text/plain": [
       "'__main__'"
      ]
     },
     "execution_count": 7,
     "metadata": {},
     "output_type": "execute_result"
    }
   ],
   "source": [
    "__name__"
   ]
  },
  {
   "cell_type": "code",
   "execution_count": 8,
   "id": "289b9720",
   "metadata": {},
   "outputs": [
    {
     "name": "stdout",
     "output_type": "stream",
     "text": [
      "Hello, World\n",
      "Hello, Python\n"
     ]
    }
   ],
   "source": [
    "if __name__ == '__main__':\n",
    "    my_hello()"
   ]
  },
  {
   "cell_type": "code",
   "execution_count": 1,
   "id": "90eaf96e",
   "metadata": {},
   "outputs": [],
   "source": [
    "# a.py가 해석되어 메모리에 로드된다.\n",
    "import a"
   ]
  },
  {
   "cell_type": "code",
   "execution_count": 2,
   "id": "a10c45ca",
   "metadata": {},
   "outputs": [
    {
     "name": "stdout",
     "output_type": "stream",
     "text": [
      "Hello, World\n",
      "더운날 건강조심하세요\n"
     ]
    }
   ],
   "source": [
    "a.test()"
   ]
  },
  {
   "cell_type": "code",
   "execution_count": 4,
   "id": "d8fcfb85",
   "metadata": {},
   "outputs": [
    {
     "name": "stdout",
     "output_type": "stream",
     "text": [
      "90\n",
      "50\n"
     ]
    }
   ],
   "source": [
    "def my_add(num1, num2, num3 = 0): # 기본값을 가지는 매개변수(키워드 인수)는 맨 마지막에\n",
    "    return num1 + num2 + num3\n",
    "\n",
    "print(my_add(20, 30, 40))\n",
    "print(my_add(20, 30))"
   ]
  },
  {
   "cell_type": "markdown",
   "id": "b8f307f8",
   "metadata": {},
   "source": [
    "## 1.1 docstring"
   ]
  },
  {
   "cell_type": "code",
   "execution_count": 6,
   "id": "4b45d69d",
   "metadata": {},
   "outputs": [],
   "source": [
    "def my_function():\n",
    "    '''\n",
    "    함수의 첫 라인에 docstring을 포함할 수 있다.\n",
    "    docstring - 함수의 설명서를 달아주는 역할\n",
    "                주석보다 많은 기능을 한다.\n",
    "    '''\n",
    "    pass"
   ]
  },
  {
   "cell_type": "code",
   "execution_count": 7,
   "id": "8a9fde13",
   "metadata": {},
   "outputs": [
    {
     "name": "stdout",
     "output_type": "stream",
     "text": [
      "\n",
      "    함수의 첫 라인에 docstring을 포함할 수 있다.\n",
      "    docstring - 함수의 설명서를 달아주는 역할\n",
      "                주석보다 많은 기능을 한다.\n",
      "    \n"
     ]
    }
   ],
   "source": [
    "print(my_function.__doc__)"
   ]
  },
  {
   "cell_type": "code",
   "execution_count": null,
   "id": "c5f400b1",
   "metadata": {},
   "outputs": [],
   "source": [
    "my_function()"
   ]
  },
  {
   "cell_type": "code",
   "execution_count": 10,
   "id": "df452e86",
   "metadata": {},
   "outputs": [],
   "source": [
    "def fibonacci(n): # 출력만 하는 함수\n",
    "    '''\n",
    "    매개변수로 들어온 n값 미만의 피보나치 수열을 출력한다.\n",
    "    ex. if n = 10, [ 0. 1. 1. 2. 3. 5. 8 ]\n",
    "        if n = 5, [ 0. 1. 1. 2. 3]\n",
    "    '''\n",
    "    a, b = 0, 1\n",
    "    \n",
    "    while a < n:\n",
    "        print(a, end = '. ')\n",
    "        a, b = b, (a+b)\n",
    "    print() # 개행"
   ]
  },
  {
   "cell_type": "code",
   "execution_count": 12,
   "id": "8a301d57",
   "metadata": {},
   "outputs": [
    {
     "name": "stdout",
     "output_type": "stream",
     "text": [
      "0. 1. 1. 2. 3. \n",
      "TEST\n"
     ]
    }
   ],
   "source": [
    "if __name__ == '__main__':\n",
    "    fibonacci(5)\n",
    "    print(\"TEST\")"
   ]
  },
  {
   "cell_type": "markdown",
   "id": "dd71efad",
   "metadata": {},
   "source": [
    "## 1.2 지역변수와 전역변수\n",
    "- 지역변수(local var)\n",
    "- 전역변수(global var)"
   ]
  },
  {
   "cell_type": "code",
   "execution_count": 16,
   "id": "2801f5d0",
   "metadata": {},
   "outputs": [
    {
     "name": "stdout",
     "output_type": "stream",
     "text": [
      "100\n",
      "100\n"
     ]
    }
   ],
   "source": [
    "global_var = 100 # 전역변수\n",
    "\n",
    "def func1():\n",
    "    print(global_var)\n",
    "\n",
    "func1()\n",
    "print(global_var)"
   ]
  },
  {
   "cell_type": "code",
   "execution_count": 17,
   "id": "37541080",
   "metadata": {},
   "outputs": [
    {
     "name": "stdout",
     "output_type": "stream",
     "text": [
      "200\n"
     ]
    },
    {
     "ename": "NameError",
     "evalue": "name 'local_var' is not defined",
     "output_type": "error",
     "traceback": [
      "\u001b[1;31m---------------------------------------------------------------------------\u001b[0m",
      "\u001b[1;31mNameError\u001b[0m                                 Traceback (most recent call last)",
      "\u001b[1;32m<ipython-input-17-8db87c42d302>\u001b[0m in \u001b[0;36m<module>\u001b[1;34m\u001b[0m\n\u001b[0;32m      4\u001b[0m \u001b[1;33m\u001b[0m\u001b[0m\n\u001b[0;32m      5\u001b[0m \u001b[0mfunc2\u001b[0m\u001b[1;33m(\u001b[0m\u001b[1;33m)\u001b[0m\u001b[1;33m\u001b[0m\u001b[1;33m\u001b[0m\u001b[0m\n\u001b[1;32m----> 6\u001b[1;33m \u001b[0mprint\u001b[0m\u001b[1;33m(\u001b[0m\u001b[0mlocal_var\u001b[0m\u001b[1;33m)\u001b[0m\u001b[1;33m\u001b[0m\u001b[1;33m\u001b[0m\u001b[0m\n\u001b[0m",
      "\u001b[1;31mNameError\u001b[0m: name 'local_var' is not defined"
     ]
    }
   ],
   "source": [
    "def func2():\n",
    "    local_var = 200 # 지역변수\n",
    "    print(local_var)\n",
    "\n",
    "func2()\n",
    "print(local_var) # 함수를 빠져나오면 사용할 수 없다"
   ]
  },
  {
   "cell_type": "code",
   "execution_count": 18,
   "id": "eeee1652",
   "metadata": {},
   "outputs": [
    {
     "name": "stdout",
     "output_type": "stream",
     "text": [
      "200\n",
      "100\n"
     ]
    }
   ],
   "source": [
    "g_var = 100 # 전역변수\n",
    "\n",
    "def func3():\n",
    "    g_var = 200 # 전역변수와 똑같은 이름의 지역변수\n",
    "    print(g_var)\n",
    "\n",
    "func3()\n",
    "print(g_var)"
   ]
  },
  {
   "cell_type": "code",
   "execution_count": 20,
   "id": "1f675746",
   "metadata": {},
   "outputs": [
    {
     "ename": "UnboundLocalError",
     "evalue": "local variable 'g_var' referenced before assignment",
     "output_type": "error",
     "traceback": [
      "\u001b[1;31m---------------------------------------------------------------------------\u001b[0m",
      "\u001b[1;31mUnboundLocalError\u001b[0m                         Traceback (most recent call last)",
      "\u001b[1;32m<ipython-input-20-9a931bce3f14>\u001b[0m in \u001b[0;36m<module>\u001b[1;34m\u001b[0m\n\u001b[0;32m      6\u001b[0m     \u001b[0mprint\u001b[0m\u001b[1;33m(\u001b[0m\u001b[1;34m'after :'\u001b[0m\u001b[1;33m,\u001b[0m \u001b[0mg_var\u001b[0m\u001b[1;33m)\u001b[0m\u001b[1;33m\u001b[0m\u001b[1;33m\u001b[0m\u001b[0m\n\u001b[0;32m      7\u001b[0m \u001b[1;33m\u001b[0m\u001b[0m\n\u001b[1;32m----> 8\u001b[1;33m \u001b[0mfunc3\u001b[0m\u001b[1;33m(\u001b[0m\u001b[1;33m)\u001b[0m\u001b[1;33m\u001b[0m\u001b[1;33m\u001b[0m\u001b[0m\n\u001b[0m",
      "\u001b[1;32m<ipython-input-20-9a931bce3f14>\u001b[0m in \u001b[0;36mfunc3\u001b[1;34m()\u001b[0m\n\u001b[0;32m      2\u001b[0m \u001b[1;33m\u001b[0m\u001b[0m\n\u001b[0;32m      3\u001b[0m \u001b[1;32mdef\u001b[0m \u001b[0mfunc3\u001b[0m\u001b[1;33m(\u001b[0m\u001b[1;33m)\u001b[0m\u001b[1;33m:\u001b[0m\u001b[1;33m\u001b[0m\u001b[1;33m\u001b[0m\u001b[0m\n\u001b[1;32m----> 4\u001b[1;33m     \u001b[0mprint\u001b[0m\u001b[1;33m(\u001b[0m\u001b[1;34m'before :'\u001b[0m\u001b[1;33m,\u001b[0m \u001b[0mg_var\u001b[0m\u001b[1;33m)\u001b[0m\u001b[1;33m\u001b[0m\u001b[1;33m\u001b[0m\u001b[0m\n\u001b[0m\u001b[0;32m      5\u001b[0m     \u001b[0mg_var\u001b[0m \u001b[1;33m=\u001b[0m \u001b[1;36m200\u001b[0m\u001b[1;33m\u001b[0m\u001b[1;33m\u001b[0m\u001b[0m\n\u001b[0;32m      6\u001b[0m     \u001b[0mprint\u001b[0m\u001b[1;33m(\u001b[0m\u001b[1;34m'after :'\u001b[0m\u001b[1;33m,\u001b[0m \u001b[0mg_var\u001b[0m\u001b[1;33m)\u001b[0m\u001b[1;33m\u001b[0m\u001b[1;33m\u001b[0m\u001b[0m\n",
      "\u001b[1;31mUnboundLocalError\u001b[0m: local variable 'g_var' referenced before assignment"
     ]
    }
   ],
   "source": [
    "# 렉시컬 특성\n",
    "g_var = 100 # 전역변수\n",
    "\n",
    "def func3():\n",
    "    print('before :', g_var)\n",
    "    g_var = 200 # 지역변수\n",
    "    print('after :', g_var)\n",
    "\n",
    "func3()"
   ]
  },
  {
   "cell_type": "code",
   "execution_count": 21,
   "id": "c612e9d3",
   "metadata": {},
   "outputs": [
    {
     "name": "stdout",
     "output_type": "stream",
     "text": [
      "before : 100\n",
      "after : 200\n",
      "200\n"
     ]
    }
   ],
   "source": [
    "g_var = 100 # 전역변수\n",
    "\n",
    "def func3():\n",
    "    global g_var # func3함수 내의 g_var는 전역변수로 설정된다.\n",
    "    print('before :', g_var)\n",
    "    g_var = 200\n",
    "    print('after :', g_var)\n",
    "\n",
    "func3()\n",
    "print(g_var)"
   ]
  },
  {
   "cell_type": "markdown",
   "id": "8c683246",
   "metadata": {},
   "source": [
    "## 1.3 값에 의한 호출\n",
    "- 함수에 매개변수(인수)로 전달되는 변수가 스칼라 변수(숫자,문자,논리)일 경우"
   ]
  },
  {
   "cell_type": "code",
   "execution_count": 22,
   "id": "0ddf0628",
   "metadata": {},
   "outputs": [
    {
     "data": {
      "text/plain": [
       "2452464025520"
      ]
     },
     "execution_count": 22,
     "metadata": {},
     "output_type": "execute_result"
    }
   ],
   "source": [
    "foo = 'a' # 전역변수\n",
    "id(foo)"
   ]
  },
  {
   "cell_type": "code",
   "execution_count": 27,
   "id": "b94906f6",
   "metadata": {},
   "outputs": [
    {
     "name": "stdout",
     "output_type": "stream",
     "text": [
      "before : a 의 주소는 2452464025520\n",
      "after : aaa 의 주소는 2452558353904\n"
     ]
    }
   ],
   "source": [
    "def func1(f): # 매개변수는 지역변수\n",
    "    print('before :', f, '의 주소는', id(f))\n",
    "    f = f * 3\n",
    "    print('after :', f, '의 주소는', id(f))\n",
    "\n",
    "func1(foo)"
   ]
  },
  {
   "cell_type": "code",
   "execution_count": 28,
   "id": "4f1cdf75",
   "metadata": {},
   "outputs": [
    {
     "name": "stdout",
     "output_type": "stream",
     "text": [
      "a\n",
      "2452464025520\n"
     ]
    }
   ],
   "source": [
    "print(foo) # 전역변수는 그대로 \n",
    "print(id(foo))"
   ]
  },
  {
   "cell_type": "markdown",
   "id": "44a48899",
   "metadata": {},
   "source": [
    "## 1.4 참조에 의한 호출\n",
    "- 함수에 인수로 전달되는 변수가 리스트, 딕셔너리, 셋, ... 일 경우"
   ]
  },
  {
   "cell_type": "code",
   "execution_count": 29,
   "id": "5f4e8f32",
   "metadata": {},
   "outputs": [
    {
     "data": {
      "text/plain": [
       "2452557665856"
      ]
     },
     "execution_count": 29,
     "metadata": {},
     "output_type": "execute_result"
    }
   ],
   "source": [
    "L = [1, 2, 3, 4, 5]\n",
    "\n",
    "id(L)"
   ]
  },
  {
   "cell_type": "code",
   "execution_count": 30,
   "id": "7c9f45fc",
   "metadata": {},
   "outputs": [
    {
     "name": "stdout",
     "output_type": "stream",
     "text": [
      "before : [1, 2, 3, 4, 5] 의 주소는 2452557665856\n",
      "after : [1, 2, 3, 4, 5, 6] 의 주소는 2452557665856\n",
      "[1, 2, 3, 4, 5, 6]\n"
     ]
    }
   ],
   "source": [
    "def func2(f): # 매개변수는 무조건 지역변수\n",
    "    print('before :', f, '의 주소는', id(f))\n",
    "    f.append(6)\n",
    "    print('after :', f, '의 주소는', id(f))\n",
    "\n",
    "func2(L)\n",
    "print(L)"
   ]
  },
  {
   "cell_type": "markdown",
   "id": "b8ce9c4c",
   "metadata": {},
   "source": [
    "## 1.5 함수의 이름 변경\n",
    "- Python은 함수형 언어, 객체지향 언어"
   ]
  },
  {
   "cell_type": "code",
   "execution_count": 31,
   "id": "ab28d6ff",
   "metadata": {},
   "outputs": [],
   "source": [
    "def fibonacci(n): # 출력만 하는 함수\n",
    "    '''\n",
    "    매개변수로 들어온 n값 미만의 피보나치 수열을 출력한다.\n",
    "    ex. if n = 10, [ 0. 1. 1. 2. 3. 5. 8 ]\n",
    "        if n = 5, [ 0. 1. 1. 2. 3]\n",
    "    '''\n",
    "    a, b = 0, 1\n",
    "    \n",
    "    while a < n:\n",
    "        print(a, end = '. ')\n",
    "        a, b = b, (a+b)\n",
    "    print() # 개행"
   ]
  },
  {
   "cell_type": "code",
   "execution_count": 32,
   "id": "646121d5",
   "metadata": {},
   "outputs": [
    {
     "data": {
      "text/plain": [
       "function"
      ]
     },
     "execution_count": 32,
     "metadata": {},
     "output_type": "execute_result"
    }
   ],
   "source": [
    "type(fibonacci)"
   ]
  },
  {
   "cell_type": "code",
   "execution_count": 33,
   "id": "2a0044a1",
   "metadata": {},
   "outputs": [],
   "source": [
    "fibo = fibonacci # 함수이름이 fibo로도 사용가능"
   ]
  },
  {
   "cell_type": "code",
   "execution_count": 34,
   "id": "5dd91e34",
   "metadata": {},
   "outputs": [
    {
     "name": "stdout",
     "output_type": "stream",
     "text": [
      "0. 1. 1. 2. 3. 5. 8. \n"
     ]
    }
   ],
   "source": [
    "fibo(10)"
   ]
  },
  {
   "cell_type": "markdown",
   "id": "eccf6b26",
   "metadata": {},
   "source": [
    "# 2절. return\n",
    "- 함수의 실행결과를 반환한다."
   ]
  },
  {
   "cell_type": "code",
   "execution_count": 37,
   "id": "22fc013f",
   "metadata": {},
   "outputs": [],
   "source": [
    "def fibonacci_print(n):\n",
    "    '''\n",
    "    매개변수 n값 미만의 피보나치 수열을 출력\n",
    "    '''\n",
    "    a, b = 0, 1\n",
    "    while a < n:\n",
    "        print(a, end = ' ')\n",
    "        a, b = b, (a+b)\n",
    "    print()\n",
    "\n",
    "def fibonacci(n):\n",
    "    '''\n",
    "    n값 미만의 피보나치 수열(list)을 return\n",
    "    '''\n",
    "    result = []\n",
    "    a, b = 0, 1\n",
    "    \n",
    "    while a < n:\n",
    "        result.append(a)\n",
    "        a, b = b, (a+b)\n",
    "    return result"
   ]
  },
  {
   "cell_type": "code",
   "execution_count": 41,
   "id": "7ceacad7",
   "metadata": {},
   "outputs": [
    {
     "name": "stdout",
     "output_type": "stream",
     "text": [
      "0 1 1 2 3 5 8 \n",
      "None\n",
      "<class 'NoneType'>\n"
     ]
    }
   ],
   "source": [
    "x = fibonacci_print(10)\n",
    "\n",
    "print(x)\n",
    "print(type(x))"
   ]
  },
  {
   "cell_type": "code",
   "execution_count": 42,
   "id": "f26ec7ef",
   "metadata": {},
   "outputs": [
    {
     "name": "stdout",
     "output_type": "stream",
     "text": [
      "[0, 1, 1, 2, 3, 5, 8]\n",
      "<class 'list'>\n"
     ]
    }
   ],
   "source": [
    "x = fibonacci(10)\n",
    "\n",
    "print(x)\n",
    "print(type(x))"
   ]
  },
  {
   "cell_type": "markdown",
   "id": "0ec87314",
   "metadata": {},
   "source": [
    "## 2.1 여러개 값 반환"
   ]
  },
  {
   "cell_type": "code",
   "execution_count": 43,
   "id": "8f8ef930",
   "metadata": {},
   "outputs": [],
   "source": [
    "def swap(a, b):\n",
    "    return b, a"
   ]
  },
  {
   "cell_type": "code",
   "execution_count": 47,
   "id": "82415faf",
   "metadata": {},
   "outputs": [
    {
     "name": "stdout",
     "output_type": "stream",
     "text": [
      "함수 실행 전 5 10\n",
      "함수 실행 후 10 5\n"
     ]
    }
   ],
   "source": [
    "x, y = 5, 10\n",
    "print('함수 실행 전', x, y)\n",
    "\n",
    "x, y = swap(x, y)\n",
    "print('함수 실행 후', x, y)"
   ]
  },
  {
   "cell_type": "code",
   "execution_count": 48,
   "id": "64036455",
   "metadata": {},
   "outputs": [
    {
     "name": "stdout",
     "output_type": "stream",
     "text": [
      "<class 'tuple'>\n",
      "(5, 10)\n"
     ]
    }
   ],
   "source": [
    "a = swap(x, y)\n",
    "\n",
    "print(type(a))\n",
    "print(a)"
   ]
  },
  {
   "cell_type": "markdown",
   "id": "54812a80",
   "metadata": {},
   "source": [
    "# ★ 3절. 함수 매개변수"
   ]
  },
  {
   "cell_type": "markdown",
   "id": "24428b72",
   "metadata": {},
   "source": [
    "## 3.1 기본값을 갖는 매개변수"
   ]
  },
  {
   "cell_type": "code",
   "execution_count": 49,
   "id": "a0a36a42",
   "metadata": {},
   "outputs": [],
   "source": [
    "def make_url(ip, port = 80):\n",
    "    return \"http://{} : {}\".format(ip, port)"
   ]
  },
  {
   "cell_type": "code",
   "execution_count": 52,
   "id": "a0a10500",
   "metadata": {},
   "outputs": [
    {
     "name": "stdout",
     "output_type": "stream",
     "text": [
      "http://localhost : 9090\n",
      "http://www.naver.com : 9090\n",
      "http://localhost : 80\n"
     ]
    }
   ],
   "source": [
    "print(make_url('localhost', 9090))\n",
    "print(make_url(port = 9090, ip = 'www.naver.com'))\n",
    "print(make_url('localhost'))"
   ]
  },
  {
   "cell_type": "markdown",
   "id": "f160f715",
   "metadata": {},
   "source": [
    "## 3.2 기본변수를 갖는 매개변수"
   ]
  },
  {
   "cell_type": "code",
   "execution_count": 55,
   "id": "d27a405e",
   "metadata": {},
   "outputs": [],
   "source": [
    "# 기본 변수가 스칼라 변수(문자, 숫자, 논리)일 때\n",
    "# arg의 기본 값은 함수가 정의되는 시점의 값이 사용된다.\n",
    "i = 5\n",
    "\n",
    "def func2(arg = i):\n",
    "    print('arg =', arg)"
   ]
  },
  {
   "cell_type": "code",
   "execution_count": 58,
   "id": "3e7a59ed",
   "metadata": {},
   "outputs": [
    {
     "name": "stdout",
     "output_type": "stream",
     "text": [
      "arg = 5\n"
     ]
    }
   ],
   "source": [
    "i = 6\n",
    "\n",
    "func2()"
   ]
  },
  {
   "cell_type": "code",
   "execution_count": 59,
   "id": "b58daf11",
   "metadata": {},
   "outputs": [
    {
     "name": "stdout",
     "output_type": "stream",
     "text": [
      "[1]\n",
      "[1]\n"
     ]
    }
   ],
   "source": [
    "# 기본 변수가 리스트, 셋, 딕셔너리, 객체일 때\n",
    "# 함수를 호출 후 기본값은 실행하는 시점의 값이 사용된다.\n",
    "list_ = []\n",
    "\n",
    "def func3(a, L = list_):\n",
    "    L.append(a)\n",
    "    return L\n",
    "\n",
    "print(func3(1))\n",
    "print(list_)"
   ]
  },
  {
   "cell_type": "code",
   "execution_count": 60,
   "id": "4ab1c1d5",
   "metadata": {},
   "outputs": [
    {
     "name": "stdout",
     "output_type": "stream",
     "text": [
      "[1, 100]\n",
      "[1, 100]\n"
     ]
    }
   ],
   "source": [
    "print(func3(100))\n",
    "print(list_)"
   ]
  },
  {
   "cell_type": "code",
   "execution_count": 61,
   "id": "341158dd",
   "metadata": {},
   "outputs": [
    {
     "name": "stdout",
     "output_type": "stream",
     "text": [
      "[1]\n"
     ]
    }
   ],
   "source": [
    "def func4(a, L = []):\n",
    "    L.append(a)\n",
    "    return L\n",
    "\n",
    "result = func4(1)\n",
    "print(result)"
   ]
  },
  {
   "cell_type": "code",
   "execution_count": 62,
   "id": "f2b843ce",
   "metadata": {},
   "outputs": [
    {
     "name": "stdout",
     "output_type": "stream",
     "text": [
      "[1, 2]\n"
     ]
    }
   ],
   "source": [
    "result = func4(2)\n",
    "print(result)"
   ]
  },
  {
   "cell_type": "markdown",
   "id": "7dd71f3c",
   "metadata": {},
   "source": [
    "## 3.3 순서인수, 키워드 인수\n",
    "- 위치 인수 : 함수에 인수를 순서대로 넣는 방식. 인수의 위치가 정해져있다.\n",
    "- 키워드 인수: 인수에 이름(키워드)을 붙이는 기능, (키워드 = 값)형식으로 사용한다.\n",
    "-              키워드인수가 앞에 오게 되면 정의할 때부터 에러발생\n",
    "```\n",
    "def function명(변수명1, 변수명2, 변수명3 = 기본값):\n",
    "                              위치인수          키워드인수\n",
    "```"
   ]
  },
  {
   "cell_type": "code",
   "execution_count": 1,
   "id": "fffcfa41",
   "metadata": {},
   "outputs": [
    {
     "data": {
      "text/plain": [
       "[1]"
      ]
     },
     "execution_count": 1,
     "metadata": {},
     "output_type": "execute_result"
    }
   ],
   "source": [
    "def func5(a, L = None):\n",
    "    if L is None:\n",
    "        L = []\n",
    "    L.append(a)\n",
    "    return L\n",
    "\n",
    "func5(1)"
   ]
  },
  {
   "cell_type": "code",
   "execution_count": 2,
   "id": "7a240cab",
   "metadata": {},
   "outputs": [
    {
     "data": {
      "text/plain": [
       "[2]"
      ]
     },
     "execution_count": 2,
     "metadata": {},
     "output_type": "execute_result"
    }
   ],
   "source": [
    "func5(2)"
   ]
  },
  {
   "cell_type": "code",
   "execution_count": 3,
   "id": "8aed16ae",
   "metadata": {},
   "outputs": [
    {
     "data": {
      "text/plain": [
       "[3]"
      ]
     },
     "execution_count": 3,
     "metadata": {},
     "output_type": "execute_result"
    }
   ],
   "source": [
    "# 계속해서 추가하고 싶을 때\n",
    "list_ = []\n",
    "func5(3, list_)"
   ]
  },
  {
   "cell_type": "code",
   "execution_count": 4,
   "id": "d75e8e70",
   "metadata": {},
   "outputs": [
    {
     "data": {
      "text/plain": [
       "[3, 4]"
      ]
     },
     "execution_count": 4,
     "metadata": {},
     "output_type": "execute_result"
    }
   ],
   "source": [
    "func5(a = 4, L = list_)"
   ]
  },
  {
   "cell_type": "code",
   "execution_count": 5,
   "id": "a2c095a3",
   "metadata": {},
   "outputs": [
    {
     "data": {
      "text/plain": [
       "[3, 4, 5]"
      ]
     },
     "execution_count": 5,
     "metadata": {},
     "output_type": "execute_result"
    }
   ],
   "source": [
    "# 직접 값을 할당하게되면 순서에 상관없이 쓸 수 있다.\n",
    "func5(L = list_, a = 5)"
   ]
  },
  {
   "cell_type": "code",
   "execution_count": 6,
   "id": "152598a5",
   "metadata": {},
   "outputs": [
    {
     "ename": "SyntaxError",
     "evalue": "positional argument follows keyword argument (<ipython-input-6-3160935ec070>, line 1)",
     "output_type": "error",
     "traceback": [
      "\u001b[1;36m  File \u001b[1;32m\"<ipython-input-6-3160935ec070>\"\u001b[1;36m, line \u001b[1;32m1\u001b[0m\n\u001b[1;33m    func5(L = list_, 50)\u001b[0m\n\u001b[1;37m                     ^\u001b[0m\n\u001b[1;31mSyntaxError\u001b[0m\u001b[1;31m:\u001b[0m positional argument follows keyword argument\n"
     ]
    }
   ],
   "source": [
    "func5(L = list_, 50) # 순서대로 매핑되기 때문에 각각 값을 변수에 넣어주지 않으면 에러"
   ]
  },
  {
   "cell_type": "code",
   "execution_count": 7,
   "id": "fca38214",
   "metadata": {},
   "outputs": [
    {
     "ename": "TypeError",
     "evalue": "func5() got multiple values for argument 'a'",
     "output_type": "error",
     "traceback": [
      "\u001b[1;31m---------------------------------------------------------------------------\u001b[0m",
      "\u001b[1;31mTypeError\u001b[0m                                 Traceback (most recent call last)",
      "\u001b[1;32m<ipython-input-7-9a1974fb4ef9>\u001b[0m in \u001b[0;36m<module>\u001b[1;34m\u001b[0m\n\u001b[1;32m----> 1\u001b[1;33m \u001b[0mfunc5\u001b[0m\u001b[1;33m(\u001b[0m\u001b[0mlist_\u001b[0m\u001b[1;33m,\u001b[0m \u001b[0ma\u001b[0m \u001b[1;33m=\u001b[0m \u001b[1;36m50\u001b[0m\u001b[1;33m)\u001b[0m\u001b[1;33m\u001b[0m\u001b[1;33m\u001b[0m\u001b[0m\n\u001b[0m",
      "\u001b[1;31mTypeError\u001b[0m: func5() got multiple values for argument 'a'"
     ]
    }
   ],
   "source": [
    "func5(list_, a = 50)"
   ]
  },
  {
   "cell_type": "code",
   "execution_count": 8,
   "id": "83bbb26e",
   "metadata": {},
   "outputs": [
    {
     "data": {
      "text/plain": [
       "[[1]]"
      ]
     },
     "execution_count": 8,
     "metadata": {},
     "output_type": "execute_result"
    }
   ],
   "source": [
    "func5([1])\n",
    "# = func5(a = [1], L = None)"
   ]
  },
  {
   "cell_type": "markdown",
   "id": "49409e64",
   "metadata": {},
   "source": [
    "## 3.4 튜플 매개변수를 이용한 가변인수 설정\n",
    "- *args를 가변인수로 사용할 수 있다."
   ]
  },
  {
   "cell_type": "code",
   "execution_count": 9,
   "id": "d82d998d",
   "metadata": {},
   "outputs": [],
   "source": [
    "def add(a, b):\n",
    "    return a + b"
   ]
  },
  {
   "cell_type": "code",
   "execution_count": 10,
   "id": "d1200c01",
   "metadata": {},
   "outputs": [],
   "source": [
    "def add(a, b, c):\n",
    "    return a + b + c"
   ]
  },
  {
   "cell_type": "code",
   "execution_count": 12,
   "id": "5dca8d97",
   "metadata": {},
   "outputs": [
    {
     "ename": "TypeError",
     "evalue": "add() missing 1 required positional argument: 'c'",
     "output_type": "error",
     "traceback": [
      "\u001b[1;31m---------------------------------------------------------------------------\u001b[0m",
      "\u001b[1;31mTypeError\u001b[0m                                 Traceback (most recent call last)",
      "\u001b[1;32m<ipython-input-12-b6e07d4ce302>\u001b[0m in \u001b[0;36m<module>\u001b[1;34m\u001b[0m\n\u001b[1;32m----> 1\u001b[1;33m \u001b[0madd\u001b[0m\u001b[1;33m(\u001b[0m\u001b[1;36m1\u001b[0m\u001b[1;33m,\u001b[0m \u001b[1;36m2\u001b[0m\u001b[1;33m)\u001b[0m \u001b[1;31m# 처음 만든 함수는 삭제되어 사용할 수 없다.\u001b[0m\u001b[1;33m\u001b[0m\u001b[1;33m\u001b[0m\u001b[0m\n\u001b[0m",
      "\u001b[1;31mTypeError\u001b[0m: add() missing 1 required positional argument: 'c'"
     ]
    }
   ],
   "source": [
    "add(1, 2) # 처음 만든 함수는 삭제되어 사용할 수 없다."
   ]
  },
  {
   "cell_type": "code",
   "execution_count": 15,
   "id": "e8f32cbc",
   "metadata": {},
   "outputs": [],
   "source": [
    "def add(*args): # *의 의미 : args가 튜플로 전달된다.\n",
    "    # print(args)\n",
    "    sum = 0\n",
    "    for num in args:\n",
    "        sum += num\n",
    "    return sum"
   ]
  },
  {
   "cell_type": "code",
   "execution_count": 16,
   "id": "e27fb750",
   "metadata": {},
   "outputs": [
    {
     "name": "stdout",
     "output_type": "stream",
     "text": [
      "3\n",
      "6\n"
     ]
    }
   ],
   "source": [
    "print(add(1, 2))\n",
    "print(add(1, 2, 3))"
   ]
  },
  {
   "cell_type": "code",
   "execution_count": 17,
   "id": "280e2c5a",
   "metadata": {},
   "outputs": [
    {
     "data": {
      "text/plain": [
       "'서울-부산'"
      ]
     },
     "execution_count": 17,
     "metadata": {},
     "output_type": "execute_result"
    }
   ],
   "source": [
    "# cf\n",
    "city = ('서울', '부산')\n",
    "'-'.join(city)"
   ]
  },
  {
   "cell_type": "code",
   "execution_count": 24,
   "id": "4986e11f",
   "metadata": {},
   "outputs": [],
   "source": [
    "def concat(*args, sep):\n",
    "    return sep.join(args)"
   ]
  },
  {
   "cell_type": "code",
   "execution_count": 25,
   "id": "07e9c455",
   "metadata": {},
   "outputs": [
    {
     "data": {
      "text/plain": [
       "'Java - R - C - Web - Python'"
      ]
     },
     "execution_count": 25,
     "metadata": {},
     "output_type": "execute_result"
    }
   ],
   "source": [
    "# 해결책 1\n",
    "concat('Java', 'R', 'C', 'Web', 'Python', sep = ' - ') # 직접 값을 설정"
   ]
  },
  {
   "cell_type": "code",
   "execution_count": 26,
   "id": "fd6cead2",
   "metadata": {},
   "outputs": [],
   "source": [
    "# 해결책 2\n",
    "def concat(sep, *args):\n",
    "    return sep.join(args)"
   ]
  },
  {
   "cell_type": "code",
   "execution_count": 27,
   "id": "b4a43ae4",
   "metadata": {},
   "outputs": [
    {
     "data": {
      "text/plain": [
       "'Java - Oracle - Python'"
      ]
     },
     "execution_count": 27,
     "metadata": {},
     "output_type": "execute_result"
    }
   ],
   "source": [
    "concat(' - ', 'Java', 'Oracle', 'Python') # 위치 인수 첫 자리에 값을 설정"
   ]
  },
  {
   "cell_type": "code",
   "execution_count": 34,
   "id": "7e9db1b8",
   "metadata": {},
   "outputs": [],
   "source": [
    "# 해결책 3\n",
    "def concat(*args, sep = ' / '): # 위치 인수 > 튜플 인수 > 키워드 인수\n",
    "    return sep.join(args)"
   ]
  },
  {
   "cell_type": "code",
   "execution_count": 35,
   "id": "1786c557",
   "metadata": {},
   "outputs": [
    {
     "data": {
      "text/plain": [
       "'Java / Oracle / Python'"
      ]
     },
     "execution_count": 35,
     "metadata": {},
     "output_type": "execute_result"
    }
   ],
   "source": [
    "concat('Java', 'Oracle', 'Python')"
   ]
  },
  {
   "cell_type": "code",
   "execution_count": 36,
   "id": "4cb9693a",
   "metadata": {},
   "outputs": [
    {
     "data": {
      "text/plain": [
       "'Java ~ Oracle ~ Python'"
      ]
     },
     "execution_count": 36,
     "metadata": {},
     "output_type": "execute_result"
    }
   ],
   "source": [
    "concat('Java', 'Oracle', 'Python', sep = ' ~ ')"
   ]
  },
  {
   "cell_type": "markdown",
   "id": "6ae550c9",
   "metadata": {},
   "source": [
    "## 3.5 딕셔너리 매개변수\n",
    "- 위치 인수, 튜플 인수, 키워드 인수 등은 모두 같이 사용될 수 있으나 순서에 유의\n",
    "- **kwargs : key word arguments"
   ]
  },
  {
   "cell_type": "code",
   "execution_count": 38,
   "id": "a6090f25",
   "metadata": {},
   "outputs": [
    {
     "name": "stdout",
     "output_type": "stream",
     "text": [
      "name : 홍길동\n",
      "age : 20\n",
      "address : 서울시\n"
     ]
    }
   ],
   "source": [
    "def func6(**args): # args가 딕셔너리(가변길이 인자)로 전달, 딕셔너리 포인터\n",
    "    for key, value in args.items():\n",
    "        print(\"{} : {}\".format(key, value))\n",
    "\n",
    "func6(name = '홍길동', age = 20, address = '서울시')"
   ]
  },
  {
   "cell_type": "code",
   "execution_count": 39,
   "id": "5d1e44d6",
   "metadata": {},
   "outputs": [],
   "source": [
    "# 위치 인수, 튜플 인수, 딕셔너리 인수\n",
    "def func7(a, *b, **c):\n",
    "    print('a =', a)\n",
    "    print('b =', b)\n",
    "    print('c =', c)"
   ]
  },
  {
   "cell_type": "code",
   "execution_count": 40,
   "id": "e1196262",
   "metadata": {},
   "outputs": [
    {
     "name": "stdout",
     "output_type": "stream",
     "text": [
      "a = 10\n",
      "b = (1, 2, 3, 4, 5, 6, 7, 8, 9, 0)\n",
      "c = {'name': 'kim', 'age': 30}\n"
     ]
    }
   ],
   "source": [
    "func7(10, 1,2,3,4,5,6,7,8,9,0, name = 'kim', age = 30)"
   ]
  },
  {
   "cell_type": "markdown",
   "id": "7ec77418",
   "metadata": {},
   "source": [
    "## 3.6 함수 정의 시 매개변수의 순서\n",
    "- 위치 인수 > 튜플 인수(＊) > 키워드 인수 > 딕셔너리 인수(＊＊)"
   ]
  },
  {
   "cell_type": "code",
   "execution_count": 42,
   "id": "bb77cb42",
   "metadata": {},
   "outputs": [],
   "source": [
    "def func (a, b, c, *d, e = 10, **f):\n",
    "    print('a =', a)\n",
    "    print('b =', b)\n",
    "    print('c =', c)\n",
    "    print('d =', d)\n",
    "    print('e =', e)\n",
    "    print('f =', f)"
   ]
  },
  {
   "cell_type": "code",
   "execution_count": 44,
   "id": "abc2db8c",
   "metadata": {},
   "outputs": [
    {
     "name": "stdout",
     "output_type": "stream",
     "text": [
      "a = 10\n",
      "b = 20\n",
      "c = 30\n",
      "d = (1, 2, 3, 4, 5, 6, 7)\n",
      "e = 100\n",
      "f = {'name': '홍길동', 'age': 30, 'address': '서울시'}\n"
     ]
    }
   ],
   "source": [
    "func(10,20,30, 1,2,3,4,5,6,7, e = 100, name = '홍길동', age = 30, address = '서울시')"
   ]
  },
  {
   "cell_type": "markdown",
   "id": "b6ba298f",
   "metadata": {},
   "source": [
    "## 3.7 인수의 언패킹\n"
   ]
  },
  {
   "cell_type": "markdown",
   "id": "eae637db",
   "metadata": {},
   "source": [
    "### 튜플 인수 언패킹\n",
    "- 함수 호출시 튜플 변수 앞에 *"
   ]
  },
  {
   "cell_type": "code",
   "execution_count": 45,
   "id": "10912ca5",
   "metadata": {},
   "outputs": [],
   "source": [
    "def add (*args):\n",
    "    sum = 0\n",
    "    for num in args:\n",
    "        sum += num\n",
    "    return sum"
   ]
  },
  {
   "cell_type": "code",
   "execution_count": 46,
   "id": "dcdd3001",
   "metadata": {},
   "outputs": [
    {
     "ename": "TypeError",
     "evalue": "unsupported operand type(s) for +=: 'int' and 'tuple'",
     "output_type": "error",
     "traceback": [
      "\u001b[1;31m---------------------------------------------------------------------------\u001b[0m",
      "\u001b[1;31mTypeError\u001b[0m                                 Traceback (most recent call last)",
      "\u001b[1;32m<ipython-input-46-076f07673af0>\u001b[0m in \u001b[0;36m<module>\u001b[1;34m\u001b[0m\n\u001b[0;32m      1\u001b[0m \u001b[0mnumbers\u001b[0m \u001b[1;33m=\u001b[0m \u001b[1;33m(\u001b[0m\u001b[1;36m1\u001b[0m\u001b[1;33m,\u001b[0m \u001b[1;36m2\u001b[0m\u001b[1;33m,\u001b[0m \u001b[1;36m3\u001b[0m\u001b[1;33m,\u001b[0m \u001b[1;36m4\u001b[0m\u001b[1;33m,\u001b[0m \u001b[1;36m5\u001b[0m\u001b[1;33m,\u001b[0m \u001b[1;36m6\u001b[0m\u001b[1;33m,\u001b[0m \u001b[1;36m7\u001b[0m\u001b[1;33m,\u001b[0m \u001b[1;36m8\u001b[0m\u001b[1;33m,\u001b[0m \u001b[1;36m9\u001b[0m\u001b[1;33m)\u001b[0m\u001b[1;33m\u001b[0m\u001b[1;33m\u001b[0m\u001b[0m\n\u001b[1;32m----> 2\u001b[1;33m \u001b[0madd\u001b[0m\u001b[1;33m(\u001b[0m\u001b[0mnumbers\u001b[0m\u001b[1;33m)\u001b[0m\u001b[1;33m\u001b[0m\u001b[1;33m\u001b[0m\u001b[0m\n\u001b[0m",
      "\u001b[1;32m<ipython-input-45-f5d91b8f139c>\u001b[0m in \u001b[0;36madd\u001b[1;34m(*args)\u001b[0m\n\u001b[0;32m      2\u001b[0m     \u001b[0msum\u001b[0m \u001b[1;33m=\u001b[0m \u001b[1;36m0\u001b[0m\u001b[1;33m\u001b[0m\u001b[1;33m\u001b[0m\u001b[0m\n\u001b[0;32m      3\u001b[0m     \u001b[1;32mfor\u001b[0m \u001b[0mnum\u001b[0m \u001b[1;32min\u001b[0m \u001b[0margs\u001b[0m\u001b[1;33m:\u001b[0m\u001b[1;33m\u001b[0m\u001b[1;33m\u001b[0m\u001b[0m\n\u001b[1;32m----> 4\u001b[1;33m         \u001b[0msum\u001b[0m \u001b[1;33m+=\u001b[0m \u001b[0mnum\u001b[0m\u001b[1;33m\u001b[0m\u001b[1;33m\u001b[0m\u001b[0m\n\u001b[0m\u001b[0;32m      5\u001b[0m     \u001b[1;32mreturn\u001b[0m \u001b[0msum\u001b[0m\u001b[1;33m\u001b[0m\u001b[1;33m\u001b[0m\u001b[0m\n",
      "\u001b[1;31mTypeError\u001b[0m: unsupported operand type(s) for +=: 'int' and 'tuple'"
     ]
    }
   ],
   "source": [
    "numbers = (1, 2, 3, 4, 5, 6, 7, 8, 9)\n",
    "add(numbers) # numbers는 한개의 튜플이기 때문에 에러 발생"
   ]
  },
  {
   "cell_type": "code",
   "execution_count": 48,
   "id": "2846424a",
   "metadata": {},
   "outputs": [
    {
     "data": {
      "text/plain": [
       "45"
      ]
     },
     "execution_count": 48,
     "metadata": {},
     "output_type": "execute_result"
    }
   ],
   "source": [
    "add(*numbers) # 튜플의 언패킹(unpacking)"
   ]
  },
  {
   "cell_type": "code",
   "execution_count": 4,
   "id": "2c2f56d2",
   "metadata": {},
   "outputs": [],
   "source": [
    "# 예제. 다음과 같은 결과를 return 하는 함수를 만들어보기\n",
    "# range(10) -> [0, 1, 2, 3, 4, 5, 6, 7, 8, 9, 10]\n",
    "# range(4, 10) -> [4, 5, 6, 7, 8, 9, 10]\n",
    "# range(4, 10, 2) -> [4, 6, 8, 10]\n",
    "\n",
    "def range_(*args):\n",
    "    result = [] # 빈 리스트 생성\n",
    "    length = len(args)\n",
    "    if length == 0:\n",
    "        raise Exception('매개변수는 하나 이상 필요')\n",
    "    elif length == 1: # 값 한개가 들어왔을 때\n",
    "        for i in range(args[0] + 1):\n",
    "            result.append(i)\n",
    "    elif length == 2:\n",
    "        for i in range(args[0], args[1] + 1):\n",
    "            result.append(i)\n",
    "    elif length == 3:\n",
    "        for i in range(args[0], args[1] + 1, args[2]):\n",
    "            result.append(i)\n",
    "    else:\n",
    "        print('매개변수는 세개 이하')\n",
    "        return ''\n",
    "    return result"
   ]
  },
  {
   "cell_type": "code",
   "execution_count": 5,
   "id": "5df1f8bf",
   "metadata": {},
   "outputs": [
    {
     "name": "stdout",
     "output_type": "stream",
     "text": [
      "매개변수는 하나 이상 필요\n"
     ]
    }
   ],
   "source": [
    "try:\n",
    "    range_()\n",
    "except Exception as e:\n",
    "    print(e)"
   ]
  },
  {
   "cell_type": "code",
   "execution_count": 6,
   "id": "d0c17a8b",
   "metadata": {},
   "outputs": [
    {
     "name": "stdout",
     "output_type": "stream",
     "text": [
      "[0, 1, 2, 3, 4, 5, 6, 7, 8, 9, 10]\n",
      "[4, 5, 6, 7, 8, 9, 10]\n",
      "[4, 6, 8, 10]\n",
      "매개변수는 세개 이하\n",
      "\n"
     ]
    }
   ],
   "source": [
    "print(range_(10))\n",
    "print(range_(4, 10))\n",
    "print(range_(4, 10, 2))\n",
    "print(range_(1, 1, 1, 1, 1))"
   ]
  },
  {
   "cell_type": "markdown",
   "id": "59632a2c",
   "metadata": {},
   "source": [
    "### 딕셔너리 인수 언패킹\n",
    "- 함수 호출시 딕셔너리 변수 앞에 **"
   ]
  },
  {
   "cell_type": "code",
   "execution_count": 7,
   "id": "175ea3dd",
   "metadata": {},
   "outputs": [
    {
     "name": "stdout",
     "output_type": "stream",
     "text": [
      "('height', 100)\n",
      "('width', 200)\n",
      "('shape', 'rect')\n"
     ]
    }
   ],
   "source": [
    "def func(**data):\n",
    "    for item in data.items():\n",
    "        print(item)\n",
    "\n",
    "func(height = 100, width = 200, shape = 'rect')"
   ]
  },
  {
   "cell_type": "code",
   "execution_count": 9,
   "id": "f5b77ce3",
   "metadata": {},
   "outputs": [
    {
     "name": "stdout",
     "output_type": "stream",
     "text": [
      "('height', 100)\n",
      "('width', 200)\n",
      "('shape', 'rect')\n"
     ]
    }
   ],
   "source": [
    "info = {'height':100, 'width':200, 'shape':'rect'}\n",
    "\n",
    "func(**info) # 딕셔너리 언패킹"
   ]
  },
  {
   "cell_type": "markdown",
   "id": "ebb18bf9",
   "metadata": {},
   "source": [
    "# ★ 4절. 람다 표현식\n",
    "- 작은 익명함수를 의미한다.\n",
    "- 실행할 문장을 한문장만 작성할 수 있다.\n",
    "- return 구문이 없이도 statement 결과를 반환한다.\n",
    "- ※ 리스트 컴프리헨션과 같이 참조해서 학습 필요\n",
    "- filter(), map()함수도 같이 참조해서 학습"
   ]
  },
  {
   "cell_type": "markdown",
   "id": "653f080d",
   "metadata": {},
   "source": [
    "## 4.1 한줄을 return하는 작은 익명함수"
   ]
  },
  {
   "cell_type": "code",
   "execution_count": 10,
   "id": "18c3ac2c",
   "metadata": {},
   "outputs": [
    {
     "data": {
      "text/plain": [
       "8"
      ]
     },
     "execution_count": 10,
     "metadata": {},
     "output_type": "execute_result"
    }
   ],
   "source": [
    "def add(a, b):\n",
    "    return a + b\n",
    "\n",
    "add(3, 5)"
   ]
  },
  {
   "cell_type": "code",
   "execution_count": 12,
   "id": "77aefe58",
   "metadata": {},
   "outputs": [
    {
     "name": "stdout",
     "output_type": "stream",
     "text": [
      "7\n",
      "<class 'function'> <class 'function'>\n"
     ]
    }
   ],
   "source": [
    "ad = add\n",
    "\n",
    "print(ad(2,5))\n",
    "print(type(ad), type(add))"
   ]
  },
  {
   "cell_type": "code",
   "execution_count": 16,
   "id": "d7074de8",
   "metadata": {},
   "outputs": [],
   "source": [
    "add = lambda a, b : a+b"
   ]
  },
  {
   "cell_type": "code",
   "execution_count": 15,
   "id": "95bfa9a9",
   "metadata": {},
   "outputs": [
    {
     "data": {
      "text/plain": [
       "function"
      ]
     },
     "execution_count": 15,
     "metadata": {},
     "output_type": "execute_result"
    }
   ],
   "source": [
    "type(add)"
   ]
  },
  {
   "cell_type": "code",
   "execution_count": 17,
   "id": "2fc2c9c7",
   "metadata": {},
   "outputs": [
    {
     "data": {
      "text/plain": [
       "12"
      ]
     },
     "execution_count": 17,
     "metadata": {},
     "output_type": "execute_result"
    }
   ],
   "source": [
    "(lambda a, b : a+b)(10, 2)"
   ]
  },
  {
   "cell_type": "markdown",
   "id": "1861ba12",
   "metadata": {},
   "source": [
    "## 4.2 함수의 매개변수(인수)에 람다식 사용"
   ]
  },
  {
   "cell_type": "code",
   "execution_count": 22,
   "id": "c460e7b2",
   "metadata": {},
   "outputs": [],
   "source": [
    "def map_template(func, L = []): # func을 리스트 요소 하나하나에 적용시킨다.\n",
    "    result = []\n",
    "    for item in L:\n",
    "        result.append(func(item)) # func이 적용된 item의 요소를 result에 로딩\n",
    "    return result"
   ]
  },
  {
   "cell_type": "code",
   "execution_count": 23,
   "id": "d5117cc7",
   "metadata": {},
   "outputs": [
    {
     "data": {
      "text/plain": [
       "[0, 2, 4, 6, 8, 10, 12, 14, 16, 18]"
      ]
     },
     "execution_count": 23,
     "metadata": {},
     "output_type": "execute_result"
    }
   ],
   "source": [
    "list_data = [0, 1, 2, 3, 4, 5, 6, 7, 8, 9]\n",
    "\n",
    "def x_2 (x):\n",
    "    return x*2\n",
    "\n",
    "map_template(x_2, list_data)"
   ]
  },
  {
   "cell_type": "code",
   "execution_count": 24,
   "id": "501cf446",
   "metadata": {},
   "outputs": [
    {
     "data": {
      "text/plain": [
       "[0, 2, 4, 6, 8, 10, 12, 14, 16, 18]"
      ]
     },
     "execution_count": 24,
     "metadata": {},
     "output_type": "execute_result"
    }
   ],
   "source": [
    "map_template(lambda x : x*2, list_data)"
   ]
  },
  {
   "cell_type": "code",
   "execution_count": 25,
   "id": "d8f61dc5",
   "metadata": {},
   "outputs": [
    {
     "data": {
      "text/plain": [
       "[0, 1, 4, 9, 16, 25, 36, 49, 64, 81]"
      ]
     },
     "execution_count": 25,
     "metadata": {},
     "output_type": "execute_result"
    }
   ],
   "source": [
    "# map() 함수\n",
    "\n",
    "list(map(lambda x : x**2, list_data))"
   ]
  },
  {
   "cell_type": "code",
   "execution_count": 26,
   "id": "ea626443",
   "metadata": {},
   "outputs": [
    {
     "data": {
      "text/plain": [
       "[0, 2, 4, 6, 8, 10, 12, 14, 16, 18]"
      ]
     },
     "execution_count": 26,
     "metadata": {},
     "output_type": "execute_result"
    }
   ],
   "source": [
    "# 리스트 컴프리헨션\n",
    "[ x*2 for x in list_data ]"
   ]
  },
  {
   "cell_type": "code",
   "execution_count": 28,
   "id": "b0e60afb",
   "metadata": {},
   "outputs": [],
   "source": [
    "def filter_tamplate(func, L = []):\n",
    "    result = []\n",
    "    for item in L:\n",
    "        if func(item):\n",
    "            result.append(item)\n",
    "    return result"
   ]
  },
  {
   "cell_type": "code",
   "execution_count": 29,
   "id": "35774fd4",
   "metadata": {},
   "outputs": [
    {
     "data": {
      "text/plain": [
       "[2, 4]"
      ]
     },
     "execution_count": 29,
     "metadata": {},
     "output_type": "execute_result"
    }
   ],
   "source": [
    "list_data = [1, 2, 3, 4, 5]\n",
    "\n",
    "def evenCheck(x):\n",
    "    return x%2 == 0\n",
    "#     if x%2 == 0:\n",
    "#         return True\n",
    "\n",
    "filter_tamplate(evenCheck, list_data)"
   ]
  },
  {
   "cell_type": "code",
   "execution_count": 31,
   "id": "3a990e4d",
   "metadata": {},
   "outputs": [
    {
     "data": {
      "text/plain": [
       "[2, 4]"
      ]
     },
     "execution_count": 31,
     "metadata": {},
     "output_type": "execute_result"
    }
   ],
   "source": [
    "filter_tamplate(lambda x : x%2==0, list_data)"
   ]
  },
  {
   "cell_type": "code",
   "execution_count": 32,
   "id": "0e34e085",
   "metadata": {},
   "outputs": [
    {
     "data": {
      "text/plain": [
       "[1, 3, 5]"
      ]
     },
     "execution_count": 32,
     "metadata": {},
     "output_type": "execute_result"
    }
   ],
   "source": [
    "# filter() 함수\n",
    "list(filter(lambda x : x%2 == 1, list_data))"
   ]
  },
  {
   "cell_type": "code",
   "execution_count": 34,
   "id": "9f012a5b",
   "metadata": {},
   "outputs": [
    {
     "data": {
      "text/plain": [
       "[1, 3, 5]"
      ]
     },
     "execution_count": 34,
     "metadata": {},
     "output_type": "execute_result"
    }
   ],
   "source": [
    "# 리스트 컴프리헨션\n",
    "[ x for x in list_data if x%2 == 1 ]"
   ]
  },
  {
   "cell_type": "code",
   "execution_count": 42,
   "id": "3bc6e8fb",
   "metadata": {},
   "outputs": [
    {
     "data": {
      "text/plain": [
       "[1, 2, 3, 100]"
      ]
     },
     "execution_count": 42,
     "metadata": {},
     "output_type": "execute_result"
    }
   ],
   "source": [
    "# 문제. 다음 리스트에서 정수만 추출하시오. (filter, 람다/리스트 컴프리헨션 사용)\n",
    "L = [1, 1.2, 1.5, 2, 3, 10.5, 100]\n",
    "\n",
    "list(filter(lambda x : x == round(x), L))"
   ]
  },
  {
   "cell_type": "code",
   "execution_count": 39,
   "id": "976fcac2",
   "metadata": {},
   "outputs": [
    {
     "data": {
      "text/plain": [
       "[1, 2, 3, 100]"
      ]
     },
     "execution_count": 39,
     "metadata": {},
     "output_type": "execute_result"
    }
   ],
   "source": [
    "[ x for x in L if x == round(x) ] # if가 참일 때만 x를 가져가라"
   ]
  },
  {
   "cell_type": "markdown",
   "id": "7886f70c",
   "metadata": {},
   "source": [
    "**람다 표현식은 함수가 실행할 문장이 한문장일 경우만 사용**<br>\n",
    "**람다 표현식이 가장 많이 사용되는 곳은 함수의 인수로 전달할 때나 함수를 return할 때**"
   ]
  },
  {
   "cell_type": "code",
   "execution_count": 45,
   "id": "d8091731",
   "metadata": {},
   "outputs": [
    {
     "data": {
      "text/plain": [
       "[0, 2, 3, 7, 10]"
      ]
     },
     "execution_count": 45,
     "metadata": {},
     "output_type": "execute_result"
    }
   ],
   "source": [
    "p = [10, 3, 7, 2, 0]\n",
    "p.sort()\n",
    "\n",
    "p"
   ]
  },
  {
   "cell_type": "code",
   "execution_count": 48,
   "id": "760b1daf",
   "metadata": {},
   "outputs": [
    {
     "data": {
      "text/plain": [
       "[(1, 'one'), (2, 'two'), (3, 'three'), (4, 'four')]"
      ]
     },
     "execution_count": 48,
     "metadata": {},
     "output_type": "execute_result"
    }
   ],
   "source": [
    "pairs = [(1, 'one'), (4, 'four'), (2, 'two'), (3, 'three')]\n",
    "pairs.sort() # 각 튜플의 첫번째 요소들만 비교해서 정렬한다.\n",
    "\n",
    "pairs"
   ]
  },
  {
   "cell_type": "code",
   "execution_count": 51,
   "id": "6317b0f6",
   "metadata": {},
   "outputs": [
    {
     "data": {
      "text/plain": [
       "[(4, 'four'), (1, 'one'), (3, 'three'), (2, 'two')]"
      ]
     },
     "execution_count": 51,
     "metadata": {},
     "output_type": "execute_result"
    }
   ],
   "source": [
    "pairs.sort(key = lambda pair : pair[1])\n",
    "\n",
    "pairs"
   ]
  },
  {
   "cell_type": "code",
   "execution_count": 54,
   "id": "1afa9a9a",
   "metadata": {},
   "outputs": [
    {
     "name": "stdout",
     "output_type": "stream",
     "text": [
      "100\n",
      "1000000\n"
     ]
    }
   ],
   "source": [
    "def apply(data, func = None):\n",
    "    if func is None:\n",
    "        return data\n",
    "    else:\n",
    "        return func(data)\n",
    "\n",
    "print(apply(100))\n",
    "print(apply(100, lambda x : x**3))"
   ]
  },
  {
   "cell_type": "markdown",
   "id": "14a8a805",
   "metadata": {},
   "source": [
    "## 4.3 return문에 람다 표현식 이용"
   ]
  },
  {
   "cell_type": "code",
   "execution_count": 3,
   "id": "8c4930fe",
   "metadata": {},
   "outputs": [],
   "source": [
    "# 함수를 return 하는 함수\n",
    "'''\n",
    "make_box( (2,) ) -> 길이가 2(2열)인 1차원 list를 만드는 함수\n",
    "    fun = make_box( (2,) )\n",
    "    fun(10) -> [10, 10]\n",
    "    \n",
    "make_box( [3,4] ) -> 3행 4열인 2차원 list를 만든 함수를 리턴\n",
    "    fun = make_box( (3, 4) )\n",
    "    fun(10) ->[[10, 10, 10, 10],\n",
    "               [10, 10, 10, 10],\n",
    "               [10, 10, 10, 10]]\n",
    "'''\n",
    "def make_box(shape):\n",
    "    def box(init_value):\n",
    "        if len(shape) == 1: # 1차원 리스트\n",
    "            return[init_value] * shape[0] # shape[0] = 열, return 문에 lambda식 이용\n",
    "        elif len(shape) == 2: # 2차원 리스트\n",
    "            return [ [init_value] * shape[1] ] * shape[0] # shape[1] = 행\n",
    "    return box"
   ]
  },
  {
   "cell_type": "code",
   "execution_count": 4,
   "id": "41523279",
   "metadata": {},
   "outputs": [
    {
     "data": {
      "text/plain": [
       "function"
      ]
     },
     "execution_count": 4,
     "metadata": {},
     "output_type": "execute_result"
    }
   ],
   "source": [
    "line = make_box( (5, ) )\n",
    "\n",
    "type(line)"
   ]
  },
  {
   "cell_type": "code",
   "execution_count": 5,
   "id": "58899ae2",
   "metadata": {},
   "outputs": [
    {
     "data": {
      "text/plain": [
       "[7, 7, 7, 7, 7]"
      ]
     },
     "execution_count": 5,
     "metadata": {},
     "output_type": "execute_result"
    }
   ],
   "source": [
    "line(7)"
   ]
  },
  {
   "cell_type": "code",
   "execution_count": 6,
   "id": "123b3dfc",
   "metadata": {},
   "outputs": [
    {
     "data": {
      "text/plain": [
       "function"
      ]
     },
     "execution_count": 6,
     "metadata": {},
     "output_type": "execute_result"
    }
   ],
   "source": [
    "box2d = make_box( [2, 3] )\n",
    "\n",
    "type(box2d)"
   ]
  },
  {
   "cell_type": "code",
   "execution_count": 7,
   "id": "9f9191a5",
   "metadata": {},
   "outputs": [
    {
     "data": {
      "text/plain": [
       "[[7, 7, 7], [7, 7, 7]]"
      ]
     },
     "execution_count": 7,
     "metadata": {},
     "output_type": "execute_result"
    }
   ],
   "source": [
    "box2d(7)"
   ]
  },
  {
   "cell_type": "code",
   "execution_count": 70,
   "id": "e058e1af",
   "metadata": {},
   "outputs": [
    {
     "name": "stdout",
     "output_type": "stream",
     "text": [
      "7\n"
     ]
    }
   ],
   "source": [
    "print(7)"
   ]
  },
  {
   "cell_type": "code",
   "execution_count": 8,
   "id": "3d7d64b1",
   "metadata": {},
   "outputs": [],
   "source": [
    "# Lambda Expression을 return\n",
    "def make_box1(shape):\n",
    "    if len(shape) == 1:\n",
    "        return lambda init_value : [init_value] * shape[0]\n",
    "    elif len(shape) == 2:\n",
    "        return lambda init_value : [ [init_value] * shape[1] ] * shape[0]"
   ]
  },
  {
   "cell_type": "code",
   "execution_count": 9,
   "id": "cdab4f88",
   "metadata": {},
   "outputs": [
    {
     "data": {
      "text/plain": [
       "function"
      ]
     },
     "execution_count": 9,
     "metadata": {},
     "output_type": "execute_result"
    }
   ],
   "source": [
    "line = make_box1([3])\n",
    "\n",
    "type(line)"
   ]
  },
  {
   "cell_type": "code",
   "execution_count": 10,
   "id": "2a915d53",
   "metadata": {},
   "outputs": [
    {
     "data": {
      "text/plain": [
       "[7, 7, 7]"
      ]
     },
     "execution_count": 10,
     "metadata": {},
     "output_type": "execute_result"
    }
   ],
   "source": [
    "line(7)"
   ]
  },
  {
   "cell_type": "code",
   "execution_count": 11,
   "id": "862f6c9e",
   "metadata": {},
   "outputs": [
    {
     "data": {
      "text/plain": [
       "function"
      ]
     },
     "execution_count": 11,
     "metadata": {},
     "output_type": "execute_result"
    }
   ],
   "source": [
    "box2d = make_box1([2, 3])\n",
    "\n",
    "type(box2d)"
   ]
  },
  {
   "cell_type": "code",
   "execution_count": 12,
   "id": "c98c73be",
   "metadata": {},
   "outputs": [
    {
     "data": {
      "text/plain": [
       "[[4, 4, 4], [4, 4, 4]]"
      ]
     },
     "execution_count": 12,
     "metadata": {},
     "output_type": "execute_result"
    }
   ],
   "source": [
    "box2d(4)"
   ]
  },
  {
   "cell_type": "code",
   "execution_count": 13,
   "id": "2d27a1c2",
   "metadata": {},
   "outputs": [
    {
     "data": {
      "text/plain": [
       "'홀수'"
      ]
     },
     "execution_count": 13,
     "metadata": {},
     "output_type": "execute_result"
    }
   ],
   "source": [
    "def even_odd(num):\n",
    "    if num%2 == 0:\n",
    "        return \"짝수\"\n",
    "    else:\n",
    "        return \"홀수\"\n",
    "\n",
    "even_odd(7)"
   ]
  },
  {
   "cell_type": "code",
   "execution_count": 14,
   "id": "a32ecdc9",
   "metadata": {},
   "outputs": [],
   "source": [
    "even_odd_chk = lambda num : \"짝수\" if num%2 == 0 else \"홀수\""
   ]
  },
  {
   "cell_type": "code",
   "execution_count": 15,
   "id": "8f66bc0b",
   "metadata": {},
   "outputs": [
    {
     "data": {
      "text/plain": [
       "'홀수'"
      ]
     },
     "execution_count": 15,
     "metadata": {},
     "output_type": "execute_result"
    }
   ],
   "source": [
    "even_odd_chk(7)"
   ]
  },
  {
   "cell_type": "code",
   "execution_count": 16,
   "id": "74caae34",
   "metadata": {},
   "outputs": [
    {
     "data": {
      "text/plain": [
       "'A'"
      ]
     },
     "execution_count": 16,
     "metadata": {},
     "output_type": "execute_result"
    }
   ],
   "source": [
    "def score_grade(score):\n",
    "    if 90 <= score <= 100:\n",
    "        return 'A'\n",
    "    elif 80 <= score < 90:\n",
    "        return 'B'\n",
    "    elif 70 <= score < 80:\n",
    "        return 'C'\n",
    "    elif 60 <= score < 70:\n",
    "        return 'D'\n",
    "    elif 0 <= score < 60:\n",
    "        return 'F'\n",
    "    else:\n",
    "        return \"유효하지 않는 점수\"\n",
    "    \n",
    "score_grade(95)"
   ]
  },
  {
   "cell_type": "code",
   "execution_count": 32,
   "id": "f71ac30a",
   "metadata": {},
   "outputs": [
    {
     "data": {
      "text/plain": [
       "'C'"
      ]
     },
     "execution_count": 32,
     "metadata": {},
     "output_type": "execute_result"
    }
   ],
   "source": [
    "score_chk = lambda score : 'A' if 90 <= score <= 100 else \\\n",
    "                                ('B' if 80 <= score < 90 else  \\\n",
    "                                ('C' if 70 <= score < 80 else  \\\n",
    "                                ('D' if 60 <= score < 70 else  \\\n",
    "                                ('F' if 0 <= score < 60 else '유효하지 않는 점수'))))\n",
    "\n",
    "score_chk(75)"
   ]
  },
  {
   "cell_type": "code",
   "execution_count": 19,
   "id": "19e6d1bc",
   "metadata": {},
   "outputs": [
    {
     "data": {
      "text/plain": [
       "'유급'"
      ]
     },
     "execution_count": 19,
     "metadata": {},
     "output_type": "execute_result"
    }
   ],
   "source": [
    "def levelChk(score):\n",
    "    if score >= 80:\n",
    "        return \"A등급\"\n",
    "    elif score >= 70:\n",
    "        return \"B등급\"\n",
    "    else:\n",
    "        return \"유급\"\n",
    "    \n",
    "levelChk(-5)"
   ]
  },
  {
   "cell_type": "code",
   "execution_count": 21,
   "id": "a6dc7183",
   "metadata": {},
   "outputs": [
    {
     "data": {
      "text/plain": [
       "'유급'"
      ]
     },
     "execution_count": 21,
     "metadata": {},
     "output_type": "execute_result"
    }
   ],
   "source": [
    "levelChk = lambda score : \"A등급\" if score >= 80 else('B등급' if score >= 70 else \"유급\")\n",
    "\n",
    "levelChk(9)"
   ]
  },
  {
   "cell_type": "markdown",
   "id": "ac8d989e",
   "metadata": {},
   "source": [
    "# 5절. 파이썬 내장함수\n",
    "- import하지 않고 바로 사용 가능한 함수\n",
    "- 키워드처럼 간주되므로 식별자로 사용하면 안된다."
   ]
  },
  {
   "cell_type": "code",
   "execution_count": 34,
   "id": "db3b451a",
   "metadata": {},
   "outputs": [
    {
     "data": {
      "text/plain": [
       "1"
      ]
     },
     "execution_count": 34,
     "metadata": {},
     "output_type": "execute_result"
    }
   ],
   "source": [
    "int(float(\"1.2\"))"
   ]
  },
  {
   "cell_type": "code",
   "execution_count": 36,
   "id": "32826129",
   "metadata": {},
   "outputs": [],
   "source": [
    "def abc(n):\n",
    "    L = []\n",
    "    for i in range(n):\n",
    "        L.append(i)\n",
    "    print(locals()) # 할당된 지역변수를 모두 출력\n",
    "    return L"
   ]
  },
  {
   "cell_type": "code",
   "execution_count": 37,
   "id": "77e76c2c",
   "metadata": {},
   "outputs": [
    {
     "name": "stdout",
     "output_type": "stream",
     "text": [
      "{'n': 5, 'L': [0, 1, 2, 3, 4], 'i': 4}\n"
     ]
    },
    {
     "data": {
      "text/plain": [
       "[0, 1, 2, 3, 4]"
      ]
     },
     "execution_count": 37,
     "metadata": {},
     "output_type": "execute_result"
    }
   ],
   "source": [
    "abc(5)"
   ]
  },
  {
   "cell_type": "code",
   "execution_count": 38,
   "id": "a746971f",
   "metadata": {},
   "outputs": [
    {
     "data": {
      "text/plain": [
       "True"
      ]
     },
     "execution_count": 38,
     "metadata": {},
     "output_type": "execute_result"
    }
   ],
   "source": [
    "isinstance(3.5, float)"
   ]
  },
  {
   "cell_type": "code",
   "execution_count": 40,
   "id": "02f5442f",
   "metadata": {},
   "outputs": [],
   "source": [
    "class Test:\n",
    "    def __init__(self, a, b): # self = 자바에서 this\n",
    "        self.a = a # 생성자 함수 초기화\n",
    "        self.b = b\n",
    "    \n",
    "    def print_info(self):\n",
    "        '객체의 정보를 출력'\n",
    "        print(\"a = {}, b = {}\".format(self.a, self.b))"
   ]
  },
  {
   "cell_type": "code",
   "execution_count": null,
   "id": "9dac08d9",
   "metadata": {},
   "outputs": [],
   "source": [
    "# 자바에서의 위와 같은 식\n",
    "# class Test{\n",
    "#     private int a;\n",
    "#     private int b;\n",
    "#    \n",
    "#     public Test(int a, int b){\n",
    "#         this.a = a;\n",
    "#         this.b = b;\n",
    "#     }\n",
    "#     \n",
    "#     public vodi print_info(){\n",
    "#         sysout(a, b)\n",
    "#     }\n",
    "# }"
   ]
  },
  {
   "cell_type": "code",
   "execution_count": 43,
   "id": "f4c87535",
   "metadata": {},
   "outputs": [
    {
     "data": {
      "text/plain": [
       "(10, 20)"
      ]
     },
     "execution_count": 43,
     "metadata": {},
     "output_type": "execute_result"
    }
   ],
   "source": [
    "test = Test(10, 20)\n",
    "test.a, test.b"
   ]
  },
  {
   "cell_type": "code",
   "execution_count": 44,
   "id": "a84cf5a8",
   "metadata": {},
   "outputs": [
    {
     "name": "stdout",
     "output_type": "stream",
     "text": [
      "a = 10, b = 20\n"
     ]
    }
   ],
   "source": [
    "test.print_info()"
   ]
  },
  {
   "cell_type": "code",
   "execution_count": 45,
   "id": "bb938ded",
   "metadata": {},
   "outputs": [
    {
     "data": {
      "text/plain": [
       "True"
      ]
     },
     "execution_count": 45,
     "metadata": {},
     "output_type": "execute_result"
    }
   ],
   "source": [
    "isinstance(test, Test) # test가 Test형인지 확인"
   ]
  },
  {
   "cell_type": "code",
   "execution_count": 46,
   "id": "cd7488dc",
   "metadata": {},
   "outputs": [
    {
     "data": {
      "text/plain": [
       "[0, 1, 2, 3]"
      ]
     },
     "execution_count": 46,
     "metadata": {},
     "output_type": "execute_result"
    }
   ],
   "source": [
    "list(range(4))"
   ]
  },
  {
   "cell_type": "code",
   "execution_count": 47,
   "id": "cbe0910b",
   "metadata": {},
   "outputs": [
    {
     "data": {
      "text/plain": [
       "[(0, 10), (1, 20), (2, 30)]"
      ]
     },
     "execution_count": 47,
     "metadata": {},
     "output_type": "execute_result"
    }
   ],
   "source": [
    "list(enumerate([10, 20, 30]))"
   ]
  },
  {
   "cell_type": "code",
   "execution_count": 48,
   "id": "61227e84",
   "metadata": {},
   "outputs": [
    {
     "data": {
      "text/plain": [
       "True"
      ]
     },
     "execution_count": 48,
     "metadata": {},
     "output_type": "execute_result"
    }
   ],
   "source": [
    "all([True, True])"
   ]
  },
  {
   "cell_type": "code",
   "execution_count": 49,
   "id": "b23837c6",
   "metadata": {},
   "outputs": [
    {
     "data": {
      "text/plain": [
       "False"
      ]
     },
     "execution_count": 49,
     "metadata": {},
     "output_type": "execute_result"
    }
   ],
   "source": [
    "all([True, True, True, False, '']) # all() : 모든 요소가 True인지 아닌지 여부 반환"
   ]
  },
  {
   "cell_type": "code",
   "execution_count": 50,
   "id": "ee32f8d7",
   "metadata": {},
   "outputs": [
    {
     "data": {
      "text/plain": [
       "True"
      ]
     },
     "execution_count": 50,
     "metadata": {},
     "output_type": "execute_result"
    }
   ],
   "source": [
    "any([True, True, True, False, '']) # any() : 하나의 요소라도 True인지 아닌지 여부 반환"
   ]
  },
  {
   "cell_type": "code",
   "execution_count": 51,
   "id": "e7ba345a",
   "metadata": {},
   "outputs": [
    {
     "data": {
      "text/plain": [
       "(4, 3.9)"
      ]
     },
     "execution_count": 51,
     "metadata": {},
     "output_type": "execute_result"
    }
   ],
   "source": [
    "round(3.86), round(3.86, 1)"
   ]
  },
  {
   "cell_type": "code",
   "execution_count": 52,
   "id": "bfc03825",
   "metadata": {},
   "outputs": [
    {
     "data": {
      "text/plain": [
       "(3.0, 4.0, 3.9)"
      ]
     },
     "execution_count": 52,
     "metadata": {},
     "output_type": "execute_result"
    }
   ],
   "source": [
    "import numpy\n",
    "numpy.floor(3.86), numpy.ceil(3.86), numpy.round(3.86, 1)"
   ]
  },
  {
   "cell_type": "markdown",
   "id": "38a6c6d4",
   "metadata": {},
   "source": [
    "# 연습문제"
   ]
  },
  {
   "cell_type": "code",
   "execution_count": 1,
   "id": "d5edc866",
   "metadata": {},
   "outputs": [
    {
     "data": {
      "text/plain": [
       "{'max': 6, 'min': 1}"
      ]
     },
     "execution_count": 1,
     "metadata": {},
     "output_type": "execute_result"
    }
   ],
   "source": [
    "# 1. 함수의 인자로 리스트를 받은 후, 리스트 내에 있는 모든 정수 값에 대한\n",
    "# 최댓값과 최솟값을 리턴하는 함수를 작성하세요.\n",
    "# def_get_max_min(data_list)\n",
    "def get_max_min(data_list):\n",
    "    return { 'max' : max(data_list), 'min' : min(data_list)}\n",
    "\n",
    "get_max_min([1,2,3,4,5,6])"
   ]
  },
  {
   "cell_type": "code",
   "execution_count": 8,
   "id": "a9d036e5",
   "metadata": {},
   "outputs": [
    {
     "data": {
      "text/plain": [
       "'표준'"
      ]
     },
     "execution_count": 8,
     "metadata": {},
     "output_type": "execute_result"
    }
   ],
   "source": [
    "# 2. 체중과 신장을 입력받은 후, 값에 따라 비만 등급 나누기\n",
    "def bmiChk(a, b):\n",
    "    bmi = a / ((b/100)**2)\n",
    "    if 30.0 <= bmi:\n",
    "        return \"고도비만\"\n",
    "    elif 25.0 <= bmi < 30.0:\n",
    "        return \"비만\"\n",
    "    elif 18.5 <= bmi < 25.0:\n",
    "        return \"표준\"\n",
    "    elif bmi < 18.5:\n",
    "        return \"마름\"\n",
    "    else:\n",
    "        return \"잘못된 정보\"\n",
    "\n",
    "bmiChk(76, 180)"
   ]
  },
  {
   "cell_type": "code",
   "execution_count": 9,
   "id": "8f64dd9a",
   "metadata": {},
   "outputs": [],
   "source": [
    "# 3. 직각삼각형의 밑변과 높이를 입력받아 면적과 둘레 구하기\n",
    "import math\n",
    "\n",
    "def get_triangle(width, height):\n",
    "    a = int((width*height) / 2) # 면적\n",
    "    b = int(math.sqrt(width**2 + height**2)) # 밑변2 + 높이2\n",
    "    c = int(width + height + b) # 둘레\n",
    "    return a, c"
   ]
  },
  {
   "cell_type": "code",
   "execution_count": 10,
   "id": "c6a1a888",
   "metadata": {},
   "outputs": [
    {
     "data": {
      "text/plain": [
       "(6, 12)"
      ]
     },
     "execution_count": 10,
     "metadata": {},
     "output_type": "execute_result"
    }
   ],
   "source": [
    "get_triangle(3, 4)"
   ]
  },
  {
   "cell_type": "code",
   "execution_count": 101,
   "id": "e6feef32",
   "metadata": {},
   "outputs": [
    {
     "data": {
      "text/plain": [
       "46"
      ]
     },
     "execution_count": 101,
     "metadata": {},
     "output_type": "execute_result"
    }
   ],
   "source": [
    "# 4. 시작과 끝 숫자가 주어질 때 시작부터 끝까지의 모든 정수의 합 구하기\n",
    "def mysum(a, b):\n",
    "    sum = 0\n",
    "    for i in range(a, b + 1):\n",
    "        sum += i\n",
    "    return sum\n",
    "\n",
    "mysum(10, 13)"
   ]
  },
  {
   "cell_type": "code",
   "execution_count": 192,
   "id": "b21fe45e",
   "metadata": {},
   "outputs": [],
   "source": [
    "# 5. 함수의 인자로 문자열을 포함하는 리스트가 입력될 때,\n",
    "# 각 문자열의 첫 세글자로만 구성된 리스트를 리턴하는 함수 만들기\n",
    "list = ['Seoul', 'Daegu', 'Kwangju', 'Jeju']\n",
    "\n",
    "def get_abbrs(list):\n",
    "    result = []\n",
    "    for data in list:\n",
    "        result.append(data[:3])\n",
    "    return result"
   ]
  },
  {
   "cell_type": "code",
   "execution_count": 193,
   "id": "a9837c65",
   "metadata": {
    "scrolled": true
   },
   "outputs": [
    {
     "data": {
      "text/plain": [
       "['Seo', 'Dae', 'Kwa', 'Jej']"
      ]
     },
     "execution_count": 193,
     "metadata": {},
     "output_type": "execute_result"
    }
   ],
   "source": [
    "get_abbrs(list)"
   ]
  },
  {
   "cell_type": "code",
   "execution_count": 111,
   "id": "837b8a45",
   "metadata": {},
   "outputs": [
    {
     "data": {
      "text/plain": [
       "8"
      ]
     },
     "execution_count": 111,
     "metadata": {},
     "output_type": "execute_result"
    }
   ],
   "source": [
    "# 6. 다음 코드를 람다함수형태로 수정하기\n",
    "# def f(x, y):\n",
    "#    return x ** y\n",
    "f = lambda x, y : x ** y\n",
    "\n",
    "f(2, 3)"
   ]
  },
  {
   "cell_type": "code",
   "execution_count": 16,
   "id": "f3ad56d2",
   "metadata": {},
   "outputs": [
    {
     "data": {
      "text/plain": [
       "[1, 4, 9, 16, 25]"
      ]
     },
     "execution_count": 16,
     "metadata": {},
     "output_type": "execute_result"
    }
   ],
   "source": [
    "# 7. ex = [1,2,3,4,5]를 [1,4,9,16,25]의 결과를 얻을 수 있도록\n",
    "# 람다함수와 map()함수를 사용하여 구현과 리스트 컴프리헨션으로 구현\n",
    "ex = [1, 2, 3, 4, 5]\n",
    "\n",
    "list(map(lambda x : x**2, ex))"
   ]
  },
  {
   "cell_type": "code",
   "execution_count": 17,
   "id": "da1d597b",
   "metadata": {},
   "outputs": [
    {
     "data": {
      "text/plain": [
       "[1, 4, 9, 16, 25]"
      ]
     },
     "execution_count": 17,
     "metadata": {},
     "output_type": "execute_result"
    }
   ],
   "source": [
    "[x**2 for x in ex]"
   ]
  },
  {
   "cell_type": "code",
   "execution_count": null,
   "id": "deddaa0e",
   "metadata": {},
   "outputs": [],
   "source": [
    "# 8. a = [1,2,3]\n",
    "#    print(*a)\n",
    "#    123\n",
    "#    print(a)\n",
    "#    [1,2,3]\n",
    "# 서로 다른 결과가 나오는 이유는?\n",
    "\n",
    "# 첫번짹 구문은 리스트 a가 언패킹되어 결과가 출력된다."
   ]
  },
  {
   "cell_type": "code",
   "execution_count": 116,
   "id": "a6b2438d",
   "metadata": {},
   "outputs": [
    {
     "data": {
      "text/plain": [
       "'2019-9-6'"
      ]
     },
     "execution_count": 116,
     "metadata": {},
     "output_type": "execute_result"
    }
   ],
   "source": [
    "# 9. 다음 코드의 실행 결과는?\n",
    "date_info = {'year':'2019', 'month':'9', 'day':'6'}\n",
    "result = \"{year}-{month}-{day}\".format(**date_info)\n",
    "\n",
    "result"
   ]
  },
  {
   "cell_type": "code",
   "execution_count": 32,
   "id": "568ec7a0",
   "metadata": {},
   "outputs": [
    {
     "data": {
      "text/plain": [
       "[3, 3, 2, 2]"
      ]
     },
     "execution_count": 32,
     "metadata": {},
     "output_type": "execute_result"
    }
   ],
   "source": [
    "# 10. n개의 벡터(리스트나 튜플 셋등)의 크기가 동일한지 확인하는\n",
    "# 함수 vector_size_check(*vector, _var)를 한줄의 코드(리스트 컴프리헨션)로 작성하시오\n",
    "def vector_size(*vector_var):\n",
    "    result = []\n",
    "    for vector in vector_var:\n",
    "        result.append(len(vector))\n",
    "    return result\n",
    "\n",
    "vector_size = lambda *vector_var : set([len(vector) for vector in vector_var])\n",
    "\n",
    "def vector_size(*vector_var): # 벡터의 인덱스의 길이\n",
    "    return [len(vector) for vector in vector_var]\n",
    "\n",
    "vector_size([1,2,3], (2,3,4), {2,'s'}, {'name':'kim', 'age':20})"
   ]
  },
  {
   "cell_type": "code",
   "execution_count": 25,
   "id": "fc077bc1",
   "metadata": {},
   "outputs": [
    {
     "data": {
      "text/plain": [
       "[6, 12, 18, 24]"
      ]
     },
     "execution_count": 25,
     "metadata": {},
     "output_type": "execute_result"
    }
   ],
   "source": [
    "# 11. 다음과 같은 결과를 얻기 위해 하나의 스칼라값을 리스트나 튜플, 셋등 벡터에 곱하는 코드를\n",
    "# 작성하시오.(단 입력되는 벡터의 크기는 일정하지 않음)\n",
    "# scalar_vector_product(5, [1,2,3,4])\n",
    "# [5, 10, 15, 20]\n",
    "def scalar_vector_product(a, L):\n",
    "    return [a * x for x in L]\n",
    "\n",
    "# scalar_vector_product = lambda a, L : [a * x for x in L]\n",
    "scalar_vector_product(6, [1, 2, 3, 4])"
   ]
  },
  {
   "cell_type": "code",
   "execution_count": 33,
   "id": "c5ffa176",
   "metadata": {},
   "outputs": [
    {
     "name": "stdout",
     "output_type": "stream",
     "text": [
      "9 0 2 "
     ]
    }
   ],
   "source": [
    "# 서술형 1. 다음은 위치(loc)에 따라 그룹(group)이 결정되는 사상(mapping)과\n",
    "# 정을 리스트로 구현한 프로그램입니다. 출력결과를 쓰세요.\n",
    "def mapping(addr):\n",
    "    table = [1,2,5,9,6,4,0,3,8,7]\n",
    "    return table[addr // SIZE]\n",
    "\n",
    "SIZE = 20\n",
    "group = [9,8,7,6,5,4,3,2,1,0]\n",
    "loc = [127, 64, 188]\n",
    "\n",
    "for a, b in enumerate(loc):\n",
    "    print(group[mapping(loc[a])], end = ' ')"
   ]
  },
  {
   "cell_type": "code",
   "execution_count": 35,
   "id": "317fe5a7",
   "metadata": {},
   "outputs": [
    {
     "name": "stdout",
     "output_type": "stream",
     "text": [
      "6 126 13"
     ]
    }
   ],
   "source": [
    "# 서술형 2. 오류가 발생하는 라인을 찾고 문제를 해결하기 위한 \n",
    "# 코드를 작성하며 실행결과를 쓰세요.\n",
    "a = 10 # 전역변수\n",
    "\n",
    "def sub():\n",
    "    global a\n",
    "    a += 1\n",
    "    print(a, end = '')\n",
    "    \n",
    "def func():\n",
    "    for i in range(2):\n",
    "        a = 5\n",
    "        a += 1 # a = 6\n",
    "        print(a, end = ' ')\n",
    "        sub()\n",
    "            \n",
    "a += 1\n",
    "func()\n",
    "\n",
    "# 오류가 발생하는 라인 : sub() 함수의 첫 줄(6번)\n",
    "# 문제 해결을 위한 코드 : global a\n",
    "# 코드 수정 후 실행결과 : 6 126 13"
   ]
  },
  {
   "cell_type": "code",
   "execution_count": 149,
   "id": "d099cc53",
   "metadata": {},
   "outputs": [
    {
     "name": "stdout",
     "output_type": "stream",
     "text": [
      "100\n"
     ]
    }
   ],
   "source": [
    "# 서술형 3. 다음 구문을 실행한 결과는?\n",
    "var = 100\n",
    "\n",
    "def func(var):\n",
    "    var = 200\n",
    "    func(var)\n",
    "\n",
    "print(var)"
   ]
  },
  {
   "cell_type": "code",
   "execution_count": 38,
   "id": "18add478",
   "metadata": {},
   "outputs": [
    {
     "data": {
      "text/plain": [
       "5"
      ]
     },
     "execution_count": 38,
     "metadata": {},
     "output_type": "execute_result"
    }
   ],
   "source": [
    "# 서술형 4. 다음 구문의 실행 결과는?\n",
    "def my_func(func, *args):\n",
    "    return func(*args)\n",
    "\n",
    "import numpy as np\n",
    "my_func(np.add, 2, 3)"
   ]
  },
  {
   "cell_type": "code",
   "execution_count": 151,
   "id": "5390492e",
   "metadata": {},
   "outputs": [
    {
     "data": {
      "text/plain": [
       "9"
      ]
     },
     "execution_count": 151,
     "metadata": {},
     "output_type": "execute_result"
    }
   ],
   "source": [
    "# 서술형 5. 다음 구문의 실행결과는?\n",
    "def my_func(func, *args):\n",
    "    return func(*args)\n",
    "\n",
    "my_func(lambda a, b : a**b, 3, 2)"
   ]
  },
  {
   "cell_type": "code",
   "execution_count": null,
   "id": "aa153cd6",
   "metadata": {},
   "outputs": [],
   "source": [
    "# 서술형 6. 파이썬 함수에 대한 설명 중 잘못된 것은?\n",
    "# 1번 - 중복 정의할 수 없다 (오버로딩 안된다)"
   ]
  },
  {
   "cell_type": "code",
   "execution_count": 152,
   "id": "0b09f6e2",
   "metadata": {},
   "outputs": [],
   "source": [
    "# 서술형 7. 다음과 같은 구문이 있을 경우 오류가 발생하는 함수 호출은?\n",
    "list_ = []\n",
    "\n",
    "def func(a, L = None):\n",
    "    if L is None:\n",
    "        L = []\n",
    "    L.append(a)\n",
    "    return L"
   ]
  },
  {
   "cell_type": "code",
   "execution_count": 157,
   "id": "500527a5",
   "metadata": {},
   "outputs": [],
   "source": [
    "# 4번 func([], a = 40)"
   ]
  },
  {
   "cell_type": "code",
   "execution_count": null,
   "id": "eb534882",
   "metadata": {},
   "outputs": [],
   "source": [
    "# 서술형 8. 다음 보기가 설명하는 것을 작성하기 위한 키워드를 쓰세요\n",
    "# - 작은 익명함수를 의미\n",
    "# - 함수가 실행할 문장이 한문장일 경우에 만들어 사용할 수 있다\n",
    "# - 다른 함수의 인ㅅ 또는 리턴 값에 사용할 수 있습니다.\n",
    "\n",
    "# 정답 : lambda"
   ]
  },
  {
   "cell_type": "code",
   "execution_count": 158,
   "id": "157e7331",
   "metadata": {},
   "outputs": [
    {
     "data": {
      "text/plain": [
       "[(4, 'a'), (3, 'b'), (2, 'c'), (1, 'd')]"
      ]
     },
     "execution_count": 158,
     "metadata": {},
     "output_type": "execute_result"
    }
   ],
   "source": [
    "# 서술형 9. 다음 코드의 실행 결과는?\n",
    "pairs = [(1, 'd'), (2, 'c'), (3, 'b'), (4, 'a')]\n",
    "pairs.sort(key = lambda pair : pair[1])\n",
    "\n",
    "pairs\n",
    "\n",
    "# 정답 2번 - 각 튜플의 1번 인덱스로 정렬하기 때문"
   ]
  }
 ],
 "metadata": {
  "kernelspec": {
   "display_name": "Python 3",
   "language": "python",
   "name": "python3"
  },
  "language_info": {
   "codemirror_mode": {
    "name": "ipython",
    "version": 3
   },
   "file_extension": ".py",
   "mimetype": "text/x-python",
   "name": "python",
   "nbconvert_exporter": "python",
   "pygments_lexer": "ipython3",
   "version": "3.8.8"
  },
  "toc": {
   "base_numbering": 1,
   "nav_menu": {},
   "number_sections": false,
   "sideBar": true,
   "skip_h1_title": false,
   "title_cell": "Table of Contents",
   "title_sidebar": "Contents",
   "toc_cell": false,
   "toc_position": {
    "height": "calc(100% - 180px)",
    "left": "10px",
    "top": "150px",
    "width": "295px"
   },
   "toc_section_display": true,
   "toc_window_display": true
  },
  "varInspector": {
   "cols": {
    "lenName": 16,
    "lenType": 16,
    "lenVar": 40
   },
   "kernels_config": {
    "python": {
     "delete_cmd_postfix": "",
     "delete_cmd_prefix": "del ",
     "library": "var_list.py",
     "varRefreshCmd": "print(var_dic_list())"
    },
    "r": {
     "delete_cmd_postfix": ") ",
     "delete_cmd_prefix": "rm(",
     "library": "var_list.r",
     "varRefreshCmd": "cat(var_dic_list()) "
    }
   },
   "position": {
    "height": "381px",
    "left": "1562px",
    "right": "20px",
    "top": "120px",
    "width": "350px"
   },
   "types_to_exclude": [
    "module",
    "function",
    "builtin_function_or_method",
    "instance",
    "_Feature"
   ],
   "window_display": false
  }
 },
 "nbformat": 4,
 "nbformat_minor": 5
}
