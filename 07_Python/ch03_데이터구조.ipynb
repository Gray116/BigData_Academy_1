{
 "cells": [
  {
   "cell_type": "markdown",
   "id": "20cae52a",
   "metadata": {},
   "source": [
    "<b><font color = \"red\" size = \"6\">ch03. 데이터구조</font></b>"
   ]
  },
  {
   "cell_type": "markdown",
   "id": "edf2db7a",
   "metadata": {},
   "source": [
    "# 1절. 리스트(List)\n",
    "- 리스트 : []\n",
    "- 튜플 : ()\n",
    "- 딕셔너리 : (=hashmap)\n",
    "- 셋 : (집합)"
   ]
  },
  {
   "cell_type": "markdown",
   "id": "77cd8029",
   "metadata": {},
   "source": [
    "## 1.1 리스트 만들기\n",
    "- []를 이용해서 만들며, 여러개 값을 하나의 변수에 저장/관리할 수 있다. list()함수 이용도 가능하다.\n",
    "- 인덱스 : 각 요소의 위치를 말한다. 0부터 시작, 맨 마지막 인덱스는 -1\n",
    "- 슬라이싱([from:to:by]) : 부분 데이터셋을 뽑아 내는 것. 인덱스를 이용해서 쓰기와 읽기도 지원 "
   ]
  },
  {
   "cell_type": "code",
   "execution_count": 1,
   "id": "a70aaa56",
   "metadata": {},
   "outputs": [
    {
     "data": {
      "text/plain": [
       "list"
      ]
     },
     "execution_count": 1,
     "metadata": {},
     "output_type": "execute_result"
    }
   ],
   "source": [
    "fruits = ['banana', 'apple', 'orange', 'grape']\n",
    "\n",
    "type(fruits)"
   ]
  },
  {
   "cell_type": "code",
   "execution_count": 2,
   "id": "d3be6a32",
   "metadata": {},
   "outputs": [
    {
     "name": "stdout",
     "output_type": "stream",
     "text": [
      "['banana', 'apple', 'orange', 'grape']\n"
     ]
    }
   ],
   "source": [
    "print(fruits)"
   ]
  },
  {
   "cell_type": "code",
   "execution_count": 3,
   "id": "2a3d9168",
   "metadata": {},
   "outputs": [
    {
     "name": "stdout",
     "output_type": "stream",
     "text": [
      "banana\n"
     ]
    }
   ],
   "source": [
    "print(fruits[0]) # 개별 출력"
   ]
  },
  {
   "cell_type": "code",
   "execution_count": 4,
   "id": "60ec37b4",
   "metadata": {},
   "outputs": [
    {
     "data": {
      "text/plain": [
       "range(0, 6)"
      ]
     },
     "execution_count": 4,
     "metadata": {},
     "output_type": "execute_result"
    }
   ],
   "source": [
    "# range(from, to, by)\n",
    "# from부터 to바로 앞까지 by씩 증가하며 생성된 리스트\n",
    "# from이 생략된 경우 0 / by가 생략된 경우 1\n",
    "range(6)"
   ]
  },
  {
   "cell_type": "code",
   "execution_count": 5,
   "id": "67b42490",
   "metadata": {},
   "outputs": [
    {
     "data": {
      "text/plain": [
       "[0, 1, 2, 3, 4, 5]"
      ]
     },
     "execution_count": 5,
     "metadata": {},
     "output_type": "execute_result"
    }
   ],
   "source": [
    "list(range(6))"
   ]
  },
  {
   "cell_type": "code",
   "execution_count": 6,
   "id": "9b798a49",
   "metadata": {},
   "outputs": [
    {
     "data": {
      "text/plain": [
       "[0, 2, 4, 6, 8]"
      ]
     },
     "execution_count": 6,
     "metadata": {},
     "output_type": "execute_result"
    }
   ],
   "source": [
    "list(range(0, 10, 2))"
   ]
  },
  {
   "cell_type": "code",
   "execution_count": 7,
   "id": "21d8a308",
   "metadata": {},
   "outputs": [
    {
     "data": {
      "text/plain": [
       "[10, 8, 6, 4, 2, 0]"
      ]
     },
     "execution_count": 7,
     "metadata": {},
     "output_type": "execute_result"
    }
   ],
   "source": [
    "list(range(10, -1, -2)) # 10부터 0까지 -2씩 감소한 리스트"
   ]
  },
  {
   "cell_type": "code",
   "execution_count": 9,
   "id": "d4f8f65a",
   "metadata": {},
   "outputs": [
    {
     "name": "stdout",
     "output_type": "stream",
     "text": [
      "1\t2\t3\t4\t"
     ]
    }
   ],
   "source": [
    "for i in [1, 2, 3, 4]:\n",
    "    print(i, end = '\\t')"
   ]
  },
  {
   "cell_type": "code",
   "execution_count": 10,
   "id": "026f1e3d",
   "metadata": {},
   "outputs": [
    {
     "name": "stdout",
     "output_type": "stream",
     "text": [
      "0\t1\t2\t3\t4\t"
     ]
    }
   ],
   "source": [
    "for i in range(5):\n",
    "    print(i, end = '\\t')"
   ]
  },
  {
   "cell_type": "code",
   "execution_count": 12,
   "id": "71d150c9",
   "metadata": {},
   "outputs": [
    {
     "name": "stdout",
     "output_type": "stream",
     "text": [
      "banana\n",
      "apple\n",
      "orange\n",
      "grape\n"
     ]
    }
   ],
   "source": [
    "for fruit in fruits: # fruit라는 리스트에 fruits의 객체를 담는다.\n",
    "    print(fruit)"
   ]
  },
  {
   "cell_type": "code",
   "execution_count": 14,
   "id": "45bf1ce0",
   "metadata": {},
   "outputs": [
    {
     "name": "stdout",
     "output_type": "stream",
     "text": [
      "0번째 과일은 banana.\n",
      "1번째 과일은 apple.\n",
      "2번째 과일은 orange.\n",
      "3번째 과일은 grape.\n"
     ]
    }
   ],
   "source": [
    "for i in range(len(fruits)):\n",
    "    print(\"{}번째 과일은 {}.\".format(i, fruits[i]))"
   ]
  },
  {
   "cell_type": "code",
   "execution_count": 15,
   "id": "3b847295",
   "metadata": {
    "scrolled": true
   },
   "outputs": [
    {
     "data": {
      "text/plain": [
       "[1, 2, '3', [1, 2]]"
      ]
     },
     "execution_count": 15,
     "metadata": {},
     "output_type": "execute_result"
    }
   ],
   "source": [
    "numbers = [1, 2, '3', [1, 2]]\n",
    "numbers"
   ]
  },
  {
   "cell_type": "markdown",
   "id": "2d3b7926",
   "metadata": {},
   "source": [
    "## 1.2 2차원 리스트"
   ]
  },
  {
   "cell_type": "code",
   "execution_count": 16,
   "id": "5d4399ca",
   "metadata": {},
   "outputs": [
    {
     "name": "stdout",
     "output_type": "stream",
     "text": [
      "[[1, 2, 3, 4, 5], [10, 20, 30, 40, 50], [1, 3, 5, 7, 9]]\n"
     ]
    }
   ],
   "source": [
    "# 2차원 리스트\n",
    "numbers_2d = [[1,2,3,4,5],\n",
    "              [10, 20, 30, 40, 50],\n",
    "              [1, 3, 5, 7, 9]]\n",
    "\n",
    "print(numbers_2d)"
   ]
  },
  {
   "cell_type": "code",
   "execution_count": 20,
   "id": "e6f45632",
   "metadata": {},
   "outputs": [
    {
     "data": {
      "text/plain": [
       "(3, 5)"
      ]
     },
     "execution_count": 20,
     "metadata": {},
     "output_type": "execute_result"
    }
   ],
   "source": [
    "len(numbers_2d), len(numbers_2d[0])"
   ]
  },
  {
   "cell_type": "code",
   "execution_count": 21,
   "id": "edd5854c",
   "metadata": {},
   "outputs": [
    {
     "data": {
      "text/plain": [
       "30"
      ]
     },
     "execution_count": 21,
     "metadata": {},
     "output_type": "execute_result"
    }
   ],
   "source": [
    "numbers_2d[1][2]"
   ]
  },
  {
   "cell_type": "code",
   "execution_count": 26,
   "id": "5ac50d38",
   "metadata": {},
   "outputs": [
    {
     "name": "stdout",
     "output_type": "stream",
     "text": [
      "1\t2\t3\t4\t5\t\n",
      "10\t20\t30\t40\t50\t\n",
      "1\t3\t5\t7\t9\t\n"
     ]
    }
   ],
   "source": [
    "for row in numbers_2d:\n",
    "    for data in row:\n",
    "        print(data, end = '\\t')\n",
    "    print() # 개행"
   ]
  },
  {
   "cell_type": "code",
   "execution_count": 27,
   "id": "54c6bdf5",
   "metadata": {},
   "outputs": [
    {
     "name": "stdout",
     "output_type": "stream",
     "text": [
      "0행 0열 : 1\t0행 1열 : 2\t0행 2열 : 3\t0행 3열 : 4\t0행 4열 : 5\t\n",
      "1행 0열 : 10\t1행 1열 : 20\t1행 2열 : 30\t1행 3열 : 40\t1행 4열 : 50\t\n",
      "2행 0열 : 1\t2행 1열 : 3\t2행 2열 : 5\t2행 3열 : 7\t2행 4열 : 9\t\n"
     ]
    }
   ],
   "source": [
    "for i in range(len(numbers_2d)): # 행의 수\n",
    "    for j in range(len(numbers_2d[i])): # 열의 수\n",
    "        print(\"{}행 {}열 : {}\".format(i, j, numbers_2d[i][j]), end = '\\t')\n",
    "    print() # 개행"
   ]
  },
  {
   "cell_type": "code",
   "execution_count": 28,
   "id": "be52079a",
   "metadata": {},
   "outputs": [],
   "source": [
    "numbers = [1, 2, 3, 4, 5]\n",
    "numbers_2d = [[100, 0, 0, 0, 0],\n",
    "              [90, 90, 90, 90, 90]]"
   ]
  },
  {
   "cell_type": "code",
   "execution_count": 30,
   "id": "cb6ab84e",
   "metadata": {},
   "outputs": [
    {
     "name": "stdout",
     "output_type": "stream",
     "text": [
      "5\n",
      "2\n"
     ]
    }
   ],
   "source": [
    "# 요소의 수\n",
    "print(len(numbers))\n",
    "print(len(numbers_2d))"
   ]
  },
  {
   "cell_type": "code",
   "execution_count": 32,
   "id": "6ab8f8d2",
   "metadata": {},
   "outputs": [
    {
     "data": {
      "text/plain": [
       "(1, 5)"
      ]
     },
     "execution_count": 32,
     "metadata": {},
     "output_type": "execute_result"
    }
   ],
   "source": [
    "# 최소값 min, 최대값 max\n",
    "min(numbers), max(numbers)"
   ]
  },
  {
   "cell_type": "code",
   "execution_count": 35,
   "id": "0b094adc",
   "metadata": {},
   "outputs": [
    {
     "data": {
      "text/plain": [
       "([100, 0, 0, 0, 0], [90, 90, 90, 90, 90])"
      ]
     },
     "execution_count": 35,
     "metadata": {},
     "output_type": "execute_result"
    }
   ],
   "source": [
    "# 2차원 리스트의 max() 함수는 부분리스트 중 첫 요소가 가장 큰 값으로 판단\n",
    "#                min() 함수는 부분리스트 중 첫 요소가 가장 작은 값으로 판단\n",
    "max(numbers_2d), min(numbers_2d)"
   ]
  },
  {
   "cell_type": "markdown",
   "id": "7190fd14",
   "metadata": {},
   "source": [
    "## 1.3 요소 추가"
   ]
  },
  {
   "cell_type": "code",
   "execution_count": null,
   "id": "8a7f6d2f",
   "metadata": {},
   "outputs": [],
   "source": [
    "# + : 두 리스트 연결\n",
    "# * : 리스트 * n = 리스트를 곱한 수만큼 반복\n",
    "# append() : 요소 맨 뒤에 추가\n",
    "# extend() : 리스트를 요소 별로 맨 뒤에 추가\n",
    "# insert(idx, 값) : idx번째 인덱스에 값을 추가"
   ]
  },
  {
   "cell_type": "code",
   "execution_count": 37,
   "id": "a5bbe830",
   "metadata": {},
   "outputs": [
    {
     "data": {
      "text/plain": [
       "[1, 2, 3, 4, 5, 1, 2, 3, 4, 5]"
      ]
     },
     "execution_count": 37,
     "metadata": {},
     "output_type": "execute_result"
    }
   ],
   "source": [
    "numbers = [1, 2, 3, 4, 5]\n",
    "numbers = numbers + numbers\n",
    "\n",
    "numbers"
   ]
  },
  {
   "cell_type": "code",
   "execution_count": 38,
   "id": "22641d87",
   "metadata": {},
   "outputs": [
    {
     "name": "stdout",
     "output_type": "stream",
     "text": [
      "[1, 2, 3, 1, 2, 3, 1, 2, 3]\n"
     ]
    }
   ],
   "source": [
    "numbers = [1, 2, 3]\n",
    "\n",
    "print(numbers * 3) # 3 * numbers를 해도 결과는 같다."
   ]
  },
  {
   "cell_type": "code",
   "execution_count": 39,
   "id": "95494c90",
   "metadata": {},
   "outputs": [
    {
     "data": {
      "text/plain": [
       "[1, 2, 3, 4]"
      ]
     },
     "execution_count": 39,
     "metadata": {},
     "output_type": "execute_result"
    }
   ],
   "source": [
    "numbers.append(4)\n",
    "\n",
    "numbers"
   ]
  },
  {
   "cell_type": "code",
   "execution_count": 40,
   "id": "9be397cc",
   "metadata": {},
   "outputs": [
    {
     "data": {
      "text/plain": [
       "[1, 2, 3, 4, [5, 6, 7]]"
      ]
     },
     "execution_count": 40,
     "metadata": {},
     "output_type": "execute_result"
    }
   ],
   "source": [
    "num = [5, 6, 7]\n",
    "numbers.append(num) # num자체를 통째로 추가한다.\n",
    "\n",
    "numbers"
   ]
  },
  {
   "cell_type": "code",
   "execution_count": 41,
   "id": "9b977fdb",
   "metadata": {},
   "outputs": [
    {
     "data": {
      "text/plain": [
       "[1, 2, 3, 4, [5, 6, 7], 5, 6, 7]"
      ]
     },
     "execution_count": 41,
     "metadata": {},
     "output_type": "execute_result"
    }
   ],
   "source": [
    "numbers.extend(num) # 리스트 요소 각각을 추가해준다.\n",
    "\n",
    "numbers"
   ]
  },
  {
   "cell_type": "code",
   "execution_count": 42,
   "id": "46ce6b17",
   "metadata": {},
   "outputs": [
    {
     "data": {
      "text/plain": [
       "[1, 2, 3, 4, [5, 6, 7], 5, 6, 7, 'H', 'e', 'l', 'l', 'o']"
      ]
     },
     "execution_count": 42,
     "metadata": {},
     "output_type": "execute_result"
    }
   ],
   "source": [
    "numbers.extend('Hello') #  = ['H', 'e', 'l', 'l', 'o'] 와 동일하다\n",
    "\n",
    "numbers"
   ]
  },
  {
   "cell_type": "code",
   "execution_count": 43,
   "id": "dacf2735",
   "metadata": {},
   "outputs": [
    {
     "data": {
      "text/plain": [
       "[1, 'xx', 2, 3, 4, 5]"
      ]
     },
     "execution_count": 43,
     "metadata": {},
     "output_type": "execute_result"
    }
   ],
   "source": [
    "numbers = [1, 2, 3, 4, 5]\n",
    "\n",
    "numbers.insert(1, 'xx') # 1번째 인덱스 자리에 xx를 넣고 원래의 인덱스는 하나 뒤로 밀린다.\n",
    "numbers"
   ]
  },
  {
   "cell_type": "markdown",
   "id": "344434e4",
   "metadata": {},
   "source": [
    "## 1.4 인덱싱"
   ]
  },
  {
   "cell_type": "markdown",
   "id": "525335fd",
   "metadata": {},
   "source": [
    "- [index] : 인덱스를 이용한 접근\n",
    "- index() : 해당 요소의 위치를 반환\n",
    "- count() : 리스트에서 데이터의 개수를 반환"
   ]
  },
  {
   "cell_type": "code",
   "execution_count": 45,
   "id": "e5d19e57",
   "metadata": {},
   "outputs": [],
   "source": [
    "numbers = [1, 2, 3, [1, 2, 3], 1, 2, 3]\n",
    "numbers_2d = [[1, 2, 3], [1, 2, 3]]"
   ]
  },
  {
   "cell_type": "code",
   "execution_count": 46,
   "id": "cce9ac82",
   "metadata": {},
   "outputs": [
    {
     "data": {
      "text/plain": [
       "2"
      ]
     },
     "execution_count": 46,
     "metadata": {},
     "output_type": "execute_result"
    }
   ],
   "source": [
    "numbers.count(2)"
   ]
  },
  {
   "cell_type": "code",
   "execution_count": 48,
   "id": "3c814019",
   "metadata": {},
   "outputs": [
    {
     "data": {
      "text/plain": [
       "2"
      ]
     },
     "execution_count": 48,
     "metadata": {},
     "output_type": "execute_result"
    }
   ],
   "source": [
    "numbers_2d.count([1,2,3])"
   ]
  },
  {
   "cell_type": "code",
   "execution_count": 49,
   "id": "cec97570",
   "metadata": {},
   "outputs": [
    {
     "data": {
      "text/plain": [
       "0"
      ]
     },
     "execution_count": 49,
     "metadata": {},
     "output_type": "execute_result"
    }
   ],
   "source": [
    "numbers.count(9)"
   ]
  },
  {
   "cell_type": "code",
   "execution_count": 50,
   "id": "0216dcc5",
   "metadata": {},
   "outputs": [
    {
     "data": {
      "text/plain": [
       "True"
      ]
     },
     "execution_count": 50,
     "metadata": {},
     "output_type": "execute_result"
    }
   ],
   "source": [
    "2 in numbers # 2개 numbers 요소에 있는지 여부"
   ]
  },
  {
   "cell_type": "code",
   "execution_count": 51,
   "id": "39a0c06c",
   "metadata": {},
   "outputs": [
    {
     "data": {
      "text/plain": [
       "1"
      ]
     },
     "execution_count": 51,
     "metadata": {},
     "output_type": "execute_result"
    }
   ],
   "source": [
    "numbers.index(2) # 처음(0 인덱스부터) 나오는 값 2의 인덱스번호"
   ]
  },
  {
   "cell_type": "code",
   "execution_count": 52,
   "id": "95dcf019",
   "metadata": {},
   "outputs": [
    {
     "data": {
      "text/plain": [
       "5"
      ]
     },
     "execution_count": 52,
     "metadata": {},
     "output_type": "execute_result"
    }
   ],
   "source": [
    "numbers.index(2, 3) # 3번 인덱스부터 시작하여 값 2가 나오는 인덱스번호"
   ]
  },
  {
   "cell_type": "code",
   "execution_count": 54,
   "id": "4c0f66a6",
   "metadata": {},
   "outputs": [
    {
     "name": "stdout",
     "output_type": "stream",
     "text": [
      "0 개\n"
     ]
    },
    {
     "ename": "ValueError",
     "evalue": "9 is not in list",
     "output_type": "error",
     "traceback": [
      "\u001b[1;31m---------------------------------------------------------------------------\u001b[0m",
      "\u001b[1;31mValueError\u001b[0m                                Traceback (most recent call last)",
      "\u001b[1;32m<ipython-input-54-971bcba1aa9a>\u001b[0m in \u001b[0;36m<module>\u001b[1;34m\u001b[0m\n\u001b[0;32m      1\u001b[0m \u001b[0mprint\u001b[0m\u001b[1;33m(\u001b[0m\u001b[0mnumbers\u001b[0m\u001b[1;33m.\u001b[0m\u001b[0mcount\u001b[0m\u001b[1;33m(\u001b[0m\u001b[1;36m9\u001b[0m\u001b[1;33m)\u001b[0m\u001b[1;33m,\u001b[0m \u001b[1;34m'개'\u001b[0m\u001b[1;33m)\u001b[0m\u001b[1;33m\u001b[0m\u001b[1;33m\u001b[0m\u001b[0m\n\u001b[1;32m----> 2\u001b[1;33m \u001b[0mprint\u001b[0m\u001b[1;33m(\u001b[0m\u001b[0mnumbers\u001b[0m\u001b[1;33m.\u001b[0m\u001b[0mindex\u001b[0m\u001b[1;33m(\u001b[0m\u001b[1;36m9\u001b[0m\u001b[1;33m)\u001b[0m\u001b[1;33m)\u001b[0m \u001b[1;31m# index 함수는 없는 값을 쓰면 에러 발생\u001b[0m\u001b[1;33m\u001b[0m\u001b[1;33m\u001b[0m\u001b[0m\n\u001b[0m",
      "\u001b[1;31mValueError\u001b[0m: 9 is not in list"
     ]
    }
   ],
   "source": [
    "print(numbers.count(9), '개')\n",
    "print(numbers.index(9)) # index 함수는 없는 값을 쓰면 에러 발생"
   ]
  },
  {
   "cell_type": "code",
   "execution_count": 55,
   "id": "ad96bcb4",
   "metadata": {},
   "outputs": [
    {
     "ename": "IndexError",
     "evalue": "list index out of range",
     "output_type": "error",
     "traceback": [
      "\u001b[1;31m---------------------------------------------------------------------------\u001b[0m",
      "\u001b[1;31mIndexError\u001b[0m                                Traceback (most recent call last)",
      "\u001b[1;32m<ipython-input-55-5b0e0b3944ef>\u001b[0m in \u001b[0;36m<module>\u001b[1;34m\u001b[0m\n\u001b[1;32m----> 1\u001b[1;33m \u001b[0mnumbers\u001b[0m\u001b[1;33m[\u001b[0m\u001b[1;36m20\u001b[0m\u001b[1;33m]\u001b[0m \u001b[1;31m# 인덱스의 범위를 벗어나면 에러 발생\u001b[0m\u001b[1;33m\u001b[0m\u001b[1;33m\u001b[0m\u001b[0m\n\u001b[0m",
      "\u001b[1;31mIndexError\u001b[0m: list index out of range"
     ]
    }
   ],
   "source": [
    "numbers[20] # 인덱스의 범위를 벗어나면 에러 발생"
   ]
  },
  {
   "cell_type": "markdown",
   "id": "555722ca",
   "metadata": {},
   "source": [
    "## 1.5 리스트 슬라이싱\n",
    "- 인덱스보다 많은 값을 써도 에러 발생안함\n",
    "- [ from : to : by ] : from부터 to바로 앞까지 by씩 증가하는 index 추출\n",
    "                       from, to, by 모두 생략 가능\n",
    "- 인덱스는 음수 가능"
   ]
  },
  {
   "cell_type": "code",
   "execution_count": 57,
   "id": "6c8cbf3f",
   "metadata": {},
   "outputs": [
    {
     "data": {
      "text/plain": [
       "[9, 7, 5, 3, 1]"
      ]
     },
     "execution_count": 57,
     "metadata": {},
     "output_type": "execute_result"
    }
   ],
   "source": [
    "numbers = [1, 3, 5, 7, 9]\n",
    "\n",
    "numbers[::-1]"
   ]
  },
  {
   "cell_type": "code",
   "execution_count": 41,
   "id": "08bd6630",
   "metadata": {},
   "outputs": [],
   "source": [
    "# ★★★ 리스트 컴프리헨션을 이용해서 list의 원하는 데이터에 엑세스 ★★★"
   ]
  },
  {
   "cell_type": "code",
   "execution_count": 60,
   "id": "8e0751de",
   "metadata": {},
   "outputs": [
    {
     "data": {
      "text/plain": [
       "[1, 3, 5, 9, 10, 12, 13, 18, 19, 20]"
      ]
     },
     "execution_count": 60,
     "metadata": {},
     "output_type": "execute_result"
    }
   ],
   "source": [
    "numbers = [1, 3, 5, 9, 10, 12, 13, 18, 19, 20]\n",
    "\n",
    "# for data in numbers:\n",
    "#     print(data, end = '\\t')\n",
    "\n",
    "[data for data in numbers]"
   ]
  },
  {
   "cell_type": "code",
   "execution_count": 62,
   "id": "ef16e4c6",
   "metadata": {},
   "outputs": [
    {
     "data": {
      "text/plain": [
       "[10, 12, 18, 20]"
      ]
     },
     "execution_count": 62,
     "metadata": {},
     "output_type": "execute_result"
    }
   ],
   "source": [
    "# 짝수 데이터만 가져오기\n",
    "# for data in numbers:\n",
    "#     if data%2 == 0:\n",
    "#         print(data, end = '\\t')\n",
    "\n",
    "[data for data in numbers if data%2 == 0]"
   ]
  },
  {
   "cell_type": "code",
   "execution_count": 64,
   "id": "25b85774",
   "metadata": {},
   "outputs": [
    {
     "data": {
      "text/plain": [
       "[10, 12, 13, 18, 19, 20]"
      ]
     },
     "execution_count": 64,
     "metadata": {},
     "output_type": "execute_result"
    }
   ],
   "source": [
    "# 10이상의 데이터만 가져오기\n",
    "\n",
    "[x for x in numbers if x>=10]"
   ]
  },
  {
   "cell_type": "code",
   "execution_count": 73,
   "id": "564425ac",
   "metadata": {},
   "outputs": [
    {
     "name": "stdout",
     "output_type": "stream",
     "text": [
      "orange\tapple\tmango\t"
     ]
    }
   ],
   "source": [
    "# 과일의 글씨가 5글자 이상인 과일 추출하기\n",
    "fruits = ['orange', 'apple', 'mango', 'kiwi']\n",
    "\n",
    "# for fruit in fruits:\n",
    "#     if len(fruit) >= 5:\n",
    "#         print(fruit, end = '\\t')\n",
    "        \n",
    "[fruit for fruit in fruits if len(fruit) >= 5]"
   ]
  },
  {
   "cell_type": "code",
   "execution_count": 74,
   "id": "f15daede",
   "metadata": {},
   "outputs": [
    {
     "data": {
      "text/plain": [
       "[6, 5, 5, 4]"
      ]
     },
     "execution_count": 74,
     "metadata": {},
     "output_type": "execute_result"
    }
   ],
   "source": [
    "# 과일의 글자 수를 추출하세요\n",
    "[len(fruit) for fruit in fruits]"
   ]
  },
  {
   "cell_type": "code",
   "execution_count": 79,
   "id": "d4b5fcc6",
   "metadata": {},
   "outputs": [
    {
     "name": "stdout",
     "output_type": "stream",
     "text": [
      "1\t4\t9\t16\t25\t"
     ]
    }
   ],
   "source": [
    "# 리스트 값의 제곱을 추출하라\n",
    "L = [1, 2, 3, 4, 5]\n",
    "\n",
    "# for l in L:\n",
    "#     print(l**2, end = '\\t')\n",
    "    \n",
    "[l**2 for l in L]"
   ]
  },
  {
   "cell_type": "code",
   "execution_count": 80,
   "id": "8376cacc",
   "metadata": {},
   "outputs": [
    {
     "name": "stdout",
     "output_type": "stream",
     "text": [
      "2\t4\t6\t8\t10\t"
     ]
    }
   ],
   "source": [
    "# 리스트 값의 두배를 추출하라\n",
    "\n",
    "# for l in L:\n",
    "#     print(l*2, end = '\\t')\n",
    "\n",
    "[l*2 for l in L]"
   ]
  },
  {
   "cell_type": "markdown",
   "id": "83773b5d",
   "metadata": {},
   "source": [
    "## 1.6 요소 수정하기"
   ]
  },
  {
   "cell_type": "code",
   "execution_count": 81,
   "id": "dd1a0a2d",
   "metadata": {},
   "outputs": [
    {
     "data": {
      "text/plain": [
       "[0, 1, 2222, 3, 4, 5, 6, 7, 8, 9]"
      ]
     },
     "execution_count": 81,
     "metadata": {},
     "output_type": "execute_result"
    }
   ],
   "source": [
    "numbers = [0, 1, 2, 3, 4, 5, 6, 7, 8, 9]\n",
    "numbers[2] = 2222\n",
    "\n",
    "numbers"
   ]
  },
  {
   "cell_type": "code",
   "execution_count": 82,
   "id": "9ff8ceef",
   "metadata": {},
   "outputs": [
    {
     "data": {
      "text/plain": [
       "[1111, 1111, 1111, 1111, 1111, 1111, 1111, 2222, 3, 4, 5, 6, 7, 8, 9]"
      ]
     },
     "execution_count": 82,
     "metadata": {},
     "output_type": "execute_result"
    }
   ],
   "source": [
    "# 부분 리스트를 통째로 바꿈 (by없이 슬라이싱일 경우)\n",
    "numbers[0:2] = [1111, 1111, 1111, 1111, 1111, 1111, 1111] # 0과 1번째 인덱스가 없어지고 통째로 삽입\n",
    "\n",
    "numbers"
   ]
  },
  {
   "cell_type": "code",
   "execution_count": 85,
   "id": "5d16daf6",
   "metadata": {},
   "outputs": [
    {
     "name": "stdout",
     "output_type": "stream",
     "text": [
      "수정 전 : [0, 0, 0, 0, 0, 0, 0, 0, 0, 0]\n",
      "수정 후 : [11, 0, 11, 0, 11, 0, 11, 0, 11, 0]\n"
     ]
    }
   ],
   "source": [
    "# 슬라이싱에서 by가 포함된 경우, 바꾸려는 값의 갯수가 같아야 한다.\n",
    "\n",
    "numbers = [0] * 10\n",
    "print(\"수정 전 :\", numbers)\n",
    "\n",
    "numbers[::2] = [11, 11, 11, 11, 11] # 0번, 2번, 4번, ..., 8번 인덱스\n",
    "print(\"수정 후 :\", numbers)"
   ]
  },
  {
   "cell_type": "markdown",
   "id": "19a40ce5",
   "metadata": {},
   "source": [
    "## 1.7 삭제하기\n",
    "- pop() : 가장 마지막 인덱스의 요소가 반환되고 삭제된다.\n",
    "- pop(n) : n번째 인덱스의 요소가 반환되고 그 인덱스 요소가 삭제된다.\n",
    "- remove(data) : 해당 data가 삭제된다.\n",
    "- del 리스트변수[n] : n번째 인덱스 요소가 삭제된다."
   ]
  },
  {
   "cell_type": "code",
   "execution_count": 90,
   "id": "504bce7e",
   "metadata": {},
   "outputs": [
    {
     "name": "stdout",
     "output_type": "stream",
     "text": [
      "[0, 1, 2, 3, 4, 5]\n",
      "1\n",
      "[0, 2, 3, 4, 5]\n"
     ]
    }
   ],
   "source": [
    "numbers = [0, 1, 2, 3, 4, 5]\n",
    "\n",
    "print(numbers)\n",
    "print(numbers.pop(1)) # pop된 마지막 인덱스의 요소가 출력됨\n",
    "print(numbers)"
   ]
  },
  {
   "cell_type": "code",
   "execution_count": 96,
   "id": "ab8ae13b",
   "metadata": {},
   "outputs": [
    {
     "data": {
      "text/plain": [
       "[0, 2, 4, 5]"
      ]
     },
     "execution_count": 96,
     "metadata": {},
     "output_type": "execute_result"
    }
   ],
   "source": [
    "print(numbers.remove(3)) # remove()는 반환 값이 없고 바로 지워진다.\n",
    "numbers"
   ]
  },
  {
   "cell_type": "code",
   "execution_count": 97,
   "id": "f08be4cb",
   "metadata": {},
   "outputs": [],
   "source": [
    "del numbers"
   ]
  },
  {
   "cell_type": "markdown",
   "id": "890c6f4d",
   "metadata": {},
   "source": [
    "## 1.8 정렬하기"
   ]
  },
  {
   "cell_type": "code",
   "execution_count": 99,
   "id": "e3830962",
   "metadata": {},
   "outputs": [
    {
     "data": {
      "text/plain": [
       "[2, 5, 6, 9, 10]"
      ]
     },
     "execution_count": 99,
     "metadata": {},
     "output_type": "execute_result"
    }
   ],
   "source": [
    "numbers = [9, 5, 2, 6, 10]\n",
    "\n",
    "numbers.sort() # numbers 자체가 오름차순(default) 정렬한 결과로 바뀌어 있음.\n",
    "numbers"
   ]
  },
  {
   "cell_type": "code",
   "execution_count": 102,
   "id": "c3cc9127",
   "metadata": {},
   "outputs": [
    {
     "data": {
      "text/plain": [
       "[10, 9, 6, 5, 2]"
      ]
     },
     "execution_count": 102,
     "metadata": {},
     "output_type": "execute_result"
    }
   ],
   "source": [
    "numbers = numbers[::-1]\n",
    "numbers"
   ]
  },
  {
   "cell_type": "code",
   "execution_count": 103,
   "id": "398543a1",
   "metadata": {},
   "outputs": [],
   "source": [
    "numbers.sort(reverse = True) # 내림차순 정렬."
   ]
  },
  {
   "cell_type": "code",
   "execution_count": 106,
   "id": "33205edf",
   "metadata": {},
   "outputs": [
    {
     "data": {
      "text/plain": [
       "[2, 5, 6, 9, 10]"
      ]
     },
     "execution_count": 106,
     "metadata": {},
     "output_type": "execute_result"
    }
   ],
   "source": [
    "numbers.reverse() # 리스트를 역순으로 변경\n",
    "numbers"
   ]
  },
  {
   "cell_type": "markdown",
   "id": "855004a7",
   "metadata": {},
   "source": [
    "## 1.9 복제하기"
   ]
  },
  {
   "cell_type": "code",
   "execution_count": 109,
   "id": "045b255d",
   "metadata": {},
   "outputs": [
    {
     "name": "stdout",
     "output_type": "stream",
     "text": [
      "정렬 전 데이터 : [2, 4, 6, 7, 10]\n",
      "정렬 후 데이터 : [2, 4, 6, 7, 10]\n",
      "new_numbers 주소 : 2115699465152\n",
      "numbers 주소 : 2115699465152\n"
     ]
    }
   ],
   "source": [
    "numbers = [6, 2, 7, 4, 10]\n",
    "new_numbers = numbers # numbers의 주소가 저장되어진다.\n",
    "\n",
    "numbers.sort()\n",
    "\n",
    "print(\"정렬 전 데이터 :\", new_numbers)\n",
    "print(\"정렬 후 데이터 :\", numbers)\n",
    "\n",
    "print(\"new_numbers 주소 :\", id(new_numbers))\n",
    "print(\"numbers 주소 :\", id(numbers))"
   ]
  },
  {
   "cell_type": "code",
   "execution_count": 110,
   "id": "3e9c4fae",
   "metadata": {},
   "outputs": [
    {
     "name": "stdout",
     "output_type": "stream",
     "text": [
      "정렬 전 데이터 : [6, 2, 7, 4, 10]\n",
      "정렬 후 데이터 : [2, 4, 6, 7, 10]\n",
      "new_numbers 주소 : 2115696294848\n",
      "numbers 주소 : 2115698732224\n"
     ]
    }
   ],
   "source": [
    "# 복제\n",
    "numbers = [6, 2, 7, 4, 10]\n",
    "new_numbers = numbers.copy() # numbers를 복제\n",
    "\n",
    "numbers.sort()\n",
    "\n",
    "print(\"정렬 전 데이터 :\", new_numbers)\n",
    "print(\"정렬 후 데이터 :\", numbers)\n",
    "\n",
    "print(\"new_numbers 주소 :\", id(new_numbers))\n",
    "print(\"numbers 주소 :\", id(numbers))"
   ]
  },
  {
   "cell_type": "code",
   "execution_count": 113,
   "id": "6ff63c27",
   "metadata": {},
   "outputs": [
    {
     "name": "stdout",
     "output_type": "stream",
     "text": [
      "원래 데이터 : 서울 인천 대구 인천\n",
      "정렬 후 데이터 : 대구 서울 인천 인천\n"
     ]
    }
   ],
   "source": [
    "city = ['서울','인천','대구','인천']\n",
    "temp = city.copy()\n",
    "\n",
    "city.sort()\n",
    "\n",
    "print('원래 데이터 :', ' '.join(temp))\n",
    "print('정렬 후 데이터 :', ' '.join(city))"
   ]
  },
  {
   "cell_type": "markdown",
   "id": "7a7b55cc",
   "metadata": {},
   "source": [
    "# 2절. 튜플(Tuple)\n",
    "- 리스트와 유사하지만 읽기전용이다.\n",
    "- 수정이 필요없는 데이터 타입에서 사용된다.\n",
    "- 데이터 추가, 수정, 삭제 전부 불가하다.\n",
    "- 제공되는 함수도 많지 않다.\n",
    "- () 이용해서 생성한다."
   ]
  },
  {
   "cell_type": "code",
   "execution_count": 118,
   "id": "03e5bbfc",
   "metadata": {},
   "outputs": [
    {
     "name": "stdout",
     "output_type": "stream",
     "text": [
      "<class 'tuple'>\n",
      "('서울', '부산', '인천')\n"
     ]
    }
   ],
   "source": [
    "city = ('서울', '부산', '인천')\n",
    "print(type(city))\n",
    "print(city)"
   ]
  },
  {
   "cell_type": "code",
   "execution_count": 115,
   "id": "9bbbf88f",
   "metadata": {},
   "outputs": [
    {
     "data": {
      "text/plain": [
       "'서울-부산-인천'"
      ]
     },
     "execution_count": 115,
     "metadata": {},
     "output_type": "execute_result"
    }
   ],
   "source": [
    "'-'.join(city)"
   ]
  },
  {
   "cell_type": "code",
   "execution_count": 116,
   "id": "7d9e76e7",
   "metadata": {},
   "outputs": [
    {
     "name": "stdout",
     "output_type": "stream",
     "text": [
      "<class 'list'>\n",
      "['서울']\n"
     ]
    }
   ],
   "source": [
    "I = ['서울'] # 요소가 하나있는 리스트\n",
    "print(type(I))\n",
    "print(I)"
   ]
  },
  {
   "cell_type": "code",
   "execution_count": 117,
   "id": "4838034b",
   "metadata": {},
   "outputs": [
    {
     "name": "stdout",
     "output_type": "stream",
     "text": [
      "<class 'str'>\n",
      "서울\n"
     ]
    }
   ],
   "source": [
    "city = ('서울') # 요소가 하나있는 튜플? (x)\n",
    "print(type(city))\n",
    "print(city)"
   ]
  },
  {
   "cell_type": "code",
   "execution_count": 119,
   "id": "44aab720",
   "metadata": {},
   "outputs": [
    {
     "name": "stdout",
     "output_type": "stream",
     "text": [
      "<class 'tuple'>\n",
      "('서울',)\n"
     ]
    }
   ],
   "source": [
    "city = ('서울',) # 요소가 하나있는 튜플? (o)\n",
    "print(type(city))\n",
    "print(city)"
   ]
  },
  {
   "cell_type": "code",
   "execution_count": 122,
   "id": "d8edef44",
   "metadata": {},
   "outputs": [
    {
     "name": "stdout",
     "output_type": "stream",
     "text": [
      "<class 'tuple'>\n",
      "(1, 2, 3)\n"
     ]
    }
   ],
   "source": [
    "numbers = 1, 2, 3 # 여러개 값을 나열할 때는 자동적으로 튜플처리\n",
    "print(type(numbers))\n",
    "print(numbers)"
   ]
  },
  {
   "cell_type": "code",
   "execution_count": 123,
   "id": "ad8ea2f5",
   "metadata": {},
   "outputs": [
    {
     "ename": "AttributeError",
     "evalue": "'tuple' object has no attribute 'remove'",
     "output_type": "error",
     "traceback": [
      "\u001b[1;31m---------------------------------------------------------------------------\u001b[0m",
      "\u001b[1;31mAttributeError\u001b[0m                            Traceback (most recent call last)",
      "\u001b[1;32m<ipython-input-123-49773f07e78c>\u001b[0m in \u001b[0;36m<module>\u001b[1;34m\u001b[0m\n\u001b[1;32m----> 1\u001b[1;33m \u001b[0mnumbers\u001b[0m\u001b[1;33m.\u001b[0m\u001b[0mremove\u001b[0m\u001b[1;33m(\u001b[0m\u001b[1;36m4\u001b[0m\u001b[1;33m)\u001b[0m \u001b[1;31m# 수정하기 위한 함수들은 모두 적용 불가\u001b[0m\u001b[1;33m\u001b[0m\u001b[1;33m\u001b[0m\u001b[0m\n\u001b[0m",
      "\u001b[1;31mAttributeError\u001b[0m: 'tuple' object has no attribute 'remove'"
     ]
    }
   ],
   "source": [
    "numbers.remove(4) # 수정하기 위한 함수들은 모두 적용 불가"
   ]
  },
  {
   "cell_type": "code",
   "execution_count": 125,
   "id": "8dca0a1b",
   "metadata": {},
   "outputs": [
    {
     "data": {
      "text/plain": [
       "(3, 1, 3)"
      ]
     },
     "execution_count": 125,
     "metadata": {},
     "output_type": "execute_result"
    }
   ],
   "source": [
    "len(numbers), min(numbers), max(numbers)"
   ]
  },
  {
   "cell_type": "code",
   "execution_count": 126,
   "id": "bad7d092",
   "metadata": {},
   "outputs": [
    {
     "data": {
      "text/plain": [
       "1"
      ]
     },
     "execution_count": 126,
     "metadata": {},
     "output_type": "execute_result"
    }
   ],
   "source": [
    "numbers.count(2)"
   ]
  },
  {
   "cell_type": "code",
   "execution_count": 127,
   "id": "17da2321",
   "metadata": {},
   "outputs": [
    {
     "data": {
      "text/plain": [
       "(2, 3, 4)"
      ]
     },
     "execution_count": 127,
     "metadata": {},
     "output_type": "execute_result"
    }
   ],
   "source": [
    "data = (0, 1, 2, 3, 4, (5,6))\n",
    "\n",
    "data[2:5]"
   ]
  },
  {
   "cell_type": "code",
   "execution_count": 128,
   "id": "101dbbb9",
   "metadata": {},
   "outputs": [
    {
     "data": {
      "text/plain": [
       "2"
      ]
     },
     "execution_count": 128,
     "metadata": {},
     "output_type": "execute_result"
    }
   ],
   "source": [
    "data.index(2) # 2가 있는 곳의 index"
   ]
  },
  {
   "cell_type": "code",
   "execution_count": 129,
   "id": "8d56b219",
   "metadata": {},
   "outputs": [
    {
     "ename": "ValueError",
     "evalue": "tuple.index(x): x not in tuple",
     "output_type": "error",
     "traceback": [
      "\u001b[1;31m---------------------------------------------------------------------------\u001b[0m",
      "\u001b[1;31mValueError\u001b[0m                                Traceback (most recent call last)",
      "\u001b[1;32m<ipython-input-129-1523710bd236>\u001b[0m in \u001b[0;36m<module>\u001b[1;34m\u001b[0m\n\u001b[1;32m----> 1\u001b[1;33m \u001b[0mdata\u001b[0m\u001b[1;33m.\u001b[0m\u001b[0mindex\u001b[0m\u001b[1;33m(\u001b[0m\u001b[1;36m9\u001b[0m\u001b[1;33m)\u001b[0m\u001b[1;33m\u001b[0m\u001b[1;33m\u001b[0m\u001b[0m\n\u001b[0m",
      "\u001b[1;31mValueError\u001b[0m: tuple.index(x): x not in tuple"
     ]
    }
   ],
   "source": [
    "data.index(9)"
   ]
  },
  {
   "cell_type": "code",
   "execution_count": 130,
   "id": "18e140ae",
   "metadata": {},
   "outputs": [
    {
     "data": {
      "text/plain": [
       "(0, 1, 2, 3, 0, 1, 2, 3, 0, 1, 2, 3)"
      ]
     },
     "execution_count": 130,
     "metadata": {},
     "output_type": "execute_result"
    }
   ],
   "source": [
    "data = (0, 1, 2, 3)\n",
    "data * 3"
   ]
  },
  {
   "cell_type": "markdown",
   "id": "19cf6471",
   "metadata": {},
   "source": [
    "# 3절. 딕셔너리(dictionary)\n",
    "cf. 자바에서의 hashmap\n",
    "* 중괄호{}를 이용하여 딕셔너리를 생성한다.\n",
    "* 키(key)와 값(value)의 쌍으로 구성된 자료구조\n",
    "* 키는 유일한 값(중복불가), 키에 리스트는 사용불가. 튜플은 사용가능\n",
    "* 값은 중복이 가능하다. 모든 데이터 타입 가능\n",
    "* 없는 키의 값을 참조하면 에러가 발생\n",
    "* 인덱스를 이용한 참조는 지원하지 않는다."
   ]
  },
  {
   "cell_type": "code",
   "execution_count": 1,
   "id": "3fdc29b7",
   "metadata": {},
   "outputs": [
    {
     "name": "stdout",
     "output_type": "stream",
     "text": [
      "<class 'dict'>\n",
      "{'key1': 'value', 'key2': 'value'}\n"
     ]
    }
   ],
   "source": [
    "dic = {'key1':'value', 'key2':'value'} # 대소문자 구분한다.\n",
    "print(type(dic))\n",
    "print(dic)"
   ]
  },
  {
   "cell_type": "code",
   "execution_count": 133,
   "id": "25854977",
   "metadata": {},
   "outputs": [
    {
     "data": {
      "text/plain": [
       "2"
      ]
     },
     "execution_count": 133,
     "metadata": {},
     "output_type": "execute_result"
    }
   ],
   "source": [
    "len(dic) # 데이터 요소의 갯수"
   ]
  },
  {
   "cell_type": "code",
   "execution_count": 135,
   "id": "e4d62ef5",
   "metadata": {},
   "outputs": [
    {
     "data": {
      "text/plain": [
       "{'fruit': 'apple', 'number': 12, 'sport': 'golf'}"
      ]
     },
     "execution_count": 135,
     "metadata": {},
     "output_type": "execute_result"
    }
   ],
   "source": [
    "my_favorite = {'fruit':'apple', 'number':12, 'sport':'golf'}\n",
    "my_favorite"
   ]
  },
  {
   "cell_type": "code",
   "execution_count": 136,
   "id": "1bd12e7e",
   "metadata": {},
   "outputs": [
    {
     "data": {
      "text/plain": [
       "'apple'"
      ]
     },
     "execution_count": 136,
     "metadata": {},
     "output_type": "execute_result"
    }
   ],
   "source": [
    "my_favorite['fruit']"
   ]
  },
  {
   "cell_type": "code",
   "execution_count": 137,
   "id": "8d7a828e",
   "metadata": {},
   "outputs": [
    {
     "data": {
      "text/plain": [
       "'apple'"
      ]
     },
     "execution_count": 137,
     "metadata": {},
     "output_type": "execute_result"
    }
   ],
   "source": [
    "my_favorite.get('fruit')"
   ]
  },
  {
   "cell_type": "code",
   "execution_count": 139,
   "id": "7751a26f",
   "metadata": {},
   "outputs": [
    {
     "name": "stdout",
     "output_type": "stream",
     "text": [
      "None\n"
     ]
    }
   ],
   "source": [
    "# print(my_favorite['people']) 키 목록에 없는 데이터를 인덱스로 참조하면 에러 발생\n",
    "print(my_favorite.get('people')) # 키 목록에 없는 데이터를 get 함수로 참조시 None을 return"
   ]
  },
  {
   "cell_type": "code",
   "execution_count": 142,
   "id": "e2eae081",
   "metadata": {},
   "outputs": [
    {
     "name": "stdout",
     "output_type": "stream",
     "text": [
      "fruit 수정 후 : {'fruit': 'banana', 'number': 12, 'sport': 'golf'}\n",
      "people 추가 후 : {'fruit': 'banana', 'number': 12, 'sport': 'golf', 'people': 'KIM'}\n",
      "people 삭제 후 : {'fruit': 'banana', 'number': 12, 'people': 'KIM'}\n"
     ]
    }
   ],
   "source": [
    "# 수정\n",
    "my_favorite = {'fruit':'apple', 'number':12, 'sport':'golf'}\n",
    "\n",
    "my_favorite['fruit'] = 'banana'\n",
    "print('fruit 수정 후 :', my_favorite)\n",
    "\n",
    "my_favorite['people'] = 'KIM'\n",
    "print('people 추가 후 :', my_favorite)\n",
    "\n",
    "del(my_favorite['sport'])\n",
    "print('people 삭제 후 :', my_favorite)"
   ]
  },
  {
   "cell_type": "code",
   "execution_count": 144,
   "id": "09367fce",
   "metadata": {},
   "outputs": [
    {
     "name": "stdout",
     "output_type": "stream",
     "text": [
      "홍길동\t25\t010-9999-9999\t0번째 데이터 : 홍길동\n",
      "1번째 데이터 : 25\n",
      "2번째 데이터 : 010-9999-9999\n"
     ]
    }
   ],
   "source": [
    "# for문을 이용한 dict 출력\n",
    "my_dict = {'name':'홍길동', 'age':25, 'tel':'010-9999-9999'}\n",
    "my_tuple = ('홍길동', 25, '010-9999-9999')\n",
    "\n",
    "for data in my_tuple:\n",
    "    print(data, end = '\\t')\n",
    "    \n",
    "for idx in range(len(my_tuple)):\n",
    "    print(\"{}번째 데이터 : {}\".format(idx, my_tuple[idx]))"
   ]
  },
  {
   "cell_type": "code",
   "execution_count": 145,
   "id": "a8ed9a60",
   "metadata": {},
   "outputs": [
    {
     "name": "stdout",
     "output_type": "stream",
     "text": [
      "name\tage\ttel\t"
     ]
    }
   ],
   "source": [
    "for data in my_dict:\n",
    "    print(data, end = '\\t')"
   ]
  },
  {
   "cell_type": "code",
   "execution_count": 146,
   "id": "2e663cf0",
   "metadata": {},
   "outputs": [
    {
     "data": {
      "text/plain": [
       "dict_keys(['name', 'age', 'tel'])"
      ]
     },
     "execution_count": 146,
     "metadata": {},
     "output_type": "execute_result"
    }
   ],
   "source": [
    "my_dict.keys()"
   ]
  },
  {
   "cell_type": "code",
   "execution_count": 147,
   "id": "95a7b4ae",
   "metadata": {},
   "outputs": [
    {
     "data": {
      "text/plain": [
       "dict_values(['홍길동', 25, '010-9999-9999'])"
      ]
     },
     "execution_count": 147,
     "metadata": {},
     "output_type": "execute_result"
    }
   ],
   "source": [
    "my_dict.values()"
   ]
  },
  {
   "cell_type": "code",
   "execution_count": 148,
   "id": "8c16b27c",
   "metadata": {},
   "outputs": [
    {
     "data": {
      "text/plain": [
       "dict_items([('name', '홍길동'), ('age', 25), ('tel', '010-9999-9999')])"
      ]
     },
     "execution_count": 148,
     "metadata": {},
     "output_type": "execute_result"
    }
   ],
   "source": [
    "my_dict.items()"
   ]
  },
  {
   "cell_type": "code",
   "execution_count": 152,
   "id": "720ab12b",
   "metadata": {},
   "outputs": [
    {
     "name": "stdout",
     "output_type": "stream",
     "text": [
      "name\tage\ttel\t"
     ]
    }
   ],
   "source": [
    "for key in my_dict.keys():\n",
    "    print(key, end = '\\t')"
   ]
  },
  {
   "cell_type": "code",
   "execution_count": 151,
   "id": "0c34c46d",
   "metadata": {},
   "outputs": [
    {
     "name": "stdout",
     "output_type": "stream",
     "text": [
      "홍길동\t25\t010-9999-9999\t"
     ]
    }
   ],
   "source": [
    "for key in my_dict.values():\n",
    "    print(key, end = '\\t')"
   ]
  },
  {
   "cell_type": "code",
   "execution_count": 155,
   "id": "44b1d35c",
   "metadata": {},
   "outputs": [
    {
     "name": "stdout",
     "output_type": "stream",
     "text": [
      "name은 홍길동\n",
      "age은 25\n",
      "tel은 010-9999-9999\n"
     ]
    }
   ],
   "source": [
    "for item in my_dict.items():\n",
    "    print(\"{}은 {}\".format(item[0], item[1]))"
   ]
  },
  {
   "cell_type": "code",
   "execution_count": 156,
   "id": "7f7ba785",
   "metadata": {},
   "outputs": [
    {
     "name": "stdout",
     "output_type": "stream",
     "text": [
      "name은 홍길동\n",
      "age은 25\n",
      "tel은 010-9999-9999\n"
     ]
    }
   ],
   "source": [
    "for key, value in my_dict.items():\n",
    "    print(\"{}은 {}\".format(key, value))"
   ]
  },
  {
   "cell_type": "code",
   "execution_count": null,
   "id": "270ed706",
   "metadata": {},
   "outputs": [],
   "source": [
    "# in 연산자"
   ]
  },
  {
   "cell_type": "code",
   "execution_count": 2,
   "id": "ee77c9d7",
   "metadata": {},
   "outputs": [
    {
     "data": {
      "text/plain": [
       "False"
      ]
     },
     "execution_count": 2,
     "metadata": {},
     "output_type": "execute_result"
    }
   ],
   "source": [
    "my_dict = {'name':'홍길동', 'age':25, 'tel':'010-9999-9999'}\n",
    "'홍길동' in my_dict"
   ]
  },
  {
   "cell_type": "code",
   "execution_count": 3,
   "id": "89db7e50",
   "metadata": {},
   "outputs": [
    {
     "data": {
      "text/plain": [
       "True"
      ]
     },
     "execution_count": 3,
     "metadata": {},
     "output_type": "execute_result"
    }
   ],
   "source": [
    "# 딕셔너리에서의 in 연산자는 키가 있는지 여부 반환\n",
    "'name' in my_dict"
   ]
  },
  {
   "cell_type": "code",
   "execution_count": 4,
   "id": "2f10df45",
   "metadata": {},
   "outputs": [
    {
     "name": "stdout",
     "output_type": "stream",
     "text": [
      "{'fruit': 'apple', 'number': 1}\n",
      "{'fruit': 'apple', 'number': 1}\n"
     ]
    }
   ],
   "source": [
    "my_favorite = {'fruit':'apple', 'number':1}\n",
    "new_my_favorite = my_favorite\n",
    "\n",
    "print(my_favorite)\n",
    "print(new_my_favorite)"
   ]
  },
  {
   "cell_type": "code",
   "execution_count": 6,
   "id": "db11ba3e",
   "metadata": {},
   "outputs": [
    {
     "name": "stdout",
     "output_type": "stream",
     "text": [
      "{'fruit': '과일은 다 좋아', 'number': 1}\n",
      "{'fruit': '과일은 다 좋아', 'number': 1}\n",
      "주소 : 1334353322624\n",
      "주소 : 1334353322624\n"
     ]
    }
   ],
   "source": [
    "my_favorite['fruit'] = '과일은 다 좋아'\n",
    "\n",
    "print(my_favorite)\n",
    "print(new_my_favorite)\n",
    "\n",
    "print('주소 :', id(my_favorite))\n",
    "print('주소 :', id(new_my_favorite))"
   ]
  },
  {
   "cell_type": "code",
   "execution_count": 7,
   "id": "c7a8ce82",
   "metadata": {},
   "outputs": [
    {
     "name": "stdout",
     "output_type": "stream",
     "text": [
      "{'fruit': '과일은 다 좋아', 'number': 1}\n",
      "{'fruit': 'apple', 'number': 1}\n",
      "주소 : 1334342893504\n",
      "주소 : 1334342892160\n"
     ]
    }
   ],
   "source": [
    "my_favorite = {'fruit':'apple', 'number':1}\n",
    "new_my_favorite = my_favorite.copy()\n",
    "\n",
    "my_favorite['fruit'] = '과일은 다 좋아'\n",
    "\n",
    "print(my_favorite)\n",
    "print(new_my_favorite)\n",
    "\n",
    "print('주소 :', id(my_favorite))\n",
    "print('주소 :', id(new_my_favorite))"
   ]
  },
  {
   "cell_type": "markdown",
   "id": "001b5a52",
   "metadata": {},
   "source": [
    "# 4절. 셋(Set)\n",
    "* 중복을 허용하지 않는 집합(순서x)\n",
    "* 중괄호{}나 set()함수를 이용해서 생성한다.\n",
    "* ex. set([1, 2]), set({딕셔너리}), set(튜플)\n",
    "* 집합연산자(교집합(&), 합집합(|), 차집합(-))를 사용가능하다."
   ]
  },
  {
   "cell_type": "code",
   "execution_count": 8,
   "id": "5e728068",
   "metadata": {},
   "outputs": [
    {
     "data": {
      "text/plain": [
       "{'apple', 'banana', 'orange'}"
      ]
     },
     "execution_count": 8,
     "metadata": {},
     "output_type": "execute_result"
    }
   ],
   "source": [
    "fruits = {'apple', 'orange', 'banana', 'banana'}\n",
    "\n",
    "fruits"
   ]
  },
  {
   "cell_type": "code",
   "execution_count": 9,
   "id": "8f55308d",
   "metadata": {},
   "outputs": [
    {
     "data": {
      "text/plain": [
       "{1, 2, 3}"
      ]
     },
     "execution_count": 9,
     "metadata": {},
     "output_type": "execute_result"
    }
   ],
   "source": [
    "s1 = set([1, 2, 3, 1])\n",
    "\n",
    "s1"
   ]
  },
  {
   "cell_type": "code",
   "execution_count": 10,
   "id": "effb97b8",
   "metadata": {},
   "outputs": [
    {
     "data": {
      "text/plain": [
       "{1, 2, 3, 4}"
      ]
     },
     "execution_count": 10,
     "metadata": {},
     "output_type": "execute_result"
    }
   ],
   "source": [
    "s2 = set((1,2,4,3,1))\n",
    "\n",
    "s2"
   ]
  },
  {
   "cell_type": "code",
   "execution_count": 11,
   "id": "ba01616a",
   "metadata": {},
   "outputs": [
    {
     "data": {
      "text/plain": [
       "{'age', 'name'}"
      ]
     },
     "execution_count": 11,
     "metadata": {},
     "output_type": "execute_result"
    }
   ],
   "source": [
    "s3 = set({'name':'홍길동', 'age':30})\n",
    "\n",
    "s3"
   ]
  },
  {
   "cell_type": "code",
   "execution_count": 13,
   "id": "678edf95",
   "metadata": {},
   "outputs": [
    {
     "data": {
      "text/plain": [
       "{1, 2, 3, 4}"
      ]
     },
     "execution_count": 13,
     "metadata": {},
     "output_type": "execute_result"
    }
   ],
   "source": [
    "s2.add(4) # 횟수에 상관없이 한번만 추가된다. (중복허용 x)\n",
    "\n",
    "s2"
   ]
  },
  {
   "cell_type": "code",
   "execution_count": 14,
   "id": "9aa7ebb3",
   "metadata": {},
   "outputs": [
    {
     "data": {
      "text/plain": [
       "{(5, 6, 7), 1, 2, 3, 4}"
      ]
     },
     "execution_count": 14,
     "metadata": {},
     "output_type": "execute_result"
    }
   ],
   "source": [
    "s2.add((5, 6, 7)) # 통째로 삽입된다.\n",
    "\n",
    "s2"
   ]
  },
  {
   "cell_type": "code",
   "execution_count": 15,
   "id": "f64cb69a",
   "metadata": {},
   "outputs": [
    {
     "ename": "TypeError",
     "evalue": "unhashable type: 'list'",
     "output_type": "error",
     "traceback": [
      "\u001b[1;31m---------------------------------------------------------------------------\u001b[0m",
      "\u001b[1;31mTypeError\u001b[0m                                 Traceback (most recent call last)",
      "\u001b[1;32m<ipython-input-15-6a9e8908ae98>\u001b[0m in \u001b[0;36m<module>\u001b[1;34m\u001b[0m\n\u001b[1;32m----> 1\u001b[1;33m \u001b[0ms2\u001b[0m\u001b[1;33m.\u001b[0m\u001b[0madd\u001b[0m\u001b[1;33m(\u001b[0m\u001b[1;33m[\u001b[0m\u001b[1;36m10\u001b[0m\u001b[1;33m,\u001b[0m \u001b[1;36m11\u001b[0m\u001b[1;33m,\u001b[0m \u001b[1;36m12\u001b[0m\u001b[1;33m]\u001b[0m\u001b[1;33m)\u001b[0m \u001b[1;31m# add함수는 list인수 불가\u001b[0m\u001b[1;33m\u001b[0m\u001b[1;33m\u001b[0m\u001b[0m\n\u001b[0m",
      "\u001b[1;31mTypeError\u001b[0m: unhashable type: 'list'"
     ]
    }
   ],
   "source": [
    "s2.add([10, 11, 12]) # add함수는 list인수 불가"
   ]
  },
  {
   "cell_type": "code",
   "execution_count": 16,
   "id": "7748f836",
   "metadata": {},
   "outputs": [
    {
     "data": {
      "text/plain": [
       "{(5, 6, 7), 1, 2, 3, 4, False}"
      ]
     },
     "execution_count": 16,
     "metadata": {},
     "output_type": "execute_result"
    }
   ],
   "source": [
    "s2.add(False)\n",
    "s2.add(0) # 0은 False이기 때문에 삽입안됨.\n",
    "\n",
    "s2"
   ]
  },
  {
   "cell_type": "code",
   "execution_count": 18,
   "id": "959e27fa",
   "metadata": {},
   "outputs": [
    {
     "data": {
      "text/plain": [
       "{1, 2, 3, 4, 5, 6}"
      ]
     },
     "execution_count": 18,
     "metadata": {},
     "output_type": "execute_result"
    }
   ],
   "source": [
    "s1 = {1, 2, 3}\n",
    "s1.update([4, 5, 6, 1])\n",
    "\n",
    "s1"
   ]
  },
  {
   "cell_type": "code",
   "execution_count": 19,
   "id": "582d4798",
   "metadata": {},
   "outputs": [
    {
     "data": {
      "text/plain": [
       "{1, 2, 3, 4, 5, 6, 'age', 'name'}"
      ]
     },
     "execution_count": 19,
     "metadata": {},
     "output_type": "execute_result"
    }
   ],
   "source": [
    "s1.update({'name':'kim', 'age':30}) # key만 삽입된다.\n",
    "\n",
    "s1"
   ]
  },
  {
   "cell_type": "code",
   "execution_count": 20,
   "id": "6ada15e8",
   "metadata": {},
   "outputs": [],
   "source": [
    "s1.remove('name')"
   ]
  },
  {
   "cell_type": "code",
   "execution_count": 21,
   "id": "3b5a802b",
   "metadata": {},
   "outputs": [
    {
     "ename": "KeyError",
     "evalue": "'kim'",
     "output_type": "error",
     "traceback": [
      "\u001b[1;31m---------------------------------------------------------------------------\u001b[0m",
      "\u001b[1;31mKeyError\u001b[0m                                  Traceback (most recent call last)",
      "\u001b[1;32m<ipython-input-21-2cc2e6b702e5>\u001b[0m in \u001b[0;36m<module>\u001b[1;34m\u001b[0m\n\u001b[1;32m----> 1\u001b[1;33m \u001b[0ms1\u001b[0m\u001b[1;33m.\u001b[0m\u001b[0mremove\u001b[0m\u001b[1;33m(\u001b[0m\u001b[1;34m'kim'\u001b[0m\u001b[1;33m)\u001b[0m \u001b[1;31m# 없는 데이터를 삭제할 경우 에러발생\u001b[0m\u001b[1;33m\u001b[0m\u001b[1;33m\u001b[0m\u001b[0m\n\u001b[0m",
      "\u001b[1;31mKeyError\u001b[0m: 'kim'"
     ]
    }
   ],
   "source": [
    "s1.remove('kim') # 없는 데이터를 삭제할 경우 에러발생"
   ]
  },
  {
   "cell_type": "code",
   "execution_count": 23,
   "id": "628c3344",
   "metadata": {},
   "outputs": [
    {
     "name": "stdout",
     "output_type": "stream",
     "text": [
      "s1 = {1, 2, 3, 4, 5, 6}\n",
      "s2 = {4, 5, 6, 7, 8, 9}\n",
      "\n",
      "교집합 = {4, 5, 6}\n",
      "합집합 = {1, 2, 3, 4, 5, 6, 7, 8, 9}\n",
      "차집합 = {1, 2, 3}\n"
     ]
    }
   ],
   "source": [
    "s1 = {1, 2, 3, 4, 5, 6}\n",
    "s2 = {4, 5, 6, 7, 8, 9}\n",
    "\n",
    "print('s1 =', s1)\n",
    "print('s2 =', s2)\n",
    "print()\n",
    "\n",
    "print('교집합 =', (s1&s2)) # & : 교집합, 논리연산자(=and), 비트연산자\n",
    "print('합집합 =', (s1|s2))\n",
    "print('차집합 =', (s1-s2))"
   ]
  },
  {
   "cell_type": "code",
   "execution_count": 24,
   "id": "c28d1807",
   "metadata": {},
   "outputs": [
    {
     "name": "stdout",
     "output_type": "stream",
     "text": [
      "{'sunja', 'kildong', 'kilja'}\n"
     ]
    }
   ],
   "source": [
    "name = {'kildong', 'kilja', 'sunja'}\n",
    "\n",
    "print(name)"
   ]
  },
  {
   "cell_type": "code",
   "execution_count": 26,
   "id": "748b16fd",
   "metadata": {},
   "outputs": [
    {
     "name": "stdout",
     "output_type": "stream",
     "text": [
      "sunja\t\tkildong\t\tkilja\t\t"
     ]
    }
   ],
   "source": [
    "for n in name:\n",
    "    print(n, end = '\\t\\t')"
   ]
  },
  {
   "cell_type": "markdown",
   "id": "8afd9d72",
   "metadata": {},
   "source": [
    "# 5절. enumerate\n",
    "- 반복자 또는 순서 객체로 반복문을 처리할 때, 인덱스 처리를 해결하는 함수"
   ]
  },
  {
   "cell_type": "code",
   "execution_count": 27,
   "id": "6f0e0e70",
   "metadata": {},
   "outputs": [
    {
     "data": {
      "text/plain": [
       "[(0, 'sunja'), (1, 'kildong'), (2, 'kilja')]"
      ]
     },
     "execution_count": 27,
     "metadata": {},
     "output_type": "execute_result"
    }
   ],
   "source": [
    "list(enumerate(name))"
   ]
  },
  {
   "cell_type": "code",
   "execution_count": 29,
   "id": "427bb2a4",
   "metadata": {},
   "outputs": [
    {
     "name": "stdout",
     "output_type": "stream",
     "text": [
      "0번째 : sunja\n",
      "1번째 : kildong\n",
      "2번째 : kilja\n"
     ]
    }
   ],
   "source": [
    "for idx, data in enumerate(name):\n",
    "    print(\"{}번째 : {}\".format(idx, data))"
   ]
  },
  {
   "cell_type": "code",
   "execution_count": 31,
   "id": "cf93418b",
   "metadata": {},
   "outputs": [
    {
     "name": "stdout",
     "output_type": "stream",
     "text": [
      "0번째 : 길자\n",
      "1번째 : 순자\n",
      "2번째 : 길동\n"
     ]
    }
   ],
   "source": [
    "L = ['길자', '순자', '길동']\n",
    "\n",
    "for idx in range(len(L)):\n",
    "    print(\"{}번째 : {}\".format(idx, L[idx]))"
   ]
  },
  {
   "cell_type": "code",
   "execution_count": 33,
   "id": "8318e3e4",
   "metadata": {},
   "outputs": [
    {
     "name": "stdout",
     "output_type": "stream",
     "text": [
      "0 : 길자\n",
      "1 : 순자\n",
      "2 : 길동\n"
     ]
    }
   ],
   "source": [
    "for idx, name in enumerate(L):\n",
    "    print(\"{} : {}\".format(idx, name))"
   ]
  },
  {
   "cell_type": "code",
   "execution_count": 34,
   "id": "63f6c1ec",
   "metadata": {},
   "outputs": [
    {
     "name": "stdout",
     "output_type": "stream",
     "text": [
      "name : 홍길동\n",
      "age : 35\n",
      "address : 서울시 마포구\n"
     ]
    }
   ],
   "source": [
    "dict = {'name':'홍길동', 'age':35, 'address':'서울시 마포구'}\n",
    "\n",
    "for key, value in dict.items():\n",
    "    print('{} : {}'.format(key, value))"
   ]
  },
  {
   "cell_type": "code",
   "execution_count": 35,
   "id": "4b79c157",
   "metadata": {},
   "outputs": [
    {
     "data": {
      "text/plain": [
       "[(0, ('name', '홍길동')), (1, ('age', 35)), (2, ('address', '서울시 마포구'))]"
      ]
     },
     "execution_count": 35,
     "metadata": {},
     "output_type": "execute_result"
    }
   ],
   "source": [
    "list(enumerate(dict.items()))"
   ]
  },
  {
   "cell_type": "code",
   "execution_count": 36,
   "id": "9fb2edb7",
   "metadata": {},
   "outputs": [
    {
     "name": "stdout",
     "output_type": "stream",
     "text": [
      "0번째 name키 값은 홍길동\n",
      "1번째 age키 값은 35\n",
      "2번째 address키 값은 서울시 마포구\n"
     ]
    }
   ],
   "source": [
    "for idx, (key, value) in enumerate(dict.items()):\n",
    "    print(\"{}번째 {}키 값은 {}\".format(idx, key, value))"
   ]
  },
  {
   "cell_type": "markdown",
   "id": "76ae703a",
   "metadata": {},
   "source": [
    "# 연습문제"
   ]
  },
  {
   "cell_type": "code",
   "execution_count": 44,
   "id": "2e8dea9e",
   "metadata": {},
   "outputs": [
    {
     "data": {
      "text/plain": [
       "[1, 2, 3, 4, 5, 6, 7, 8, 9, 10, 100]"
      ]
     },
     "execution_count": 44,
     "metadata": {},
     "output_type": "execute_result"
    }
   ],
   "source": [
    "# 다음 리스트가 주어졌을 경우 요구사항대로 코드를 작성하시오\n",
    "# numbers = [1,2,,4,5,6,7,8,9,10]\n",
    "numbers = [1, 2, 3, 4, 5, 6, 7, 8, 9, 10]\n",
    "# 1. 숫자 100을 맨 뒤에 추가하세요\n",
    "numbers.append(100)\n",
    "numbers"
   ]
  },
  {
   "cell_type": "code",
   "execution_count": 45,
   "id": "35e90025",
   "metadata": {},
   "outputs": [
    {
     "data": {
      "text/plain": [
       "[1, 2, 3, 4, 5, 6, 7, 8, 9, 10, 100, [200, 300, 400, 500]]"
      ]
     },
     "execution_count": 45,
     "metadata": {},
     "output_type": "execute_result"
    }
   ],
   "source": [
    "# 2. 다음 리스트를 numbers리스트 맨 뒤에 추가하세요\n",
    "#    data = [200, 300, 400, 500]\n",
    "data = [200, 300, 400, 500]\n",
    "\n",
    "numbers.append(data)\n",
    "numbers"
   ]
  },
  {
   "cell_type": "code",
   "execution_count": 47,
   "id": "639ddb87",
   "metadata": {},
   "outputs": [
    {
     "name": "stdout",
     "output_type": "stream",
     "text": [
      "[1, 2, 3, 4, 5]\n"
     ]
    }
   ],
   "source": [
    "# 3. 처음 다섯 개 숫자만 출력하세요\n",
    "print(numbers[0:5])"
   ]
  },
  {
   "cell_type": "code",
   "execution_count": 49,
   "id": "7fb44d6f",
   "metadata": {},
   "outputs": [
    {
     "name": "stdout",
     "output_type": "stream",
     "text": [
      "[2, 4, 6, 8, 10, [200, 300, 400, 500]]\n"
     ]
    }
   ],
   "source": [
    "# 4. 리스트에서 짝수 번째 데이터만 출력하세요\n",
    "print(numbers[1::2])"
   ]
  },
  {
   "cell_type": "code",
   "execution_count": 50,
   "id": "43c0531d",
   "metadata": {},
   "outputs": [
    {
     "data": {
      "text/plain": [
       "[1, 0, 3, 0, 5, 0, 7, 0, 9, 0, 100, 0]"
      ]
     },
     "execution_count": 50,
     "metadata": {},
     "output_type": "execute_result"
    }
   ],
   "source": [
    "# 5. 짝수번째 데이터를 모두 0으로 바꾸세요\n",
    "numbers[1::2] = [0] * len(numbers[::2])\n",
    "numbers"
   ]
  },
  {
   "cell_type": "code",
   "execution_count": 51,
   "id": "2a267033",
   "metadata": {},
   "outputs": [
    {
     "name": "stdout",
     "output_type": "stream",
     "text": [
      "[0, 100, 0, 9, 0, 7, 0, 5, 0, 3, 0, 1]\n"
     ]
    }
   ],
   "source": [
    "# 6. 데이터를 역순으로 나열하세요(내림차순 정렬이 아닙니다)\n",
    "print(numbers[::-1])"
   ]
  },
  {
   "cell_type": "code",
   "execution_count": 76,
   "id": "38b7b73c",
   "metadata": {},
   "outputs": [
    {
     "name": "stdout",
     "output_type": "stream",
     "text": [
      "서울시 마포구\n"
     ]
    }
   ],
   "source": [
    "# 다음 딕셔너리 데이터가 주어졌을 경우 요구사항대로 코드를 작성하세요.\n",
    "# member_info = {“name”:”홍길동”, “age”:20”, address”:”서울시 마포구“,“sore”:90}\n",
    "member_info = {\"name\":\"홍길동\", \"age\":20, \"address\":\"서울시 마포구\", \"score\":90}\n",
    "# 7. address값을 출력하세요\n",
    "print(member_info['address'])"
   ]
  },
  {
   "cell_type": "code",
   "execution_count": 57,
   "id": "ba910056",
   "metadata": {},
   "outputs": [
    {
     "name": "stdout",
     "output_type": "stream",
     "text": [
      "90\n"
     ]
    }
   ],
   "source": [
    "# 8. score 를 출력하고 member_info 딕셔너리에서 삭제하세요.\n",
    "print(member_info.pop('score'))"
   ]
  },
  {
   "cell_type": "code",
   "execution_count": 58,
   "id": "0cb8a9b9",
   "metadata": {},
   "outputs": [
    {
     "data": {
      "text/plain": [
       "{'name': '홍길동', 'age': 20, 'address': '서울시 서대문구'}"
      ]
     },
     "execution_count": 58,
     "metadata": {},
     "output_type": "execute_result"
    }
   ],
   "source": [
    "# 9. Address를 “서울시 서대문구”로 변경하세요.\n",
    "member_info['address'] = '서울시 서대문구'\n",
    "member_info"
   ]
  },
  {
   "cell_type": "code",
   "execution_count": 77,
   "id": "60850cfa",
   "metadata": {},
   "outputs": [
    {
     "data": {
      "text/plain": [
       "['홍길동', 20, '서울시 마포구', 90]"
      ]
     },
     "execution_count": 77,
     "metadata": {},
     "output_type": "execute_result"
    }
   ],
   "source": [
    "# 10. member_info 딕셔너리 데이터의 값을 리스트로 출력하세요\n",
    "list(member_info.values())"
   ]
  },
  {
   "cell_type": "code",
   "execution_count": 63,
   "id": "781cc38c",
   "metadata": {
    "scrolled": true
   },
   "outputs": [
    {
     "name": "stdout",
     "output_type": "stream",
     "text": [
      "['orange', 'banana']\n"
     ]
    }
   ],
   "source": [
    "# 서술형 연습문제 1.\n",
    "L1 = ('orange','apple','banana','kiwi')\n",
    "new_list = [i for i in L1 if len(i)>5]\n",
    "\n",
    "print(new_list)"
   ]
  },
  {
   "cell_type": "code",
   "execution_count": 65,
   "id": "8253962c",
   "metadata": {},
   "outputs": [
    {
     "name": "stdout",
     "output_type": "stream",
     "text": [
      "[10, 9, 8, 7, 6, 5, 4, 3, 2, 1]\n"
     ]
    }
   ],
   "source": [
    "# 서술형 연습문제 2. 다음 코드와 실행결과가 잘못 짝지어진 것은? 3번\n",
    "print(list(range(10, 0, -1)))"
   ]
  },
  {
   "cell_type": "code",
   "execution_count": 67,
   "id": "36cfce54",
   "metadata": {},
   "outputs": [
    {
     "data": {
      "text/plain": [
       "1"
      ]
     },
     "execution_count": 67,
     "metadata": {},
     "output_type": "execute_result"
    }
   ],
   "source": [
    "# 서술형 연습문제 3. 다음 구문에 의해 출력되는 것은?\n",
    "numbers_2d = [ [1, 2, 3, 4, 5], [10, 20, 30, 40],[1, 3, 5],[2,] ]\n",
    "\n",
    "len(numbers_2d[3])"
   ]
  },
  {
   "cell_type": "code",
   "execution_count": 64,
   "id": "b5c8a2c7",
   "metadata": {},
   "outputs": [
    {
     "data": {
      "text/plain": [
       "[1, 2, 3, 4, 5, 10, 20, 30, 40, 50]"
      ]
     },
     "execution_count": 64,
     "metadata": {},
     "output_type": "execute_result"
    }
   ],
   "source": [
    "# 서술형 연습문제 4. 다음 코드의 실행결과가 나올 수 있는 빈칸에 들어갈 함수 이름은?\n",
    "numbers = [1, 2, 3, 4, 5]\n",
    "numbers.extend([10, 20, 30, 40, 50])\n",
    "\n",
    "numbers"
   ]
  },
  {
   "cell_type": "code",
   "execution_count": 68,
   "id": "4ac4ed13",
   "metadata": {},
   "outputs": [
    {
     "name": "stdout",
     "output_type": "stream",
     "text": [
      "[0, 1, 0, 3, 0, 5, 0, 7, 0, 9]\n"
     ]
    }
   ],
   "source": [
    "# 서술형 연습문제 5. 다음 구문을 실행할 때 결과는?\n",
    "numbers = list(range(10))\n",
    "numbers[ : : 2]= [0] * len(numbers[ : : 2])\n",
    "\n",
    "print(numbers)"
   ]
  },
  {
   "cell_type": "code",
   "execution_count": 69,
   "id": "4c103bc4",
   "metadata": {},
   "outputs": [
    {
     "name": "stdout",
     "output_type": "stream",
     "text": [
      "[5, 1, 6, 3, 7, 5, 8, 7, 9, 9]\n"
     ]
    }
   ],
   "source": [
    "# 서술형 연습문제 6. 다음 구문을 실행할 때 결과는 ?\n",
    "numbers = [0, 1, 2, 3, 4, 5, 6, 7, 8, 9]\n",
    "numbers[ : : 2]= numbers[5:]\n",
    "\n",
    "print(numbers)"
   ]
  },
  {
   "cell_type": "code",
   "execution_count": 70,
   "id": "1d3b5fae",
   "metadata": {},
   "outputs": [
    {
     "name": "stdout",
     "output_type": "stream",
     "text": [
      "[0, 1, 1, 3, 2, 5, 3, 7, 4, 9]\n"
     ]
    }
   ],
   "source": [
    "# 서술형 연습문제 7. 다음 구문을 실행할 때 결과는 ?\n",
    "numbers = [0, 1, 2, 3, 4, 5, 6, 7, 8, 9]\n",
    "numbers[ : : 2]= numbers[:5]\n",
    "\n",
    "print(numbers)"
   ]
  },
  {
   "cell_type": "code",
   "execution_count": 74,
   "id": "b7c845bb",
   "metadata": {},
   "outputs": [
    {
     "ename": "KeyError",
     "evalue": "0",
     "output_type": "error",
     "traceback": [
      "\u001b[1;31m---------------------------------------------------------------------------\u001b[0m",
      "\u001b[1;31mKeyError\u001b[0m                                  Traceback (most recent call last)",
      "\u001b[1;32m<ipython-input-74-ce33ceaed3b9>\u001b[0m in \u001b[0;36m<module>\u001b[1;34m\u001b[0m\n\u001b[0;32m      3\u001b[0m \u001b[0mmy_dic\u001b[0m \u001b[1;33m=\u001b[0m \u001b[1;33m{\u001b[0m\u001b[1;34m'a'\u001b[0m\u001b[1;33m:\u001b[0m\u001b[1;36m10\u001b[0m\u001b[1;33m,\u001b[0m \u001b[1;34m'b'\u001b[0m\u001b[1;33m:\u001b[0m\u001b[1;36m20\u001b[0m\u001b[1;33m,\u001b[0m \u001b[1;34m'c'\u001b[0m\u001b[1;33m:\u001b[0m\u001b[1;36m30\u001b[0m\u001b[1;33m}\u001b[0m\u001b[1;33m\u001b[0m\u001b[1;33m\u001b[0m\u001b[0m\n\u001b[0;32m      4\u001b[0m \u001b[1;33m\u001b[0m\u001b[0m\n\u001b[1;32m----> 5\u001b[1;33m \u001b[0mmy_dic\u001b[0m\u001b[1;33m[\u001b[0m\u001b[1;36m0\u001b[0m\u001b[1;33m]\u001b[0m\u001b[1;33m\u001b[0m\u001b[1;33m\u001b[0m\u001b[0m\n\u001b[0m",
      "\u001b[1;31mKeyError\u001b[0m: 0"
     ]
    }
   ],
   "source": [
    "# 서술형 연습문제 8. 다음 데이터에서 10을 출력할 수 없는 구문은? 1번\n",
    "# my_dic = {“a”:10, “b”:20, “c”:30}\n",
    "my_dic = {'a':10, 'b':20, 'c':30}\n",
    "\n",
    "my_dic[0]"
   ]
  }
 ],
 "metadata": {
  "kernelspec": {
   "display_name": "Python 3",
   "language": "python",
   "name": "python3"
  },
  "language_info": {
   "codemirror_mode": {
    "name": "ipython",
    "version": 3
   },
   "file_extension": ".py",
   "mimetype": "text/x-python",
   "name": "python",
   "nbconvert_exporter": "python",
   "pygments_lexer": "ipython3",
   "version": "3.8.8"
  },
  "toc": {
   "base_numbering": 1,
   "nav_menu": {},
   "number_sections": false,
   "sideBar": true,
   "skip_h1_title": false,
   "title_cell": "Table of Contents",
   "title_sidebar": "Contents",
   "toc_cell": false,
   "toc_position": {
    "height": "calc(100% - 180px)",
    "left": "10px",
    "top": "150px",
    "width": "247px"
   },
   "toc_section_display": true,
   "toc_window_display": true
  },
  "varInspector": {
   "cols": {
    "lenName": 16,
    "lenType": 16,
    "lenVar": 40
   },
   "kernels_config": {
    "python": {
     "delete_cmd_postfix": "",
     "delete_cmd_prefix": "del ",
     "library": "var_list.py",
     "varRefreshCmd": "print(var_dic_list())"
    },
    "r": {
     "delete_cmd_postfix": ") ",
     "delete_cmd_prefix": "rm(",
     "library": "var_list.r",
     "varRefreshCmd": "cat(var_dic_list()) "
    }
   },
   "position": {
    "height": "358px",
    "left": "1546px",
    "right": "20px",
    "top": "119px",
    "width": "350px"
   },
   "types_to_exclude": [
    "module",
    "function",
    "builtin_function_or_method",
    "instance",
    "_Feature"
   ],
   "window_display": true
  }
 },
 "nbformat": 4,
 "nbformat_minor": 5
}
