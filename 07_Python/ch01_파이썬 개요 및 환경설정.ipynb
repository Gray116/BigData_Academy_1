{
 "cells": [
  {
   "cell_type": "markdown",
   "id": "20cae52a",
   "metadata": {},
   "source": [
    "<b><font color = \"red\" size = \"6\">ch01. 파이썬 개요 및 환경설정</font></b>"
   ]
  },
  {
   "cell_type": "markdown",
   "id": "54b27ce8",
   "metadata": {},
   "source": [
    "# 1. 주피터 노트북 사용법(큰 제목)\n",
    "* shift + Enter : 포커스된 셀이 실행되고 커서가 다음셀로 이동된다.\n",
    "* Enter키를 누르면 다시 편집 상태로 돌아온다.\n",
    "* alt + Enter : 포커스된 셀이 실행되고 다음 셀이 생성된 후 다음셀로 이동된다.\n",
    "* ctrl + Enter : 포커스된 셀이 실행되고 포커스 이동이 없다."
   ]
  },
  {
   "cell_type": "code",
   "execution_count": 3,
   "id": "5577e8df",
   "metadata": {
    "ExecuteTime": {
     "end_time": "2021-07-19T02:48:31.445101Z",
     "start_time": "2021-07-19T02:48:31.438120Z"
    }
   },
   "outputs": [],
   "source": [
    "# 셀 하나하나에 파이썬 실행 소스 입력 -> 실행"
   ]
  },
  {
   "cell_type": "code",
   "execution_count": 1,
   "id": "10ff3314",
   "metadata": {
    "ExecuteTime": {
     "end_time": "2021-07-19T02:41:19.530339Z",
     "start_time": "2021-07-19T02:41:19.511410Z"
    }
   },
   "outputs": [
    {
     "name": "stdout",
     "output_type": "stream",
     "text": [
      "Hello, World\n"
     ]
    }
   ],
   "source": [
    "print(\"Hello, World\")"
   ]
  },
  {
   "cell_type": "code",
   "execution_count": 6,
   "id": "daedab5e",
   "metadata": {
    "ExecuteTime": {
     "end_time": "2021-07-19T02:51:39.390709Z",
     "start_time": "2021-07-19T02:51:39.381737Z"
    }
   },
   "outputs": [
    {
     "data": {
      "text/plain": [
       "'12'"
      ]
     },
     "execution_count": 6,
     "metadata": {},
     "output_type": "execute_result"
    }
   ],
   "source": [
    "a = 1\n",
    "b = \"2\"\n",
    "a + int(b)\n",
    "# view -> Toggle Line Numbers 선택하면 라인번호가 나타남"
   ]
  },
  {
   "cell_type": "code",
   "execution_count": 8,
   "id": "9c885cdb",
   "metadata": {
    "ExecuteTime": {
     "end_time": "2021-07-19T02:56:08.286890Z",
     "start_time": "2021-07-19T02:56:08.278911Z"
    }
   },
   "outputs": [
    {
     "name": "stdout",
     "output_type": "stream",
     "text": [
      "0\n",
      "1\n",
      "2\n",
      "3\n",
      "4\n",
      "5\n",
      "6\n",
      "7\n",
      "8\n",
      "9\n"
     ]
    }
   ],
   "source": [
    "for i in range(10):\n",
    "    print(i)\n",
    "# 값이 매우커서 중지 시킬 때는 stop\n",
    "# kernel -> 다양한 restart 기능"
   ]
  },
  {
   "cell_type": "code",
   "execution_count": 9,
   "id": "36f68ea4",
   "metadata": {
    "ExecuteTime": {
     "end_time": "2021-07-19T02:56:20.971936Z",
     "start_time": "2021-07-19T02:56:20.957966Z"
    }
   },
   "outputs": [
    {
     "data": {
      "text/plain": [
       "10"
      ]
     },
     "execution_count": 9,
     "metadata": {},
     "output_type": "execute_result"
    }
   ],
   "source": [
    "print = 10\n",
    "print"
   ]
  },
  {
   "cell_type": "code",
   "execution_count": 1,
   "id": "cf74a0bf",
   "metadata": {
    "ExecuteTime": {
     "end_time": "2021-07-19T02:58:57.636337Z",
     "start_time": "2021-07-19T02:58:57.621376Z"
    }
   },
   "outputs": [
    {
     "name": "stdout",
     "output_type": "stream",
     "text": [
      "Hello, World\n"
     ]
    }
   ],
   "source": [
    "print(\"Hello, World\")\n",
    "# 윗 셀에 이미 print를 변수로 설정해 오류가 발생한다.\n",
    "## del print하여 실수로 할당된 print 변수를 삭제한다.\n",
    "## kernel 재시작"
   ]
  },
  {
   "cell_type": "markdown",
   "id": "f202ab77",
   "metadata": {},
   "source": [
    "# 2. ESC키를 누르고(핫키)\n",
    "+ dd : 셀 삭제\n",
    "+ a : 위에 셀 추가\n",
    "+ b : 아래에 셀 추가\n",
    "+ m : 마크다운 셀로 변경\n",
    "+ y : 코드 셀로 변경\n",
    "+ h : 핫키 안내"
   ]
  },
  {
   "cell_type": "markdown",
   "id": "86ae48b7",
   "metadata": {},
   "source": [
    "# 3. 마크다운이란\n",
    "* 코드와 함께 `문서화`를 할 수 있다.\n",
    "* 다양한 문서화 문법이 있다.\n",
    "여러줄의 설명을\n",
    "줄바꿈으로 할 수 없다.\n",
    "```\n",
    "여러 줄의 설명을\n",
    "줄바꿈으로 할 수 있다.\n",
    "```"
   ]
  }
 ],
 "metadata": {
  "kernelspec": {
   "display_name": "Python 3",
   "language": "python",
   "name": "python3"
  },
  "language_info": {
   "codemirror_mode": {
    "name": "ipython",
    "version": 3
   },
   "file_extension": ".py",
   "mimetype": "text/x-python",
   "name": "python",
   "nbconvert_exporter": "python",
   "pygments_lexer": "ipython3",
   "version": "3.8.8"
  },
  "toc": {
   "base_numbering": 1,
   "nav_menu": {},
   "number_sections": false,
   "sideBar": true,
   "skip_h1_title": false,
   "title_cell": "Table of Contents",
   "title_sidebar": "Contents",
   "toc_cell": false,
   "toc_position": {
    "height": "calc(100% - 180px)",
    "left": "10px",
    "top": "150px",
    "width": "304px"
   },
   "toc_section_display": true,
   "toc_window_display": true
  },
  "varInspector": {
   "cols": {
    "lenName": 16,
    "lenType": 16,
    "lenVar": 40
   },
   "kernels_config": {
    "python": {
     "delete_cmd_postfix": "",
     "delete_cmd_prefix": "del ",
     "library": "var_list.py",
     "varRefreshCmd": "print(var_dic_list())"
    },
    "r": {
     "delete_cmd_postfix": ") ",
     "delete_cmd_prefix": "rm(",
     "library": "var_list.r",
     "varRefreshCmd": "cat(var_dic_list()) "
    }
   },
   "position": {
    "height": "173px",
    "left": "1550px",
    "right": "20px",
    "top": "120px",
    "width": "350px"
   },
   "types_to_exclude": [
    "module",
    "function",
    "builtin_function_or_method",
    "instance",
    "_Feature"
   ],
   "window_display": true
  }
 },
 "nbformat": 4,
 "nbformat_minor": 5
}
