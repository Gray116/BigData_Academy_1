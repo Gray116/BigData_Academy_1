{
 "cells": [
  {
   "cell_type": "markdown",
   "id": "d4c570a8",
   "metadata": {
    "ExecuteTime": {
     "end_time": "2021-07-19T03:43:28.270812Z",
     "start_time": "2021-07-19T03:43:28.261818Z"
    }
   },
   "source": [
    "<b><font color = \"red\" size = \"6\">ch02. 자료형과 연산자</font></b>"
   ]
  },
  {
   "cell_type": "markdown",
   "id": "279dde7d",
   "metadata": {},
   "source": [
    "# 4절. 포맷팅\n",
    "* 포맷팅이란, 출력할 문자, 숫자, 날짜 데이터의 형식을 지정하는 것.\n",
    "* 변수와 인덱스를 결합해서 보기 좋은 형식의 새로운 텍스트를 만들때 사용한다."
   ]
  },
  {
   "cell_type": "markdown",
   "id": "46ae86b8",
   "metadata": {},
   "source": [
    "## 4.1 문자열에 형식 지정"
   ]
  },
  {
   "cell_type": "code",
   "execution_count": 3,
   "id": "9d2b5b3c",
   "metadata": {},
   "outputs": [
    {
     "name": "stdout",
     "output_type": "stream",
     "text": [
      "홍길동 님의 나이는 30 살입니다.\n"
     ]
    }
   ],
   "source": [
    "name = '홍길동'\n",
    "age = 30\n",
    "print(name, '님의 나이는', age, '살입니다.')\n",
    "# 변수와 텍스트를 번갈아 사용하여 가독성이 떨어진다.\n",
    "# 포맷팅 필요"
   ]
  },
  {
   "cell_type": "code",
   "execution_count": 7,
   "id": "ddeb67ba",
   "metadata": {},
   "outputs": [
    {
     "data": {
      "text/plain": [
       "'홍길동님의 나이는 30살입니다.'"
      ]
     },
     "execution_count": 7,
     "metadata": {},
     "output_type": "execute_result"
    }
   ],
   "source": [
    "# 이전 스타일\n",
    "# %s문자, %d:숫자(10진수 정수), %f:실수\n",
    "\"%s님의 나이는 %d살입니다.\"%(name, age)"
   ]
  },
  {
   "cell_type": "code",
   "execution_count": 6,
   "id": "3233ab6f",
   "metadata": {},
   "outputs": [
    {
     "data": {
      "text/plain": [
       "'홍길동님의 나이는 30살입니다.'"
      ]
     },
     "execution_count": 6,
     "metadata": {},
     "output_type": "execute_result"
    }
   ],
   "source": [
    "# 새로운 스타일\n",
    "\"{}님의 나이는 {}살입니다.\".format(name, age)"
   ]
  },
  {
   "cell_type": "code",
   "execution_count": 8,
   "id": "5261e6ca",
   "metadata": {},
   "outputs": [
    {
     "data": {
      "text/plain": [
       "'홍길동님의 나이는 30살입니다.'"
      ]
     },
     "execution_count": 8,
     "metadata": {},
     "output_type": "execute_result"
    }
   ],
   "source": [
    "\"{1}님의 나이는 {0}살입니다.\".format(age, name)"
   ]
  },
  {
   "cell_type": "markdown",
   "id": "e3412d30",
   "metadata": {},
   "source": [
    "## 4.2 format()함수 문법"
   ]
  },
  {
   "cell_type": "code",
   "execution_count": 10,
   "id": "12f6f7fa",
   "metadata": {},
   "outputs": [],
   "source": [
    "# \"{[인덱스]:[공백][정렬방법][자릿수][타입]}\".format(변수명, ...)                 "
   ]
  },
  {
   "cell_type": "code",
   "execution_count": null,
   "id": "9d42144f",
   "metadata": {},
   "outputs": [],
   "source": [
    "# 인덱스 : format함수안의 출력할 인수의 순서\n",
    "# 정렬방법 : '<' 기호 - 왼쪽 정렬, '<' 기호 - 오른쪽 정렬, '^' 기호 : 가운데 정렬\n",
    "# 자릿수 : 출력할 자릿수 지정. 변수보다 적은 자릿수가 지정되면 자릿수 무시\n",
    "# 타입 : d(10진수), o(8진수), x(16진수), b(3진수), f(실수), s(문자)"
   ]
  },
  {
   "cell_type": "code",
   "execution_count": 12,
   "id": "2ea9f25e",
   "metadata": {},
   "outputs": [
    {
     "name": "stdout",
     "output_type": "stream",
     "text": [
      "이름 입력 : 홍길동\n",
      "나이 입력 : 22\n",
      "22살 홍길동님은 22살이 참 좋은 나이라는 걸 알려나\n"
     ]
    }
   ],
   "source": [
    "name = input(\"이름 입력 : \")\n",
    "age = int(input(\"나이 입력 : \"))\n",
    "\n",
    "print(\"{1}살 {0}님은 {1}살이 참 좋은 나이라는 걸 알려나\".format(name, age)) # 인덱스를 입력안하면 자동으로 0,1,2 순으로 입력된다."
   ]
  },
  {
   "cell_type": "code",
   "execution_count": 16,
   "id": "88595a8d",
   "metadata": {},
   "outputs": [
    {
     "name": "stdout",
     "output_type": "stream",
     "text": [
      "출력 : [12345], [     12345], [12345]\n",
      "출력 : [Hello], [Hello     ], [Hello]\n"
     ]
    }
   ],
   "source": [
    "# 숫자의 경우 출력할 변수보다 큰 자릿수를 지정하면 기본적으로 오른쪽 정렬\n",
    "# 문자의 경우 출력할 변수보다 큰 자릿수를 지정하면 기본적으로 왼쪽 정렬\n",
    "# 변수보다 작은 자릿수를 지정하면 자릿수 지정이 무시되고 전부 출력된다.\n",
    "a = 12345\n",
    "s = 'Hello'\n",
    "\n",
    "print(\"출력 : [{0}], [{0: 10}], [{0:3}]\".format(a))\n",
    "print(\"출력 : [{0}], [{0:10}], [{0:3}]\".format(s))"
   ]
  },
  {
   "cell_type": "code",
   "execution_count": 20,
   "id": "92b333d7",
   "metadata": {},
   "outputs": [
    {
     "name": "stdout",
     "output_type": "stream",
     "text": [
      "출력 : [a     ], [    20], [  3   ]\n"
     ]
    }
   ],
   "source": [
    "# 정렬방법 : >, <, ^\n",
    "a, b, c = 10, 20, 3\n",
    "\n",
    "print(\"출력 : [{: <6x}], [{:>6d}], [{:^6d}]\".format(a, b, c))"
   ]
  },
  {
   "cell_type": "code",
   "execution_count": 24,
   "id": "2ebec8e1",
   "metadata": {},
   "outputs": [
    {
     "name": "stdout",
     "output_type": "stream",
     "text": [
      "출력 : [$$$$$$$$10], [Hello***************, [Hel_______]]\n"
     ]
    }
   ],
   "source": [
    "# \"인덱스 : 공백대체문자 정렬방법 자릿수 타입\".format()\n",
    "a = 10\n",
    "s = 'Hello'\n",
    "\n",
    "print(\"출력 : [{0:$>10}], [{1:*<20}, [{1:_<10.3}]]\".format(a, s))\n",
    "                                      # 10.3 전체 10자리 확보 변수 중 3자리만 출력"
   ]
  },
  {
   "cell_type": "code",
   "execution_count": 26,
   "id": "81b60d8d",
   "metadata": {},
   "outputs": [
    {
     "name": "stdout",
     "output_type": "stream",
     "text": [
      "$$$$10$$$$ / ***************Hello\n"
     ]
    }
   ],
   "source": [
    "# 공백대체문자를 지정할 때는 반드시 정렬방법을 표현해야 한다.\n",
    "# print(\"{:$10} / {:*20}\".format(a, s)) - 에러 발생\n",
    "print(\"{:$^10} / {:*>20}\".format(a, s))"
   ]
  },
  {
   "cell_type": "code",
   "execution_count": 34,
   "id": "ccbf89e1",
   "metadata": {},
   "outputs": [
    {
     "name": "stdout",
     "output_type": "stream",
     "text": [
      "출력 : [      -123], [      +123], [       123]\n",
      "출력 : [-      123], [       123], [       123]\n",
      "출력 : [-      123], [+      123], [       123]\n",
      "출력 : [-$$$$$$123], [+______123], [+★★★★★★123]\n"
     ]
    }
   ],
   "source": [
    "# 자릿수 앞에 '+'를 붙이면 부호를 붙여준다.\n",
    "# 자릿수 앞에 '='를 붙이면 부호가 자릿수의 맨 앞에 온다.\n",
    "# 자릿수 앞에 '=+'를 붙이면 부호가 자릿수 맨앞에 표시된다.\n",
    "# 자릿수 앞에 0을 채우면 빈자리에 0을 채운다.\n",
    "# 공백 대체문자는 '='앞에 입력한다.\n",
    "# 공백 대체문자와 자릿수 앞의 0을 중복해서 쓰면 자릿수 앞의 0은 무시된다.\n",
    "a, b = 123, -123\n",
    "\n",
    "print(\"출력 : [{:+10}], [{:+10}], [{:10}]\".format(b, a, a))\n",
    "print(\"출력 : [{:=10}], [{:=10}], [{:10}]\".format(b, a, a))\n",
    "print(\"출력 : [{:=10}], [{:=+10}], [{:10}]\".format(b, a, a))\n",
    "print(\"출력 : [{:$=10}], [{:_=+10}], [{:★=+010}]\".format(b, a, a))"
   ]
  }
 ],
 "metadata": {
  "kernelspec": {
   "display_name": "Python 3",
   "language": "python",
   "name": "python3"
  },
  "language_info": {
   "codemirror_mode": {
    "name": "ipython",
    "version": 3
   },
   "file_extension": ".py",
   "mimetype": "text/x-python",
   "name": "python",
   "nbconvert_exporter": "python",
   "pygments_lexer": "ipython3",
   "version": "3.8.8"
  },
  "toc": {
   "base_numbering": 1,
   "nav_menu": {},
   "number_sections": false,
   "sideBar": true,
   "skip_h1_title": false,
   "title_cell": "Table of Contents",
   "title_sidebar": "Contents",
   "toc_cell": false,
   "toc_position": {
    "height": "calc(100% - 180px)",
    "left": "10px",
    "top": "150px",
    "width": "247px"
   },
   "toc_section_display": true,
   "toc_window_display": true
  },
  "varInspector": {
   "cols": {
    "lenName": 16,
    "lenType": 16,
    "lenVar": 40
   },
   "kernels_config": {
    "python": {
     "delete_cmd_postfix": "",
     "delete_cmd_prefix": "del ",
     "library": "var_list.py",
     "varRefreshCmd": "print(var_dic_list())"
    },
    "r": {
     "delete_cmd_postfix": ") ",
     "delete_cmd_prefix": "rm(",
     "library": "var_list.r",
     "varRefreshCmd": "cat(var_dic_list()) "
    }
   },
   "position": {
    "height": "804px",
    "left": "1550px",
    "right": "20px",
    "top": "120px",
    "width": "350px"
   },
   "types_to_exclude": [
    "module",
    "function",
    "builtin_function_or_method",
    "instance",
    "_Feature"
   ],
   "window_display": true
  }
 },
 "nbformat": 4,
 "nbformat_minor": 5
}
