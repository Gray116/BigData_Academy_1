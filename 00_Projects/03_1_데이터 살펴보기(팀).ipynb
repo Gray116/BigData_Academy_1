{
 "cells": [
  {
   "cell_type": "code",
   "execution_count": 2,
   "id": "40258768",
   "metadata": {},
   "outputs": [
    {
     "data": {
      "text/html": [
       "\n",
       "<style>\n",
       "div.Container {width:85% !important;}\n",
       "div.CodeMirror {font-family:나눔고딕; font-size:13pt; line-height : 150%;}\n",
       "div.output_area pre {font-family:나눔고딕; font-size:13pt; line-height : 150%;}\n",
       "div.output_wrapper pre {font-family:나눔고딕; font-size:13pt; line-height : 150%;}\n",
       "div.input {font-family:나눔고딕; font-size:13pt; line-height : 150%;}\n",
       "</style>\n"
      ],
      "text/plain": [
       "<IPython.core.display.HTML object>"
      ]
     },
     "metadata": {},
     "output_type": "display_data"
    }
   ],
   "source": [
    "from IPython.display import display, HTML\n",
    "display(HTML(\"\"\"\n",
    "<style>\n",
    "div.Container {width:85% !important;}\n",
    "div.CodeMirror {font-family:나눔고딕; font-size:13pt; line-height : 150%;}\n",
    "div.output_area pre {font-family:나눔고딕; font-size:13pt; line-height : 150%;}\n",
    "div.output_wrapper pre {font-family:나눔고딕; font-size:13pt; line-height : 150%;}\n",
    "div.input {font-family:나눔고딕; font-size:13pt; line-height : 150%;}\n",
    "</style>\n",
    "\"\"\"))"
   ]
  },
  {
   "cell_type": "code",
   "execution_count": null,
   "id": "f25f360f",
   "metadata": {},
   "outputs": [],
   "source": [
    "import pandas as pd\n",
    "import numpy as np\n",
    "import matplotlib.pyplot as plt\n",
    "import seaborn as sns\n",
    "%matplotlib inline\n",
    "plt.rcParams['axes.unicode_minus'] = False"
   ]
  },
  {
   "cell_type": "code",
   "execution_count": null,
   "id": "73444571",
   "metadata": {},
   "outputs": [],
   "source": [
    "df1 = pd.read_csv('D:/Gray_Bigdata/src/00_Projects/data/Teams_data/england-premier-league-teams-2020-to-2021-stats.csv')\n",
    "df2 = pd.read_csv('D:/Gray_Bigdata/src/00_Projects/data/Teams_data/france-ligue-1-teams-2020-to-2021-stats.csv')\n",
    "df3 = pd.read_csv('D:/Gray_Bigdata/src/00_Projects/data/Teams_data/germany-bundesliga-teams-2020-to-2021-stats.csv')\n",
    "df4 = pd.read_csv('D:/Gray_Bigdata/src/00_Projects/data/Teams_data/italy-serie-a-teams-2020-to-2021-stats.csv')\n",
    "df5 = pd.read_csv('D:/Gray_Bigdata/src/00_Projects/data/Teams_data/spain-la-liga-teams-2020-to-2021-stats.csv')"
   ]
  },
  {
   "cell_type": "code",
   "execution_count": null,
   "id": "02c44eb3",
   "metadata": {},
   "outputs": [],
   "source": [
    "tot_df = pd.concat([df1, df2, df3, df4, df5])\n",
    "\n",
    "tot_df.tail(10)"
   ]
  },
  {
   "cell_type": "code",
   "execution_count": null,
   "id": "8dcc3f68",
   "metadata": {},
   "outputs": [],
   "source": [
    "tot_df.rename(columns={'team_name' : 'Full Name', 'common_name' : 'Short Name'}, inplace=True)\n",
    "\n",
    "tot_df.columns"
   ]
  },
  {
   "cell_type": "code",
   "execution_count": null,
   "id": "8d3d0068",
   "metadata": {},
   "outputs": [],
   "source": [
    "tot_df.drop(columns=['Full Name' ,'season'], inplace=True)"
   ]
  },
  {
   "cell_type": "code",
   "execution_count": null,
   "id": "3cfb83c3",
   "metadata": {},
   "outputs": [],
   "source": [
    "tot_df.sort_values(by='Short Name', inplace=True)"
   ]
  },
  {
   "cell_type": "code",
   "execution_count": null,
   "id": "c068b717",
   "metadata": {},
   "outputs": [],
   "source": [
    "tot_df = tot_df.reset_index(drop=True)\n",
    "\n",
    "tot_df.head(20)"
   ]
  },
  {
   "cell_type": "code",
   "execution_count": null,
   "id": "a5ab61f2",
   "metadata": {},
   "outputs": [],
   "source": [
    "tot_df.to_csv('D:/Gray_Bigdata/src/00_Projects/data/teams_stat.csv')"
   ]
  },
  {
   "cell_type": "code",
   "execution_count": null,
   "id": "21ab0991",
   "metadata": {},
   "outputs": [],
   "source": []
  },
  {
   "cell_type": "code",
   "execution_count": null,
   "id": "4de3e1e8",
   "metadata": {},
   "outputs": [],
   "source": []
  },
  {
   "cell_type": "code",
   "execution_count": null,
   "id": "d6a76e58",
   "metadata": {},
   "outputs": [],
   "source": []
  },
  {
   "cell_type": "code",
   "execution_count": null,
   "id": "15297616",
   "metadata": {},
   "outputs": [],
   "source": []
  },
  {
   "cell_type": "code",
   "execution_count": null,
   "id": "0a8b54e3",
   "metadata": {},
   "outputs": [],
   "source": []
  },
  {
   "cell_type": "code",
   "execution_count": null,
   "id": "3ada0536",
   "metadata": {},
   "outputs": [],
   "source": []
  },
  {
   "cell_type": "code",
   "execution_count": null,
   "id": "bd1343b6",
   "metadata": {},
   "outputs": [],
   "source": []
  },
  {
   "cell_type": "code",
   "execution_count": null,
   "id": "6887fc08",
   "metadata": {},
   "outputs": [],
   "source": []
  },
  {
   "cell_type": "code",
   "execution_count": null,
   "id": "788ca10e",
   "metadata": {},
   "outputs": [],
   "source": []
  }
 ],
 "metadata": {
  "kernelspec": {
   "display_name": "Python 3",
   "language": "python",
   "name": "python3"
  },
  "language_info": {
   "codemirror_mode": {
    "name": "ipython",
    "version": 3
   },
   "file_extension": ".py",
   "mimetype": "text/x-python",
   "name": "python",
   "nbconvert_exporter": "python",
   "pygments_lexer": "ipython3",
   "version": "3.8.8"
  },
  "toc": {
   "base_numbering": 1,
   "nav_menu": {},
   "number_sections": false,
   "sideBar": true,
   "skip_h1_title": false,
   "title_cell": "Table of Contents",
   "title_sidebar": "Contents",
   "toc_cell": false,
   "toc_position": {
    "height": "calc(100% - 180px)",
    "left": "10px",
    "top": "150px",
    "width": "248px"
   },
   "toc_section_display": true,
   "toc_window_display": true
  },
  "varInspector": {
   "cols": {
    "lenName": 16,
    "lenType": 16,
    "lenVar": 40
   },
   "kernels_config": {
    "python": {
     "delete_cmd_postfix": "",
     "delete_cmd_prefix": "del ",
     "library": "var_list.py",
     "varRefreshCmd": "print(var_dic_list())"
    },
    "r": {
     "delete_cmd_postfix": ") ",
     "delete_cmd_prefix": "rm(",
     "library": "var_list.r",
     "varRefreshCmd": "cat(var_dic_list()) "
    }
   },
   "types_to_exclude": [
    "module",
    "function",
    "builtin_function_or_method",
    "instance",
    "_Feature"
   ],
   "window_display": false
  }
 },
 "nbformat": 4,
 "nbformat_minor": 5
}
